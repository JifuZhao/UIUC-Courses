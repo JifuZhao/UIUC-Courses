{
 "cells": [
  {
   "cell_type": "code",
   "execution_count": 1,
   "metadata": {
    "collapsed": false
   },
   "outputs": [],
   "source": [
    "import warnings\n",
    "warnings.filterwarnings(\"ignore\")\n",
    "\n",
    "import numpy as np\n",
    "import matplotlib.pyplot as plt\n",
    "\n",
    "from helper import readFile\n",
    "from helper import oneHotEncoder\n",
    "from helper import showConfusionMarix\n",
    "from NeuralNetwork import NeuralNetwork\n",
    "\n",
    "%matplotlib inline"
   ]
  },
  {
   "cell_type": "markdown",
   "metadata": {},
   "source": [
    "### Load data and One-Hot-Encode"
   ]
  },
  {
   "cell_type": "code",
   "execution_count": 2,
   "metadata": {
    "collapsed": false
   },
   "outputs": [],
   "source": [
    "# read the data\n",
    "trainFeature, trainLabel = readFile('./data/train/lab/hw2train_labels.txt', './data/')\n",
    "devFeature, devLabel = readFile('./data/dev/lab/hw2dev_labels.txt', './data/')\n",
    "evalFeature, evalLabel = readFile('./data/eval/lab/hw2eval_labels.txt', './data/')\n",
    "\n",
    "# One-Hot-Encode for labels\n",
    "trainLabel = oneHotEncoder(trainLabel, 9)\n",
    "devLabel = oneHotEncoder(devLabel, 9)\n",
    "evalLabel = oneHotEncoder(evalLabel, 9)"
   ]
  },
  {
   "cell_type": "code",
   "execution_count": 3,
   "metadata": {
    "collapsed": false
   },
   "outputs": [
    {
     "name": "stdout",
     "output_type": "stream",
     "text": [
      "************************************************************\n",
      "Batch Size is:\t 50 \n",
      "\n"
     ]
    }
   ],
   "source": [
    "# Universial Hyper-parameters\n",
    "batchSize = 50\n",
    "show = False\n",
    "\n",
    "print('*' * 60)\n",
    "print('Batch Size is:\\t', batchSize, '\\n')"
   ]
  },
  {
   "cell_type": "markdown",
   "metadata": {},
   "source": [
    "### Relu non-linearity"
   ]
  },
  {
   "cell_type": "code",
   "execution_count": 4,
   "metadata": {
    "collapsed": false,
    "scrolled": false
   },
   "outputs": [
    {
     "name": "stdout",
     "output_type": "stream",
     "text": [
      "************************************************************\n",
      "********************  Hidden node is 10 ********************\n",
      "************************************************************\n",
      "Reach the maximum iteration\t 90.25 s\n",
      "Used time for one iteration (single batch): \t 0.00109 s\n",
      "At 113 th iteration, reach the maximum development accuracy\n",
      "Training Accuracy:\t 0.535177865613\n",
      "Development Accuracy:\t 0.441860465116\n",
      "Evaluation Accuracy:\t 0.39603960396\n",
      "************************************************************\n",
      "********************  Hidden node is 20 ********************\n",
      "************************************************************\n",
      "Reach the maximum iteration\t 97.31 s\n",
      "Used time for one iteration (single batch): \t 0.00123 s\n",
      "At 99 th iteration, reach the maximum development accuracy\n",
      "Training Accuracy:\t 0.621541501976\n",
      "Development Accuracy:\t 0.478796169631\n",
      "Evaluation Accuracy:\t 0.425742574257\n",
      "************************************************************\n",
      "********************  Hidden node is 30 ********************\n",
      "************************************************************\n",
      "Reach the maximum iteration\t 104.96 s\n",
      "Used time for one iteration (single batch): \t 0.00136 s\n",
      "At 172 th iteration, reach the maximum development accuracy\n",
      "Training Accuracy:\t 0.661462450593\n",
      "Development Accuracy:\t 0.455540355677\n",
      "Evaluation Accuracy:\t 0.426842684268\n",
      "************************************************************\n",
      "********************  Hidden node is 40 ********************\n",
      "************************************************************\n",
      "Reach the maximum iteration\t 111.6 s\n",
      "Used time for one iteration (single batch): \t 0.00148 s\n",
      "At 238 th iteration, reach the maximum development accuracy\n",
      "Training Accuracy:\t 0.625889328063\n",
      "Development Accuracy:\t 0.414500683995\n",
      "Evaluation Accuracy:\t 0.398239823982\n",
      "************************************************************\n",
      "********************  Hidden node is 50 ********************\n",
      "************************************************************\n",
      "Reach the maximum iteration\t 118.79 s\n",
      "Used time for one iteration (single batch): \t 0.0016 s\n",
      "At 160 th iteration, reach the maximum development accuracy\n",
      "Training Accuracy:\t 0.649209486166\n",
      "Development Accuracy:\t 0.443228454172\n",
      "Evaluation Accuracy:\t 0.411441144114\n",
      "\n",
      "\n"
     ]
    }
   ],
   "source": [
    "print('ReLU Function')\n",
    "hiddenNodeList = [10, 20, 30, 40, 50]\n",
    "learningRateList = [0.1, 0.09, 0.08, 0.08, 0.06]\n",
    "\n",
    "for i in range(5):\n",
    "    hidden = hiddenNodeList[i]\n",
    "    learningRate = learningRateList[i]\n",
    "    print('*' * 60)\n",
    "    print('*' * 20, ' Hidden node is', hidden, '*' * 20)\n",
    "    print('*' * 60)\n",
    "    \n",
    "    # create the Neural Network classifier\n",
    "    nn = NeuralNetwork(netSize=(hidden, hidden, 9), loss='relu', maxIter=500, \n",
    "                       batchSize=batchSize, learningRate=learningRate, CV=True)\n",
    "\n",
    "    # train the model\n",
    "    test = nn.train(trainFeature, trainLabel, devFeature, devLabel, showFreq=1000)\n",
    "    # get the accuracy\n",
    "    trainAcc, cvAcc, w = nn.getParams()\n",
    "    # get the accuracy information\n",
    "    index = np.argmax(cvAcc[50:]) + 50\n",
    "    wBest = w[index]\n",
    "    # get the evaluation accuracy\n",
    "    testAcc = nn.evaluate(evalFeature, evalLabel, wBest)\n",
    "    \n",
    "    print('At', index + 1, 'th iteration, reach the maximum development accuracy')\n",
    "    print('Training Accuracy:\\t', trainAcc[index])\n",
    "    print('Development Accuracy:\\t', cvAcc[index])\n",
    "    print('Evaluation Accuracy:\\t', testAcc)\n",
    "    \n",
    "    if show == True:\n",
    "        # plot the training accuracy\n",
    "        fig, ax = plt.subplots(figsize=(6, 4))\n",
    "        ax.plot(trainAcc, 'g', label='Training Accuracy')\n",
    "        ax.plot(cvAcc, 'r', label='Development Accuracy')\n",
    "        ax.set_title('Convergence curve with ReLU and ' + str(hidden) + ' hidden nodes')\n",
    "        ax.set_xlabel('Iteration')\n",
    "        ax.set_ylabel('Accuracy')\n",
    "        ax.legend(loc=4, fontsize=10)\n",
    "        ax.grid('on')\n",
    "        plt.show()\n",
    "        \n",
    "print('\\n')"
   ]
  },
  {
   "cell_type": "markdown",
   "metadata": {},
   "source": [
    "### Sigmoid non-linearity"
   ]
  },
  {
   "cell_type": "code",
   "execution_count": 5,
   "metadata": {
    "collapsed": false,
    "scrolled": false
   },
   "outputs": [
    {
     "name": "stdout",
     "output_type": "stream",
     "text": [
      "************************************************************\n",
      "********************  Hidden node is 10 ********************\n",
      "************************************************************\n",
      "Reach the maximum iteration\t 298.93 s\n",
      "Used time for one iteration (single batch): \t 0.00524 s\n",
      "At 100 th iteration, reach the maximum development accuracy\n",
      "Training Accuracy:\t 0.594861660079\n",
      "Development Accuracy:\t 0.452804377565\n",
      "Evaluation Accuracy:\t 0.426842684268\n",
      "************************************************************\n",
      "********************  Hidden node is 20 ********************\n",
      "************************************************************\n",
      "Reach the maximum iteration\t 324.65 s\n",
      "Used time for one iteration (single batch): \t 0.00576 s\n",
      "At 132 th iteration, reach the maximum development accuracy\n",
      "Training Accuracy:\t 0.728458498024\n",
      "Development Accuracy:\t 0.492476060192\n",
      "Evaluation Accuracy:\t 0.453245324532\n",
      "************************************************************\n",
      "********************  Hidden node is 30 ********************\n",
      "************************************************************\n",
      "Reach the maximum iteration\t 338.15 s\n",
      "Used time for one iteration (single batch): \t 0.0059 s\n",
      "At 133 th iteration, reach the maximum development accuracy\n",
      "Training Accuracy:\t 0.783596837945\n",
      "Development Accuracy:\t 0.510259917921\n",
      "Evaluation Accuracy:\t 0.443344334433\n",
      "************************************************************\n",
      "********************  Hidden node is 40 ********************\n",
      "************************************************************\n",
      "Reach the maximum iteration\t 358.84 s\n",
      "Used time for one iteration (single batch): \t 0.0062 s\n",
      "At 75 th iteration, reach the maximum development accuracy\n",
      "Training Accuracy:\t 0.701581027668\n",
      "Development Accuracy:\t 0.517099863201\n",
      "Evaluation Accuracy:\t 0.449944994499\n",
      "************************************************************\n",
      "********************  Hidden node is 50 ********************\n",
      "************************************************************\n",
      "Reach the maximum iteration\t 404.06 s\n",
      "Used time for one iteration (single batch): \t 0.00697 s\n",
      "At 137 th iteration, reach the maximum development accuracy\n",
      "Training Accuracy:\t 0.86837944664\n",
      "Development Accuracy:\t 0.49658002736\n",
      "Evaluation Accuracy:\t 0.448844884488\n",
      "\n",
      "\n"
     ]
    }
   ],
   "source": [
    "print('Sigmoid Function')\n",
    "hiddenNodeList = [10, 20, 30, 40, 50]\n",
    "learningRateList = [0.3, 0.3, 0.3, 0.3, 0.3]\n",
    "\n",
    "for i in range(5):\n",
    "    hidden = hiddenNodeList[i]\n",
    "    learningRate = learningRateList[i]\n",
    "    print('*' * 60)\n",
    "    print('*' * 20, ' Hidden node is', hidden, '*' * 20)\n",
    "    print('*' * 60)\n",
    "    \n",
    "    # create the Neural Network classifier\n",
    "    nn = NeuralNetwork(netSize=(hidden, hidden, 9), loss='sigmoid', maxIter=500, \n",
    "                       batchSize=batchSize, learningRate=learningRate, CV=True)\n",
    "\n",
    "    # train the model\n",
    "    test = nn.train(trainFeature, trainLabel, devFeature, devLabel, showFreq=1000)\n",
    "    # get the accuracy\n",
    "    trainAcc, cvAcc, w = nn.getParams()\n",
    "    # get the accuracy information\n",
    "    index = np.argmax(cvAcc[50:]) + 50\n",
    "    wBest = w[index]\n",
    "    # get the evaluation accuracy\n",
    "    testAcc = nn.evaluate(evalFeature, evalLabel, wBest)\n",
    "    \n",
    "    print('At', index + 1, 'th iteration, reach the maximum development accuracy')\n",
    "    print('Training Accuracy:\\t', trainAcc[index])\n",
    "    print('Development Accuracy:\\t', cvAcc[index])\n",
    "    print('Evaluation Accuracy:\\t', testAcc)\n",
    "    \n",
    "    if show == True:\n",
    "        # plot the training accuracy\n",
    "        fig, ax = plt.subplots(figsize=(6, 4))\n",
    "        ax.plot(trainAcc, 'g', label='Training Accuracy')\n",
    "        ax.plot(cvAcc, 'r', label='Development Accuracy')\n",
    "        ax.set_title('Convergence curve with Sigmoid and ' + str(hidden) + ' hidden nodes')\n",
    "        ax.set_xlabel('Iteration')\n",
    "        ax.set_ylabel('Accuracy')\n",
    "        ax.legend(loc=4, fontsize=10)\n",
    "        ax.grid('on')\n",
    "        plt.show()\n",
    "        \n",
    "print('\\n')"
   ]
  },
  {
   "cell_type": "markdown",
   "metadata": {},
   "source": [
    "### Tanh non-linearity"
   ]
  },
  {
   "cell_type": "code",
   "execution_count": 6,
   "metadata": {
    "collapsed": false,
    "scrolled": false
   },
   "outputs": [
    {
     "name": "stdout",
     "output_type": "stream",
     "text": [
      "************************************************************\n",
      "********************  Hidden node is 10 ********************\n",
      "************************************************************\n",
      "Reach the maximum iteration\t 446.39 s\n",
      "Used time for one iteration (single batch): \t 0.00798 s\n",
      "At 467 th iteration, reach the maximum development accuracy\n",
      "Training Accuracy:\t 0.674308300395\n",
      "Development Accuracy:\t 0.466484268126\n",
      "Evaluation Accuracy:\t 0.430143014301\n",
      "************************************************************\n",
      "********************  Hidden node is 20 ********************\n",
      "************************************************************\n",
      "Reach the maximum iteration\t 330.62 s\n",
      "Used time for one iteration (single batch): \t 0.00583 s\n",
      "At 207 th iteration, reach the maximum development accuracy\n",
      "Training Accuracy:\t 0.657312252964\n",
      "Development Accuracy:\t 0.49658002736\n",
      "Evaluation Accuracy:\t 0.447744774477\n",
      "************************************************************\n",
      "********************  Hidden node is 30 ********************\n",
      "************************************************************\n",
      "Reach the maximum iteration\t 349.71 s\n",
      "Used time for one iteration (single batch): \t 0.0061 s\n",
      "At 196 th iteration, reach the maximum development accuracy\n",
      "Training Accuracy:\t 0.719960474308\n",
      "Development Accuracy:\t 0.485636114911\n",
      "Evaluation Accuracy:\t 0.467546754675\n",
      "************************************************************\n",
      "********************  Hidden node is 40 ********************\n",
      "************************************************************\n",
      "Reach the maximum iteration\t 360.15 s\n",
      "Used time for one iteration (single batch): \t 0.00623 s\n",
      "At 199 th iteration, reach the maximum development accuracy\n",
      "Training Accuracy:\t 0.758300395257\n",
      "Development Accuracy:\t 0.485636114911\n",
      "Evaluation Accuracy:\t 0.422442244224\n",
      "************************************************************\n",
      "********************  Hidden node is 50 ********************\n",
      "************************************************************\n",
      "Reach the maximum iteration\t 394.54 s\n",
      "Used time for one iteration (single batch): \t 0.00675 s\n",
      "At 183 th iteration, reach the maximum development accuracy\n",
      "Training Accuracy:\t 0.765612648221\n",
      "Development Accuracy:\t 0.493844049248\n",
      "Evaluation Accuracy:\t 0.441144114411\n",
      "\n",
      "\n"
     ]
    }
   ],
   "source": [
    "print('Tahh Function')\n",
    "hiddenNodeList = [10, 20, 30, 40, 50]\n",
    "learningRateList = [0.3, 0.3, 0.3, 0.3, 0.3]\n",
    "\n",
    "for i in range(5):\n",
    "    hidden = hiddenNodeList[i]\n",
    "    learningRate = learningRateList[i]\n",
    "    print('*' * 60)\n",
    "    print('*' * 20, ' Hidden node is', hidden, '*' * 20)\n",
    "    print('*' * 60)\n",
    "\n",
    "    # create the Neural Network classifier\n",
    "    nn = NeuralNetwork(netSize=(hidden, hidden, 9), loss='tanh', maxIter=500, \n",
    "                       batchSize=batchSize, learningRate=learningRate, CV=True)\n",
    "\n",
    "    # train the model\n",
    "    test = nn.train(trainFeature, trainLabel, devFeature, devLabel, showFreq=1000)\n",
    "    # get the accuracy\n",
    "    trainAcc, cvAcc, w = nn.getParams()\n",
    "    # get the accuracy information\n",
    "    index = np.argmax(cvAcc[50:]) + 50\n",
    "    wBest = w[index]\n",
    "    # get the evaluation accuracy\n",
    "    testAcc = nn.evaluate(evalFeature, evalLabel, wBest)\n",
    "    \n",
    "    print('At', index + 1, 'th iteration, reach the maximum development accuracy')\n",
    "    print('Training Accuracy:\\t', trainAcc[index])\n",
    "    print('Development Accuracy:\\t', cvAcc[index])\n",
    "    print('Evaluation Accuracy:\\t', testAcc)\n",
    "    \n",
    "    if show == True:\n",
    "        # plot the training accuracy\n",
    "        fig, ax = plt.subplots(figsize=(6, 4))\n",
    "        ax.plot(trainAcc, 'g', label='Training Accuracy')\n",
    "        ax.plot(cvAcc, 'r', label='Development Accuracy')\n",
    "        ax.set_title('Convergence curve with Tanh and ' + str(hidden) + ' hidden nodes')\n",
    "        ax.set_xlabel('Iteration')\n",
    "        ax.set_ylabel('Accuracy')\n",
    "        ax.legend(loc=4, fontsize=10)\n",
    "        ax.grid('on')\n",
    "        plt.show()\n",
    "        \n",
    "print('\\n')"
   ]
  },
  {
   "cell_type": "markdown",
   "metadata": {},
   "source": [
    "### Best Model\n",
    "\n",
    "* Sigmoid activation function\n",
    "* 50 hidden nodes\n",
    "* 0.3 learning rate\n",
    "* 50 batch size"
   ]
  },
  {
   "cell_type": "code",
   "execution_count": 7,
   "metadata": {
    "collapsed": false
   },
   "outputs": [
    {
     "name": "stdout",
     "output_type": "stream",
     "text": [
      "Reach the maximum iteration\t 237.64 s\n",
      "Used time for one iteration (single batch): \t 0.00402 s\n",
      "At 175 th iteration, reach the maximum development accuracy\n",
      "Training Accuracy:\t 0.910671936759\n",
      "Development Accuracy:\t 0.507523939808\n",
      "Evaluation Accuracy:\t 0.41804180418\n",
      "\n",
      "\n"
     ]
    }
   ],
   "source": [
    "# create the Neural Network classifier\n",
    "nn = NeuralNetwork(netSize=(50, 50, 9), loss='sigmoid', maxIter=500, \n",
    "                   batchSize=50, learningRate=0.3, CV=True)\n",
    "\n",
    "# train the model\n",
    "test = nn.train(trainFeature, trainLabel, devFeature, devLabel, showFreq=1000)\n",
    "# get the accuracy\n",
    "trainAcc, cvAcc, w = nn.getParams()\n",
    "# get the accuracy information\n",
    "index = np.argmax(cvAcc[50:]) + 50\n",
    "wBest = w[index]\n",
    "# get the evaluation accuracy\n",
    "testAcc = nn.evaluate(evalFeature, evalLabel, wBest)\n",
    "\n",
    "print('At', index + 1, 'th iteration, reach the maximum development accuracy')\n",
    "print('Training Accuracy:\\t', trainAcc[index])\n",
    "print('Development Accuracy:\\t', cvAcc[index])\n",
    "print('Evaluation Accuracy:\\t', testAcc)\n",
    "\n",
    "if show == True:\n",
    "    # plot the training accuracy\n",
    "    fig, ax = plt.subplots(figsize=(6, 4))\n",
    "    ax.plot(trainAcc, 'g', label='Training Accuracy')\n",
    "    ax.plot(cvAcc, 'r', label='Development Accuracy')\n",
    "    ax.set_title('Convergence curve with Sigmoid and ' + str(hidden) + ' hidden nodes')\n",
    "    ax.set_xlabel('Iteration')\n",
    "    ax.set_ylabel('Accuracy')\n",
    "    ax.legend(loc=4, fontsize=10)\n",
    "    ax.grid('on')\n",
    "    plt.show()\n",
    "        \n",
    "print('\\n')"
   ]
  },
  {
   "cell_type": "code",
   "execution_count": 8,
   "metadata": {
    "collapsed": false
   },
   "outputs": [
    {
     "data": {
      "image/png": "[encoded data removed]",
      "text/plain": [
       "<matplotlib.figure.Figure at 0x7f572663e390>"
      ]
     },
     "metadata": {},
     "output_type": "display_data"
    },
    {
     "data": {
      "image/png": "[encoded data removed]",
      "text/plain": [
       "<matplotlib.figure.Figure at 0x7f57255b92e8>"
      ]
     },
     "metadata": {},
     "output_type": "display_data"
    }
   ],
   "source": [
    "# get the train label and predction\n",
    "trainPredict = oneHotEncoder(np.array([nn.predict(trainFeature, wBest)]).T, 9)\n",
    "trainMatrix = np.dot(trainLabel.T, trainPredict)\n",
    "\n",
    "# get the test label and predction\n",
    "testPredict = oneHotEncoder(np.array([nn.predict(evalFeature, wBest)]).T, 9)\n",
    "testMatrix = np.dot(evalLabel.T, testPredict)\n",
    "\n",
    "# plot the confusion matrix\n",
    "fig1 = showConfusionMarix(trainMatrix, title='Training Set Confusion Matrix', \n",
    "                          label=[str(i) for i in range(1, 10)])\n",
    "fig1.savefig('./result/trainMatrix.pdf')\n",
    "\n",
    "fig2 = showConfusionMarix(testMatrix, title='Test Set Confusion Matrix', \n",
    "                          label=[str(i) for i in range(1, 10)])\n",
    "fig2.savefig('./result/testMatrix.pdf')"
   ]
  }
 ],
 "metadata": {
  "anaconda-cloud": {},
  "kernelspec": {
   "display_name": "Python [conda env:tensorflow]",
   "language": "python",
   "name": "conda-env-tensorflow-py"
  },
  "language_info": {
   "codemirror_mode": {
    "name": "ipython",
    "version": 3
   },
   "file_extension": ".py",
   "mimetype": "text/x-python",
   "name": "python",
   "nbconvert_exporter": "python",
   "pygments_lexer": "ipython3",
   "version": "3.5.2"
  }
 },
 "nbformat": 4,
 "nbformat_minor": 0
}
