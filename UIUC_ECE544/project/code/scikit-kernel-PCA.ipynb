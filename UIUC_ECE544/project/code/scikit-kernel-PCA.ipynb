{
 "cells": [
  {
   "cell_type": "code",
   "execution_count": 1,
   "metadata": {
    "collapsed": false
   },
   "outputs": [],
   "source": [
    "import warnings\n",
    "warnings.simplefilter('ignore')\n",
    "\n",
    "import numpy as np\n",
    "import matplotlib.pyplot as plt\n",
    "import tflearn\n",
    "import tensorflow as tf\n",
    "import gc\n",
    "\n",
    "from sklearn.decomposition import PCA\n",
    "from sklearn.decomposition import KernelPCA\n",
    "\n",
    "%matplotlib inline"
   ]
  },
  {
   "cell_type": "code",
   "execution_count": 2,
   "metadata": {
    "collapsed": false
   },
   "outputs": [
    {
     "name": "stdout",
     "output_type": "stream",
     "text": [
      "Extracting ./data/train-images-idx3-ubyte.gz\n",
      "Extracting ./data/train-labels-idx1-ubyte.gz\n",
      "Extracting ./data/t10k-images-idx3-ubyte.gz\n",
      "Extracting ./data/t10k-labels-idx1-ubyte.gz\n"
     ]
    }
   ],
   "source": [
    "# Data loading and preprocessing\n",
    "from tensorflow.examples.tutorials.mnist import input_data\n",
    "mnist = input_data.read_data_sets('./data/', one_hot=True)\n",
    "\n",
    "# get detailed data\n",
    "train_img = mnist.train.images\n",
    "train_label = mnist.train.labels\n",
    "\n",
    "cv_img = mnist.validation.images\n",
    "cv_label = mnist.validation.labels\n",
    "\n",
    "test_img = mnist.test.images\n",
    "test_label = mnist.test.labels"
   ]
  },
  {
   "cell_type": "markdown",
   "metadata": {},
   "source": [
    "# Build the kernel PCA model"
   ]
  },
  {
   "cell_type": "code",
   "execution_count": 3,
   "metadata": {
    "collapsed": false
   },
   "outputs": [
    {
     "name": "stdout",
     "output_type": "stream",
     "text": [
      "Finish Polynomial degree: 2 !\n",
      "Finish Polynomial degree: 3 !\n",
      "Finish Polynomial degree: 4 !\n",
      "Finish Polynomial degree: 5 !\n",
      "Finish Polynomial degree: 6 !\n",
      "Finish Polynomial degree: 7 !\n",
      "Finish Polynomial degree: 8 !\n",
      "Finish Polynomial degree: 9 !\n",
      "Finish Polynomial degree: 10 !\n"
     ]
    }
   ],
   "source": [
    "for degree in [2, 3, 4, 5, 6, 7, 8, 9, 10]:\n",
    "    kpca = KernelPCA(kernel='poly', degree=degree, n_jobs=6)\n",
    "    kpca.fit(train_img[:20000, :])\n",
    "\n",
    "    train_kpca = kpca.transform(train_img)\n",
    "    cv_kpca = kpca.transform(cv_img)\n",
    "    test_kpca = kpca.transform(test_img)\n",
    "    \n",
    "    train_path = '/media/jifu/F268088F680854AF/ECE544_Data/train_kpca' + str(degree) + '.npy'\n",
    "    cv_path = '/media/jifu/F268088F680854AF/ECE544_Data/cv_kpca' + str(degree) + '.npy'\n",
    "    test_path = '/media/jifu/F268088F680854AF/ECE544_Data/test_kpca' + str(degree) + '.npy'\n",
    "    \n",
    "    np.save(train_path, train_kpca)\n",
    "    np.save(cv_path, cv_kpca)\n",
    "    np.save(test_path, test_kpca)\n",
    "    \n",
    "    print('Finish Polynomial degree: ' + str(degree) + ' !')\n",
    "    \n",
    "    del [train_kpca, test_kpca]\n",
    "    gc.collect()"
   ]
  },
  {
   "cell_type": "code",
   "execution_count": null,
   "metadata": {
    "collapsed": true
   },
   "outputs": [],
   "source": []
  }
 ],
 "metadata": {
  "anaconda-cloud": {},
  "kernelspec": {
   "display_name": "Python [conda env:tensorflow]",
   "language": "python",
   "name": "conda-env-tensorflow-py"
  },
  "language_info": {
   "codemirror_mode": {
    "name": "ipython",
    "version": 3
   },
   "file_extension": ".py",
   "mimetype": "text/x-python",
   "name": "python",
   "nbconvert_exporter": "python",
   "pygments_lexer": "ipython3",
   "version": "3.5.2"
  }
 },
 "nbformat": 4,
 "nbformat_minor": 1
}
