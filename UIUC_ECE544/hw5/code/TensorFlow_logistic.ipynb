{
 "cells": [
  {
   "cell_type": "code",
   "execution_count": null,
   "metadata": {
    "collapsed": false
   },
   "outputs": [],
   "source": [
    "import warnings\n",
    "warnings.simplefilter('ignore')\n",
    "\n",
    "import numpy as np\n",
    "import matplotlib.pyplot as plt\n",
    "import tensorflow as tf\n",
    "from RNN import RNN\n",
    "\n",
    "%matplotlib inline\n",
    "\n",
    "# load the MNIST dataset\n",
    "from tensorflow.examples.tutorials.mnist import input_data\n",
    "mnist = input_data.read_data_sets(\"data/\", one_hot=True)"
   ]
  },
  {
   "cell_type": "markdown",
   "metadata": {
    "collapsed": true
   },
   "source": [
    "# Part I. Vinalla RNN with Sequence of Pixels"
   ]
  },
  {
   "cell_type": "code",
   "execution_count": null,
   "metadata": {
    "collapsed": false
   },
   "outputs": [],
   "source": [
    "# define parameters\n",
    "category = 'basicRNN'\n",
    "learning_rate = 0.001\n",
    "max_iters = 1000\n",
    "batch_size = 128\n",
    "n_input = 1\n",
    "n_steps = 784\n",
    "n_hidden = 100\n",
    "n_classes = 10\n",
    "regression = 'logistic'\n",
    "\n",
    "# build the model\n",
    "model = RNN(category, learning_rate, max_iters, batch_size, \n",
    "            n_input, n_steps, n_hidden, n_classes, regression)\n",
    "\n",
    "# begin training\n",
    "model.train(mnist, order='C', frequence=10, size=None, show_frequence=50)\n",
    "\n",
    "# get training accuracy and testing accuracy\n",
    "model1_train_acc, model1_test_acc = model.get_params()\n",
    "\n",
    "# plot the training and testing curve\n",
    "fig, ax = plt.subplots()\n",
    "ax.plot(range(1, len(model1_train_acc)+1), model1_train_acc, 'g-', label='Training Acc')\n",
    "ax.plot(range(1, len(model1_test_acc)+1), model1_test_acc, 'r-', label='Testing Acc')\n",
    "ax.legend(loc='best', fontsize=10)\n",
    "plt.show()"
   ]
  },
  {
   "cell_type": "markdown",
   "metadata": {},
   "source": [
    "# Part II. LSTM with Sequence of Pixels"
   ]
  },
  {
   "cell_type": "code",
   "execution_count": null,
   "metadata": {
    "collapsed": false
   },
   "outputs": [],
   "source": [
    "# define parameters\n",
    "category = 'LSTM'\n",
    "learning_rate = 0.001\n",
    "max_iters = 1000\n",
    "batch_size = 128\n",
    "n_input = 1\n",
    "n_steps = 784\n",
    "n_hidden = 100\n",
    "n_classes = 10\n",
    "regression = 'logistic'\n",
    "\n",
    "# build the model\n",
    "model = RNN(category, learning_rate, max_iters, batch_size, \n",
    "            n_input, n_steps, n_hidden, n_classes, regression)\n",
    "\n",
    "# begin training\n",
    "model.train(mnist, order='C', frequence=10, size=None, show_frequence=50)\n",
    "\n",
    "# get training accuracy and testing accuracy\n",
    "model2_train_acc, model2_test_acc = model.get_params()\n",
    "\n",
    "# plot the training and testing curve\n",
    "fig, ax = plt.subplots()\n",
    "ax.plot(range(1, len(model1_train_acc)+1), model2_train_acc, 'g-', label='Training Acc')\n",
    "ax.plot(range(1, len(model1_test_acc)+1), model2_test_acc, 'r-', label='Testing Acc')\n",
    "ax.legend(loc='best', fontsize=10)\n",
    "plt.show()"
   ]
  },
  {
   "cell_type": "markdown",
   "metadata": {},
   "source": [
    "# Part III. Vinalla RNN with Sequence of Columns"
   ]
  },
  {
   "cell_type": "code",
   "execution_count": null,
   "metadata": {
    "collapsed": false
   },
   "outputs": [],
   "source": [
    "# define parameters\n",
    "# 28 steps, inputs is 28 column vector\n",
    "category = 'basicRNN'\n",
    "learning_rate = 0.001\n",
    "max_iters = 1000\n",
    "batch_size = 128\n",
    "n_input = 28\n",
    "n_steps = 28\n",
    "n_hidden = 100\n",
    "n_classes = 10\n",
    "regression = 'logistic'\n",
    "\n",
    "# build the model\n",
    "model = RNN(category, learning_rate, max_iters, batch_size, \n",
    "            n_input, n_steps, n_hidden, n_classes, regression)\n",
    "\n",
    "# begin training\n",
    "model.train(mnist, order='F', frequence=10, size=None, show_frequence=50)\n",
    "\n",
    "# get training accuracy and testing accuracy\n",
    "model1_train_acc, model1_test_acc = model.get_params()\n",
    "\n",
    "# plot the training and testing curve\n",
    "fig, ax = plt.subplots()\n",
    "ax.plot(range(1, len(model1_train_acc)+1), model1_train_acc, 'g-', label='Training Acc')\n",
    "ax.plot(range(1, len(model1_test_acc)+1), model1_test_acc, 'r-', label='Testing Acc')\n",
    "ax.legend(loc='best', fontsize=10)\n",
    "plt.show()"
   ]
  },
  {
   "cell_type": "markdown",
   "metadata": {},
   "source": [
    "# Part IV. LSTM with Sequence of Columns"
   ]
  },
  {
   "cell_type": "code",
   "execution_count": null,
   "metadata": {
    "collapsed": false
   },
   "outputs": [],
   "source": [
    "# define parameters \n",
    "# 28 steps, inputs is 28 column vector\n",
    "category = 'LSTM'\n",
    "learning_rate = 0.001\n",
    "max_iters = 1000\n",
    "batch_size = 128\n",
    "n_input = 28\n",
    "n_steps = 28\n",
    "n_hidden = 100\n",
    "n_classes = 10\n",
    "regression = 'logistic'\n",
    "\n",
    "# build the model\n",
    "model = RNN(category, learning_rate, max_iters, batch_size, \n",
    "            n_input, n_steps, n_hidden, n_classes, regression)\n",
    "\n",
    "# begin training\n",
    "model.train(mnist, order='F', frequence=10, size=None, show_frequence=50)\n",
    "\n",
    "# get training accuracy and testing accuracy\n",
    "model2_train_acc, model2_test_acc = model.get_params()\n",
    "\n",
    "# plot the training and testing curve\n",
    "fig, ax = plt.subplots()\n",
    "ax.plot(range(1, len(model1_train_acc)+1), model2_train_acc, 'g-', label='Training Acc')\n",
    "ax.plot(range(1, len(model1_test_acc)+1), model2_test_acc, 'r-', label='Testing Acc')\n",
    "ax.legend(loc='best', fontsize=10)\n",
    "plt.show()"
   ]
  },
  {
   "cell_type": "code",
   "execution_count": null,
   "metadata": {
    "collapsed": true
   },
   "outputs": [],
   "source": []
  }
 ],
 "metadata": {
  "anaconda-cloud": {},
  "kernelspec": {
   "display_name": "Python [conda env:tensorflow]",
   "language": "python",
   "name": "conda-env-tensorflow-py"
  },
  "language_info": {
   "codemirror_mode": {
    "name": "ipython",
    "version": 3
   },
   "file_extension": ".py",
   "mimetype": "text/x-python",
   "name": "python",
   "nbconvert_exporter": "python",
   "pygments_lexer": "ipython3",
   "version": "3.5.2"
  }
 },
 "nbformat": 4,
 "nbformat_minor": 1
}
