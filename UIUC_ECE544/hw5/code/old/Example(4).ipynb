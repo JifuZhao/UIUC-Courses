{
 "cells": [
  {
   "cell_type": "markdown",
   "metadata": {},
   "source": [
    "# Basic RNN cell"
   ]
  },
  {
   "cell_type": "code",
   "execution_count": 1,
   "metadata": {
    "collapsed": false
   },
   "outputs": [
    {
     "name": "stdout",
     "output_type": "stream",
     "text": [
      "Extracting data/train-images-idx3-ubyte.gz\n",
      "Extracting data/train-labels-idx1-ubyte.gz\n",
      "Extracting data/t10k-images-idx3-ubyte.gz\n",
      "Extracting data/t10k-labels-idx1-ubyte.gz\n"
     ]
    }
   ],
   "source": [
    "'''\n",
    "A Recurrent Neural Network (LSTM) implementation example using TensorFlow library.\n",
    "This example is using the MNIST database of handwritten digits (http://yann.lecun.com/exdb/mnist/)\n",
    "Long Short Term Memory paper: http://deeplearning.cs.cmu.edu/pdfs/Hochreiter97_lstm.pdf\n",
    "Author: Aymeric Damien\n",
    "Project: https://github.com/aymericdamien/TensorFlow-Examples/\n",
    "'''\n",
    "\n",
    "from __future__ import print_function\n",
    "\n",
    "import tensorflow as tf\n",
    "from tensorflow.python.ops import rnn, rnn_cell\n",
    "import numpy as np\n",
    "\n",
    "# Import MNIST data\n",
    "from tensorflow.examples.tutorials.mnist import input_data\n",
    "mnist = input_data.read_data_sets(\"data/\", one_hot=True)"
   ]
  },
  {
   "cell_type": "code",
   "execution_count": 2,
   "metadata": {
    "collapsed": false,
    "scrolled": false
   },
   "outputs": [
    {
     "name": "stdout",
     "output_type": "stream",
     "text": [
      "Iter 10, Training Accuracy= 0.04688\n",
      "Iter 20, Training Accuracy= 0.10938\n",
      "Iter 30, Training Accuracy= 0.11719\n",
      "Iter 40, Training Accuracy= 0.08594\n",
      "Iter 50, Training Accuracy= 0.10938\n",
      "Iter 60, Training Accuracy= 0.07812\n",
      "Iter 70, Training Accuracy= 0.10938\n",
      "Iter 80, Training Accuracy= 0.09375\n",
      "Iter 90, Training Accuracy= 0.10156\n",
      "Iter 100, Training Accuracy= 0.14062\n",
      "Iter 110, Training Accuracy= 0.09375\n",
      "Iter 120, Training Accuracy= 0.07812\n",
      "Iter 130, Training Accuracy= 0.14844\n",
      "Iter 140, Training Accuracy= 0.05469\n",
      "Iter 150, Training Accuracy= 0.09375\n",
      "Iter 160, Training Accuracy= 0.14844\n",
      "Iter 170, Training Accuracy= 0.10938\n",
      "Iter 180, Training Accuracy= 0.14844\n",
      "Iter 190, Training Accuracy= 0.08594\n",
      "Iter 200, Training Accuracy= 0.08594\n",
      "Iter 210, Training Accuracy= 0.10156\n",
      "Iter 220, Training Accuracy= 0.07031\n",
      "Iter 230, Training Accuracy= 0.10156\n",
      "Iter 240, Training Accuracy= 0.10938\n",
      "Iter 250, Training Accuracy= 0.07031\n",
      "Iter 260, Training Accuracy= 0.15625\n",
      "Iter 270, Training Accuracy= 0.14844\n",
      "Iter 280, Training Accuracy= 0.12500\n",
      "Iter 290, Training Accuracy= 0.10938\n",
      "Iter 300, Training Accuracy= 0.11719\n",
      "Iter 310, Training Accuracy= 0.10938\n",
      "Iter 320, Training Accuracy= 0.10938\n",
      "Iter 330, Training Accuracy= 0.11719\n",
      "Iter 340, Training Accuracy= 0.07812\n",
      "Iter 350, Training Accuracy= 0.11719\n",
      "Iter 360, Training Accuracy= 0.14844\n",
      "Iter 370, Training Accuracy= 0.10938\n",
      "Iter 380, Training Accuracy= 0.12500\n",
      "Iter 390, Training Accuracy= 0.11719\n",
      "Optimization Finished!\n",
      "Testing Accuracy: 0.1012\n"
     ]
    }
   ],
   "source": [
    "'''\n",
    "To classify images using a recurrent neural network, we consider every image\n",
    "row as a sequence of pixels. Because MNIST image shape is 28*28px, we will then\n",
    "handle 28 sequences of 28 steps for every sample.\n",
    "'''\n",
    "\n",
    "# Parameters\n",
    "learning_rate = 0.001\n",
    "training_iters = 50000\n",
    "batch_size = 128\n",
    "display_step = 10\n",
    "\n",
    "# Network Parameters\n",
    "n_input = 1 # MNIST data input (img shape: 28*28)\n",
    "n_steps = 784 # timesteps\n",
    "n_hidden = 100 # hidden layer num of features\n",
    "n_classes = 10 # MNIST total classes (0-9 digits)\n",
    "\n",
    "# tf Graph input\n",
    "x = tf.placeholder(\"float\", [None, n_steps, n_input])\n",
    "y = tf.placeholder(\"float\", [None, n_classes])\n",
    "\n",
    "# Define weights\n",
    "weights = tf.Variable(tf.random_normal([n_hidden, n_classes]))\n",
    "biases = tf.Variable(tf.random_normal([n_classes]))\n",
    "\n",
    "# Permuting batch_size and n_steps\n",
    "tmp_x = tf.transpose(x, [1, 0, 2])\n",
    "# Reshaping to (n_steps*batch_size, n_input)\n",
    "tmp_x = tf.reshape(tmp_x, [-1, n_input])\n",
    "# Split to get a list of 'n_steps' tensors of shape (batch_size, n_input)\n",
    "tmp_x = tf.split(0, n_steps, tmp_x)\n",
    "\n",
    "# Define a lstm cell with tensorflow\n",
    "lstm_cell = rnn_cell.BasicRNNCell(n_hidden)\n",
    "\n",
    "# Get lstm cell output\n",
    "outputs, states = rnn.rnn(lstm_cell, tmp_x, dtype=tf.float32)\n",
    "pred = tf.matmul(outputs[-1], weights) + biases\n",
    "\n",
    "# Define loss and optimizer\n",
    "cost = tf.reduce_mean(tf.nn.softmax_cross_entropy_with_logits(pred, y))\n",
    "optimizer = tf.train.AdamOptimizer(learning_rate=learning_rate).minimize(cost)\n",
    "\n",
    "# Evaluate model\n",
    "correct_pred = tf.equal(tf.argmax(pred,1), tf.argmax(y,1))\n",
    "accuracy = tf.reduce_mean(tf.cast(correct_pred, tf.float32))\n",
    "\n",
    "# Initializing the variables\n",
    "init = tf.initialize_all_variables()\n",
    "\n",
    "# Launch the graph\n",
    "with tf.Session() as sess:\n",
    "    sess.run(init)\n",
    "    step = 1\n",
    "    # Keep training until reach max iterations\n",
    "    while step * batch_size < training_iters:\n",
    "        batch_x, batch_y = mnist.train.next_batch(batch_size)\n",
    "        # Reshape data to get 28 seq of 28 elements\n",
    "        batch_x = batch_x.reshape((batch_size, n_steps, n_input))\n",
    "        # Run optimization op (backprop)\n",
    "        sess.run(optimizer, feed_dict={x: batch_x, y: batch_y})\n",
    "        if step % display_step == 0:\n",
    "            # Calculate batch accuracy\n",
    "            acc = sess.run(accuracy, feed_dict={x: batch_x, y: batch_y})\n",
    "            print(\"Iter \" + str(step) + \", Training Accuracy= \" + \"{:.5f}\".format(acc))\n",
    "        step += 1\n",
    "    print(\"Optimization Finished!\")\n",
    "\n",
    "    # Calculate accuracy for 128 mnist test images\n",
    "    test_data = mnist.test.images.reshape((-1, n_steps, n_input))\n",
    "    test_label = mnist.test.labels\n",
    "    print(\"Testing Accuracy:\", sess.run(accuracy, feed_dict={x: test_data, y: test_label}))\n",
    "    \n",
    "tf.reset_default_graph()"
   ]
  },
  {
   "cell_type": "code",
   "execution_count": null,
   "metadata": {
    "collapsed": true
   },
   "outputs": [],
   "source": []
  }
 ],
 "metadata": {
  "anaconda-cloud": {},
  "kernelspec": {
   "display_name": "Python [conda env:tensorflow]",
   "language": "python",
   "name": "conda-env-tensorflow-py"
  },
  "language_info": {
   "codemirror_mode": {
    "name": "ipython",
    "version": 3
   },
   "file_extension": ".py",
   "mimetype": "text/x-python",
   "name": "python",
   "nbconvert_exporter": "python",
   "pygments_lexer": "ipython3",
   "version": "3.5.2"
  }
 },
 "nbformat": 4,
 "nbformat_minor": 1
}
