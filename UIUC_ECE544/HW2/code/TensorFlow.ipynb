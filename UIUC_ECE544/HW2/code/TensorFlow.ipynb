{
 "cells": [
  {
   "cell_type": "code",
   "execution_count": 1,
   "metadata": {
    "collapsed": true
   },
   "outputs": [],
   "source": [
    "import warnings\n",
    "warnings.filterwarnings(\"ignore\")\n",
    "\n",
    "import numpy as np\n",
    "import tensorflow as tf\n",
    "import matplotlib.pyplot as plt\n",
    "\n",
    "from helper import readFile\n",
    "from helper import oneHotEncoder\n",
    "from NeuralNetwork import NeuralNetwork\n",
    "\n",
    "%matplotlib inline"
   ]
  },
  {
   "cell_type": "code",
   "execution_count": 2,
   "metadata": {
    "collapsed": true
   },
   "outputs": [],
   "source": [
    "# read the data\n",
    "trainFeature, trainLabel = readFile('./data/train/lab/hw2train_labels.txt', './data/')\n",
    "devFeature, devLabel = readFile('./data/dev/lab/hw2dev_labels.txt', './data/')\n",
    "evalFeature, evalLabel = readFile('./data/eval/lab/hw2eval_labels.txt', './data/')\n",
    "\n",
    "# One-Hot-Encode for labels\n",
    "trainLabel = oneHotEncoder(trainLabel, 9)\n",
    "devLabel = oneHotEncoder(devLabel, 9)\n",
    "evalLabel = oneHotEncoder(evalLabel, 9)"
   ]
  },
  {
   "cell_type": "markdown",
   "metadata": {},
   "source": [
    "## TensorFlow"
   ]
  },
  {
   "cell_type": "code",
   "execution_count": null,
   "metadata": {
    "collapsed": true
   },
   "outputs": [],
   "source": [
    "#########################################################\n",
    "# Part 2: TensorFlow Analysis\n",
    "print('*' * 60)\n",
    "print('Part 5: TensorFlow Analysis')"
   ]
  },
  {
   "cell_type": "code",
   "execution_count": null,
   "metadata": {
    "collapsed": true
   },
   "outputs": [],
   "source": [
    "# # begin the session\n",
    "# sess = tf.Session()\n",
    "\n",
    "# # Create the model\n",
    "# x = tf.placeholder(tf.float32, [None, 16])\n",
    "# W = tf.Variable(tf.random_normal([16, 2]))\n",
    "# b = tf.Variable(tf.random_normal([2]))\n",
    "# # W = tf.Variable(tf.zeros([16, 2]))\n",
    "# # b = tf.Variable(tf.zeros([2]))\n",
    "# y = tf.nn.softmax(tf.matmul(x, W) + b)\n",
    "\n",
    "# # Define loss\n",
    "# y_ = tf.placeholder(tf.float32, [None, 2])\n",
    "# cross_entropy = tf.reduce_mean(-tf.reduce_sum(y_ * tf.log(y), reduction_indices=[1]))\n",
    "\n",
    "# # Define optimizer\n",
    "# learning_rate = 0.2  # learning rate\n",
    "# train_step = tf.train.GradientDescentOptimizer(learning_rate).minimize(cross_entropy)\n",
    "\n",
    "# # Train\n",
    "# init = tf.initialize_all_variables()  # initialize the model\n",
    "# sess.run(init)\n",
    "\n",
    "# # Test trained model on training set\n",
    "# correct_prediction = tf.equal(tf.argmax(y, 1), tf.argmax(y_, 1))\n",
    "# accuracy = tf.reduce_mean(tf.cast(correct_prediction, tf.float32))\n",
    "\n",
    "# # define accuracy variable to record the process\n",
    "# trainAcc = []\n",
    "# devAcc = []\n",
    "# evalAcc = []\n",
    "\n",
    "# max_iteration = 1000\n",
    "# for i in range(max_iteration):\n",
    "#     batch_xs, batch_ys = trainFeature, trainLabel\n",
    "#     sess.run(train_step, {x: batch_xs, y_: batch_ys})\n",
    "#     # keep recording the accuracy\n",
    "#     trainAcc.append(sess.run(accuracy, feed_dict={x: trainFeature, y_: trainLabel}))\n",
    "#     devAcc.append(sess.run(accuracy, feed_dict={x: devFeature, y_: devLabel}))\n",
    "#     evalAcc.append(sess.run(accuracy, feed_dict={x: evalFeature, y_: evalLabel}))\n",
    "\n",
    "# # Test trained model on evaluation set\n",
    "# print('Tensor Flow Analysis')\n",
    "# print(str(max_iteration) + \"th Iteration, Training Error Rate: \\t\", \n",
    "#       1 - sess.run(accuracy, feed_dict={x: trainFeature, y_:trainLabel}))\n",
    "# print(str(max_iteration) + \"th Iteration, Devalopment Error Rate: \\t\", \n",
    "#       1 - sess.run(accuracy, feed_dict={x: devFeature, y_:devLabel}))\n",
    "# print(str(max_iteration) + \"th Iteration, Evaluation Error Rate: \\t\", \n",
    "#       1 - sess.run(accuracy, feed_dict={x: evalFeature, y_: evalLabel}))\n",
    "\n",
    "# # close the session\n",
    "# sess.close()\n",
    "\n",
    "# fig, ax = plt.subplots(figsize=(8, 6))\n",
    "# ax.plot(range(1, max_iteration + 1), 1 - np.array(trainAcc), 'g', linewidth=2, label='Training Error Rate')\n",
    "# # ax.plot(range(1, max_iteration + 1), 1 - np.array(devAcc), 'r', label='Development Error Rate')\n",
    "# # ax.plot(range(1, max_iteration + 1), 1 - np.array(evalAcc), 'b', label='Evaluation Error Rate')\n",
    "# ax.set_xlabel('Iterations', fontsize=10)\n",
    "# ax.set_ylabel('Error Rate', fontsize=10)\n",
    "# # ax.set_title('Convergence of Error Rate (TensorFlow)', fontsize=14)\n",
    "# ax.legend(loc=1, fontsize=12)\n",
    "# ax.grid('on')\n",
    "\n",
    "# fig.savefig('./result/tensorflow.pdf')\n",
    "# plt.show()"
   ]
  }
 ],
 "metadata": {
  "anaconda-cloud": {},
  "kernelspec": {
   "display_name": "Python [tensorflow]",
   "language": "python",
   "name": "Python [tensorflow]"
  },
  "language_info": {
   "codemirror_mode": {
    "name": "ipython",
    "version": 3
   },
   "file_extension": ".py",
   "mimetype": "text/x-python",
   "name": "python",
   "nbconvert_exporter": "python",
   "pygments_lexer": "ipython3",
   "version": "3.5.2"
  }
 },
 "nbformat": 4,
 "nbformat_minor": 0
}
