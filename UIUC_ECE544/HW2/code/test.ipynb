{
 "cells": [
  {
   "cell_type": "code",
   "execution_count": 1,
   "metadata": {
    "collapsed": false
   },
   "outputs": [],
   "source": [
    "import warnings\n",
    "warnings.filterwarnings(\"ignore\")\n",
    "\n",
    "import numpy as np\n",
    "import tensorflow as tf\n",
    "import matplotlib.pyplot as plt\n",
    "\n",
    "from helper import readFile\n",
    "from helper import oneHotEncoder\n",
    "from NeuralNetwork import NeuralNetwork\n",
    "\n",
    "%matplotlib inline"
   ]
  },
  {
   "cell_type": "markdown",
   "metadata": {},
   "source": [
    "### Load data and One-Hot-Encode"
   ]
  },
  {
   "cell_type": "code",
   "execution_count": 2,
   "metadata": {
    "collapsed": false
   },
   "outputs": [],
   "source": [
    "# read the data\n",
    "trainFeature, trainLabel = readFile('./data/train/lab/hw2train_labels.txt', './data/')\n",
    "devFeature, devLabel = readFile('./data/dev/lab/hw2dev_labels.txt', './data/')\n",
    "evalFeature, evalLabel = readFile('./data/eval/lab/hw2eval_labels.txt', './data/')\n",
    "\n",
    "# One-Hot-Encode for labels\n",
    "trainLabel = oneHotEncoder(trainLabel, 9)\n",
    "devLabel = oneHotEncoder(devLabel, 9)\n",
    "evalLabel = oneHotEncoder(evalLabel, 9)"
   ]
  },
  {
   "cell_type": "markdown",
   "metadata": {},
   "source": [
    "### Sigmoid non-linearity"
   ]
  },
  {
   "cell_type": "code",
   "execution_count": null,
   "metadata": {
    "collapsed": false
   },
   "outputs": [
    {
     "name": "stdout",
     "output_type": "stream",
     "text": [
      "100 th Iteration is done, used time\t 43.25 s\n",
      "200 th Iteration is done, used time\t 86.66 s\n",
      "300 th Iteration is done, used time\t 130.74 s\n",
      "400 th Iteration is done, used time\t 175.06 s\n",
      "500 th Iteration is done, used time\t 219.65 s\n",
      "600 th Iteration is done, used time\t 264.34 s\n",
      "700 th Iteration is done, used time\t 309.24 s\n",
      "800 th Iteration is done, used time\t 354.57 s\n",
      "900 th Iteration is done, used time\t 404.04 s\n",
      "1000 th Iteration is done, used time\t 451.38 s\n",
      "Reach the maximum iteration, training is done !\n",
      "Total training time: \t 451.38 s\n"
     ]
    },
    {
     "data": {
      "image/png": "[encoded data removed]",
      "text/plain": [
       "<matplotlib.figure.Figure at 0x7f03458b91d0>"
      ]
     },
     "metadata": {},
     "output_type": "display_data"
    }
   ],
   "source": [
    "# create the Neural Network classifier\n",
    "nn = NeuralNetwork(netSize=(50, 50, 9), loss='sigmoid', maxIter=1000, \n",
    "                   batchSize=100, learningRate=0.5, CV=True)\n",
    "\n",
    "# train the model\n",
    "test = nn.train(trainFeature, trainLabel, showFreq=100)\n",
    "\n",
    "# get the error rate\n",
    "trainAcc, w = nn.getParams()\n",
    "\n",
    "# plot the training accuracy\n",
    "plt.plot(trainAcc, 'g')\n",
    "plt.show()"
   ]
  },
  {
   "cell_type": "markdown",
   "metadata": {},
   "source": [
    "### Tanh non-linearity"
   ]
  },
  {
   "cell_type": "code",
   "execution_count": null,
   "metadata": {
    "collapsed": false
   },
   "outputs": [
    {
     "name": "stdout",
     "output_type": "stream",
     "text": [
      "100 th Iteration is done, used time\t 81.01 s\n",
      "200 th Iteration is done, used time\t 158.02 s\n",
      "300 th Iteration is done, used time\t 231.7 s\n",
      "400 th Iteration is done, used time\t 306.33 s\n",
      "500 th Iteration is done, used time\t 379.26 s\n",
      "600 th Iteration is done, used time\t 452.05 s\n",
      "700 th Iteration is done, used time\t 525.02 s\n"
     ]
    }
   ],
   "source": [
    "# create the Neural Network classifier\n",
    "nn = NeuralNetwork(netSize=(50, 50, 9), loss='tanh', maxIter=1000, \n",
    "                   batchSize=100, learningRate=0.5, CV=True)\n",
    "\n",
    "# train the model\n",
    "test = nn.train(trainFeature, trainLabel, showFreq=100)\n",
    "\n",
    "# get the error rate\n",
    "trainAcc, w = nn.getParams()\n",
    "\n",
    "# plot the training accuracy\n",
    "plt.plot(trainAcc, 'g')\n",
    "plt.show()"
   ]
  },
  {
   "cell_type": "markdown",
   "metadata": {},
   "source": [
    "### Relu non-linearity"
   ]
  },
  {
   "cell_type": "code",
   "execution_count": null,
   "metadata": {
    "collapsed": false
   },
   "outputs": [],
   "source": [
    "# create the Neural Network classifier\n",
    "nn = NeuralNetwork(netSize=(30, 30, 9), loss='relu', maxIter=1000, \n",
    "                   batchSize=100, learningRate=0.5, CV=True)\n",
    "\n",
    "# train the model\n",
    "test = nn.train(trainFeature, trainLabel, showFreq=100)\n",
    "\n",
    "# get the error rate\n",
    "trainAcc, w = nn.getParams()\n",
    "\n",
    "# plot the training accuracy\n",
    "plt.plot(trainAcc, 'g')\n",
    "plt.show()"
   ]
  },
  {
   "cell_type": "code",
   "execution_count": null,
   "metadata": {
    "collapsed": true
   },
   "outputs": [],
   "source": []
  }
 ],
 "metadata": {
  "anaconda-cloud": {},
  "kernelspec": {
   "display_name": "Python [tensorflow]",
   "language": "python",
   "name": "Python [tensorflow]"
  },
  "language_info": {
   "codemirror_mode": {
    "name": "ipython",
    "version": 3
   },
   "file_extension": ".py",
   "mimetype": "text/x-python",
   "name": "python",
   "nbconvert_exporter": "python",
   "pygments_lexer": "ipython3",
   "version": "3.5.2"
  }
 },
 "nbformat": 4,
 "nbformat_minor": 0
}
