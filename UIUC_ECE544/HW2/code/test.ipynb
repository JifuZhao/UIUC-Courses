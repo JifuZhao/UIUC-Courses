{
 "cells": [
  {
   "cell_type": "code",
   "execution_count": 1,
   "metadata": {
    "collapsed": false
   },
   "outputs": [],
   "source": [
    "import warnings\n",
    "warnings.filterwarnings(\"ignore\")\n",
    "\n",
    "import numpy as np\n",
    "import tensorflow as tf\n",
    "import matplotlib.pyplot as plt\n",
    "\n",
    "from helper import readFile\n",
    "from helper import oneHotEncoder\n",
    "from NeuralNetwork import NeuralNetwork\n",
    "\n",
    "%matplotlib inline"
   ]
  },
  {
   "cell_type": "markdown",
   "metadata": {},
   "source": [
    "### Load data and One-Hot-Encode"
   ]
  },
  {
   "cell_type": "code",
   "execution_count": 2,
   "metadata": {
    "collapsed": false
   },
   "outputs": [],
   "source": [
    "# read the data\n",
    "trainFeature, trainLabel = readFile('./data/train/lab/hw2train_labels.txt', './data/')\n",
    "devFeature, devLabel = readFile('./data/dev/lab/hw2dev_labels.txt', './data/')\n",
    "evalFeature, evalLabel = readFile('./data/eval/lab/hw2eval_labels.txt', './data/')\n",
    "\n",
    "# One-Hot-Encode for labels\n",
    "trainLabel = oneHotEncoder(trainLabel, 9)\n",
    "devLabel = oneHotEncoder(devLabel, 9)\n",
    "evalLabel = oneHotEncoder(evalLabel, 9)"
   ]
  },
  {
   "cell_type": "code",
   "execution_count": 3,
   "metadata": {
    "collapsed": false
   },
   "outputs": [
    {
     "name": "stdout",
     "output_type": "stream",
     "text": [
      "(5060, 1120) (731, 1120) (909, 1120)\n"
     ]
    }
   ],
   "source": [
    "print(trainFeature.shape, devFeature.shape, evalFeature.shape)"
   ]
  },
  {
   "cell_type": "markdown",
   "metadata": {},
   "source": [
    "### Relu non-linearity"
   ]
  },
  {
   "cell_type": "code",
   "execution_count": 4,
   "metadata": {
    "collapsed": false,
    "scrolled": false
   },
   "outputs": [
    {
     "name": "stdout",
     "output_type": "stream",
     "text": [
      "****************************************\n",
      "Start Training Using relu Loss Function\n",
      "1000 th Iteration is done, used time\t 157.14 s\n",
      "2000 th Iteration is done, used time\t 309.15 s\n",
      "3000 th Iteration is done, used time\t 462.42 s\n",
      "4000 th Iteration is done, used time\t 616.25 s\n",
      "5000 th Iteration is done, used time\t 769.15 s\n",
      "Reach the maximum iteration, training is done !\n",
      "Total training time: \t 769.15 s\n"
     ]
    },
    {
     "data": {
      "image/png": "[encoded data removed]",
      "text/plain": [
       "<matplotlib.figure.Figure at 0x7f1cc08b43c8>"
      ]
     },
     "metadata": {},
     "output_type": "display_data"
    }
   ],
   "source": [
    "# create the Neural Network classifier\n",
    "nn = NeuralNetwork(netSize=(30, 30, 9), loss='relu', maxIter=5000, \n",
    "                   batchSize=100, learningRate=0.1, CV=True)\n",
    "\n",
    "# train the model\n",
    "test = nn.train(trainFeature, trainLabel, showFreq=1000)\n",
    "\n",
    "# get the error rate\n",
    "trainAcc, w = nn.getParams()\n",
    "\n",
    "# plot the training accuracy\n",
    "plt.plot(trainAcc, 'g')\n",
    "plt.show()"
   ]
  },
  {
   "cell_type": "markdown",
   "metadata": {},
   "source": [
    "### Sigmoid non-linearity"
   ]
  },
  {
   "cell_type": "code",
   "execution_count": 5,
   "metadata": {
    "collapsed": false
   },
   "outputs": [
    {
     "name": "stdout",
     "output_type": "stream",
     "text": [
      "****************************************\n",
      "Start Training Using sigmoid Loss Function\n",
      "1000 th Iteration is done, used time\t 463.41 s\n",
      "2000 th Iteration is done, used time\t 922.18 s\n",
      "3000 th Iteration is done, used time\t 1381.55 s\n",
      "4000 th Iteration is done, used time\t 1828.34 s\n",
      "5000 th Iteration is done, used time\t 2275.37 s\n",
      "Reach the maximum iteration, training is done !\n",
      "Total training time: \t 2275.37 s\n"
     ]
    },
    {
     "data": {
      "image/png": "[encoded data removed]",
      "text/plain": [
       "<matplotlib.figure.Figure at 0x7f1cbf404f98>"
      ]
     },
     "metadata": {},
     "output_type": "display_data"
    }
   ],
   "source": [
    "# create the Neural Network classifier\n",
    "nn = NeuralNetwork(netSize=(30, 30, 9), loss='sigmoid', maxIter=5000, \n",
    "                   batchSize=100, learningRate=0.5, CV=True)\n",
    "\n",
    "# train the model\n",
    "test = nn.train(trainFeature, trainLabel, showFreq=1000)\n",
    "\n",
    "# get the error rate\n",
    "trainAcc, w = nn.getParams()\n",
    "\n",
    "# plot the training accuracy\n",
    "plt.plot(trainAcc, 'g')\n",
    "plt.show()"
   ]
  },
  {
   "cell_type": "markdown",
   "metadata": {},
   "source": [
    "### Tanh non-linearity"
   ]
  },
  {
   "cell_type": "code",
   "execution_count": 6,
   "metadata": {
    "collapsed": false
   },
   "outputs": [
    {
     "name": "stdout",
     "output_type": "stream",
     "text": [
      "****************************************\n",
      "Start Training Using tanh Loss Function\n",
      "1000 th Iteration is done, used time\t 735.2 s\n",
      "2000 th Iteration is done, used time\t 1468.38 s\n",
      "3000 th Iteration is done, used time\t 2201.83 s\n",
      "4000 th Iteration is done, used time\t 2934.98 s\n",
      "5000 th Iteration is done, used time\t 3669.82 s\n",
      "Reach the maximum iteration, training is done !\n",
      "Total training time: \t 3669.82 s\n"
     ]
    },
    {
     "data": {
      "image/png": "[encoded data removed]",
      "text/plain": [
       "<matplotlib.figure.Figure at 0x7f1cc0898eb8>"
      ]
     },
     "metadata": {},
     "output_type": "display_data"
    }
   ],
   "source": [
    "# create the Neural Network classifier\n",
    "nn = NeuralNetwork(netSize=(30, 30, 9), loss='tanh', maxIter=5000, \n",
    "                   batchSize=100, learningRate=0.5, CV=True)\n",
    "\n",
    "# train the model\n",
    "test = nn.train(trainFeature, trainLabel, showFreq=1000)\n",
    "\n",
    "# get the error rate\n",
    "trainAcc, w = nn.getParams()\n",
    "\n",
    "# plot the training accuracy\n",
    "plt.plot(trainAcc, 'g')\n",
    "plt.show()"
   ]
  },
  {
   "cell_type": "markdown",
   "metadata": {
    "collapsed": true
   },
   "source": [
    "### TensorFlow"
   ]
  },
  {
   "cell_type": "code",
   "execution_count": 7,
   "metadata": {
    "collapsed": false
   },
   "outputs": [
    {
     "name": "stdout",
     "output_type": "stream",
     "text": [
      "****************************************\n",
      "Part 5: TensorFlow Analysis\n"
     ]
    }
   ],
   "source": [
    "#########################################################\n",
    "# Part 5: TensorFlow Analysis\n",
    "print('*' * 40)\n",
    "print('Part 5: TensorFlow Analysis')"
   ]
  },
  {
   "cell_type": "code",
   "execution_count": 8,
   "metadata": {
    "collapsed": true
   },
   "outputs": [],
   "source": [
    "# # begin the session\n",
    "# sess = tf.Session()\n",
    "\n",
    "# # Create the model\n",
    "# x = tf.placeholder(tf.float32, [None, 16])\n",
    "# W = tf.Variable(tf.random_normal([16, 2]))\n",
    "# b = tf.Variable(tf.random_normal([2]))\n",
    "# # W = tf.Variable(tf.zeros([16, 2]))\n",
    "# # b = tf.Variable(tf.zeros([2]))\n",
    "# y = tf.nn.softmax(tf.matmul(x, W) + b)\n",
    "\n",
    "# # Define loss\n",
    "# y_ = tf.placeholder(tf.float32, [None, 2])\n",
    "# cross_entropy = tf.reduce_mean(-tf.reduce_sum(y_ * tf.log(y), reduction_indices=[1]))\n",
    "\n",
    "# # Define optimizer\n",
    "# learning_rate = 0.2  # learning rate\n",
    "# train_step = tf.train.GradientDescentOptimizer(learning_rate).minimize(cross_entropy)\n",
    "\n",
    "# # Train\n",
    "# init = tf.initialize_all_variables()  # initialize the model\n",
    "# sess.run(init)\n",
    "\n",
    "# # Test trained model on training set\n",
    "# correct_prediction = tf.equal(tf.argmax(y, 1), tf.argmax(y_, 1))\n",
    "# accuracy = tf.reduce_mean(tf.cast(correct_prediction, tf.float32))\n",
    "\n",
    "# # define accuracy variable to record the process\n",
    "# trainAcc = []\n",
    "# devAcc = []\n",
    "# evalAcc = []\n",
    "\n",
    "# max_iteration = 1000\n",
    "# for i in range(max_iteration):\n",
    "#     batch_xs, batch_ys = trainFeature, trainLabel\n",
    "#     sess.run(train_step, {x: batch_xs, y_: batch_ys})\n",
    "#     # keep recording the accuracy\n",
    "#     trainAcc.append(sess.run(accuracy, feed_dict={x: trainFeature, y_: trainLabel}))\n",
    "#     devAcc.append(sess.run(accuracy, feed_dict={x: devFeature, y_: devLabel}))\n",
    "#     evalAcc.append(sess.run(accuracy, feed_dict={x: evalFeature, y_: evalLabel}))\n",
    "\n",
    "# # Test trained model on evaluation set\n",
    "# print('Tensor Flow Analysis')\n",
    "# print(str(max_iteration) + \"th Iteration, Training Error Rate: \\t\", \n",
    "#       1 - sess.run(accuracy, feed_dict={x: trainFeature, y_:trainLabel}))\n",
    "# print(str(max_iteration) + \"th Iteration, Devalopment Error Rate: \\t\", \n",
    "#       1 - sess.run(accuracy, feed_dict={x: devFeature, y_:devLabel}))\n",
    "# print(str(max_iteration) + \"th Iteration, Evaluation Error Rate: \\t\", \n",
    "#       1 - sess.run(accuracy, feed_dict={x: evalFeature, y_: evalLabel}))\n",
    "\n",
    "# # close the session\n",
    "# sess.close()\n",
    "\n",
    "# fig, ax = plt.subplots(figsize=(8, 6))\n",
    "# ax.plot(range(1, max_iteration + 1), 1 - np.array(trainAcc), 'g', linewidth=2, label='Training Error Rate')\n",
    "# # ax.plot(range(1, max_iteration + 1), 1 - np.array(devAcc), 'r', label='Development Error Rate')\n",
    "# # ax.plot(range(1, max_iteration + 1), 1 - np.array(evalAcc), 'b', label='Evaluation Error Rate')\n",
    "# ax.set_xlabel('Iterations', fontsize=10)\n",
    "# ax.set_ylabel('Error Rate', fontsize=10)\n",
    "# # ax.set_title('Convergence of Error Rate (TensorFlow)', fontsize=14)\n",
    "# ax.legend(loc=1, fontsize=12)\n",
    "# ax.grid('on')\n",
    "\n",
    "# fig.savefig('./result/tensorflow.pdf')\n",
    "# plt.show()"
   ]
  }
 ],
 "metadata": {
  "anaconda-cloud": {},
  "kernelspec": {
   "display_name": "Python [tensorflow]",
   "language": "python",
   "name": "Python [tensorflow]"
  },
  "language_info": {
   "codemirror_mode": {
    "name": "ipython",
    "version": 3
   },
   "file_extension": ".py",
   "mimetype": "text/x-python",
   "name": "python",
   "nbconvert_exporter": "python",
   "pygments_lexer": "ipython3",
   "version": "3.5.2"
  }
 },
 "nbformat": 4,
 "nbformat_minor": 0
}
