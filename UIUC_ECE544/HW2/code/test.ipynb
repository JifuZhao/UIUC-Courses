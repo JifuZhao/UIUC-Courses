{
 "cells": [
  {
   "cell_type": "code",
   "execution_count": 1,
   "metadata": {
    "collapsed": false
   },
   "outputs": [],
   "source": [
    "import warnings\n",
    "warnings.filterwarnings(\"ignore\")\n",
    "\n",
    "import numpy as np\n",
    "import tensorflow as tf\n",
    "import matplotlib.pyplot as plt\n",
    "\n",
    "from helper import readFile\n",
    "from helper import oneHotEncoder\n",
    "from NeuralNetwork import NeuralNetwork\n",
    "\n",
    "%matplotlib inline"
   ]
  },
  {
   "cell_type": "code",
   "execution_count": 2,
   "metadata": {
    "collapsed": true
   },
   "outputs": [],
   "source": [
    "# read the data\n",
    "trainFeature, trainLabel = readFile('./data/train/lab/hw2train_labels.txt', './data/')\n",
    "devFeature, devLabel = readFile('./data/dev/lab/hw2dev_labels.txt', './data/')\n",
    "evalFeature, evalLabel = readFile('./data/eval/lab/hw2eval_labels.txt', './data/')"
   ]
  },
  {
   "cell_type": "code",
   "execution_count": 3,
   "metadata": {
    "collapsed": false
   },
   "outputs": [],
   "source": [
    "# One-Hot-Encode for labels\n",
    "trainLabel = oneHotEncoder(trainLabel, 9)\n",
    "devLabel = oneHotEncoder(devLabel, 9)\n",
    "evalLabel = oneHotEncoder(evalLabel, 9)"
   ]
  },
  {
   "cell_type": "code",
   "execution_count": 9,
   "metadata": {
    "collapsed": false,
    "scrolled": true
   },
   "outputs": [
    {
     "data": {
      "image/png": "[encoded data removed]",
      "text/plain": [
       "<matplotlib.figure.Figure at 0x7f53184a5e48>"
      ]
     },
     "metadata": {},
     "output_type": "display_data"
    }
   ],
   "source": [
    "# create the Neural Network classifier\n",
    "nn = NeuralNetwork(netSize=(50, 20, 9), loss='sigmoid', maxIter=500, \n",
    "                   batchSize=100, learningRate=1.0, CV=True)\n",
    "\n",
    "# train the model\n",
    "test = nn.train(trainFeature, trainLabel, showFreq=100)\n",
    "\n",
    "# get the error rate\n",
    "trainAcc, w = nn.getParams()\n",
    "\n",
    "# plot the training accuracy\n",
    "plt.plot(trainAcc)\n",
    "plt.show()"
   ]
  },
  {
   "cell_type": "code",
   "execution_count": null,
   "metadata": {
    "collapsed": true
   },
   "outputs": [],
   "source": [
    "# create the Neural Network classifier\n",
    "nn = NeuralNetwork(netSize=(50, 20, 9), loss='tanh', maxIter=500, \n",
    "                   batchSize=100, learningRate=1.0, CV=True)\n",
    "\n",
    "# train the model\n",
    "test = nn.train(trainFeature, trainLabel, showFreq=100)\n",
    "\n",
    "# get the error rate\n",
    "trainAcc, w = nn.getParams()\n",
    "\n",
    "# plot the training accuracy\n",
    "plt.plot(trainAcc)\n",
    "plt.show()"
   ]
  },
  {
   "cell_type": "code",
   "execution_count": null,
   "metadata": {
    "collapsed": true
   },
   "outputs": [],
   "source": [
    "# create the Neural Network classifier\n",
    "nn = NeuralNetwork(netSize=(50, 20, 9), loss='relu', maxIter=500, \n",
    "                   batchSize=100, learningRate=1.0, CV=True)\n",
    "\n",
    "# train the model\n",
    "test = nn.train(trainFeature, trainLabel, showFreq=100)\n",
    "\n",
    "# get the error rate\n",
    "trainAcc, w = nn.getParams()\n",
    "\n",
    "# plot the training accuracy\n",
    "plt.plot(trainAcc)\n",
    "plt.show()"
   ]
  },
  {
   "cell_type": "markdown",
   "metadata": {},
   "source": [
    "### Long time running"
   ]
  },
  {
   "cell_type": "code",
   "execution_count": null,
   "metadata": {
    "collapsed": true
   },
   "outputs": [],
   "source": [
    "# create the Neural Network classifier\n",
    "nn = NeuralNetwork(netSize=(50, 20, 9), loss='sigmoid', maxIter=10000, \n",
    "                   batchSize=100, learningRate=1.0, CV=True)\n",
    "\n",
    "# train the model\n",
    "test = nn.train(trainFeature, trainLabel, showFreq=5000)\n",
    "\n",
    "# get the error rate\n",
    "trainAcc, w = nn.getParams()\n",
    "\n",
    "# plot the training accuracy\n",
    "plt.plot(trainAcc)\n",
    "plt.show()"
   ]
  }
 ],
 "metadata": {
  "anaconda-cloud": {},
  "kernelspec": {
   "display_name": "Python [tensorflow]",
   "language": "python",
   "name": "Python [tensorflow]"
  },
  "language_info": {
   "codemirror_mode": {
    "name": "ipython",
    "version": 3
   },
   "file_extension": ".py",
   "mimetype": "text/x-python",
   "name": "python",
   "nbconvert_exporter": "python",
   "pygments_lexer": "ipython3",
   "version": "3.5.2"
  }
 },
 "nbformat": 4,
 "nbformat_minor": 0
}
