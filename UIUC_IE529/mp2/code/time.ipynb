{
 "cells": [
  {
   "cell_type": "code",
   "execution_count": 1,
   "metadata": {
    "collapsed": false
   },
   "outputs": [],
   "source": [
    "import warnings\n",
    "warnings.simplefilter('ignore')\n",
    "\n",
    "import numpy as np\n",
    "import pandas as pd\n",
    "import matplotlib.pyplot as plt\n",
    "\n",
    "from k_means import kMeans\n",
    "from k_centers import kCenters\n",
    "from single_swap import singleSwap\n",
    "from spectral_clustering import spectralClustering\n",
    "from EM import EM\n",
    "\n",
    "%matplotlib inline"
   ]
  },
  {
   "cell_type": "code",
   "execution_count": 2,
   "metadata": {
    "collapsed": false
   },
   "outputs": [],
   "source": [
    "# read the data\n",
    "clustering = pd.read_csv('./data/clustering.csv', header=None).values\n",
    "bigClustering = pd.read_csv('./data/bigClusteringData.csv', header=None).values\n",
    "\n",
    "# define colors\n",
    "colors = ['b', 'g', 'r', 'c', 'm', 'y', 'k', '#7FFFD4', '#9ACD32', '#FFA500']"
   ]
  },
  {
   "cell_type": "markdown",
   "metadata": {},
   "source": [
    "# I. K-Means Algorithm"
   ]
  },
  {
   "cell_type": "code",
   "execution_count": 3,
   "metadata": {
    "collapsed": false,
    "scrolled": true
   },
   "outputs": [
    {
     "name": "stdout",
     "output_type": "stream",
     "text": [
      "K =  3\n",
      "K-Means finished in 0.2673s, 14 iters\n",
      "K =  4\n",
      "K-Means finished in 0.2543s, 13 iters\n",
      "K =  5\n",
      "K-Means finished in 0.3624s, 18 iters\n",
      "K =  6\n",
      "K-Means finished in 0.4325s, 22 iters\n",
      "K =  7\n",
      "K-Means finished in 0.2837s, 15 iters\n",
      "K =  8\n",
      "K-Means finished in 0.1923s, 11 iters\n",
      "K =  9\n",
      "K-Means finished in 0.3481s, 18 iters\n",
      "K =  10\n",
      "K-Means finished in 0.1989s, 10 iters\n"
     ]
    }
   ],
   "source": [
    "# ------------------------------------------------------------------------\n",
    "# clustering.txt\n",
    "# ------------------------------------------------------------------------\n",
    "tol = 1e-5\n",
    "X = clustering\n",
    "\n",
    "for K in [3, 4, 5, 6, 7, 8, 9, 10]:\n",
    "    print('K = ', K)\n",
    "    Q, C, D = kMeans(X, K, tol=tol, random_state=None, verbose=True)"
   ]
  },
  {
   "cell_type": "code",
   "execution_count": 4,
   "metadata": {
    "collapsed": false,
    "scrolled": false
   },
   "outputs": [
    {
     "name": "stdout",
     "output_type": "stream",
     "text": [
      "K =  3\n",
      "K-Means finished in 0.4725s, 12 iters\n",
      "K =  4\n",
      "K-Means finished in 0.8326s, 23 iters\n",
      "K =  5\n",
      "K-Means finished in 0.4722s, 13 iters\n",
      "K =  6\n",
      "K-Means finished in 1.258s, 38 iters\n",
      "K =  7\n",
      "K-Means finished in 0.9619s, 30 iters\n",
      "K =  8\n",
      "K-Means finished in 0.7767s, 24 iters\n",
      "K =  9\n",
      "K-Means finished in 0.7177s, 21 iters\n",
      "K =  10\n",
      "K-Means finished in 1.2369s, 37 iters\n"
     ]
    }
   ],
   "source": [
    "# ------------------------------------------------------------------------\n",
    "# bigClustering.txt\n",
    "# ------------------------------------------------------------------------\n",
    "tol = 1e-5\n",
    "X = bigClustering\n",
    "\n",
    "for K in [3, 4, 5, 6, 7, 8, 9, 10]:\n",
    "    print('K = ', K)\n",
    "    Q, C, D = kMeans(X, K, tol=tol, random_state=None, verbose=True)"
   ]
  },
  {
   "cell_type": "markdown",
   "metadata": {},
   "source": [
    "# II. Greedy K-Centers Algorithm"
   ]
  },
  {
   "cell_type": "code",
   "execution_count": 5,
   "metadata": {
    "collapsed": false,
    "scrolled": false
   },
   "outputs": [
    {
     "name": "stdout",
     "output_type": "stream",
     "text": [
      "K =  3\n",
      "K-Centers is finished in 0.0067s\n",
      "K =  4\n",
      "K-Centers is finished in 0.001s\n",
      "K =  5\n",
      "K-Centers is finished in 0.0012s\n",
      "K =  6\n",
      "K-Centers is finished in 0.0013s\n",
      "K =  7\n",
      "K-Centers is finished in 0.0015s\n",
      "K =  8\n",
      "K-Centers is finished in 0.0019s\n",
      "K =  9\n",
      "K-Centers is finished in 0.0024s\n",
      "K =  10\n",
      "K-Centers is finished in 0.0026s\n"
     ]
    }
   ],
   "source": [
    "# ------------------------------------------------------------------------\n",
    "# clustering.txt\n",
    "# ------------------------------------------------------------------------\n",
    "X = clustering\n",
    "\n",
    "for K in [3, 4, 5, 6, 7, 8, 9, 10]:\n",
    "    print('K = ', K)\n",
    "    Q, C, D, _ = kCenters(X, K, random_state=None, verbose=True)"
   ]
  },
  {
   "cell_type": "code",
   "execution_count": 6,
   "metadata": {
    "collapsed": false,
    "scrolled": false
   },
   "outputs": [
    {
     "name": "stdout",
     "output_type": "stream",
     "text": [
      "K =  3\n",
      "K-Centers is finished in 0.002s\n",
      "K =  4\n",
      "K-Centers is finished in 0.0019s\n",
      "K =  5\n",
      "K-Centers is finished in 0.0021s\n",
      "K =  6\n",
      "K-Centers is finished in 0.0024s\n",
      "K =  7\n",
      "K-Centers is finished in 0.0025s\n",
      "K =  8\n",
      "K-Centers is finished in 0.0034s\n",
      "K =  9\n",
      "K-Centers is finished in 0.0037s\n",
      "K =  10\n",
      "K-Centers is finished in 0.0041s\n"
     ]
    }
   ],
   "source": [
    "# ------------------------------------------------------------------------\n",
    "# bigClustering.txt\n",
    "# ------------------------------------------------------------------------\n",
    "X = bigClustering\n",
    "\n",
    "for K in [3, 4, 5, 6, 7, 8, 9, 10]:\n",
    "    print('K = ', K)\n",
    "    Q, C, D, _ = kCenters(X, K, random_state=None, verbose=True)"
   ]
  },
  {
   "cell_type": "markdown",
   "metadata": {},
   "source": [
    "# III. Single-Swap Algorithm"
   ]
  },
  {
   "cell_type": "code",
   "execution_count": 7,
   "metadata": {
    "collapsed": false,
    "scrolled": false
   },
   "outputs": [
    {
     "name": "stdout",
     "output_type": "stream",
     "text": [
      "K =  3\n",
      "Single-Swap is finished in 0.1582s\n",
      "K =  4\n",
      "Single-Swap is finished in 0.1971s\n",
      "K =  5\n",
      "Single-Swap is finished in 0.1895s\n",
      "K =  6\n",
      "Single-Swap is finished in 0.2668s\n",
      "K =  7\n",
      "Single-Swap is finished in 0.2693s\n",
      "K =  8\n",
      "Single-Swap is finished in 0.3306s\n",
      "K =  9\n",
      "Single-Swap is finished in 0.3012s\n",
      "K =  10\n",
      "Single-Swap is finished in 0.379s\n"
     ]
    }
   ],
   "source": [
    "# ------------------------------------------------------------------------\n",
    "# clustering.txt\n",
    "# ------------------------------------------------------------------------\n",
    "tau = 0.05\n",
    "X = clustering\n",
    "\n",
    "for K in [3, 4, 5, 6, 7, 8, 9, 10]:\n",
    "    print('K = ', K)\n",
    "    Q, C, D = singleSwap(X, K, tau=tau, random_state=None, verbose=True)"
   ]
  },
  {
   "cell_type": "code",
   "execution_count": 8,
   "metadata": {
    "collapsed": false,
    "scrolled": false
   },
   "outputs": [
    {
     "name": "stdout",
     "output_type": "stream",
     "text": [
      "K =  3\n",
      "Single-Swap is finished in 0.4511s\n",
      "K =  4\n",
      "Single-Swap is finished in 0.5692s\n",
      "K =  5\n",
      "Single-Swap is finished in 0.6445s\n",
      "K =  6\n",
      "Single-Swap is finished in 0.8809s\n",
      "K =  7\n",
      "Single-Swap is finished in 0.7638s\n",
      "K =  8\n",
      "Single-Swap is finished in 0.7815s\n",
      "K =  9\n",
      "Single-Swap is finished in 0.901s\n",
      "K =  10\n",
      "Single-Swap is finished in 1.0744s\n"
     ]
    }
   ],
   "source": [
    "# ------------------------------------------------------------------------\n",
    "# bigClustering.txt\n",
    "# ------------------------------------------------------------------------\n",
    "tau = 0.05\n",
    "X = bigClustering\n",
    "\n",
    "for K in [3, 4, 5, 6, 7, 8, 9, 10]:\n",
    "    print('K = ', K)\n",
    "    Q, C, D = singleSwap(X, K, tau=tau, random_state=None, verbose=True)"
   ]
  },
  {
   "cell_type": "markdown",
   "metadata": {
    "collapsed": true
   },
   "source": [
    "# IV. Spectral Clustering Algorithm"
   ]
  },
  {
   "cell_type": "code",
   "execution_count": 9,
   "metadata": {
    "collapsed": false,
    "scrolled": false
   },
   "outputs": [
    {
     "name": "stdout",
     "output_type": "stream",
     "text": [
      "K =  3\n",
      "Spectral Clustering finished in 1.5716s\n",
      "K =  4\n",
      "Spectral Clustering finished in 1.4587s\n",
      "K =  5\n",
      "Spectral Clustering finished in 1.4132s\n",
      "K =  6\n",
      "Spectral Clustering finished in 1.484s\n",
      "K =  7\n",
      "Spectral Clustering finished in 1.4877s\n",
      "K =  8\n",
      "Spectral Clustering finished in 1.4708s\n",
      "K =  9\n",
      "Spectral Clustering finished in 1.4669s\n",
      "K =  10\n",
      "Spectral Clustering finished in 1.5053s\n"
     ]
    }
   ],
   "source": [
    "# ------------------------------------------------------------------------\n",
    "# clustering.txt\n",
    "# ------------------------------------------------------------------------\n",
    "X = clustering\n",
    "\n",
    "for K in [3, 4, 5, 6, 7, 8, 9, 10]:\n",
    "    print('K = ', K)\n",
    "    W, U, Q, C, D = spectralClustering(X, K, random_state=None, verbose=True)"
   ]
  },
  {
   "cell_type": "code",
   "execution_count": 10,
   "metadata": {
    "collapsed": false,
    "scrolled": false
   },
   "outputs": [
    {
     "name": "stdout",
     "output_type": "stream",
     "text": [
      "K =  3\n",
      "Spectral Clustering finished in 11.186s\n",
      "K =  4\n",
      "Spectral Clustering finished in 10.2642s\n",
      "K =  5\n",
      "Spectral Clustering finished in 10.5166s\n",
      "K =  6\n",
      "Spectral Clustering finished in 10.2167s\n",
      "K =  7\n",
      "Spectral Clustering finished in 9.8986s\n",
      "K =  8\n",
      "Spectral Clustering finished in 9.4616s\n",
      "K =  9\n",
      "Spectral Clustering finished in 9.8733s\n",
      "K =  10\n",
      "Spectral Clustering finished in 9.8636s\n"
     ]
    }
   ],
   "source": [
    "# ------------------------------------------------------------------------\n",
    "# bigClustering.txt\n",
    "# ------------------------------------------------------------------------\n",
    "X = bigClustering\n",
    "\n",
    "for K in [3, 4, 5, 6, 7, 8, 9, 10]:\n",
    "    print('K = ', K)\n",
    "    W, U, Q, C, D = spectralClustering(X, K, random_state=None, verbose=True)"
   ]
  },
  {
   "cell_type": "markdown",
   "metadata": {},
   "source": [
    "# V. EM Algorithm"
   ]
  },
  {
   "cell_type": "code",
   "execution_count": 11,
   "metadata": {
    "collapsed": false,
    "scrolled": false
   },
   "outputs": [
    {
     "name": "stdout",
     "output_type": "stream",
     "text": [
      "K =  3\n",
      "Stopped, reach the maximum iteration 0.4412s\n",
      "K =  4\n",
      "Stopped, reach the maximum iteration 0.5078s\n",
      "K =  5\n",
      "Reach threshold at 4 th iters in 0.4881s\n",
      "K =  6\n",
      "Stopped, reach the maximum iteration 0.7462s\n",
      "K =  7\n",
      "Stopped, reach the maximum iteration 0.8227s\n",
      "K =  8\n",
      "Stopped, reach the maximum iteration 0.9216s\n",
      "K =  9\n",
      "Stopped, reach the maximum iteration 1.0106s\n",
      "K =  10\n",
      "Stopped, reach the maximum iteration 1.1277s\n"
     ]
    }
   ],
   "source": [
    "# ------------------------------------------------------------------------\n",
    "# clustering.txt\n",
    "# ------------------------------------------------------------------------\n",
    "threshold = 1e-7\n",
    "X = clustering\n",
    "\n",
    "for K in [3, 4, 5, 6, 7, 8, 9, 10]:\n",
    "    print('K = ', K)\n",
    "    em = EM(m=K, threshold=threshold, random_state=None, maxIter=500)\n",
    "    em.train(X, verbose=True)  # train the EM model"
   ]
  },
  {
   "cell_type": "code",
   "execution_count": 12,
   "metadata": {
    "collapsed": false,
    "scrolled": false
   },
   "outputs": [
    {
     "name": "stdout",
     "output_type": "stream",
     "text": [
      "K =  3\n",
      "Reach threshold at 2 th iters in 0.3412s\n",
      "K =  4\n",
      "Reach threshold at 3 th iters in 0.2553s\n",
      "K =  5\n",
      "Reach threshold at 4 th iters in 0.5763s\n",
      "K =  6\n",
      "Reach threshold at 5 th iters in 0.6196s\n",
      "K =  7\n",
      "Stopped, reach the maximum iteration 1.1591s\n",
      "K =  8\n",
      "Stopped, reach the maximum iteration 1.3177s\n",
      "K =  9\n",
      "Stopped, reach the maximum iteration 1.4977s\n",
      "K =  10\n",
      "Stopped, reach the maximum iteration 1.756s\n"
     ]
    }
   ],
   "source": [
    "# ------------------------------------------------------------------------\n",
    "# bigClustering.txt\n",
    "# ------------------------------------------------------------------------\n",
    "threshold = 1e-7\n",
    "X = bigClustering\n",
    "\n",
    "for K in [3, 4, 5, 6, 7, 8, 9, 10]:\n",
    "    print('K = ', K)\n",
    "    em = EM(m=K, threshold=threshold, random_state=None, maxIter=500)\n",
    "    em.train(X, verbose=True)  # train the EM model"
   ]
  },
  {
   "cell_type": "code",
   "execution_count": null,
   "metadata": {
    "collapsed": true
   },
   "outputs": [],
   "source": []
  }
 ],
 "metadata": {
  "anaconda-cloud": {},
  "kernelspec": {
   "display_name": "Python [conda root]",
   "language": "python",
   "name": "conda-root-py"
  },
  "language_info": {
   "codemirror_mode": {
    "name": "ipython",
    "version": 3
   },
   "file_extension": ".py",
   "mimetype": "text/x-python",
   "name": "python",
   "nbconvert_exporter": "python",
   "pygments_lexer": "ipython3",
   "version": "3.5.2"
  }
 },
 "nbformat": 4,
 "nbformat_minor": 1
}
