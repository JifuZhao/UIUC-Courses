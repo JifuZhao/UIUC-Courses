{
 "cells": [
  {
   "cell_type": "code",
   "execution_count": 1,
   "metadata": {
    "collapsed": true
   },
   "outputs": [],
   "source": [
    "import warnings\n",
    "warnings.simplefilter('ignore')\n",
    "\n",
    "import numpy as np\n",
    "import copy\n",
    "import matplotlib.pyplot as plt\n",
    "from mpl_toolkits.mplot3d import Axes3D\n",
    "\n",
    "from sklearn.datasets import load_digits\n",
    "from sklearn.datasets import load_iris\n",
    "\n",
    "from functions import PCA\n",
    "from functions import kernelPCA\n",
    "\n",
    "%matplotlib inline"
   ]
  },
  {
   "cell_type": "code",
   "execution_count": 8,
   "metadata": {
    "collapsed": true
   },
   "outputs": [],
   "source": [
    "# define colors\n",
    "colors = ['b', 'g', 'r', 'c', 'm', 'y', 'k', '#7FFFD4', '#9ACD32', '#FFA500']"
   ]
  },
  {
   "cell_type": "code",
   "execution_count": 9,
   "metadata": {
    "collapsed": false
   },
   "outputs": [],
   "source": [
    "# sample data\n",
    "x = np.array([[1, 2], [3, 4], [5, 6]])"
   ]
  },
  {
   "cell_type": "markdown",
   "metadata": {},
   "source": [
    "# PCA"
   ]
  },
  {
   "cell_type": "code",
   "execution_count": 6,
   "metadata": {
    "collapsed": false
   },
   "outputs": [
    {
     "name": "stdout",
     "output_type": "stream",
     "text": [
      "[  5.33333333e+00   3.97987331e-16] \n",
      "\n",
      " [[-0.70710678 -0.70710678]\n",
      " [-0.70710678  0.70710678]] \n",
      "\n",
      " [[  2.82842712e+00  -2.22044605e-16]\n",
      " [  0.00000000e+00   0.00000000e+00]\n",
      " [ -2.82842712e+00   2.22044605e-16]]\n"
     ]
    }
   ],
   "source": [
    "eigvals, eigvecs, projection = PCA(x, 2)\n",
    "print(eigvals, '\\n\\n', eigvecs, '\\n\\n', projection)"
   ]
  },
  {
   "cell_type": "markdown",
   "metadata": {},
   "source": [
    "# Kernel PCA"
   ]
  },
  {
   "cell_type": "code",
   "execution_count": 7,
   "metadata": {
    "collapsed": false
   },
   "outputs": [
    {
     "name": "stdout",
     "output_type": "stream",
     "text": [
      "[  1.65743102e+03   1.23564720e+00] \n",
      "\n",
      " [[ 0.01556404 -0.46325102]\n",
      " [ 0.00317208  0.72528036]\n",
      " [-0.01873611 -0.26202934]] \n",
      "\n",
      " [[ 25.79631987  -0.57241483]\n",
      " [  5.25749815   0.89619065]\n",
      " [-31.05381802  -0.32377582]]\n"
     ]
    }
   ],
   "source": [
    "eigvals, eigvecs, projection = kernelPCA(x, 2, kernel='polynomial', degree=2, gamma=1)\n",
    "print(eigvals, '\\n\\n', eigvecs, '\\n\\n', projection)"
   ]
  },
  {
   "cell_type": "code",
   "execution_count": null,
   "metadata": {
    "collapsed": true
   },
   "outputs": [],
   "source": []
  }
 ],
 "metadata": {
  "anaconda-cloud": {},
  "kernelspec": {
   "display_name": "Python [conda root]",
   "language": "python",
   "name": "conda-root-py"
  },
  "language_info": {
   "codemirror_mode": {
    "name": "ipython",
    "version": 3
   },
   "file_extension": ".py",
   "mimetype": "text/x-python",
   "name": "python",
   "nbconvert_exporter": "python",
   "pygments_lexer": "ipython3",
   "version": "3.5.2"
  }
 },
 "nbformat": 4,
 "nbformat_minor": 1
}
