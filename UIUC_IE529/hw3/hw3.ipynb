{
 "cells": [
  {
   "cell_type": "code",
   "execution_count": 1,
   "metadata": {
    "collapsed": false
   },
   "outputs": [],
   "source": [
    "import warnings\n",
    "warnings.simplefilter('ignore')\n",
    "\n",
    "import numpy as np\n",
    "import matplotlib.pyplot as plt\n",
    "\n",
    "%matplotlib inline"
   ]
  },
  {
   "cell_type": "markdown",
   "metadata": {},
   "source": [
    "# Queation 2(1)"
   ]
  },
  {
   "cell_type": "code",
   "execution_count": 14,
   "metadata": {
    "collapsed": false
   },
   "outputs": [
    {
     "name": "stdout",
     "output_type": "stream",
     "text": [
      "Mean:\t [ 0.5  0.5]\n",
      "Distance:\t 0.165 \n",
      "\n",
      "Mean distance:\t 0.165003822506\n",
      "\n",
      "\n",
      "ration of # < mean:\t 0.50317\n",
      "ration of # > mean:\t 0.49683\n"
     ]
    }
   ],
   "source": [
    "# get the evenly distributed values\n",
    "N = 10\n",
    "x_even = np.linspace(0, 1, N+1)\n",
    "y_even = np.linspace(0, 1, N+1)\n",
    "x_even = x_even[:-1] + 1 / (2 * N)\n",
    "y_even = y_even[:-1] + 1 / (2 * N)\n",
    "\n",
    "data_even = []\n",
    "for x in x_even:\n",
    "    for y in y_even:\n",
    "        data_even.append([x, y])\n",
    "data_even = np.array(data_even)\n",
    "\n",
    "# calculate the distance\n",
    "mean = np.mean(data_even, axis=0)\n",
    "msd = np.sum((data_even - mean) ** 2) / N ** 2\n",
    "print('Mean:\\t', mean)\n",
    "print('Distance:\\t', msd, '\\n')\n",
    "\n",
    "# Uniformaly distributed data\n",
    "M = N ** 2\n",
    "distance = []\n",
    "\n",
    "for i in range(100000):\n",
    "    # get random value\n",
    "    x_random = np.random.random(M)\n",
    "    y_random = np.random.random(M)\n",
    "    data_random = np.array([x_random, y_random]).T\n",
    "    \n",
    "    tmp_mean = np.mean(data_random, axis=0)\n",
    "    tmp = np.sum((data_random - tmp_mean) ** 2)\n",
    "    distance.append(tmp / M)\n",
    "\n",
    "distance = np.array(distance)\n",
    "print('Mean distance:\\t', np.mean(distance))\n",
    "\n",
    "print('\\n')\n",
    "print('ration of # < mean:\\t', np.sum(np.array(distance) < msd) / len(distance))\n",
    "print('ration of # > mean:\\t', np.sum(np.array(distance) > msd) / len(distance))"
   ]
  },
  {
   "cell_type": "code",
   "execution_count": 15,
   "metadata": {
    "collapsed": false
   },
   "outputs": [
    {
     "data": {
      "image/png": "[encoded data removed]",
      "text/plain": [
       "<matplotlib.figure.Figure at 0x7f7cb87e9be0>"
      ]
     },
     "metadata": {},
     "output_type": "display_data"
    }
   ],
   "source": [
    "ratio = []\n",
    "N_list = [10, 20, 30, 40, 50, 60, 70, 80, 90, 100, 200, 500, 1000]\n",
    "for N in N_list:\n",
    "    # get the evenly distributed values\n",
    "    x_even = np.linspace(0, 1, N+1)\n",
    "    y_even = np.linspace(0, 1, N+1)\n",
    "    x_even = x_even[:-1] + 1 / (2 * N)\n",
    "    y_even = y_even[:-1] + 1 / (2 * N)\n",
    "\n",
    "    data_even = []\n",
    "    for x in x_even:\n",
    "        for y in y_even:\n",
    "            data_even.append([x, y])\n",
    "    data_even = np.array(data_even)\n",
    "\n",
    "    # calculate the distance\n",
    "    mean = np.mean(data_even, axis=0)\n",
    "    msd = np.sum((data_even - mean) ** 2) / N ** 2\n",
    "\n",
    "    # Uniformaly distributed data\n",
    "    M = N ** 2\n",
    "    distance = []\n",
    "\n",
    "    for i in range(5000):\n",
    "        # get random value\n",
    "        x_random = np.random.random(M)\n",
    "        y_random = np.random.random(M)\n",
    "        data_random = np.array([x_random, y_random]).T\n",
    "\n",
    "        tmp_mean = np.mean(data_random, axis=0)\n",
    "        tmp = np.sum((data_random - tmp_mean) ** 2)\n",
    "        distance.append(tmp / M)\n",
    "\n",
    "    distance = np.array(distance)\n",
    "    ratio.append(np.sum(np.array(distance) < msd) / len(distance))\n",
    "\n",
    "plt.figure()\n",
    "plt.plot(N_list, ratio, 'go-')\n",
    "plt.show()"
   ]
  },
  {
   "cell_type": "code",
   "execution_count": null,
   "metadata": {
    "collapsed": true
   },
   "outputs": [],
   "source": []
  }
 ],
 "metadata": {
  "anaconda-cloud": {},
  "kernelspec": {
   "display_name": "Python [conda root]",
   "language": "python",
   "name": "conda-root-py"
  },
  "language_info": {
   "codemirror_mode": {
    "name": "ipython",
    "version": 3
   },
   "file_extension": ".py",
   "mimetype": "text/x-python",
   "name": "python",
   "nbconvert_exporter": "python",
   "pygments_lexer": "ipython3",
   "version": "3.5.2"
  }
 },
 "nbformat": 4,
 "nbformat_minor": 1
}
