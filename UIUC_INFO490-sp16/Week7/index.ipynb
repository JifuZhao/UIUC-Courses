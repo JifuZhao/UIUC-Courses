{
 "cells": [
  {
   "cell_type": "markdown",
   "metadata": {},
   "source": [
    "\n",
    "<DIV ALIGN=CENTER>\n",
    "\n",
    "# Advanced Data Science\n",
    "## University of Illinois\n",
    "### Professor: Robert J. Brunner  \n",
    "### Spring 2016\n",
    "\n",
    "</DIV>  \n",
    "-----\n",
    "-----"
   ]
  },
  {
   "cell_type": "markdown",
   "metadata": {},
   "source": [
    "## Week 7: Introduction to Text Analysis\n",
    "\n",
    "### Lecture 1: [Basic Concepts][l1]\n",
    "\n",
    "Learn how to convert a text document into a machine computable form by\n",
    "using bag of words.\n",
    "\n",
    "### Lecture 2: [Text Classification][l2]\n",
    "\n",
    "Learn how to classify text documents, including for sentiment analysis. \n",
    "\n",
    "### Lecture 3: [Text Mining][l3]\n",
    "\n",
    "Learn about text mining using dimensional reduction and clustering.\n",
    "\n",
    "-----\n",
    "\n",
    "[l1]: ./notebooks/intro2ta.ipynb\n",
    "[l2]: ./notebooks/intro2tc.ipynb\n",
    "[l3]: ./notebooks/intro2tm.ipynb"
   ]
  },
  {
   "cell_type": "code",
   "execution_count": null,
   "metadata": {
    "collapsed": false
   },
   "outputs": [],
   "source": [
    "from IPython.display import Markdown\n",
    "\n",
    "Markdown(filename='README.md')"
   ]
  }
 ],
 "metadata": {
  "kernelspec": {
   "display_name": "Python 3",
   "language": "python",
   "name": "python3"
  },
  "language_info": {
   "codemirror_mode": {
    "name": "ipython",
    "version": 3
   },
   "file_extension": ".py",
   "mimetype": "text/x-python",
   "name": "python",
   "nbconvert_exporter": "python",
   "pygments_lexer": "ipython3",
   "version": "3.5.1"
  }
 },
 "nbformat": 4,
 "nbformat_minor": 0
}
