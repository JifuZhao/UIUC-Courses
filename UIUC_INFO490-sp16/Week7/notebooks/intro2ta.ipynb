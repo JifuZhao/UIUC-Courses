{
 "cells": [
  {
   "cell_type": "markdown",
   "metadata": {},
   "source": [
    "<DIV ALIGN=CENTER>\n",
    "\n",
    "# Introduction to Text Analysis\n",
    "## Professor Robert J. Brunner\n",
    "  \n",
    "</DIV>  \n",
    "-----\n",
    "-----"
   ]
  },
  {
   "cell_type": "markdown",
   "metadata": {},
   "source": [
    "\n",
    "## Introduction\n",
    "\n",
    "In this IPython Notebook, we introduce text analysis, which is one of\n",
    "the most exciting application areas for machine learning. Text analysis\n",
    "forms the basis for [natural language processing][nlp, and is explicitly\n",
    "used for [sentiment analysis][sa], for [language identification][lc],\n",
    "[spelling correction][sc], as well as mining text data from forms, such\n",
    "as [medical informatics][mi]. Before moving into text classification and\n",
    "text mining, in this notenook we focus on basic text analysis tasks such\n",
    "as accessing data, tokenizing a corpus, and computing token frequencies.\n",
    "We demonstrate these tasks by using basic Python concepts and by using\n",
    "functionaility from within the scikit learn library, Finally, we\n",
    "introduce the NLTK library, and use methods within this library to\n",
    "perform these tasks.\n",
    "\n",
    "-----\n",
    "[nlp]: https://en.wikipedia.org/wiki/Natural_language_processing\n",
    "[sa]: https://en.wikipedia.org/wiki/Sentiment_analysis\n",
    "[lc]: https://en.wikipedia.org/wiki/Language_identification\n",
    "[sc]: http://norvig.com/spell-correct.html\n",
    "[mi]: https://en.wikipedia.org/wiki/Health_informatics"
   ]
  },
  {
   "cell_type": "code",
   "execution_count": 1,
   "metadata": {
    "collapsed": false
   },
   "outputs": [],
   "source": [
    "# Display all plots inline\n",
    "% matplotlib inline"
   ]
  },
  {
   "cell_type": "markdown",
   "metadata": {},
   "source": [
    "### Data\n",
    "\n",
    "To get started with text analysis, we need **texts to analyze**. To get\n",
    "started, we will analyze the [twenty newsgroup][tng] data set. We first\n",
    "download this data (scikit learn has built in methods for doing this,\n",
    "however, we have cached a copy locally on our server). The data are made\n",
    "available via a custom object, but we can access the data of interest by\n",
    "using dictionary keys. Before delving into text analysis, we first\n",
    "explore this data over several code cells to understand more about the\n",
    "task at hand.\n",
    "\n",
    "In case you are unaware, one primary use of the early Internet (i.e.,\n",
    "pre-Web) was to share information among interested groups via\n",
    "newsgroups, or bulletin boards. Users could subscribe to these groups to\n",
    "send and receive postings of interest. This text classification problem\n",
    "uses postings to twenty newsgroups, thus the newsgroup is the\n",
    "classification target and the text in the posting is used to make the\n",
    "features. These postings were similar to emails, thus each posting will\n",
    "have a header, the article body, which might quote all or part of a\n",
    "previous message, and  possibly a footer (like an email signature).\n",
    "While we use the entire posting in these Notebooks, you can have the\n",
    "header, quoted text, and the footer removed by scikit learn by including\n",
    "the `remove` attribute, and indicating whether these sections should be\n",
    "removed. This attribute can take one or all of the values: `header`,\n",
    "`footer`, and `quotes`. For example, the following attribute would be \n",
    "used to remove both headers and footers.\n",
    "\n",
    "`remove =('headers', 'footers')`\n",
    "\n",
    "-----\n",
    "\n",
    "[tng]: http://kdd.ics.uci.edu/databases/20newsgroups/20newsgroups.data.html"
   ]
  },
  {
   "cell_type": "code",
   "execution_count": 2,
   "metadata": {
    "collapsed": false
   },
   "outputs": [
    {
     "name": "stdout",
     "output_type": "stream",
     "text": [
      "dict_keys(['target', 'DESCR', 'data', 'target_names', 'filenames'])\n"
     ]
    }
   ],
   "source": [
    "# load dataset\n",
    "from sklearn.datasets import fetch_20newsgroups\n",
    "\n",
    "text = fetch_20newsgroups(data_home='/home/data_scientist/data/textdm')\n",
    "\n",
    "# To learn more about these data, either browse the relevant \n",
    "# scikit learn documentation, or enter help(text) in an IPython code cell\n",
    "\n",
    "# The data can be accessed via Dictionary keys\n",
    "\n",
    "print(text.keys())"
   ]
  },
  {
   "cell_type": "code",
   "execution_count": 3,
   "metadata": {
    "collapsed": false
   },
   "outputs": [
    {
     "name": "stdout",
     "output_type": "stream",
     "text": [
      "Class  0 = alt.atheism\n",
      "Class  1 = comp.graphics\n",
      "Class  2 = comp.os.ms-windows.misc\n",
      "Class  3 = comp.sys.ibm.pc.hardware\n",
      "Class  4 = comp.sys.mac.hardware\n",
      "Class  5 = comp.windows.x\n",
      "Class  6 = misc.forsale\n",
      "Class  7 = rec.autos\n",
      "Class  8 = rec.motorcycles\n",
      "Class  9 = rec.sport.baseball\n",
      "Class 10 = rec.sport.hockey\n",
      "Class 11 = sci.crypt\n",
      "Class 12 = sci.electronics\n",
      "Class 13 = sci.med\n",
      "Class 14 = sci.space\n",
      "Class 15 = soc.religion.christian\n",
      "Class 16 = talk.politics.guns\n",
      "Class 17 = talk.politics.mideast\n",
      "Class 18 = talk.politics.misc\n",
      "Class 19 = talk.religion.misc\n"
     ]
    }
   ],
   "source": [
    "# Display target names, i.e., the names of the twenty news groups\n",
    "\n",
    "for idx, label in enumerate(text['target_names']):\n",
    "    print('Class {0:2d} = {1}'.format(idx, label))"
   ]
  },
  {
   "cell_type": "code",
   "execution_count": 34,
   "metadata": {
    "collapsed": false
   },
   "outputs": [
    {
     "name": "stdout",
     "output_type": "stream",
     "text": [
      "Target Newsgroup: talk.politics.misc\n",
      "----------------------------------------------------------------------\n",
      "From: cramer@optilink.COM (Clayton Cramer)\n",
      "Subject: Re: New Study Out On Gay Percentage\n",
      "Organization: Optilink Corporation, Petaluma, CA\n",
      "Lines: 19\n",
      "\n",
      "In article <C5L0v1.JCv@news.cso.uiuc.edu>, dans@uxa.cso.uiuc.edu (Dan S.) writes:\n",
      "> Don't forget about the culture.  Sadly, we don't (as a society) look upon\n",
      "> homosexuality as normal (and as we are all too well aware, there are alot\n",
      "> of people who condemn it).  As a result, the gay population is not encouraged\n",
      "> to develop \"non-promiscuous\" relationships.  In fact there are many roadblocks\n",
      "> put in the way of such committed relationships.  It is as if the heterosexual\n",
      "\n",
      "Such as?  Not being able to get married isn't a roadblock to a permanent\n",
      "relationship.  Lack of a marriage certificate doesn't force a couple\n",
      "to break up.  This is an excuse used by homosexuals because the \n",
      "alternative is to ask why they are so much more promiscuous than \n",
      "straights.\n",
      "\n",
      "> Dan\n",
      "\n",
      "\n",
      "-- \n",
      "Clayton E. Cramer {uunet,pyramid}!optilink!cramer  My opinions, all mine!\n",
      "Relations between people to be by mutual consent, or not at all.\n",
      "\n"
     ]
    }
   ],
   "source": [
    "# Display single message\n",
    "messageID = 251\n",
    "\n",
    "print('Target Newsgroup: {0}'.format(text['target_names'][text['target'][messageID]]))\n",
    "print(70*'-')\n",
    "\n",
    "message = text['data'][messageID]\n",
    "print(message)"
   ]
  },
  {
   "cell_type": "markdown",
   "metadata": {},
   "source": [
    "-----\n",
    "\n",
    "We can analyze text messages by using basic Python commands. For\n",
    "example, we can find how many times a word appears in a text by using\n",
    "Python `string` functions. One important item to consider, however, is\n",
    "that, by default, Python will search for sequences of characters in a\n",
    "text message. Thus, if a word is also part of larger words, we will\n",
    "over-count the occurrences, as demonstrated in the following code cell.\n",
    "\n",
    "We overcome this limitation by explicitly splitting a text into tokens.\n",
    "By default, in Python this is done at whitespace, but this can be\n",
    "changed. The second code cell demonstrates tokenizing a text string, and\n",
    "using a [`Counter`][pc] to accumulate the number of unique occurrences\n",
    "of each token. Finally, we employ regular expressions to split a text\n",
    "string, and use the resulting tokens to create another `Counter` that\n",
    "can be used to compare the results of regular expression parsing with\n",
    "the default string tokenization. One benefit of using regular\n",
    "expressions is that we can specifically indicate of what a token should\n",
    "be composed, in this case, we state a token is a sequence of one or\n",
    "more alphanumeric characters surrounded by white space. Thus the '>'\n",
    "token is removed.\n",
    "\n",
    "-----\n",
    "[pc]: https://docs.python.org/3.5/library/collections.html#collections.Counter"
   ]
  },
  {
   "cell_type": "code",
   "execution_count": 36,
   "metadata": {
    "collapsed": false
   },
   "outputs": [
    {
     "name": "stdout",
     "output_type": "stream",
     "text": [
      "Expression Count: 9\n",
      "Isolated Token Count: 5\n"
     ]
    }
   ],
   "source": [
    "token = 'to'\n",
    "i_token = ' {0} '.format(token)\n",
    "\n",
    "print('Expression Count: {0}'.format(message.count(token)))\n",
    "print('Isolated Token Count: {0}'.format(message.count(i_token)))"
   ]
  },
  {
   "cell_type": "code",
   "execution_count": 6,
   "metadata": {
    "collapsed": false
   },
   "outputs": [
    {
     "name": "stdout",
     "output_type": "stream",
     "text": [
      "Total number of tokens = 129\n",
      "---------------------------------------------------------------------------\n",
      "Top 40 tokens:\n",
      "---------------------------------------------------------------------------\n",
      "[ ('>', 10), ('a', 6), ('to', 5), ('the', 5), ('memory', 4), ('with', 3),\n",
      "  ('in', 3), ('bad', 3), ('there', 2), ('use', 2), ('machine', 2), ('for', 2),\n",
      "  ('passes,', 2), ('your', 2), ('it', 2), ('RAM', 2), ('boot', 2), ('is', 2),\n",
      "  ('disk', 2), ('are', 2), ('AT&T', 2), ('if', 2), ('create', 2), ('chips.', 2),\n",
      "  ('patterns', 2), ('as', 2), ('check', 1), ('config/autoexec.bat.', 1),\n",
      "  ('test', 1), ('Bob', 1), ('worst-case', 1), ('programs', 1), ('NDD', 1),\n",
      "  ('possible.', 1), ('I', 1), ('go', 1), ('repair', 1), ('an', 1),\n",
      "  ('article', 1), ('29', 1)]\n"
     ]
    }
   ],
   "source": [
    "# Accumulate counts of tokens, using string functionality\n",
    "import collections as cl\n",
    "\n",
    "# Used to print out sequences\n",
    "import pprint\n",
    "pp = pprint.PrettyPrinter(indent=2, depth=2, width=80, compact=True)\n",
    "\n",
    "# Tokenize and create counter\n",
    "words = message.split()\n",
    "wc = cl.Counter(words)\n",
    "\n",
    "# Number of tokens to display from message\n",
    "wc_display = 40\n",
    "\n",
    "# Display results\n",
    "print('Total number of tokens = {0:d}'.format(len(wc)))\n",
    "print(75*'-')\n",
    "print('Top {} tokens:'.format(wc_display))\n",
    "print(75*'-')\n",
    "pp.pprint(wc.most_common(wc_display))"
   ]
  },
  {
   "cell_type": "code",
   "execution_count": 7,
   "metadata": {
    "collapsed": false
   },
   "outputs": [
    {
     "name": "stdout",
     "output_type": "stream",
     "text": [
      "Total number of tokens = 133\n",
      "---------------------------------------------------------------------------\n",
      "Top 40 tokens:\n",
      "---------------------------------------------------------------------------\n",
      "[ ('to', 6), ('a', 6), ('the', 5), ('memory', 5), ('with', 3), ('in', 3),\n",
      "  ('bad', 3), ('chips', 3), ('AT', 2), ('there', 2), ('use', 2), ('cat', 2),\n",
      "  ('machine', 2), ('your', 2), ('it', 2), ('idea', 2), ('for', 2), ('RAM', 2),\n",
      "  ('boot', 2), ('is', 2), ('com', 2), ('rnichols', 2), ('passes', 2),\n",
      "  ('disk', 2), ('are', 2), ('UUCP', 2), ('i', 2), ('sys', 2), ('if', 2),\n",
      "  ('create', 2), ('run', 2), ('drive', 2), ('c', 2), ('patterns', 2), ('as', 2),\n",
      "  ('att', 2), ('T', 2), ('repair', 1), ('ih', 1), ('Bob', 1)]\n"
     ]
    }
   ],
   "source": [
    "# Use regular expressions to tokenize\n",
    "import re\n",
    "pattern = re.compile(r'[^\\w\\s]')\n",
    "\n",
    "# tokenize and accumulate token counts\n",
    "words = re.sub(pattern, ' ', message).split()\n",
    "wc = cl.Counter(words)\n",
    "\n",
    "# Display results\n",
    "print('Total number of tokens = {0:d}'.format(len(wc)))\n",
    "print(75*'-')\n",
    "print('Top {} tokens:'.format(wc_display))\n",
    "print(75*'-')\n",
    "pp.pprint(wc.most_common(wc_display))"
   ]
  },
  {
   "cell_type": "markdown",
   "metadata": {},
   "source": [
    "-----\n",
    "\n",
    "The previous cells tokenized a text document, but identical tokens with\n",
    "different case will be treated as distinct. In general, this is not a\n",
    "desirable result since it could undercount the occurrences of an\n",
    "otherwise important token. We can easily convert a text to all lowercase\n",
    "to prevent this, by using the string `lower` method. This is\n",
    "demonstrated int he following code cell, where the total number of\n",
    "tokens has changed, as well as the counts of specific tokens (such as\n",
    "`in`).\n",
    "\n",
    "-----"
   ]
  },
  {
   "cell_type": "code",
   "execution_count": 8,
   "metadata": {
    "collapsed": false
   },
   "outputs": [
    {
     "name": "stdout",
     "output_type": "stream",
     "text": [
      "Total number of tokens = 128\n",
      "---------------------------------------------------------------------------\n",
      "Top 40 tokens:\n",
      "---------------------------------------------------------------------------\n",
      "[ ('to', 6), ('a', 6), ('the', 5), ('memory', 5), ('in', 4), ('with', 3),\n",
      "  ('it', 3), ('bad', 3), ('run', 3), ('chips', 3), ('i', 3), ('there', 2),\n",
      "  ('at', 2), ('t', 2), ('disk', 2), ('patterns', 2), ('cat', 2), ('machine', 2),\n",
      "  ('for', 2), ('your', 2), ('idea', 2), ('use', 2), ('boot', 2), ('is', 2),\n",
      "  ('com', 2), ('rnichols', 2), ('passes', 2), ('are', 2), ('ram', 2), ('if', 2),\n",
      "  ('create', 2), ('sys', 2), ('drive', 2), ('uucp', 2), ('c', 2),\n",
      "  ('nichols', 2), ('as', 2), ('att', 2), ('organization', 1), ('totally', 1)]\n"
     ]
    }
   ],
   "source": [
    "# We can convert message to lower-case\n",
    "words = re.sub(pattern, ' ', message.lower()).split()\n",
    "wc = cl.Counter(words)\n",
    "\n",
    "# Display results\n",
    "print('Total number of tokens = {0:d}'.format(len(wc)))\n",
    "print(75*'-')\n",
    "print('Top {} tokens:'.format(wc_display))\n",
    "print(75*'-')\n",
    "pp.pprint(wc.most_common(wc_display))"
   ]
  },
  {
   "cell_type": "markdown",
   "metadata": {},
   "source": [
    "-----\n",
    "\n",
    "Tokenizing a text document is interesting, but traditional machine\n",
    "learning algorithms operate directly on numerical data. One approach to\n",
    "analyze a text document is to generate a numerical representation of a\n",
    "text document by counting the number of times a word occurs (as we did\n",
    "with the `Counter` collection previously. Another approach is to\n",
    "normalize the token counts by the total number of tokens, which creates\n",
    "a term (or token) frequency. We demonstrate this in the following code\n",
    "cell, where we display the _top_ terms and their frequency in the\n",
    "message.\n",
    "\n",
    "-----"
   ]
  },
  {
   "cell_type": "code",
   "execution_count": 9,
   "metadata": {
    "collapsed": false
   },
   "outputs": [
    {
     "name": "stdout",
     "output_type": "stream",
     "text": [
      "Term        : Frequency\n",
      "-------------------------\n",
      "to          : 0.032\n",
      "a           : 0.032\n",
      "the         : 0.027\n",
      "memory      : 0.027\n",
      "in          : 0.021\n",
      "with        : 0.016\n",
      "it          : 0.016\n",
      "bad         : 0.016\n",
      "run         : 0.016\n",
      "chips       : 0.016\n",
      "i           : 0.016\n",
      "there       : 0.011\n",
      "at          : 0.011\n",
      "t           : 0.011\n",
      "disk        : 0.011\n",
      "patterns    : 0.011\n",
      "cat         : 0.011\n",
      "machine     : 0.011\n",
      "for         : 0.011\n",
      "your        : 0.011\n",
      "idea        : 0.011\n",
      "use         : 0.011\n",
      "boot        : 0.011\n",
      "is          : 0.011\n",
      "com         : 0.011\n",
      "rnichols    : 0.011\n",
      "passes      : 0.011\n",
      "are         : 0.011\n",
      "ram         : 0.011\n",
      "if          : 0.011\n",
      "create      : 0.011\n",
      "sys         : 0.011\n",
      "drive       : 0.011\n",
      "uucp        : 0.011\n",
      "c           : 0.011\n",
      "nichols     : 0.011\n",
      "as          : 0.011\n",
      "att         : 0.011\n",
      "organization: 0.005\n",
      "totally     : 0.005\n"
     ]
    }
   ],
   "source": [
    "print('{0:12s}: {1}'.format('Term', 'Frequency'))\n",
    "print(25*'-')\n",
    "\n",
    "t_wc = sum(wc.values())\n",
    "for wt in wc.most_common(wc_display):\n",
    "    print('{0:12s}: {1:4.3f}'.format(wt[0], wt[1]/t_wc))"
   ]
  },
  {
   "cell_type": "markdown",
   "metadata": {},
   "source": [
    "-----\n",
    "\n",
    "## Student Activity\n",
    "\n",
    "In the preceding cells, we used the twenty newsgroup data to perform\n",
    "some basic text analysis. Now that you have run the Notebook, go back\n",
    "and make the following changes to see how the results change.\n",
    "\n",
    "1. Remove the header, footer, and quoted material. How does this change\n",
    "the results? \n",
    "2. Change your regular expression so that tokens are sequences of two or\n",
    "more characters (i.e., no numbers). How does this change the results?\n",
    "3. Try timing the three technique (you might want a longer text\n",
    "document). Which is the fastest technique? Can you explain why?\n",
    "\n",
    "-----\n",
    "\n",
    "## Bag of Words\n",
    "\n",
    "A simple question about text data mining that you might have is _How\n",
    "does one classify documents made up of words when machine learning\n",
    "algorithms work on numerical data?_ The simple answer is we need to\n",
    "build a numerical summary of a data set that our algorithms can\n",
    "manipulate. A conceptually easy approach  to implement this idea is to\n",
    "identify all possible words in the documents of interest and to track the\n",
    "number of times each words occurs in specific documents. This produces a\n",
    "(very) sparse matrix for our sample of documents, where the columns are\n",
    "the possible words (or tokens) and the rows are different documents. \n",
    "\n",
    "This concept, where one tokenizes documents to build these sparse\n",
    "matrices is more formally known as _bag of words_, because we effectively\n",
    "create the [bag of words][bwd] out of which are documents are\n",
    "constructed. In the bag of words model, each document can be mapped into\n",
    "a vector, where the individual elements correspond to the number of\n",
    "times the words (associated with the particular column) appears in the\n",
    "document.\n",
    "\n",
    "With scikit learn, we can use the [`CountVectorizer`][skcv] to break our\n",
    "document into tokens (in this case words), which are used to construct\n",
    "our _bag of words_ for the given set of documents. Given this tokenizer,\n",
    "we first need to construct the list of tokens, which we do with the\n",
    "`fit` method. Second, we need to transform our documents into this\n",
    "sparse matrix, which we do with the `transform` method. Since both steps\n",
    "use the same input dta, there is a convenience method to perform both\n",
    "operations at the same time, called `fit_transform`.\n",
    "\n",
    "-----\n",
    "[bwd]: https://en.wikipedia.org/wiki/Bag-of-words_model\n",
    "[skcv]: http://scikit-learn.org/stable/modules/generated/sklearn.feature_extraction.text.CountVectorizer.html"
   ]
  },
  {
   "cell_type": "code",
   "execution_count": 10,
   "metadata": {
    "collapsed": false
   },
   "outputs": [],
   "source": [
    "# Define our vectorizer\n",
    "from sklearn.feature_extraction.text import CountVectorizer\n",
    "cv = CountVectorizer(analyzer='word', lowercase=True)"
   ]
  },
  {
   "cell_type": "markdown",
   "metadata": {
    "collapsed": false
   },
   "source": [
    "-----\n",
    "\n",
    "Given the `CountVectorizer` we can see the number of words in our _bag_\n",
    "as well as the number of documents on which we train, which in this case\n",
    "agrees with the values we obtained when we read in the data.\n",
    "\n",
    "-----"
   ]
  },
  {
   "cell_type": "code",
   "execution_count": 11,
   "metadata": {
    "collapsed": false
   },
   "outputs": [
    {
     "data": {
      "text/plain": [
       "CountVectorizer(analyzer='word', binary=False, decode_error='strict',\n",
       "        dtype=<class 'numpy.int64'>, encoding='utf-8', input='content',\n",
       "        lowercase=True, max_df=1.0, max_features=None, min_df=1,\n",
       "        ngram_range=(1, 1), preprocessor=None, stop_words=None,\n",
       "        strip_accents=None, token_pattern='(?u)\\\\b\\\\w\\\\w+\\\\b',\n",
       "        tokenizer=None, vocabulary=None)"
      ]
     },
     "execution_count": 11,
     "metadata": {},
     "output_type": "execute_result"
    }
   ],
   "source": [
    "# Build a vocabulary from our data\n",
    "cv.fit(text['data'])"
   ]
  },
  {
   "cell_type": "code",
   "execution_count": 12,
   "metadata": {
    "collapsed": false
   },
   "outputs": [
    {
     "name": "stdout",
     "output_type": "stream",
     "text": [
      "Number of Samples = 1\n",
      "Number of Tokens = 130107\n",
      "---------------------------------------------------------------------------\n",
      "[[0 0 1 0 0 0 0 0 0 0 0 0 0 0 0 0 0 0 0 0 0 0 0 0 0 0 0 0 0 0 0 0 0 0 0 0 0\n",
      "  0 0 0 0 0 0 0 0 0 0 0 0 0 0 0 0 0 0 0 0 0 0 0 0 0 0 0 0 0 0 0 0 0 0 0 0 0\n",
      "  1 0 0 0 0 0 0 0 0 0 0 0 0 0 0 0 0 0 0 0 0 0 0 0 0]]\n",
      "---------------------------------------------------------------------------\n",
      "Tuples from Document-Term Matrix[i, j] and c (Count)\n",
      "---------------------------------------------------------------------------\n",
      "[ (0, 2338, 1), (0, 10368, 1), (0, 28012, 1), (0, 28146, 1), (0, 29241, 2),\n",
      "  (0, 29573, 1), (0, 29620, 2), (0, 30044, 2), (0, 30193, 2), (0, 30526, 1),\n",
      "  (0, 31495, 3), (0, 32036, 1), (0, 32669, 1), (0, 34128, 1), (0, 34404, 2),\n",
      "  (0, 35805, 1), (0, 37509, 1), (0, 38019, 1), (0, 38082, 2), (0, 38243, 1),\n",
      "  (0, 38314, 1), (0, 39169, 1), (0, 39415, 1), (0, 39426, 3), (0, 41105, 2),\n",
      "  (0, 41288, 1), (0, 41850, 1), (0, 41880, 1), (0, 43311, 2), (0, 45143, 1),\n",
      "  (0, 45215, 1), (0, 45240, 1), (0, 45917, 1), (0, 46708, 1), (0, 46815, 1),\n",
      "  (0, 46838, 1), (0, 47201, 1), (0, 47721, 2), (0, 47982, 1), (0, 49047, 2),\n",
      "  (0, 49055, 1), (0, 51399, 1), (0, 52954, 1), (0, 54202, 1), (0, 54532, 1),\n",
      "  (0, 56283, 2), (0, 56979, 1), (0, 59590, 1), (0, 63250, 1), (0, 64186, 1),\n",
      "  (0, 65677, 2), (0, 65798, 2), (0, 65912, 1), (0, 65935, 1), (0, 66608, 4),\n",
      "  (0, 67798, 1), (0, 68532, 2), (0, 68766, 3), (0, 68857, 1), (0, 74314, 1),\n",
      "  (0, 74619, 1), (0, 75901, 1), (0, 76032, 1), (0, 76511, 1), (0, 78644, 2),\n",
      "  (0, 78878, 1), (0, 80798, 1), (0, 81066, 5), (0, 85739, 1), (0, 85884, 1),\n",
      "  (0, 86377, 1), (0, 87186, 2), (0, 89860, 1), (0, 89919, 1), (0, 90252, 1),\n",
      "  (0, 90379, 1), (0, 92260, 2), (0, 92408, 2), (0, 92544, 1), (0, 95130, 1),\n",
      "  (0, 96222, 1), (0, 98379, 1), (0, 99176, 2), (0, 99202, 1), (0, 99721, 1),\n",
      "  (0, 100949, 1), (0, 102566, 2), (0, 102656, 1), (0, 103506, 3),\n",
      "  (0, 105683, 1), (0, 106610, 1), (0, 108558, 1), (0, 111322, 1),\n",
      "  (0, 112650, 2), (0, 114239, 1), (0, 114418, 1), (0, 114455, 5),\n",
      "  (0, 114579, 2), (0, 114646, 1), (0, 114731, 1), (0, 115475, 6),\n",
      "  (0, 115825, 1), (0, 119519, 1), (0, 119737, 2), (0, 119740, 1),\n",
      "  (0, 119899, 1), (0, 119977, 2), (0, 121265, 1), (0, 124332, 1),\n",
      "  (0, 124616, 3), (0, 125094, 1), (0, 125110, 1), (0, 125271, 1),\n",
      "  (0, 128084, 1), (0, 128402, 1), (0, 128420, 2)]\n"
     ]
    }
   ],
   "source": [
    "# We can now process documents.\n",
    "\n",
    "# We needd an iteratable to appply cv.transform()\n",
    "msg = []\n",
    "msg.append(message)\n",
    "\n",
    "# Transform one message, which is easier to comprehend.\n",
    "# By default, scikit learn uses sparse matrices for text processing\n",
    "# What is returned is a Document Term Matrix (dtm)\n",
    "dtm = cv.transform(msg)\n",
    "\n",
    "print('Number of Samples = {0}'.format(dtm.shape[0]))\n",
    "print('Number of Tokens = {0}'.format(dtm.shape[1]))\n",
    "print(75*'-')\n",
    "\n",
    "# We can convert from sparse to dense to explore the document-term matrix\n",
    "# The range was manually chosen to have several non-zero elements\n",
    "print(dtm.todense()[:,45141:45240])\n",
    "print(75*'-')\n",
    "\n",
    "# We can also print only nonzero DTM matrix elements\n",
    "\n",
    "print('Tuples from Document-Term Matrix[i, j] and c (Count)')\n",
    "print(75*'-')\n",
    "\n",
    "import scipy.sparse as sp\n",
    "\n",
    "# Find non-zero elements\n",
    "i, j, c = sp.find(dtm)\n",
    "dtm_list = list(zip(i, j, c))\n",
    "pp.pprint(dtm_list)"
   ]
  },
  {
   "cell_type": "markdown",
   "metadata": {},
   "source": [
    "-----\n",
    "\n",
    "We can grab the words in our _bag of words_ by extracting the\n",
    "_vocabulary_. This allows us to see if words are present in the\n",
    "documents. We can also find which term occurs most frequently, least\n",
    "frequently, as well as the overall top terms.\n",
    "\n",
    "-----"
   ]
  },
  {
   "cell_type": "code",
   "execution_count": 13,
   "metadata": {
    "collapsed": false
   },
   "outputs": [
    {
     "name": "stdout",
     "output_type": "stream",
     "text": [
      "Arbitrary Word (the): Column = 114455\n",
      "Max Word (to): Column = 115475\n",
      "Min Word (1000): Column = 2338\n"
     ]
    }
   ],
   "source": [
    "# We can explore the terms in our vocabulary\n",
    "terms = cv.vocabulary_\n",
    "\n",
    "# Look at single term\n",
    "my_word = 'the'\n",
    "print(\"Arbitrary Word ({0}): Column = {1}\".format(my_word, terms[my_word]))\n",
    "\n",
    "from operator import itemgetter\n",
    "max_key = max(dtm_list, key=itemgetter(2))[1]\n",
    "min_key = min(dtm_list, key=itemgetter(2))[1]\n",
    "\n",
    "x_max = [key for key in terms.keys() if terms[key] == max_key]\n",
    "x_min = [key for key in terms.keys() if terms[key] == min_key]\n",
    "\n",
    "print(\"Max Word ({0}): Column = {1}\".format(x_max[0], max_key))\n",
    "print(\"Min Word ({0}): Column = {1}\".format(x_min[0], min_key))"
   ]
  },
  {
   "cell_type": "code",
   "execution_count": 14,
   "metadata": {
    "collapsed": false
   },
   "outputs": [
    {
     "name": "stdout",
     "output_type": "stream",
     "text": [
      "Count: Term in Vocabulary\n",
      "----------------------------------------\n",
      "    6: vocabulary[115475] = to\n",
      "    5: vocabulary[114455] = the\n",
      "    5: vocabulary[81066] = memory\n",
      "    4: vocabulary[66608] = in\n",
      "    3: vocabulary[124616] = with\n",
      "    3: vocabulary[103506] = run\n",
      "    3: vocabulary[68766] = it\n",
      "    3: vocabulary[39426] = chips\n",
      "    3: vocabulary[31495] = bad\n",
      "    2: vocabulary[29241] = are\n"
     ]
    }
   ],
   "source": [
    "# Number of terms to display\n",
    "top_display = 10\n",
    "\n",
    "# Sort our document term list, and unzip\n",
    "dtm_list.sort(key=itemgetter(2), reverse=True)\n",
    "i, j, c = zip(*dtm_list)\n",
    "\n",
    "# Grab out the keys and values for top terms\n",
    "x_keys = [(k, v) for k, v in terms.items() if terms[k] in j[:top_display]]\n",
    "x_keys.sort(key=itemgetter(1), reverse=True)\n",
    "\n",
    "# Grab the data, including counts from DTM list\n",
    "x_counts = dtm_list[:top_display]\n",
    "x_counts.sort(key=itemgetter(1), reverse=True)\n",
    "\n",
    "# Now we merge the two lists so we can sort to display terms in order\n",
    "x_merged = []\n",
    "for idx in range(len(x_keys)):\n",
    "    if x_keys[idx][1] != x_counts[idx][1]:\n",
    "        print('Error: column mismatch!')\n",
    "\n",
    "    x_merged.append((x_keys[idx][0], x_keys[idx][1], x_counts[idx][2]))\n",
    "\n",
    "x_merged.sort(key=itemgetter(2), reverse=True)\n",
    "\n",
    "# Print results\n",
    "print('Count: Term in Vocabulary')\n",
    "print(40*'-')\n",
    "for x in x_merged:\n",
    "    print(\"{2:5d}: vocabulary[{0}] = {1}\".format(x[1], x[0], x[2]))"
   ]
  },
  {
   "cell_type": "markdown",
   "metadata": {},
   "source": [
    "-----\n",
    "\n",
    "## Student Activity\n",
    "\n",
    "In the preceding cells, we used scikit learn to parse our sample text\n",
    "message by using `CountVectorizer`. If you look carefully, you will\n",
    "notice the default results are different than our standard Python text\n",
    "analysis. For example, note how we do not have the single character word\n",
    "`a` in the list of most common items. The reason is the default\n",
    "tokenizer for `CountVectorizer` removes single character words (as they\n",
    "are assumed to be uninformative). You can change this by providing a new\n",
    "regular expression to the `CountVectorizer` via the `token_pattern`\n",
    "parameter. \n",
    "\n",
    "Now that you have run the Notebook, go back and make the following\n",
    "changes to see how the results change.\n",
    "\n",
    "1. Change the `CountVectorizer` regular expression to the string\n",
    "`'(?u)\\\\b\\\\w+\\\\b'`, how do the results change?\n",
    "2. Try vectorizing a different message (i.e., transform a different\n",
    "message, or messages). How do the results change?\n",
    "3. You can have `CountVectorizer` text processing object remove accented\n",
    "words by setting the `strip_accents` parameter to `True`. Does setting\n",
    "this parameter change the results?\n",
    "\n",
    "-----\n",
    "\n",
    "## NLTK\n",
    "\n",
    "The scikit learn library is a general purpose, Python machine learning\n",
    "library that does include some basic text analysis functionality. Text\n",
    "analysis, however is an extremely large and growing topic. As a result,\n",
    "we will want to explore an additional library for natural language\n",
    "processing. This library, known as [Natural Language ToolKit][nltk], or\n",
    "NLTK, enables a wide range of text analyses either on its own, or in\n",
    "conjunction with scikit learn. The NLTK library is extensive and\n",
    "includes [documentation][nltkd] covering many of the topics we have demonstrated\n",
    "previously.\n",
    "\n",
    "In the rest of this Notebook, we will explore how to use NLTK to perform\n",
    "basic text analysis, in a similar manner as demonstrated earlier via\n",
    "standard Python and the scikit learn library. First we import the\n",
    "library, and tokenize the message. We create an NLTK frequency\n",
    "distribution by passing a list of words to the NLTK `FreqDist` method.\n",
    "\n",
    "-----\n",
    "[nltk]: http://www.nltk.org\n",
    "[nltkd]: http://www.nltk.org/book/"
   ]
  },
  {
   "cell_type": "code",
   "execution_count": 15,
   "metadata": {
    "collapsed": true
   },
   "outputs": [],
   "source": [
    "import nltk"
   ]
  },
  {
   "cell_type": "code",
   "execution_count": 16,
   "metadata": {
    "collapsed": false
   },
   "outputs": [
    {
     "name": "stdout",
     "output_type": "stream",
     "text": [
      "[ ('>', 19), ('.', 13), (':', 7), ('to', 6), (',', 6), ('a', 6), ('the', 5),\n",
      "  ('memory', 5), ('in', 4), ('@', 4)]\n"
     ]
    }
   ],
   "source": [
    "# Tokenize a text document\n",
    "words = [word.lower() for word in nltk.word_tokenize(message)]\n",
    "\n",
    "# Count number of occurances for each token\n",
    "counts = nltk.FreqDist(words)\n",
    "pp.pprint(counts.most_common(top_display))"
   ]
  },
  {
   "cell_type": "markdown",
   "metadata": {},
   "source": [
    "-----\n",
    "\n",
    "We can clean up the list of tokens by using a regular expression with the\n",
    "`word_tokenize` method. We can reuse our previously defined regular\n",
    "expression `pattern = re.compile(r'[^\\w\\s]')` to identify tokens as one\n",
    "or more alphanumeric characters followed by a whitespace character.\n",
    "Doing this removes the punctuation tokens, as shown below.\n",
    "\n",
    "\n",
    "\n",
    "-----"
   ]
  },
  {
   "cell_type": "code",
   "execution_count": 17,
   "metadata": {
    "collapsed": false
   },
   "outputs": [
    {
     "name": "stdout",
     "output_type": "stream",
     "text": [
      "[ ('to', 6), ('a', 6), ('the', 5), ('memory', 5), ('in', 4), ('with', 3),\n",
      "  ('it', 3), ('bad', 3), ('run', 3), ('chips', 3)]\n"
     ]
    }
   ],
   "source": [
    "# Specify an RE to parse a text document\n",
    "words = [word.lower() for word in nltk.word_tokenize(re.sub(pattern, ' ', message))]\n",
    "\n",
    "# Count token occurances\n",
    "counts = nltk.FreqDist(words)\n",
    "pp.pprint(counts.most_common(top_display))"
   ]
  },
  {
   "cell_type": "markdown",
   "metadata": {},
   "source": [
    "-----\n",
    "\n",
    "One measure of the use of tokens in a document is [lexical\n",
    "diversity][ld], which is the fraction of unique tokens, or terms, in a\n",
    "document to the total tokens, or terms in a document. \n",
    "\n",
    "-----\n",
    "[ld]: https://en.wikipedia.org/wiki/Lexical_diversity"
   ]
  },
  {
   "cell_type": "code",
   "execution_count": 18,
   "metadata": {
    "collapsed": false
   },
   "outputs": [
    {
     "name": "stdout",
     "output_type": "stream",
     "text": [
      "Message has 128 tokens and 188 words for a lexical diversity of 1.469\n"
     ]
    }
   ],
   "source": [
    "\n",
    "num_words = len(words)\n",
    "num_tokens = len(counts)\n",
    "lexdiv  =  num_words / num_tokens\n",
    "print(\"Message has %i tokens and %i words for a lexical diversity of %0.3f\" % (num_tokens, num_words, lexdiv))"
   ]
  },
  {
   "cell_type": "markdown",
   "metadata": {},
   "source": [
    "-----\n",
    "\n",
    "We can compute the number of [unique sample values][b], [number of\n",
    "samples outcomes][n], and the [maximum occurring token][m] with simple\n",
    "NLTK statistical functions. We can also iterate through and display the\n",
    "most commonly occurring terms and their counts.\n",
    "\n",
    "-----\n",
    "[b]: http://www.nltk.org/api/nltk.html?highlight=freqdist#nltk.probability.FreqDist.B\n",
    "[n]: http://www.nltk.org/api/nltk.html?highlight=freqdist#nltk.probability.FreqDist.N\n",
    "[m]: http://www.nltk.org/api/nltk.html?highlight=freqdist#nltk.probability.FreqDist.N"
   ]
  },
  {
   "cell_type": "code",
   "execution_count": 19,
   "metadata": {
    "collapsed": false
   },
   "outputs": [
    {
     "name": "stdout",
     "output_type": "stream",
     "text": [
      "Number of unique bins(tokens) = 128\n",
      "\n",
      "Number of sample outcomes = 188\n",
      "\n",
      "Maximum occuring token = to\n",
      "\n",
      "Term        : Count\n",
      "-------------------------\n",
      "to          :  6.000\n",
      "a           :  6.000\n",
      "the         :  5.000\n",
      "memory      :  5.000\n",
      "in          :  4.000\n",
      "with        :  3.000\n",
      "it          :  3.000\n",
      "bad         :  3.000\n",
      "run         :  3.000\n",
      "chips       :  3.000\n"
     ]
    }
   ],
   "source": [
    "# Display number of unique tokens (or bins)\n",
    "print('Number of unique bins(tokens) = {0}\\n'.format(counts.B()))\n",
    "print('Number of sample outcomes = {0}\\n'.format(counts.N()))\n",
    "print('Maximum occuring token = {0}\\n'.format(counts.max()))\n",
    "\n",
    "print('{0:12s}: {1}'.format('Term', 'Count'))\n",
    "print(25*'-')\n",
    "\n",
    "for token, freq in counts.most_common(top_display):\n",
    "    print('{0:12s}:  {1:4.3f}'.format(token, freq))"
   ]
  },
  {
   "cell_type": "markdown",
   "metadata": {},
   "source": [
    "-----\n",
    "\n",
    "For some machine learning applications, words that occur rarely are\n",
    "important. For example, in a classification process, words that are\n",
    "uniquely assigned to a particular message should carry considerable\n",
    "weight. Taken to the extreme, words that only occur once in an entire\n",
    "set of documents, or corpus, provide unique insight into the particular\n",
    "text document in which they occur. A word that only occurs once in an\n",
    "entire corpus is known as a [_hapax_][ha]. NLTK has a `hapaxes` method\n",
    "that can be used to quickly find _hapaxes_ in a corpus.\n",
    "\n",
    "-----\n",
    "[ha]: https://en.wikipedia.org/wiki/Hapax_legomenon"
   ]
  },
  {
   "cell_type": "code",
   "execution_count": 20,
   "metadata": {
    "collapsed": false
   },
   "outputs": [
    {
     "name": "stdout",
     "output_type": "stream",
     "text": [
      "[ 'organization', 'totally', 'repair', 'test', 'autoexec', 's', 'david', '5',\n",
      "  'go', 'check']\n"
     ]
    }
   ],
   "source": [
    "# Hapaxes\n",
    "pp.pprint(counts.hapaxes()[:10])"
   ]
  },
  {
   "cell_type": "markdown",
   "metadata": {},
   "source": [
    "-----\n",
    "\n",
    "We can also use NLTK to quickly see the most commonly used tokens.\n",
    "First, we can use the `tabulate` method to display the top tokens and\n",
    "their frequency (i.e., what we did in multiple lines of code earlier).\n",
    "Second, we can visually plot the counts of the top tokens by using the\n",
    "`plot` method. Note, we decorate the traditional plot by using seaborn,\n",
    "but the `plot` method will generate a simple visualization with one\n",
    "function call.\n",
    "\n",
    "-----"
   ]
  },
  {
   "cell_type": "code",
   "execution_count": 21,
   "metadata": {
    "collapsed": false
   },
   "outputs": [
    {
     "name": "stdout",
     "output_type": "stream",
     "text": [
      "  to    a  the memory   in with   it  bad  run chips \n",
      "   6    6    5    5    4    3    3    3    3    3 \n"
     ]
    }
   ],
   "source": [
    "counts.tabulate(top_display)"
   ]
  },
  {
   "cell_type": "code",
   "execution_count": 22,
   "metadata": {
    "collapsed": false
   },
   "outputs": [
    {
     "data": {
      "image/png": "[encoded data removed]",
      "text/plain": [
       "<matplotlib.figure.Figure at 0x7f04ed5ff128>"
      ]
     },
     "metadata": {},
     "output_type": "display_data"
    }
   ],
   "source": [
    "import seaborn as sns\n",
    "import matplotlib.pyplot as plt\n",
    "\n",
    "fig, axs = plt.subplots(figsize=(10,6))\n",
    "sns.set(style=\"white\", font_scale=1.5)\n",
    "sns.despine(offset=5)#, trim=True)\n",
    "counts.plot(top_display, cumulative=False)\n",
    "axs.set_title('Term Count')\n",
    "plt.show()"
   ]
  },
  {
   "cell_type": "markdown",
   "metadata": {},
   "source": [
    "-----\n",
    "## NLTK Corpus\n",
    "\n",
    "To this point, we have analyzed the twenty newsgroup data that are\n",
    "available from within scikit learn. The NLTK library includes a number\n",
    "of [data sets][nc] that can be downloaded and used directly from within\n",
    "NLTK. One data set that we will use repeatedly in this course will be\n",
    "the NLTK [movie review corpus][mrc]. These data should be available in\n",
    "your Docker container. If not, NLTK provides the `nltk.download()`\n",
    "method to download either all or one particular corpus.\n",
    "\n",
    "In the following code cells, we access the movie review data set,\n",
    "display (part) of the data set's README (or general documentation),\n",
    "before we begin to process the words or terms in the corpus.\n",
    "\n",
    "-----\n",
    "[nc]: http://www.nltk.org/nltk_data/\n",
    "[mrc]: http://www.cs.cornell.edu/people/pabo/movie-review-data/"
   ]
  },
  {
   "cell_type": "code",
   "execution_count": 23,
   "metadata": {
    "collapsed": false
   },
   "outputs": [],
   "source": [
    "# Access the NLTK movie review data set. \n",
    "\n",
    "mvr = nltk.corpus.movie_reviews"
   ]
  },
  {
   "cell_type": "code",
   "execution_count": 24,
   "metadata": {
    "collapsed": false
   },
   "outputs": [
    {
     "name": "stdout",
     "output_type": "stream",
     "text": [
      "Sentiment Polarity Dataset Version 2.0\n",
      "Bo Pang and Lillian Lee\n",
      "\n",
      "http://www.cs.cornell.edu/people/pabo/movie-review-data/\n",
      "\n",
      "Distributed with NLTK with permission from the authors.\n",
      "\n"
     ]
    }
   ],
   "source": [
    "# Print the data set README,  remove array bounds to see entire file\n",
    "print(mvr.readme()[:178])"
   ]
  },
  {
   "cell_type": "code",
   "execution_count": 25,
   "metadata": {
    "collapsed": false
   },
   "outputs": [
    {
     "name": "stdout",
     "output_type": "stream",
     "text": [
      "Movie Review has 39768 tokens and 1583820 words for a lexical diversity of 39.826\n"
     ]
    }
   ],
   "source": [
    "mvr_words = mvr.words()\n",
    "counts  = nltk.FreqDist(mvr_words)\n",
    "num_words = len(mvr_words)\n",
    "num_tokens = len(counts)\n",
    "lexdiv  =  num_words / num_tokens\n",
    "print(\"Movie Review has {0} tokens and {1} words for a lexical diversity of {2:4.3f}\".format(num_tokens, num_words, lexdiv))"
   ]
  },
  {
   "cell_type": "code",
   "execution_count": 26,
   "metadata": {
    "collapsed": false
   },
   "outputs": [
    {
     "name": "stdout",
     "output_type": "stream",
     "text": [
      "[ 'plot', ':', 'two', 'teen', 'couples', 'go', 'to', 'a', 'church', 'party',\n",
      "  ',', 'drink', 'and', 'then', 'drive', '.', 'they', 'get', 'into', 'an',\n",
      "  'accident', '.', 'one', 'of', 'the', 'guys', 'dies', ',', 'but', 'his',\n",
      "  'girlfriend', 'continues', 'to', 'see', 'him', 'in', 'her', 'life', ',',\n",
      "  'and', 'has', 'nightmares', '.', 'what', \"'\", 's', 'the', 'deal', '?',\n",
      "  'watch']\n"
     ]
    }
   ],
   "source": [
    "pp.pprint(mvr.words()[:50])"
   ]
  },
  {
   "cell_type": "markdown",
   "metadata": {},
   "source": [
    "-----\n",
    "\n",
    "The data are organized into separate files for each movie review. Since\n",
    "these reviews have an associated sentiment:? negative and positive, the\n",
    "reviews are categorized (via a directory structure) into `neg` or `pos`\n",
    "respectively. We can directly access a single review, which can be\n",
    "treated as a single text document. In the next few code cells we\n",
    "directly access the number of files, which can be used to count the\n",
    "number of reviews (assuming one review per file). We also display the\n",
    "contents of a single file, before displaying a subset of the files in one\n",
    "particular category, in this case `neg`, or negative reviews.\n",
    "\n",
    "-----"
   ]
  },
  {
   "cell_type": "code",
   "execution_count": 27,
   "metadata": {
    "collapsed": false
   },
   "outputs": [
    {
     "name": "stdout",
     "output_type": "stream",
     "text": [
      "Total Number of reviews = 2000\n"
     ]
    }
   ],
   "source": [
    "# Each article is in a separate file\n",
    "\n",
    "print('Total Number of reviews = {0}'.format(len(mvr.fileids())))"
   ]
  },
  {
   "cell_type": "code",
   "execution_count": 28,
   "metadata": {
    "collapsed": false
   },
   "outputs": [
    {
     "name": "stdout",
     "output_type": "stream",
     "text": [
      "Example File: neg/cv000_29416.txt\n"
     ]
    }
   ],
   "source": [
    "a_filename = mvr.fileids()[0]\n",
    "print('Example File: {0}'.format(a_filename))"
   ]
  },
  {
   "cell_type": "code",
   "execution_count": 29,
   "metadata": {
    "collapsed": false
   },
   "outputs": [
    {
     "name": "stdout",
     "output_type": "stream",
     "text": [
      "('plot : two teen couples go to a church party , drink and then drive . \\n'\n",
      " 'they get into an accident . \\n'\n",
      " 'one of the guys dies , but his girlfriend continues to see him in her life '\n",
      " ', and has nightmares . \\n'\n",
      " \"what's the d\")\n"
     ]
    }
   ],
   "source": [
    "# Print part of the file\n",
    "pp.pprint(mvr.raw(a_filename)[:211])"
   ]
  },
  {
   "cell_type": "code",
   "execution_count": 30,
   "metadata": {
    "collapsed": false
   },
   "outputs": [
    {
     "name": "stdout",
     "output_type": "stream",
     "text": [
      "['neg', 'pos']\n"
     ]
    }
   ],
   "source": [
    "# Display article assigned categories\n",
    "pp.pprint(mvr.categories())"
   ]
  },
  {
   "cell_type": "code",
   "execution_count": 31,
   "metadata": {
    "collapsed": false
   },
   "outputs": [
    {
     "name": "stdout",
     "output_type": "stream",
     "text": [
      "[ 'neg/cv000_29416.txt', 'neg/cv001_19502.txt', 'neg/cv002_17424.txt',\n",
      "  'neg/cv003_12683.txt', 'neg/cv004_12641.txt', 'neg/cv005_29357.txt',\n",
      "  'neg/cv006_17022.txt', 'neg/cv007_4992.txt', 'neg/cv008_29326.txt',\n",
      "  'neg/cv009_29417.txt', 'neg/cv010_29063.txt', 'neg/cv011_13044.txt',\n",
      "  'neg/cv012_29411.txt', 'neg/cv013_10494.txt', 'neg/cv014_15600.txt',\n",
      "  'neg/cv015_29356.txt', 'neg/cv016_4348.txt', 'neg/cv017_23487.txt',\n",
      "  'neg/cv018_21672.txt', 'neg/cv019_16117.txt']\n"
     ]
    }
   ],
   "source": [
    "# Find articles that have specific category\n",
    "pp.pprint(mvr.fileids('neg')[:20])"
   ]
  },
  {
   "cell_type": "markdown",
   "metadata": {},
   "source": [
    "-----\n",
    "\n",
    "Given the contents of a file, we can process the associated text in the\n",
    "same manner as before. In this case, we tokenize one review into\n",
    "sentences as opposed to the traditional word tokens. After this, we\n",
    "create a list of words that are much longer than normal. As this simple\n",
    "example demonstrates, this can be a useful technique to search for\n",
    "potential problems, since in this case, none of the example shown are\n",
    "actual words.\n",
    "\n",
    "\n",
    "-----"
   ]
  },
  {
   "cell_type": "code",
   "execution_count": 32,
   "metadata": {
    "collapsed": false
   },
   "outputs": [
    {
     "name": "stdout",
     "output_type": "stream",
     "text": [
      "[ '9', ':', 'its', 'pathetic', 'attempt', 'at', '\"', 'improving', '\"', 'on',\n",
      "  'a', 'shakespeare', 'classic', '.']\n",
      "['8', ':', 'its', 'just', 'another', 'piece', 'of', 'teen', 'fluff', '.']\n",
      "['7', ':', 'kids', 'in', 'high', 'school', 'are', 'not', 'that', 'witty', '.']\n",
      "['6', ':', 'the', 'wittiness', 'is', 'not', 'witty', 'enough', '.']\n",
      "['5', ':', 'the', 'comedy', 'is', 'not', 'funny', '.']\n",
      "['4', ':', 'the', 'acting', 'is', 'poor', '.']\n",
      "['3', ':', 'the', 'music', '.']\n",
      "['2', ':', 'the', 'poster', '.']\n",
      "['1', ':', 'its', 'worse', 'than', 'she', \"'\", 's', 'all', 'that', '!']\n",
      "[ '10', '=', 'a', 'classic', '9', '=', 'borderline', 'classic', '8', '=',\n",
      "  'excellent', '7', '=', 'good', '6', '=', 'better', 'than', 'average', '5',\n",
      "  '=', 'average', '4', '=', 'disappointing', '3', '=', 'poor', '2', '=',\n",
      "  'awful', '1', '=', 'a', 'crap', 'classic']\n"
     ]
    }
   ],
   "source": [
    "# Display sentances from an article\n",
    "\n",
    "a_filename = 'neg/cv779_18989.txt'\n",
    "for sent in mvr.sents(a_filename):\n",
    "    pp.pprint(sent)"
   ]
  },
  {
   "cell_type": "code",
   "execution_count": 33,
   "metadata": {
    "collapsed": false
   },
   "outputs": [
    {
     "name": "stdout",
     "output_type": "stream",
     "text": [
      "[ 'uuuuuuggggggglllllllyyyyy', 's_funniest_home_videos_',\n",
      "  '_the_last_days_of_disco_', '_i_know_what_you_did_last_summer_',\n",
      "  '_fear_and_loathing_in_las_vegas_', '_breakfast_of_champions_',\n",
      "  '_breakfast_of_champions_', '_a_night_at_the_roxbury_',\n",
      "  '_a_night_at_the_roxbury_',\n",
      "  '__________________________________________________________',\n",
      "  '____________________________________________', '==========================',\n",
      "  '========================', '=======================',\n",
      "  '--------------------------------------------------------------',\n",
      "  '--------------------------------------------------------------',\n",
      "  '--------------------------------------------------------------',\n",
      "  '--------------------------------------------------------------',\n",
      "  '--------------------------------------------------------------',\n",
      "  '--------------------------------------------------------------']\n"
     ]
    }
   ],
   "source": [
    "# We can process the words with normal Python\n",
    "# For example, print out really long words\n",
    "long_words = [word for word in mvr_words if len(word) > 22]\n",
    "long_words.sort(reverse=True)\n",
    "pp.pprint(long_words)"
   ]
  },
  {
   "cell_type": "markdown",
   "metadata": {},
   "source": [
    "-----\n",
    "\n",
    "## Student Activity\n",
    "\n",
    "In the preceding cells, we used NLTK to access the movie review corpus.\n",
    "Now that you have run the Notebook, go back and make the following\n",
    "changes to see how the results change.\n",
    "\n",
    "1. Tabulate the top tokens in the entire movie review corpus.\n",
    "2. Plot the top tokens in the entire movie review corpus.\n",
    "3. Search for words longer than eighteen characters. Did you find any\n",
    "real words?\n",
    "\n",
    "\n",
    "-----"
   ]
  }
 ],
 "metadata": {
  "kernelspec": {
   "display_name": "Python 3",
   "language": "python",
   "name": "python3"
  },
  "language_info": {
   "codemirror_mode": {
    "name": "ipython",
    "version": 3
   },
   "file_extension": ".py",
   "mimetype": "text/x-python",
   "name": "python",
   "nbconvert_exporter": "python",
   "pygments_lexer": "ipython3",
   "version": "3.5.1"
  }
 },
 "nbformat": 4,
 "nbformat_minor": 0
}
