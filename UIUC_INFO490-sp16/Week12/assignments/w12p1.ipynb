{
 "cells": [
  {
   "cell_type": "markdown",
   "metadata": {
    "deletable": false,
    "nbgrader": {
     "checksum": "6a9d5a319fb30cd5cb031b38bf8955f4",
     "grade": false,
     "grade_id": "header",
     "locked": true,
     "solution": false
    }
   },
   "source": [
    "This notebook will be collected automatically at **6pm on Monday** from `/home/data_scientist/assignments/Week12` directory on the course JupyterHub server. If you work on this assignment on the course Jupyterhub server, just make sure that you save your work and instructors will pull your notebooks automatically after the deadline. If you work on this assignment locally, the only way to submit assignments is via Jupyterhub, and you have to place the notebook file in the correct directory with the correct file name before the deadline.\n",
    "\n",
    "1. Make sure everything runs as expected. First, restart the kernel (in the menubar, select `Kernel` → `Restart`) and then run all cells (in the menubar, select `Cell` → `Run All`).\n",
    "2. Make sure you fill in any place that says `YOUR CODE HERE`. Do not write your answer in anywhere else other than where it says `YOUR CODE HERE`. Anything you write anywhere else will be removed by the autograder.\n",
    "3. Do not change the file path or the file name of this notebook.\n",
    "4. Make sure that you save your work (in the menubar, select `File` → `Save and CheckPoint`)"
   ]
  },
  {
   "cell_type": "markdown",
   "metadata": {
    "deletable": false,
    "nbgrader": {
     "checksum": "aac49cfdea9b36c51f3e02c268bdeebe",
     "grade": false,
     "grade_id": "title",
     "locked": true,
     "solution": false
    }
   },
   "source": [
    "## Problem 12.1. MapReduce.\n",
    "\n",
    "In this problem, we will use Hadoop Streaming to execute a MapReduce code written in Python."
   ]
  },
  {
   "cell_type": "code",
   "execution_count": null,
   "metadata": {
    "collapsed": true,
    "deletable": false,
    "nbgrader": {
     "checksum": "f031162e2abc7fcf51f9dd275606ff76",
     "grade": false,
     "grade_id": "import",
     "locked": true,
     "solution": false
    }
   },
   "outputs": [],
   "source": [
    "import os\n",
    "from nose.tools import assert_equal, assert_true"
   ]
  },
  {
   "cell_type": "markdown",
   "metadata": {
    "deletable": false,
    "nbgrader": {
     "checksum": "54f56796e10423a3f721bb427b1abd5c",
     "grade": false,
     "grade_id": "markdown_1",
     "locked": true,
     "solution": false
    }
   },
   "source": [
    "We will use the [airline on-time performance data](http://stat-computing.org/dataexpo/2009/), but before proceeding, recall that the data set is encoded in `latin-1`. However, the Python 3 interpreter expects the standard input and output to be in `utf-8` encoding. Thus, we have to explicitly state that the Python interpreter should use `latin-1` for all IO operations, which we can do by setting the Python environment variable `PYTHONIOENCODING` equal to `latin-1`. We can set the environment variables of the current IPython kernel by modifying the `os.environ` dictionary."
   ]
  },
  {
   "cell_type": "code",
   "execution_count": null,
   "metadata": {
    "collapsed": false,
    "deletable": false,
    "nbgrader": {
     "checksum": "3e7906fde5d4b7f27e9927d261b3f089",
     "grade": false,
     "grade_id": "os_environ",
     "locked": true,
     "solution": false
    }
   },
   "outputs": [],
   "source": [
    "os.environ['PYTHONIOENCODING'] = 'latin-1'"
   ]
  },
  {
   "cell_type": "markdown",
   "metadata": {
    "deletable": false,
    "nbgrader": {
     "checksum": "c65ffad078dda3747245ec34b0791730",
     "grade": false,
     "grade_id": "markdown_2",
     "locked": true,
     "solution": false
    }
   },
   "source": [
    "Let's use the shell to check if the variable is set correctly. If you are not familiar with the following syntax (i.e., Python variable = ! shell command), [this notebook](https://github.com/UI-DataScience/info490-fa15/blob/master/Week4/assignment/unix_ipython.ipynb) from the previous semester might be useful."
   ]
  },
  {
   "cell_type": "code",
   "execution_count": null,
   "metadata": {
    "collapsed": false,
    "deletable": false,
    "nbgrader": {
     "checksum": "8de6d2887a1792f2183e070174de9b84",
     "grade": false,
     "grade_id": "pythonioencoding",
     "locked": true,
     "solution": false
    }
   },
   "outputs": [],
   "source": [
    "python_io_encoding = ! echo $PYTHONIOENCODING\n",
    "assert_equal(python_io_encoding.s, 'latin-1')"
   ]
  },
  {
   "cell_type": "markdown",
   "metadata": {
    "deletable": false,
    "nbgrader": {
     "checksum": "26c75d60c6ea3cee8c379e152004925b",
     "grade": false,
     "grade_id": "markdown_3",
     "locked": true,
     "solution": false
    }
   },
   "source": [
    "## Mapper\n",
    "\n",
    "Write a Python script that\n",
    "  - Reads data from `STDIN`,\n",
    "  - Skips the first line (The first line of `2001.csv` is the header that has the column titles.)\n",
    "  - Outputs to `STDOUT` the `Origin` and `DepDelay` columns separated with a tab."
   ]
  },
  {
   "cell_type": "code",
   "execution_count": null,
   "metadata": {
    "collapsed": false,
    "deletable": false,
    "nbgrader": {
     "checksum": "5462e16b875b4b848820898cc6083cb3",
     "grade": false,
     "grade_id": "mapper_answer",
     "locked": false,
     "solution": true
    }
   },
   "outputs": [],
   "source": [
    "%%writefile mapper.py\n",
    "#!/usr/bin/env python3\n",
    "\n",
    "import sys\n",
    "\n",
    "# YOUR CODE HERE"
   ]
  },
  {
   "cell_type": "markdown",
   "metadata": {
    "deletable": false,
    "nbgrader": {
     "checksum": "74b6b924b70d3777c7d46159dc6b3e8f",
     "grade": false,
     "grade_id": "markdown_4",
     "locked": true,
     "solution": false
    }
   },
   "source": [
    "We need make the file executable."
   ]
  },
  {
   "cell_type": "code",
   "execution_count": null,
   "metadata": {
    "collapsed": false,
    "deletable": false,
    "nbgrader": {
     "checksum": "45db6ad323b7869347842777aaadb992",
     "grade": false,
     "grade_id": "chmod_mapper",
     "locked": true,
     "solution": false
    }
   },
   "outputs": [],
   "source": [
    "! chmod u+x mapper.py"
   ]
  },
  {
   "cell_type": "markdown",
   "metadata": {
    "deletable": false,
    "nbgrader": {
     "checksum": "4438b3a411c0254c27b392517414a511",
     "grade": false,
     "grade_id": "markdown_5",
     "locked": true,
     "solution": false
    }
   },
   "source": [
    "Before testing the mapper code on the entire data set, let's first create a small file and test our code on this small data set."
   ]
  },
  {
   "cell_type": "code",
   "execution_count": null,
   "metadata": {
    "collapsed": false,
    "deletable": false,
    "nbgrader": {
     "checksum": "06147b916a7f5c463db26b61271f3166",
     "grade": false,
     "grade_id": "head_csv",
     "locked": true,
     "solution": false
    }
   },
   "outputs": [],
   "source": [
    "! head -n 50 $HOME/data/2001.csv > 2001.csv.head\n",
    "map_out_head = ! ./mapper.py < 2001.csv.head\n",
    "print('\\n'.join(map_out_head))"
   ]
  },
  {
   "cell_type": "code",
   "execution_count": null,
   "metadata": {
    "collapsed": true,
    "deletable": false,
    "nbgrader": {
     "checksum": "2a2d452e098a927ba553cf1a88a19a02",
     "grade": true,
     "grade_id": "mapper_test",
     "locked": true,
     "points": 5,
     "solution": false
    }
   },
   "outputs": [],
   "source": [
    "assert_equal(\n",
    "    map_out_head,\n",
    "    ['BWI\\t-4', 'BWI\\t-5', 'BWI\\t11', 'BWI\\t-3', 'BWI\\t0',\n",
    "     'BWI\\t-3', 'BWI\\t-8', 'BWI\\t-6', 'BWI\\t2', 'BWI\\t2',\n",
    "     'BWI\\t2', 'BWI\\t-6', 'BWI\\t-8', 'BWI\\t-3', 'BWI\\t-5',\n",
    "     'PHL\\t20', 'PHL\\t100', 'PHL\\t1', 'PHL\\t-2', 'PHL\\t-7',\n",
    "     'PHL\\tNA', 'PHL\\t4', 'PHL\\t3', 'PHL\\t-4', 'PHL\\t-5',\n",
    "     'PHL\\t-4', 'PHL\\t17', 'PHL\\t-5', 'PHL\\t0', 'PHL\\t-2',\n",
    "     'PHL\\t97', 'PHL\\t3', 'PHL\\t-4', 'PHL\\tNA', 'PHL\\t17',\n",
    "     'PHL\\tNA', 'PHL\\t2', 'PHL\\t27', 'PHL\\t3', 'PHL\\t-6',\n",
    "     'PHL\\t-3', 'PHL\\t-3', 'PHL\\t-5', 'PHL\\t-2', 'PHL\\t-3',\n",
    "     'PHL\\t1', 'CLT\\t32', 'CLT\\t18', 'CLT\\t38']\n",
    "    )"
   ]
  },
  {
   "cell_type": "markdown",
   "metadata": {
    "deletable": false,
    "nbgrader": {
     "checksum": "bd57be08a8602f22cfb52ac7ea61e44f",
     "grade": false,
     "grade_id": "markdown_6",
     "locked": true,
     "solution": false
    }
   },
   "source": [
    "## Reducer\n",
    "\n",
    "Write a Python script that\n",
    "\n",
    "  - Reads key-value pairs from `STDIN`,\n",
    "  - Computes the minimum and maximum departure delays at each airport,\n",
    "  - Outputs to `STDOUT` the airports and the minimum and maximum departure delays at each airport, separated with tabs.\n",
    "  \n",
    "For example,\n",
    "\n",
    "```shell\n",
    "$ ./mapper.py < 2001.csv.head | sort -n -k 1 | ./reducer.py\n",
    "```\n",
    "\n",
    "should give\n",
    "\n",
    "```\n",
    "BWI\t-8\t11\n",
    "CLT\t18\t38\n",
    "PHL\t-7\t100\n",
    "```"
   ]
  },
  {
   "cell_type": "code",
   "execution_count": null,
   "metadata": {
    "collapsed": false,
    "deletable": false,
    "nbgrader": {
     "checksum": "577e94ce77f20e9fcab4548473e6068b",
     "grade": false,
     "grade_id": "reducer_answer",
     "locked": false,
     "solution": true
    }
   },
   "outputs": [],
   "source": [
    "%%writefile reducer.py\n",
    "#!/usr/bin/env python3\n",
    "\n",
    "import sys\n",
    "\n",
    "# YOUR CODE HERE"
   ]
  },
  {
   "cell_type": "code",
   "execution_count": null,
   "metadata": {
    "collapsed": false,
    "deletable": false,
    "nbgrader": {
     "checksum": "116d84eeb57b5821803b1c5dd6079cdd",
     "grade": false,
     "grade_id": "chmod_reducer",
     "locked": true,
     "solution": false
    }
   },
   "outputs": [],
   "source": [
    "! chmod u+x reducer.py"
   ]
  },
  {
   "cell_type": "code",
   "execution_count": null,
   "metadata": {
    "collapsed": false,
    "deletable": false,
    "nbgrader": {
     "checksum": "c32d9b3eb5c3cdd12d43453646c4a41e",
     "grade": false,
     "grade_id": "print_red_head_out",
     "locked": true,
     "solution": false
    }
   },
   "outputs": [],
   "source": [
    "red_head_out = ! ./mapper.py < 2001.csv.head | sort -n -k 1 | ./reducer.py\n",
    "print('\\n'.join(red_head_out))"
   ]
  },
  {
   "cell_type": "code",
   "execution_count": null,
   "metadata": {
    "collapsed": true,
    "deletable": false,
    "nbgrader": {
     "checksum": "1d32459a7ba5b6dac55c9eca6de909e5",
     "grade": true,
     "grade_id": "reducer_test",
     "locked": true,
     "points": 5,
     "solution": false
    }
   },
   "outputs": [],
   "source": [
    "assert_equal(red_head_out, ['BWI\\t-8\\t11', 'CLT\\t18\\t38', 'PHL\\t-7\\t100'])"
   ]
  },
  {
   "cell_type": "markdown",
   "metadata": {
    "deletable": false,
    "nbgrader": {
     "checksum": "acacae226783a3ccc0f58e89b87f26c8",
     "grade": false,
     "grade_id": "markdown_7",
     "locked": true,
     "solution": false
    }
   },
   "source": [
    "If the previous tests on the smaller data set were successful, we can run the mapreduce on the entire data set."
   ]
  },
  {
   "cell_type": "code",
   "execution_count": null,
   "metadata": {
    "collapsed": false,
    "deletable": false,
    "nbgrader": {
     "checksum": "1b626b777b93117328d274074ae30df2",
     "grade": false,
     "grade_id": "print_mapred_out",
     "locked": true,
     "points": 15,
     "solution": false
    }
   },
   "outputs": [],
   "source": [
    "mapred_out = ! ./mapper.py < $HOME/data/2001.csv | sort -n -k 1 | ./reducer.py\n",
    "print('\\n'.join(mapred_out[:10]))"
   ]
  },
  {
   "cell_type": "code",
   "execution_count": null,
   "metadata": {
    "collapsed": false,
    "deletable": false,
    "nbgrader": {
     "checksum": "4bd27cfc2f7914ce09878fac2c7b755a",
     "grade": true,
     "grade_id": "mapred_test",
     "locked": true,
     "points": 15,
     "solution": false
    }
   },
   "outputs": [],
   "source": [
    "assert_equal(len(mapred_out), 231)\n",
    "assert_equal(mapred_out[:5], ['ABE\\t-30\\t666', 'ABI\\t-19\\t285', 'ABQ\\t-30\\t576', 'ACT\\t-22\\t234', 'ACY\\t106\\t106'])\n",
    "assert_equal(mapred_out[-5:], ['TYS\\t-15\\t757', 'VPS\\t-14\\t389', 'WRG\\t-52\\t494', 'XNA\\t-20\\t813', 'YAK\\t-28\\t396'])"
   ]
  },
  {
   "cell_type": "markdown",
   "metadata": {
    "deletable": false,
    "nbgrader": {
     "checksum": "a5494cd4c175f076e94595e7cf322f36",
     "grade": false,
     "grade_id": "markdown_8",
     "locked": true,
     "solution": false
    }
   },
   "source": [
    "## HDFS: Reset\n",
    "\n",
    "We will do some cleaning up before we run Hadoop streaming. Let's first stop the [namenode and datanodes](https://hadoop.apache.org/docs/r1.2.1/hdfs_design.html)."
   ]
  },
  {
   "cell_type": "code",
   "execution_count": null,
   "metadata": {
    "collapsed": false,
    "deletable": false,
    "nbgrader": {
     "checksum": "9d80b0ad0ee1800ef4bd250fb25d0834",
     "grade": false,
     "grade_id": "stop_dfs",
     "locked": true,
     "solution": false
    }
   },
   "outputs": [],
   "source": [
    "! $HADOOP_PREFIX/sbin/stop-dfs.sh\n",
    "! $HADOOP_PREFIX/sbin/stop-yarn.sh"
   ]
  },
  {
   "cell_type": "markdown",
   "metadata": {
    "deletable": false,
    "nbgrader": {
     "checksum": "58b6012aa82d530ffe36420eaf5e8b0d",
     "grade": false,
     "grade_id": "markdown_9",
     "locked": true,
     "solution": false
    }
   },
   "source": [
    "If there are any temporary files created during the previous Hadoop operation, we want to clean them up."
   ]
  },
  {
   "cell_type": "code",
   "execution_count": null,
   "metadata": {
    "collapsed": true,
    "deletable": false,
    "nbgrader": {
     "checksum": "d6c4b22eb88a2b1b047ffd31c5f0dee7",
     "grade": false,
     "grade_id": "rm_tmp",
     "locked": true,
     "solution": false
    }
   },
   "outputs": [],
   "source": [
    "! rm -rf /tmp/*"
   ]
  },
  {
   "cell_type": "markdown",
   "metadata": {
    "deletable": false,
    "nbgrader": {
     "checksum": "cb4cc641b35d74ac705e9e510076acd0",
     "grade": false,
     "grade_id": "markdown_10",
     "locked": true,
     "solution": false
    }
   },
   "source": [
    "We will simply [format the namenode](https://wiki.apache.org/hadoop/GettingStartedWithHadoop#Formatting_the_Namenode) and delete all files in our HDFS. Note that our HDFS is in an ephemeral Docker container, so all data will be lost anyway when the Docker container is shut down."
   ]
  },
  {
   "cell_type": "code",
   "execution_count": null,
   "metadata": {
    "collapsed": false,
    "deletable": false,
    "nbgrader": {
     "checksum": "f45a70c893a0b3bc36054ce691b8b77b",
     "grade": false,
     "grade_id": "format_namenode",
     "locked": true,
     "solution": false
    }
   },
   "outputs": [],
   "source": [
    "! echo \"Y\" | $HADOOP_PREFIX/bin/hdfs namenode -format 2> /dev/null"
   ]
  },
  {
   "cell_type": "markdown",
   "metadata": {
    "deletable": false,
    "nbgrader": {
     "checksum": "e25ae4525c6108ddefb363a864f53810",
     "grade": false,
     "grade_id": "markdown_11",
     "locked": true,
     "solution": false
    }
   },
   "source": [
    "After formatting the namenode, we restart the namenode and datanodes."
   ]
  },
  {
   "cell_type": "code",
   "execution_count": null,
   "metadata": {
    "collapsed": false,
    "deletable": false,
    "nbgrader": {
     "checksum": "d125ebad14694cb0db192ed38fa992b8",
     "grade": false,
     "grade_id": "start_dfs",
     "locked": true,
     "solution": false
    }
   },
   "outputs": [],
   "source": [
    "!$HADOOP_PREFIX/etc/hadoop/hadoop-env.sh\n",
    "!$HADOOP_PREFIX/sbin/start-dfs.sh\n",
    "!$HADOOP_PREFIX/sbin/start-yarn.sh"
   ]
  },
  {
   "cell_type": "markdown",
   "metadata": {
    "deletable": false,
    "nbgrader": {
     "checksum": "d27f137ba10b75f650a95f8cdeda3359",
     "grade": false,
     "grade_id": "markdown_12",
     "locked": true,
     "solution": false
    }
   },
   "source": [
    "Sometimes when the namenode is restarted, it enteres Safe Mode, not allowing any changes to the file system. We do want to make changes, so we manually leave Safe Mode."
   ]
  },
  {
   "cell_type": "code",
   "execution_count": null,
   "metadata": {
    "collapsed": false,
    "deletable": false,
    "nbgrader": {
     "checksum": "414927d448a62d71d8a59e3660a35a71",
     "grade": false,
     "grade_id": "leave_safemode",
     "locked": true,
     "solution": false
    }
   },
   "outputs": [],
   "source": [
    "! $HADOOP_PREFIX/bin/hdfs dfsadmin -safemode leave"
   ]
  },
  {
   "cell_type": "markdown",
   "metadata": {
    "deletable": false,
    "nbgrader": {
     "checksum": "52d35ba08290de85a816749e7d802358",
     "grade": false,
     "grade_id": "markdown_13",
     "locked": true,
     "solution": false
    }
   },
   "source": [
    "## HDFS: Create directory\n",
    "\n",
    "- Create a new directory in HDFS at `/user/data_scientist`."
   ]
  },
  {
   "cell_type": "code",
   "execution_count": null,
   "metadata": {
    "collapsed": false,
    "deletable": false,
    "nbgrader": {
     "checksum": "87678b3b8b0718be86659d2c63226ef0",
     "grade": false,
     "grade_id": "mkdir_user_answer",
     "locked": false,
     "solution": true
    }
   },
   "outputs": [],
   "source": [
    "# Create a new directory in HDFS at /user/data_scientist.\n",
    "\n",
    "# YOUR CODE HERE"
   ]
  },
  {
   "cell_type": "code",
   "execution_count": null,
   "metadata": {
    "collapsed": false,
    "deletable": false,
    "nbgrader": {
     "checksum": "8ff7f2449db429a227393b7116d5429e",
     "grade": false,
     "grade_id": "print_user_dir",
     "locked": true,
     "solution": false
    }
   },
   "outputs": [],
   "source": [
    "ls_user = ! $HADOOP_PREFIX/bin/hdfs dfs -ls /user/\n",
    "print('\\n'.join(ls_user))"
   ]
  },
  {
   "cell_type": "code",
   "execution_count": null,
   "metadata": {
    "collapsed": false,
    "deletable": false,
    "nbgrader": {
     "checksum": "84f9adc56c6dd440ebe9cb419599ed16",
     "grade": true,
     "grade_id": "mkdir_user_test",
     "locked": true,
     "points": 3,
     "solution": false
    }
   },
   "outputs": [],
   "source": [
    "assert_true('/user/data_scientist' in ls_user.s)"
   ]
  },
  {
   "cell_type": "markdown",
   "metadata": {
    "deletable": false,
    "nbgrader": {
     "checksum": "271d5fc842bc695a6a5e5f4c5ed1e3f4",
     "grade": false,
     "grade_id": "markdown_14",
     "locked": true,
     "solution": false
    }
   },
   "source": [
    "- Create a new directory in HDFS at `/user/data_scientist/wc/in`"
   ]
  },
  {
   "cell_type": "code",
   "execution_count": null,
   "metadata": {
    "collapsed": false,
    "deletable": false,
    "nbgrader": {
     "checksum": "d942e42ca13f85183f1f3e60e4ab66e4",
     "grade": false,
     "grade_id": "mkdir_wc_answer",
     "locked": false,
     "solution": true
    }
   },
   "outputs": [],
   "source": [
    "# Create a new directory in HDFS at `/user/data_scientist/wc/in`\n",
    "\n",
    "# YOUR CODE HERE"
   ]
  },
  {
   "cell_type": "code",
   "execution_count": null,
   "metadata": {
    "collapsed": false,
    "deletable": false,
    "nbgrader": {
     "checksum": "2bb267029f1cdcec08bd2729637d7f7c",
     "grade": false,
     "grade_id": "print_wc_1",
     "locked": true,
     "solution": false
    }
   },
   "outputs": [],
   "source": [
    "ls_wc = ! $HADOOP_PREFIX/bin/hdfs dfs -ls wc\n",
    "print('\\n'.join(ls_wc))"
   ]
  },
  {
   "cell_type": "code",
   "execution_count": null,
   "metadata": {
    "collapsed": false,
    "deletable": false,
    "nbgrader": {
     "checksum": "09237fe799cebf357c6d4012ca8b8767",
     "grade": true,
     "grade_id": "mkdir_wc_test",
     "locked": true,
     "points": 3,
     "solution": false
    }
   },
   "outputs": [],
   "source": [
    "assert_true('wc/in' in ls_wc.s)"
   ]
  },
  {
   "cell_type": "markdown",
   "metadata": {
    "deletable": false,
    "nbgrader": {
     "checksum": "13625f0e5ff95d5a949eec08a7553a6a",
     "grade": false,
     "grade_id": "markdown_15",
     "locked": true,
     "solution": false
    }
   },
   "source": [
    "## HDFS: Copy\n",
    "\n",
    "- Copy `/home/data_scientist/data/2001.csv` from local file system into our new HDFS directory `wc/in`."
   ]
  },
  {
   "cell_type": "code",
   "execution_count": null,
   "metadata": {
    "collapsed": false,
    "deletable": false,
    "nbgrader": {
     "checksum": "987b0deca0e75ca26456ff1b7b1a6468",
     "grade": false,
     "grade_id": "put_csv_answer",
     "locked": false,
     "solution": true
    }
   },
   "outputs": [],
   "source": [
    "# Copy `/home/data_scientist/data/2001.csv` from local file system into our new HDFS directory `wc/in`.\n",
    "\n",
    "# YOUR CODE HERE"
   ]
  },
  {
   "cell_type": "code",
   "execution_count": null,
   "metadata": {
    "collapsed": false,
    "deletable": false,
    "nbgrader": {
     "checksum": "1acd1a962a4241fe999e828e68e9041f",
     "grade": false,
     "grade_id": "print_wc_2",
     "locked": true,
     "solution": false
    }
   },
   "outputs": [],
   "source": [
    "ls_wc_in = ! $HADOOP_PREFIX/bin/hdfs dfs -ls wc/in\n",
    "print('\\n'.join(ls_wc_in))"
   ]
  },
  {
   "cell_type": "code",
   "execution_count": null,
   "metadata": {
    "collapsed": false,
    "deletable": false,
    "nbgrader": {
     "checksum": "9c4b9e08c3941761460410d9b154df38",
     "grade": true,
     "grade_id": "put_csv_test",
     "locked": true,
     "points": 4,
     "solution": false
    }
   },
   "outputs": [],
   "source": [
    "assert_true('wc/in/2001.csv' in ls_wc_in.s)"
   ]
  },
  {
   "cell_type": "markdown",
   "metadata": {
    "deletable": false,
    "nbgrader": {
     "checksum": "9e6cc3ff68930ecfa168bdda54d6a0d0",
     "grade": false,
     "grade_id": "markdown_16",
     "locked": true,
     "solution": false
    }
   },
   "source": [
    "## Python Hadoop Streaming\n",
    "\n",
    "- Run `mapper.py` and `reducer.py` via Hadoop Streaming.\n",
    "- Use `/usr/local/hadoop/share/hadoop/tools/lib/hadoop-streaming-2.7.2.jar`.\n",
    "- We need to pass the `PYTHONIOENCODING` environment variable to our Hadoop streaming task. To find out how to set `PYTHONIOENCODING` to `latin-1` in a Hadoop streaming task, use the `--help` and `-info` options."
   ]
  },
  {
   "cell_type": "code",
   "execution_count": null,
   "metadata": {
    "collapsed": false,
    "deletable": false,
    "nbgrader": {
     "checksum": "a81465f086561001174b6537a2b423c4",
     "grade": false,
     "grade_id": "stream_answer",
     "locked": false,
     "solution": true
    },
    "scrolled": true
   },
   "outputs": [],
   "source": [
    "# Run Python code via Hadoop streaming\n",
    "\n",
    "# YOUR CODE HERE"
   ]
  },
  {
   "cell_type": "code",
   "execution_count": null,
   "metadata": {
    "collapsed": false,
    "deletable": false,
    "nbgrader": {
     "checksum": "d36e4eb945e5a26ee0d7d2a2e1f67416",
     "grade": false,
     "grade_id": "print_wc_out",
     "locked": true,
     "solution": false
    }
   },
   "outputs": [],
   "source": [
    "ls_wc_out = ! $HADOOP_PREFIX/bin/hdfs dfs -ls wc/out\n",
    "print('\\n'.join(ls_wc_out))"
   ]
  },
  {
   "cell_type": "code",
   "execution_count": null,
   "metadata": {
    "collapsed": true,
    "deletable": false,
    "nbgrader": {
     "checksum": "df117688327be68ad0fbe76c8a1d0531",
     "grade": true,
     "grade_id": "stream_test_1",
     "locked": true,
     "points": 5,
     "solution": false
    }
   },
   "outputs": [],
   "source": [
    "assert_true('wc/out/_SUCCESS' in ls_wc_out.s)\n",
    "assert_true('wc/out/part-00000' in ls_wc_out.s)"
   ]
  },
  {
   "cell_type": "code",
   "execution_count": null,
   "metadata": {
    "collapsed": false,
    "deletable": false,
    "nbgrader": {
     "checksum": "cc22509b73fa2029b07f12dd8c2c7f11",
     "grade": false,
     "grade_id": "print_wc_out_part",
     "locked": true,
     "solution": false
    }
   },
   "outputs": [],
   "source": [
    "stream_out = ! $HADOOP_PREFIX/bin/hdfs dfs -cat wc/out/part-00000\n",
    "print('\\n'.join(stream_out[:10]))"
   ]
  },
  {
   "cell_type": "code",
   "execution_count": null,
   "metadata": {
    "collapsed": false,
    "deletable": false,
    "nbgrader": {
     "checksum": "c8bc6f9e83bafd7a8f559a7d995da5f0",
     "grade": true,
     "grade_id": "stream_test_2",
     "locked": true,
     "points": 10,
     "solution": false
    }
   },
   "outputs": [],
   "source": [
    "assert_equal(mapred_out, stream_out)"
   ]
  },
  {
   "cell_type": "markdown",
   "metadata": {
    "deletable": false,
    "nbgrader": {
     "checksum": "27c6c2b5c6026ed783833b4018ae4730",
     "grade": false,
     "grade_id": "markdown_17",
     "locked": true,
     "solution": false
    }
   },
   "source": [
    "## Cleanup"
   ]
  },
  {
   "cell_type": "code",
   "execution_count": null,
   "metadata": {
    "collapsed": false,
    "deletable": false,
    "nbgrader": {
     "checksum": "aaba4bec2c85276e5400a1e9929d286c",
     "grade": false,
     "grade_id": "cleanup",
     "locked": true,
     "solution": false
    }
   },
   "outputs": [],
   "source": [
    "! $HADOOP_PREFIX/bin/hdfs dfs -rm -r -f -skipTrash wc/out"
   ]
  }
 ],
 "metadata": {
  "kernelspec": {
   "display_name": "Python 3",
   "language": "python",
   "name": "python3"
  },
  "language_info": {
   "codemirror_mode": {
    "name": "ipython",
    "version": 3
   },
   "file_extension": ".py",
   "mimetype": "text/x-python",
   "name": "python",
   "nbconvert_exporter": "python",
   "pygments_lexer": "ipython3",
   "version": "3.5.1"
  }
 },
 "nbformat": 4,
 "nbformat_minor": 0
}
