{
 "cells": [
  {
   "cell_type": "markdown",
   "metadata": {
    "deletable": false,
    "nbgrader": {
     "checksum": "6a9d5a319fb30cd5cb031b38bf8955f4",
     "grade": false,
     "grade_id": "header",
     "locked": true,
     "solution": false
    }
   },
   "source": [
    "This notebook will be collected automatically at **6pm on Monday** from `/home/data_scientist/assignments/Week12` directory on the course JupyterHub server. If you work on this assignment on the course Jupyterhub server, just make sure that you save your work and instructors will pull your notebooks automatically after the deadline. If you work on this assignment locally, the only way to submit assignments is via Jupyterhub, and you have to place the notebook file in the correct directory with the correct file name before the deadline.\n",
    "\n",
    "1. Make sure everything runs as expected. First, restart the kernel (in the menubar, select `Kernel` → `Restart`) and then run all cells (in the menubar, select `Cell` → `Run All`).\n",
    "2. Make sure you fill in any place that says `YOUR CODE HERE`. Do not write your answer in anywhere else other than where it says `YOUR CODE HERE`. Anything you write anywhere else will be removed by the autograder.\n",
    "3. Do not change the file path or the file name of this notebook.\n",
    "4. Make sure that you save your work (in the menubar, select `File` → `Save and CheckPoint`)"
   ]
  },
  {
   "cell_type": "markdown",
   "metadata": {
    "deletable": false,
    "nbgrader": {
     "checksum": "46d4b8f01565dadff07b5b77a0df0a50",
     "grade": false,
     "grade_id": "title",
     "locked": true,
     "solution": false
    }
   },
   "source": [
    "# Problem 12.2. Apache Pig.\n",
    "\n",
    "In this problem, we will run Pig to compute the average rating for each movie in the MovieLens data set."
   ]
  },
  {
   "cell_type": "code",
   "execution_count": null,
   "metadata": {
    "collapsed": true,
    "deletable": false,
    "nbgrader": {
     "checksum": "8c956b2ab65aaece9f24b851bc99f8b7",
     "grade": false,
     "grade_id": "import",
     "locked": true,
     "solution": false
    }
   },
   "outputs": [],
   "source": [
    "from nose.tools import assert_equal, assert_almost_equal"
   ]
  },
  {
   "cell_type": "markdown",
   "metadata": {
    "deletable": false,
    "nbgrader": {
     "checksum": "38f6bca90c4258932dd2f9a024340a07",
     "grade": false,
     "grade_id": "markdown_1",
     "locked": true,
     "solution": false
    }
   },
   "source": [
    "Since each data file in the MovieLens includes a header row, we employ the following Bash script to \n",
    "remove the first line from each file and make copies of the data files we will be using."
   ]
  },
  {
   "cell_type": "code",
   "execution_count": null,
   "metadata": {
    "collapsed": false,
    "deletable": false,
    "nbgrader": {
     "checksum": "f0fa11469e63ba3dccf1bbbbe1ee00b2",
     "grade": false,
     "grade_id": "sed",
     "locked": true,
     "solution": false
    }
   },
   "outputs": [],
   "source": [
    "%%bash\n",
    "\n",
    "sed '1d' $HOME/data/ml-latest-small/ratings.csv > ratings.csv\n",
    "sed '1d' $HOME/data/ml-latest-small/movies.csv > movies.csv\n",
    "\n",
    "echo\n",
    "echo '***** Ratings File *****'\n",
    "head ratings.csv\n",
    "\n",
    "echo\n",
    "echo '***** Movies File *****'\n",
    "head movies.csv"
   ]
  },
  {
   "cell_type": "markdown",
   "metadata": {
    "deletable": false,
    "nbgrader": {
     "checksum": "51b8b28f577c11fc0a50a9ce3daf850b",
     "grade": false,
     "grade_id": "markdown_2",
     "locked": true,
     "solution": false
    }
   },
   "source": [
    "## Pig: Average\n",
    "\n",
    "Write a Pig script that\n",
    "\n",
    "- Imports `ratings.csv` and `movies.csv`,\n",
    "- Groups all reviews by movie ID and uses [AVG](https://pig.apache.org/docs/r0.7.0/piglatin_ref2.html#AVG) to compute the average rating for each movie,\n",
    "- Joins the two data sets on the movie ID column, and\n",
    "- Uses the DUMP command to display the first 10 rows.\n",
    "\n",
    "The resulting schema should contain five columns:\n",
    "\n",
    "```\n",
    "(movie ID from ratings.csv, average rating, movie ID from movies.csv, title, genre)\n",
    "```\n",
    "\n",
    "For example, the first line should be\n",
    "\n",
    "```\n",
    "(1,3.9073275862068964,1,Toy Story (1995),Adventure|Animation|Children|Comedy|Fantasy)\n",
    "```"
   ]
  },
  {
   "cell_type": "code",
   "execution_count": null,
   "metadata": {
    "collapsed": false,
    "deletable": false,
    "nbgrader": {
     "checksum": "b97b0d961fdd5678efa3280f00e63313",
     "grade": false,
     "grade_id": "average_answer",
     "locked": false,
     "solution": true
    }
   },
   "outputs": [],
   "source": [
    "%%writefile average.pig\n",
    "\n",
    "--YOUR CODE HERE"
   ]
  },
  {
   "cell_type": "markdown",
   "metadata": {
    "deletable": false,
    "nbgrader": {
     "checksum": "9c977c7ef4e49d5f0e3f5f6b592eb50d",
     "grade": false,
     "grade_id": "markdown_3",
     "locked": true,
     "solution": false
    }
   },
   "source": [
    "We run Pig in local mode and redirect the standard error output to a file."
   ]
  },
  {
   "cell_type": "code",
   "execution_count": null,
   "metadata": {
    "collapsed": false,
    "deletable": false,
    "nbgrader": {
     "checksum": "784df6ce8ed14c43434953e7c6a98150",
     "grade": false,
     "grade_id": "average_run",
     "locked": true,
     "solution": false
    }
   },
   "outputs": [],
   "source": [
    "average_ratings = !pig -x local -f average.pig 2> pig_stderr.log\n",
    "print('\\n'.join(average_ratings))"
   ]
  },
  {
   "cell_type": "markdown",
   "metadata": {
    "deletable": false,
    "nbgrader": {
     "checksum": "4c6ac29e98f5ba4da0c66d8ffff01169",
     "grade": false,
     "grade_id": "markdown_4",
     "locked": true,
     "solution": false
    }
   },
   "source": [
    "To debug, uncomment and run the following code cell."
   ]
  },
  {
   "cell_type": "code",
   "execution_count": null,
   "metadata": {
    "collapsed": false,
    "deletable": false,
    "nbgrader": {
     "checksum": "ac9d11b6b74c98b69ff59d7d3ec16740",
     "grade": false,
     "grade_id": "cat_stderr",
     "locked": true,
     "solution": false
    }
   },
   "outputs": [],
   "source": [
    "#!cat pig_stderr.log"
   ]
  },
  {
   "cell_type": "markdown",
   "metadata": {
    "deletable": false,
    "nbgrader": {
     "checksum": "54379c43b2ac746a726704a7f05747d6",
     "grade": false,
     "grade_id": "markdown_5",
     "locked": true,
     "solution": false
    }
   },
   "source": [
    "## Tests"
   ]
  },
  {
   "cell_type": "code",
   "execution_count": null,
   "metadata": {
    "collapsed": false,
    "deletable": false,
    "nbgrader": {
     "checksum": "19baf21283ad43c98377be1907665fe2",
     "grade": true,
     "grade_id": "average_test",
     "locked": true,
     "points": 30,
     "solution": false
    }
   },
   "outputs": [],
   "source": [
    "answer = [\n",
    "    '(1,3.9073275862068964,1,Toy Story (1995),Adventure|Animation|Children|Comedy|Fantasy)',\n",
    "    '(2,3.3532608695652173,2,Jumanji (1995),Adventure|Children|Fantasy)',\n",
    "    '(3,3.189655172413793,3,Grumpier Old Men (1995),Comedy|Romance)',\n",
    "    '(4,2.8181818181818183,4,Waiting to Exhale (1995),Comedy|Drama|Romance)',\n",
    "    '(5,3.25,5,Father of the Bride Part II (1995),Comedy)',\n",
    "    '(6,4.073913043478261,6,Heat (1995),Action|Crime|Thriller)',\n",
    "    '(7,3.381818181818182,7,Sabrina (1995),Comedy|Romance)',\n",
    "    '(8,3.6666666666666665,8,Tom and Huck (1995),Adventure|Children)',\n",
    "    '(9,2.869565217391304,9,Sudden Death (1995),Action)',\n",
    "    '(10,3.6,10,GoldenEye (1995),Action|Adventure|Thriller)'\n",
    "    ]\n",
    "\n",
    "a1 = [a.split(',') for a in answer]\n",
    "a2 = [a.split(',') for a in average_ratings]\n",
    "\n",
    "for irow, row in enumerate(answer):\n",
    "    for icol in [0, 2, 3, 4]:\n",
    "        assert_equal(a1[irow][icol], a2[irow][icol])\n",
    "    # floating numbers in 1st column\n",
    "    # I don't think it's necessary, but just in case\n",
    "    assert_almost_equal(float(a1[irow][1]), float(a2[irow][1]))"
   ]
  },
  {
   "cell_type": "markdown",
   "metadata": {
    "deletable": false,
    "nbgrader": {
     "checksum": "bf87124bf1a001228b752575a0dab901",
     "grade": false,
     "grade_id": "markdown_6",
     "locked": true,
     "solution": false
    }
   },
   "source": [
    "## Cleanup"
   ]
  },
  {
   "cell_type": "code",
   "execution_count": null,
   "metadata": {
    "collapsed": false,
    "deletable": false,
    "nbgrader": {
     "checksum": "fd43559587af8a6e1fae83defb3d2b38",
     "grade": false,
     "grade_id": "cleanup",
     "locked": true,
     "solution": false
    }
   },
   "outputs": [],
   "source": [
    "%%bash\n",
    "# Remove pig log files\n",
    "rm -f pig*.log\n",
    "\n",
    "# Remove our pig scripts\n",
    "rm -f *.pig\n",
    "\n",
    "# Remove csv files\n",
    "rm movies.csv ratings.csv"
   ]
  }
 ],
 "metadata": {
  "kernelspec": {
   "display_name": "Python 3",
   "language": "python",
   "name": "python3"
  },
  "language_info": {
   "codemirror_mode": {
    "name": "ipython",
    "version": 3
   },
   "file_extension": ".py",
   "mimetype": "text/x-python",
   "name": "python",
   "nbconvert_exporter": "python",
   "pygments_lexer": "ipython3",
   "version": "3.5.1"
  }
 },
 "nbformat": 4,
 "nbformat_minor": 0
}
