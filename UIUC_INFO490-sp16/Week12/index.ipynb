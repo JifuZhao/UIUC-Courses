{
 "cells": [
  {
   "cell_type": "markdown",
   "metadata": {},
   "source": [
    "\n",
    "<DIV ALIGN=CENTER>\n",
    "\n",
    "# Advanced Data Science\n",
    "## University of Illinois\n",
    "### Professor: Robert J. Brunner  \n",
    "### Spring 2016\n",
    "\n",
    "</DIV>  \n",
    "-----\n",
    "-----"
   ]
  },
  {
   "cell_type": "markdown",
   "metadata": {},
   "source": [
    "## Week 12: Introduction to Cloud Computing\n",
    "\n",
    "### Lecture 1: [Introduction to Hadoop][l1]\n",
    "\n",
    "Learn about cloud computing, and specifically the Hadoop framework.\n",
    "\n",
    "### Lecture 2: [Introduction to Map/Reduce][l2]\n",
    "\n",
    "Learn how to work with the Map/Reduce framework within Hadoop to perform\n",
    "data processing.\n",
    "\n",
    "### Lecture 3: [Introduction to Pig][l3]\n",
    "\n",
    "Learn how to use Pig to quickly analyze large data sets on Hadoop.\n",
    "\n",
    "-----\n",
    "\n",
    "[l1]: ./notebooks/intro2hadoop.ipynb\n",
    "[l2]: ./notebooks/intro2mr.ipynb\n",
    "[l3]: ./notebooks/intro2pig.ipynb"
   ]
  },
  {
   "cell_type": "code",
   "execution_count": null,
   "metadata": {
    "collapsed": false
   },
   "outputs": [],
   "source": [
    "from IPython.display import Markdown\n",
    "\n",
    "Markdown(filename='README.md')"
   ]
  }
 ],
 "metadata": {
  "kernelspec": {
   "display_name": "Python 3",
   "language": "python",
   "name": "python3"
  },
  "language_info": {
   "codemirror_mode": {
    "name": "ipython",
    "version": 3
   },
   "file_extension": ".py",
   "mimetype": "text/x-python",
   "name": "python",
   "nbconvert_exporter": "python",
   "pygments_lexer": "ipython3",
   "version": "3.5.1"
  }
 },
 "nbformat": 4,
 "nbformat_minor": 0
}
