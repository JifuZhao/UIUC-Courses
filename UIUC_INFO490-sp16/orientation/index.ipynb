{
 "cells": [
  {
   "cell_type": "markdown",
   "metadata": {},
   "source": [
    "\n",
    "<DIV ALIGN=CENTER>\n",
    "\n",
    "# Advanced Data Science\n",
    "## University of Illinois\n",
    "### Professor: Robert J. Brunner  \n",
    "### Spring 2016\n",
    "\n",
    "</DIV>  \n",
    "-----\n",
    "-----"
   ]
  },
  {
   "cell_type": "markdown",
   "metadata": {},
   "source": [
    "## Orientation Week\n",
    "\n",
    "### Topic 1: [Introduction to IPython Notebook][t1]\n",
    "\n",
    "This IPython Notebook will give you experiene in working with the course JupyterHub server.\n",
    "\n",
    "-----\n",
    "\n",
    "[t1]: ./notebooks/intro2ipy.ipynb"
   ]
  },
  {
   "cell_type": "code",
   "execution_count": 1,
   "metadata": {
    "collapsed": false
   },
   "outputs": [
    {
     "data": {
      "text/markdown": [
       "# Mandatory Orientation Module#\n",
       "\n",
       "In this module, you will become familiar with the course, your\n",
       "instructor, your classmates, and our learning environment.\n",
       "\n",
       "## Time Estimate ##\n",
       "\n",
       "This orientation module should take approximately 1-2 hours of dedicated\n",
       "time to complete.\n",
       "\n",
       "## Objectives##\n",
       "\n",
       "The goal of the orientation module is to familiarize you with the course\n",
       "structure and the online learning environment. The orientation also\n",
       "helps you obtain the technical skills required for the course.\n",
       "\n",
       "After this module, you should be able to:\n",
       "\n",
       "- Recall important information about this course.\n",
       "- Update your Moodle profile.\n",
       "- Use the technologies required in this course.\n",
       "\n",
       "## Instructional Activities ##\n",
       "\n",
       "Below is a list of the activities and assignments you must complete in\n",
       "this orientation module. Click on the name of each activity for more\n",
       "detailed instructions. Please do these activities before starting with\n",
       "the normal class material. To facilitate late enrollment, these items\n",
       "will not be formally due until the relevant day of the second week of\n",
       "the course.\n",
       "\n",
       "|Activity|Time Estimate|Deadline|Points|\n",
       "|-----|---|---|---|\n",
       "|[Course Overview Video][OV]|15 Minutes|*The following* Saturday|20|\n",
       "|[Course Information and Resources (Syllabus)](syllabus.md)|1 Hour|*The following* Saturday|NA|\n",
       "|[Orientation Quiz][OQ]| 30 minutes | *The following* Saturday | 70|\n",
       "|[Pre-Class Activity: Introduce Yourself](Pre-Class_Activity.md)|60 Minutes|*The following* Saturday|60|\n",
       "\n",
       "In this course, we will be using a JupyterHub server that is running on\n",
       "the CS department's cloud computing system. To access this system, you\n",
       "must be on the University network. If you wish to work off campus, you\n",
       "must first [VPN](https://techservices.illinois.edu/services/virtual-private-networking-vpn)\n",
       "into campus. To learn how to connect to this server, and\n",
       "how to work with the course material, you should logon to the [course\n",
       "server][cs], and locate, run, and explore the [Introduction to\n",
       "IPython](notebooks/intro2ipy.ipynb) notebook to become familiar with\n",
       "using notebooks on the course JupyterHub server. \n",
       "\n",
       "To logon on to the server, you will need to authenticate via Shibboleth.\n",
       "Next, you will click on the `My Server` button. This will give you a\n",
       "Jupyter Server interface, which should be familiar to you from the\n",
       "previous INFO490 course. Note that we include read only copies of the\n",
       "data and course material and writeable versions so you can experiment\n",
       "and learn.\n",
       "\n",
       "## Tips for Success ##\n",
       "\n",
       "To do well in this course, remember the following:\n",
       "\n",
       "- Log in frequently to manage your messages on a near-daily basis. If\n",
       "you let them pile up for 3 to 4 days, you might be overwhelmed. You\n",
       "should start working on new weekly content right away, on Monday of each\n",
       "week.\n",
       "\n",
       "- Stay on top of the course work. Falling behind will make it harder to\n",
       "catch up, and even harder to understand new concepts that build on\n",
       "previous lessons.\n",
       "\n",
       "- Consider using a source code repository to archive all of your work so\n",
       "that you have an automatic backup copy of all your assignments. This\n",
       "will also be useful in the unlikely event that our server goes down and\n",
       "we are unable to access course submissions. In this situation, you are\n",
       "still required to keep current on all your tasks and must be prepared to\n",
       "submit completed materials as soon as submission capability is restored.\n",
       "\n",
       "- When possible, provide tips and suggestions to your peers in this\n",
       "class. As a learning community, we can help each other learn and grow.\n",
       "One way of doing this is by helping to address the questions that your\n",
       "peers pose. By engaging with each other, we'll all learn better.\n",
       "\n",
       "-----\n",
       "[OV]: https://mediaspace.illinois.edu/\n",
       "[OQ]: https://learn.illinois.edu/mod/quiz/view.php?id=1325056\n",
       "\n",
       "[cs]: https://info490rb.studentspace.cs.illinois.edu\n"
      ],
      "text/plain": [
       "<IPython.core.display.Markdown object>"
      ]
     },
     "execution_count": 1,
     "metadata": {},
     "output_type": "execute_result"
    }
   ],
   "source": [
    "from IPython.display import Markdown\n",
    "\n",
    "Markdown(filename='README.md')"
   ]
  }
 ],
 "metadata": {
  "kernelspec": {
   "display_name": "Python 3",
   "language": "python",
   "name": "python3"
  },
  "language_info": {
   "codemirror_mode": {
    "name": "ipython",
    "version": 3
   },
   "file_extension": ".py",
   "mimetype": "text/x-python",
   "name": "python",
   "nbconvert_exporter": "python",
   "pygments_lexer": "ipython3",
   "version": "3.4.4"
  }
 },
 "nbformat": 4,
 "nbformat_minor": 0
}
