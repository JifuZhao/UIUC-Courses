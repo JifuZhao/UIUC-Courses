{
 "cells": [
  {
   "cell_type": "markdown",
   "metadata": {},
   "source": [
    "\n",
    "<DIV ALIGN=CENTER>\n",
    "\n",
    "# Advanced Data Science\n",
    "## University of Illinois\n",
    "### Professor: Robert J. Brunner  \n",
    "### Spring 2016\n",
    "\n",
    "</DIV>  \n",
    "-----\n",
    "-----"
   ]
  },
  {
   "cell_type": "markdown",
   "metadata": {},
   "source": [
    "## Week 13: Introduction to NoSQL Databases\n",
    "\n",
    "### Lecture 1: [Introduction to MongoDB][l1]\n",
    "\n",
    "Learn about MongoDB, one of the most popular NOSQL data stores, which\n",
    "employs a Document-based model.\n",
    "\n",
    "### Lecture 2: [Introduction to Cassandra][l2]\n",
    "\n",
    "Learn about Cassandra, a popular NoSQL data store that employs a\n",
    "Column-based model.\n",
    "\n",
    "### Lecture 3: [Introduction to Neo4J][l3]\n",
    "\n",
    "Learn about Neo4J, a graph database, which can be used to persist and\n",
    "interact with large graphical models.\n",
    "\n",
    "-----\n",
    "\n",
    "[l1]: ./notebooks/intro2mongodb.ipynb\n",
    "[l2]: ./notebooks/intro2cassandra.ipynb\n",
    "[l3]: ./notebooks/intro2neo4j.ipynb"
   ]
  },
  {
   "cell_type": "code",
   "execution_count": null,
   "metadata": {
    "collapsed": false
   },
   "outputs": [],
   "source": [
    "from IPython.display import Markdown\n",
    "\n",
    "Markdown(filename='README.md')"
   ]
  }
 ],
 "metadata": {
  "kernelspec": {
   "display_name": "Python 3",
   "language": "python",
   "name": "python3"
  },
  "language_info": {
   "codemirror_mode": {
    "name": "ipython",
    "version": 3
   },
   "file_extension": ".py",
   "mimetype": "text/x-python",
   "name": "python",
   "nbconvert_exporter": "python",
   "pygments_lexer": "ipython3",
   "version": "3.5.1"
  }
 },
 "nbformat": 4,
 "nbformat_minor": 0
}
