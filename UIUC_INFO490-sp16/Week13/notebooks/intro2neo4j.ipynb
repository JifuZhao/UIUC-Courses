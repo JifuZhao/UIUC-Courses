{
 "cells": [
  {
   "cell_type": "markdown",
   "metadata": {},
   "source": [
    "<DIV ALIGN=CENTER>\n",
    "\n",
    "# Introduction to Neo4J\n",
    "## Professor Robert J. Brunner\n",
    "  \n",
    "</DIV>  \n",
    "-----\n",
    "-----"
   ]
  },
  {
   "cell_type": "markdown",
   "metadata": {},
   "source": [
    "## Introduction\n",
    "\n",
    "Previously, we introduced networks and graph data structures by using\n",
    "the Python NetworkX library. While we could save those graphs to a file\n",
    "in different format, that did not provide the benefits of a database For\n",
    "example, we did not have transactional support, powerful query\n",
    "mechanism, or distributed, multi-user support. As a result, in this\n",
    "Notebook, we will introduce a graph database, specifically, Neo4J, that\n",
    "provides robust database support for graph data structures. Neo4J is, of\n",
    "course, a complicated software technology. Therefore, we will only\n",
    "introduce the basic Neo4J concepts in this Notebook. The reference\n",
    "documentation for [Neo4J][nj] and [py2neo][p2] provide a complete\n",
    "coverage of these software tools.\n",
    "\n",
    "-----\n",
    "\n",
    "[nj]: http://neo4j.com/developer/get-started/\n",
    "[p2]: http://py2neo.org"
   ]
  },
  {
   "cell_type": "markdown",
   "metadata": {},
   "source": [
    "## Python and Neo4J\n",
    "\n",
    "To use Python to interact with Neo4J, we need to use a suitable Python\n",
    "library. The recommended Python library is [_py2neo_][py2neo], which\n",
    "provides support for establishing a connection between a Python program\n",
    "and a Neo4J database as well as support tools for working with Neo4J. The lateest version, **V3**, is still in _Beta_ and is not very well documented at the moment. However, the [previous version][py2neo2] has a more thorough documentation that is mostly relevant.\n",
    "\n",
    "We have already installed _py2neo_ in the course Docker container;\n",
    "however, you can easily install is by using `pip`, for example to\n",
    "install _py2neo_ for use with Python3 for the current user, we can\n",
    "execute:\n",
    "\n",
    "```bash\n",
    "pip3 install py2neo==3b1 --user\n",
    "```\n",
    "\n",
    "Once this library is installed, we can import necessary classes from the Neo4J client to\n",
    "establish a connection and retrieve data and Neo4J information. In particular this will include `authentication` and `Graph`, which will allow us to establish a connection to a remote database.\n",
    "\n",
    "```python\n",
    "from py2neo import authenticate, Graph\n",
    "```\n",
    "\n",
    "-----\n",
    "\n",
    "[py2neo]: http://py2neo.org/v3/\n",
    "[py2neo2]: http://py2neo.org/2.0/"
   ]
  },
  {
   "cell_type": "code",
   "execution_count": 1,
   "metadata": {
    "collapsed": false
   },
   "outputs": [],
   "source": [
    "from py2neo import authenticate, Graph"
   ]
  },
  {
   "cell_type": "markdown",
   "metadata": {},
   "source": [
    "-----\n",
    "\n",
    "## Local Neo4J Server\n",
    "\n",
    "To open a connection to the localhost using py2neo, we establish a new\n",
    "Neo4J Graph:\n",
    "\n",
    "```python\n",
    "graph = Graph()\n",
    "```\n",
    "\n",
    "which assumes a local server with default port. Alternatively, we can\n",
    "explicitly list the hostname and port, which is preferred since it is\n",
    "easier to recognize the server and port number, which can be easily\n",
    "changed when we move to a remote Neo4J server.\n",
    "\n",
    "```python\n",
    "graph = Graph(\"http://localhost:7474\")\n",
    "```\n",
    "\n",
    "which connects to the local Neo4J database using the default local host\n",
    "name and port, and assumes a default database of `db/data`.\n",
    "\n",
    "-----"
   ]
  },
  {
   "cell_type": "markdown",
   "metadata": {},
   "source": [
    "## Remote Neo4J Server\n",
    "\n",
    "To connect to a remote Neo4J server, for instance by using the course\n",
    "Neo4J database, hosted by Microsoft Azure, we simply need the IP address\n",
    "for the server and the port number on which the Neo4J database is\n",
    "listening. For this course, Notebooks running on the course JupyterHub\n",
    "Server can access a Neo4J server on `65.52.38.138` and the default port\n",
    "number of `7474`:\n",
    "\n",
    "```python\n",
    "graph = Graph(\"http://65.52.38.138:7474\")\n",
    "```\n",
    "\n",
    "which connects to the local Neo4J database using the default local host\n",
    "name and port, and assumes a default database of `db/data`. To specify a\n",
    "different database, we can explicitly change this name in the URL. For\n",
    "example, to connect to the `bigdog` database:\n",
    "\n",
    "```python\n",
    "graph = Graph(\"http://65.52.38.138:7474/db/bigdog\")\n",
    "```\n",
    "\n",
    "Since this server requires authentication, we must create call the\n",
    "authentication method and supply the course username and password, which\n",
    "are shown in the code cell. Note, do not attempt to interfere with other\n",
    "students databases. Logging is enabled on the server and you will suffer\n",
    "an instructor determined point reduction.\n",
    "\n",
    "-----\n",
    "\n",
    "In the following code cell, we read in the current user's netid to\n",
    "obtain a unique database name for this Notebook.\n",
    "\n",
    "-----"
   ]
  },
  {
   "cell_type": "code",
   "execution_count": 2,
   "metadata": {
    "collapsed": true
   },
   "outputs": [],
   "source": [
    "# Filename containing user's netid\n",
    "fname = '/home/data_scientist/users.txt'\n",
    "with open(fname, 'r') as fin:\n",
    "    netid = fin.readline().rstrip()\n",
    "\n",
    "# We will delete our working directory if it exists before recreating.\n",
    "dbname = '{0}'.format(netid)"
   ]
  },
  {
   "cell_type": "code",
   "execution_count": 3,
   "metadata": {
    "collapsed": false
   },
   "outputs": [
    {
     "name": "stdout",
     "output_type": "stream",
     "text": [
      "Creating connection to http://65.52.38.138:7474/db/bigdog\n",
      "Neo4J Kernel version 2.3.3\n"
     ]
    }
   ],
   "source": [
    "host_ip = '65.52.38.138:7474'\n",
    "username = 'neo4j'\n",
    "password = 'Lcdm#info490'\n",
    "\n",
    "# First we authenticate\n",
    "authenticate(host_port=host_ip, user=username, password=password)\n",
    "\n",
    "# Now create database URL\n",
    "db_url = 'http://{0}/db/{1}'.format(host_ip, dbname)\n",
    "\n",
    "print('Creating connection to {0}'.format(db_url))\n",
    "graph = Graph(db_url)\n",
    "\n",
    "version = graph.dbms.kernel_version\n",
    "print('Neo4J Kernel version {0}.{1}.{2}'.format(version[0], version[1], version[2]))"
   ]
  },
  {
   "cell_type": "markdown",
   "metadata": {},
   "source": [
    "-----\n",
    "\n",
    "### Monitor database communication\n",
    "\n",
    "The Neo4J driver provides support for monitoring communication between\n",
    "the Python database application (for example, this Notebook) and the\n",
    "database server. In py2neo version 3.0, this [monitoring][mon] can be\n",
    "done at two levels:\n",
    "\n",
    "1. HTTP Traffic: `neo4j.http`\n",
    "2. Bolt Traffic: `py2neo.cypher`\n",
    "\n",
    "where `http` is for web communication and `bolt` is the new Neo4J binary\n",
    "protocol. For example, to enable monitoring of the HTTP and Neo4J\n",
    "communication:\n",
    "\n",
    "```python\n",
    "from py2neo import watch\n",
    "watch('neo4j.http')\n",
    "watch('neo4j.bolt')\n",
    "```\n",
    "\n",
    "This will enable all communication to be viewed, which can be very\n",
    "helpful in learning to use Neo4J from Python or debugging. Note that\n",
    "once enabled, however, these monitors remain active. You can set the\n",
    "[logging level][ll] in the method creation (which is different from\n",
    "py2neo version 2.0). For example, `level=logging.NOTSET` implies no\n",
    "logging. Alternatively, you can remove the watch statements, restart the\n",
    "IPython kernel, and rerun the Notebook.\n",
    "\n",
    "```python\n",
    "import logging\n",
    "watch('neo4j.http', level=logging.NOTSET)\n",
    "```\n",
    "\n",
    "-----\n",
    "\n",
    "[mon]: http://py2neo.org/2.0/cookbook.html\n",
    "[ll]: https://docs.python.org/3.5/library/logging.html#levels\n",
    "\n"
   ]
  },
  {
   "cell_type": "code",
   "execution_count": 4,
   "metadata": {
    "collapsed": false
   },
   "outputs": [
    {
     "name": "stdout",
     "output_type": "stream",
     "text": [
      " n   n_sq \n",
      "----------\n",
      "  1     1 \n",
      "  2     4 \n",
      "  3     9 \n",
      "  4    16 \n",
      "  5    25 \n",
      "  6    36 \n",
      "  7    49 \n",
      "  8    64 \n",
      "  9    81 \n",
      " 10   100 \n"
     ]
    }
   ],
   "source": [
    "# Execute simply Cypher command to test database\n",
    "# From pyneo v3 Documentation\n",
    "graph.run('UNWIND range(1, 10) AS n RETURN n, n*n as n_sq').dump()"
   ]
  },
  {
   "cell_type": "markdown",
   "metadata": {},
   "source": [
    "-----\n",
    "\n",
    "## Deleting all graphs\n",
    "\n",
    "To remove all graphs from a Neo4J server, we can simply call the\n",
    "`delete_all` method on the server connection. We will use this\n",
    "repeatedly in this Notebook in order to clean up the server and to\n",
    "prevent cell outputs from being overwhelmed with graph data. In general,\n",
    "however, this should be used with great care since it all data in the\n",
    "graph database will be deleted.\n",
    "\n",
    "-----"
   ]
  },
  {
   "cell_type": "code",
   "execution_count": 5,
   "metadata": {
    "collapsed": true
   },
   "outputs": [],
   "source": [
    "# Clean out graph database\n",
    "graph.delete_all()"
   ]
  },
  {
   "cell_type": "markdown",
   "metadata": {},
   "source": [
    "-----\n",
    "\n",
    "## Creating Graphs\n",
    "\n",
    "A graph data structure is composed of nodes and relationships (or\n",
    "edges). The nodes and relationships can also have associated\n",
    "attributes. Neo4J has classes for these structures, but to make them\n",
    "persistent, information has to be communicated to the database server.\n",
    "As was the case with relational databases, Neo4J supports the concept of\n",
    "transactions, or logical unit of work.  By default, instructing the\n",
    "Neo4J server to create an object is wrapped in a single transaction. For\n",
    "example, we can create a new node and instruct the database server to\n",
    "persist the new node by using the following code:\n",
    "\n",
    "```python\n",
    "nd = Node()\n",
    "graph.create(nd)\n",
    "```\n",
    "\n",
    "In this case, we create and persist a node with no label or other\n",
    "attributes, which can will complicate searching for this particular\n",
    "node. Instead, we can create and persist a node with a label. This is\n",
    "demonstrated in the following code cells, where we create a single node\n",
    "before creating multiple nodes. We find the nodes of interest by using\n",
    "the `graph.find` method. By providing a label name, we find all nodes\n",
    "with the indicated label\n",
    "\n",
    "-----"
   ]
  },
  {
   "cell_type": "code",
   "execution_count": 6,
   "metadata": {
    "collapsed": false
   },
   "outputs": [
    {
     "name": "stdout",
     "output_type": "stream",
     "text": [
      "(cfc02c3:Students)\n"
     ]
    }
   ],
   "source": [
    "from py2neo import Node\n",
    "\n",
    "test = Node('Students')\n",
    "graph.create(test)\n",
    "\n",
    "for node in graph.find('Students'):\n",
    "    print(node)"
   ]
  },
  {
   "cell_type": "code",
   "execution_count": 7,
   "metadata": {
    "collapsed": false
   },
   "outputs": [
    {
     "name": "stdout",
     "output_type": "stream",
     "text": [
      "(cfc02c3:Students)\n",
      "(b4b308b:Students)\n",
      "(ab220eb:Students)\n",
      "(e17958f:Students)\n",
      "(e3c0fdb:Students)\n",
      "(a2cd91f:Students)\n",
      "\n",
      "Node Labels:\n",
      " ----------------------------------------\n",
      "Students\n"
     ]
    }
   ],
   "source": [
    "for x in range(1, 6):\n",
    "    node = Node('Students')\n",
    "    graph.create(node)\n",
    "\n",
    "for node in graph.find('Students'):\n",
    "    print(node)\n",
    "    \n",
    "print('\\nNode Labels:\\n', 40*'-')\n",
    "for node in graph.node_labels:\n",
    "    print(node)"
   ]
  },
  {
   "cell_type": "markdown",
   "metadata": {},
   "source": [
    "-----\n",
    "\n",
    "### Node Attributes\n",
    "\n",
    "We can add attributes to a Node either when the node is created, or\n",
    "after the node has been created and persisted. To add an attribute\n",
    "during node creation, simply pass the attribute name and the attribute\n",
    "value in the Node constructor:\n",
    "\n",
    "```python\n",
    "nd = Node('Label', attr = value)\n",
    "graph.create(nd)\n",
    "```\n",
    "\n",
    "On the other hand, when a node has already been created, we can use\n",
    "dictionary style access to create a new attribute. However, since the node\n",
    "has already been created, we do not use the `create` method to persist\n",
    "the changes. Instead, we _push_ the changes to the server as follows:\n",
    "\n",
    "```python\n",
    "nd['attr'] = value\n",
    "graph.push(nd)\n",
    "```\n",
    "\n",
    "We demonstrate both of these approaches in the following code cell.\n",
    "\n",
    "-----"
   ]
  },
  {
   "cell_type": "code",
   "execution_count": 8,
   "metadata": {
    "collapsed": false
   },
   "outputs": [
    {
     "name": "stdout",
     "output_type": "stream",
     "text": [
      "(cfc02c3:Students {name:\"Test 1\"})\n",
      "(b4b308b:Students)\n",
      "(ab220eb:Students)\n",
      "(e17958f:Students)\n",
      "(e3c0fdb:Students)\n",
      "(a2cd91f:Students)\n",
      "(test_2:Students {name:\"Test 2\"})\n"
     ]
    }
   ],
   "source": [
    "# Create a node with an attribute\n",
    "test2 = Node('Students', name='Test 2')\n",
    "graph.create(test2)\n",
    "\n",
    "# Add an attribute to existing node\n",
    "test['name'] = 'Test 1'\n",
    "graph.push(test)\n",
    "\n",
    "for node in graph.find('Students'):\n",
    "    print(node)\n",
    "    \n",
    "# Remove all nodes to start fresh.\n",
    "graph.delete_all()"
   ]
  },
  {
   "cell_type": "markdown",
   "metadata": {},
   "source": [
    "-----\n",
    "\n",
    "## Relationships\n",
    "\n",
    "A key component of graph data structures are the relationships (or\n",
    "edges) between nodes. In Neo4J, a relationship is created between two\n",
    "nodes with a connection type. For example, given two nodes corresponding\n",
    "to different people, a connection type might be `'boss of'` or \n",
    "`'spouse of'`. If no connection type is provided, a default type \n",
    "of `'TO'` is used. \n",
    "\n",
    "In the following codes cells, we first create two `Students` nodes\n",
    "before creating a relationship of `'sister of'` between the `jane` and\n",
    "`john` nodes. Following this, we display the connection types that are\n",
    "persisted in the database before displaying the relationship between the\n",
    "two nodes. In this case, we use the `graph.match` method to find all\n",
    "relationship that start from a given node.\n",
    "\n",
    "-----"
   ]
  },
  {
   "cell_type": "code",
   "execution_count": 9,
   "metadata": {
    "collapsed": false
   },
   "outputs": [
    {
     "name": "stdout",
     "output_type": "stream",
     "text": [
      "(jane_doe:Students {name:\"Jane Doe\"})\n",
      "(john_doe:Students {name:\"John Doe\"})\n"
     ]
    }
   ],
   "source": [
    "from py2neo import Relationship\n",
    "# Create two nodes\n",
    "\n",
    "jane = Node('Students', name='Jane Doe')\n",
    "john = Node('Students', name='John Doe')\n",
    "\n",
    "jj = Relationship(jane, 'sister of', john)\n",
    "graph.create(jj)\n",
    "\n",
    "for node in graph.find('Students'):\n",
    "    print(node)\n"
   ]
  },
  {
   "cell_type": "code",
   "execution_count": 10,
   "metadata": {
    "collapsed": false
   },
   "outputs": [
    {
     "name": "stdout",
     "output_type": "stream",
     "text": [
      "sister of\n",
      "(jane_doe)-[:`sister of`]->(john_doe)\n"
     ]
    }
   ],
   "source": [
    "for edge in graph.relationship_types:\n",
    "    print(edge)\n",
    "\n",
    "for edge in graph.match(start_node=jane):\n",
    "    print(edge)"
   ]
  },
  {
   "cell_type": "markdown",
   "metadata": {},
   "source": [
    "----\n",
    "\n",
    "### Relationship Attributes\n",
    "\n",
    "Like nodes, relationships can have attributes, which enable additional\n",
    "information to be included in a graphical model. Once again, attributes\n",
    "can be either added when the relationship is created or they can be\n",
    "added, dictionary style with the subsequent change pushed to the\n",
    "database server. In the following code cells, we first demonstrate\n",
    "adding a new attribute to the relationship between the two nodes: `jane`\n",
    "and `john`, before adding a new relationship with an attribute between\n",
    "these two nodes .\n",
    "\n",
    "----"
   ]
  },
  {
   "cell_type": "code",
   "execution_count": 11,
   "metadata": {
    "collapsed": false
   },
   "outputs": [
    {
     "name": "stdout",
     "output_type": "stream",
     "text": [
      "(jane_doe)-[:`sister of` {began:2001}]->(john_doe)\n"
     ]
    }
   ],
   "source": [
    "# Adding attribute to relationship (edge)\n",
    "jj['began'] = 2001\n",
    "graph.push(jj)\n",
    "\n",
    "for edge in graph.match(start_node=jane):\n",
    "    print(edge)"
   ]
  },
  {
   "cell_type": "code",
   "execution_count": 12,
   "metadata": {
    "collapsed": false
   },
   "outputs": [
    {
     "name": "stdout",
     "output_type": "stream",
     "text": [
      "(jane_doe)-[:`sister of` {began:2001}]->(john_doe)\n",
      "(john_doe)-[:`brother of` {began:2001}]->(jane_doe)\n"
     ]
    }
   ],
   "source": [
    "# Bidrectional relationship    \n",
    "jj2 = Relationship(john, 'brother of', jane, began = 2001)\n",
    "graph.create(jj2)\n",
    "\n",
    "for node in [jane, john]:\n",
    "    for edge in graph.match(start_node=node):\n",
    "        print(edge)    "
   ]
  },
  {
   "cell_type": "markdown",
   "metadata": {},
   "source": [
    "-----\n",
    "\n",
    "### Retrieving\n",
    "\n",
    "In previous examples, we demonstrated the `graph.find` method to\n",
    "retrieve nodes from the graph database. By default, the `find` method\n",
    "searches for nodes with a given label. However, you can also include\n",
    "attributes and attribute values by passing in values for the\n",
    "`property_key` and `property_value` parameters. Likewise, we can pass a\n",
    "value for the `rel_type` parameter to the `graph.match` method to find\n",
    "relationships between nodes that have a specific connection type.\n",
    "\n",
    "The following code cell demonstrates this idea to first search for nodes\n",
    "with `name = 'John Doe'`, after which we search for relationships that\n",
    "start from `jane` and have `rel_type='sister of'` connection types.\n",
    "\n",
    "\n",
    "-----"
   ]
  },
  {
   "cell_type": "code",
   "execution_count": 13,
   "metadata": {
    "collapsed": false
   },
   "outputs": [
    {
     "name": "stdout",
     "output_type": "stream",
     "text": [
      "(john_doe:Students {name:\"John Doe\"})\n",
      "(jane_doe)-[:`sister of` {began:2001}]->(john_doe)\n"
     ]
    }
   ],
   "source": [
    "for node in graph.find('Students', property_key = 'name', property_value='John Doe'):\n",
    "    print(node)\n",
    "    \n",
    "for node in graph.match(start_node=jane, rel_type='sister of'):\n",
    "    print(node)"
   ]
  },
  {
   "cell_type": "markdown",
   "metadata": {},
   "source": [
    "-----\n",
    "\n",
    "## Updating Graphs\n",
    "\n",
    "Once created, we can modify the attributes of a node or relationship by\n",
    "using dictionary style access. This is demonstrated in the following\n",
    "code cell, where we change the value of the `name` attribute on the\n",
    "`jane` node and the `began` attribute on the relationship between the\n",
    "`jane` and `john` nodes.  This might seem minor in comparison to update\n",
    "processes in other types of databases, however, updates in a graph are\n",
    "generally restricted to attributes (or properties) of the nodes and\n",
    "relationships. Otherwise we must delete and recreate nodes and\n",
    "relationships, which is a much bigger task.\n",
    "\n",
    "-----"
   ]
  },
  {
   "cell_type": "code",
   "execution_count": 14,
   "metadata": {
    "collapsed": false
   },
   "outputs": [
    {
     "name": "stdout",
     "output_type": "stream",
     "text": [
      "Find Modified Node:\n",
      " ----------------------------------------\n",
      "(jane_doe:Students {name:\"Jan Doe\"})\n",
      "\n",
      "Find Modified Edge:\n",
      " ----------------------------------------\n",
      "(jane_doe)-[:`sister of` {began:2002}]->(john_doe)\n"
     ]
    }
   ],
   "source": [
    "# Modifying attribute to relationship (edge)\n",
    "\n",
    "jane['name'] = 'Jan Doe'\n",
    "jj['began'] = 2002\n",
    "\n",
    "graph.push(jj)\n",
    "\n",
    "print('Find Modified Node:\\n', 40*'-')\n",
    "for node in graph.find('Students', property_key = 'name', property_value='Jan Doe'):\n",
    "    print(node)\n",
    "\n",
    "print()\n",
    "print('Find Modified Edge:\\n', 40*'-')\n",
    "for edge in graph.match(start_node=jane):\n",
    "    print(edge)"
   ]
  },
  {
   "cell_type": "markdown",
   "metadata": {},
   "source": [
    "-----\n",
    "\n",
    "## Deleting SubGraphs\n",
    "\n",
    "We already covered the `delete_all` method, which deletes all nodes and\n",
    "relationships from a persisted graph. We can also delete individual\n",
    "nodes or relationships from a graph by using he `delete` method. To\n",
    "delete a single node, we pass the node as an argument to the `delete`\n",
    "method. On the other hand, to delete a relationship, we pass the\n",
    "relationship as an argument to the `delete` method. Note that when\n",
    "deleting a relationship, any nodes that are _only_ connected to other\n",
    "nodes via the relationship being deleted will also be deleted.\n",
    "\n",
    "We demonstrate both of these concepts in the following two code cells.\n",
    "First we create several new nodes and a relationship between two of them\n",
    "(mirroring the earlier relationship we created). Next, we delete the\n",
    "one, isolated node before deleting the relationship, which also deletes\n",
    "the two nodes. Since the two nodes were created with the relationship,\n",
    "the two nodes are deleted when the relationship itself is deleted.\n",
    "\n",
    "\n",
    "-----"
   ]
  },
  {
   "cell_type": "code",
   "execution_count": 15,
   "metadata": {
    "collapsed": false
   },
   "outputs": [
    {
     "name": "stdout",
     "output_type": "stream",
     "text": [
      "Students:\n",
      " ----------------------------------------\n",
      "(jane_doe:Students {name:\"Jan Doe\"})\n",
      "(john_doe:Students {name:\"John Doe\"})\n",
      "(jenny_doe:Students {location:\"University of Illinois\",name:\"Jenny Doe\"})\n",
      "(jim_doe:Students {name:\"Jim Doe\"})\n",
      "(jerry_doe:Students {name:\"Jerry Doe\"})\n",
      "\n",
      "Relationships:\n",
      " ----------------------------------------\n",
      "(jane_doe)-[:`sister of` {began:2002}]->(john_doe)\n",
      "(jenny_doe)-[:`sister of`]->(jim_doe)\n"
     ]
    }
   ],
   "source": [
    "# Create temporary nodes and relationships\n",
    "\n",
    "jim = Node('Students', name='Jim Doe')\n",
    "jenny = Node('Students', name='Jenny Doe')\n",
    "jerry = Node('Students', name='Jerry Doe')\n",
    "\n",
    "jenny['location'] = 'University of Illinois'\n",
    "\n",
    "jj4 = Relationship(jenny, 'sister of', jim)\n",
    "\n",
    "graph.create(jj4)\n",
    "graph.create(jerry)\n",
    "\n",
    "print('Students:\\n', 40*'-')\n",
    "for node in graph.find('Students'):\n",
    "    print(node)\n",
    "    \n",
    "print('\\nRelationships:\\n', 40*'-')\n",
    "for edge in graph.match(rel_type='sister of'):\n",
    "    print(edge)"
   ]
  },
  {
   "cell_type": "code",
   "execution_count": 16,
   "metadata": {
    "collapsed": false
   },
   "outputs": [
    {
     "name": "stdout",
     "output_type": "stream",
     "text": [
      "Students:\n",
      " ----------------------------------------\n",
      "(jane_doe:Students {name:\"Jan Doe\"})\n",
      "(john_doe:Students {name:\"John Doe\"})\n",
      "\n",
      "Relationships:\n",
      " ----------------------------------------\n",
      "(jane_doe)-[:`sister of` {began:2002}]->(john_doe)\n"
     ]
    }
   ],
   "source": [
    "graph.delete(jj4)\n",
    "graph.delete(jerry)\n",
    "\n",
    "\n",
    "print('Students:\\n', 40*'-')\n",
    "for node in graph.find('Students'):\n",
    "    print(node)\n",
    "    \n",
    "print('\\nRelationships:\\n', 40*'-')\n",
    "for edge in graph.match(rel_type='sister of'):\n",
    "    print(edge)"
   ]
  },
  {
   "cell_type": "markdown",
   "metadata": {},
   "source": [
    "-----\n",
    "\n",
    "## Persisting Graphs\n",
    "\n",
    "Previously, we learned how to create and operate on graphs by using the\n",
    "NetworkX library (and of course there are other graph libraries in\n",
    "Python, such as igraph). Direct integration between these Python graph\n",
    "libraries and Neo4J is less than ideal, in large part since Neo4J is\n",
    "written in Java and designed to work in multiple settings across\n",
    "different programming languages. \n",
    "\n",
    "As a result, the simplest approach to persisting an existing graph\n",
    "structure is to iterate through the graph, and recreating each node and\n",
    "edge in Neo4J. This technique is demonstrated in the following code\n",
    "cells, where we create a NetworkX graph before persisting the graph in\n",
    "Neo4J. For very large graphs, an alternate approach would be save\n",
    "the graph to an intermediate file using a format, such as _graphML_,\n",
    "supported by both graph libraries and import the resulting graph\n",
    "directly into Neo4J.\n",
    "\n",
    "When recreating a graph structure in Neo4J, we will be creating many\n",
    "nodes and relationships. In order to improve performance, we can use a\n",
    "batch to create multiple nodes and relationships within the same\n",
    "transaction. To do this, we first obtain a transaction object from the\n",
    "graph database via the `graph.begin` method. Next, we call the `create`\n",
    "or `push` method on our new transaction. When we are ready for all\n",
    "changes to be saved to the database, we call the `commit` method, which\n",
    "instructs the graph database server to persist all requested changes.\n",
    "\n",
    "-----"
   ]
  },
  {
   "cell_type": "code",
   "execution_count": 17,
   "metadata": {
    "collapsed": false
   },
   "outputs": [
    {
     "data": {
      "image/png": "[encoded data removed]",
      "text/plain": [
       "<matplotlib.figure.Figure at 0x7fbc7c07de48>"
      ]
     },
     "metadata": {},
     "output_type": "display_data"
    },
    {
     "name": "stdout",
     "output_type": "stream",
     "text": [
      "Graph Nodes: [0, 1, 2, 3, 4, 5]\n",
      "Graph Edges: [(0, 2), (0, 3), (0, 4), (0, 5), (1, 3), (1, 4), (1, 5), (2, 4), (2, 5), (3, 5)]\n"
     ]
    }
   ],
   "source": [
    "% matplotlib inline\n",
    "import matplotlib.pyplot as plt\n",
    "import networkx as nx\n",
    "\n",
    "hc = nx.complement(nx.path_graph(6))\n",
    "\n",
    "plt.figure(figsize=(3, 3))\n",
    "nx.draw_circular(hc, with_labels=True)\n",
    "plt.show()\n",
    "\n",
    "print('Graph Nodes:', hc.nodes())\n",
    "print('Graph Edges:', hc.edges())"
   ]
  },
  {
   "cell_type": "code",
   "execution_count": 18,
   "metadata": {
    "collapsed": false
   },
   "outputs": [],
   "source": [
    "# Recreate graph by using a tranascation\n",
    "tx = graph.begin()\n",
    "\n",
    "nodes = []\n",
    "for node in hc.nodes():\n",
    "    nd = Node('NetworkX', name = str(node))\n",
    "    nodes.append(nd)\n",
    "    tx.create(nd)\n",
    "\n",
    "for edge in hc.edges():\n",
    "    tx.create(Relationship(nodes[edge[0]], 'Connects To', nodes[edge[1]]))\n",
    "\n",
    "tx.commit()"
   ]
  },
  {
   "cell_type": "code",
   "execution_count": 19,
   "metadata": {
    "collapsed": false
   },
   "outputs": [
    {
     "name": "stdout",
     "output_type": "stream",
     "text": [
      "(`0`)-[:`Connects To`]->(`4`)\n",
      "(`0`)-[:`Connects To`]->(`3`)\n",
      "(`0`)-[:`Connects To`]->(`2`)\n",
      "(`0`)-[:`Connects To`]->(`5`)\n",
      "(`1`)-[:`Connects To`]->(`3`)\n",
      "(`1`)-[:`Connects To`]->(`4`)\n",
      "(`1`)-[:`Connects To`]->(`5`)\n",
      "(`2`)-[:`Connects To`]->(`4`)\n",
      "(`2`)-[:`Connects To`]->(`5`)\n",
      "(`3`)-[:`Connects To`]->(`5`)\n"
     ]
    }
   ],
   "source": [
    "# Now query graph database for edges\n",
    "for node in graph.find('NetworkX'):\n",
    "    for edge in graph.match(start_node=node):\n",
    "        print(edge)    "
   ]
  },
  {
   "cell_type": "markdown",
   "metadata": {},
   "source": [
    "----\n",
    "\n",
    "## Graph Querying\n",
    "\n",
    "Previously in this Notebook, we used Python functions within the py2neo\n",
    "library to perform database operations. As is the case with many other\n",
    "databases, however, Neo4J has its own query language, known as\n",
    "[Cypher][nc]. Everything we have done in this notebook can also be done\n",
    "via Cypher, and in fact using Cypher is often recommended, even from the\n",
    "creator of the py2neo library. The output of many of the Python\n",
    "functions (such as `find` or `match`) is in Cypher representation, thus\n",
    "you have already seen how to represent nodes and relationships.\n",
    "\n",
    "In order to perform specific tasks, one simply writes the appropriate\n",
    "[Cypher query][cq] to `CREATE`, `MATCH`, or `DELETE` nodes and\n",
    "relationships. In the following code cells, we use Cypher to find nodes,\n",
    "to find nodes by an attribute, to create nodes, and to create a\n",
    "relationship between two nodes found from a query. In all cases, we pass\n",
    "the Cypher query to the graph database by using the `graph.run` method. \n",
    "\n",
    "Finally, note that we can also use the `cypher.cypher_repr` method to\n",
    "see how to represent a particular node or relationship in the Cypher\n",
    "language. While this function is used in the first node in the following\n",
    "sequence, the output is used to guide the formatting of the relationship\n",
    "created in the last code cell.\n",
    "\n",
    "\n",
    "-----\n",
    "[nc]: http://neo4j.com/developer/cypher-query-language/\n",
    "[cq]: http://neo4j.com/docs/stable/cypher-query-lang.html"
   ]
  },
  {
   "cell_type": "code",
   "execution_count": 20,
   "metadata": {
    "collapsed": false
   },
   "outputs": [
    {
     "data": {
      "text/plain": [
       "'(jane_doe)-[:`sister of` {began:2002}]->(john_doe)'"
      ]
     },
     "execution_count": 20,
     "metadata": {},
     "output_type": "execute_result"
    }
   ],
   "source": [
    "# Display Cypher representation of a specific relationship\n",
    "from py2neo.database import cypher\n",
    "\n",
    "cypher.cypher_repr(jj)"
   ]
  },
  {
   "cell_type": "code",
   "execution_count": 21,
   "metadata": {
    "collapsed": false
   },
   "outputs": [
    {
     "name": "stdout",
     "output_type": "stream",
     "text": [
      "('node': (jane_doe:Students {name:\"Jan Doe\"}))\n",
      "('node': (john_doe:Students {name:\"John Doe\"}))\n"
     ]
    }
   ],
   "source": [
    "# Find nodes by label\n",
    "for node in graph.run('MATCH (node:Students) RETURN node'):\n",
    "    print(node)"
   ]
  },
  {
   "cell_type": "code",
   "execution_count": 22,
   "metadata": {
    "collapsed": false
   },
   "outputs": [
    {
     "name": "stdout",
     "output_type": "stream",
     "text": [
      "('node': (john_doe:Students {name:\"John Doe\"}))\n"
     ]
    }
   ],
   "source": [
    "# Find specific node by name\n",
    "for node in graph.run('MATCH (node:Students) WHERE node.name = \"John Doe\" RETURN node'):\n",
    "    print(node)"
   ]
  },
  {
   "cell_type": "code",
   "execution_count": 23,
   "metadata": {
    "collapsed": false
   },
   "outputs": [
    {
     "name": "stdout",
     "output_type": "stream",
     "text": [
      "('node': (jane_doe:Students {name:\"Jan Doe\"}))\n",
      "('node': (john_doe:Students {name:\"John Doe\"}))\n"
     ]
    }
   ],
   "source": [
    "# Find node where name ends in value.\n",
    "for node in graph.run('MATCH (node:Students) WHERE node.name ENDS WITH \"Doe\" RETURN node'):\n",
    "    print(node)"
   ]
  },
  {
   "cell_type": "code",
   "execution_count": 24,
   "metadata": {
    "collapsed": false
   },
   "outputs": [
    {
     "name": "stdout",
     "output_type": "stream",
     "text": [
      "Students:\n",
      " ----------------------------------------\n",
      "(jane_doe:Students {name:\"Jan Doe\"})\n",
      "(john_doe:Students {name:\"John Doe\"})\n",
      "(cf979fc:Students {name:\"Jenny Doe\"})\n",
      "(d4368e8:Students {name:\"Jim Doe\"})\n"
     ]
    }
   ],
   "source": [
    "# Create nodes\n",
    "graph.run('CREATE (n:Students {name:\"Jenny Doe\"})')\n",
    "graph.run('CREATE (n:Students {name:\"Jim Doe\"})')\n",
    "\n",
    "print('Students:\\n', 40*'-')\n",
    "for node in graph.find('Students'):\n",
    "    print(node)"
   ]
  },
  {
   "cell_type": "code",
   "execution_count": 25,
   "metadata": {
    "collapsed": false
   },
   "outputs": [
    {
     "name": "stdout",
     "output_type": "stream",
     "text": [
      "('r': (cf979fc)-[:`sister of` {began:2002}]->(d4368e8))\n"
     ]
    }
   ],
   "source": [
    "# Create relationship between two nodes, where the nodes are found from a query\n",
    "CQL = 'MATCH (a),(b) \\\n",
    "    WHERE a.name = \"Jenny Doe\" AND b.name = \"Jim Doe\" \\\n",
    "    CREATE (a)-[r:`sister of` {began:2002}]->(b) \\\n",
    "    RETURN r'\n",
    "\n",
    "for edge in graph.run(CQL):\n",
    "    print(edge)"
   ]
  },
  {
   "cell_type": "markdown",
   "metadata": {},
   "source": [
    "-----\n",
    "\n",
    "### Student Activity\n",
    "\n",
    "In the preceding cells, we used Neo4J to persist a graph database. Now\n",
    "that you have run the Notebook, go back and make the following changes\n",
    "to see how the results change.\n",
    "\n",
    "1. Build a simple graph for a company, consisting of one boss and five\n",
    "workers, including the appropriate relationships. What type of\n",
    "attributes can you include in the graph?\n",
    "\n",
    "2. Create a multi-graph in NetworkX consisting of ten connected nodes.\n",
    "Now recreate this graph in Neo4J by waling the NetworkX graph.\n",
    "\n",
    "3. Use the watches to monitor traffic between the Notebook and the\n",
    "database server. Do you learn anything monitoring the traffic?\n",
    "\n",
    "-----"
   ]
  }
 ],
 "metadata": {
  "kernelspec": {
   "display_name": "Python 3",
   "language": "python",
   "name": "python3"
  },
  "language_info": {
   "codemirror_mode": {
    "name": "ipython",
    "version": 3
   },
   "file_extension": ".py",
   "mimetype": "text/x-python",
   "name": "python",
   "nbconvert_exporter": "python",
   "pygments_lexer": "ipython3",
   "version": "3.5.1"
  }
 },
 "nbformat": 4,
 "nbformat_minor": 0
}
