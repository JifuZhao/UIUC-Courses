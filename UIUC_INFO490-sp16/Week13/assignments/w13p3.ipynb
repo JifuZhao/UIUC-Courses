{
 "cells": [
  {
   "cell_type": "markdown",
   "metadata": {
    "deletable": false,
    "nbgrader": {
     "checksum": "e3245ffa4f012386d113405c04b9962b",
     "grade": false,
     "grade_id": "header",
     "locked": true,
     "solution": false
    }
   },
   "source": [
    "This notebook will be collected automatically at **6pm on Monday** from `/home/data_scientist/assignments/Week13` directory on the course JupyterHub server. If you work on this assignment on the course Jupyterhub server, just make sure that you save your work and instructors will pull your notebooks automatically after the deadline. If you work on this assignment locally, the only way to submit assignments is via Jupyterhub, and you have to place the notebook file in the correct directory with the correct file name before the deadline.\n",
    "\n",
    "1. Make sure everything runs as expected. First, restart the kernel (in the menubar, select `Kernel` → `Restart`) and then run all cells (in the menubar, select `Cell` → `Run All`).\n",
    "2. Make sure you fill in any place that says `YOUR CODE HERE`. Do not write your answer in anywhere else other than where it says `YOUR CODE HERE`. Anything you write anywhere else will be removed by the autograder.\n",
    "3. Do not change the file path or the file name of this notebook.\n",
    "4. Make sure that you save your work (in the menubar, select `File` → `Save and CheckPoint`)"
   ]
  },
  {
   "cell_type": "markdown",
   "metadata": {
    "deletable": false,
    "nbgrader": {
     "checksum": "8682eba56273b2f115e4b7071da2dfcd",
     "grade": false,
     "grade_id": "title",
     "locked": true,
     "solution": false
    }
   },
   "source": [
    "## Problem 13.3. Neo4J\n",
    "\n",
    "In this problem, we persist a NetworkX graph in Neo4J."
   ]
  },
  {
   "cell_type": "code",
   "execution_count": null,
   "metadata": {
    "collapsed": false,
    "deletable": false,
    "nbgrader": {
     "checksum": "801da36028d7e5fb7eef08e1e405c882",
     "grade": false,
     "grade_id": "import",
     "locked": true,
     "solution": false
    }
   },
   "outputs": [],
   "source": [
    "import networkx as nx\n",
    "from py2neo import authenticate, Graph, Node, Relationship\n",
    "from py2neo.database import cypher\n",
    "\n",
    "from nose.tools import assert_equal, assert_true, assert_is_instance"
   ]
  },
  {
   "cell_type": "markdown",
   "metadata": {
    "deletable": false,
    "nbgrader": {
     "checksum": "48e0d0213c3ccafd12bc83d1062a80a0",
     "grade": false,
     "grade_id": "markdown_1",
     "locked": true,
     "solution": false
    }
   },
   "source": [
    "We use [Zachary's Karete Club](https://en.wikipedia.org/wiki/Zachary%27s_karate_club) data set. For more information, see [Week 10 Problem 2](https://github.com/UI-DataScience/info490-sp16/blob/master/Week10/assignments/w10p2.ipynb)."
   ]
  },
  {
   "cell_type": "code",
   "execution_count": null,
   "metadata": {
    "collapsed": false,
    "deletable": false,
    "nbgrader": {
     "checksum": "205c70dd6625d8e26a4d9ce6df4ff31f",
     "grade": false,
     "grade_id": "karate_club",
     "locked": true,
     "solution": false
    }
   },
   "outputs": [],
   "source": [
    "karate_club = nx.karate_club_graph()"
   ]
  },
  {
   "cell_type": "markdown",
   "metadata": {
    "deletable": false,
    "nbgrader": {
     "checksum": "0d6b3ccabb7d35c1104c6d1c3a276e3c",
     "grade": false,
     "grade_id": "markdown_2",
     "locked": true,
     "solution": false
    }
   },
   "source": [
    "In the following code cell, we read in the current user's netid to obtain a unique database name for this Notebook."
   ]
  },
  {
   "cell_type": "code",
   "execution_count": null,
   "metadata": {
    "collapsed": false,
    "deletable": false,
    "nbgrader": {
     "checksum": "85f8d929d94699896f0d8116f37e242b",
     "grade": false,
     "grade_id": "connect",
     "locked": true,
     "solution": false
    }
   },
   "outputs": [],
   "source": [
    "# Filename containing user's netid\n",
    "fname = '/home/data_scientist/users.txt'\n",
    "with open(fname, 'r') as fin:\n",
    "    netid = fin.readline().rstrip()\n",
    "\n",
    "# We will delete our working directory if it exists before recreating.\n",
    "dbname = '{0}'.format(netid)\n",
    "\n",
    "host_ip = '65.52.38.138:7474'\n",
    "username = 'neo4j'\n",
    "password = 'Lcdm#info490'\n",
    "\n",
    "# First we authenticate\n",
    "authenticate(host_port=host_ip, user=username, password=password)\n",
    "\n",
    "# Now create database URL\n",
    "db_url = 'http://{0}/db/{1}'.format(host_ip, dbname)\n",
    "\n",
    "print('Creating connection to {0}'.format(db_url))\n",
    "graph = Graph(db_url)\n",
    "\n",
    "version = graph.dbms.kernel_version\n",
    "print('Neo4J Kernel version {0}.{1}.{2}'.format(version[0], version[1], version[2]))"
   ]
  },
  {
   "cell_type": "markdown",
   "metadata": {
    "deletable": false,
    "nbgrader": {
     "checksum": "5d13e1e5e247eb3e04fec715a6ece0c9",
     "grade": false,
     "grade_id": "markdown_3",
     "locked": true,
     "solution": false
    }
   },
   "source": [
    "The following code cell removes all existing graphs from the Neo4J server."
   ]
  },
  {
   "cell_type": "code",
   "execution_count": null,
   "metadata": {
    "collapsed": true,
    "deletable": false,
    "nbgrader": {
     "checksum": "c183a4ff743105099d9a1ba2ea4c371b",
     "grade": false,
     "grade_id": "delete_all_1",
     "locked": true,
     "solution": false
    }
   },
   "outputs": [],
   "source": [
    "# Clean out graph database\n",
    "graph.delete_all()"
   ]
  },
  {
   "cell_type": "markdown",
   "metadata": {
    "deletable": false,
    "nbgrader": {
     "checksum": "2ce6103a97dce93c6ac10c19ad654cc2",
     "grade": false,
     "grade_id": "markdown_4",
     "locked": true,
     "solution": false
    }
   },
   "source": [
    "## Persisting Graphs\n",
    "\n",
    "- Recreate Zachary's Karate club graph in Neo4J.\n",
    "- Provide a label `\"members\"` to all nodes.\n",
    "- Create a relationship of `\"friend of\"` for all edges in `karate_club`."
   ]
  },
  {
   "cell_type": "code",
   "execution_count": null,
   "metadata": {
    "collapsed": false,
    "deletable": false,
    "nbgrader": {
     "checksum": "75735aaf2df4cd14579e43892030264e",
     "grade": false,
     "grade_id": "persist_answer",
     "locked": false,
     "solution": true
    }
   },
   "outputs": [],
   "source": [
    "def persist_graph(neo_graph, nx_graph):\n",
    "    '''\n",
    "    Persists a NetworkX graph in Neo4J.\n",
    "    All nodes are labeled \"members\".\n",
    "    All edges have connection type \"friend of\".\n",
    "    \n",
    "    Parameters\n",
    "    ----------\n",
    "    neo_graph: A py2neo.database.Graph instance.\n",
    "    nx_graph: A networkx.Graph instance.\n",
    "    '''\n",
    "    \n",
    "    # YOUR CODE HERE\n",
    "    \n",
    "    return None"
   ]
  },
  {
   "cell_type": "code",
   "execution_count": null,
   "metadata": {
    "collapsed": false,
    "deletable": false,
    "nbgrader": {
     "checksum": "6f761557689e021595ca9717f0001adc",
     "grade": false,
     "grade_id": "persist_run",
     "locked": true,
     "solution": false
    }
   },
   "outputs": [],
   "source": [
    "persist_graph(graph, karate_club)"
   ]
  },
  {
   "cell_type": "code",
   "execution_count": null,
   "metadata": {
    "collapsed": false,
    "deletable": false,
    "nbgrader": {
     "checksum": "5a6f8557e88bcda177d230e646c69b2a",
     "grade": true,
     "grade_id": "persist_nodes_test",
     "locked": true,
     "points": 10,
     "solution": false
    }
   },
   "outputs": [],
   "source": [
    "assert_true(all(isinstance(n['name'], str) for n in graph.find('members')))\n",
    "node_names = [int(n['name']) for n in graph.find('members')]\n",
    "assert_equal(len(node_names), len(karate_club.nodes()))\n",
    "assert_equal(set(node_names), set(karate_club.nodes()))"
   ]
  },
  {
   "cell_type": "code",
   "execution_count": null,
   "metadata": {
    "collapsed": false,
    "deletable": false,
    "nbgrader": {
     "checksum": "29acf13350eb57c7e0735af741eee9bd",
     "grade": true,
     "grade_id": "persist_edges_test",
     "locked": true,
     "points": 10,
     "solution": false
    }
   },
   "outputs": [],
   "source": [
    "edges = [e for e in graph.match(rel_type='friend of')]\n",
    "start_nodes = [int(e.start_node()['name']) for e in edges]\n",
    "end_nodes = [int(e.end_node()['name']) for e in edges]\n",
    "\n",
    "assert_equal(len(edges), len(karate_club.edges()))\n",
    "assert_equal(set(start_nodes), {e[0] for e in karate_club.edges()})\n",
    "assert_equal(set(end_nodes), {e[1] for e in karate_club.edges()})"
   ]
  },
  {
   "cell_type": "markdown",
   "metadata": {},
   "source": [
    "## Cleanup"
   ]
  },
  {
   "cell_type": "code",
   "execution_count": null,
   "metadata": {
    "collapsed": true,
    "deletable": false,
    "nbgrader": {
     "checksum": "db43c8b7862489ee89cf2129b031083b",
     "grade": false,
     "grade_id": "delete_all_2",
     "locked": true,
     "solution": false
    }
   },
   "outputs": [],
   "source": [
    "# Clean out graph database\n",
    "graph.delete_all()"
   ]
  }
 ],
 "metadata": {
  "kernelspec": {
   "display_name": "Python 3",
   "language": "python",
   "name": "python3"
  },
  "language_info": {
   "codemirror_mode": {
    "name": "ipython",
    "version": 3
   },
   "file_extension": ".py",
   "mimetype": "text/x-python",
   "name": "python",
   "nbconvert_exporter": "python",
   "pygments_lexer": "ipython3",
   "version": "3.5.1"
  }
 },
 "nbformat": 4,
 "nbformat_minor": 0
}
