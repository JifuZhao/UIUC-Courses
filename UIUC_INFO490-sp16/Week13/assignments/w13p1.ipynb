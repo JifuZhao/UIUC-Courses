{
 "cells": [
  {
   "cell_type": "markdown",
   "metadata": {
    "deletable": false,
    "nbgrader": {
     "checksum": "e3245ffa4f012386d113405c04b9962b",
     "grade": false,
     "grade_id": "header",
     "locked": true,
     "solution": false
    }
   },
   "source": [
    "This notebook will be collected automatically at **6pm on Monday** from `/home/data_scientist/assignments/Week13` directory on the course JupyterHub server. If you work on this assignment on the course Jupyterhub server, just make sure that you save your work and instructors will pull your notebooks automatically after the deadline. If you work on this assignment locally, the only way to submit assignments is via Jupyterhub, and you have to place the notebook file in the correct directory with the correct file name before the deadline.\n",
    "\n",
    "1. Make sure everything runs as expected. First, restart the kernel (in the menubar, select `Kernel` → `Restart`) and then run all cells (in the menubar, select `Cell` → `Run All`).\n",
    "2. Make sure you fill in any place that says `YOUR CODE HERE`. Do not write your answer in anywhere else other than where it says `YOUR CODE HERE`. Anything you write anywhere else will be removed by the autograder.\n",
    "3. Do not change the file path or the file name of this notebook.\n",
    "4. Make sure that you save your work (in the menubar, select `File` → `Save and CheckPoint`)"
   ]
  },
  {
   "cell_type": "markdown",
   "metadata": {
    "deletable": false,
    "nbgrader": {
     "checksum": "bd1a989fc2329200e88f49702fd7c4ec",
     "grade": false,
     "grade_id": "title",
     "locked": true,
     "solution": false
    }
   },
   "source": [
    "## Problem 13.1. MongoDB\n",
    "\n",
    "In this problem, we work with MongoDB from a Python program by using the pymongo database driver."
   ]
  },
  {
   "cell_type": "code",
   "execution_count": null,
   "metadata": {
    "collapsed": true,
    "deletable": false,
    "nbgrader": {
     "checksum": "91bcfd9920689dffba030e263bcc2128",
     "grade": false,
     "grade_id": "import",
     "locked": true,
     "solution": false
    }
   },
   "outputs": [],
   "source": [
    "import os\n",
    "import datetime\n",
    "import json\n",
    "import bson\n",
    "import pymongo as pm\n",
    "\n",
    "from nose.tools import assert_equal, assert_true, assert_is_instance"
   ]
  },
  {
   "cell_type": "markdown",
   "metadata": {
    "deletable": false,
    "nbgrader": {
     "checksum": "5dd34a93399be371f3f14f10a67576b5",
     "grade": false,
     "grade_id": "markdown_1",
     "locked": true,
     "solution": false
    }
   },
   "source": [
    "We use the historical weather data from [Weather Underground](http://www.wunderground.com/) to create a database. For more information on this data set, see [Week 4 Problem 1](https://github.com/UI-DataScience/info490-sp16/blob/master/Week4/assignments/w4p1.ipynb)."
   ]
  },
  {
   "cell_type": "code",
   "execution_count": null,
   "metadata": {
    "collapsed": false,
    "deletable": false,
    "nbgrader": {
     "checksum": "57c0e6a886c115444065674c3853cd0e",
     "grade": false,
     "grade_id": "json_load",
     "locked": true,
     "solution": false
    }
   },
   "outputs": [],
   "source": [
    "fpath = '/home/data_scientist/data/weather'\n",
    "fname = 'weather_kord_2001_0101.json'\n",
    "\n",
    "with open(os.path.join(fpath, fname)) as f:\n",
    "    weather_json = json.load(f)\n",
    "\n",
    "assert_is_instance(weather_json, dict)\n",
    "assert_equal(set(weather_json.keys()), set(['current_observation', 'response', 'history']))\n",
    "assert_true('observations' in weather_json['history'])"
   ]
  },
  {
   "cell_type": "code",
   "execution_count": null,
   "metadata": {
    "collapsed": false,
    "deletable": false,
    "nbgrader": {
     "checksum": "fb72142aba928f978362be92950b6873",
     "grade": false,
     "grade_id": "observations",
     "locked": true,
     "solution": false
    }
   },
   "outputs": [],
   "source": [
    "observations = weather_json['history']['observations']\n",
    "print('There are {} dictionaries in the list.'.format(len(observations)))\n",
    "print('The first element is\\n{}'.format(observations[0]))\n",
    "\n",
    "assert_is_instance(observations, list)\n",
    "assert_true(all(isinstance(o, dict) for o in observations))"
   ]
  },
  {
   "cell_type": "markdown",
   "metadata": {
    "deletable": false,
    "nbgrader": {
     "checksum": "9e474a20692f17fd6032056a1610ef7e",
     "grade": false,
     "grade_id": "markdown_2",
     "locked": true,
     "solution": false
    }
   },
   "source": [
    "We connect to the course MongoDB cloud computing system, hosted by Microsoft Azure."
   ]
  },
  {
   "cell_type": "code",
   "execution_count": null,
   "metadata": {
    "collapsed": false,
    "deletable": false,
    "nbgrader": {
     "checksum": "abd7a6a444bafed13d7ab2831e80f621",
     "grade": false,
     "grade_id": "mongo_client",
     "locked": true,
     "solution": false
    }
   },
   "outputs": [],
   "source": [
    "client = pm.MongoClient(\"mongodb://104.214.79.74:27017\")"
   ]
  },
  {
   "cell_type": "markdown",
   "metadata": {
    "deletable": false,
    "nbgrader": {
     "checksum": "dfa2cc258e01729dce8e310ac738bb3a",
     "grade": false,
     "grade_id": "markdown_3",
     "locked": true,
     "solution": false
    }
   },
   "source": [
    "Since we are using a shared resource without authentication, we use your netid to create a database for each student."
   ]
  },
  {
   "cell_type": "code",
   "execution_count": null,
   "metadata": {
    "collapsed": false,
    "deletable": false,
    "nbgrader": {
     "checksum": "6ddd1556a084e8a85863e228647dc55d",
     "grade": false,
     "grade_id": "dbname",
     "locked": true,
     "solution": false
    }
   },
   "outputs": [],
   "source": [
    "# Filename containing user's netid\n",
    "fname = '/home/data_scientist/users.txt'\n",
    "with open(fname, 'r') as fin:\n",
    "    netid = fin.readline().rstrip()\n",
    "\n",
    "# We will delete our working directory if it exists before recreating.\n",
    "dbname = 'assignment-{0}'.format(netid)\n",
    "\n",
    "if dbname in client.database_names():\n",
    "    client.drop_database(dbname)\n",
    "\n",
    "print('Existing databases:', client.database_names())\n",
    "\n",
    "assert_true(dbname not in client.database_names())"
   ]
  },
  {
   "cell_type": "markdown",
   "metadata": {
    "deletable": false,
    "nbgrader": {
     "checksum": "b726e7841bb123fd714cf137a007e1d7",
     "grade": false,
     "grade_id": "makrdown_4",
     "locked": true,
     "solution": false
    }
   },
   "source": [
    "## Inserting Data\n",
    "\n",
    "- Create a new collection using the name `collection_name` and add new documents `data` to our MongoDB collection\n",
    "- Return a list of object IDs as a validation of the insertion process."
   ]
  },
  {
   "cell_type": "code",
   "execution_count": null,
   "metadata": {
    "collapsed": false,
    "deletable": false,
    "nbgrader": {
     "checksum": "c9a31f2a346a5b7d43de4bdd70ed190f",
     "grade": false,
     "grade_id": "insert_answer",
     "locked": false,
     "solution": true
    }
   },
   "outputs": [],
   "source": [
    "def insert_data(db, collection_name, data):\n",
    "    '''\n",
    "    Creates a new collection using the name \"collection_name\" \n",
    "    and adds new documents `data` to our MongoDB collection.\n",
    "    \n",
    "    Parameters\n",
    "    ----------\n",
    "    data: A list of dictionaries.\n",
    "    db: A pymongo.database.Database instance.\n",
    "    collection_name: Name of new MongoDB collection.\n",
    "    \n",
    "    Returns\n",
    "    -------\n",
    "    A list of bson.ObjectId\n",
    "    '''\n",
    "    \n",
    "    # YOUR CODE HERE\n",
    "    \n",
    "    return inserted_ids"
   ]
  },
  {
   "cell_type": "code",
   "execution_count": null,
   "metadata": {
    "collapsed": false,
    "deletable": false,
    "nbgrader": {
     "checksum": "f63dbb93198113f8fc05b305fd031769",
     "grade": false,
     "grade_id": "insert_run",
     "locked": true,
     "solution": false
    }
   },
   "outputs": [],
   "source": [
    "inserted_ids = insert_data(client[dbname], '0101', observations)\n",
    "\n",
    "print(\"New weather ID: \", inserted_ids)\n",
    "print('Existing databases:', client.database_names())\n",
    "print('Existing collections:', client[dbname].collection_names())"
   ]
  },
  {
   "cell_type": "code",
   "execution_count": null,
   "metadata": {
    "collapsed": false,
    "deletable": false,
    "nbgrader": {
     "checksum": "a0b6a93269a05d237359f8ab8664ec23",
     "grade": true,
     "grade_id": "insert_test",
     "locked": true,
     "points": 6,
     "solution": false
    }
   },
   "outputs": [],
   "source": [
    "assert_is_instance(inserted_ids, list)\n",
    "assert_true(all(isinstance(i, bson.objectid.ObjectId) for i in inserted_ids))\n",
    "\n",
    "assert_true(dbname in client.database_names())\n",
    "assert_true('0101' in client[dbname].collection_names())\n",
    "assert_equal(client[dbname]['0101'].count(), len(observations))"
   ]
  },
  {
   "cell_type": "markdown",
   "metadata": {
    "deletable": false,
    "nbgrader": {
     "checksum": "cdf7ad072bcd6a3d75e110a79e99f87c",
     "grade": false,
     "grade_id": "markdown_5",
     "locked": true,
     "solution": false
    }
   },
   "source": [
    "## Retrieving Data\n",
    "\n",
    "- Find all documents that have a given weather `condition` (e.g., `conds == \"Clear\"` or `conds == \"Partly Cloudy\"`)\n",
    "- Return the `_id` values of all documents that match the search query."
   ]
  },
  {
   "cell_type": "code",
   "execution_count": null,
   "metadata": {
    "collapsed": false,
    "deletable": false,
    "nbgrader": {
     "checksum": "76c3b2f841866a0287a9925b4c5aac51",
     "grade": false,
     "grade_id": "retrieve_answer",
     "locked": false,
     "solution": true
    }
   },
   "outputs": [],
   "source": [
    "def retrieve_data(collection, condition):\n",
    "    '''\n",
    "    Finds all documents that have a given weather `condition`\n",
    "    and return the `_id` values of all documents that match the search query.\n",
    "    \n",
    "    Parameters\n",
    "    ----------\n",
    "    collection: A pymongo.Collection instance.\n",
    "    condition: A string, e.g., \"Clear\", \"Partly Cloudy\", \"Overcast\".\n",
    "    \n",
    "    Returns\n",
    "    -------\n",
    "    A list of bson.ObjectId\n",
    "    '''\n",
    "    \n",
    "    # YOUR CODE HERE\n",
    "    \n",
    "    return result"
   ]
  },
  {
   "cell_type": "code",
   "execution_count": null,
   "metadata": {
    "collapsed": false,
    "deletable": false,
    "nbgrader": {
     "checksum": "d412d07061187eb8b9bf14d907b86dfa",
     "grade": false,
     "grade_id": "retrieve_run",
     "locked": true,
     "solution": false
    }
   },
   "outputs": [],
   "source": [
    "clear_ids = retrieve_data(client[dbname]['0101'], 'Clear')\n",
    "print(clear_ids)"
   ]
  },
  {
   "cell_type": "code",
   "execution_count": null,
   "metadata": {
    "collapsed": false,
    "deletable": false,
    "nbgrader": {
     "checksum": "9e344caf76c3066636badfab95a481c6",
     "grade": true,
     "grade_id": "retrieve_test",
     "locked": true,
     "points": 6,
     "solution": false
    }
   },
   "outputs": [],
   "source": [
    "assert_is_instance(clear_ids, list)\n",
    "assert_true(all(isinstance(i, bson.objectid.ObjectId) for i in clear_ids))\n",
    "\n",
    "conds = {obs['conds'] for obs in observations}\n",
    "for cond in conds:\n",
    "    r = retrieve_data(client[dbname]['0101'], cond)\n",
    "    n = [obs['_id'] for obs in observations if obs['conds'] == cond]\n",
    "    assert_equal(len(r), len(n))\n",
    "    assert_equal(set(r), set(n))"
   ]
  },
  {
   "cell_type": "markdown",
   "metadata": {
    "deletable": false,
    "nbgrader": {
     "checksum": "d44f17beb7a13b04d4ea3d308beb8bea",
     "grade": false,
     "grade_id": "markdown_6",
     "locked": true,
     "solution": false
    }
   },
   "source": [
    "## Modifying Data\n",
    "\n",
    "- Find all documents whose `conds` value is `\"Clear\"` and change the `conds` attribute to `Cloudy`.\n",
    "- Return the number of documents modified as a validation of the process."
   ]
  },
  {
   "cell_type": "code",
   "execution_count": null,
   "metadata": {
    "collapsed": false,
    "deletable": false,
    "nbgrader": {
     "checksum": "7db6b95f0ce1b30956eb81ba01dadbda",
     "grade": false,
     "grade_id": "modify_answer",
     "locked": false,
     "solution": true
    }
   },
   "outputs": [],
   "source": [
    "def modify_data(collection):\n",
    "    '''\n",
    "    Finds all documents whose \"conds\" value is \"Clear\"\n",
    "    and change the \"conds\" attribute to \"Cloudy\".\n",
    "\n",
    "    Parameters\n",
    "    ----------\n",
    "    collection: A pymongo.Collection instance.\n",
    "    \n",
    "    Returns\n",
    "    -------\n",
    "    An int. The number of documents modified.\n",
    "    '''\n",
    "    \n",
    "    # YOUR CODE HERE\n",
    "    \n",
    "    return count"
   ]
  },
  {
   "cell_type": "code",
   "execution_count": null,
   "metadata": {
    "collapsed": false,
    "deletable": false,
    "nbgrader": {
     "checksum": "753d9a8be8340865d384799bb1a5ce6f",
     "grade": false,
     "grade_id": "modify_run",
     "locked": true,
     "solution": false
    }
   },
   "outputs": [],
   "source": [
    "n_modified = modify_data(client[dbname]['0101'])\n",
    "print('{0} records modified.'.format(n_modified))"
   ]
  },
  {
   "cell_type": "code",
   "execution_count": null,
   "metadata": {
    "collapsed": false,
    "deletable": false,
    "nbgrader": {
     "checksum": "37d42fa4706abc118110f84130ec757e",
     "grade": true,
     "grade_id": "modify_test",
     "locked": true,
     "points": 6,
     "solution": false
    }
   },
   "outputs": [],
   "source": [
    "assert_equal(\n",
    "    n_modified,\n",
    "    len([obs['_id'] for obs in observations if obs['conds'] == 'Clear'])\n",
    "    )\n",
    "\n",
    "conds = [obs['conds'] for obs in observations]\n",
    "for cond in conds:\n",
    "    if cond != 'Clear' and cond != 'Cloudy':\n",
    "        r = retrieve_data(client[dbname]['0101'], cond)\n",
    "        n = [obs['_id'] for obs in observations if obs['conds'] == cond]\n",
    "        assert_equal(len(r), len(n))\n",
    "        assert_equal(set(r), set(n))"
   ]
  },
  {
   "cell_type": "markdown",
   "metadata": {
    "deletable": false,
    "nbgrader": {
     "checksum": "95bce8b51c51da34b7df0aa05b347e83",
     "grade": false,
     "grade_id": "markdown_7",
     "locked": true,
     "solution": false
    }
   },
   "source": [
    "## Advanced Querying\n",
    "\n",
    "- Find all documents with `visi` equal to `\"10.0\"` and sort the documents by `conds`.\n",
    "- Return a list of `conds` as a validation of the process."
   ]
  },
  {
   "cell_type": "code",
   "execution_count": null,
   "metadata": {
    "collapsed": false,
    "deletable": false,
    "nbgrader": {
     "checksum": "bbffdcd1018b7396b25a4dc15690b906",
     "grade": false,
     "grade_id": "query_answer",
     "locked": false,
     "solution": true
    }
   },
   "outputs": [],
   "source": [
    "def query(collection):\n",
    "    '''\n",
    "    Finds all documents with \"visi\" equal to `\"10.0\"\n",
    "    and sort the documents by \"conds\".\n",
    "    \n",
    "    Parameters\n",
    "    ----------\n",
    "    collection: A pymongo.Collection instance.\n",
    "\n",
    "    Returns\n",
    "    -------\n",
    "    A list of strings.\n",
    "    '''\n",
    "    \n",
    "    # YOUR CODE HERE\n",
    "\n",
    "    return result"
   ]
  },
  {
   "cell_type": "code",
   "execution_count": null,
   "metadata": {
    "collapsed": false,
    "deletable": false,
    "nbgrader": {
     "checksum": "0275fb695638301b8b5615f257b5a32d",
     "grade": false,
     "grade_id": "query_run",
     "locked": true,
     "solution": false
    }
   },
   "outputs": [],
   "source": [
    "query_conds = query(client[dbname]['0101'])\n",
    "print(query_conds)"
   ]
  },
  {
   "cell_type": "code",
   "execution_count": null,
   "metadata": {
    "collapsed": false,
    "deletable": false,
    "nbgrader": {
     "checksum": "df70275a6fa41da71034e8f50c452555",
     "grade": true,
     "grade_id": "query_test",
     "locked": true,
     "points": 6,
     "solution": false
    }
   },
   "outputs": [],
   "source": [
    "modified_conds = [obs['conds'] for obs in observations if obs['visi'] == '10.0']\n",
    "modified_conds = ['Cloudy' if cond == 'Clear' else cond for cond in modified_conds]\n",
    "modified_conds = sorted(modified_conds)\n",
    "assert_equal(query_conds, modified_conds)"
   ]
  },
  {
   "cell_type": "markdown",
   "metadata": {
    "deletable": false,
    "nbgrader": {
     "checksum": "cefa82365ce619f2d4d179f15146b6fb",
     "grade": false,
     "grade_id": "markdown_8",
     "locked": true,
     "solution": false
    }
   },
   "source": [
    "## Deleting Data\n",
    "\n",
    "- Delete all documents whose `conds` attribute is equal to `\"Cloudy\"` from our collection.\n",
    "- Return the number of documents deleted as a validation of the process."
   ]
  },
  {
   "cell_type": "code",
   "execution_count": null,
   "metadata": {
    "collapsed": true,
    "deletable": false,
    "nbgrader": {
     "checksum": "2635fb510e41e3119daf48196418d99b",
     "grade": false,
     "grade_id": "delete_answer",
     "locked": false,
     "solution": true
    }
   },
   "outputs": [],
   "source": [
    "def delete_data(collection):\n",
    "    '''\n",
    "    Deletes all documents whose \"conds\" == \"Cloudy\".\n",
    "    \n",
    "    Paramters\n",
    "    ---------\n",
    "    collection: A pymongo.Collection instance.\n",
    "\n",
    "    Returns\n",
    "    -------\n",
    "    An int. The number of documents deleted.\n",
    "    '''\n",
    "    \n",
    "    # YOUR CODE HERE\n",
    "    \n",
    "    return count"
   ]
  },
  {
   "cell_type": "code",
   "execution_count": null,
   "metadata": {
    "collapsed": false,
    "deletable": false,
    "nbgrader": {
     "checksum": "4fe2a56bf3038a07d9a4e7167eda8dfa",
     "grade": false,
     "grade_id": "delete_run",
     "locked": true,
     "solution": false
    }
   },
   "outputs": [],
   "source": [
    "n_deleted = delete_data(client[dbname]['0101'])\n",
    "print('{0} records deleted.'.format(n_deleted))"
   ]
  },
  {
   "cell_type": "code",
   "execution_count": null,
   "metadata": {
    "collapsed": false,
    "deletable": false,
    "nbgrader": {
     "checksum": "8f3c2297a9dc72a44b448aab7c7e23f8",
     "grade": true,
     "grade_id": "delete_test",
     "locked": true,
     "points": 6,
     "solution": false
    }
   },
   "outputs": [],
   "source": [
    "deleted_obs = [obs for obs in modified_conds if obs == 'Cloudy']\n",
    "assert_equal(n_deleted, len(deleted_obs))\n",
    "\n",
    "for cond in set(conds):\n",
    "    if cond != 'Clear' and cond != 'Cloudy':\n",
    "        r = retrieve_data(client[dbname]['0101'], cond)\n",
    "        n = [obs['_id'] for obs in observations if obs['conds'] == cond]\n",
    "        assert_equal(len(r), len(n))\n",
    "        assert_equal(set(r), set(n))"
   ]
  },
  {
   "cell_type": "markdown",
   "metadata": {
    "deletable": false,
    "nbgrader": {
     "checksum": "7a4dae0687604e6423fa904cae13c6e0",
     "grade": false,
     "grade_id": "markdown_9",
     "locked": true,
     "solution": false
    }
   },
   "source": [
    "## Cleanup\n",
    "\n",
    "When you are done or if you want to start over with a clean database, run the following code cell."
   ]
  },
  {
   "cell_type": "code",
   "execution_count": null,
   "metadata": {
    "collapsed": true,
    "deletable": false,
    "nbgrader": {
     "checksum": "8cc4caef0c9477bb3ceba7c8edc1117b",
     "grade": false,
     "grade_id": "cleanup",
     "locked": true,
     "solution": false
    }
   },
   "outputs": [],
   "source": [
    "if dbname in client.database_names():\n",
    "    client.drop_database(dbname)\n",
    "    \n",
    "assert_true(dbname not in client.database_names())"
   ]
  }
 ],
 "metadata": {
  "kernelspec": {
   "display_name": "Python 3",
   "language": "python",
   "name": "python3"
  },
  "language_info": {
   "codemirror_mode": {
    "name": "ipython",
    "version": 3
   },
   "file_extension": ".py",
   "mimetype": "text/x-python",
   "name": "python",
   "nbconvert_exporter": "python",
   "pygments_lexer": "ipython3",
   "version": "3.5.1"
  }
 },
 "nbformat": 4,
 "nbformat_minor": 0
}
