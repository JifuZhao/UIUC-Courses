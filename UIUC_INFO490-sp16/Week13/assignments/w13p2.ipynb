{
 "cells": [
  {
   "cell_type": "markdown",
   "metadata": {
    "deletable": false,
    "nbgrader": {
     "checksum": "e3245ffa4f012386d113405c04b9962b",
     "grade": false,
     "grade_id": "header",
     "locked": true,
     "solution": false
    }
   },
   "source": [
    "This notebook will be collected automatically at **6pm on Monday** from `/home/data_scientist/assignments/Week13` directory on the course JupyterHub server. If you work on this assignment on the course Jupyterhub server, just make sure that you save your work and instructors will pull your notebooks automatically after the deadline. If you work on this assignment locally, the only way to submit assignments is via Jupyterhub, and you have to place the notebook file in the correct directory with the correct file name before the deadline.\n",
    "\n",
    "1. Make sure everything runs as expected. First, restart the kernel (in the menubar, select `Kernel` → `Restart`) and then run all cells (in the menubar, select `Cell` → `Run All`).\n",
    "2. Make sure you fill in any place that says `YOUR CODE HERE`. Do not write your answer in anywhere else other than where it says `YOUR CODE HERE`. Anything you write anywhere else will be removed by the autograder.\n",
    "3. Do not change the file path or the file name of this notebook.\n",
    "4. Make sure that you save your work (in the menubar, select `File` → `Save and CheckPoint`)"
   ]
  },
  {
   "cell_type": "markdown",
   "metadata": {
    "deletable": false,
    "nbgrader": {
     "checksum": "1fe9db139dadd8059e786a7de08ecb59",
     "grade": false,
     "grade_id": "title",
     "locked": true,
     "solution": false
    }
   },
   "source": [
    "# Problem 13.2. Cassandra\n",
    "\n",
    "In this problem, we use the Cassandra Python database driver to execute CQL (Cassandra Query Language) queries."
   ]
  },
  {
   "cell_type": "code",
   "execution_count": null,
   "metadata": {
    "collapsed": true,
    "deletable": false,
    "nbgrader": {
     "checksum": "d6a504e8e079e49f0a4d717212fee47f",
     "grade": false,
     "grade_id": "import",
     "locked": true,
     "solution": false
    }
   },
   "outputs": [],
   "source": [
    "import os\n",
    "import json\n",
    "import cassandra\n",
    "from cassandra.cluster import Cluster\n",
    "from cassandra.policies import WhiteListRoundRobinPolicy\n",
    "from cassandra.query import dict_factory\n",
    "from cassandra.cqlengine import connection, management\n",
    "\n",
    "from nose.tools import assert_equal, assert_true, assert_is_instance"
   ]
  },
  {
   "cell_type": "markdown",
   "metadata": {
    "deletable": false,
    "nbgrader": {
     "checksum": "5dd34a93399be371f3f14f10a67576b5",
     "grade": false,
     "grade_id": "markdown_1",
     "locked": true,
     "solution": false
    }
   },
   "source": [
    "We use the historical weather data from [Weather Underground](http://www.wunderground.com/) to create a database. For more information on this data set, see [Week 4 Problem 1](https://github.com/UI-DataScience/info490-sp16/blob/master/Week4/assignments/w4p1.ipynb)."
   ]
  },
  {
   "cell_type": "code",
   "execution_count": null,
   "metadata": {
    "collapsed": true,
    "deletable": false,
    "nbgrader": {
     "checksum": "33b0afa6c90cca7414456c0ef0d615c7",
     "grade": false,
     "grade_id": "weather_json",
     "locked": true,
     "solution": false
    }
   },
   "outputs": [],
   "source": [
    "fpath = '/home/data_scientist/data/weather'\n",
    "fname = 'weather_kord_2001_0101.json'\n",
    "\n",
    "with open(os.path.join(fpath, fname)) as f:\n",
    "    weather_json = json.load(f)"
   ]
  },
  {
   "cell_type": "markdown",
   "metadata": {
    "deletable": false,
    "nbgrader": {
     "checksum": "1e36f82da1fcecea1a260eb813cba026",
     "grade": false,
     "grade_id": "markdown_2",
     "locked": true,
     "solution": false
    }
   },
   "source": [
    "For simplicity, we use only two attributes, `conds` and `visi`."
   ]
  },
  {
   "cell_type": "code",
   "execution_count": null,
   "metadata": {
    "collapsed": false,
    "deletable": false,
    "nbgrader": {
     "checksum": "616ebcc837662479f4488d88a66e8960",
     "grade": false,
     "grade_id": "observations",
     "locked": true,
     "solution": false
    }
   },
   "outputs": [],
   "source": [
    "observations = weather_json['history']['observations']\n",
    "observations = [{key: value for key, value in obs.items() if key in ['conds', 'visi']} for obs in observations]\n",
    "\n",
    "print('There are {} dictionaries in the list.'.format(len(observations)))\n",
    "print('The first element is {}'.format(observations[0]))"
   ]
  },
  {
   "cell_type": "markdown",
   "metadata": {
    "deletable": false,
    "nbgrader": {
     "checksum": "407b84458433df31f64beadec500ff6a",
     "grade": false,
     "grade_id": "markdown_3",
     "locked": true,
     "solution": false
    }
   },
   "source": [
    "We use the course Cassandra server, hosted by Micrsoft Azure, on 40.124.12.119 on the default port of 9042:"
   ]
  },
  {
   "cell_type": "code",
   "execution_count": null,
   "metadata": {
    "collapsed": false,
    "deletable": false,
    "nbgrader": {
     "checksum": "a11e05a0248ab1f468ace20dae1c9875",
     "grade": false,
     "grade_id": "connect_cassandra",
     "locked": true,
     "solution": false
    }
   },
   "outputs": [],
   "source": [
    "cassandra_ips = ['40.124.12.119']\n",
    "\n",
    "# Establish a connection to Cassandra\n",
    "\n",
    "# The Policy is necessary to allow Cassandra to run on Azure.\n",
    "pcy = WhiteListRoundRobinPolicy(cassandra_ips)\n",
    "\n",
    "# Create Connection\n",
    "cluster = Cluster(contact_points=cassandra_ips, load_balancing_policy=pcy)\n",
    "session = cluster.connect()\n",
    "\n",
    "print('Cluster Name: {0}'.format(cluster.metadata.cluster_name))\n",
    "for host in cluster.metadata.all_hosts():\n",
    "    print('{0}: Host: {1} in {2}'\\\n",
    "          .format(host.datacenter, host.address, host.rack))"
   ]
  },
  {
   "cell_type": "markdown",
   "metadata": {
    "deletable": false,
    "nbgrader": {
     "checksum": "ddac9a292d6124fb203c197c3c9886aa",
     "grade": false,
     "grade_id": "markdown_4",
     "locked": true,
     "solution": false
    }
   },
   "source": [
    "To provide distinct environments for each student, each student will create their own keyspace in the shared Cassandra cluster by using their netids."
   ]
  },
  {
   "cell_type": "code",
   "execution_count": null,
   "metadata": {
    "collapsed": false,
    "deletable": false,
    "nbgrader": {
     "checksum": "212804777d7aa0334f3f36847d4afd93",
     "grade": false,
     "grade_id": "connect_session",
     "locked": true,
     "solution": false
    }
   },
   "outputs": [],
   "source": [
    "# Filename containing user's netid\n",
    "fname = '/home/data_scientist/users.txt'\n",
    "with open(fname, 'r') as fin:\n",
    "    netid = fin.readline().rstrip()\n",
    "\n",
    "# We will delete our working directory if it exists before recreating.\n",
    "ks_name = '{0}'.format(netid)\n",
    "\n",
    "session.row_factory = dict_factory\n",
    "\n",
    "connection.set_session(session)\n",
    "\n",
    "# Explicitly set session hosts, this removes annoying warnings.\n",
    "connection.session.hosts = cassandra_ips\n",
    "\n",
    "# Drop Keyspace if it exists\n",
    "if ks_name in cluster.metadata.keyspaces:\n",
    "    management.drop_keyspace(ks_name)\n",
    "\n",
    "# Create Keyspace\n",
    "management.create_keyspace_simple(ks_name, 1)\n",
    "\n",
    "# Set keyspace for this session\n",
    "# Note: If keyspace exists in Cassandra instance, this is only line we need.\n",
    "session.set_keyspace(ks_name)\n",
    "\n",
    "# Display all non-system keyspaces.\n",
    "# Do not change to a different keyspace!\n",
    "\n",
    "keys = [val for val in sorted(cluster.metadata.keyspaces.keys()) if 'system' not in val]\n",
    "for ks in keys:\n",
    "    print(ks)\n",
    "\n",
    "print('\\nCQL Query to recreate this keyspace:')\n",
    "print(40*'-')\n",
    "print(cluster.metadata.keyspaces[ks_name].export_as_string())"
   ]
  },
  {
   "cell_type": "markdown",
   "metadata": {
    "deletable": false,
    "nbgrader": {
     "checksum": "9e8abb23f5eaa5e6bbd6ad11cb8836b1",
     "grade": false,
     "grade_id": "markdown_5",
     "locked": true,
     "solution": false
    }
   },
   "source": [
    "We first drop the table if it exists to ensure a clean slate before we create our new schema and insert data. Note that the table name we will be using in this problem is `weather`."
   ]
  },
  {
   "cell_type": "code",
   "execution_count": null,
   "metadata": {
    "collapsed": false,
    "deletable": false,
    "nbgrader": {
     "checksum": "9772599634d9d43848571e7c2f5a9127",
     "grade": false,
     "grade_id": "drop_table",
     "locked": true,
     "solution": false
    }
   },
   "outputs": [],
   "source": [
    "def drop_table(session):\n",
    "    '''\n",
    "    Drops \"weather\" table if exists.\n",
    "    \n",
    "    Parameters\n",
    "    ----------\n",
    "    session: A cassandra.cluster.Session instance.\n",
    "    \n",
    "    Returns\n",
    "    -------\n",
    "    A cassandra.cluster.ResultSet instance.\n",
    "    '''\n",
    "    result = session.execute('DROP TABLE IF EXISTS weather;')\n",
    "    return result\n",
    "\n",
    "result = drop_table(session)\n",
    "\n",
    "assert_is_instance(result, cassandra.cluster.ResultSet)\n",
    "assert_equal(result.column_names, None)\n",
    "assert_equal(len(result.current_rows), 0)"
   ]
  },
  {
   "cell_type": "markdown",
   "metadata": {
    "deletable": false,
    "nbgrader": {
     "checksum": "186c71c64284019eee386f1024618ffd",
     "grade": false,
     "grade_id": "markdown_6",
     "locked": true,
     "solution": false
    }
   },
   "source": [
    "## Creating Table\n",
    "\n",
    "- Craete a `weather` table that has the following 4 columns:\n",
    "  - `id` (`INT`)\n",
    "  - `date` (`TEXT`)\n",
    "  - `conds` (`TEXT`)\n",
    "  - `visi` (`FLOAT`)\n",
    "- We will use the `WHERE` clause on both `conds` and `id` later in this problem, so create an appropriate primary key."
   ]
  },
  {
   "cell_type": "code",
   "execution_count": null,
   "metadata": {
    "collapsed": false,
    "deletable": false,
    "nbgrader": {
     "checksum": "5f78ba7a6e25f34c488b78a91b4c36f1",
     "grade": false,
     "grade_id": "create_answer",
     "locked": false,
     "solution": true
    }
   },
   "outputs": [],
   "source": [
    "def create_table(session):\n",
    "    '''\n",
    "    Craetes a \"weather\" table with four attributes:\n",
    "    id, date, conds, and visi.\n",
    "    \n",
    "    Parameters\n",
    "    ----------\n",
    "    session: A cassandra.cluster.Session instance.\n",
    "    \n",
    "    Returns\n",
    "    -------\n",
    "    A cassandra.cluster.ResultSet instance.\n",
    "    '''\n",
    "    \n",
    "    # YOUR CODE HERE\n",
    "    \n",
    "    return result"
   ]
  },
  {
   "cell_type": "code",
   "execution_count": null,
   "metadata": {
    "collapsed": false,
    "deletable": false,
    "nbgrader": {
     "checksum": "16b786db5b216a0cb1984542d60060ea",
     "grade": false,
     "grade_id": "create_run",
     "locked": true,
     "solution": false
    }
   },
   "outputs": [],
   "source": [
    "create_result = create_table(session)\n",
    "print(create_result.response_future)"
   ]
  },
  {
   "cell_type": "code",
   "execution_count": null,
   "metadata": {
    "collapsed": false,
    "deletable": false,
    "nbgrader": {
     "checksum": "38d0abeafc801fc6c61e1d08ab5bbf24",
     "grade": true,
     "grade_id": "create_test",
     "locked": true,
     "points": 6,
     "solution": false
    }
   },
   "outputs": [],
   "source": [
    "result = session.execute('SELECT * FROM weather;')\n",
    "assert_is_instance(result, cassandra.cluster.ResultSet)\n",
    "assert_equal(set(result.column_names), {'date', 'id', 'conds', 'visi'})\n",
    "assert_equal(len(result.current_rows), 0)"
   ]
  },
  {
   "cell_type": "markdown",
   "metadata": {
    "deletable": false,
    "nbgrader": {
     "checksum": "09f61a6a3467142e118b0d7bb1eca7b9",
     "grade": false,
     "grade_id": "markdown_7",
     "locked": true,
     "solution": false
    }
   },
   "source": [
    "## Inserting Data\n",
    "\n",
    "- Add the weather data `observations` to our Cassandra database.\n",
    "- The `date` column should be `\"0101\"` for all rows.\n",
    "- The `id` column should start from 1, and `id == 1` should correspond to the first element of `data`, `id == 2` to the second element, and so on."
   ]
  },
  {
   "cell_type": "code",
   "execution_count": null,
   "metadata": {
    "collapsed": false,
    "deletable": false,
    "nbgrader": {
     "checksum": "7d9b7d9a45e1dd6d820305f099426c10",
     "grade": false,
     "grade_id": "insert_answer",
     "locked": false,
     "solution": true
    }
   },
   "outputs": [],
   "source": [
    "def insert_data(session, data):\n",
    "    '''\n",
    "    Adds new rows to Cassandra database.\n",
    "    \n",
    "    Parameters\n",
    "    ----------\n",
    "    session: A cassandra.cluster.Session instance.\n",
    "    data: A list of dictionaries.\n",
    "    \n",
    "    Returns\n",
    "    -------\n",
    "    A cassandra.cluster.ResultSet instance.\n",
    "    '''\n",
    "    \n",
    "    # YOUR CODE HERE\n",
    "    \n",
    "    return result"
   ]
  },
  {
   "cell_type": "code",
   "execution_count": null,
   "metadata": {
    "collapsed": false,
    "deletable": false,
    "nbgrader": {
     "checksum": "a25aacd9bfd3c7ae2a62c5c07ac17ebc",
     "grade": false,
     "grade_id": "insert_run",
     "locked": true,
     "solution": false
    }
   },
   "outputs": [],
   "source": [
    "insert_result = insert_data(session, observations)\n",
    "print(insert_result.response_future)"
   ]
  },
  {
   "cell_type": "code",
   "execution_count": null,
   "metadata": {
    "collapsed": false,
    "deletable": false,
    "nbgrader": {
     "checksum": "112a02703d310fd787c1ce70b146793f",
     "grade": true,
     "grade_id": "insert_test",
     "locked": true,
     "points": 6,
     "solution": false
    }
   },
   "outputs": [],
   "source": [
    "result = session.execute('SELECT * FROM weather;')\n",
    "assert_is_instance(result, cassandra.cluster.ResultSet)\n",
    "assert_equal(len(result.current_rows), len(observations))\n",
    "assert_equal(\n",
    "    {row['conds'] for row in result.current_rows},\n",
    "    {obs['conds'] for obs in observations}\n",
    "    )\n",
    "assert_equal(\n",
    "    {str(row['visi']) for row in result.current_rows},\n",
    "    {obs['visi'] for obs in observations}\n",
    "    )\n",
    "assert_true(all(row['date'] == '0101') for row in result.current_rows)\n",
    "assert_equal(\n",
    "    {row['id'] for row in result.current_rows},\n",
    "    set(range(1, len(observations) + 1))\n",
    "    )"
   ]
  },
  {
   "cell_type": "markdown",
   "metadata": {
    "deletable": false,
    "nbgrader": {
     "checksum": "86cff18a543111e06837616fde4c33a3",
     "grade": false,
     "grade_id": "markdown_8",
     "locked": true,
     "solution": false
    }
   },
   "source": [
    "## Retrieving Data\n",
    "\n",
    "- Retrieve the `id` attribute of all rows where the `conds` attribute of the `weather` table is equal to `condition` (e.g., \"Clear\", \"Partly Cloudy\", etc.)."
   ]
  },
  {
   "cell_type": "code",
   "execution_count": null,
   "metadata": {
    "collapsed": false,
    "deletable": false,
    "nbgrader": {
     "checksum": "354956a154448aa6cbc70962a7d9ee1a",
     "grade": false,
     "grade_id": "retrieve_answer",
     "locked": false,
     "solution": true
    }
   },
   "outputs": [],
   "source": [
    "def retrieve_data(session, condition):\n",
    "    '''\n",
    "    Retrieves the \"id\" attribute of all rows\n",
    "    where the \"conds\" attribute of the \"weather\" table\n",
    "    is equal to \"condition\"\n",
    "    \n",
    "    Parameters\n",
    "    ----------\n",
    "    session: A cassandra.cluster.Session instance.\n",
    "    condition: A string, e.g., \"Clear\", \"Partly Cloudy\", \"Overcast\", etc.\n",
    "    \n",
    "    Returns\n",
    "    -------\n",
    "    A cassandra.cluster.ResultSet instance.\n",
    "\n",
    "    '''\n",
    "    \n",
    "    # YOUR CODE HERE\n",
    "    \n",
    "    return result"
   ]
  },
  {
   "cell_type": "code",
   "execution_count": null,
   "metadata": {
    "collapsed": false,
    "deletable": false,
    "nbgrader": {
     "checksum": "ee7e35bc29e084ac5fae3a06257da4a3",
     "grade": false,
     "grade_id": "retrieve_run",
     "locked": true,
     "solution": false
    }
   },
   "outputs": [],
   "source": [
    "retrieve_result = retrieve_data(session, 'Clear')\n",
    "print(retrieve_result.response_future)"
   ]
  },
  {
   "cell_type": "code",
   "execution_count": null,
   "metadata": {
    "collapsed": false,
    "deletable": false,
    "nbgrader": {
     "checksum": "0f26fe32b889f7bced7a61cb5f84e29a",
     "grade": true,
     "grade_id": "retrieve_test",
     "locked": true,
     "points": 6,
     "solution": false
    }
   },
   "outputs": [],
   "source": [
    "assert_is_instance(result, cassandra.cluster.ResultSet)\n",
    "\n",
    "conds = {obs['conds'] for obs in observations}\n",
    "\n",
    "for cond in conds:\n",
    "    r = [row['id'] for row in retrieve_data(session, cond).current_rows]\n",
    "    n = [idx + 1 for idx, obs in enumerate(observations) if obs['conds'] == cond]\n",
    "    assert_equal(len(r), len(n))\n",
    "    assert_equal(set(r), set(n))"
   ]
  },
  {
   "cell_type": "markdown",
   "metadata": {
    "deletable": false,
    "nbgrader": {
     "checksum": "5e7bba24e182a3e31b206485e224ec6b",
     "grade": false,
     "grade_id": "markdown_9",
     "locked": true,
     "solution": false
    }
   },
   "source": [
    "## Modifying Data\n",
    "\n",
    "- Change the `visi` value to 1.0 for all rows where the `conds` attribute is equal to `\"Clear\"`."
   ]
  },
  {
   "cell_type": "code",
   "execution_count": null,
   "metadata": {
    "collapsed": false,
    "deletable": false,
    "nbgrader": {
     "checksum": "6b43bcb6a912d6f301d896d4e75b8d41",
     "grade": false,
     "grade_id": "modify_answer",
     "locked": false,
     "solution": true
    }
   },
   "outputs": [],
   "source": [
    "def modify(session):\n",
    "    '''\n",
    "    Changes \"visi\" to 1.0 if \"conds\" is equal to \"Clear\".\n",
    "    \n",
    "    Parameters\n",
    "    ----------\n",
    "    session: A cassandra.cluster.Session instance.\n",
    "    \n",
    "    Returns\n",
    "    -------\n",
    "    A cassandra.cluster.ResultSet instance.\n",
    "    '''\n",
    "    \n",
    "    # YOUR CODE HERE\n",
    "    \n",
    "    return result"
   ]
  },
  {
   "cell_type": "code",
   "execution_count": null,
   "metadata": {
    "collapsed": false,
    "deletable": false,
    "nbgrader": {
     "checksum": "1dcda52dc68c067972ce81abef80cf31",
     "grade": false,
     "grade_id": "modify_run",
     "locked": true,
     "solution": false
    }
   },
   "outputs": [],
   "source": [
    "modify_result = modify(session)\n",
    "print(modify_result.response_future)"
   ]
  },
  {
   "cell_type": "code",
   "execution_count": null,
   "metadata": {
    "collapsed": false,
    "deletable": false,
    "nbgrader": {
     "checksum": "0cf8746b2a14226e8476cf2c136e54cd",
     "grade": true,
     "grade_id": "modify_test",
     "locked": true,
     "points": 6,
     "solution": false
    }
   },
   "outputs": [],
   "source": [
    "result = session.execute('SELECT * FROM weather;')\n",
    "\n",
    "assert_equal(\n",
    "    len([row for row in result.current_rows if row['conds'] == 'Clear']),\n",
    "    len([obs for obs in observations if obs['conds'] == 'Clear'])\n",
    "    )\n",
    "\n",
    "conds = {obs['conds'] for obs in observations}\n",
    "\n",
    "for cond in conds:\n",
    "    if cond != 'Clear' and cond != 'Cloudy':\n",
    "        r = [str(row['visi']) for row in result.current_rows if row['conds'] == cond]\n",
    "        n = [obs['visi'] for obs in observations if obs['conds'] == cond]\n",
    "        assert_equal(len(r), len(n))\n",
    "        assert_equal(set(r), set(n))"
   ]
  },
  {
   "cell_type": "markdown",
   "metadata": {
    "deletable": false,
    "nbgrader": {
     "checksum": "b9b168488be6d04ed8b1691b70f28cfb",
     "grade": false,
     "grade_id": "markdown_10",
     "locked": true,
     "solution": false
    }
   },
   "source": [
    "## Deleting Data\n",
    "\n",
    "- Delete all rows where the `conds` attribute is equal to `\"Clear\"`."
   ]
  },
  {
   "cell_type": "code",
   "execution_count": null,
   "metadata": {
    "collapsed": true,
    "deletable": false,
    "nbgrader": {
     "checksum": "beeec81d5e5b0bb5d1ed7f95f5c570f5",
     "grade": false,
     "grade_id": "delete_answer",
     "locked": false,
     "solution": true
    }
   },
   "outputs": [],
   "source": [
    "def delete(session):\n",
    "    '''\n",
    "    Delete all rows where \"conds\" is \"Clear\".\n",
    "    \n",
    "    Parameters\n",
    "    ----------\n",
    "    session: A cassandra.cluster.Session instance.\n",
    "    \n",
    "    Returns\n",
    "    -------\n",
    "    A cassandra.cluster.ResultSet instance.\n",
    "    '''\n",
    "    \n",
    "    # YOUR CODE HERE\n",
    "    \n",
    "    return result"
   ]
  },
  {
   "cell_type": "code",
   "execution_count": null,
   "metadata": {
    "collapsed": false,
    "deletable": false,
    "nbgrader": {
     "checksum": "d227ac92c672295d7f5279339af741a3",
     "grade": false,
     "grade_id": "delete_run",
     "locked": true,
     "solution": false
    }
   },
   "outputs": [],
   "source": [
    "delete_result = delete(session)\n",
    "print(delete_result.response_future)"
   ]
  },
  {
   "cell_type": "code",
   "execution_count": null,
   "metadata": {
    "collapsed": false,
    "deletable": false,
    "nbgrader": {
     "checksum": "9a5b5e9a68948cb44fb19b9f6aa554b4",
     "grade": true,
     "grade_id": "delete_test",
     "locked": true,
     "points": 6,
     "solution": false
    }
   },
   "outputs": [],
   "source": [
    "result = session.execute('SELECT * FROM weather;')\n",
    "\n",
    "assert_equal(len([row for row in result.current_rows if row['conds'] == 'Clear']), 0)\n",
    "\n",
    "observations = [obs for obs in observations if obs['conds'] != 'Clear']\n",
    "\n",
    "for cond in conds:\n",
    "    r = [str(row['visi']) for row in result.current_rows if row['conds'] == cond]\n",
    "    n = [obs['visi'] for obs in observations if obs['conds'] == cond]\n",
    "    assert_equal(len(r), len(n))\n",
    "    assert_equal(set(r), set(n))"
   ]
  }
 ],
 "metadata": {
  "kernelspec": {
   "display_name": "Python 3",
   "language": "python",
   "name": "python3"
  },
  "language_info": {
   "codemirror_mode": {
    "name": "ipython",
    "version": 3
   },
   "file_extension": ".py",
   "mimetype": "text/x-python",
   "name": "python",
   "nbconvert_exporter": "python",
   "pygments_lexer": "ipython3",
   "version": "3.5.1"
  }
 },
 "nbformat": 4,
 "nbformat_minor": 0
}
