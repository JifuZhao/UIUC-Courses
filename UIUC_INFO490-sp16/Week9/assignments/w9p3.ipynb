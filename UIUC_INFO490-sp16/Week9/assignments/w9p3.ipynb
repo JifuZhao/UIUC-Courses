{
 "cells": [
  {
   "cell_type": "markdown",
   "metadata": {
    "deletable": false,
    "nbgrader": {
     "checksum": "44834f8493e8387c102e29525e571c0b",
     "grade": false,
     "grade_id": "header",
     "locked": true,
     "solution": false
    }
   },
   "source": [
    "This notebook will be collected automatically at **6pm on Monday** from `/home/data_scientist/assignments/Week9` directory on the course JupyterHub server. If you work on this assignment on the course Jupyterhub server, just make sure that you save your work and instructors will pull your notebooks automatically after the deadline. If you work on this assignment locally, the only way to submit assignments is via Jupyterhub, and you have to place the notebook file in the correct directory with the correct file name before the deadline.\n",
    "\n",
    "1. Make sure everything runs as expected. First, restart the kernel (in the menubar, select `Kernel` → `Restart`) and then run all cells (in the menubar, select `Cell` → `Run All`).\n",
    "2. Make sure you fill in any place that says `YOUR CODE HERE`. Do not write your answer in anywhere else other than where it says `YOUR CODE HERE`. Anything you write anywhere else will be removed by the autograder.\n",
    "3. Do not change the file path or the file name of this notebook.\n",
    "4. Make sure that you save your work (in the menubar, select `File` → `Save and CheckPoint`)"
   ]
  },
  {
   "cell_type": "markdown",
   "metadata": {
    "deletable": false,
    "nbgrader": {
     "checksum": "5a0d0f541c993de39aebb0339d461ba8",
     "grade": false,
     "grade_id": "title",
     "locked": true,
     "solution": false
    }
   },
   "source": [
    "# Problem 9.3. NLP: Semantic Analysis.\n",
    "\n",
    "In this problem, we explore semantic analysis."
   ]
  },
  {
   "cell_type": "code",
   "execution_count": null,
   "metadata": {
    "collapsed": false,
    "deletable": false,
    "nbgrader": {
     "checksum": "931a2d160e4ff7e4c5dc239653b4822f",
     "grade": false,
     "grade_id": "import",
     "locked": true,
     "solution": false
    }
   },
   "outputs": [],
   "source": [
    "import string\n",
    "import numpy as np\n",
    "from nltk.tokenize import WordPunctTokenizer\n",
    "from sklearn.datasets import load_files\n",
    "import gensim\n",
    "\n",
    "from nose.tools import (\n",
    "    assert_equal,\n",
    "    assert_is_instance,\n",
    "    assert_almost_equal,\n",
    "    assert_true\n",
    "    )"
   ]
  },
  {
   "cell_type": "markdown",
   "metadata": {
    "deletable": false,
    "nbgrader": {
     "checksum": "edd4399e0378810561beae2c2c17093a",
     "grade": false,
     "grade_id": "markdown_1",
     "locked": true,
     "solution": false
    }
   },
   "source": [
    "## Wordnet\n",
    "\n",
    "We use the Wordnet synonym rings."
   ]
  },
  {
   "cell_type": "code",
   "execution_count": null,
   "metadata": {
    "collapsed": true,
    "deletable": false,
    "nbgrader": {
     "checksum": "acf63c6510549095a223dc1036557e69",
     "grade": false,
     "grade_id": "import_wordnet",
     "locked": true,
     "solution": false
    }
   },
   "outputs": [],
   "source": [
    "from nltk.corpus import wordnet as wn"
   ]
  },
  {
   "cell_type": "markdown",
   "metadata": {
    "deletable": false,
    "nbgrader": {
     "checksum": "0ab5720999b76fb005d451a1d1b8e498",
     "grade": false,
     "grade_id": "markdown_2",
     "locked": true,
     "solution": false
    }
   },
   "source": [
    "- Find how many entries a word has in the wordnet synset."
   ]
  },
  {
   "cell_type": "code",
   "execution_count": null,
   "metadata": {
    "collapsed": false,
    "deletable": false,
    "nbgrader": {
     "checksum": "45fbe7bb1e98659498333b4120c2cbc4",
     "grade": false,
     "grade_id": "find_number_of_entries_in_synonym_ring_answer",
     "locked": false,
     "solution": true
    }
   },
   "outputs": [],
   "source": [
    "def find_number_of_entries_in_synonym_ring(word):\n",
    "    '''\n",
    "    Finds the number of entries in the wordnet synset.\n",
    "    \n",
    "    Parameters\n",
    "    ----------\n",
    "    word: A string.\n",
    "    \n",
    "    Returns\n",
    "    -------\n",
    "    An int.\n",
    "    '''\n",
    "    \n",
    "    # YOUR CODE HERE\n",
    "    \n",
    "    return result"
   ]
  },
  {
   "cell_type": "code",
   "execution_count": null,
   "metadata": {
    "collapsed": false,
    "deletable": false,
    "nbgrader": {
     "checksum": "9047c17d4e6a474ad25ac66eb5ea83c6",
     "grade": false,
     "grade_id": "find_number_of_entries_in_synonym_ring_run1",
     "locked": true,
     "solution": false
    }
   },
   "outputs": [],
   "source": [
    "the_word = 'ship'\n",
    "n_entries = find_number_of_entries_in_synonym_ring(the_word)\n",
    "print('{0} total entries in synonym ring for {1}. '.format(n_entries, the_word))"
   ]
  },
  {
   "cell_type": "code",
   "execution_count": null,
   "metadata": {
    "collapsed": false,
    "deletable": false,
    "nbgrader": {
     "checksum": "8146c0b5ba56e5ccaf72cecbe5237fbb",
     "grade": false,
     "grade_id": "find_number_of_entries_in_synonym_ring_run2",
     "locked": true,
     "solution": false
    }
   },
   "outputs": [],
   "source": [
    "the_word = 'throw'\n",
    "n_entries = find_number_of_entries_in_synonym_ring(the_word)\n",
    "print('{0} total entries in synonym ring for {1}. '.format(n_entries, the_word))"
   ]
  },
  {
   "cell_type": "code",
   "execution_count": null,
   "metadata": {
    "collapsed": false,
    "deletable": false,
    "nbgrader": {
     "checksum": "df08f18d3549f72edb027522dfc8b8b3",
     "grade": true,
     "grade_id": "find_number_of_entries_in_synonym_ring_test",
     "locked": true,
     "points": 3,
     "solution": false
    }
   },
   "outputs": [],
   "source": [
    "assert_is_instance(find_number_of_entries_in_synonym_ring('ship'), int)\n",
    "assert_equal(find_number_of_entries_in_synonym_ring('ship'), 6)\n",
    "assert_equal(find_number_of_entries_in_synonym_ring('throw'), 20)"
   ]
  },
  {
   "cell_type": "markdown",
   "metadata": {
    "deletable": false,
    "nbgrader": {
     "checksum": "d1b714b9ec3da0894b8208fc3af5f06a",
     "grade": false,
     "grade_id": "markdown_3",
     "locked": true,
     "solution": false
    }
   },
   "source": [
    "## Word Similarities\n",
    "\n",
    "- Compute the path similarity for _cat_, _dog_, _boy_, and _girl_."
   ]
  },
  {
   "cell_type": "code",
   "execution_count": null,
   "metadata": {
    "collapsed": true,
    "deletable": false,
    "nbgrader": {
     "checksum": "90051f44bc7b8996af15d288cf138c48",
     "grade": false,
     "grade_id": "get_path_similarity_between_boy_and_girl_answer",
     "locked": false,
     "solution": true
    }
   },
   "outputs": [],
   "source": [
    "def get_path_similarity_between_boy_and_girl():\n",
    "    '''\n",
    "    Computes the path similarity between \"boy\" and \"girl\".\n",
    "    \n",
    "    Returns\n",
    "    -------\n",
    "    A float.\n",
    "    '''\n",
    "    \n",
    "    # YOUR CODE HERE\n",
    "    \n",
    "    return result"
   ]
  },
  {
   "cell_type": "code",
   "execution_count": null,
   "metadata": {
    "collapsed": true,
    "deletable": false,
    "nbgrader": {
     "checksum": "ba0a5ac953064968c999328106559502",
     "grade": true,
     "grade_id": "get_path_similarity_between_boy_and_girl_test",
     "locked": true,
     "points": 2,
     "solution": false
    }
   },
   "outputs": [],
   "source": [
    "assert_is_instance(get_path_similarity_between_boy_and_girl(), float)\n",
    "assert_almost_equal(get_path_similarity_between_boy_and_girl(), 0.16666666666666666)"
   ]
  },
  {
   "cell_type": "code",
   "execution_count": null,
   "metadata": {
    "collapsed": true,
    "deletable": false,
    "nbgrader": {
     "checksum": "010e9f5fd3b5f9ddc36098e31c7bd291",
     "grade": false,
     "grade_id": "get_path_similarity_between_boy_and_cat_answer",
     "locked": false,
     "solution": true
    }
   },
   "outputs": [],
   "source": [
    "def get_path_similarity_between_boy_and_cat():\n",
    "    '''\n",
    "    Computes the path similarity between \"boy\" and \"cat\".\n",
    "    \n",
    "    Returns\n",
    "    -------\n",
    "    A float.\n",
    "    '''\n",
    "    \n",
    "    # YOUR CODE HERE\n",
    "    \n",
    "    return result"
   ]
  },
  {
   "cell_type": "code",
   "execution_count": null,
   "metadata": {
    "collapsed": true,
    "deletable": false,
    "nbgrader": {
     "checksum": "9c71f44c62019a7799665a5f3db3b8be",
     "grade": true,
     "grade_id": "get_path_similarity_between_boy_and_cat_test",
     "locked": true,
     "points": 2,
     "solution": false
    }
   },
   "outputs": [],
   "source": [
    "assert_is_instance(get_path_similarity_between_boy_and_cat(), float)\n",
    "assert_almost_equal(get_path_similarity_between_boy_and_cat(), 0.08333333333333333)"
   ]
  },
  {
   "cell_type": "code",
   "execution_count": null,
   "metadata": {
    "collapsed": true,
    "deletable": false,
    "nbgrader": {
     "checksum": "215211f3efe8af87f22ce299b4f2c297",
     "grade": false,
     "grade_id": "get_path_similarity_between_boy_and_dog_answer",
     "locked": false,
     "solution": true
    }
   },
   "outputs": [],
   "source": [
    "def get_path_similarity_between_boy_and_dog():\n",
    "    '''\n",
    "    Computes the path similarity between \"boy\" and \"dog\".\n",
    "    \n",
    "    Returns\n",
    "    -------\n",
    "    A float.\n",
    "    '''\n",
    "    \n",
    "    # YOUR CODE HERE\n",
    "    \n",
    "    return result"
   ]
  },
  {
   "cell_type": "code",
   "execution_count": null,
   "metadata": {
    "collapsed": true,
    "deletable": false,
    "nbgrader": {
     "checksum": "f1b404aa24fe8200fb667ef2de4b3baa",
     "grade": true,
     "grade_id": "get_path_similarity_between_boy_and_dog_test",
     "locked": true,
     "points": 2,
     "solution": false
    }
   },
   "outputs": [],
   "source": [
    "assert_is_instance(get_path_similarity_between_boy_and_dog(), float)\n",
    "assert_almost_equal(get_path_similarity_between_boy_and_dog(), 0.14285714285714285)"
   ]
  },
  {
   "cell_type": "code",
   "execution_count": null,
   "metadata": {
    "collapsed": false,
    "deletable": false,
    "nbgrader": {
     "checksum": "96faf7032369cd54384fe1e7811f7573",
     "grade": false,
     "grade_id": "get_path_similarity_between_girl_and_girl_answer",
     "locked": false,
     "solution": true
    }
   },
   "outputs": [],
   "source": [
    "def get_path_similarity_between_girl_and_girl():\n",
    "    '''\n",
    "    Computes the path similarity between \"girl\" and \"girl\".\n",
    "    \n",
    "    Returns\n",
    "    -------\n",
    "    A float.\n",
    "    '''\n",
    "    \n",
    "    # YOUR CODE HERE\n",
    "    \n",
    "    return result"
   ]
  },
  {
   "cell_type": "code",
   "execution_count": null,
   "metadata": {
    "collapsed": true,
    "deletable": false,
    "nbgrader": {
     "checksum": "c7377d935cbca0f44b91d1e33dc5c927",
     "grade": true,
     "grade_id": "get_path_similarity_between_girl_and_girl_test",
     "locked": true,
     "points": 2,
     "solution": false
    }
   },
   "outputs": [],
   "source": [
    "assert_is_instance(get_path_similarity_between_girl_and_girl(), float)\n",
    "assert_almost_equal(get_path_similarity_between_girl_and_girl(), 1.0)"
   ]
  },
  {
   "cell_type": "code",
   "execution_count": null,
   "metadata": {
    "collapsed": false,
    "deletable": false,
    "nbgrader": {
     "checksum": "2fe010b2c7b1590633fef782321a4de5",
     "grade": false,
     "grade_id": "get_path_similarity_between_run",
     "locked": true,
     "solution": false
    }
   },
   "outputs": [],
   "source": [
    "# Now we print similarity measures.\n",
    "fmt_str = '{1} to {2}: {0:4.3f}'\n",
    "\n",
    "print('Path Similarity:')\n",
    "print(40*'-')\n",
    "print(fmt_str.format(get_path_similarity_between_boy_and_girl(), 'boy', 'girl'))\n",
    "print(fmt_str.format(get_path_similarity_between_boy_and_cat(), 'boy', 'cat'))\n",
    "print(fmt_str.format(get_path_similarity_between_boy_and_dog(), 'boy', 'dog'))\n",
    "print(fmt_str.format(get_path_similarity_between_girl_and_girl(), 'girl', 'girl'))"
   ]
  },
  {
   "cell_type": "markdown",
   "metadata": {
    "deletable": false,
    "nbgrader": {
     "checksum": "3a220080885be128eb8898f71aa51458",
     "grade": false,
     "grade_id": "markdown_4",
     "locked": true,
     "solution": false
    }
   },
   "source": [
    "## Word2Vec\n",
    "\n",
    "In the second half of this problem, we use the NLTK Brown corpus to build a word2vec model."
   ]
  },
  {
   "cell_type": "code",
   "execution_count": null,
   "metadata": {
    "collapsed": true,
    "deletable": false,
    "nbgrader": {
     "checksum": "78efef9ac888ebce3fb972ac90a7e589",
     "grade": false,
     "grade_id": "brown",
     "locked": true,
     "solution": false
    }
   },
   "outputs": [],
   "source": [
    "from nltk.corpus import brown\n",
    "sentences = brown.sents()"
   ]
  },
  {
   "cell_type": "markdown",
   "metadata": {
    "deletable": false,
    "nbgrader": {
     "checksum": "8fe1326710e24021269e031a7fcd33e1",
     "grade": false,
     "grade_id": "markdown_5",
     "locked": true,
     "solution": false
    }
   },
   "source": [
    "### Word2Vec model\n",
    "\n",
    "- Build a `Word2Vec` model from movie reviews `new_mvr`.\n",
    "- Set the maximum distance between the current and predicted word within a sentence to 10.\n",
    "- Ignore all words with total frequency lower than 2."
   ]
  },
  {
   "cell_type": "code",
   "execution_count": null,
   "metadata": {
    "collapsed": false,
    "deletable": false,
    "nbgrader": {
     "checksum": "8fb947751e6e0229cb15ad458f73432a",
     "grade": false,
     "grade_id": "get_model_answer",
     "locked": false,
     "solution": true
    }
   },
   "outputs": [],
   "source": [
    "def get_model(sentences):\n",
    "    '''\n",
    "    Builds a Word2Vec model from \"corpus\"\n",
    "    \n",
    "    Parameters\n",
    "    ----------\n",
    "    corpus: An NTLK corpus.\n",
    "    \n",
    "    Returns\n",
    "    -------\n",
    "    A Word2Vec instance.\n",
    "    '''\n",
    "    \n",
    "    # YOUR CODE HERE\n",
    "\n",
    "    return model"
   ]
  },
  {
   "cell_type": "markdown",
   "metadata": {
    "nbgrader": {
     "grade": false,
     "locked": false,
     "solution": false
    }
   },
   "source": [
    "The following code cell takes a while to complete."
   ]
  },
  {
   "cell_type": "code",
   "execution_count": null,
   "metadata": {
    "collapsed": true,
    "deletable": false,
    "nbgrader": {
     "checksum": "85c5c764ca95e964dc60104696b67b21",
     "grade": false,
     "grade_id": "get_model_run",
     "locked": true,
     "solution": false
    }
   },
   "outputs": [],
   "source": [
    "model = get_model(sentences)"
   ]
  },
  {
   "cell_type": "code",
   "execution_count": null,
   "metadata": {
    "collapsed": false,
    "deletable": false,
    "nbgrader": {
     "checksum": "396ce6900e408cc3fe72048f4a7cdae0",
     "grade": true,
     "grade_id": "get_model_test",
     "locked": true,
     "points": 2,
     "solution": false
    }
   },
   "outputs": [],
   "source": [
    "assert_is_instance(model, gensim.models.Word2Vec)\n",
    "assert_equal(model.window, 10)\n",
    "assert_equal(model.min_count, 2)"
   ]
  },
  {
   "cell_type": "markdown",
   "metadata": {
    "deletable": false,
    "nbgrader": {
     "checksum": "aa1a1846d22c61f9448fda90b562751b",
     "grade": false,
     "grade_id": "markdown_6",
     "locked": true,
     "solution": false
    }
   },
   "source": [
    "## Cosine Similarity\n",
    "\n",
    "- Compute Cosine Similarities."
   ]
  },
  {
   "cell_type": "code",
   "execution_count": null,
   "metadata": {
    "collapsed": true,
    "deletable": false,
    "nbgrader": {
     "checksum": "a0fa530704d4d64f4befb15f8c61760f",
     "grade": false,
     "grade_id": "get_cosine_similarity_answer",
     "locked": false,
     "solution": true
    }
   },
   "outputs": [],
   "source": [
    "def get_cosine_similarity(model, word1, word2):\n",
    "    '''\n",
    "    Computes cosine similarity between \"word1\" and \"word2\" using a Word2Vec model.\n",
    "    \n",
    "    Parameters\n",
    "    ----------\n",
    "    model: A gensim.Word2Vec model.\n",
    "    \n",
    "    Returns\n",
    "    -------\n",
    "    A float\n",
    "    '''\n",
    "    \n",
    "    # YOUR CODE HERE\n",
    "    \n",
    "    return similarity"
   ]
  },
  {
   "cell_type": "code",
   "execution_count": null,
   "metadata": {
    "collapsed": false,
    "deletable": false,
    "nbgrader": {
     "checksum": "e1ef6e6d34054b9d108ae029a5b89ff9",
     "grade": false,
     "grade_id": "get_cosine_similarity_run",
     "locked": true,
     "solution": false
    }
   },
   "outputs": [],
   "source": [
    "# Now we print similarity measures.\n",
    "fmt_str = '{1} to {2}: {0:4.3f}'\n",
    "\n",
    "print('Cosine Similarity:')\n",
    "print(40*'-')\n",
    "print(fmt_str.format(get_cosine_similarity(model, 'boy', 'girl'), 'boy', 'girl'))\n",
    "print(fmt_str.format(get_cosine_similarity(model, 'boy', 'cat'), 'boy', 'cat'))\n",
    "print(fmt_str.format(get_cosine_similarity(model, 'boy', 'dog'), 'boy', 'dog'))\n",
    "print(fmt_str.format(get_cosine_similarity(model, 'girl', 'girl'), 'girl', 'girl'))"
   ]
  },
  {
   "cell_type": "code",
   "execution_count": null,
   "metadata": {
    "collapsed": false,
    "deletable": false,
    "nbgrader": {
     "checksum": "e241b6552eabaa693c628643d171542a",
     "grade": true,
     "grade_id": "get_cosine_similarity_test",
     "locked": true,
     "points": 3,
     "solution": false
    }
   },
   "outputs": [],
   "source": [
    "assert_is_instance(get_cosine_similarity(model, 'boy', 'girl'), float)\n",
    "assert_almost_equal(get_cosine_similarity(model, 'boy', 'girl'), model.similarity('boy', 'girl'))\n",
    "\n",
    "assert_almost_equal(get_cosine_similarity(model, 'boy', 'cat'), model.similarity('boy', 'cat'))\n",
    "assert_almost_equal(get_cosine_similarity(model, 'boy', 'dog'), model.similarity('boy', 'dog'))\n",
    "assert_almost_equal(get_cosine_similarity(model, 'girl', 'girl'), model.similarity('girl', 'girl'))"
   ]
  },
  {
   "cell_type": "markdown",
   "metadata": {
    "deletable": false,
    "nbgrader": {
     "checksum": "017417df44e1e49235479760d5ca45c8",
     "grade": false,
     "grade_id": "markdown_7",
     "locked": true,
     "solution": false
    }
   },
   "source": [
    "## Most similar words\n",
    "\n",
    "- Find the top 3 most similar words, where \"girl\" and \"cat\" contribute positively towards the similarity, and \"boy\" and \"dog\" contribute negatively."
   ]
  },
  {
   "cell_type": "code",
   "execution_count": null,
   "metadata": {
    "collapsed": false,
    "deletable": false,
    "nbgrader": {
     "checksum": "d075554238067ff92fe17f153d842852",
     "grade": false,
     "grade_id": "find_most_similar_words_answer",
     "locked": false,
     "solution": true
    }
   },
   "outputs": [],
   "source": [
    "def find_most_similar_words(model):\n",
    "    '''\n",
    "    Find the top 3 most similar words,\n",
    "    where \"girl\" and \"cat\" contribute positively towards the similarity,\n",
    "    and \"boy\" and \"dog\" contribute negatively.\n",
    "    \n",
    "    Parameters\n",
    "    ----------\n",
    "    model: A gensim.Word2Vec model.\n",
    "    \n",
    "    Returns\n",
    "    -------\n",
    "    A list of tuples (word, similarty).\n",
    "    word: A string.\n",
    "    similarity: A float.\n",
    "    '''\n",
    "    \n",
    "    # YOUR CODE HERE\n",
    "    \n",
    "    return result\n"
   ]
  },
  {
   "cell_type": "code",
   "execution_count": null,
   "metadata": {
    "collapsed": false,
    "deletable": false,
    "nbgrader": {
     "checksum": "6aab3fc1edcdbbcd3929b93ed244788d",
     "grade": false,
     "grade_id": "find_most_similar_words_run",
     "locked": true,
     "solution": false
    }
   },
   "outputs": [],
   "source": [
    "print('{0:14s}: {1}'.format('Word', 'Cosine Similarity'))\n",
    "print(40*'-')\n",
    "for val in find_most_similar_words(model):\n",
    "    print('{0:14s}: {1:6.3f}'.format(val[0], val[1]))"
   ]
  },
  {
   "cell_type": "code",
   "execution_count": null,
   "metadata": {
    "collapsed": false,
    "deletable": false,
    "nbgrader": {
     "checksum": "b32001e71273e71d03994f593332c1d3",
     "grade": true,
     "grade_id": "find_most_similar_words_test",
     "locked": true,
     "points": 4,
     "solution": false
    }
   },
   "outputs": [],
   "source": [
    "assert_is_instance(find_most_similar_words(model), list)\n",
    "assert_true(all(isinstance(t[0], str) for t in find_most_similar_words(model)))\n",
    "assert_true(all(isinstance(t[1], float) for t in find_most_similar_words(model)))\n",
    "assert_equal(len(find_most_similar_words(model)), 3)\n",
    "words = [t[0] for t in model.most_similar(positive=['girl', 'cat'], negative=['boy', 'dog'], topn=3)]\n",
    "similarities = [t[1] for t in model.most_similar(positive=['girl', 'cat'], negative=['boy', 'dog'], topn=3)]\n",
    "assert_equal([t[0] for t in find_most_similar_words(model)], words)\n",
    "assert_almost_equal(find_most_similar_words(model)[0][1], similarities[0])\n",
    "assert_almost_equal(find_most_similar_words(model)[1][1], similarities[1])\n",
    "assert_almost_equal(find_most_similar_words(model)[2][1], similarities[2])"
   ]
  }
 ],
 "metadata": {
  "kernelspec": {
   "display_name": "Python 3",
   "language": "python",
   "name": "python3"
  },
  "language_info": {
   "codemirror_mode": {
    "name": "ipython",
    "version": 3
   },
   "file_extension": ".py",
   "mimetype": "text/x-python",
   "name": "python",
   "nbconvert_exporter": "python",
   "pygments_lexer": "ipython3",
   "version": "3.5.1"
  }
 },
 "nbformat": 4,
 "nbformat_minor": 0
}