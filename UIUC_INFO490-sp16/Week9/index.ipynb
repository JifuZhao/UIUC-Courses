{
 "cells": [
  {
   "cell_type": "markdown",
   "metadata": {},
   "source": [
    "\n",
    "<DIV ALIGN=CENTER>\n",
    "\n",
    "# Advanced Data Science\n",
    "## University of Illinois\n",
    "### Professor: Robert J. Brunner  \n",
    "### Spring 2016\n",
    "\n",
    "</DIV>  \n",
    "-----\n",
    "-----"
   ]
  },
  {
   "cell_type": "markdown",
   "metadata": {},
   "source": [
    "## Week 9: Introduction to Natural Language Processing\n",
    "\n",
    "### Lecture 1: [Basic Concepts][l1]\n",
    "\n",
    "Learn how to perform chunking, part of speech tagging, and named entity representation.\n",
    "\n",
    "### Lecture 2: [Topic Modeling][l2]\n",
    "\n",
    "Learn how to perform topic modeling.\n",
    "\n",
    "### Lecture 3: [Semantic Analysis][l3]\n",
    "\n",
    "Learn about modeling the semantic content of documents.\n",
    "\n",
    "-----\n",
    "\n",
    "[l1]: ./notebooks/intro2nlp-bc.ipynb\n",
    "[l2]: ./notebooks/intro2nlp-tm.ipynb\n",
    "[l3]: ./notebooks/intro2nlp-sa.ipynb"
   ]
  },
  {
   "cell_type": "code",
   "execution_count": null,
   "metadata": {
    "collapsed": false
   },
   "outputs": [],
   "source": [
    "from IPython.display import Markdown\n",
    "\n",
    "Markdown(filename='README.md')"
   ]
  }
 ],
 "metadata": {
  "kernelspec": {
   "display_name": "Python 3",
   "language": "python",
   "name": "python3"
  },
  "language_info": {
   "codemirror_mode": {
    "name": "ipython",
    "version": 3
   },
   "file_extension": ".py",
   "mimetype": "text/x-python",
   "name": "python",
   "nbconvert_exporter": "python",
   "pygments_lexer": "ipython3",
   "version": "3.5.1"
  }
 },
 "nbformat": 4,
 "nbformat_minor": 0
}
