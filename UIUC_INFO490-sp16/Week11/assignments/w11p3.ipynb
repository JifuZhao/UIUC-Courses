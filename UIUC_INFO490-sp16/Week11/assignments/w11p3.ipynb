{
 "cells": [
  {
   "cell_type": "markdown",
   "metadata": {
    "deletable": false,
    "nbgrader": {
     "checksum": "8044c42e2e9b1c1b446c2837ebb2975c",
     "grade": false,
     "grade_id": "header",
     "locked": true,
     "solution": false
    }
   },
   "source": [
    "This notebook will be collected automatically at **6pm on Monday** from `/home/data_scientist/assignments/Week11` directory on the course JupyterHub server. If you work on this assignment on the course Jupyterhub server, just make sure that you save your work and instructors will pull your notebooks automatically after the deadline. If you work on this assignment locally, the only way to submit assignments is via Jupyterhub, and you have to place the notebook file in the correct directory with the correct file name before the deadline.\n",
    "\n",
    "1. Make sure everything runs as expected. First, restart the kernel (in the menubar, select `Kernel` → `Restart`) and then run all cells (in the menubar, select `Cell` → `Run All`).\n",
    "2. Make sure you fill in any place that says `YOUR CODE HERE`. Do not write your answer in anywhere else other than where it says `YOUR CODE HERE`. Anything you write anywhere else will be removed by the autograder.\n",
    "3. Do not change the file path or the file name of this notebook.\n",
    "4. Make sure that you save your work (in the menubar, select `File` → `Save and CheckPoint`)"
   ]
  },
  {
   "cell_type": "markdown",
   "metadata": {
    "deletable": false,
    "nbgrader": {
     "checksum": "76fb1332ad61c2dde69ff422b1240571",
     "grade": false,
     "grade_id": "title",
     "locked": true,
     "solution": false
    }
   },
   "source": [
    "## Problem 11.3. General Linear Models\n",
    "\n",
    "In this problem, we will use a general linear model to fit a linear model that predicts `AirTime` from `Distance`.\n",
    "\n",
    "![](https://raw.githubusercontent.com/UI-DataScience/info490-sp16/master/Week11/assignments/images/general_linear_models.png)"
   ]
  },
  {
   "cell_type": "code",
   "execution_count": null,
   "metadata": {
    "collapsed": true,
    "deletable": false,
    "nbgrader": {
     "checksum": "6a186bc2effe616dd6c0fefa6976a688",
     "grade": false,
     "grade_id": "import",
     "locked": true,
     "solution": false
    }
   },
   "outputs": [],
   "source": [
    "%matplotlib inline\n",
    "\n",
    "import numpy as np\n",
    "import pandas as pd\n",
    "import matplotlib as mpl\n",
    "import matplotlib.pyplot as plt\n",
    "import seaborn as sns\n",
    "import pymc3 as pm\n",
    "\n",
    "from nose.tools import assert_equal, assert_is_instance, assert_true\n",
    "from numpy.testing import assert_array_almost_equal, assert_almost_equal"
   ]
  },
  {
   "cell_type": "markdown",
   "metadata": {
    "deletable": false,
    "nbgrader": {
     "checksum": "2beb59641b313238b256b3fabcc5cb1e",
     "grade": false,
     "grade_id": "markdown_1",
     "locked": true,
     "solution": false
    }
   },
   "source": [
    "We use the [airline on-time performance data](http://stat-computing.org/dataexpo/2009/). For simplicity, we limit our analysis to flights that departed from Chicago, and use every 10000th row."
   ]
  },
  {
   "cell_type": "code",
   "execution_count": null,
   "metadata": {
    "collapsed": false,
    "deletable": false,
    "nbgrader": {
     "checksum": "a9d8c650488a2c9788c58c3b76ec31c4",
     "grade": false,
     "grade_id": "import_csv",
     "locked": true,
     "solution": false
    }
   },
   "outputs": [],
   "source": [
    "filename = '/home/data_scientist/data/2001.csv'\n",
    "\n",
    "usecols = (13, 16, 18)\n",
    "columns = ['AirTime', 'Origin', 'Distance']\n",
    "\n",
    "all_data = pd.read_csv(filename, header=0, na_values=['NA'], usecols=usecols, names=columns)\n",
    "\n",
    "local = all_data.loc[all_data['Origin'] == 'ORD'] # use only flights departed from Chicago\n",
    "local = local.dropna() # drop missing values\n",
    "local = local.loc[::10000] # use every 10000th row\n",
    "\n",
    "print(local.head())"
   ]
  },
  {
   "cell_type": "markdown",
   "metadata": {
    "deletable": false,
    "nbgrader": {
     "checksum": "d49e0fcaf3ea3c3a4f63810dd946b8d6",
     "grade": false,
     "grade_id": "markdown_2",
     "locked": true,
     "solution": false
    }
   },
   "source": [
    "## General Linear Model\n",
    "\n",
    "- Estimate a Bayesian linear regression model using the `pymc3.glm.glm()` function.\n",
    "- Assume that our data is distributed according to the [Student's *t*-distribution](https://en.wikipedia.org/wiki/Student%27s_t-distribution).\n",
    "- Use a [Patsy](https://patsy.readthedocs.org/en/latest/formulas.html) string to describe the linear model. Name the independent variable `x` and the dependent variable `y`.\n",
    "- Estimate the model paramters with the maximum a posteriori (MAP) method (using default paramters).\n",
    "- Use the No-U-Turn Sampler (NUTS) to generate posterior samples.\n",
    "- Use the `random_seed` parameter in `pymc3.sample()` method for reproducibility."
   ]
  },
  {
   "cell_type": "code",
   "execution_count": null,
   "metadata": {
    "collapsed": false,
    "deletable": false,
    "nbgrader": {
     "checksum": "181d141d1d7cee390d37cc34da9ff199",
     "grade": false,
     "grade_id": "sample_posterior_answer",
     "locked": false,
     "solution": true
    }
   },
   "outputs": [],
   "source": [
    "def sample_posterior(X, y, n_samples=1000, random_seed=0):\n",
    "    '''\n",
    "    A general linear model.\n",
    "    \n",
    "    Paramters\n",
    "    ---------\n",
    "    X: A numpy array\n",
    "    y: A numpy array\n",
    "    n_samples: The number of samples to draw in pymc3.sample().\n",
    "               Defaults to 1000.\n",
    "    random_seed: An int. Used in pymc3.sample().\n",
    "                 Defaults to 0.\n",
    "                 \n",
    "    Returns\n",
    "    -------\n",
    "    A pymc3.MultiTrace object with access to sampling values.\n",
    "    '''\n",
    "    \n",
    "    # YOUR CODE HERE\n",
    "        \n",
    "    return trace"
   ]
  },
  {
   "cell_type": "code",
   "execution_count": null,
   "metadata": {
    "collapsed": false,
    "deletable": false,
    "nbgrader": {
     "checksum": "113314827431282b47576e50c0fda46d",
     "grade": false,
     "grade_id": "sample_posterior_run",
     "locked": true,
     "solution": false
    }
   },
   "outputs": [],
   "source": [
    "trace = sample_posterior(local.Distance.values, local.AirTime.values, n_samples=2000, random_seed=0)"
   ]
  },
  {
   "cell_type": "markdown",
   "metadata": {
    "deletable": false,
    "nbgrader": {
     "checksum": "fe33b62049eaf61d606605a63ab50af2",
     "grade": false,
     "grade_id": "markdown_3",
     "locked": true,
     "solution": false
    }
   },
   "source": [
    "## Tests"
   ]
  },
  {
   "cell_type": "code",
   "execution_count": null,
   "metadata": {
    "collapsed": false,
    "deletable": false,
    "nbgrader": {
     "checksum": "de4373da541711ee8eb49e9db822c856",
     "grade": true,
     "grade_id": "test_1",
     "locked": true,
     "points": 4,
     "solution": false
    }
   },
   "outputs": [],
   "source": [
    "assert_is_instance(trace, pm.backends.base.MultiTrace)"
   ]
  },
  {
   "cell_type": "code",
   "execution_count": null,
   "metadata": {
    "collapsed": false,
    "deletable": false,
    "nbgrader": {
     "checksum": "803bfcc86971c78c832033b690ec9867",
     "grade": true,
     "grade_id": "test_2",
     "locked": true,
     "points": 4,
     "solution": false
    }
   },
   "outputs": [],
   "source": [
    "assert_true('Intercept' in trace.varnames)\n",
    "assert_true('x' in trace.varnames)"
   ]
  },
  {
   "cell_type": "code",
   "execution_count": null,
   "metadata": {
    "collapsed": true,
    "deletable": false,
    "nbgrader": {
     "checksum": "8d75bd19dfeb5a2f0be173064513007f",
     "grade": true,
     "grade_id": "test_3",
     "locked": true,
     "points": 4,
     "solution": false
    }
   },
   "outputs": [],
   "source": [
    "for v in trace.varnames:\n",
    "    assert_equal(len(trace[v]), 2000)"
   ]
  },
  {
   "cell_type": "code",
   "execution_count": null,
   "metadata": {
    "collapsed": false,
    "deletable": false,
    "nbgrader": {
     "checksum": "a33e4215d2f1fbffcad5701b87068970",
     "grade": true,
     "grade_id": "test_4",
     "locked": true,
     "points": 4,
     "solution": false
    }
   },
   "outputs": [],
   "source": [
    "assert_almost_equal(trace['Intercept'][0], 15.726734931284325)\n",
    "assert_almost_equal(trace['x'][0], 0.10971822553760428)"
   ]
  },
  {
   "cell_type": "code",
   "execution_count": null,
   "metadata": {
    "collapsed": true,
    "deletable": false,
    "nbgrader": {
     "checksum": "21523d750f34b5931dd9b4c5aa179efa",
     "grade": true,
     "grade_id": "test_5",
     "locked": true,
     "points": 4,
     "solution": false
    }
   },
   "outputs": [],
   "source": [
    "assert_array_almost_equal(\n",
    "    trace['Intercept'][-5:],\n",
    "    [ 16.76834312,  10.69007041,  12.53061753,  12.48282463,  16.7895595 ]\n",
    "    )\n",
    "assert_array_almost_equal(\n",
    "    trace['x'][-5:],\n",
    "    [ 0.10729294,  0.12011001,  0.11557339,  0.11561747,  0.11052636]\n",
    "    )"
   ]
  },
  {
   "cell_type": "markdown",
   "metadata": {
    "deletable": false,
    "nbgrader": {
     "checksum": "4c789f1282db7a46ebc2d9de915c5f6e",
     "grade": false,
     "grade_id": "markdown_4",
     "locked": true,
     "solution": false
    }
   },
   "source": [
    "## Model Checking"
   ]
  },
  {
   "cell_type": "code",
   "execution_count": null,
   "metadata": {
    "collapsed": false,
    "deletable": false,
    "nbgrader": {
     "checksum": "1262ba6941e8d1c3548ca272b1a811b1",
     "grade": false,
     "grade_id": "traceplot",
     "locked": true,
     "solution": false
    }
   },
   "outputs": [],
   "source": [
    "pm.traceplot(trace, ['Intercept', 'x']);"
   ]
  },
  {
   "cell_type": "code",
   "execution_count": null,
   "metadata": {
    "collapsed": false,
    "deletable": false,
    "nbgrader": {
     "checksum": "633984eb2dfbeb8ae0e661c51b9c9d2d",
     "grade": false,
     "grade_id": "plot",
     "locked": true,
     "solution": false
    }
   },
   "outputs": [],
   "source": [
    "sns.set(style='white')\n",
    "\n",
    "ax = sns.regplot(data=local, x='Distance', y='AirTime',\n",
    "                 fit_reg=False, color=sns.xkcd_rgb[\"denim blue\"], label=\"Data\")\n",
    "\n",
    "ax.set_xlim(0, 2000)\n",
    "ax.set_ylim(0, 300)\n",
    "\n",
    "x_sample = np.linspace(0, 2000, 2)\n",
    "\n",
    "pm.glm.plot_posterior_predictive(trace[:1500], samples=100, eval=x_sample,\n",
    "                                 label='posterior predictive regression lines', color=sns.xkcd_rgb[\"medium green\"], alpha=0.2)\n",
    "sns.despine()\n",
    "\n",
    "ax.legend(loc='upper left', frameon=True)\n",
    "\n",
    "plt.show()"
   ]
  }
 ],
 "metadata": {
  "kernelspec": {
   "display_name": "Python 3",
   "language": "python",
   "name": "python3"
  },
  "language_info": {
   "codemirror_mode": {
    "name": "ipython",
    "version": 3
   },
   "file_extension": ".py",
   "mimetype": "text/x-python",
   "name": "python",
   "nbconvert_exporter": "python",
   "pygments_lexer": "ipython3",
   "version": "3.5.1"
  }
 },
 "nbformat": 4,
 "nbformat_minor": 0
}