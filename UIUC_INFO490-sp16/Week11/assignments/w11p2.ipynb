{
 "cells": [
  {
   "cell_type": "markdown",
   "metadata": {
    "deletable": false,
    "nbgrader": {
     "checksum": "8044c42e2e9b1c1b446c2837ebb2975c",
     "grade": false,
     "grade_id": "header",
     "locked": true,
     "solution": false
    }
   },
   "source": [
    "This notebook will be collected automatically at **6pm on Monday** from `/home/data_scientist/assignments/Week11` directory on the course JupyterHub server. If you work on this assignment on the course Jupyterhub server, just make sure that you save your work and instructors will pull your notebooks automatically after the deadline. If you work on this assignment locally, the only way to submit assignments is via Jupyterhub, and you have to place the notebook file in the correct directory with the correct file name before the deadline.\n",
    "\n",
    "1. Make sure everything runs as expected. First, restart the kernel (in the menubar, select `Kernel` → `Restart`) and then run all cells (in the menubar, select `Cell` → `Run All`).\n",
    "2. Make sure you fill in any place that says `YOUR CODE HERE`. Do not write your answer in anywhere else other than where it says `YOUR CODE HERE`. Anything you write anywhere else will be removed by the autograder.\n",
    "3. Do not change the file path or the file name of this notebook.\n",
    "4. Make sure that you save your work (in the menubar, select `File` → `Save and CheckPoint`)"
   ]
  },
  {
   "cell_type": "markdown",
   "metadata": {
    "deletable": false,
    "nbgrader": {
     "checksum": "1f3a0f7b582139bfd98f58c4c69cdea2",
     "grade": false,
     "grade_id": "title",
     "locked": true,
     "solution": false
    }
   },
   "source": [
    "## Problem 11.2. Hierarchical Modeling.\n",
    "\n",
    "In this problem, we will implement a hierarchical model to estimate the distribution of departure delays in December of 2001.\n",
    "\n",
    "![](https://raw.githubusercontent.com/UI-DataScience/info490-sp16/master/Week11/assignments/images/hierarchical.png)"
   ]
  },
  {
   "cell_type": "code",
   "execution_count": null,
   "metadata": {
    "collapsed": false,
    "deletable": false,
    "nbgrader": {
     "checksum": "a9d143b638f553383490e9cc667a85ea",
     "grade": false,
     "grade_id": "import",
     "locked": true,
     "solution": false
    }
   },
   "outputs": [],
   "source": [
    "%matplotlib inline\n",
    "\n",
    "import numpy as np\n",
    "import pandas as pd\n",
    "import matplotlib as mpl\n",
    "import matplotlib.pyplot as plt\n",
    "import seaborn as sns\n",
    "import pymc3 as pm\n",
    "\n",
    "from nose.tools import assert_equal, assert_true, assert_is_instance\n",
    "from numpy.testing import assert_array_almost_equal, assert_almost_equal"
   ]
  },
  {
   "cell_type": "markdown",
   "metadata": {
    "deletable": false,
    "nbgrader": {
     "checksum": "b83a8583c7f2eec5c3a905b2b536c21b",
     "grade": false,
     "grade_id": "markdown_1",
     "locked": true,
     "solution": false
    }
   },
   "source": [
    "We use the [airline on-time performance data](http://stat-computing.org/dataexpo/2009/). For simplicity, we limit our analysis to flights that departed from [CMI](https://en.wikipedia.org/wiki/University_of_Illinois_Willard_Airport) in December."
   ]
  },
  {
   "cell_type": "code",
   "execution_count": null,
   "metadata": {
    "collapsed": false,
    "deletable": false,
    "nbgrader": {
     "checksum": "1daedc46e37ea922c89ee065106c6c1d",
     "grade": false,
     "grade_id": "read_csv",
     "locked": true,
     "solution": false
    }
   },
   "outputs": [],
   "source": [
    "filename = '/home/data_scientist/data/2001.csv'\n",
    "\n",
    "usecols = (1, 2, 15, 16)\n",
    "columns = ['Month', 'DayofMonth', 'DepDelay', 'Origin']\n",
    "\n",
    "all_data = pd.read_csv(filename, header=0, na_values=['NA'], usecols=usecols, names=columns)\n",
    "\n",
    "local = all_data[\n",
    "    (all_data['Origin'] == 'CMI') & # use only flights departed from Chicago\n",
    "    (all_data['Month'] == 12) # consider only December\n",
    "    ]\n",
    "local = local.drop(['Month', 'Origin'], axis=1) # we don't need Month and Origin columns\n",
    "local = local.dropna() # drop missing values\n",
    "\n",
    "print(local.head())"
   ]
  },
  {
   "cell_type": "markdown",
   "metadata": {
    "deletable": false,
    "nbgrader": {
     "checksum": "980ad1c8b3b70f373255258cdcb87c76",
     "grade": false,
     "grade_id": "markdown_2",
     "locked": true,
     "solution": false
    }
   },
   "source": [
    "We will use a [Poisson distribution](https://en.wikipedia.org/wiki/Poisson_distribution) (see the next section) but the Poisson distribution does not allow negative means. That is, $\\mu > 0$ in\n",
    "\n",
    "$$ Poisson(\\mu) = P(x\\mid\\mu) = \\frac{e^{-\\mu}\\mu^{x}}{x!}\\quad\\textrm{for}\\, x=0,1,2,\\cdots $$\n",
    "\n",
    "However, there are some negative values in `DepDelay`."
   ]
  },
  {
   "cell_type": "code",
   "execution_count": null,
   "metadata": {
    "collapsed": false,
    "deletable": false,
    "nbgrader": {
     "checksum": "ad5333db87d1394a4cdea34093ed36f2",
     "grade": false,
     "grade_id": "print_min",
     "locked": true,
     "solution": false
    }
   },
   "outputs": [],
   "source": [
    "print(local.DepDelay.min())"
   ]
  },
  {
   "cell_type": "markdown",
   "metadata": {
    "deletable": false,
    "nbgrader": {
     "checksum": "5271fe2023aad6a2ed5c5f41c9adabff",
     "grade": false,
     "grade_id": "markdown_3",
     "locked": true,
     "solution": false
    }
   },
   "source": [
    "This condition can be avoided by a simple shift in the domain, so let's add 15 minutes to all departure delays."
   ]
  },
  {
   "cell_type": "code",
   "execution_count": null,
   "metadata": {
    "collapsed": false,
    "deletable": false,
    "nbgrader": {
     "checksum": "b48de1972ec1e79ab0db5dea6cc9378a",
     "grade": false,
     "grade_id": "shift_column",
     "locked": true,
     "solution": false
    }
   },
   "outputs": [],
   "source": [
    "def shift_column(df, field, shift):\n",
    "    return pd.concat([df.drop(field, axis=1), df[field].apply(lambda x: x + shift)], axis=1) \n",
    "\n",
    "local_shifted = shift_column(local, 'DepDelay', 15)\n",
    "\n",
    "print(local_shifted.head())"
   ]
  },
  {
   "cell_type": "markdown",
   "metadata": {
    "deletable": false,
    "nbgrader": {
     "checksum": "bd4acdfb57c6c72b5901da4213182c64",
     "grade": false,
     "grade_id": "markdown_4",
     "locked": true,
     "solution": false
    }
   },
   "source": [
    "The following code cell asserts that all values in `DepDelay` are non-negative."
   ]
  },
  {
   "cell_type": "code",
   "execution_count": null,
   "metadata": {
    "collapsed": false,
    "deletable": false,
    "nbgrader": {
     "checksum": "7bb5264a5ec8aa4146a469afb36c90df",
     "grade": false,
     "grade_id": "assert_non_negative",
     "locked": true,
     "solution": false
    }
   },
   "outputs": [],
   "source": [
    "assert_equal((local_shifted.DepDelay.values < 0).sum(), 0)"
   ]
  },
  {
   "cell_type": "markdown",
   "metadata": {
    "deletable": false,
    "nbgrader": {
     "checksum": "0f6818909c4be012319f5ca6027f7a92",
     "grade": false,
     "grade_id": "markdown_5",
     "locked": true,
     "solution": false
    }
   },
   "source": [
    "For simplicity, let's remove some outliers and only consider departure delays less than 60 minutes."
   ]
  },
  {
   "cell_type": "code",
   "execution_count": null,
   "metadata": {
    "collapsed": false,
    "deletable": false,
    "nbgrader": {
     "checksum": "1fb6230ff9452a6cd6258eee1fc8e068",
     "grade": false,
     "grade_id": "assert_less_than_60",
     "locked": true,
     "solution": false
    }
   },
   "outputs": [],
   "source": [
    "local_shifted = local_shifted[local_shifted['DepDelay'] < 60]\n",
    "# check if there are any values greater than 60\n",
    "assert_equal((local_shifted.DepDelay.values > 60).sum(), 0)"
   ]
  },
  {
   "cell_type": "markdown",
   "metadata": {
    "deletable": false,
    "nbgrader": {
     "checksum": "4d12cc8d18c04b113929257cc73aee7d",
     "grade": false,
     "grade_id": "markdown_6",
     "locked": true,
     "solution": false
    }
   },
   "source": [
    "In the following section, we model each day independently, modeling paramters $\\mu_i$ of the Poisson distribution for each day of December, $i=1, 2, \\cdots, 31$. The reasoning behind this is that the departure delays will depend on different conditions of each day, e.g. the weather, whether it's a weekend or a weekday, whehter it's a holiday, etc.\n",
    "\n",
    "Simiarly to the use of `county_idx` in [one of the required readings](http://pymc-devs.github.io/pymc3/GLM-hierarchical/), we need a way to map `mu` (an array of length 31) to an array that has the length as `local_shifted`. Read the required readings to see how `county_idx` is used [here](http://pymc-devs.github.io/pymc3/GLM-hierarchical/) and how `participants_idx` is used [here](http://nbviewer.jupyter.org/github/markdregan/Bayesian-Modelling-in-Python/blob/master/Section%203.%20Hierarchical%20modelling.ipynb). \n",
    "\n",
    "We can use the `DayofMonth` column to create `date_idx`:"
   ]
  },
  {
   "cell_type": "code",
   "execution_count": null,
   "metadata": {
    "collapsed": false,
    "deletable": false,
    "nbgrader": {
     "checksum": "f198828dc8d7f74793ec72e618d7129f",
     "grade": false,
     "grade_id": "date_idx",
     "locked": true,
     "solution": false
    }
   },
   "outputs": [],
   "source": [
    "date_idx = local_shifted['DayofMonth'].values - 1\n",
    "print(date_idx)"
   ]
  },
  {
   "cell_type": "markdown",
   "metadata": {
    "deletable": false,
    "nbgrader": {
     "checksum": "9b4efa4f545731fe311816f63e73f907",
     "grade": false,
     "grade_id": "markdown_7",
     "locked": true,
     "solution": false
    }
   },
   "source": [
    "And we can use `date_idx` as follows:\n",
    "\n",
    "```python\n",
    ">>> mu = np.arange(31)\n",
    ">>> print(mu)\n",
    "```\n",
    "```\n",
    "[ 0  1  2  3  4  5  6  7  8  9 10 11 12 13 14 15 16 17 18 19 20 21 22 23 24\n",
    " 25 26 27 28 29 30]\n",
    "```\n",
    "```python\n",
    ">>> print(mu[date_idx])\n",
    "```\n",
    "```\n",
    "[ 0  1  2  3  4  5  6  8  9 10 11 12 13 14 15 17 18 19 21 22 23 24 25 26 27\n",
    " 28 29 30  0  1  2  3  4  5  6  7  8 10 12 14 16 17 18 20 25 26 28 29 30  0\n",
    "  1  3  4  5  6  7  8  9 10 12 14 15 16 18 20 21 22 24 26 27 28 29 30  2  3\n",
    "  4  5  6  8  9 10 11 12 13 14 16 17 18 19 20 21 22 23 24 25 27 28 29 30  0\n",
    "  2  3  4  8  9 10 11 13 15 17 18 19 20 21 22 23 24 25 26 27 29]\n",
    "```\n",
    "```python\n",
    ">>> len(mu[date_idx]) == len(local_shifted)\n",
    "```\n",
    "```\n",
    "True\n",
    "```"
   ]
  },
  {
   "cell_type": "markdown",
   "metadata": {
    "deletable": false,
    "nbgrader": {
     "checksum": "cce313275a84c2a82bc52122f3dc13b5",
     "grade": false,
     "grade_id": "markdown_8",
     "locked": true,
     "solution": false
    }
   },
   "source": [
    "## Hierarchical Model\n",
    "\n",
    "- Implement the following hierarchical model using `pymc3`:\n",
    "$$\n",
    "\\begin{aligned}\n",
    "y_{ji} &\\sim Poisson(\\mu_{i}) \\\\\n",
    "\\mu_i &= Gamma(\\alpha_\\mu, \\beta_\\mu) \\\\\n",
    "\\alpha_\\mu &= Gamma(1, 1) \\\\\n",
    "\\beta_\\mu &= Gamma(1, 1)\n",
    "\\end{aligned}\n",
    "$$\n",
    "for each flight $j$ and each day $i$.\n",
    "\n",
    "  Note there are two ways to specify a [Gamma distribution](https://en.wikipedia.org/wiki/Gamma_distribution): either in terms of alpha and beta or mean and standard deviation. In this problem, we parametrize it in terms of alpha (the shape parameter) and beta (the rate parameter).\n",
    "\n",
    "- Use the names `mu`, `hyper_alpha_mu`, and `hyper_beta_mu` for $\\mu_i$, $\\alpha_\\mu$, and $\\beta_\\mu$, respectively.\n",
    "- Estimate the model paramters with the maximum a posteriori (MAP) method.\n",
    "- Use the `Metropolis` sampler to generate posterior samples.\n",
    "- Use the `random_seed` parameter in `pymc3.sample()` method for reproducibility.\n",
    "- Use the name `y_pred` for posterior predictive distribution."
   ]
  },
  {
   "cell_type": "code",
   "execution_count": null,
   "metadata": {
    "collapsed": false,
    "deletable": false,
    "nbgrader": {
     "checksum": "51a74e4bf068d6dc66ccc57362a9ad63",
     "grade": false,
     "grade_id": "sample_posterior_answer",
     "locked": false,
     "solution": true
    }
   },
   "outputs": [],
   "source": [
    "def sample_posterior(X, idx, n_samples=2000, random_seed=0):\n",
    "    '''\n",
    "    A hierarchical Poisson model.\n",
    "    \n",
    "    Paramters\n",
    "    ---------\n",
    "    X: A numpy array\n",
    "    y: A numpy array\n",
    "    n_samples: The number of samples to draw in pymc3.sample().\n",
    "               Defaults to 2000.\n",
    "    random_seed: An int. Used in pymc3.sample().\n",
    "                 Defaults to 0.\n",
    "                 \n",
    "    Returns\n",
    "    -------\n",
    "    A pymc3.MultiTrace object with access to sampling values.\n",
    "    '''\n",
    "    \n",
    "    # YOUR CODE HERE\n",
    "    \n",
    "    return trace"
   ]
  },
  {
   "cell_type": "code",
   "execution_count": null,
   "metadata": {
    "collapsed": false,
    "deletable": false,
    "nbgrader": {
     "checksum": "a491764db07b8c5490bb04a40dde190d",
     "grade": false,
     "grade_id": "sample_posterior_run",
     "locked": true,
     "solution": false
    }
   },
   "outputs": [],
   "source": [
    "hierarchical_trace = sample_posterior(X=local_shifted['DepDelay'].values, idx=date_idx, n_samples=80000, random_seed=0)"
   ]
  },
  {
   "cell_type": "markdown",
   "metadata": {
    "deletable": false,
    "nbgrader": {
     "checksum": "f97117cd68dc7ba2d326efd476a3d0b1",
     "grade": false,
     "grade_id": "markdown_9",
     "locked": true,
     "solution": false
    }
   },
   "source": [
    "## Tests"
   ]
  },
  {
   "cell_type": "code",
   "execution_count": null,
   "metadata": {
    "collapsed": false,
    "deletable": false,
    "nbgrader": {
     "checksum": "96ff294d34008b0244395f787493deeb",
     "grade": true,
     "grade_id": "test_1",
     "locked": true,
     "points": 6,
     "solution": false
    }
   },
   "outputs": [],
   "source": [
    "assert_is_instance(hierarchical_trace, pm.backends.base.MultiTrace)"
   ]
  },
  {
   "cell_type": "code",
   "execution_count": null,
   "metadata": {
    "collapsed": true,
    "deletable": false,
    "nbgrader": {
     "checksum": "1bdfc88b9983f91bd9eb7304f4b9761c",
     "grade": true,
     "grade_id": "test_2",
     "locked": true,
     "points": 6,
     "solution": false
    }
   },
   "outputs": [],
   "source": [
    "assert_true('mu' in hierarchical_trace.varnames)\n",
    "assert_true('hyper_alpha_mu' in hierarchical_trace.varnames)\n",
    "assert_true('hyper_beta_mu' in hierarchical_trace.varnames)"
   ]
  },
  {
   "cell_type": "code",
   "execution_count": null,
   "metadata": {
    "collapsed": false,
    "deletable": false,
    "nbgrader": {
     "checksum": "e1564d51658c4dbf6396d85353ff0714",
     "grade": true,
     "grade_id": "test_3",
     "locked": true,
     "points": 6,
     "solution": false
    }
   },
   "outputs": [],
   "source": [
    "for v in hierarchical_trace.varnames:\n",
    "    assert_equal(len(hierarchical_trace[v]), 80000)\n",
    "    \n",
    "assert_equal(hierarchical_trace['mu'].shape[1], 31)"
   ]
  },
  {
   "cell_type": "code",
   "execution_count": null,
   "metadata": {
    "collapsed": false,
    "deletable": false,
    "nbgrader": {
     "checksum": "2cf1abaf00564a269f1290f9f95ece8c",
     "grade": true,
     "grade_id": "test_4",
     "locked": true,
     "points": 6,
     "solution": false
    }
   },
   "outputs": [],
   "source": [
    "# note the length of array is 31 for 31 days in the month\n",
    "assert_array_almost_equal(\n",
    "    hierarchical_trace['mu'][0],\n",
    "    [5.15005592, 16.62475099, 5.03444127, 5.40358024, 8.40843765,\n",
    "     5.61251445, 9.65902676, 8.29027816, 5.77918743, 7.80919257,\n",
    "     6.71820538, 11.21074815, 11.27763165, 7.45102395, 13.82115365,\n",
    "     12.8650268, 9.40608051, 7.2311194, 12.6340181, 13.3161937,\n",
    "     13.35869537, 6.9998901, 5.72812909, 5.64635636, 4.68759737,\n",
    "     8.84972429, 10.81517311, 7.23111938, 4.57198273, 9.0657502,\n",
    "     4.57198273]\n",
    "   )\n",
    "assert_almost_equal(hierarchical_trace['hyper_alpha_mu'][0], 5.5450169149287056)\n",
    "assert_almost_equal(hierarchical_trace['hyper_beta_mu'][0], 0.64942390716757559)"
   ]
  },
  {
   "cell_type": "code",
   "execution_count": null,
   "metadata": {
    "collapsed": true,
    "deletable": false,
    "nbgrader": {
     "checksum": "002bf0ff68e5c52a47199353cc555dee",
     "grade": true,
     "grade_id": "test_5",
     "locked": true,
     "points": 6,
     "solution": false
    }
   },
   "outputs": [],
   "source": [
    "assert_array_almost_equal(\n",
    "    hierarchical_trace['mu'][-1],\n",
    "    [8.08654949,  34.08375562,   7.57008048,  10.51196284,\n",
    "     18.50107316,  11.78745225,  18.09940971,  16.12241449,\n",
    "     12.13169846,  12.99963019,  13.07349378,  21.31053712,\n",
    "     27.4765663 ,  11.39435597,  28.41184322,  22.4256777 ,\n",
    "     16.35230358,  12.67814559,  26.50712586,  24.2461485 ,\n",
    "     21.82843992,  15.66077269,   7.92093995,  10.11164244,\n",
    "     8.82131075,  19.24463485,  23.58609886,  13.27383154,\n",
    "     8.12750498,  16.63355877,   7.75384533]\n",
    "     )\n",
    "assert_array_almost_equal(\n",
    "    hierarchical_trace['hyper_alpha_mu'][-5:],\n",
    "    [ 4.80090336,  4.90969099,  4.92489938,  4.63708025,  4.63708025]\n",
    "    )\n",
    "assert_array_almost_equal(\n",
    "    hierarchical_trace['hyper_beta_mu'][-5:],\n",
    "    [ 0.29688425,  0.29688425,  0.29688425,  0.29688425,  0.29688425]\n",
    ")"
   ]
  },
  {
   "cell_type": "markdown",
   "metadata": {
    "deletable": false,
    "nbgrader": {
     "checksum": "6af74863e3b5b1946abec7f96254da97",
     "grade": false,
     "grade_id": "markdown_10",
     "locked": true,
     "solution": false
    }
   },
   "source": [
    "## Model Checking"
   ]
  },
  {
   "cell_type": "code",
   "execution_count": null,
   "metadata": {
    "collapsed": false,
    "deletable": false,
    "nbgrader": {
     "checksum": "7127d602868dc0d10dd805e1d0ef8a38",
     "grade": false,
     "grade_id": "traceplot",
     "locked": true,
     "solution": false
    }
   },
   "outputs": [],
   "source": [
    "pm.traceplot(hierarchical_trace[40000:], varnames=['mu', 'hyper_alpha_mu', 'hyper_beta_mu']);"
   ]
  },
  {
   "cell_type": "code",
   "execution_count": null,
   "metadata": {
    "collapsed": false,
    "deletable": false,
    "nbgrader": {
     "checksum": "037962740775f907499596d8fc69c9a2",
     "grade": false,
     "grade_id": "plot",
     "locked": true,
     "solution": false
    }
   },
   "outputs": [],
   "source": [
    "x_lim = 60\n",
    "n_burn = 40000\n",
    "\n",
    "# we discard burn-in and use every 1000th trace\n",
    "y_pred = hierarchical_trace.get_values('y_pred')[n_burn::1000].ravel()\n",
    "\n",
    "sns.set_style('white')\n",
    "fig, ax = plt.subplots(2, sharex=True, figsize=(12,6))\n",
    "\n",
    "ax[0].hist(y_pred, range=[0, x_lim], bins=x_lim, histtype='stepfilled')   \n",
    "ax[0].set_xlim(1, x_lim)\n",
    "ax[0].set_ylabel('Frequency')\n",
    "ax[0].set_title('Posterior predictive distribution')\n",
    "\n",
    "ax[1].hist(local_shifted.DepDelay.values, range=[0, x_lim], bins=x_lim, histtype='stepfilled')\n",
    "ax[1].set_xlabel('Departure Delay + 15 minutes')\n",
    "ax[1].set_ylabel('Frequency')\n",
    "ax[1].set_title('Distribution of observed data')\n",
    "\n",
    "sns.despine()\n",
    "\n",
    "plt.tight_layout()\n",
    "\n",
    "plt.show()"
   ]
  }
 ],
 "metadata": {
  "kernelspec": {
   "display_name": "Python 3",
   "language": "python",
   "name": "python3"
  },
  "language_info": {
   "codemirror_mode": {
    "name": "ipython",
    "version": 3
   },
   "file_extension": ".py",
   "mimetype": "text/x-python",
   "name": "python",
   "nbconvert_exporter": "python",
   "pygments_lexer": "ipython3",
   "version": "3.5.1"
  }
 },
 "nbformat": 4,
 "nbformat_minor": 0
}