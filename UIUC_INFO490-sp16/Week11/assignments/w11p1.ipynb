{
 "cells": [
  {
   "cell_type": "markdown",
   "metadata": {
    "deletable": false,
    "nbgrader": {
     "checksum": "8044c42e2e9b1c1b446c2837ebb2975c",
     "grade": false,
     "grade_id": "header",
     "locked": true,
     "solution": false
    }
   },
   "source": [
    "This notebook will be collected automatically at **6pm on Monday** from `/home/data_scientist/assignments/Week11` directory on the course JupyterHub server. If you work on this assignment on the course Jupyterhub server, just make sure that you save your work and instructors will pull your notebooks automatically after the deadline. If you work on this assignment locally, the only way to submit assignments is via Jupyterhub, and you have to place the notebook file in the correct directory with the correct file name before the deadline.\n",
    "\n",
    "1. Make sure everything runs as expected. First, restart the kernel (in the menubar, select `Kernel` → `Restart`) and then run all cells (in the menubar, select `Cell` → `Run All`).\n",
    "2. Make sure you fill in any place that says `YOUR CODE HERE`. Do not write your answer in anywhere else other than where it says `YOUR CODE HERE`. Anything you write anywhere else will be removed by the autograder.\n",
    "3. Do not change the file path or the file name of this notebook.\n",
    "4. Make sure that you save your work (in the menubar, select `File` → `Save and CheckPoint`)"
   ]
  },
  {
   "cell_type": "markdown",
   "metadata": {
    "deletable": false,
    "nbgrader": {
     "checksum": "eefdea5481f4ee7eb92853c08e9f5c51",
     "grade": false,
     "grade_id": "title",
     "locked": true,
     "solution": false
    }
   },
   "source": [
    "## Problem 11.1. Bayesian Linear Regression.\n",
    "\n",
    "In this problem, we will use `pymc3` to estimate model parameters that predict `AirTime` from `Distance`.\n",
    "\n",
    "![](https://raw.githubusercontent.com/UI-DataScience/info490-sp16/master/Week11/assignments/images/bayesian_linear_regression.png)"
   ]
  },
  {
   "cell_type": "code",
   "execution_count": null,
   "metadata": {
    "collapsed": true,
    "deletable": false,
    "nbgrader": {
     "checksum": "a9d143b638f553383490e9cc667a85ea",
     "grade": false,
     "grade_id": "import",
     "locked": true,
     "solution": false
    }
   },
   "outputs": [],
   "source": [
    "%matplotlib inline\n",
    "\n",
    "import numpy as np\n",
    "import pandas as pd\n",
    "import matplotlib as mpl\n",
    "import matplotlib.pyplot as plt\n",
    "import seaborn as sns\n",
    "import pymc3 as pm\n",
    "\n",
    "from nose.tools import assert_equal, assert_true, assert_is_instance\n",
    "from numpy.testing import assert_array_almost_equal, assert_almost_equal"
   ]
  },
  {
   "cell_type": "markdown",
   "metadata": {
    "deletable": false,
    "nbgrader": {
     "checksum": "2beb59641b313238b256b3fabcc5cb1e",
     "grade": false,
     "grade_id": "markdown_1",
     "locked": true,
     "solution": false
    }
   },
   "source": [
    "We use the [airline on-time performance data](http://stat-computing.org/dataexpo/2009/). For simplicity, we limit our analysis to flights that departed from Chicago, and use every 10000th row."
   ]
  },
  {
   "cell_type": "code",
   "execution_count": null,
   "metadata": {
    "collapsed": false,
    "deletable": false,
    "nbgrader": {
     "checksum": "75dcd2c21041a377a7d2b8465b613c98",
     "grade": false,
     "grade_id": "read_csv",
     "locked": true,
     "solution": false
    }
   },
   "outputs": [],
   "source": [
    "filename = '/home/data_scientist/data/2001.csv'\n",
    "\n",
    "usecols = (13, 16, 18)\n",
    "columns = ['AirTime', 'Origin', 'Distance']\n",
    "\n",
    "all_data = pd.read_csv(filename, header=0, na_values=['NA'], usecols=usecols, names=columns)\n",
    "\n",
    "local = all_data.loc[all_data['Origin'] == 'ORD'] # use only flights departed from Chicago\n",
    "local = local.dropna() # drop missing values\n",
    "local = local.loc[::10000] # use every 10000th row\n",
    "\n",
    "print(local.head())"
   ]
  },
  {
   "cell_type": "markdown",
   "metadata": {
    "deletable": false,
    "nbgrader": {
     "checksum": "f87aee7e6b39c714937c4c4833af980c",
     "grade": false,
     "grade_id": "markdown_2",
     "locked": true,
     "solution": false
    }
   },
   "source": [
    "## Linear Regression\n",
    "\n",
    "- Implement the following model using `pymc3`:\n",
    "$$\n",
    "\\begin{aligned}\n",
    "Y  &\\sim \\mathcal{N}(\\mu, \\sigma^2) \\\\\n",
    "\\mu &= \\alpha + \\beta X \\\\\n",
    "\\alpha &\\sim \\mathcal{N}(0, 1) \\\\\n",
    "\\beta &\\sim \\mathcal{N}(10, 1) \\\\\n",
    "\\sigma &\\sim \\mathcal{U}(0, 100)\n",
    "\\end{aligned}\n",
    "$$\n",
    "where $\\mathcal{N}$ denotes the [normal distribution](https://en.wikipedia.org/wiki/Normal_distribution) and $\\mathcal{U}$ is the [uniform distribution](https://en.wikipedia.org/wiki/Uniform_distribution_(continuous).\n",
    "\n",
    "- Use the names `alpha`, `beta`, and `sigma` for $\\alpha$, $\\beta$, and $\\sigma$, respectively.\n",
    "- Estimate the model paramters with the maximum a posteriori (MAP) method (using default parameters).\n",
    "- Use the No-U-Turn Sampler (NUTS) to generate posterior samples.\n",
    "- Use the `random_seed` parameter in `pymc3.sample()` method for reproducibility."
   ]
  },
  {
   "cell_type": "code",
   "execution_count": null,
   "metadata": {
    "collapsed": false,
    "deletable": false,
    "nbgrader": {
     "checksum": "82f35ef093f8703ad21f2e7e37e54a56",
     "grade": false,
     "grade_id": "get_trace_answer",
     "locked": false,
     "solution": true
    }
   },
   "outputs": [],
   "source": [
    "def get_trace(X, y, n_samples=1000, random_seed=0):\n",
    "    '''\n",
    "    A simple Bayesian linear regression model with normal priors.\n",
    "    \n",
    "    Paramters\n",
    "    ---------\n",
    "    X: A numpy array\n",
    "    y: A numpy array\n",
    "    n_samples: The number of samples to draw in pymc3.sample().\n",
    "               Defaults to 1000.\n",
    "    random_seed: An int. Used in pymc3.sample().\n",
    "                 Defaults to 0.\n",
    "                 \n",
    "    Returns\n",
    "    -------\n",
    "    A pymc3.MultiTrace object with access to sampling values.\n",
    "    '''\n",
    "    \n",
    "    # YOUR CODE HERE\n",
    "        \n",
    "    return trace"
   ]
  },
  {
   "cell_type": "code",
   "execution_count": null,
   "metadata": {
    "collapsed": false,
    "deletable": false,
    "nbgrader": {
     "checksum": "8a23afb35f153b987a34fc4764997c7c",
     "grade": false,
     "grade_id": "get_trace_run",
     "locked": true,
     "solution": false
    }
   },
   "outputs": [],
   "source": [
    "trace = get_trace(local.Distance.values, local.AirTime.values, n_samples=2000, random_seed=0)"
   ]
  },
  {
   "cell_type": "markdown",
   "metadata": {
    "deletable": false,
    "nbgrader": {
     "checksum": "fe33b62049eaf61d606605a63ab50af2",
     "grade": false,
     "grade_id": "markdown_3",
     "locked": true,
     "solution": false
    }
   },
   "source": [
    "## Tests"
   ]
  },
  {
   "cell_type": "code",
   "execution_count": null,
   "metadata": {
    "collapsed": false,
    "deletable": false,
    "nbgrader": {
     "checksum": "d5a7bdc7ff07d4e0b25054b396337a2b",
     "grade": true,
     "grade_id": "test_1",
     "locked": true,
     "points": 6,
     "solution": false
    }
   },
   "outputs": [],
   "source": [
    "assert_is_instance(trace, pm.backends.base.MultiTrace)"
   ]
  },
  {
   "cell_type": "code",
   "execution_count": null,
   "metadata": {
    "collapsed": true,
    "deletable": false,
    "nbgrader": {
     "checksum": "c5a68ff0a9da76e4039d9fc7eb4e604e",
     "grade": true,
     "grade_id": "test_2",
     "locked": true,
     "points": 6,
     "solution": false
    }
   },
   "outputs": [],
   "source": [
    "assert_true('alpha' in trace.varnames)\n",
    "assert_true('beta' in trace.varnames)\n",
    "assert_true('sigma' in trace.varnames)"
   ]
  },
  {
   "cell_type": "code",
   "execution_count": null,
   "metadata": {
    "collapsed": true,
    "deletable": false,
    "nbgrader": {
     "checksum": "46ea83982c86953745a03383108750a5",
     "grade": true,
     "grade_id": "test_3",
     "locked": true,
     "points": 6,
     "solution": false
    }
   },
   "outputs": [],
   "source": [
    "for v in trace.varnames:\n",
    "    assert_equal(len(trace[v]), 2000)"
   ]
  },
  {
   "cell_type": "code",
   "execution_count": null,
   "metadata": {
    "collapsed": true,
    "deletable": false,
    "nbgrader": {
     "checksum": "acb6dc15f49b16258bc89e274e7d32a8",
     "grade": true,
     "grade_id": "test_4",
     "locked": true,
     "points": 6,
     "solution": false
    }
   },
   "outputs": [],
   "source": [
    "assert_almost_equal(trace['alpha'][0], 0.44122036)\n",
    "assert_almost_equal(trace['beta'][0], 0.12959348068373655)\n",
    "assert_almost_equal(trace['sigma'][0], 12.467518196594149)"
   ]
  },
  {
   "cell_type": "code",
   "execution_count": null,
   "metadata": {
    "collapsed": false,
    "deletable": false,
    "nbgrader": {
     "checksum": "05851685463d011e0a9bb8413abae62d",
     "grade": true,
     "grade_id": "test_5",
     "locked": true,
     "points": 6,
     "solution": false
    }
   },
   "outputs": [],
   "source": [
    "assert_array_almost_equal(\n",
    "    trace['alpha'][-5:],\n",
    "    [ 0.16324791,  1.82571865,  0.67204558,  1.02240237,  0.21551398]\n",
    "    )\n",
    "assert_array_almost_equal(\n",
    "    trace['beta'][-5:],\n",
    "    [ 0.13080994,  0.12731913,  0.13123427,  0.12632491,  0.12939133]\n",
    "    )\n",
    "assert_array_almost_equal(\n",
    "    trace['sigma'][-5:],\n",
    "    [ 16.8066625 ,  11.335856  ,  11.94498544,  14.47516706,  13.6487422 ]\n",
    "    )"
   ]
  },
  {
   "cell_type": "markdown",
   "metadata": {
    "deletable": false,
    "nbgrader": {
     "checksum": "4c789f1282db7a46ebc2d9de915c5f6e",
     "grade": false,
     "grade_id": "markdown_4",
     "locked": true,
     "solution": false
    }
   },
   "source": [
    "## Model Checking"
   ]
  },
  {
   "cell_type": "code",
   "execution_count": null,
   "metadata": {
    "collapsed": false,
    "deletable": false,
    "nbgrader": {
     "checksum": "7aec890312ed2217c09c82a4fcea6256",
     "grade": false,
     "grade_id": "traceplot",
     "locked": true,
     "solution": false
    }
   },
   "outputs": [],
   "source": [
    "# Plot traces\n",
    "sns.set_style('darkgrid')\n",
    "pm.traceplot(trace[-1000:], ['alpha', 'beta', 'sigma'])\n",
    "plt.show()"
   ]
  },
  {
   "cell_type": "code",
   "execution_count": null,
   "metadata": {
    "collapsed": false,
    "deletable": false,
    "nbgrader": {
     "checksum": "a35926e5e3c70e1c2d7c5d62f29c32f5",
     "grade": false,
     "grade_id": "plot",
     "locked": true,
     "solution": false
    }
   },
   "outputs": [],
   "source": [
    "n_samples = 1000\n",
    "\n",
    "x = local.Distance.values\n",
    "y = local.AirTime.values\n",
    "\n",
    "sns.set_style('white')\n",
    "\n",
    "fig, ax = plt.subplots()\n",
    "\n",
    "ax.scatter(x, y, c=sns.xkcd_rgb['denim blue'], label = 'Sample Data')\n",
    "\n",
    "xl = x.min()\n",
    "xh = x.max()\n",
    "\n",
    "intercepts = trace['alpha'][-n_samples:]\n",
    "slopes = trace['beta'][-n_samples:]\n",
    "\n",
    "for m, b in zip(slopes, intercepts):\n",
    "    yl = m * xl + b\n",
    "    yh = m * xh + b\n",
    "    ax.plot((xl, xh), (yl, yh), color=sns.xkcd_rgb['medium green'], lw=0.1, alpha = 0.1)\n",
    "\n",
    "# Replot last one to get legend label\n",
    "ax.plot((xl, xh), (yl, yh), color=sns.xkcd_rgb['medium green'], lw=0.1, label = 'Posterior Prediction')\n",
    "\n",
    "m_fit = slopes.mean()\n",
    "b_fit = intercepts.mean()\n",
    "\n",
    "yfl = b_fit + m_fit * xl\n",
    "yfh = b_fit + m_fit * xh\n",
    "ax.plot((xl, xh), (yfl, yfh), color=sns.xkcd_rgb['pale red'], lw=3, label='Model Regression')\n",
    "\n",
    "ax.set_xlim(0, 2000)\n",
    "ax.set_ylim(0, 300)\n",
    "\n",
    "ax.legend(loc='upper left', frameon=True)\n",
    "\n",
    "ax.set_xlabel('Distance (miles)')\n",
    "ax.set_ylabel('Air time (min)')\n",
    "\n",
    "sns.despine()\n",
    "\n",
    "plt.show()"
   ]
  }
 ],
 "metadata": {
  "kernelspec": {
   "display_name": "Python 3",
   "language": "python",
   "name": "python3"
  },
  "language_info": {
   "codemirror_mode": {
    "name": "ipython",
    "version": 3
   },
   "file_extension": ".py",
   "mimetype": "text/x-python",
   "name": "python",
   "nbconvert_exporter": "python",
   "pygments_lexer": "ipython3",
   "version": "3.5.1"
  }
 },
 "nbformat": 4,
 "nbformat_minor": 0
}