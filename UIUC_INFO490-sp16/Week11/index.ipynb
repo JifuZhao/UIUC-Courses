{
 "cells": [
  {
   "cell_type": "markdown",
   "metadata": {},
   "source": [
    "\n",
    "<DIV ALIGN=CENTER>\n",
    "\n",
    "# Advanced Data Science\n",
    "## University of Illinois\n",
    "### Professor: Robert J. Brunner  \n",
    "### Spring 2016\n",
    "\n",
    "</DIV>  \n",
    "-----\n",
    "-----"
   ]
  },
  {
   "cell_type": "markdown",
   "metadata": {},
   "source": [
    "## Week 11: Introduction to Probabilistic Programming\n",
    "\n",
    "### Lecture 1: [Bayesian Modeling][l1]\n",
    "\n",
    "Learn about Bayesian Statistics and how this approach can be used to\n",
    "constrain model fits to data.\n",
    "\n",
    "### Lecture 2: [Hierarchical Modeling][l2]\n",
    "\n",
    "Learn how to perform hierarchical modeling by using Bayesian techniques.\n",
    "\n",
    "### Lecture 3: [General Linear Models][l3]\n",
    "\n",
    "Learn how to compute and apply general linear models by using Bayesian\n",
    "techniques.\n",
    "\n",
    "-----\n",
    "\n",
    "[l1]: ./notebooks/intro2pp-bm.ipynb\n",
    "[l2]: ./notebooks/intro2pp-hm.ipynb\n",
    "[l3]: ./notebooks/intro2pp-glm.ipynb"
   ]
  },
  {
   "cell_type": "code",
   "execution_count": null,
   "metadata": {
    "collapsed": false
   },
   "outputs": [],
   "source": [
    "from IPython.display import Markdown\n",
    "\n",
    "Markdown(filename='README.md')"
   ]
  }
 ],
 "metadata": {
  "kernelspec": {
   "display_name": "Python 3",
   "language": "python",
   "name": "python3"
  },
  "language_info": {
   "codemirror_mode": {
    "name": "ipython",
    "version": 3
   },
   "file_extension": ".py",
   "mimetype": "text/x-python",
   "name": "python",
   "nbconvert_exporter": "python",
   "pygments_lexer": "ipython3",
   "version": "3.5.1"
  }
 },
 "nbformat": 4,
 "nbformat_minor": 0
}
