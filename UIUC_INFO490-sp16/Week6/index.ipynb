{
 "cells": [
  {
   "cell_type": "markdown",
   "metadata": {},
   "source": [
    "\n",
    "<DIV ALIGN=CENTER>\n",
    "\n",
    "# Advanced Data Science\n",
    "## University of Illinois\n",
    "### Professor: Robert J. Brunner  \n",
    "### Spring 2016\n",
    "\n",
    "</DIV>  \n",
    "-----\n",
    "-----"
   ]
  },
  {
   "cell_type": "markdown",
   "metadata": {},
   "source": [
    "## Week 6: Machine Learning\n",
    "\n",
    "### Lecture 1: [Recommender Systems][l1]\n",
    "\n",
    "Learn how recommender systems are built by using a simple example built\n",
    "using Pandas and Numpy in this Notebook.\n",
    "\n",
    "### Lecture 2: [Anomaly Detection][l2]\n",
    "\n",
    "Learn about anomalies and detecting them in this Notebook.\n",
    "\n",
    "### Lecture 3: [Practical Concepts][l3]\n",
    "\n",
    "Learn about several practical concepts in machine learning including\n",
    "feature selection, pipelines, scaling, and validation/learning curves in\n",
    "this Notebook.\n",
    "\n",
    "-----\n",
    "\n",
    "[l1]: ./notebooks/intro2rs.ipynb\n",
    "[l2]: ./notebooks/intro2ad.ipynb\n",
    "[l3]: ./notebooks/intro2pc.ipynb"
   ]
  },
  {
   "cell_type": "code",
   "execution_count": null,
   "metadata": {
    "collapsed": false
   },
   "outputs": [],
   "source": [
    "from IPython.display import Markdown\n",
    "\n",
    "Markdown(filename='README.md')"
   ]
  }
 ],
 "metadata": {
  "kernelspec": {
   "display_name": "Python 3",
   "language": "python",
   "name": "python3"
  },
  "language_info": {
   "codemirror_mode": {
    "name": "ipython",
    "version": 3
   },
   "file_extension": ".py",
   "mimetype": "text/x-python",
   "name": "python",
   "nbconvert_exporter": "python",
   "pygments_lexer": "ipython3",
   "version": "3.4.4"
  }
 },
 "nbformat": 4,
 "nbformat_minor": 0
}
