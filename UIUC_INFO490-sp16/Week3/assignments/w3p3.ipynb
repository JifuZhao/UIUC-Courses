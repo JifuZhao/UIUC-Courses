{
 "cells": [
  {
   "cell_type": "markdown",
   "metadata": {
    "deletable": false,
    "nbgrader": {
     "checksum": "2bfe5ed8b49c3cce14972ef1c05ac66c",
     "grade": false,
     "grade_id": "header",
     "locked": true,
     "solution": false
    }
   },
   "source": [
    "This notebook will be collected automatically at **6pm on Monday** from `/home/data_scientist/assignments/Week3` directory on the course JupyterHub server. If you work on this assignment on the course Jupyterhub server, just make sure that you save your work and instructors will pull your notebooks automatically after the deadline. If you work on this assignment locally, the only way to submit assignments is via Jupyterhub, and you have to place the notebook file in the correct directory with the correct file name before the deadline.\n",
    "\n",
    "1. Make sure everything runs as expected. First, restart the kernel (in the menubar, select `Kernel` → `Restart`) and then run all cells (in the menubar, select `Cell` → `Run All`).\n",
    "2. Make sure you fill in any place that says `YOUR CODE HERE`. Do not write your answer in anywhere else other than where it says `YOUR CODE HERE`. Anything you write anywhere else will be removed by the autograder.\n",
    "3. Do not change the file path or the file name of this notebook.\n",
    "4. Make sure that you save your work (in the menubar, select `File` → `Save and CheckPoint`)"
   ]
  },
  {
   "cell_type": "markdown",
   "metadata": {},
   "source": [
    "# Problem 3.3. Supervised Learning: Naive Bayes\n",
    "\n",
    "In this problem, we will implement Naive Bayes from scratch using **Numpy**."
   ]
  },
  {
   "cell_type": "code",
   "execution_count": null,
   "metadata": {
    "collapsed": false,
    "deletable": false,
    "nbgrader": {
     "checksum": "0de4836cf0bbbb2b7823f54a7525b28c",
     "grade": false,
     "grade_id": "import",
     "locked": true,
     "solution": false
    }
   },
   "outputs": [],
   "source": [
    "import numpy as np\n",
    "from numpy.testing import assert_array_equal, assert_array_almost_equal"
   ]
  },
  {
   "cell_type": "markdown",
   "metadata": {},
   "source": [
    "## Separate Data By Class\n",
    "\n",
    "Write a function that takes two Numpy arrays, separates data by class value, and returns the result as a dictionary. The keys of the dictionary are class values, and the dictionary values are the rows in `X` that correspond to each class value."
   ]
  },
  {
   "cell_type": "code",
   "execution_count": null,
   "metadata": {
    "collapsed": false,
    "deletable": false,
    "nbgrader": {
     "checksum": "734e07abf133c20097f0f562345f8868",
     "grade": false,
     "grade_id": "separate_by_class_answer",
     "locked": false,
     "solution": true
    }
   },
   "outputs": [],
   "source": [
    "def separate_by_class(X, y):\n",
    "    '''\n",
    "    Separate the training set (\"X\") by class value (\"y\")\n",
    "    so that we can calculate statistics for each class.\n",
    "    \n",
    "    Parameters\n",
    "    ----------\n",
    "    X: A 2d numpy array\n",
    "    y: A 1d numpy array\n",
    "    Returns\n",
    "    -------\n",
    "    A dictionary of 2d numpy arrays\n",
    "    '''\n",
    "    ##################\n",
    "    # YOUR CODE HERE\n",
    "    ##################\n",
    "\n",
    "    return separated"
   ]
  },
  {
   "cell_type": "code",
   "execution_count": null,
   "metadata": {
    "collapsed": false,
    "deletable": false,
    "nbgrader": {
     "checksum": "2a9ecc63cecae5aaa098f42b863800d7",
     "grade": true,
     "grade_id": "separate_by_class_test",
     "locked": true,
     "points": 3,
     "solution": false
    }
   },
   "outputs": [],
   "source": [
    "X_t = np.array( [[2, 21], [1, 20], [3, 22]] )\n",
    "y_t = np.array( [1, 0, 1] )\n",
    "separated_t = separate_by_class(X_t, y_t)\n",
    "assert_array_equal(separated_t[0], np.array( [ [1, 20] ] ))\n",
    "assert_array_equal(separated_t[1], np.array( [ [2, 21], [3, 22] ] ))"
   ]
  },
  {
   "cell_type": "markdown",
   "metadata": {},
   "source": [
    "## Calculate Mean\n",
    "\n",
    "We calculate the mean and use it as the middle of our gaussian distribution when calculating probabilities. If the input array is a 2d array (i.e., a matrix), you should take the mean of each **column**."
   ]
  },
  {
   "cell_type": "code",
   "execution_count": null,
   "metadata": {
    "collapsed": true,
    "deletable": false,
    "nbgrader": {
     "checksum": "58213e9caff0ff9ff6c1418f3bd9171e",
     "grade": false,
     "grade_id": "calculate_mean_answer",
     "locked": false,
     "solution": true
    }
   },
   "outputs": [],
   "source": [
    "def calculate_mean(array):\n",
    "    '''\n",
    "    Calculates the mean of each column, i.e. each attribute.\n",
    "    \n",
    "    Parameters\n",
    "    ----------\n",
    "    A 1d or 2d numpy array\n",
    "    \n",
    "    Returns\n",
    "    -------\n",
    "    A 1d or 2d numpy array\n",
    "    '''\n",
    "    ##################\n",
    "    # YOUR CODE HERE\n",
    "    ##################\n",
    "    return mean"
   ]
  },
  {
   "cell_type": "code",
   "execution_count": null,
   "metadata": {
    "collapsed": false,
    "deletable": false,
    "nbgrader": {
     "checksum": "d0627e524a48700f40307e066dd4b21a",
     "grade": true,
     "grade_id": "calculate_mean_test",
     "locked": true,
     "points": 3,
     "solution": false
    }
   },
   "outputs": [],
   "source": [
    "array_t = np.array( [ [1, 4, 7], [2, 5, 6], [3, 6, 8] ] )\n",
    "mean_t = calculate_mean(array_t)\n",
    "assert_array_equal(mean_t, np.array( [2., 5., 7.] ))"
   ]
  },
  {
   "cell_type": "markdown",
   "metadata": {},
   "source": [
    "## Calculate Standard Deviation\n",
    "\n",
    "Write a function that calculates the standard deviation of each **column**. The input array may be a 2d array."
   ]
  },
  {
   "cell_type": "code",
   "execution_count": null,
   "metadata": {
    "collapsed": true,
    "deletable": false,
    "nbgrader": {
     "checksum": "156df132021666018ea0d5ae5abccd8f",
     "grade": false,
     "grade_id": "calculate_stdev_answer",
     "locked": false,
     "solution": true
    }
   },
   "outputs": [],
   "source": [
    "def calculate_stdev(array):\n",
    "    '''\n",
    "    Calculates the standard deviation of each column, i.e. each attribute.\n",
    "\n",
    "    Parameters\n",
    "    ----------\n",
    "    A 1d or 2d numpy array\n",
    "    \n",
    "    Returns\n",
    "    -------\n",
    "    A 1d or 2d numpy array\n",
    "    '''\n",
    "    ##################\n",
    "    # YOUR CODE HERE\n",
    "    ##################\n",
    "\n",
    "    return stdev"
   ]
  },
  {
   "cell_type": "code",
   "execution_count": null,
   "metadata": {
    "collapsed": false,
    "deletable": false,
    "nbgrader": {
     "checksum": "cf7aff2d60d40acf8d714984f990be5a",
     "grade": true,
     "grade_id": "calculate_stdev_test",
     "locked": true,
     "points": 3,
     "solution": false
    }
   },
   "outputs": [],
   "source": [
    "array_t = np.array( [ [1, 20, 14], [2, 21, 15], [3, 22, 16] ] )\n",
    "stdev_t = calculate_stdev(array_t)\n",
    "assert_array_equal(stdev_t, np.array( [1., 1., 1.] ))"
   ]
  },
  {
   "cell_type": "markdown",
   "metadata": {},
   "source": [
    "## Summarize data set\n",
    "\n",
    "For a given list of instances (for a class value), we calculate the mean and the standard deviation for each attribute."
   ]
  },
  {
   "cell_type": "code",
   "execution_count": null,
   "metadata": {
    "collapsed": true,
    "deletable": false,
    "nbgrader": {
     "checksum": "f43695ae954adbcd79b88be12dfa9061",
     "grade": false,
     "grade_id": "summarize_answer",
     "locked": false,
     "solution": true
    }
   },
   "outputs": [],
   "source": [
    "def summarize(X):\n",
    "    '''\n",
    "    For a given list of instances (for a class value),\n",
    "    calculates the mean and the standard deviation for each attribute.\n",
    "    \n",
    "    Parameters\n",
    "    ----------\n",
    "    A 2d numpy array\n",
    "    \n",
    "    Returns\n",
    "    -------\n",
    "    A 2d numpy array\n",
    "    '''\n",
    "    ##################\n",
    "    # YOUR CODE HERE\n",
    "    ##################\n",
    "    return summary"
   ]
  },
  {
   "cell_type": "code",
   "execution_count": null,
   "metadata": {
    "collapsed": false,
    "deletable": false,
    "nbgrader": {
     "checksum": "84a8603908f0a08fe1205594945b72ad",
     "grade": true,
     "grade_id": "summarize_test",
     "locked": true,
     "points": 3,
     "solution": false
    }
   },
   "outputs": [],
   "source": [
    "X_t = np.array( [ [1, 20], [2, 21], [3, 22] ] )\n",
    "summary_t = summarize(X_t)\n",
    "assert_array_equal(summary_t, np.array( [ (2.0, 1.0), (21.0, 1.0) ] ))"
   ]
  },
  {
   "cell_type": "markdown",
   "metadata": {},
   "source": [
    "## Summarize Attributes By Class\n",
    "\n",
    "We calculate the summaries for each attribute."
   ]
  },
  {
   "cell_type": "code",
   "execution_count": null,
   "metadata": {
    "collapsed": true,
    "deletable": false,
    "nbgrader": {
     "checksum": "87dd0aff552d9d2c2f208c0ac71fc218",
     "grade": false,
     "grade_id": "summarize_by_class_answer",
     "locked": false,
     "solution": true
    }
   },
   "outputs": [],
   "source": [
    "def summarize_by_class(X, y):\n",
    "    '''\n",
    "    Separates a training set into instances grouped by class.\n",
    "    It then calculates the summaries for each attribute.\n",
    "    \n",
    "    Parameters\n",
    "    ----------\n",
    "    X: A 2d numpy array. Represents training attributes.\n",
    "    y: A 1d numpy array. Represents class labels.\n",
    "    Returns\n",
    "    -------\n",
    "    A dictionary of 2d numpy arrays\n",
    "    '''\n",
    "    ##################\n",
    "    # YOUR CODE HERE\n",
    "    ##################\n",
    "\n",
    "    return summaries"
   ]
  },
  {
   "cell_type": "code",
   "execution_count": null,
   "metadata": {
    "collapsed": false,
    "deletable": false,
    "nbgrader": {
     "checksum": "3fd33aeb15feef7d888ff588b1c20d61",
     "grade": true,
     "grade_id": "summarize_by_class_test",
     "locked": true,
     "points": 3,
     "solution": false
    }
   },
   "outputs": [],
   "source": [
    "X_t = np.array( [ [1, 20], [2, 21], [3, 22], [4, 22] ] )\n",
    "y_t = np.array( [1, 0, 1, 0] )\n",
    "summary_t = summarize_by_class(X_t, y_t)\n",
    "assert_array_almost_equal(summary_t[0], np.array( [ (3., 1.41421356), (21.5, 0.70710678) ] ))\n",
    "assert_array_almost_equal(summary_t[1], np.array( [ (2., 1.41421356), (21.0, 1.41421356) ] ))"
   ]
  },
  {
   "cell_type": "markdown",
   "metadata": {},
   "source": [
    "## Calculate Log of Gaussian Probability Density Function\n",
    "\n",
    "Calculate the **log** of a Gaussian Probability Density Function. The conditional probabilities for each class given an attribute value are small. When they are multiplied together they result in very small values, which can lead to floating point underflow (numbers too small to represent in Python). A common fix for this is to combine the log of the probabilities together."
   ]
  },
  {
   "cell_type": "code",
   "execution_count": null,
   "metadata": {
    "collapsed": false,
    "deletable": false,
    "nbgrader": {
     "checksum": "e37c7319d1f7d0b2ebcfcbfb6e018fa1",
     "grade": false,
     "grade_id": "calculate_log_probability_answer",
     "locked": false,
     "solution": true
    }
   },
   "outputs": [],
   "source": [
    "def calculate_log_probability(x, mean, stdev):\n",
    "    '''\n",
    "    Calculates log of Gaussian function to estimate\n",
    "    the log probability of a given attribute value.\n",
    "    \n",
    "    Parameters\n",
    "    ----------\n",
    "    x: A float or 1d numpy array\n",
    "    mean: A float or 1d numpy array\n",
    "    stdev: A float or 1d numpy array\n",
    "    \n",
    "    Returns\n",
    "    -------\n",
    "    A float or 1d numpy array\n",
    "    '''\n",
    "\n",
    "    ##################\n",
    "    # YOUR CODE HERE\n",
    "    ##################\n",
    "\n",
    "    return log_probability"
   ]
  },
  {
   "cell_type": "code",
   "execution_count": null,
   "metadata": {
    "collapsed": false,
    "deletable": false,
    "nbgrader": {
     "checksum": "f2fecbc95247f22c6b8e3a77bb5772e8",
     "grade": true,
     "grade_id": "calculate_log_probability_test",
     "locked": true,
     "points": 3,
     "solution": false
    }
   },
   "outputs": [],
   "source": [
    "array_t = calculate_log_probability(np.array( [71.5] ), np.array( [73] ), np.array( [6.2] ))\n",
    "assert_array_almost_equal(array_t, np.array( [ np.log(0.0624896575937) ] ))"
   ]
  },
  {
   "cell_type": "markdown",
   "metadata": {},
   "source": [
    "## Calculate Class Probabilities\n",
    "\n",
    "Remember that you calculated **log** of probabilities. Therefore, instead of combine probabilities together by multiplying them, you should **add** the log of probabilities."
   ]
  },
  {
   "cell_type": "code",
   "execution_count": null,
   "metadata": {
    "collapsed": true,
    "deletable": false,
    "nbgrader": {
     "checksum": "a5dbc8878ae4cca9a6decc306d2fc307",
     "grade": false,
     "grade_id": "calculate_class_log_probabilities_answer",
     "locked": false,
     "solution": true
    }
   },
   "outputs": [],
   "source": [
    "def calculate_class_log_probabilities(summaries, input_array):\n",
    "    '''\n",
    "    Combines the probabilities of all of the attribute values for a data instance\n",
    "    and comes up with a probability of the entire data instance belonging to the class.\n",
    "\n",
    "    Parameters\n",
    "    ----------\n",
    "    summaries: A dictionary of 2d numpy arrays\n",
    "    input_array: A 1d numpy array\n",
    "    \n",
    "    Returns\n",
    "    -------\n",
    "    A dictionary of log probabilities\n",
    "    '''\n",
    "\n",
    "    ##################\n",
    "    # YOUR CODE HERE\n",
    "    ##################\n",
    "\n",
    "    return log_probabilities"
   ]
  },
  {
   "cell_type": "code",
   "execution_count": null,
   "metadata": {
    "collapsed": false,
    "deletable": false,
    "nbgrader": {
     "checksum": "31f6183615e3812ce21fab01bd8b559a",
     "grade": true,
     "grade_id": "calculate_class_log_probabilities_test",
     "locked": true,
     "points": 6,
     "solution": false
    }
   },
   "outputs": [],
   "source": [
    "summaries_t = {0: np.array( [ (1, 0.5) ]), 1: np.array( [ (20, 5.0) ] )}\n",
    "input_t = np.array( [1.1] )\n",
    "log_probabilities = calculate_class_log_probabilities(summaries_t, input_t)\n",
    "assert_array_almost_equal(log_probabilities[0], np.array( [np.log(0.7820853879509118)] ))\n",
    "assert_array_almost_equal(log_probabilities[1], np.array( [np.log(6.298736258150442e-05)] ))"
   ]
  },
  {
   "cell_type": "markdown",
   "metadata": {},
   "source": [
    "## Make Predictions\n",
    "\n",
    "Calculate the probability of a data instance belonging to each class value, we can look for the largest probability and return the associated class."
   ]
  },
  {
   "cell_type": "code",
   "execution_count": null,
   "metadata": {
    "collapsed": true,
    "deletable": false,
    "nbgrader": {
     "checksum": "2cc9554f8b910d1479c4ea9946524e6d",
     "grade": false,
     "grade_id": "predict_answer",
     "locked": false,
     "solution": true
    }
   },
   "outputs": [],
   "source": [
    "def predict(summaries, input_array):\n",
    "    '''\n",
    "    Calculates the probability of each data instance belonging to each class value,\n",
    "    looks for the largest probability, and return the associated class.\n",
    "    \n",
    "    Parameters\n",
    "    ----------\n",
    "    summaries: A dictionary of numpy arrays\n",
    "    input_array: A 1d numpy array\n",
    "    \n",
    "    Returns\n",
    "    -------\n",
    "    A 1d numpy array\n",
    "    '''\n",
    "\n",
    "    ##################\n",
    "    # YOUR CODE HERE\n",
    "    ##################\n",
    "\n",
    "    return best_label"
   ]
  },
  {
   "cell_type": "code",
   "execution_count": null,
   "metadata": {
    "collapsed": false,
    "deletable": false,
    "nbgrader": {
     "checksum": "0c8b1d0346f41d077810a5dc91980b07",
     "grade": true,
     "grade_id": "predict_test",
     "locked": true,
     "points": 6,
     "solution": false
    }
   },
   "outputs": [],
   "source": [
    "summaries_t = {0: np.array( [ (1, 0.5) ] ), 1: np.array( [ (20, 5.0) ] )}\n",
    "input_t1 = np.array( [1.1] )\n",
    "result_t1 = predict(summaries_t, input_t1)\n",
    "assert_array_equal(result_t1, np.array( [0.] ))\n",
    "\n",
    "test_set_t2 = np.array([1.1, 19.1])\n",
    "result_t2 = predict(summaries_t, test_set_t2)\n",
    "assert_array_equal(result_t2, np.array( [0., 1.] ))"
   ]
  },
  {
   "cell_type": "markdown",
   "metadata": {},
   "source": [
    "If you used Numpy correctly, it shouldn't be necessary to iterate over each test instance and make predictions. In other words, you don't have to use the `for` loop of `getPredictions()`."
   ]
  }
 ],
 "metadata": {
  "kernelspec": {
   "display_name": "Python 3",
   "language": "python",
   "name": "python3"
  },
  "language_info": {
   "codemirror_mode": {
    "name": "ipython",
    "version": 3
   },
   "file_extension": ".py",
   "mimetype": "text/x-python",
   "name": "python",
   "nbconvert_exporter": "python",
   "pygments_lexer": "ipython3",
   "version": "3.4.4"
  }
 },
 "nbformat": 4,
 "nbformat_minor": 0
}