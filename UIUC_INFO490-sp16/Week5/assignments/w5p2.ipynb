{
 "cells": [
  {
   "cell_type": "markdown",
   "metadata": {
    "collapsed": true
   },
   "source": [
    "This notebook will be collected automatically at **6pm on Monday** from `/home/data_scientist/assignments/Week5` directory on the course JupyterHub server. If you work on this assignment on the course Jupyterhub server, just make sure that you save your work and instructors will pull your notebooks automatically after the deadline. If you work on this assignment locally, the only way to submit assignments is via Jupyterhub, and you have to place the notebook file in the correct directory with the correct file name before the deadline.\n",
    "\n",
    "1. Make sure everything runs as expected. First, restart the kernel (in the menubar, select `Kernel` → `Restart`) and then run all cells (in the menubar, select `Cell` → `Run All`).\n",
    "2. Make sure you fill in any place that says `YOUR CODE HERE`. Do not write your answer in anywhere else other than where it says `YOUR CODE HERE`. Anything you write anywhere else will be removed by the autograder.\n",
    "3. Do not change the file path or the file name of this notebook.\n",
    "4. Make sure that you save your work (in the menubar, select `File` → `Save and CheckPoint`)"
   ]
  },
  {
   "cell_type": "markdown",
   "metadata": {},
   "source": [
    "# Problem 5.2. Clustering.\n",
    "\n",
    "In this problem, we will continue from where we left off in Problem 5.1, and apply k-means clustering algorithm on Delta Airline's aircrafts."
   ]
  },
  {
   "cell_type": "code",
   "execution_count": null,
   "metadata": {
    "collapsed": false,
    "deletable": false,
    "nbgrader": {
     "checksum": "11efd48bee6881dfeb364533955f9e1e",
     "grade": false,
     "grade_id": "import",
     "locked": true,
     "solution": false
    }
   },
   "outputs": [],
   "source": [
    "%matplotlib inline\n",
    "\n",
    "import numpy as np\n",
    "import pandas as pd\n",
    "import seaborn as sns\n",
    "import matplotlib as mpl\n",
    "import matplotlib.pyplot as plt\n",
    "import sklearn\n",
    "\n",
    "from sklearn.utils import check_random_state\n",
    "from sklearn.cluster import KMeans\n",
    "\n",
    "from nose.tools import assert_equal, assert_is_instance, assert_true, assert_is_not\n",
    "from numpy.testing import assert_array_equal, assert_array_almost_equal, assert_almost_equal"
   ]
  },
  {
   "cell_type": "markdown",
   "metadata": {},
   "source": [
    "I saved the `reduced` array (the first 10 principal components of the Delta Airline data set) from Problem 8.1 as a `npy` file.\n",
    "\n",
    "```python\n",
    ">>> np.save('delta_reduced.npy', reduced)\n",
    "```\n",
    "\n",
    "This file is in `/home/data_scientist/data/misc`. We will load this file as a Numpy array and start from there."
   ]
  },
  {
   "cell_type": "code",
   "execution_count": null,
   "metadata": {
    "collapsed": false,
    "deletable": false,
    "nbgrader": {
     "checksum": "3d7ca39a3ce39be039b9da2b3d82a9d7",
     "grade": false,
     "grade_id": "load_reduced",
     "locked": true,
     "solution": false
    }
   },
   "outputs": [],
   "source": [
    "reduced = np.load('/home/data_scientist/data/misc/delta_reduced.npy')"
   ]
  },
  {
   "cell_type": "markdown",
   "metadata": {},
   "source": [
    "# k-means\n",
    "\n",
    "- Write a function named `cluster()` that fits a k-means clustering algorithm, and returns a tuple `(sklearn.cluster.k_means_.KMeans, np.array)`. The second element of the tuple is a 1-d array that contains the predictions of k-means clustering, i.e. which cluster each data point belongs to.\n",
    "\n",
    "Use default values for all parameters in `KMeans()` execept for `n_clusters` and `random_state`."
   ]
  },
  {
   "cell_type": "code",
   "execution_count": null,
   "metadata": {
    "collapsed": true,
    "deletable": false,
    "nbgrader": {
     "checksum": "bab745ee031166a7aa45fd39b811a62a",
     "grade": false,
     "grade_id": "cluster_answer",
     "locked": false,
     "solution": true
    }
   },
   "outputs": [],
   "source": [
    "def cluster(array, random_state, n_clusters=4):\n",
    "    '''\n",
    "    Fits and predicts k-means clustering on \"array\"\n",
    "    \n",
    "    Parameters\n",
    "    ----------\n",
    "    array: A numpy array\n",
    "    random_state: Random seed, e.g. check_random_state(0)\n",
    "    n_clusters: The number of clusters. Default: 4\n",
    "    \n",
    "    Returns\n",
    "    -------\n",
    "    A tuple (sklearn.KMeans, np.ndarray)\n",
    "    '''\n",
    "    \n",
    "    # YOUR CODE HERE\n",
    "    \n",
    "    return model, clusters"
   ]
  },
  {
   "cell_type": "code",
   "execution_count": null,
   "metadata": {
    "collapsed": false,
    "deletable": false,
    "nbgrader": {
     "checksum": "872f90ad171895a92ce9f0edfb86934e",
     "grade": true,
     "grade_id": "cluster_test",
     "locked": true,
     "points": 3,
     "solution": false
    }
   },
   "outputs": [],
   "source": [
    "k_means_t, cluster_t = cluster(reduced, random_state=check_random_state(1), n_clusters=5)\n",
    "\n",
    "assert_is_instance(k_means_t, sklearn.cluster.k_means_.KMeans)\n",
    "assert_is_instance(cluster_t, np.ndarray)\n",
    "assert_equal(k_means_t.n_init, 10)\n",
    "assert_equal(k_means_t.n_clusters, 5)\n",
    "assert_equal(len(cluster_t), len(reduced))\n",
    "assert_true((cluster_t < 5).all()) # n_cluster = 5 so labels should be between 0 and 5\n",
    "assert_true((cluster_t >= 0).all())\n",
    "labels_gold = -1. * np.ones(len(reduced), dtype=np.int)\n",
    "mindist = np.empty(len(reduced))\n",
    "mindist.fill(np.infty)\n",
    "for i in range(5):\n",
    "    dist = np.sum((reduced - k_means_t.cluster_centers_[i])**2., axis=1)\n",
    "    labels_gold[dist < mindist] = i\n",
    "    mindist = np.minimum(dist, mindist)\n",
    "assert_true((mindist >= 0.0).all())\n",
    "assert_true((labels_gold != -1).all())\n",
    "assert_array_equal(labels_gold, cluster_t)"
   ]
  },
  {
   "cell_type": "markdown",
   "metadata": {},
   "source": [
    "## The elbow method\n",
    "\n",
    "Now, we would like to apply the k-means clustering technique, but how do we determine k, the number of clusters?\n",
    "\n",
    "The simplest method is [the elbow method](https://en.wikipedia.org/wiki/Determining_the_number_of_clusters_in_a_data_set#The_Elbow_Method), which is similar to what we did in Problem 5.1. But what criterion should we use, i.e. what should go on the y-axis?\n",
    "\n",
    "According to [scikit-learn documentation](http://scikit-learn.org/stable/modules/clustering.html#k-means),\n",
    "\n",
    "```\n",
    "The KMeans algorithm clusters data by trying to separate samples in n groups of equal variance,\n",
    "minimizing a criterion known as the inertia or within-cluster sum-of-squares.\n",
    "```\n",
    "\n",
    "The scikit-learn documentation on [sklearn.cluster.KMeans](http://scikit-learn.org/stable/modules/generated/sklearn.cluster.KMeans.html#sklearn-cluster-kmeans) says that `sklearn.cluster.KMeans` has the inertia value in the `inertia_` attribute. So we can vary the number of clusters in `KMeans`, plot `KMeans.inertia_` as a function of the number of clusters, and pick the \"elbow\" in the plot.\n",
    "\n",
    "![](https://raw.githubusercontent.com/UI-DataScience/info490-sp16/master/Week5/assignments/images/elbow.png)\n",
    "\n",
    "Always use `check_random_state(0)` to seed the random number generator."
   ]
  },
  {
   "cell_type": "code",
   "execution_count": null,
   "metadata": {
    "collapsed": false,
    "deletable": false,
    "nbgrader": {
     "checksum": "6e309b5d1f29d3d98e2c93936957936e",
     "grade": false,
     "grade_id": "plot_inertia_answer",
     "locked": false,
     "solution": true
    }
   },
   "outputs": [],
   "source": [
    "def plot_inertia(array, start=1, end=10):\n",
    "    '''\n",
    "    Increase the number of clusters from \"start\" to \"end\" (inclusive).\n",
    "    Finds the inertia of k-means clustering for different k.\n",
    "    Plots inertia as a function of the number of clusters.\n",
    "    \n",
    "    Parameters\n",
    "    ----------\n",
    "    array: A numpy array.\n",
    "    start: An int. Default: 1\n",
    "    end: An int. Default: 10\n",
    "    \n",
    "    Returns\n",
    "    -------\n",
    "    A matplotlib.Axes instance.\n",
    "    '''\n",
    "    \n",
    "    # YOUR CODE HERE\n",
    "\n",
    "    return ax"
   ]
  },
  {
   "cell_type": "code",
   "execution_count": null,
   "metadata": {
    "collapsed": false,
    "deletable": false,
    "nbgrader": {
     "checksum": "b1ae2cfb0195eb818d5dbd4aa8a7396c",
     "grade": false,
     "grade_id": "plot_inertia_run",
     "locked": true,
     "solution": false
    }
   },
   "outputs": [],
   "source": [
    "inertia = plot_inertia(reduced)"
   ]
  },
  {
   "cell_type": "code",
   "execution_count": null,
   "metadata": {
    "collapsed": false,
    "deletable": false,
    "nbgrader": {
     "checksum": "e905b62e3101f10e304cd47772464d7f",
     "grade": true,
     "grade_id": "plot_inertia_test",
     "locked": true,
     "points": 8,
     "solution": false
    }
   },
   "outputs": [],
   "source": [
    "assert_is_instance(inertia, mpl.axes.Axes)\n",
    "assert_true(len(inertia.lines) >= 1)\n",
    "\n",
    "xdata, ydata = inertia.lines[0].get_xydata().T\n",
    "\n",
    "for i in range(1, 11):\n",
    "    k_means_t, cluster_t = cluster(reduced, random_state=check_random_state(0), n_clusters=i)\n",
    "    assert_array_equal(xdata[i - 1], i)\n",
    "    assert_almost_equal(ydata[i - 1], k_means_t.inertia_)\n",
    "\n",
    "assert_is_not(len(inertia.title.get_text()), 0,\n",
    "    msg=\"Your plot doesn't have a title.\")\n",
    "assert_is_not(inertia.xaxis.get_label_text(), '',\n",
    "    msg=\"Change the x-axis label to something more descriptive.\")\n",
    "assert_is_not(inertia.yaxis.get_label_text(), '',\n",
    "    msg=\"Change the y-axis label to something more descriptive.\")"
   ]
  },
  {
   "cell_type": "markdown",
   "metadata": {},
   "source": [
    "## Pair Grid\n",
    "\n",
    "- Write a function named `plot_pair()` that uses [seaborn.PairGrid](http://stanford.edu/~mwaskom/software/seaborn/generated/seaborn.PairGrid.html#) to visualize the clusters in terms of first four principal components. The plots on the diagonal should be histograms of corresponding attributes, and the off-diagonal should be scatter plots.\n",
    "\n",
    "![](https://raw.githubusercontent.com/UI-DataScience/info490-sp16/master/Week5/assignments/images/pca_pair_plot.png)"
   ]
  },
  {
   "cell_type": "code",
   "execution_count": null,
   "metadata": {
    "collapsed": false,
    "deletable": false,
    "nbgrader": {
     "checksum": "a5e560b8250412b751255cd4131e2cc0",
     "grade": false,
     "grade_id": "plot_pair_answer",
     "locked": false,
     "solution": true
    }
   },
   "outputs": [],
   "source": [
    "def plot_pair(reduced, clusters):\n",
    "    '''\n",
    "    Uses seaborn.PairGrid to visualize the data distribution\n",
    "    when axes are the first four principal components.\n",
    "    Diagonal plots are histograms. The off-diagonal plots are scatter plots.\n",
    "    \n",
    "    Parameters\n",
    "    ----------\n",
    "    reduced: A numpy array. Comes from importing delta_reduced.npy\n",
    "    \n",
    "    Returns\n",
    "    -------\n",
    "    A seaborn.axisgrid.PairGrid instance.\n",
    "    '''\n",
    "    \n",
    "    # YOUR CODE HERE\n",
    "    \n",
    "    return ax"
   ]
  },
  {
   "cell_type": "code",
   "execution_count": null,
   "metadata": {
    "collapsed": false,
    "deletable": false,
    "nbgrader": {
     "checksum": "0a61605b2345299c98eb8a7cc434673b",
     "grade": false,
     "grade_id": "plot_pair_run",
     "locked": true,
     "points": 10,
     "solution": false
    }
   },
   "outputs": [],
   "source": [
    "k_means, clusters = cluster(reduced, random_state=check_random_state(0), n_clusters=4)\n",
    "pg = plot_pair(reduced, clusters)"
   ]
  },
  {
   "cell_type": "markdown",
   "metadata": {},
   "source": [
    "We can see that the one outlier is in its own cluster, there’s 3 or 4 in the other and the remainder are split into two clusters of greater size."
   ]
  },
  {
   "cell_type": "code",
   "execution_count": null,
   "metadata": {
    "collapsed": false,
    "deletable": false,
    "nbgrader": {
     "checksum": "6e90647081f21dd1c9f3919a74999e52",
     "grade": true,
     "grade_id": "plot_pair_test",
     "locked": true,
     "points": 8,
     "solution": false
    }
   },
   "outputs": [],
   "source": [
    "assert_is_instance(pg.fig, plt.Figure)\n",
    "assert_true(len(pg.data.columns) >= 4)\n",
    "\n",
    "for ax in pg.diag_axes:\n",
    "    assert_equal(len(ax.patches), 4 * 10) # 4 clusters with 10 patches in each histogram\n",
    "\n",
    "for i, j in zip(*np.triu_indices_from(pg.axes, 1)):\n",
    "    ax = pg.axes[i, j]\n",
    "    x_out, y_out = ax.collections[0].get_offsets().T\n",
    "    x_in = reduced[clusters == 0, j] # we only check the first cluster\n",
    "    y_in = reduced[clusters == 0, i]\n",
    "    assert_array_equal(x_in, x_out)\n",
    "    assert_array_equal(y_in, y_out)\n",
    "\n",
    "for i, j in zip(*np.tril_indices_from(pg.axes, -1)):\n",
    "    ax = pg.axes[i, j]\n",
    "    x_in = reduced[clusters == 0, j]\n",
    "    y_in = reduced[clusters == 0, i]\n",
    "    x_out, y_out = ax.collections[0].get_offsets().T\n",
    "    assert_array_equal(x_in, x_out)\n",
    "    assert_array_equal(y_in, y_out)\n",
    "\n",
    "for i, j in zip(*np.diag_indices_from(pg.axes)):\n",
    "    ax = pg.axes[i, j]\n",
    "    assert_equal(len(ax.collections), 0)"
   ]
  },
  {
   "cell_type": "markdown",
   "metadata": {},
   "source": [
    "## More discussion\n",
    "\n",
    "You don't have to write any code in this section, but here's one interpretaion of what we have done.\n",
    "\n",
    "Let's take a closer look at each cluster."
   ]
  },
  {
   "cell_type": "code",
   "execution_count": null,
   "metadata": {
    "collapsed": false
   },
   "outputs": [],
   "source": [
    "df = pd.read_csv('/home/data_scientist/data/delta.csv', index_col='Aircraft')\n",
    "df['Clusters'] = clusters\n",
    "df['Aircraft'] = df.index\n",
    "df_grouped = df.groupby('Clusters').mean()\n",
    "print(df_grouped.Accommodation)"
   ]
  },
  {
   "cell_type": "code",
   "execution_count": null,
   "metadata": {
    "collapsed": false
   },
   "outputs": [],
   "source": [
    "print(df_grouped['Length (ft)'])"
   ]
  },
  {
   "cell_type": "markdown",
   "metadata": {},
   "source": [
    "Cluster 3 has only one aircraft:"
   ]
  },
  {
   "cell_type": "code",
   "execution_count": null,
   "metadata": {
    "collapsed": false
   },
   "outputs": [],
   "source": [
    "clust3 = df[df.Clusters == 3]\n",
    "print(clust3.Aircraft)"
   ]
  },
  {
   "cell_type": "markdown",
   "metadata": {},
   "source": [
    "Airbus A319 VIP is not one of Delta Airline's regular fleet and is one of Airbus corporate jets.\n",
    "\n",
    "Cluster 2 has four aircrafts."
   ]
  },
  {
   "cell_type": "code",
   "execution_count": null,
   "metadata": {
    "collapsed": false
   },
   "outputs": [],
   "source": [
    "clust2 = df[df.Clusters == 2]\n",
    "print(clust2.Aircraft)"
   ]
  },
  {
   "cell_type": "markdown",
   "metadata": {
    "collapsed": false
   },
   "source": [
    "These are small aircrafts and only have economy seats."
   ]
  },
  {
   "cell_type": "code",
   "execution_count": null,
   "metadata": {
    "collapsed": false
   },
   "outputs": [],
   "source": [
    "cols_seat = ['First Class', 'Business', 'Eco Comfort', 'Economy']\n",
    "print(df.loc[clust2.index, cols_seat])"
   ]
  },
  {
   "cell_type": "markdown",
   "metadata": {
    "collapsed": false
   },
   "source": [
    "Next, we look at Cluster 1."
   ]
  },
  {
   "cell_type": "code",
   "execution_count": null,
   "metadata": {
    "collapsed": false
   },
   "outputs": [],
   "source": [
    "clust1 = df[df.Clusters == 1]\n",
    "print(clust1.Aircraft)"
   ]
  },
  {
   "cell_type": "markdown",
   "metadata": {
    "collapsed": false
   },
   "source": [
    "These aircrafts do not have first class seating."
   ]
  },
  {
   "cell_type": "code",
   "execution_count": null,
   "metadata": {
    "collapsed": false
   },
   "outputs": [],
   "source": [
    "print(df.loc[clust1.index, cols_seat])"
   ]
  },
  {
   "cell_type": "markdown",
   "metadata": {},
   "source": [
    "Finally, cluster 0 has the following aircrafts:"
   ]
  },
  {
   "cell_type": "code",
   "execution_count": null,
   "metadata": {
    "collapsed": false
   },
   "outputs": [],
   "source": [
    "clust0 = df[df.Clusters == 0]\n",
    "print(clust0.Aircraft)"
   ]
  },
  {
   "cell_type": "markdown",
   "metadata": {},
   "source": [
    "The aircrafts in cluster 0 (except for one aircraft) have first class seating but no business class."
   ]
  },
  {
   "cell_type": "code",
   "execution_count": null,
   "metadata": {
    "collapsed": false
   },
   "outputs": [],
   "source": [
    "print(df.loc[clust0.index, cols_seat])"
   ]
  },
  {
   "cell_type": "code",
   "execution_count": null,
   "metadata": {
    "collapsed": true
   },
   "outputs": [],
   "source": []
  }
 ],
 "metadata": {
  "kernelspec": {
   "display_name": "Python 3",
   "language": "python",
   "name": "python3"
  },
  "language_info": {
   "codemirror_mode": {
    "name": "ipython",
    "version": 3
   },
   "file_extension": ".py",
   "mimetype": "text/x-python",
   "name": "python",
   "nbconvert_exporter": "python",
   "pygments_lexer": "ipython3",
   "version": "3.4.4"
  }
 },
 "nbformat": 4,
 "nbformat_minor": 0
}