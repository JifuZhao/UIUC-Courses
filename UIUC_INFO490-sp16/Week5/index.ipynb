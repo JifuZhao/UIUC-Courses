{
 "cells": [
  {
   "cell_type": "markdown",
   "metadata": {},
   "source": [
    "\n",
    "<DIV ALIGN=CENTER>\n",
    "\n",
    "# Advanced Data Science\n",
    "## University of Illinois\n",
    "### Professor: Robert J. Brunner  \n",
    "### Spring 2016\n",
    "\n",
    "</DIV>  \n",
    "-----\n",
    "-----"
   ]
  },
  {
   "cell_type": "markdown",
   "metadata": {},
   "source": [
    "## Week 5: Unsupervised Learning\n",
    "\n",
    "### Lecture 1: [Dimension Reduction][l1]\n",
    "\n",
    "Learn about dimension reduction, and in particular Principal Component\n",
    "Analysis (PCA) in this Notebook.\n",
    "\n",
    "### Lecture 2: [Clustering][l2]\n",
    "\n",
    "Learn about clustering techniques such as k-Means and DBSCAN in this\n",
    "Notebook.\n",
    "\n",
    "### Lecture 3: [Density Estimation][l3]\n",
    "\n",
    "Learn about density estimation including kernel density estimation in\n",
    "this Notebook.\n",
    "\n",
    "-----\n",
    "\n",
    "[l1]: ./notebooks/intro2dr.ipynb\n",
    "[l2]: ./notebooks/intro2cluster.ipynb\n",
    "[l3]: ./notebooks/intro2de.ipynb"
   ]
  },
  {
   "cell_type": "code",
   "execution_count": 1,
   "metadata": {
    "collapsed": false
   },
   "outputs": [
    {
     "data": {
      "text/markdown": [
       "#Week QQ Overview#\n",
       "\n",
       "![Draft](../images/Draft_Version_picture.png)\n",
       "\n",
       "## XXX ##\n",
       "\n",
       "This week you will XYZ.\n",
       "\n",
       "### Objectives ###\n",
       "\n",
       "#####By the end of this lesson, you should be able to:######\n",
       "\n",
       "- A\n",
       "- B \n",
       "- C\n",
       "\n",
       "### Activities and Assignments ###\n",
       "\n",
       "|Activities and Assignments | Time Estimate | Deadline* | Points|\n",
       "|:------| -----|-------|----------:|\n",
       "|**[Week QQ Introduction Video][wv]** |10 Minutes|Tuesday|20|\n",
       "|**[Week QQ Lesson 1: XXXXXX](lesson1.md)**| 2 Hours |Thursday| 20|\n",
       "|**[Week QQ Lesson 2: YYYYYY](lesson2.md)**| 2 Hours | Thursday | 20 |\n",
       "|**[Week QQ Lesson 3: ZZZZZZ](lesson3.md)**| 2 Hours | Thursday| 20 |\n",
       "|**[Week QQ Quiz][wq]**| 45 Minutes | Friday | 70|\n",
       "|**Week QQ Assignment Submission**| 4 Hours | *The following* Monday | 80 Instructor, 40 Peer | \n",
       "|**Week QQ Completion of Peer Review**| 2 Hours | *The following* Saturday | 30 | \n",
       "\n",
       "*Please note that unless otherwise noted, the due time is 6pm Central time!*\n",
       "\n",
       "----------\n",
       "[wv]: https://mediaspace.illinois.edu/media/\n",
       "[wq]: https://learn.illinois.edu/mod/quiz/view.php?id=1095179\n"
      ],
      "text/plain": [
       "<IPython.core.display.Markdown object>"
      ]
     },
     "execution_count": 1,
     "metadata": {},
     "output_type": "execute_result"
    }
   ],
   "source": [
    "from IPython.display import Markdown\n",
    "\n",
    "Markdown(filename='README.md')"
   ]
  },
  {
   "cell_type": "code",
   "execution_count": null,
   "metadata": {
    "collapsed": true
   },
   "outputs": [],
   "source": []
  }
 ],
 "metadata": {
  "kernelspec": {
   "display_name": "Python 3",
   "language": "python",
   "name": "python3"
  },
  "language_info": {
   "codemirror_mode": {
    "name": "ipython",
    "version": 3
   },
   "file_extension": ".py",
   "mimetype": "text/x-python",
   "name": "python",
   "nbconvert_exporter": "python",
   "pygments_lexer": "ipython3",
   "version": "3.4.4"
  }
 },
 "nbformat": 4,
 "nbformat_minor": 0
}
