{
 "cells": [
  {
   "cell_type": "markdown",
   "metadata": {
    "deletable": false,
    "delete_for_peer_review": "true",
    "nbgrader": {
     "checksum": "dba7d6748d9eb21d0f527ced81b30810",
     "grade": false,
     "grade_id": "header",
     "locked": true,
     "solution": false
    }
   },
   "source": [
    "This notebook will be collected automatically at **6pm on Monday** from `/home/data_scientist/assignment/Week2` directory on the course JupyterHub server. If you work on this assignment on the course Jupyterhub server, just make sure that you save your work and instructors will pull your notebooks automatically after the deadline. If you work on this assignment locally, the only way to submit assignments is via Jupyterhub, and you have to place the notebook file in the correct directory with the correct file name before the deadline.\n",
    "\n",
    "1. Make sure everything runs as expected. First, restart the kernel (in the menubar, select `Kernel` → `Restart`) and then run all cells (in the menubar, select `Cell` → `Run All`).\n",
    "2. Make sure you fill in any place that says `YOUR CODE HERE`. Do not write your answer in anywhere else other than where it says `YOUR CODE HERE`. Anything you write anywhere else will be removed by the autograder.\n",
    "3. Do not change the file path or the file name of this notebook.\n",
    "4. Make sure that you save your work (in the menubar, select `File` → `Save and CheckPoint`)"
   ]
  },
  {
   "cell_type": "markdown",
   "metadata": {},
   "source": [
    "# Problem 2.2. Regularization\n",
    "\n",
    "In this problem, we will use a Ridge Regression model to fit a polynomial that estimates departure delays from the scheduled departure time."
   ]
  },
  {
   "cell_type": "code",
   "execution_count": 1,
   "metadata": {
    "collapsed": false,
    "deletable": false,
    "nbgrader": {
     "checksum": "d639c7713a8bdc94f99b1ff8e5b7851c",
     "grade": false,
     "grade_id": "import",
     "locked": true,
     "solution": false
    }
   },
   "outputs": [
    {
     "name": "stderr",
     "output_type": "stream",
     "text": [
      "/opt/conda/lib/python3.4/site-packages/matplotlib/__init__.py:872: UserWarning: axes.color_cycle is deprecated and replaced with axes.prop_cycle; please use the latter.\n",
      "  warnings.warn(self.msg_depr % (key, alt_key))\n",
      "/opt/conda/lib/python3.4/site-packages/matplotlib/__init__.py:872: UserWarning: axes.color_cycle is deprecated and replaced with axes.prop_cycle; please use the latter.\n",
      "  warnings.warn(self.msg_depr % (key, alt_key))\n"
     ]
    }
   ],
   "source": [
    "%matplotlib inline\n",
    "\n",
    "import numpy as np\n",
    "import pandas as pd\n",
    "import matplotlib as mpl\n",
    "import matplotlib.pyplot as plt\n",
    "import seaborn as sns\n",
    "\n",
    "from sklearn.cross_validation import train_test_split\n",
    "from sklearn.utils import check_random_state\n",
    "from sklearn.linear_model import Ridge\n",
    "from sklearn.preprocessing import PolynomialFeatures\n",
    "from sklearn.pipeline import make_pipeline\n",
    "from sklearn.metrics import mean_squared_error\n",
    "    \n",
    "from nose.tools import assert_equal, assert_is_not\n",
    "from numpy.testing import assert_array_equal, assert_almost_equal, assert_array_almost_equal\n",
    "from pandas.util.testing import assert_frame_equal\n",
    "\n",
    "sns.set(style=\"white\", font_scale=2.0)"
   ]
  },
  {
   "cell_type": "markdown",
   "metadata": {},
   "source": [
    "For simplicity, we limit our analysis to flights that departed from O'Hare. We will try to predict `DepDelay` from `CRSDepTime`."
   ]
  },
  {
   "cell_type": "code",
   "execution_count": 2,
   "metadata": {
    "collapsed": false,
    "deletable": false,
    "nbgrader": {
     "checksum": "5a9049bcf6ff0506bd488497e70adabd",
     "grade": false,
     "grade_id": "read_csv",
     "locked": true,
     "solution": false
    }
   },
   "outputs": [],
   "source": [
    "filename = '/home/data_scientist/data/2001.csv'\n",
    "\n",
    "usecols = (5, 15, 16)\n",
    "columns = ['CRSDepTime', 'DepDelay', 'Origin']\n",
    "\n",
    "all_data = pd.read_csv(filename, header=0, na_values=['NA'], usecols=usecols, names=columns)\n",
    "\n",
    "local = all_data.loc[all_data['Origin'] == 'ORD'].dropna()"
   ]
  },
  {
   "cell_type": "markdown",
   "metadata": {},
   "source": [
    "We are actually going to predict the **average** `DepDelay` in each one-hour blocks of `CRSDepTime`. In other words, we will transform the `local` data set which looks like:\n",
    "\n",
    "```python\n",
    ">>> print(local.head())\n",
    "```\n",
    "\n",
    "```\n",
    "      CRSDepTime  DepDelay Origin\n",
    "6367         951        -8    ORD\n",
    "6368         951         0    ORD\n",
    "6369         951        13    ORD\n",
    "6370         951        17    ORD\n",
    "6371         951        -1    ORD\n",
    "```\n",
    "\n",
    "into a data set that looks like this:\n",
    "\n",
    "```python\n",
    ">>> hourly = get_hourly(local)\n",
    ">>> print(hourly)\n",
    "```\n",
    "\n",
    "```\n",
    "               CRSDepTime   DepDelay\n",
    "CRSDepTime                          \n",
    "(500, 600]     595.588556   1.160309\n",
    "(600, 700]     649.187489   1.922079\n",
    "(700, 800]     740.461376   4.788713\n",
    "(800, 900]     838.512038   6.073624\n",
    "(900, 1000]    941.117287   7.533417\n",
    "(1000, 1100]  1029.092318   7.959812\n",
    "(1100, 1200]  1143.347120   8.945600\n",
    "(1200, 1300]  1237.310490   9.465208\n",
    "(1300, 1400]  1330.703802  10.080120\n",
    "(1400, 1500]  1444.372347  12.928801\n",
    "(1500, 1600]  1528.276364  14.855922\n",
    "(1600, 1700]  1647.206659  15.155163\n",
    "(1700, 1800]  1737.540096  16.915603\n",
    "(1800, 1900]  1836.121684  18.688567\n",
    "(1900, 2000]  1936.516002  20.037355\n",
    "(2000, 2100]  2040.102539  18.882328\n",
    "(2100, 2200]  2131.162948  18.011156\n",
    "(2200, 2300]  2210.144461  13.627994\n",
    "```"
   ]
  },
  {
   "cell_type": "code",
   "execution_count": 3,
   "metadata": {
    "collapsed": false,
    "deletable": false,
    "nbgrader": {
     "checksum": "ee1b1ac0b649ac6ea65eaf3dd093a7a1",
     "grade": false,
     "grade_id": "get_hourly",
     "locked": true,
     "solution": false
    }
   },
   "outputs": [
    {
     "name": "stdout",
     "output_type": "stream",
     "text": [
      "               CRSDepTime   DepDelay\n",
      "CRSDepTime                          \n",
      "(500, 600]     595.588556   1.160309\n",
      "(600, 700]     649.187489   1.922079\n",
      "(700, 800]     740.461376   4.788713\n",
      "(800, 900]     838.512038   6.073624\n",
      "(900, 1000]    941.117287   7.533417\n",
      "(1000, 1100]  1029.092318   7.959812\n",
      "(1100, 1200]  1143.347120   8.945600\n",
      "(1200, 1300]  1237.310490   9.465208\n",
      "(1300, 1400]  1330.703802  10.080120\n",
      "(1400, 1500]  1444.372347  12.928801\n",
      "(1500, 1600]  1528.276364  14.855922\n",
      "(1600, 1700]  1647.206659  15.155163\n",
      "(1700, 1800]  1737.540096  16.915603\n",
      "(1800, 1900]  1836.121684  18.688567\n",
      "(1900, 2000]  1936.516002  20.037355\n",
      "(2000, 2100]  2040.102539  18.882328\n",
      "(2100, 2200]  2131.162948  18.011156\n",
      "(2200, 2300]  2210.144461  13.627994\n"
     ]
    }
   ],
   "source": [
    "def get_hourly(df):\n",
    "    return df.groupby(pd.cut(df['CRSDepTime'], np.arange(0, 2400, 100))).mean().dropna()\n",
    "\n",
    "hourly = get_hourly(local)\n",
    "print(hourly)"
   ]
  },
  {
   "cell_type": "markdown",
   "metadata": {},
   "source": [
    "## Plot a linear regression model\n",
    "\n",
    "Let's start by plotting a scatter plot of (average) `DepDelay` vs. (average) `CRSDepTime` and fitting a linear regression model.\n",
    "\n",
    "- Use [seaborn.regplot](http://stanford.edu/~mwaskom/software/seaborn/generated/seaborn.regplot.html) to write a function named `plot_seaborn_reg()` that creates a scatter plot with `CRSDepTime` in the $x$-axis and `DepDelay` in the $y$-axis. The function shuold also fit a linear regression model in the same plot. Note that the function should return an instance of [matplotlib Axes](http://matplotlib.org/users/artists.html) object."
   ]
  },
  {
   "cell_type": "code",
   "execution_count": 4,
   "metadata": {
    "collapsed": false,
    "deletable": false,
    "nbgrader": {
     "checksum": "3a0e8d45893d482ef0276660e6040992",
     "grade": false,
     "grade_id": "plot_seaborn_reg_answer",
     "locked": false,
     "solution": true
    }
   },
   "outputs": [],
   "source": [
    "def plot_seaborn_reg(df):\n",
    "    '''\n",
    "    Uses Seaborn to create a scatter plot of \"DepDelay\" vs \"CRSDepTime\" columns in \"df\".\n",
    "    Also fits a linear regression model in the same plot.\n",
    "    \n",
    "    Parameters\n",
    "    ----------\n",
    "    df: A pandas.DataFrame. Should have columns named \"CRSDepTime\" and \"DepDelay\".\n",
    "    \n",
    "    Returns\n",
    "    -------\n",
    "    A matplotlib Axes object\n",
    "    '''\n",
    "    #####################\n",
    "    # YOUR CODE HERE\n",
    "    \n",
    "    ax = sns.regplot('CRSDepTime', 'DepDelay', df)\n",
    "    \n",
    "    ax.set(title='Seaborn regression', \n",
    "           xlabel='Schedule departure time (local, hhmm)', xlim=[500, 2500], \n",
    "           ylabel='Departure delay (min)', ylim=[-5, 30])\n",
    "    \n",
    "    sns.despine(offset=0, trim=True)\n",
    "    #####################\n",
    "\n",
    "    return ax"
   ]
  },
  {
   "cell_type": "markdown",
   "metadata": {},
   "source": [
    "Here's an example:\n",
    "\n",
    "![](images/regplot.png)\n",
    "\n",
    "Note that a linear regression model doesn't fit the points that well. The plot suggests that we should probably fit a polynomial rather than a linear model."
   ]
  },
  {
   "cell_type": "code",
   "execution_count": 5,
   "metadata": {
    "collapsed": false,
    "deletable": false,
    "nbgrader": {
     "checksum": "571fb5be109c01805f6ef0b585f6a4f6",
     "grade": false,
     "grade_id": "plot_seaborn_reg_run",
     "locked": true,
     "solution": false
    }
   },
   "outputs": [
    {
     "data": {
      "image/png": "[encoded data removed]",
      "text/plain": [
       "<matplotlib.figure.Figure at 0x7fc3bbc61160>"
      ]
     },
     "metadata": {},
     "output_type": "display_data"
    }
   ],
   "source": [
    "ax1 = plot_seaborn_reg(hourly)"
   ]
  },
  {
   "cell_type": "markdown",
   "metadata": {},
   "source": [
    "Instructor grades are determined by unit tests like the ones in the following cells."
   ]
  },
  {
   "cell_type": "code",
   "execution_count": 6,
   "metadata": {
    "collapsed": false,
    "deletable": false,
    "nbgrader": {
     "checksum": "d382cd626426800fd28a28872cf2da33",
     "grade": true,
     "grade_id": "plot_seaborn_reg_test",
     "locked": true,
     "points": 5,
     "solution": false
    }
   },
   "outputs": [],
   "source": [
    "assert_equal(isinstance(ax1, mpl.axes.Axes), True, msg=\"Your function should return a matplotlib.axes.Axes object.\")\n",
    "\n",
    "assert_equal(len(ax1.lines), 1)\n",
    "assert_equal(len(ax1.collections), 2, msg=\"Your plot doesn't have a regression line.\")\n",
    "\n",
    "assert_is_not(len(ax1.title.get_text()), 0, msg=\"Your plot doesn't have a title.\")\n",
    "assert_is_not(ax1.xaxis.get_label_text(), \"CRSDepTime\", msg=\"Change the x-axis label to something more descriptive.\")\n",
    "assert_is_not(ax1.yaxis.get_label_text(), \"DepDelay\", msg=\"Change the y-axis label to something more descriptive.\")\n",
    "    \n",
    "x_axis, y_axis = ax1.collections[0].get_offsets().T\n",
    "assert_array_equal(x_axis, hourly[\"CRSDepTime\"])\n",
    "assert_array_equal(y_axis, hourly[\"DepDelay\"])"
   ]
  },
  {
   "cell_type": "markdown",
   "metadata": {},
   "source": [
    "## Fit a polynomial\n",
    "\n",
    "Use [sklearn.Ridge](http://scikit-learn.org/stable/modules/generated/sklearn.linear_model.Ridge.html) to write a function named `fit_reg_poly()` that fits a ridge regression model. Note that the function should return an `sklearn.Pipeline` object, which means you should use [sklearn.pipeline.Pipeline](http://scikit-learn.org/stable/modules/generated/sklearn.pipeline.Pipeline.html). It should also return the model predictions, so the returned value of this function should a tuple of `(model, predcition)` where `model` is an `sklearn.Pipeline` object and `prediction` is a `numpy.ndarray`."
   ]
  },
  {
   "cell_type": "code",
   "execution_count": 7,
   "metadata": {
    "collapsed": true,
    "deletable": false,
    "nbgrader": {
     "checksum": "23e93b34366051e5b83f946b1683a3f4",
     "grade": false,
     "grade_id": "fit_reg_poly_answer",
     "locked": false,
     "solution": true
    }
   },
   "outputs": [],
   "source": [
    "def fit_reg_poly(df, degree, alpha=1.0):\n",
    "    '''\n",
    "    Fits a ridge regression model on \"CRSDepTime\" to predict \"DepDelay\".\n",
    "    \n",
    "    Parameters\n",
    "    ----------\n",
    "    df: A pandas.DataFrame. Must have columns \"CRSDepTime\" and \"DepDelay\"\n",
    "    \n",
    "    Returns\n",
    "    -------\n",
    "    A tuple of (sklearn.Pipeline object, numpy.ndarray)\n",
    "    '''\n",
    "    #####################\n",
    "    # YOUR CODE HERE\n",
    "    \n",
    "    model = make_pipeline(PolynomialFeatures(degree), Ridge(alpha=alpha))\n",
    "    \n",
    "    model.fit(df['CRSDepTime'][:, np.newaxis], df['DepDelay'][:, np.newaxis])\n",
    "    \n",
    "    prediction = model.predict(df['CRSDepTime'][:, np.newaxis])\n",
    "    \n",
    "    #####################\n",
    "\n",
    "    return model, prediction"
   ]
  },
  {
   "cell_type": "code",
   "execution_count": 8,
   "metadata": {
    "collapsed": false,
    "deletable": false,
    "nbgrader": {
     "checksum": "bb5d706192e12c41528e4f10c01f39ac",
     "grade": true,
     "grade_id": "fit_reg_poly_test",
     "locked": true,
     "points": 5,
     "solution": false
    }
   },
   "outputs": [],
   "source": [
    "est1, pred1 = fit_reg_poly(hourly, 2)\n",
    "est1_params = est1.get_params()\n",
    "answer1 = np.array(\n",
    "    [[  0.96381549], [  2.00110053], [  3.69214664], [  5.40296395], [  7.07592865],\n",
    "    [  8.4148071 ], [ 10.02196569], [ 11.23220586], [ 12.33539244], [ 13.54395352],\n",
    "    [ 14.3415839 ], [ 15.33472491], [ 15.98134321], [ 16.58087687], [ 17.07760161],\n",
    "    [ 17.46971352], [ 17.71340604], [ 17.84824186]]\n",
    "    )\n",
    "assert_equal(est1_params['polynomialfeatures__degree'], 2)\n",
    "assert_equal(est1_params['ridge__alpha'], 1.0)\n",
    "assert_array_almost_equal(pred1, answer1)\n",
    "\n",
    "est2, pred2 = fit_reg_poly(hourly, 3, alpha=0.1)\n",
    "est2_params = est2.get_params()\n",
    "answer2 = np.array(\n",
    "    [[  2.51737976], [  2.82297242], [  3.56241564], [  4.61883136], [  5.95441238],\n",
    "    [  7.2381702 ], [  9.02545887], [ 10.53858495], [ 12.02803632], [ 13.74994808],\n",
    "    [ 14.90834926], [ 16.3095075 ], [ 17.12919475], [ 17.72501388], [ 17.95314663],\n",
    "    [ 17.72360238], [ 17.07911122], [ 16.14763616]]\n",
    "    )\n",
    "assert_equal(est2_params['polynomialfeatures__degree'], 3)\n",
    "assert_equal(est2_params['ridge__alpha'], 0.1)\n",
    "assert_array_almost_equal(pred2, answer2)"
   ]
  },
  {
   "cell_type": "markdown",
   "metadata": {},
   "source": [
    "## Find the best fit model\n",
    "\n",
    "Write a function named `find_mse()` that returns the mean squared error of ridge regresion model, given the degree. Assume that alpha is always 1.0."
   ]
  },
  {
   "cell_type": "code",
   "execution_count": 9,
   "metadata": {
    "collapsed": false,
    "deletable": false,
    "nbgrader": {
     "checksum": "17ebd11ff2ef5d85bf900d0e9687e3d1",
     "grade": false,
     "grade_id": "find_best_degree_answer",
     "locked": false,
     "solution": true
    }
   },
   "outputs": [],
   "source": [
    "def find_mse(df, degree):\n",
    "    '''\n",
    "    Computes mean squared error of a Ridge Regression model on \"df\".\n",
    "    Uses the \"fit_reg_poly()\" function.\n",
    "    \n",
    "    Parameters\n",
    "    ----------\n",
    "    df: A pandas.DataFrame. Must have columns \"CRSDepTime\" and \"DepDelay\"\n",
    "\n",
    "    Returns\n",
    "    -------\n",
    "    A float.\n",
    "    '''\n",
    "    ##################\n",
    "    # YOUR CODE HERE\n",
    "    est = make_pipeline(PolynomialFeatures(degree), Ridge(alpha=1.0))\n",
    "    \n",
    "    est.fit(df['CRSDepTime'][:, np.newaxis], df['DepDelay'][:, np.newaxis])\n",
    "    \n",
    "    result = mean_squared_error(df['DepDelay'], est.predict(df['CRSDepTime'][:, np.newaxis]))\n",
    "    \n",
    "    ##################\n",
    "    return result"
   ]
  },
  {
   "cell_type": "markdown",
   "metadata": {},
   "source": [
    "We will use this function to find the degree of polynomial that best fits our data."
   ]
  },
  {
   "cell_type": "code",
   "execution_count": 10,
   "metadata": {
    "collapsed": false,
    "deletable": false,
    "nbgrader": {
     "checksum": "cbf045f0c13e9fb8a2825483475b27b0",
     "grade": false,
     "grade_id": "find_best_degree_run",
     "locked": true,
     "points": 5,
     "solution": false
    }
   },
   "outputs": [
    {
     "name": "stdout",
     "output_type": "stream",
     "text": [
      "The best model is a polynomial of degree 11.\n"
     ]
    }
   ],
   "source": [
    "degrees = list()\n",
    "for i in range(1, 15):\n",
    "    degrees.append(find_mse(hourly, i))\n",
    "\n",
    "best_degree = np.argmin(degrees) + 1 # because degree = 1 corresponds to arg = 0\n",
    "print('The best model is a polynomial of degree {}.'.format(best_degree))"
   ]
  },
  {
   "cell_type": "markdown",
   "metadata": {},
   "source": [
    "Let's run some tests to see if `find_best_degree()` works."
   ]
  },
  {
   "cell_type": "code",
   "execution_count": 11,
   "metadata": {
    "collapsed": false,
    "deletable": false,
    "nbgrader": {
     "checksum": "32ab1880d12b6ed59b005283090aae44",
     "grade": true,
     "grade_id": "find_best_degree_test",
     "locked": true,
     "points": 5,
     "solution": false
    }
   },
   "outputs": [],
   "source": [
    "assert_almost_equal(find_mse(hourly, 1), 4.18136713)\n",
    "assert_almost_equal(find_mse(hourly, 2), 2.56253754)\n",
    "assert_almost_equal(find_mse(hourly, 3), 1.67377024)\n",
    "assert_almost_equal(find_mse(hourly, 4), 0.26596999)\n",
    "assert_almost_equal(find_mse(hourly, 5), 0.24159061)"
   ]
  },
  {
   "cell_type": "markdown",
   "metadata": {},
   "source": [
    "## Plot the ridge regression model\n",
    "\n",
    "Finally, plot the model we learned with `fit_reg_poly()`. Your plot should have both the scatter plot of `DepDelay` vs. `CRSDepTime` and the line that shows the ridge regression model.\n",
    "\n",
    "Note that the `plot_reg_poly()` returns a `matplotlib.Axes` object."
   ]
  },
  {
   "cell_type": "code",
   "execution_count": 12,
   "metadata": {
    "collapsed": true,
    "deletable": false,
    "nbgrader": {
     "checksum": "eea5bcc6c549088eb2ca8ef0bb62e782",
     "grade": false,
     "grade_id": "plot_reg_poly_answer",
     "locked": false,
     "points": 10,
     "solution": true
    }
   },
   "outputs": [],
   "source": [
    "def plot_reg_ploy(df, degree):\n",
    "    '''\n",
    "    Plots the follwoing:\n",
    "    1. A scatter plot of the \"CRSDepTime\" column of \"df\" on the x-axis\n",
    "       and the \"DepDelay\" column of \"df\" on the y-axis,\n",
    "    2. A line that represents a polynomial of degree \"degree\".\n",
    "              \n",
    "    Parameters\n",
    "    ----------\n",
    "    df: A pandas.DataFrame\n",
    "    \n",
    "    Returns\n",
    "    -------\n",
    "    A matplotlib.Axes object\n",
    "    '''\n",
    "    #####################\n",
    "    # YOUR CODE HERE\n",
    "    ax = sns.regplot(data=df, x='CRSDepTime', y='DepDelay', fit_reg=False)\n",
    "    \n",
    "    est = make_pipeline(PolynomialFeatures(degree), Ridge(alpha=1.0))\n",
    "    \n",
    "    est.fit(df['CRSDepTime'][:, np.newaxis], df['DepDelay'][:, np.newaxis])\n",
    "    \n",
    "    predction = est.predict(df['CRSDepTime'][:, np.newaxis])\n",
    "    \n",
    "    plt.plot(df['CRSDepTime'][:, np.newaxis], predction)\n",
    "    \n",
    "    ax.set(title='Regularized polynomial regression', \n",
    "           xlabel='Scheduled departure time (hhmm)', xlim=[500, 2500], \n",
    "           ylabel='Departure delay (mins)', ylim=[0, 25])\n",
    "    \n",
    "    sns.despine(offset=0, trim=True)\n",
    "    \n",
    "    #####################\n",
    "    return ax"
   ]
  },
  {
   "cell_type": "markdown",
   "metadata": {},
   "source": [
    "Here's an example:\n",
    "\n",
    "![](images/polyfit.png)\n",
    "\n",
    "The regularized polynomial fits the data very well, but note that we have applied our model to the same data set that we used to learn our model. We did this to simplify the problem and focus on learning the procedure, but by using the same training data to evaulate the performance of our model, it is very likely that we are overfitting. A more robust approach would be to split the data set into a training set and a test set (or training-validation-test sets), use the training set to learn a model, use the validation set to find the degree of best-fit polynomial, and evaulate the model's performance on the test set."
   ]
  },
  {
   "cell_type": "code",
   "execution_count": 13,
   "metadata": {
    "collapsed": false,
    "deletable": false,
    "nbgrader": {
     "checksum": "a9c7c8572b6d2e220d580a3f38087db7",
     "grade": false,
     "grade_id": "plot_reg_poly_run",
     "locked": true,
     "solution": false
    }
   },
   "outputs": [
    {
     "data": {
      "image/png": "[encoded data removed]",
      "text/plain": [
       "<matplotlib.figure.Figure at 0x7fc3b2319128>"
      ]
     },
     "metadata": {},
     "output_type": "display_data"
    }
   ],
   "source": [
    "ax2 = plot_reg_ploy(hourly, best_degree)"
   ]
  },
  {
   "cell_type": "code",
   "execution_count": 14,
   "metadata": {
    "collapsed": false,
    "deletable": false,
    "nbgrader": {
     "checksum": "c204d55ec3ab8d4dd0b9fc07996edc98",
     "grade": true,
     "grade_id": "plot_reg_poly_test",
     "locked": true,
     "points": 10,
     "solution": false
    }
   },
   "outputs": [],
   "source": [
    "assert_equal(isinstance(ax2, mpl.axes.Axes), True, msg=\"Your function should return a matplotlib.axes.Axes object.\")\n",
    "\n",
    "assert_equal(len(ax2.lines), 1)\n",
    "assert_equal(len(ax2.collections), 1, msg=\"You should turn off Seaborn regression.\")\n",
    "\n",
    "assert_is_not(len(ax2.title.get_text()), 0, msg=\"Your plot doesn't have a title.\")\n",
    "assert_is_not(ax2.xaxis.get_label_text(), \"AirTime\", msg=\"Change the x-axis label to something more descriptive.\")\n",
    "assert_is_not(ax2.yaxis.get_label_text(), \"Distance\", msg=\"Change the y-axis label to something more descriptive.\")\n",
    "    \n",
    "x_scatter, y_scatter = ax2.collections[0].get_offsets().T\n",
    "assert_array_equal(x_scatter, hourly[\"CRSDepTime\"])\n",
    "assert_array_equal(y_scatter, hourly[\"DepDelay\"])\n",
    "\n",
    "line = ax2.get_lines()[0]\n",
    "x_line = line.get_xdata()\n",
    "y_line = line.get_ydata()\n",
    "assert_array_equal(x_line, hourly[\"CRSDepTime\"])\n",
    "assert_array_almost_equal(y_line[:, np.newaxis], fit_reg_poly(hourly, 11)[1])"
   ]
  },
  {
   "cell_type": "code",
   "execution_count": null,
   "metadata": {
    "collapsed": true
   },
   "outputs": [],
   "source": []
  }
 ],
 "metadata": {
  "kernelspec": {
   "display_name": "Python 3",
   "language": "python",
   "name": "python3"
  },
  "language_info": {
   "codemirror_mode": {
    "name": "ipython",
    "version": 3
   },
   "file_extension": ".py",
   "mimetype": "text/x-python",
   "name": "python",
   "nbconvert_exporter": "python",
   "pygments_lexer": "ipython3",
   "version": "3.4.4"
  }
 },
 "nbformat": 4,
 "nbformat_minor": 0
}
