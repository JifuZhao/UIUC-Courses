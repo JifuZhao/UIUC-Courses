{
 "cells": [
  {
   "cell_type": "markdown",
   "metadata": {},
   "source": [
    "\n",
    "<DIV ALIGN=CENTER>\n",
    "\n",
    "# Advanced Data Science\n",
    "## University of Illinois\n",
    "### Professor: Robert J. Brunner  \n",
    "### Spring 2016\n",
    "\n",
    "</DIV>  \n",
    "-----\n",
    "-----"
   ]
  },
  {
   "cell_type": "markdown",
   "metadata": {},
   "source": [
    "## Week 14: Cloud Computing with Spark\n",
    "\n",
    "### Lecture 1: [Introduction to Spark][l1]\n",
    "\n",
    "Learn about the Spark cloud computing platform and Resilient Distributed\n",
    "Datasets (RDDs).\n",
    "\n",
    "### Lecture 2: [Introduction to Spark: DataFrames][l2]\n",
    "\n",
    "Learn about Spark DataFrames, using SQL with Spark, and working with\n",
    "Cassandra from Spark. .\n",
    "\n",
    "### Lecture 3: [Introduction to Spark: Machine Learning][l3]\n",
    "\n",
    "Learn how to use the Spark machine learning package, including basic\n",
    "data analysis, and machine learning tasks.\n",
    "\n",
    "-----\n",
    "\n",
    "[l1]: ./notebooks/intro2spark.ipynb\n",
    "[l2]: ./notebooks/sparkdf.ipynb\n",
    "[l3]: ./notebooks/sparkmllib.ipynb"
   ]
  },
  {
   "cell_type": "code",
   "execution_count": null,
   "metadata": {
    "collapsed": false
   },
   "outputs": [],
   "source": [
    "from IPython.display import Markdown\n",
    "\n",
    "Markdown(filename='README.md')"
   ]
  }
 ],
 "metadata": {
  "kernelspec": {
   "display_name": "Python 3",
   "language": "python",
   "name": "python3"
  },
  "language_info": {
   "codemirror_mode": {
    "name": "ipython",
    "version": 3
   },
   "file_extension": ".py",
   "mimetype": "text/x-python",
   "name": "python",
   "nbconvert_exporter": "python",
   "pygments_lexer": "ipython3",
   "version": "3.5.1"
  }
 },
 "nbformat": 4,
 "nbformat_minor": 0
}
