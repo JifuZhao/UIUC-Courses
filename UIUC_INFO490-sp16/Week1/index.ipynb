{
 "cells": [
  {
   "cell_type": "markdown",
   "metadata": {},
   "source": [
    "\n",
    "<DIV ALIGN=CENTER>\n",
    "\n",
    "# Advanced Data Science\n",
    "## University of Illinois\n",
    "### Professor: Robert J. Brunner  \n",
    "### Spring 2016\n",
    "\n",
    "</DIV>  \n",
    "-----\n",
    "-----"
   ]
  },
  {
   "cell_type": "markdown",
   "metadata": {},
   "source": [
    "## Week 1: Introduction to Machine Learning\n",
    "\n",
    "### Lecture 1: [Introduction to Machine Learning][l1]\n",
    "\n",
    "Explore the `scikit-learn` library in this Notebook.\n",
    "\n",
    "### Lecture 2: [Machine Learning: Pre-processing][l2]\n",
    "\n",
    "Experiment with basic data pre-processing with this Notebook.\n",
    "\n",
    "### Lecture 3: [Introduction to Linear Regression][l3]\n",
    "\n",
    "Learn the basic concepts behind linear regression in this Notebook by using the \n",
    "`scikit-learn` and `statsmodel` libraries.\n",
    "\n",
    "-----\n",
    "\n",
    "[l1]: ./notebooks/intro2ml.ipynb\n",
    "[l2]: ./notebooks/intro2data.ipynb\n",
    "[l3]: ./notebooks/intro2regress.ipynb"
   ]
  },
  {
   "cell_type": "code",
   "execution_count": 1,
   "metadata": {
    "collapsed": false
   },
   "outputs": [
    {
     "data": {
      "text/markdown": [
       "# Week 1 Overview#\n",
       "\n",
       "## Introduction to Machine Learning ##\n",
       "\n",
       "In this week, you will learn basic concepts about machine learning,\n",
       "including the basic Python libraries that we will use repeatedly\n",
       "throughout this course. This includes learning how to use `scikit-learn`\n",
       "to perform different types of machine learning as well as the\n",
       "`scikit-learn` and `statsmodel` libraries to perform regression. We also\n",
       "will explore the important, and oftne overlooked task, of data\n",
       "pre-processing. This includes handling missing or invalid data,\n",
       "computation of dates, and understanding the data provenance.\n",
       "\n",
       "### Objectives ###\n",
       "\n",
       "##### By the end of this lesson, you should be able to:######\n",
       "\n",
       "- Know the basics concepts that underlie machine learning.\n",
       "- Understand the importance of data preparation to enable a succesful machine learning analysis.\n",
       "- Understand the basic concepts of linear regression.\n",
       "\n",
       "### Activities and Assignments ###\n",
       "\n",
       "|Activities and Assignments | Time Estimate | Deadline* | Points|\n",
       "|:------| -----|-------|----------:|\n",
       "|**[Week 1 Introduction Video][w1v]** | 10 Minutes | Tuesday |20|\n",
       "|**[Week 1 Lesson 1: Intro to Machine Learning](lesson1.md)**| 2 Hours |Thursday| 20|\n",
       "|**[Week 1 Lesson 2: Machine Learning: Pre-processing](lesson2.md)**| 2 Hours | Thursday | 20 |\n",
       "|**[Week 1 Lesson 3: Introduction to Linear Regression](lesson3.md)**| 2 Hours | Thursday| 20 |\n",
       "|**[Week 1 Quiz][w1q]**| 45 Minutes | Friday | 40|\n",
       "\n",
       "*Please note that unless otherwise noted, the due time is 6pm Central time!\n",
       "\n",
       "----------\n",
       "[w1v]: https://mediaspace.illinois.edu/media/Week+One/1_468j2lqy/38493712\n",
       "[w1q]: https://learn.illinois.edu/mod/quiz/view.php?id=1325077\n"
      ],
      "text/plain": [
       "<IPython.core.display.Markdown object>"
      ]
     },
     "execution_count": 1,
     "metadata": {},
     "output_type": "execute_result"
    }
   ],
   "source": [
    "from IPython.display import Markdown\n",
    "\n",
    "Markdown(filename='README.md')"
   ]
  }
 ],
 "metadata": {
  "kernelspec": {
   "display_name": "Python 3",
   "language": "python",
   "name": "python3"
  },
  "language_info": {
   "codemirror_mode": {
    "name": "ipython",
    "version": 3
   },
   "file_extension": ".py",
   "mimetype": "text/x-python",
   "name": "python",
   "nbconvert_exporter": "python",
   "pygments_lexer": "ipython3",
   "version": "3.5.1"
  }
 },
 "nbformat": 4,
 "nbformat_minor": 0
}
