{
 "cells": [
  {
   "cell_type": "markdown",
   "metadata": {},
   "source": [
    "\n",
    "<DIV ALIGN=CENTER>\n",
    "\n",
    "# Advanced Data Science\n",
    "## University of Illinois\n",
    "### Professor: Robert J. Brunner  \n",
    "### Teaching Assistant: Edward J. Kim\n",
    "### Course Assistant: Samantha Thrush\n",
    "### Spring 2016\n",
    "\n",
    "</DIV>  \n",
    "-----\n",
    "-----"
   ]
  },
  {
   "cell_type": "markdown",
   "metadata": {},
   "source": [
    "# Course Schedule\n",
    "\n",
    "This class is an asynchronous, online course. This course will introduce\n",
    "and explore advanced data science concepts through practical\n",
    "demonstration of algorithms and technologies on cloud computing systems.\n",
    "\n",
    "Students will learn about the basic tasks in machine learning, including\n",
    "the importance of data preparation. Next, linear regression is\n",
    "introduced along with concepts like regularization and an extension to\n",
    "logistic regression. Supervised learning is introduced with examples for\n",
    "both classification and regression presented including naive Bayes,\n",
    "k-nn, SVM, decision trees, and ensemble techniques. Unsupervised\n",
    "techniques are presented with applications in both clustering and\n",
    "dimensional reduction. Specific application areas are explored for these\n",
    "machine learning techniques, including text analysis, network analysis,\n",
    "and social media analysis. The last part of the course focuses on cloud\n",
    "computing technologies, including Hadoop, MapReduce, NoSQL data stores,\n",
    "Spark, and streaming data analysis. The course concludes with a brief\n",
    "introduction of deep learning.\n",
    "\n",
    "-----"
   ]
  },
  {
   "cell_type": "markdown",
   "metadata": {},
   "source": [
    "### [Orientation][ow]: JupyterHub Server & Course Introduction\n",
    "\n",
    "### [Week 1][w1]: Introduction to Machine Learning\n",
    "\n",
    "### [Week 2][w2]: General Linear Models\n",
    "### [Week 3][w3]: Introduction to Supervised Machine Learning\n",
    "### [Week 4][w4]: Supervised Machine Learning\n",
    "### [Week 5][w5]: Introduction to Unsupervised Machine Learning\n",
    "### [Week 6][w6]: Unsupervised Machine Learning\n",
    "### [Week 7][w7]: Introduction to Text Mining\n",
    "### [Week 8][w8]: Introduction to Social Media Analysis\n",
    "### [Week 9][w9]: Advanced Text Mining\n",
    "### [Week 10][w10]: Introduction to Network Analysis\n",
    "### [Week 11][w11]: Advanced Network Analysis\n",
    "### [Week 12][w12]: Introduction to Cloud Computing\n",
    "### [Week 13][w13]: Introduction to NoSQL\n",
    "### [Week 14][w14]: Advanced Cloud Computing\n",
    "### [Week 15][w15]: Introduction to Deep Learning\n",
    "\n",
    "-----\n",
    "\n",
    "[ow]: orientation/index.ipynb\n",
    "[w1]: Week1/index.ipynb\n",
    "[w2]: Week2/index.ipynb\n",
    "[w3]: Week3/index.ipynb\n",
    "[w4]: Week4/index.ipynb\n",
    "[w5]: Week5/index.ipynb\n",
    "[w6]: Week6/index.ipynb\n",
    "[w7]: Week7/index.ipynb\n",
    "[w8]: Week8/index.ipynb\n",
    "[w9]: Week9/index.ipynb\n",
    "[w10]: Week10/index.ipynb\n",
    "[w11]: Week11/index.ipynb\n",
    "[w12]: Week12/index.ipynb\n",
    "[w13]: Week13/index.ipynb\n",
    "[w14]: Week14/index.ipynb\n",
    "[w15]: Week15/index.ipynb"
   ]
  },
  {
   "cell_type": "code",
   "execution_count": 1,
   "metadata": {
    "collapsed": false
   },
   "outputs": [
    {
     "name": "stdout",
     "output_type": "stream",
     "text": [
      "INFO 490: Advanced Data Science\n",
      "-------------------------------------------------------\n",
      "Python Version:       3.4\n",
      "Numpy Version:        1.10.2\n",
      "Pandas Version:       0.17.1\n",
      "SQLite3 Version:      3.9.2\n",
      "SQL3 Driver Version:  2.6.0\n",
      "Matplotlib Version:   1.5.1\n",
      "Seaborn Version:      0.6.0\n",
      "Scikit Learn Version: 0.16.1\n"
     ]
    }
   ],
   "source": [
    "# We will ignore any user warnings (in this case from matplotlib, about a deprecation)\n",
    "import warnings\n",
    "warnings.filterwarnings(\"ignore\", category=UserWarning )\n",
    "\n",
    "# Output current version of software tools used in this course:\n",
    "\n",
    "import sys\n",
    "import numpy as np\n",
    "import pandas as pd\n",
    "import sqlite3 as sql3\n",
    "import matplotlib as mpl\n",
    "import seaborn as sns\n",
    "import sklearn as skl\n",
    "\n",
    "print(\"INFO 490: Advanced Data Science\")\n",
    "print(\"-\"*55)\n",
    "pv = sys.version_info\n",
    "print(\"Python Version:       {0}.{1}\".format(pv.major, pv.minor))\n",
    "print(\"Numpy Version:        {0}\".format(np.__version__))\n",
    "print(\"Pandas Version:       {0}\".format(pd.__version__))\n",
    "print(\"SQLite3 Version:      {0}\".format(sql3.sqlite_version))\n",
    "print(\"SQL3 Driver Version:  {0}\".format(sql3.version))\n",
    "print(\"Matplotlib Version:   {0}\".format(mpl.__version__))\n",
    "print(\"Seaborn Version:      {0}\".format(sns.__version__))\n",
    "print(\"Scikit Learn Version: {0}\".format(skl.__version__))"
   ]
  },
  {
   "cell_type": "markdown",
   "metadata": {},
   "source": [
    "-----\n",
    "\n",
    "The _Advanced Data Science_ course [License](LICENSE.md)\n",
    "\n",
    "-----"
   ]
  }
 ],
 "metadata": {
  "kernelspec": {
   "display_name": "Python 3",
   "language": "python",
   "name": "python3"
  },
  "language_info": {
   "codemirror_mode": {
    "name": "ipython",
    "version": 3
   },
   "file_extension": ".py",
   "mimetype": "text/x-python",
   "name": "python",
   "nbconvert_exporter": "python",
   "pygments_lexer": "ipython3",
   "version": "3.4.4"
  }
 },
 "nbformat": 4,
 "nbformat_minor": 0
}
