{
 "cells": [
  {
   "cell_type": "markdown",
   "metadata": {},
   "source": [
    "\n",
    "<DIV ALIGN=CENTER>\n",
    "\n",
    "# Advanced Data Science\n",
    "## University of Illinois\n",
    "### Professor: Robert J. Brunner  \n",
    "### Spring 2016\n",
    "\n",
    "</DIV>  \n",
    "-----\n",
    "-----"
   ]
  },
  {
   "cell_type": "markdown",
   "metadata": {},
   "source": [
    "## Week 8: Introduction to Social Media\n",
    "\n",
    "### Lecture 1: [Email][l1]\n",
    "\n",
    "Learn how to process email messages.\n",
    "\n",
    "### Lecture 2: [Twitter][l2]\n",
    "\n",
    "Learn how to access twitter via the twitter API, and to process tweets and twitter specific information.\n",
    "\n",
    "### Lecture 3: [Web][l3]\n",
    "\n",
    "Learn about accessing web data by using web scraping techniques.\n",
    "\n",
    "-----\n",
    "\n",
    "[l1]: ./notebooks/intro2sme.ipynb\n",
    "[l2]: ./notebooks/intro2smt.ipynb\n",
    "[l3]: ./notebooks/intro2smw.ipynb"
   ]
  },
  {
   "cell_type": "code",
   "execution_count": null,
   "metadata": {
    "collapsed": false
   },
   "outputs": [],
   "source": [
    "from IPython.display import Markdown\n",
    "\n",
    "Markdown(filename='README.md')"
   ]
  }
 ],
 "metadata": {
  "kernelspec": {
   "display_name": "Python 3",
   "language": "python",
   "name": "python3"
  },
  "language_info": {
   "codemirror_mode": {
    "name": "ipython",
    "version": 3
   },
   "file_extension": ".py",
   "mimetype": "text/x-python",
   "name": "python",
   "nbconvert_exporter": "python",
   "pygments_lexer": "ipython3",
   "version": "3.5.1"
  }
 },
 "nbformat": 4,
 "nbformat_minor": 0
}
