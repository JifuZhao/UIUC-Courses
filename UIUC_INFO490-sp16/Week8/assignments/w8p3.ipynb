{
 "cells": [
  {
   "cell_type": "markdown",
   "metadata": {
    "deletable": false,
    "nbgrader": {
     "checksum": "008110cfa873947a912f27dbe067e82f",
     "grade": false,
     "grade_id": "header",
     "locked": true,
     "solution": false
    }
   },
   "source": [
    "This notebook will be collected automatically at **6pm on Monday** from `/home/data_scientist/assignments/Week8` directory on the course JupyterHub server. If you work on this assignment on the course Jupyterhub server, just make sure that you save your work and instructors will pull your notebooks automatically after the deadline. If you work on this assignment locally, the only way to submit assignments is via Jupyterhub, and you have to place the notebook file in the correct directory with the correct file name before the deadline.\n",
    "\n",
    "1. Make sure everything runs as expected. First, restart the kernel (in the menubar, select `Kernel` → `Restart`) and then run all cells (in the menubar, select `Cell` → `Run All`).\n",
    "2. Make sure you fill in any place that says `YOUR CODE HERE`. Do not write your answer in anywhere else other than where it says `YOUR CODE HERE`. Anything you write anywhere else will be removed by the autograder.\n",
    "3. Do not change the file path or the file name of this notebook.\n",
    "4. Make sure that you save your work (in the menubar, select `File` → `Save and CheckPoint`)"
   ]
  },
  {
   "cell_type": "markdown",
   "metadata": {
    "deletable": false,
    "nbgrader": {
     "checksum": "db818c96ff9178ba849e07b658280f4e",
     "grade": false,
     "grade_id": "markdown_1",
     "locked": true,
     "solution": false
    }
   },
   "source": [
    "## Problem 8.3. Social Media: Web\n",
    "\n",
    "- Find the titles of all decisions handed down by the U.S. Supreme Court in 2014.\n",
    "\n",
    "The relelvant URL is [http://www.supremecourt.gov/opinions/slipopinion/14](http://www.supremecourt.gov/opinions/slipopinion/14)."
   ]
  },
  {
   "cell_type": "code",
   "execution_count": null,
   "metadata": {
    "collapsed": true,
    "deletable": false,
    "nbgrader": {
     "checksum": "b916d4f7ef75ba9f324c1af9cf955973",
     "grade": false,
     "grade_id": "import",
     "locked": true,
     "solution": false
    }
   },
   "outputs": [],
   "source": [
    "from IPython.display import HTML, display\n",
    "import requests\n",
    "import bs4\n",
    "from bs4 import BeautifulSoup\n",
    "import re\n",
    "from lxml import html\n",
    "\n",
    "from nose.tools import assert_equal, assert_is_instance, assert_true"
   ]
  },
  {
   "cell_type": "code",
   "execution_count": null,
   "metadata": {
    "collapsed": false,
    "deletable": false,
    "nbgrader": {
     "checksum": "f62983cc9b6c4f6fc22557f0ed650bc0",
     "grade": false,
     "grade_id": "url",
     "locked": true,
     "solution": false
    }
   },
   "outputs": [],
   "source": [
    "url = 'http://www.supremecourt.gov/opinions/slipopinion/14'"
   ]
  },
  {
   "cell_type": "code",
   "execution_count": null,
   "metadata": {
    "collapsed": true,
    "deletable": false,
    "nbgrader": {
     "checksum": "83330444a9acb4fd8f725a2f630f6a1e",
     "grade": false,
     "grade_id": "find_titles_answer",
     "locked": false,
     "solution": true
    }
   },
   "outputs": [],
   "source": [
    "def find_titles(url):\n",
    "    '''\n",
    "    Parses the US Supreme Court term opinions webpage\n",
    "    and returns the titles of all decisions.\n",
    "    \n",
    "    Parameters\n",
    "    ----------\n",
    "    url: A string. Example: 'http://www.supremecourt.gov/opinions/slipopinion/14'\n",
    "    \n",
    "    Returns\n",
    "    -------\n",
    "    A list of strings\n",
    "    '''\n",
    "    \n",
    "    # YOUR CODE HERE\n",
    "    \n",
    "    return titles"
   ]
  },
  {
   "cell_type": "code",
   "execution_count": null,
   "metadata": {
    "collapsed": false,
    "deletable": false,
    "nbgrader": {
     "checksum": "b80e861a39457638edd89c67fb0e63ba",
     "grade": false,
     "grade_id": "find_titles_run",
     "locked": true,
     "solution": false
    }
   },
   "outputs": [],
   "source": [
    "titles_2014 = find_titles(url)\n",
    "for title in titles_2014:\n",
    "    print(title)"
   ]
  },
  {
   "cell_type": "code",
   "execution_count": null,
   "metadata": {
    "collapsed": false,
    "deletable": false,
    "nbgrader": {
     "checksum": "f152f14a01eec5035049a0585eadeba3",
     "grade": true,
     "grade_id": "find_titles_test",
     "locked": true,
     "points": 20,
     "solution": false
    }
   },
   "outputs": [],
   "source": [
    "answer = [\n",
    "    'Glossip v. Gross',\n",
    "    'Arizona State Legislature v. Arizona Independent Redistricting Comm’n',\n",
    "    'Michigan v. EPA',\n",
    "    'Obergefell v. Hodges',\n",
    "    'Johnson v. United States',\n",
    "    'Texas Dept. of Housing and Community Affairs v. Inclusive Communities Project, Inc.',\n",
    "    'King v. Burwell',\n",
    "    'Kimble v. Marvel Entertainment, LLC',\n",
    "    'Los Angeles v. Patel',\n",
    "    'Kingsley v. Hendrickson',\n",
    "    'Horne v. Department of Agriculture',\n",
    "    'Brumfield v. Cain',\n",
    "    'Davis v. Ayala',\n",
    "    'Ohio v. Clark',\n",
    "    'Walker v. Texas Div., Sons of Confederate Veterans, Inc.',\n",
    "    'McFadden v. United States',\n",
    "    'Reed v. Town of Gilbert',\n",
    "    'Reyes Mata v. Lynch',\n",
    "    'Baker Botts L.L.P. v. ASARCO LLC',\n",
    "    'Kerry v. Din',\n",
    "    'Zivotofsky v. Kerry',\n",
    "    'Taylor v. Barkes',\n",
    "    'Mellouli v. Lynch',\n",
    "    'Bank of America, N. A. v. Caulkett',\n",
    "    'EEOC v. Abercrombie & Fitch Stores, Inc.',\n",
    "    'Elonis v. United States',\n",
    "    'Wellness Int’l Network, Ltd. v. Sharif',\n",
    "    'Kellogg Brown & Root Services, Inc. v. United States ex rel. Carter',\n",
    "    'Commil USA, LLC v. Cisco Systems, Inc.',\n",
    "    'Henderson v. United States',\n",
    "    'City and County of San Francisco v. Sheehan',\n",
    "    'Comptroller of Treasury of Md. v. Wynne',\n",
    "    'Coleman v. Tollefson',\n",
    "    'Tibble v. Edison Int’l',\n",
    "    'Harris v. Viegelahn',\n",
    "    'Bullard v. Blue Hills Bank',\n",
    "    'Mach Mining, LLC v. EEOC',\n",
    "    'Williams-Yulee v. Florida Bar',\n",
    "    'United States v. Kwai Fun Wong',\n",
    "    'Oneok, Inc. v. Learjet, Inc.',\n",
    "    'Rodriguez v. United States',\n",
    "    'Armstrong v. Exceptional Child Center, Inc.',\n",
    "    'Woods v. Donald',\n",
    "    'Grady v. North Carolina',\n",
    "    'Alabama Legislative Black Caucus v. Alabama',\n",
    "    'Young v. United Parcel Service, Inc.',\n",
    "    'Omnicare, Inc. v. Laborers Dist. Council Constr. Industry Pension Fund',\n",
    "    'B&B Hardware, Inc. v. Hargis Industries, Inc.',\n",
    "    'Kansas v. Nebraska',\n",
    "    'Perez v. Mortgage Bankers Assn.',\n",
    "    'Department of Transportation v. Association of American Railroads',\n",
    "    'Alabama Dept. of Revenue v. CSX Transp., Inc.',\n",
    "    'Direct Marketing Assn. v. Brohl',\n",
    "    'Yates v. United States',\n",
    "    'North Carolina Bd. of Dental Examiners v. FTC',\n",
    "    'Kansas v. Nebraska',\n",
    "    'M&G Polymers USA, LLC v. Tackett',\n",
    "    'Hana Financial, Inc. v. Hana Bank',\n",
    "    'Gelboim v. Bank of America Corp.',\n",
    "    'Department of Homeland Security v. MacLean',\n",
    "    'Christeson v. Roper',\n",
    "    'Holt v. Hobbs',\n",
    "    'Teva Pharmaceuticals USA, Inc. v. Sandoz, Inc.',\n",
    "    'T-Mobile South, LLC v. City of Roswell',\n",
    "    'Jennings v. Stephens',\n",
    "    'Whitfield v. United States',\n",
    "    'Jesinoski v. Countrywide Home Loans, Inc.',\n",
    "    'United States v. California',\n",
    "    'Dart Cherokee Basin Operating Co. v. Owens',\n",
    "    'Heien v. North Carolina',\n",
    "    'Warger v. Shauers',\n",
    "    'Integrity Staffing Solutions, Inc. v. Busk ',\n",
    "    'Glebe v. Frost',\n",
    "    'Carroll v. Carman',\n",
    "    'Johnson v. City of Shelby',\n",
    "    'Lopez v. Smith'\n",
    "    ]\n",
    "assert_is_instance(titles_2014, list)\n",
    "assert_equal(len(titles_2014), 76)\n",
    "assert_equal(set(titles_2014), set(answer))"
   ]
  }
 ],
 "metadata": {
  "kernelspec": {
   "display_name": "Python 3",
   "language": "python",
   "name": "python3"
  },
  "language_info": {
   "codemirror_mode": {
    "name": "ipython",
    "version": 3
   },
   "file_extension": ".py",
   "mimetype": "text/x-python",
   "name": "python",
   "nbconvert_exporter": "python",
   "pygments_lexer": "ipython3",
   "version": "3.5.1"
  }
 },
 "nbformat": 4,
 "nbformat_minor": 0
}