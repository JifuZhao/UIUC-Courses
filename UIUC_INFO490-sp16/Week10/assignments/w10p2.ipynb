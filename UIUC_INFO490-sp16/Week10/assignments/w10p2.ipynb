{
 "cells": [
  {
   "cell_type": "markdown",
   "metadata": {
    "deletable": false,
    "nbgrader": {
     "checksum": "bdf34c08fcd3b0fa3425ae7552aaad70",
     "grade": false,
     "grade_id": "header",
     "locked": true,
     "solution": false
    }
   },
   "source": [
    "This notebook will be collected automatically at **6pm on Monday** from `/home/data_scientist/assignments/Week10` directory on the course JupyterHub server. If you work on this assignment on the course Jupyterhub server, just make sure that you save your work and instructors will pull your notebooks automatically after the deadline. If you work on this assignment locally, the only way to submit assignments is via Jupyterhub, and you have to place the notebook file in the correct directory with the correct file name before the deadline.\n",
    "\n",
    "1. Make sure everything runs as expected. First, restart the kernel (in the menubar, select `Kernel` → `Restart`) and then run all cells (in the menubar, select `Cell` → `Run All`).\n",
    "2. Make sure you fill in any place that says `YOUR CODE HERE`. Do not write your answer in anywhere else other than where it says `YOUR CODE HERE`. Anything you write anywhere else will be removed by the autograder.\n",
    "3. Do not change the file path or the file name of this notebook.\n",
    "4. Make sure that you save your work (in the menubar, select `File` → `Save and CheckPoint`)"
   ]
  },
  {
   "cell_type": "markdown",
   "metadata": {
    "deletable": false,
    "nbgrader": {
     "checksum": "b5065982ff7cde7dc33505fc001d4ca8",
     "grade": false,
     "grade_id": "title",
     "locked": true,
     "solution": false
    }
   },
   "source": [
    "# Problem 10.2. Graph Analysis."
   ]
  },
  {
   "cell_type": "code",
   "execution_count": null,
   "metadata": {
    "collapsed": true,
    "deletable": false,
    "nbgrader": {
     "checksum": "6b150cf798efc42956ad51d187286619",
     "grade": false,
     "grade_id": "import",
     "locked": true,
     "solution": false
    }
   },
   "outputs": [],
   "source": [
    "%matplotlib inline\n",
    "import networkx as nx\n",
    "import numpy as np\n",
    "import matplotlib as mpl\n",
    "import matplotlib.pyplot as plt\n",
    "import seaborn as sns\n",
    "\n",
    "from nose.tools import assert_equal, assert_is_instance, assert_true, assert_false\n",
    "from numpy.testing import assert_array_equal, assert_array_almost_equal"
   ]
  },
  {
   "cell_type": "markdown",
   "metadata": {
    "deletable": false,
    "nbgrader": {
     "checksum": "7d91e11a8bcca38481455d8a5fcf4440",
     "grade": false,
     "grade_id": "markdown_1",
     "locked": true,
     "solution": false
    }
   },
   "source": [
    "## Zachary's Karate Club\n",
    "\n",
    "We use [Zachary's Karete Club](https://networkx.github.io/documentation/latest/reference/generated/networkx.generators.social.karate_club_graph.html) data set. You can read more about it on [Wikipedia](https://en.wikipedia.org/wiki/Zachary%27s_karate_club) or refer to the original paper [Zachary (1997)](http://www.jstor.org.proxy2.library.illinois.edu/stable/3629752).\n",
    "\n",
    "According to Wikipedia:\n",
    "\n",
    "<blockquote>\n",
    "A social network of a karate club was studied by Wayne W. Zachary for a period of three years from 1970 to 1972. The network captures 34 members of a karate club, documenting 78 pairwise links between members who interacted outside the club. During the study a conflict arose between the administrator \"John A\" and instructor \"Mr. Hi\" (pseudonyms), which led to the split of the club into two. Half of the members formed a new club around Mr. Hi, members from the other part found a new instructor or gave up karate. Basing on collected data Zachary assigned correctly all but one member of the club to the groups they actually joined after the split.\n",
    "</blockquote>"
   ]
  },
  {
   "cell_type": "code",
   "execution_count": null,
   "metadata": {
    "collapsed": true,
    "deletable": false,
    "nbgrader": {
     "checksum": "8df6f70d7cc89d56fc7d99c6f6134aa1",
     "grade": false,
     "grade_id": "karate_club_graph_run",
     "locked": true,
     "solution": false
    }
   },
   "outputs": [],
   "source": [
    "g = nx.karate_club_graph()"
   ]
  },
  {
   "cell_type": "markdown",
   "metadata": {
    "deletable": false,
    "nbgrader": {
     "checksum": "b5afb9f06e50efb6d392b4d8de65908e",
     "grade": false,
     "grade_id": "markdown_2",
     "locked": true,
     "solution": false
    }
   },
   "source": [
    "- Use `networkx.draw()` to draw the social network of Zachary's Karate Club.\n",
    "\n",
    "![](https://raw.githubusercontent.com/UI-DataScience/info490-sp16/master/Week10/assignments/images/karate_all.png)"
   ]
  },
  {
   "cell_type": "code",
   "execution_count": null,
   "metadata": {
    "collapsed": false,
    "deletable": false,
    "nbgrader": {
     "checksum": "b66dc198f516c0b18a99f94a410d876a",
     "grade": false,
     "grade_id": "draw_graph_answer",
     "locked": false,
     "solution": true
    }
   },
   "outputs": [],
   "source": [
    "def draw_graph(graph):\n",
    "    '''\n",
    "    Draws the social network of Zachary's Karate club.\n",
    "    \n",
    "    Paramters\n",
    "    ---------\n",
    "    graph: A networkx.Graph instance.\n",
    "    \n",
    "    Returns\n",
    "    -------\n",
    "    A matplotlib.Axes instance.\n",
    "    '''\n",
    "    \n",
    "    # YOUR CODE HERE\n",
    "    \n",
    "    return ax"
   ]
  },
  {
   "cell_type": "code",
   "execution_count": null,
   "metadata": {
    "collapsed": false,
    "deletable": false,
    "nbgrader": {
     "checksum": "531028c03204c5034544b87928e7e2c6",
     "grade": false,
     "grade_id": "draw_graph_run",
     "locked": true,
     "solution": false
    }
   },
   "outputs": [],
   "source": [
    "ax1 = draw_graph(g)\n",
    "plt.show()"
   ]
  },
  {
   "cell_type": "code",
   "execution_count": null,
   "metadata": {
    "collapsed": false,
    "deletable": false,
    "nbgrader": {
     "checksum": "601a837e4cbd8346864398236883137c",
     "grade": true,
     "grade_id": "draw_graph_tests",
     "locked": true,
     "points": 9,
     "solution": false
    }
   },
   "outputs": [],
   "source": [
    "assert_is_instance(ax1, mpl.axes.Axes)\n",
    "assert_equal(ax1.collections[0].get_offsets().shape[0], len(g.nodes()))\n",
    "assert_equal(len(ax1.collections[1].get_segments()), len(g.edges()))"
   ]
  },
  {
   "cell_type": "markdown",
   "metadata": {
    "deletable": false,
    "nbgrader": {
     "checksum": "aa981b4c49a99f77a2b28c844a15c9eb",
     "grade": false,
     "grade_id": "markdown_3",
     "locked": true,
     "solution": false
    }
   },
   "source": [
    "## Node degrees\n",
    "\n",
    "- Compute the degree of each node."
   ]
  },
  {
   "cell_type": "code",
   "execution_count": null,
   "metadata": {
    "collapsed": false,
    "deletable": false,
    "nbgrader": {
     "checksum": "bc203416e59b371a5c69d3e7b0d45140",
     "grade": false,
     "grade_id": "get_degree_answer",
     "locked": false,
     "solution": true
    }
   },
   "outputs": [],
   "source": [
    "def get_degree(graph):\n",
    "    '''\n",
    "    Computes the degree of each node.\n",
    "    \n",
    "    Paramters\n",
    "    ---------\n",
    "    graph: A networkx.Graph instance.\n",
    "\n",
    "    Returns\n",
    "    -------\n",
    "    A dict of foramt {node: degree}\n",
    "    '''\n",
    "    \n",
    "    # YOUR CODE HERE\n",
    "    \n",
    "    return result"
   ]
  },
  {
   "cell_type": "code",
   "execution_count": null,
   "metadata": {
    "collapsed": false,
    "deletable": false,
    "nbgrader": {
     "checksum": "cb387920e7610fbe349dbcd096ab6b80",
     "grade": false,
     "grade_id": "get_degree_run",
     "locked": true,
     "solution": false
    }
   },
   "outputs": [],
   "source": [
    "degree = get_degree(g)\n",
    "print('Node  Degree')\n",
    "for node in degree:\n",
    "    print('{0:4d} {1:7d}'.format(node, degree[node]))"
   ]
  },
  {
   "cell_type": "code",
   "execution_count": null,
   "metadata": {
    "collapsed": false,
    "deletable": false,
    "nbgrader": {
     "checksum": "2558bf1d2972bb4e5771399a55f5f2cb",
     "grade": true,
     "grade_id": "get_degree_test",
     "locked": true,
     "points": 3,
     "solution": false
    }
   },
   "outputs": [],
   "source": [
    "assert_is_instance(degree, dict)\n",
    "assert_equal(list(degree.keys()), list(range(34)))\n",
    "assert_equal(degree[0], 16)\n",
    "assert_equal(degree[1], 9)\n",
    "assert_equal(degree[32], 12)\n",
    "assert_equal(degree[33], 17)"
   ]
  },
  {
   "cell_type": "markdown",
   "metadata": {
    "deletable": false,
    "nbgrader": {
     "checksum": "4d7d4e628d6952ad83c5ef62d7ca7572",
     "grade": false,
     "grade_id": "markdown_4",
     "locked": true,
     "solution": false
    }
   },
   "source": [
    "We see that two people (Nodes 0 and 33) have well above the average number of degrees. Node 0 corresponds to Mr. Hi, and node 33 corresponds to John A (or \"officer\"). Node 32 has many friends but not as many as those two. To visualize this,\n",
    "\n",
    "- Color each node according to whether it is a friend of node 0 or node 33. \n",
    "\n",
    "If someone is a friend of both 0 and 33, classify the node as a friend of node 33.\n",
    "\n",
    "![](https://raw.githubusercontent.com/UI-DataScience/info490-sp16/master/Week10/assignments/images/karate_friends.png)\n",
    "\n",
    "We could draw the nodes, edges, and labels individually using `draw_networkx_nodes()`, `draw_networkx_edges()`, and `draw_networkx_labels()`. But I think it's simpler to draw all nodes, edges, and labels by using `draw()`, and then overwrite the nodes with different colors by using `draw_networkx_nodes()`.\n",
    "\n",
    "In the following code cell,\n",
    "\n",
    "- Use `networkx.draw()` to draw a graph,\n",
    "- Use `networkx.draw_networkx_nodes()` to make the friends of node 0 different colors, and\n",
    "- Use `networkx.draw_networkx_nodes()` to make the friends of node 33 different colors.\n",
    "\n",
    "It is important to draw the graph in this specific order to pass the unit tests."
   ]
  },
  {
   "cell_type": "code",
   "execution_count": null,
   "metadata": {
    "collapsed": false,
    "deletable": false,
    "nbgrader": {
     "checksum": "be9e0075b66ff814d153457d88a1c812",
     "grade": false,
     "grade_id": "draw_graph_friends_answer",
     "locked": false,
     "solution": true
    }
   },
   "outputs": [],
   "source": [
    "def draw_graph_friends(graph):\n",
    "    '''\n",
    "    Draws the social network of Zachary's Karate club,\n",
    "    but uses different colors for friends of node 0 and node 33.\n",
    "    \n",
    "    Paramters\n",
    "    ---------\n",
    "    graph: A networkx.Graph instance.\n",
    "    \n",
    "    Returns\n",
    "    -------\n",
    "    A matplotlib.Axes instance.\n",
    "    '''\n",
    "    \n",
    "    # YOUR CODE HERE\n",
    "    \n",
    "    return ax"
   ]
  },
  {
   "cell_type": "code",
   "execution_count": null,
   "metadata": {
    "collapsed": false,
    "deletable": false,
    "nbgrader": {
     "checksum": "50595d36ff7b8377848c5a1bcde12503",
     "grade": false,
     "grade_id": "draw_graph_friends_run",
     "locked": true,
     "solution": false
    }
   },
   "outputs": [],
   "source": [
    "ax2 = draw_graph_friends(g)\n",
    "plt.show()"
   ]
  },
  {
   "cell_type": "code",
   "execution_count": null,
   "metadata": {
    "collapsed": false,
    "deletable": false,
    "nbgrader": {
     "checksum": "5cf65f88e3816cc8498f2434e9a7c5ae",
     "grade": true,
     "grade_id": "draw_graph_friends_test",
     "locked": true,
     "points": 9,
     "solution": false
    }
   },
   "outputs": [],
   "source": [
    "assert_is_instance(ax2, mpl.axes.Axes)\n",
    "assert_equal(ax2.collections[0].get_offsets().shape[0], len(g.nodes()))\n",
    "assert_equal(len(ax2.collections[1].get_segments()), len(g.edges()))\n",
    "assert_equal(len(ax2.collections[2].get_offsets()), 17)\n",
    "assert_equal(len(ax2.collections[3].get_offsets()), 18)\n",
    "assert_false(np.all(ax2.collections[2].get_facecolor() == ax2.collections[3].get_facecolor()))"
   ]
  },
  {
   "cell_type": "markdown",
   "metadata": {
    "deletable": false,
    "nbgrader": {
     "checksum": "1ae5fdb1d7f1cecee6b4ad11dfbcc9a3",
     "grade": false,
     "grade_id": "markdown_5",
     "locked": true,
     "solution": false
    }
   },
   "source": [
    "By coloring the friends of node 0 and node 33, you can see that the club already had two subgroups based on social relationships. Let's compare the previous visualization with the visualization of the actual breakup.\n",
    "\n",
    "![](https://raw.githubusercontent.com/UI-DataScience/info490-sp16/master/Week10/assignments/images/karate_after.png)\n",
    "\n",
    "Each node in the returned graph has a node attribute 'club' that indicates the name of the club to which the member represented by that node belongs, either 'Mr. Hi' or 'Officer'.\n",
    "\n",
    "To get the name of the club to which a node belongs:\n",
    "\n",
    "```python\n",
    ">>> import networkx as nx\n",
    ">>> G = nx.karate_club_graph()\n",
    ">>> G.node[5]['club']\n",
    "'Mr. Hi'\n",
    ">>> G.node[9]['club']\n",
    "'Officer'\n",
    "```\n",
    "\n",
    "In the following code cell,\n",
    "\n",
    "- First, use `networkx.draw()` to draw all nodes, edges, and labels.\n",
    "- Overwrite the existing nodes by using `networkx.draw_networkx_nodes()` to color the nodes according to which group it belonged to after the split. Color the nodes that belong to `Officer` first, and then color the nodes that belong to `Mr. Hi`.\n",
    "\n",
    "It is important to draw the graph in this specific order to pass the unit tests."
   ]
  },
  {
   "cell_type": "code",
   "execution_count": null,
   "metadata": {
    "collapsed": false,
    "deletable": false,
    "nbgrader": {
     "checksum": "2e6820a2f431d0a587648d1c55103e96",
     "grade": false,
     "grade_id": "draw_graph_split_answer",
     "locked": false,
     "solution": true
    }
   },
   "outputs": [],
   "source": [
    "def draw_graph_split(graph):\n",
    "    '''\n",
    "    Draws the social network of Zachary's Karate club,\n",
    "    but uses different colors for two subgroups after the breakup.\n",
    "    \n",
    "    Paramters\n",
    "    ---------\n",
    "    graph: A networkx.Graph instance.\n",
    "    \n",
    "    Returns\n",
    "    -------\n",
    "    A matplotlib.Axes instance.\n",
    "    '''\n",
    "    \n",
    "    # YOUR CODE HERE\n",
    "    \n",
    "    return ax"
   ]
  },
  {
   "cell_type": "code",
   "execution_count": null,
   "metadata": {
    "collapsed": false,
    "deletable": false,
    "nbgrader": {
     "checksum": "2e67a4656f121d403987b23759b3aae1",
     "grade": false,
     "grade_id": "draw_graph_split_run",
     "locked": true,
     "solution": false
    }
   },
   "outputs": [],
   "source": [
    "ax3 = draw_graph_split(g)\n",
    "plt.show()"
   ]
  },
  {
   "cell_type": "code",
   "execution_count": null,
   "metadata": {
    "collapsed": false,
    "deletable": false,
    "nbgrader": {
     "checksum": "ce151f61905311b7343292f7b2762e52",
     "grade": true,
     "grade_id": "draw_graph_split_test",
     "locked": true,
     "points": 9,
     "solution": false
    }
   },
   "outputs": [],
   "source": [
    "assert_is_instance(ax3, mpl.axes.Axes)\n",
    "assert_equal(ax3.collections[0].get_offsets().shape[0], len(g.nodes()))\n",
    "assert_equal(len(ax3.collections[1].get_segments()), len(g.edges()))\n",
    "assert_equal(len(ax3.collections[2].get_offsets()), 17)\n",
    "assert_equal(len(ax3.collections[3].get_offsets()), 17)\n",
    "assert_false(np.all(ax3.collections[2].get_facecolor() == ax3.collections[3].get_facecolor()))"
   ]
  }
 ],
 "metadata": {
  "kernelspec": {
   "display_name": "Python 3",
   "language": "python",
   "name": "python3"
  },
  "language_info": {
   "codemirror_mode": {
    "name": "ipython",
    "version": 3
   },
   "file_extension": ".py",
   "mimetype": "text/x-python",
   "name": "python",
   "nbconvert_exporter": "python",
   "pygments_lexer": "ipython3",
   "version": "3.5.1"
  }
 },
 "nbformat": 4,
 "nbformat_minor": 0
}