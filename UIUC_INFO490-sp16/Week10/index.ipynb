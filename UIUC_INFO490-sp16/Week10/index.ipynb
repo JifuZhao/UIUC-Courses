{
 "cells": [
  {
   "cell_type": "markdown",
   "metadata": {},
   "source": [
    "\n",
    "<DIV ALIGN=CENTER>\n",
    "\n",
    "# Advanced Data Science\n",
    "## University of Illinois\n",
    "### Professor: Robert J. Brunner  \n",
    "### Spring 2016\n",
    "\n",
    "</DIV>  \n",
    "-----\n",
    "-----"
   ]
  },
  {
   "cell_type": "markdown",
   "metadata": {},
   "source": [
    "## Week 10: Introduction to Network Analysis\n",
    "\n",
    "### Lecture 1: [Graph Concepts][l1]\n",
    "\n",
    "Learn how to construct and visualize graphs.\n",
    "\n",
    "### Lecture 2: [Graph Analysis][l2]\n",
    "\n",
    "Learn how to gain insight from graph data.\n",
    "\n",
    "### Lecture 3: [Social Media][l3]\n",
    "\n",
    "Learn how to apply graph concepts and analysis to gain insight from\n",
    "social media data.\n",
    "\n",
    "-----\n",
    "\n",
    "[l1]: ./notebooks/intro2na-gc.ipynb\n",
    "[l2]: ./notebooks/intro2na-ga.ipynb\n",
    "[l3]: ./notebooks/intro2na-sm.ipynb"
   ]
  },
  {
   "cell_type": "code",
   "execution_count": null,
   "metadata": {
    "collapsed": false
   },
   "outputs": [],
   "source": [
    "from IPython.display import Markdown\n",
    "\n",
    "Markdown(filename='README.md')"
   ]
  }
 ],
 "metadata": {
  "kernelspec": {
   "display_name": "Python 3",
   "language": "python",
   "name": "python3"
  },
  "language_info": {
   "codemirror_mode": {
    "name": "ipython",
    "version": 3
   },
   "file_extension": ".py",
   "mimetype": "text/x-python",
   "name": "python",
   "nbconvert_exporter": "python",
   "pygments_lexer": "ipython3",
   "version": "3.5.1"
  }
 },
 "nbformat": 4,
 "nbformat_minor": 0
}
