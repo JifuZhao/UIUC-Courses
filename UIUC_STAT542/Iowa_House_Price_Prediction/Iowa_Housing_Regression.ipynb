{
 "cells": [
  {
   "cell_type": "code",
   "execution_count": 1,
   "metadata": {
    "collapsed": false
   },
   "outputs": [],
   "source": [
    "library(moments)  # skewness\n",
    "library(corrplot)  # corrplot"
   ]
  },
  {
   "cell_type": "code",
   "execution_count": 2,
   "metadata": {
    "collapsed": false
   },
   "outputs": [
    {
     "data": {
      "text/html": [
       "<ol class=list-inline>\n",
       "\t<li>1460</li>\n",
       "\t<li>81</li>\n",
       "</ol>\n"
      ],
      "text/latex": [
       "\\begin{enumerate*}\n",
       "\\item 1460\n",
       "\\item 81\n",
       "\\end{enumerate*}\n"
      ],
      "text/markdown": [
       "1. 1460\n",
       "2. 81\n",
       "\n",
       "\n"
      ],
      "text/plain": [
       "[1] 1460   81"
      ]
     },
     "metadata": {},
     "output_type": "display_data"
    }
   ],
   "source": [
    "# load the data set\n",
    "data = read.csv('./train.csv')\n",
    "dim(data)"
   ]
  },
  {
   "cell_type": "code",
   "execution_count": 3,
   "metadata": {
    "collapsed": false
   },
   "outputs": [],
   "source": [
    "# compute the number of missing values in each column\n",
    "num.NA = colSums(apply(data[, -c(1, 81)], 2, is.na))\n",
    "data.type = sapply(data[, names(which(num.NA != 0))], class)"
   ]
  },
  {
   "cell_type": "code",
   "execution_count": 4,
   "metadata": {
    "collapsed": false
   },
   "outputs": [],
   "source": [
    "# drop column of Alley, PoolQC, Fence, MiscFeature\n",
    "drop.names = c(\"Alley\", \"PoolQC\", \"Fence\", \"MiscFeature\")\n",
    "data = data[ , !(names(data) %in% drop.names)]"
   ]
  },
  {
   "cell_type": "code",
   "execution_count": 5,
   "metadata": {
    "collapsed": true
   },
   "outputs": [],
   "source": [
    "# find all categorical and numerical variables\n",
    "data.type = sapply(data[ , -c(1, ncol(data))], class)\n",
    "categorical.var = names(data)[which(c(NA, data.type, NA) == 'factor')]\n",
    "numerical.var = names(data)[which(c(NA, data.type, NA) == 'integer')]"
   ]
  },
  {
   "cell_type": "code",
   "execution_count": 6,
   "metadata": {
    "collapsed": false
   },
   "outputs": [],
   "source": [
    "# create new feature named \"NA\" for categorical variables\n",
    "for (i in categorical.var) {\n",
    "    data[, i] = addNA(data[, i])\n",
    "}"
   ]
  },
  {
   "cell_type": "code",
   "execution_count": 7,
   "metadata": {
    "collapsed": false
   },
   "outputs": [],
   "source": [
    "# create new feature using the median value for numerical variables\n",
    "numerical.missing.var = c('LotFrontage', 'MasVnrArea', 'GarageYrBlt')\n",
    "for (i in numerical.missing.var) {\n",
    "    na.id = is.na(data[, i])\n",
    "    tmp.median = median(data[, i], na.rm=TRUE)\n",
    "    data[which(na.id), i] = tmp.median\n",
    "    data[, paste(i, 'NAInd', sep='_')] = as.numeric(na.id)\n",
    "}"
   ]
  },
  {
   "cell_type": "code",
   "execution_count": 9,
   "metadata": {
    "collapsed": false
   },
   "outputs": [],
   "source": [
    "# transform the response variable into log scale\n",
    "data$SalePrice = log(data$SalePrice + 1)\n",
    "\n",
    "# transform numerical feature whose skewness is larger than 0.75\n",
    "skewed.features = sapply(data[, numerical.var], skewness)\n",
    "skewed.features = numerical.var[which(skewed.features > 0.75)]\n",
    "for (i in skewed.features) {\n",
    "    data[, i] = log(data[, i] + 1)\n",
    "}"
   ]
  },
  {
   "cell_type": "code",
   "execution_count": 50,
   "metadata": {
    "collapsed": false,
    "scrolled": false
   },
   "outputs": [],
   "source": [
    "tmp = lapply(data[, categorical.var], as.numeric)"
   ]
  },
  {
   "cell_type": "code",
   "execution_count": 57,
   "metadata": {
    "collapsed": false
   },
   "outputs": [
    {
     "ename": "ERROR",
     "evalue": "Error: $ operator is invalid for atomic vectors\n",
     "output_type": "error",
     "traceback": [
      "Error: $ operator is invalid for atomic vectors\nTraceback:\n",
      "1. model.matrix(-1, data = tmp)",
      "2. model.matrix.default(-1, data = tmp)",
      "3. terms(object, data = data)",
      "4. terms.default(object, data = data)"
     ]
    }
   ],
   "source": [
    "model.matrix(- 1, data=tmp)"
   ]
  },
  {
   "cell_type": "code",
   "execution_count": 45,
   "metadata": {
    "collapsed": false
   },
   "outputs": [
    {
     "data": {
      "text/html": [
       "<dl class=dl-horizontal>\n",
       "\t<dt>C (all)</dt>\n",
       "\t\t<dd>10</dd>\n",
       "\t<dt>FV</dt>\n",
       "\t\t<dd>65</dd>\n",
       "\t<dt>RH</dt>\n",
       "\t\t<dd>16</dd>\n",
       "\t<dt>RL</dt>\n",
       "\t\t<dd>1151</dd>\n",
       "\t<dt>RM</dt>\n",
       "\t\t<dd>218</dd>\n",
       "\t<dt>6</dt>\n",
       "\t\t<dd>0</dd>\n",
       "</dl>\n"
      ],
      "text/latex": [
       "\\begin{description*}\n",
       "\\item[C (all)] 10\n",
       "\\item[FV] 65\n",
       "\\item[RH] 16\n",
       "\\item[RL] 1151\n",
       "\\item[RM] 218\n",
       "\\item[6] 0\n",
       "\\end{description*}\n"
      ],
      "text/markdown": [
       "C (all)\n",
       ":   10FV\n",
       ":   65RH\n",
       ":   16RL\n",
       ":   1151RM\n",
       ":   2186\n",
       ":   0\n",
       "\n"
      ],
      "text/plain": [
       "C (all)      FV      RH      RL      RM    <NA> \n",
       "     10      65      16    1151     218       0 "
      ]
     },
     "metadata": {},
     "output_type": "display_data"
    }
   ],
   "source": [
    "summary(data[, 'MSZoning'])"
   ]
  },
  {
   "cell_type": "code",
   "execution_count": 47,
   "metadata": {
    "collapsed": false
   },
   "outputs": [
    {
     "data": {
      "text/html": [
       "<dl class=dl-horizontal>\n",
       "\t<dt>1</dt>\n",
       "\t\t<dd>10</dd>\n",
       "\t<dt>2</dt>\n",
       "\t\t<dd>65</dd>\n",
       "\t<dt>3</dt>\n",
       "\t\t<dd>16</dd>\n",
       "\t<dt>4</dt>\n",
       "\t\t<dd>1151</dd>\n",
       "\t<dt>5</dt>\n",
       "\t\t<dd>218</dd>\n",
       "</dl>\n"
      ],
      "text/latex": [
       "\\begin{description*}\n",
       "\\item[1] 10\n",
       "\\item[2] 65\n",
       "\\item[3] 16\n",
       "\\item[4] 1151\n",
       "\\item[5] 218\n",
       "\\end{description*}\n"
      ],
      "text/markdown": [
       "1\n",
       ":   102\n",
       ":   653\n",
       ":   164\n",
       ":   11515\n",
       ":   218\n",
       "\n"
      ],
      "text/plain": [
       "   1    2    3    4    5 \n",
       "  10   65   16 1151  218 "
      ]
     },
     "metadata": {},
     "output_type": "display_data"
    }
   ],
   "source": [
    "summary(as.factor(as.integer(data[, 'MSZoning'])))"
   ]
  },
  {
   "cell_type": "code",
   "execution_count": 42,
   "metadata": {
    "collapsed": false
   },
   "outputs": [],
   "source": [
    "tmp = as.factor(as.integer(data[, 'MSZoning']))"
   ]
  },
  {
   "cell_type": "code",
   "execution_count": 48,
   "metadata": {
    "collapsed": false
   },
   "outputs": [
    {
     "data": {
      "text/html": [
       "<table>\n",
       "<thead><tr><th></th><th scope=col>tmp1</th><th scope=col>tmp2</th><th scope=col>tmp3</th><th scope=col>tmp4</th><th scope=col>tmp5</th></tr></thead>\n",
       "<tbody>\n",
       "\t<tr><th scope=row>1</th><td>0</td><td>0</td><td>0</td><td>1</td><td>0</td></tr>\n",
       "\t<tr><th scope=row>2</th><td>0</td><td>0</td><td>0</td><td>1</td><td>0</td></tr>\n",
       "\t<tr><th scope=row>3</th><td>0</td><td>0</td><td>0</td><td>1</td><td>0</td></tr>\n",
       "\t<tr><th scope=row>4</th><td>0</td><td>0</td><td>0</td><td>1</td><td>0</td></tr>\n",
       "\t<tr><th scope=row>5</th><td>0</td><td>0</td><td>0</td><td>1</td><td>0</td></tr>\n",
       "\t<tr><th scope=row>6</th><td>0</td><td>0</td><td>0</td><td>1</td><td>0</td></tr>\n",
       "\t<tr><th scope=row>7</th><td>0</td><td>0</td><td>0</td><td>1</td><td>0</td></tr>\n",
       "\t<tr><th scope=row>8</th><td>0</td><td>0</td><td>0</td><td>1</td><td>0</td></tr>\n",
       "\t<tr><th scope=row>9</th><td>0</td><td>0</td><td>0</td><td>0</td><td>1</td></tr>\n",
       "\t<tr><th scope=row>10</th><td>0</td><td>0</td><td>0</td><td>1</td><td>0</td></tr>\n",
       "\t<tr><th scope=row>11</th><td>0</td><td>0</td><td>0</td><td>1</td><td>0</td></tr>\n",
       "\t<tr><th scope=row>12</th><td>0</td><td>0</td><td>0</td><td>1</td><td>0</td></tr>\n",
       "\t<tr><th scope=row>13</th><td>0</td><td>0</td><td>0</td><td>1</td><td>0</td></tr>\n",
       "\t<tr><th scope=row>14</th><td>0</td><td>0</td><td>0</td><td>1</td><td>0</td></tr>\n",
       "\t<tr><th scope=row>15</th><td>0</td><td>0</td><td>0</td><td>1</td><td>0</td></tr>\n",
       "\t<tr><th scope=row>16</th><td>0</td><td>0</td><td>0</td><td>0</td><td>1</td></tr>\n",
       "\t<tr><th scope=row>17</th><td>0</td><td>0</td><td>0</td><td>1</td><td>0</td></tr>\n",
       "\t<tr><th scope=row>18</th><td>0</td><td>0</td><td>0</td><td>1</td><td>0</td></tr>\n",
       "\t<tr><th scope=row>19</th><td>0</td><td>0</td><td>0</td><td>1</td><td>0</td></tr>\n",
       "\t<tr><th scope=row>20</th><td>0</td><td>0</td><td>0</td><td>1</td><td>0</td></tr>\n",
       "\t<tr><th scope=row>21</th><td>0</td><td>0</td><td>0</td><td>1</td><td>0</td></tr>\n",
       "\t<tr><th scope=row>22</th><td>0</td><td>0</td><td>0</td><td>0</td><td>1</td></tr>\n",
       "\t<tr><th scope=row>23</th><td>0</td><td>0</td><td>0</td><td>1</td><td>0</td></tr>\n",
       "\t<tr><th scope=row>24</th><td>0</td><td>0</td><td>0</td><td>0</td><td>1</td></tr>\n",
       "\t<tr><th scope=row>25</th><td>0</td><td>0</td><td>0</td><td>1</td><td>0</td></tr>\n",
       "\t<tr><th scope=row>26</th><td>0</td><td>0</td><td>0</td><td>1</td><td>0</td></tr>\n",
       "\t<tr><th scope=row>27</th><td>0</td><td>0</td><td>0</td><td>1</td><td>0</td></tr>\n",
       "\t<tr><th scope=row>28</th><td>0</td><td>0</td><td>0</td><td>1</td><td>0</td></tr>\n",
       "\t<tr><th scope=row>29</th><td>0</td><td>0</td><td>0</td><td>1</td><td>0</td></tr>\n",
       "\t<tr><th scope=row>30</th><td>0</td><td>0</td><td>0</td><td>0</td><td>1</td></tr>\n",
       "\t<tr><th scope=row>⋮</th><td>⋮</td><td>⋮</td><td>⋮</td><td>⋮</td><td>⋮</td></tr>\n",
       "\t<tr><th scope=row>1431</th><td>0</td><td>0</td><td>0</td><td>1</td><td>0</td></tr>\n",
       "\t<tr><th scope=row>1432</th><td>0</td><td>0</td><td>0</td><td>1</td><td>0</td></tr>\n",
       "\t<tr><th scope=row>1433</th><td>0</td><td>0</td><td>0</td><td>1</td><td>0</td></tr>\n",
       "\t<tr><th scope=row>1434</th><td>0</td><td>0</td><td>0</td><td>1</td><td>0</td></tr>\n",
       "\t<tr><th scope=row>1435</th><td>0</td><td>0</td><td>0</td><td>1</td><td>0</td></tr>\n",
       "\t<tr><th scope=row>1436</th><td>0</td><td>0</td><td>0</td><td>1</td><td>0</td></tr>\n",
       "\t<tr><th scope=row>1437</th><td>0</td><td>0</td><td>0</td><td>1</td><td>0</td></tr>\n",
       "\t<tr><th scope=row>1438</th><td>0</td><td>0</td><td>0</td><td>1</td><td>0</td></tr>\n",
       "\t<tr><th scope=row>1439</th><td>0</td><td>0</td><td>0</td><td>0</td><td>1</td></tr>\n",
       "\t<tr><th scope=row>1440</th><td>0</td><td>0</td><td>0</td><td>1</td><td>0</td></tr>\n",
       "\t<tr><th scope=row>1441</th><td>0</td><td>0</td><td>0</td><td>1</td><td>0</td></tr>\n",
       "\t<tr><th scope=row>1442</th><td>0</td><td>0</td><td>0</td><td>0</td><td>1</td></tr>\n",
       "\t<tr><th scope=row>1443</th><td>0</td><td>1</td><td>0</td><td>0</td><td>0</td></tr>\n",
       "\t<tr><th scope=row>1444</th><td>0</td><td>0</td><td>0</td><td>1</td><td>0</td></tr>\n",
       "\t<tr><th scope=row>1445</th><td>0</td><td>0</td><td>0</td><td>1</td><td>0</td></tr>\n",
       "\t<tr><th scope=row>1446</th><td>0</td><td>0</td><td>0</td><td>1</td><td>0</td></tr>\n",
       "\t<tr><th scope=row>1447</th><td>0</td><td>0</td><td>0</td><td>1</td><td>0</td></tr>\n",
       "\t<tr><th scope=row>1448</th><td>0</td><td>0</td><td>0</td><td>1</td><td>0</td></tr>\n",
       "\t<tr><th scope=row>1449</th><td>0</td><td>0</td><td>0</td><td>1</td><td>0</td></tr>\n",
       "\t<tr><th scope=row>1450</th><td>0</td><td>0</td><td>0</td><td>0</td><td>1</td></tr>\n",
       "\t<tr><th scope=row>1451</th><td>0</td><td>0</td><td>0</td><td>1</td><td>0</td></tr>\n",
       "\t<tr><th scope=row>1452</th><td>0</td><td>0</td><td>0</td><td>1</td><td>0</td></tr>\n",
       "\t<tr><th scope=row>1453</th><td>0</td><td>0</td><td>0</td><td>0</td><td>1</td></tr>\n",
       "\t<tr><th scope=row>1454</th><td>0</td><td>0</td><td>0</td><td>1</td><td>0</td></tr>\n",
       "\t<tr><th scope=row>1455</th><td>0</td><td>1</td><td>0</td><td>0</td><td>0</td></tr>\n",
       "\t<tr><th scope=row>1456</th><td>0</td><td>0</td><td>0</td><td>1</td><td>0</td></tr>\n",
       "\t<tr><th scope=row>1457</th><td>0</td><td>0</td><td>0</td><td>1</td><td>0</td></tr>\n",
       "\t<tr><th scope=row>1458</th><td>0</td><td>0</td><td>0</td><td>1</td><td>0</td></tr>\n",
       "\t<tr><th scope=row>1459</th><td>0</td><td>0</td><td>0</td><td>1</td><td>0</td></tr>\n",
       "\t<tr><th scope=row>1460</th><td>0</td><td>0</td><td>0</td><td>1</td><td>0</td></tr>\n",
       "</tbody>\n",
       "</table>\n"
      ],
      "text/latex": [
       "\\begin{tabular}{r|lllll}\n",
       "  & tmp1 & tmp2 & tmp3 & tmp4 & tmp5\\\\\n",
       "\\hline\n",
       "\t1 & 0 & 0 & 0 & 1 & 0\\\\\n",
       "\t2 & 0 & 0 & 0 & 1 & 0\\\\\n",
       "\t3 & 0 & 0 & 0 & 1 & 0\\\\\n",
       "\t4 & 0 & 0 & 0 & 1 & 0\\\\\n",
       "\t5 & 0 & 0 & 0 & 1 & 0\\\\\n",
       "\t6 & 0 & 0 & 0 & 1 & 0\\\\\n",
       "\t7 & 0 & 0 & 0 & 1 & 0\\\\\n",
       "\t8 & 0 & 0 & 0 & 1 & 0\\\\\n",
       "\t9 & 0 & 0 & 0 & 0 & 1\\\\\n",
       "\t10 & 0 & 0 & 0 & 1 & 0\\\\\n",
       "\t11 & 0 & 0 & 0 & 1 & 0\\\\\n",
       "\t12 & 0 & 0 & 0 & 1 & 0\\\\\n",
       "\t13 & 0 & 0 & 0 & 1 & 0\\\\\n",
       "\t14 & 0 & 0 & 0 & 1 & 0\\\\\n",
       "\t15 & 0 & 0 & 0 & 1 & 0\\\\\n",
       "\t16 & 0 & 0 & 0 & 0 & 1\\\\\n",
       "\t17 & 0 & 0 & 0 & 1 & 0\\\\\n",
       "\t18 & 0 & 0 & 0 & 1 & 0\\\\\n",
       "\t19 & 0 & 0 & 0 & 1 & 0\\\\\n",
       "\t20 & 0 & 0 & 0 & 1 & 0\\\\\n",
       "\t21 & 0 & 0 & 0 & 1 & 0\\\\\n",
       "\t22 & 0 & 0 & 0 & 0 & 1\\\\\n",
       "\t23 & 0 & 0 & 0 & 1 & 0\\\\\n",
       "\t24 & 0 & 0 & 0 & 0 & 1\\\\\n",
       "\t25 & 0 & 0 & 0 & 1 & 0\\\\\n",
       "\t26 & 0 & 0 & 0 & 1 & 0\\\\\n",
       "\t27 & 0 & 0 & 0 & 1 & 0\\\\\n",
       "\t28 & 0 & 0 & 0 & 1 & 0\\\\\n",
       "\t29 & 0 & 0 & 0 & 1 & 0\\\\\n",
       "\t30 & 0 & 0 & 0 & 0 & 1\\\\\n",
       "\t⋮ & ⋮ & ⋮ & ⋮ & ⋮ & ⋮\\\\\n",
       "\t1431 & 0 & 0 & 0 & 1 & 0\\\\\n",
       "\t1432 & 0 & 0 & 0 & 1 & 0\\\\\n",
       "\t1433 & 0 & 0 & 0 & 1 & 0\\\\\n",
       "\t1434 & 0 & 0 & 0 & 1 & 0\\\\\n",
       "\t1435 & 0 & 0 & 0 & 1 & 0\\\\\n",
       "\t1436 & 0 & 0 & 0 & 1 & 0\\\\\n",
       "\t1437 & 0 & 0 & 0 & 1 & 0\\\\\n",
       "\t1438 & 0 & 0 & 0 & 1 & 0\\\\\n",
       "\t1439 & 0 & 0 & 0 & 0 & 1\\\\\n",
       "\t1440 & 0 & 0 & 0 & 1 & 0\\\\\n",
       "\t1441 & 0 & 0 & 0 & 1 & 0\\\\\n",
       "\t1442 & 0 & 0 & 0 & 0 & 1\\\\\n",
       "\t1443 & 0 & 1 & 0 & 0 & 0\\\\\n",
       "\t1444 & 0 & 0 & 0 & 1 & 0\\\\\n",
       "\t1445 & 0 & 0 & 0 & 1 & 0\\\\\n",
       "\t1446 & 0 & 0 & 0 & 1 & 0\\\\\n",
       "\t1447 & 0 & 0 & 0 & 1 & 0\\\\\n",
       "\t1448 & 0 & 0 & 0 & 1 & 0\\\\\n",
       "\t1449 & 0 & 0 & 0 & 1 & 0\\\\\n",
       "\t1450 & 0 & 0 & 0 & 0 & 1\\\\\n",
       "\t1451 & 0 & 0 & 0 & 1 & 0\\\\\n",
       "\t1452 & 0 & 0 & 0 & 1 & 0\\\\\n",
       "\t1453 & 0 & 0 & 0 & 0 & 1\\\\\n",
       "\t1454 & 0 & 0 & 0 & 1 & 0\\\\\n",
       "\t1455 & 0 & 1 & 0 & 0 & 0\\\\\n",
       "\t1456 & 0 & 0 & 0 & 1 & 0\\\\\n",
       "\t1457 & 0 & 0 & 0 & 1 & 0\\\\\n",
       "\t1458 & 0 & 0 & 0 & 1 & 0\\\\\n",
       "\t1459 & 0 & 0 & 0 & 1 & 0\\\\\n",
       "\t1460 & 0 & 0 & 0 & 1 & 0\\\\\n",
       "\\end{tabular}\n"
      ],
      "text/markdown": [
       "\n",
       "| <!--/--> | tmp1 | tmp2 | tmp3 | tmp4 | tmp5 | \n",
       "|---|---|---|---|---|---|---|---|---|---|---|---|---|---|---|---|---|---|---|---|---|---|---|---|---|---|---|---|---|---|---|---|---|---|---|---|---|---|---|---|---|---|---|---|---|---|---|---|---|---|---|---|---|---|---|---|---|---|---|---|---|\n",
       "| 1 | 0 | 0 | 0 | 1 | 0 | \n",
       "| 2 | 0 | 0 | 0 | 1 | 0 | \n",
       "| 3 | 0 | 0 | 0 | 1 | 0 | \n",
       "| 4 | 0 | 0 | 0 | 1 | 0 | \n",
       "| 5 | 0 | 0 | 0 | 1 | 0 | \n",
       "| 6 | 0 | 0 | 0 | 1 | 0 | \n",
       "| 7 | 0 | 0 | 0 | 1 | 0 | \n",
       "| 8 | 0 | 0 | 0 | 1 | 0 | \n",
       "| 9 | 0 | 0 | 0 | 0 | 1 | \n",
       "| 10 | 0 | 0 | 0 | 1 | 0 | \n",
       "| 11 | 0 | 0 | 0 | 1 | 0 | \n",
       "| 12 | 0 | 0 | 0 | 1 | 0 | \n",
       "| 13 | 0 | 0 | 0 | 1 | 0 | \n",
       "| 14 | 0 | 0 | 0 | 1 | 0 | \n",
       "| 15 | 0 | 0 | 0 | 1 | 0 | \n",
       "| 16 | 0 | 0 | 0 | 0 | 1 | \n",
       "| 17 | 0 | 0 | 0 | 1 | 0 | \n",
       "| 18 | 0 | 0 | 0 | 1 | 0 | \n",
       "| 19 | 0 | 0 | 0 | 1 | 0 | \n",
       "| 20 | 0 | 0 | 0 | 1 | 0 | \n",
       "| 21 | 0 | 0 | 0 | 1 | 0 | \n",
       "| 22 | 0 | 0 | 0 | 0 | 1 | \n",
       "| 23 | 0 | 0 | 0 | 1 | 0 | \n",
       "| 24 | 0 | 0 | 0 | 0 | 1 | \n",
       "| 25 | 0 | 0 | 0 | 1 | 0 | \n",
       "| 26 | 0 | 0 | 0 | 1 | 0 | \n",
       "| 27 | 0 | 0 | 0 | 1 | 0 | \n",
       "| 28 | 0 | 0 | 0 | 1 | 0 | \n",
       "| 29 | 0 | 0 | 0 | 1 | 0 | \n",
       "| 30 | 0 | 0 | 0 | 0 | 1 | \n",
       "| ⋮ | ⋮ | ⋮ | ⋮ | ⋮ | ⋮ | \n",
       "| 1431 | 0 | 0 | 0 | 1 | 0 | \n",
       "| 1432 | 0 | 0 | 0 | 1 | 0 | \n",
       "| 1433 | 0 | 0 | 0 | 1 | 0 | \n",
       "| 1434 | 0 | 0 | 0 | 1 | 0 | \n",
       "| 1435 | 0 | 0 | 0 | 1 | 0 | \n",
       "| 1436 | 0 | 0 | 0 | 1 | 0 | \n",
       "| 1437 | 0 | 0 | 0 | 1 | 0 | \n",
       "| 1438 | 0 | 0 | 0 | 1 | 0 | \n",
       "| 1439 | 0 | 0 | 0 | 0 | 1 | \n",
       "| 1440 | 0 | 0 | 0 | 1 | 0 | \n",
       "| 1441 | 0 | 0 | 0 | 1 | 0 | \n",
       "| 1442 | 0 | 0 | 0 | 0 | 1 | \n",
       "| 1443 | 0 | 1 | 0 | 0 | 0 | \n",
       "| 1444 | 0 | 0 | 0 | 1 | 0 | \n",
       "| 1445 | 0 | 0 | 0 | 1 | 0 | \n",
       "| 1446 | 0 | 0 | 0 | 1 | 0 | \n",
       "| 1447 | 0 | 0 | 0 | 1 | 0 | \n",
       "| 1448 | 0 | 0 | 0 | 1 | 0 | \n",
       "| 1449 | 0 | 0 | 0 | 1 | 0 | \n",
       "| 1450 | 0 | 0 | 0 | 0 | 1 | \n",
       "| 1451 | 0 | 0 | 0 | 1 | 0 | \n",
       "| 1452 | 0 | 0 | 0 | 1 | 0 | \n",
       "| 1453 | 0 | 0 | 0 | 0 | 1 | \n",
       "| 1454 | 0 | 0 | 0 | 1 | 0 | \n",
       "| 1455 | 0 | 1 | 0 | 0 | 0 | \n",
       "| 1456 | 0 | 0 | 0 | 1 | 0 | \n",
       "| 1457 | 0 | 0 | 0 | 1 | 0 | \n",
       "| 1458 | 0 | 0 | 0 | 1 | 0 | \n",
       "| 1459 | 0 | 0 | 0 | 1 | 0 | \n",
       "| 1460 | 0 | 0 | 0 | 1 | 0 | \n",
       "\n",
       "\n"
      ],
      "text/plain": [
       "     tmp1 tmp2 tmp3 tmp4 tmp5\n",
       "1    0    0    0    1    0   \n",
       "2    0    0    0    1    0   \n",
       "3    0    0    0    1    0   \n",
       "4    0    0    0    1    0   \n",
       "5    0    0    0    1    0   \n",
       "6    0    0    0    1    0   \n",
       "7    0    0    0    1    0   \n",
       "8    0    0    0    1    0   \n",
       "9    0    0    0    0    1   \n",
       "10   0    0    0    1    0   \n",
       "11   0    0    0    1    0   \n",
       "12   0    0    0    1    0   \n",
       "13   0    0    0    1    0   \n",
       "14   0    0    0    1    0   \n",
       "15   0    0    0    1    0   \n",
       "16   0    0    0    0    1   \n",
       "17   0    0    0    1    0   \n",
       "18   0    0    0    1    0   \n",
       "19   0    0    0    1    0   \n",
       "20   0    0    0    1    0   \n",
       "21   0    0    0    1    0   \n",
       "22   0    0    0    0    1   \n",
       "23   0    0    0    1    0   \n",
       "24   0    0    0    0    1   \n",
       "25   0    0    0    1    0   \n",
       "26   0    0    0    1    0   \n",
       "27   0    0    0    1    0   \n",
       "28   0    0    0    1    0   \n",
       "29   0    0    0    1    0   \n",
       "30   0    0    0    0    1   \n",
       "⋮    ⋮    ⋮    ⋮    ⋮    ⋮   \n",
       "1431 0    0    0    1    0   \n",
       "1432 0    0    0    1    0   \n",
       "1433 0    0    0    1    0   \n",
       "1434 0    0    0    1    0   \n",
       "1435 0    0    0    1    0   \n",
       "1436 0    0    0    1    0   \n",
       "1437 0    0    0    1    0   \n",
       "1438 0    0    0    1    0   \n",
       "1439 0    0    0    0    1   \n",
       "1440 0    0    0    1    0   \n",
       "1441 0    0    0    1    0   \n",
       "1442 0    0    0    0    1   \n",
       "1443 0    1    0    0    0   \n",
       "1444 0    0    0    1    0   \n",
       "1445 0    0    0    1    0   \n",
       "1446 0    0    0    1    0   \n",
       "1447 0    0    0    1    0   \n",
       "1448 0    0    0    1    0   \n",
       "1449 0    0    0    1    0   \n",
       "1450 0    0    0    0    1   \n",
       "1451 0    0    0    1    0   \n",
       "1452 0    0    0    1    0   \n",
       "1453 0    0    0    0    1   \n",
       "1454 0    0    0    1    0   \n",
       "1455 0    1    0    0    0   \n",
       "1456 0    0    0    1    0   \n",
       "1457 0    0    0    1    0   \n",
       "1458 0    0    0    1    0   \n",
       "1459 0    0    0    1    0   \n",
       "1460 0    0    0    1    0   "
      ]
     },
     "metadata": {},
     "output_type": "display_data"
    }
   ],
   "source": [
    "model.matrix(~tmp - 1)"
   ]
  },
  {
   "cell_type": "code",
   "execution_count": 28,
   "metadata": {
    "collapsed": true
   },
   "outputs": [],
   "source": [
    "model = lm(SalePrice ~ ., data=data[, c(numerical.var, 'SalePrice')])"
   ]
  },
  {
   "cell_type": "code",
   "execution_count": 29,
   "metadata": {
    "collapsed": false
   },
   "outputs": [
    {
     "data": {
      "text/plain": [
       "\n",
       "Call:\n",
       "lm(formula = SalePrice ~ ., data = data[, c(numerical.var, \"SalePrice\")])\n",
       "\n",
       "Residuals:\n",
       "     Min       1Q   Median       3Q      Max \n",
       "-1.38545 -0.06124  0.00372  0.07224  0.46803 \n",
       "\n",
       "Coefficients:\n",
       "                Estimate Std. Error t value Pr(>|t|)    \n",
       "(Intercept)    1.127e+01  5.594e+00   2.016 0.044026 *  \n",
       "MSSubClass    -8.864e-03  7.931e-03  -1.118 0.263950    \n",
       "LotFrontage    7.246e-03  1.609e-02   0.450 0.652460    \n",
       "LotArea        8.259e-02  1.054e-02   7.838 8.94e-15 ***\n",
       "OverallQual    8.021e-02  4.670e-03  17.177  < 2e-16 ***\n",
       "OverallCond    5.045e-02  4.091e-03  12.331  < 2e-16 ***\n",
       "YearBuilt      2.805e-03  2.735e-04  10.255  < 2e-16 ***\n",
       "YearRemodAdd   9.178e-04  2.728e-04   3.364 0.000788 ***\n",
       "MasVnrArea    -2.226e-03  1.625e-03  -1.370 0.171027    \n",
       "BsmtFinSF1     9.757e-03  1.736e-03   5.619 2.30e-08 ***\n",
       "BsmtFinSF2    -3.384e-03  2.160e-03  -1.567 0.117315    \n",
       "BsmtUnfSF     -1.371e-03  2.973e-03  -0.461 0.644649    \n",
       "TotalBsmtSF    1.266e-02  4.761e-03   2.659 0.007924 ** \n",
       "X1stFlrSF     -4.861e-04  4.656e-02  -0.010 0.991671    \n",
       "X2ndFlrSF     -1.156e-02  4.598e-03  -2.514 0.012044 *  \n",
       "LowQualFinSF  -9.266e-03  5.612e-03  -1.651 0.098931 .  \n",
       "GrLivArea      4.733e-01  5.795e-02   8.167 6.93e-16 ***\n",
       "BsmtFullBath   3.713e-02  9.788e-03   3.794 0.000155 ***\n",
       "BsmtHalfBath   2.254e-03  2.370e-02   0.095 0.924230    \n",
       "FullBath       2.779e-02  1.120e-02   2.482 0.013185 *  \n",
       "HalfBath       1.706e-02  1.067e-02   1.598 0.110165    \n",
       "BedroomAbvGr  -1.900e-02  6.794e-03  -2.797 0.005229 ** \n",
       "KitchenAbvGr  -2.061e-01  5.138e-02  -4.011 6.35e-05 ***\n",
       "TotRmsAbvGrd   9.566e-03  4.733e-03   2.021 0.043447 *  \n",
       "Fireplaces     2.901e-02  7.065e-03   4.107 4.24e-05 ***\n",
       "GarageYrBlt    1.881e-04  2.732e-04   0.689 0.491200    \n",
       "GarageCars     5.710e-02  1.124e-02   5.080 4.27e-07 ***\n",
       "GarageArea     8.307e-06  3.871e-05   0.215 0.830117    \n",
       "WoodDeckSF     3.958e-03  1.546e-03   2.561 0.010548 *  \n",
       "OpenPorchSF    2.523e-04  2.001e-03   0.126 0.899661    \n",
       "EnclosedPorch  4.453e-03  2.428e-03   1.834 0.066916 .  \n",
       "X3SsnPorch     3.411e-03  5.449e-03   0.626 0.531448    \n",
       "ScreenPorch    1.017e-02  2.688e-03   3.783 0.000161 ***\n",
       "PoolArea      -2.135e-02  8.434e-03  -2.531 0.011480 *  \n",
       "MiscVal       -5.624e-03  2.982e-03  -1.886 0.059510 .  \n",
       "MoSold        -4.004e-05  1.355e-03  -0.030 0.976426    \n",
       "YrSold        -6.013e-03  2.777e-03  -2.165 0.030527 *  \n",
       "---\n",
       "Signif. codes:  0 ‘***’ 0.001 ‘**’ 0.01 ‘*’ 0.05 ‘.’ 0.1 ‘ ’ 1\n",
       "\n",
       "Residual standard error: 0.1366 on 1423 degrees of freedom\n",
       "Multiple R-squared:  0.886,\tAdjusted R-squared:  0.8831 \n",
       "F-statistic: 307.1 on 36 and 1423 DF,  p-value: < 2.2e-16\n"
      ]
     },
     "metadata": {},
     "output_type": "display_data"
    }
   ],
   "source": [
    "summary(model)"
   ]
  },
  {
   "cell_type": "code",
   "execution_count": 31,
   "metadata": {
    "collapsed": false,
    "scrolled": false
   },
   "outputs": [
    {
     "data": {
      "text/plain": [
       "   MSSubClass     LotFrontage       LotArea        OverallQual    \n",
       " Min.   :3.045   Min.   :3.091   Min.   : 7.171   Min.   : 1.000  \n",
       " 1st Qu.:3.045   1st Qu.:4.111   1st Qu.: 8.930   1st Qu.: 5.000  \n",
       " Median :3.932   Median :4.248   Median : 9.157   Median : 6.000  \n",
       " Mean   :3.819   Mean   :4.214   Mean   : 9.111   Mean   : 6.099  \n",
       " 3rd Qu.:4.263   3rd Qu.:4.382   3rd Qu.: 9.359   3rd Qu.: 7.000  \n",
       " Max.   :5.252   Max.   :5.749   Max.   :12.280   Max.   :10.000  \n",
       "  OverallCond      YearBuilt     YearRemodAdd    MasVnrArea      BsmtFinSF1   \n",
       " Min.   :1.000   Min.   :1872   Min.   :1950   Min.   :0.000   Min.   :0.000  \n",
       " 1st Qu.:5.000   1st Qu.:1954   1st Qu.:1967   1st Qu.:0.000   1st Qu.:0.000  \n",
       " Median :5.000   Median :1973   Median :1994   Median :0.000   Median :5.952  \n",
       " Mean   :5.575   Mean   :1971   Mean   :1985   Mean   :2.120   Mean   :4.230  \n",
       " 3rd Qu.:6.000   3rd Qu.:2000   3rd Qu.:2004   3rd Qu.:5.107   3rd Qu.:6.570  \n",
       " Max.   :9.000   Max.   :2010   Max.   :2010   Max.   :7.378   Max.   :8.639  \n",
       "   BsmtFinSF2       BsmtUnfSF      TotalBsmtSF      X1stFlrSF    \n",
       " Min.   :0.0000   Min.   :0.000   Min.   :0.000   Min.   :5.814  \n",
       " 1st Qu.:0.0000   1st Qu.:5.412   1st Qu.:6.681   1st Qu.:6.783  \n",
       " Median :0.0000   Median :6.171   Median :6.900   Median :6.992  \n",
       " Mean   :0.6554   Mean   :5.648   Mean   :6.751   Mean   :7.008  \n",
       " 3rd Qu.:0.0000   3rd Qu.:6.696   3rd Qu.:7.170   3rd Qu.:7.239  \n",
       " Max.   :7.2964   Max.   :7.757   Max.   :8.718   Max.   :8.454  \n",
       "   X2ndFlrSF      LowQualFinSF       GrLivArea      BsmtFullBath   \n",
       " Min.   :0.000   Min.   :0.00000   Min.   :5.814   Min.   :0.0000  \n",
       " 1st Qu.:0.000   1st Qu.:0.00000   1st Qu.:7.030   1st Qu.:0.0000  \n",
       " Median :0.000   Median :0.00000   Median :7.290   Median :0.0000  \n",
       " Mean   :2.865   Mean   :0.09981   Mean   :7.269   Mean   :0.4253  \n",
       " 3rd Qu.:6.592   3rd Qu.:0.00000   3rd Qu.:7.483   3rd Qu.:1.0000  \n",
       " Max.   :7.633   Max.   :6.35089   Max.   :8.638   Max.   :3.0000  \n",
       "  BsmtHalfBath        FullBath        HalfBath       BedroomAbvGr  \n",
       " Min.   :0.00000   Min.   :0.000   Min.   :0.0000   Min.   :0.000  \n",
       " 1st Qu.:0.00000   1st Qu.:1.000   1st Qu.:0.0000   1st Qu.:2.000  \n",
       " Median :0.00000   Median :2.000   Median :0.0000   Median :3.000  \n",
       " Mean   :0.03949   Mean   :1.565   Mean   :0.3829   Mean   :2.866  \n",
       " 3rd Qu.:0.00000   3rd Qu.:2.000   3rd Qu.:1.0000   3rd Qu.:3.000  \n",
       " Max.   :1.09861   Max.   :3.000   Max.   :2.0000   Max.   :8.000  \n",
       "  KitchenAbvGr     TotRmsAbvGrd      Fireplaces     GarageYrBlt  \n",
       " Min.   :0.0000   Min.   : 2.000   Min.   :0.000   Min.   :1900  \n",
       " 1st Qu.:0.6931   1st Qu.: 5.000   1st Qu.:0.000   1st Qu.:1962  \n",
       " Median :0.6931   Median : 6.000   Median :1.000   Median :1980  \n",
       " Mean   :0.7117   Mean   : 6.518   Mean   :0.613   Mean   :1979  \n",
       " 3rd Qu.:0.6931   3rd Qu.: 7.000   3rd Qu.:1.000   3rd Qu.:2001  \n",
       " Max.   :1.3863   Max.   :14.000   Max.   :3.000   Max.   :2010  \n",
       "   GarageCars      GarageArea       WoodDeckSF     OpenPorchSF   \n",
       " Min.   :0.000   Min.   :   0.0   Min.   :0.000   Min.   :0.000  \n",
       " 1st Qu.:1.000   1st Qu.: 334.5   1st Qu.:0.000   1st Qu.:0.000  \n",
       " Median :2.000   Median : 480.0   Median :0.000   Median :3.258  \n",
       " Mean   :1.767   Mean   : 473.0   Mean   :2.457   Mean   :2.309  \n",
       " 3rd Qu.:2.000   3rd Qu.: 576.0   3rd Qu.:5.130   3rd Qu.:4.234  \n",
       " Max.   :4.000   Max.   :1418.0   Max.   :6.755   Max.   :6.306  \n",
       " EnclosedPorch     X3SsnPorch       ScreenPorch        PoolArea      \n",
       " Min.   :0.000   Min.   :0.00000   Min.   :0.0000   Min.   :0.00000  \n",
       " 1st Qu.:0.000   1st Qu.:0.00000   1st Qu.:0.0000   1st Qu.:0.00000  \n",
       " Median :0.000   Median :0.00000   Median :0.0000   Median :0.00000  \n",
       " Mean   :0.698   Mean   :0.08568   Mean   :0.4107   Mean   :0.03043  \n",
       " 3rd Qu.:0.000   3rd Qu.:0.00000   3rd Qu.:0.0000   3rd Qu.:0.00000  \n",
       " Max.   :6.315   Max.   :6.23245   Max.   :6.1759   Max.   :6.60530  \n",
       "    MiscVal           MoSold           YrSold    \n",
       " Min.   :0.0000   Min.   : 1.000   Min.   :2006  \n",
       " 1st Qu.:0.0000   1st Qu.: 5.000   1st Qu.:2007  \n",
       " Median :0.0000   Median : 6.000   Median :2008  \n",
       " Mean   :0.2335   Mean   : 6.322   Mean   :2008  \n",
       " 3rd Qu.:0.0000   3rd Qu.: 8.000   3rd Qu.:2009  \n",
       " Max.   :9.6487   Max.   :12.000   Max.   :2010  "
      ]
     },
     "metadata": {},
     "output_type": "display_data"
    }
   ],
   "source": [
    "summary(data[, numerical.var])"
   ]
  },
  {
   "cell_type": "code",
   "execution_count": null,
   "metadata": {
    "collapsed": true
   },
   "outputs": [],
   "source": []
  }
 ],
 "metadata": {
  "kernelspec": {
   "display_name": "R",
   "language": "R",
   "name": "ir"
  },
  "language_info": {
   "codemirror_mode": "r",
   "file_extension": ".r",
   "mimetype": "text/x-r-source",
   "name": "R",
   "pygments_lexer": "r",
   "version": "3.3.2"
  }
 },
 "nbformat": 4,
 "nbformat_minor": 2
}
