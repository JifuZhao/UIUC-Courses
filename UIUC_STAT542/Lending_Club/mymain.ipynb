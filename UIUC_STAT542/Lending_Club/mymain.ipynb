{
 "cells": [
  {
   "cell_type": "code",
   "execution_count": 1,
   "metadata": {
    "collapsed": false
   },
   "outputs": [
    {
     "name": "stderr",
     "output_type": "stream",
     "text": [
      "Loading required package: dummies\n",
      "dummies-1.5.6 provided by Decision Patterns\n",
      "\n",
      "Loading required package: DAAG\n",
      "Loading required package: lattice\n",
      "Loading required package: xgboost\n",
      "Loading required package: randomForest\n",
      "randomForest 4.6-12\n",
      "Type rfNews() to see new features/changes/bug fixes.\n",
      "Loading required package: gbm\n",
      "Loading required package: survival\n",
      "\n",
      "Attaching package: ‘survival’\n",
      "\n",
      "The following object is masked from ‘package:DAAG’:\n",
      "\n",
      "    lung\n",
      "\n",
      "Loading required package: splines\n",
      "Loading required package: parallel\n",
      "Loaded gbm 2.1.1\n",
      "Loading required package: glmnet\n",
      "Loading required package: Matrix\n",
      "Loading required package: foreach\n",
      "Loaded glmnet 2.0-5\n",
      "\n"
     ]
    }
   ],
   "source": [
    "all.start.time = Sys.time()\n",
    "options(warn=-1)\n",
    "\n",
    "# import required library\n",
    "if (!require(dummies)) {\n",
    "    install.packages(\"dummies\")\n",
    "}\n",
    "if (!require(DAAG)) {\n",
    "    install.packages(\"DAAG\")\n",
    "}\n",
    "if (!require(xgboost)) {\n",
    "    install.packages(\"xgboost\")\n",
    "}\n",
    "if (!require(randomForest)) {\n",
    "    install.packages(\"randomForest\")\n",
    "}\n",
    "if (!require(gbm)) {\n",
    "    install.packages(\"gbm\")\n",
    "}\n",
    "if (!require(glmnet)) {\n",
    "    install.packages(\"glmnet\")\n",
    "}\n",
    "library(xgboost)       # XGBoost model\n",
    "library(randomForest)  # Random Forest model\n",
    "library(gbm)           # GBM model\n",
    "library(dummies)       # Dummy variable\n",
    "library(DAAG)          # Cross-Validation\n",
    "library(glmnet)        # Logistic regression with Lasso"
   ]
  },
  {
   "cell_type": "code",
   "execution_count": 2,
   "metadata": {
    "collapsed": false
   },
   "outputs": [],
   "source": [
    "# temporarily code\n",
    "# load the data set\n",
    "data = read.csv('./data/loan.csv')\n",
    "tmp = read.csv('./data/2016AllData.csv')\n",
    "\n",
    "# change factor into numeric\n",
    "tmp$int_rate = as.numeric(sub(\"%\", \"\", tmp$int_rate))\n",
    "tmp$revol_util = as.numeric(sub(\"%\", \"\", tmp$revol_util))\n",
    "\n",
    "# merge together\n",
    "data = rbind(data, tmp)\n",
    "rm(tmp)\n",
    "\n",
    "set.seed(100)\n",
    "idx = sample(1:nrow(data), floor(nrow(data) * 0.75), replace=FALSE)\n",
    "train = data[idx, ]\n",
    "test = data[-idx, ]\n",
    "\n",
    "rm(data)"
   ]
  },
  {
   "cell_type": "code",
   "execution_count": 5,
   "metadata": {
    "collapsed": true
   },
   "outputs": [],
   "source": [
    "# # -----------------------------------------------------------\n",
    "# # load the data set\n",
    "# train = read.csv('./train.csv')\n",
    "# test = read.csv('./test.csv')"
   ]
  },
  {
   "cell_type": "code",
   "execution_count": 6,
   "metadata": {
    "collapsed": false
   },
   "outputs": [],
   "source": [
    "# the ID as the first column\n",
    "TEST_predict = data.frame(test[, \"id\"])  \n",
    "# the SalePrice was set to 0.0 initially\n",
    "TEST_predict['prob'] = matrix(rep(0.0, nrow(test))) \n",
    "# reset the column names of final results\n",
    "colnames(TEST_predict) = c(\"id\", \"prob\")  "
   ]
  },
  {
   "cell_type": "code",
   "execution_count": 30,
   "metadata": {
    "collapsed": false
   },
   "outputs": [],
   "source": [
    "# -----------------------------------------------------------\n",
    "# Pre-processing and feature selection\n",
    "\n",
    "# change the loan status\n",
    "default.y = c('Default', 'Charged Off', 'Late (31-120 days)', 'Late (16-30 days)', \n",
    "              'Does not meet the credit policy. Status:Charged Off')\n",
    "train$loan_status = ifelse(train$loan_status %in% default.y, 1, 0)\n",
    "\n",
    "# -----------------------------------------------------------\n",
    "# drop columns that have too many missing values\n",
    "drop.names = c(\"mths_since_last_delinq\", \"mths_since_last_record\", \"mths_since_last_major_derog\", \n",
    "               \"annual_inc_joint\", \"dti_joint\", \"open_acc_6m\", \"open_il_6m\", \"open_il_12m\", \n",
    "               \"open_il_24m\", \"mths_since_rcnt_il\", \"total_bal_il\", \"il_util\", \"open_rv_12m\", \n",
    "               \"open_rv_24m\", \"max_bal_bc\", \"all_util\", \"inq_fi\", \"total_cu_tl\", \"inq_last_12m\")\n",
    "train = train[, !(names(train) %in% drop.names)]\n",
    "test = test[, !(names(test) %in% drop.names)]\n",
    "\n",
    "# Transform categorical feature into numerical feature\n",
    "train$sub_grade = as.numeric(train$sub_grade)\n",
    "test$sub_grade = as.numeric(test$sub_grade)\n",
    "\n",
    "# -----------------------------------------------------------\n",
    "# Drop useless features\n",
    "# drop useless categorical features\n",
    "drop.names = c(\"emp_title\", \"issue_d\", \"pymnt_plan\", \"url\", \"desc\", \"title\", \"zip_code\", \"addr_state\", \n",
    "               \"earliest_cr_line\", \"last_pymnt_d\", \"next_pymnt_d\", \"last_credit_pull_d\", \"application_type\", \n",
    "               \"verification_status_joint\", \"grade\")\n",
    "train = train[, !(names(train) %in% drop.names)]\n",
    "test = test[, !(names(test) %in% drop.names)]\n",
    "\n",
    "# drop useless numerical features\n",
    "drop.names = c(\"id\", \"member_id\", \"policy_code\")\n",
    "train = train[, !(names(train) %in% drop.names)]\n",
    "test = test[, !(names(test) %in% drop.names)]\n",
    "\n",
    "# -----------------------------------------------------------\n",
    "# Data Structures\n",
    "# find all categorical and numerical variables\n",
    "data.type = sapply(train, class)\n",
    "cat.var = names(train)[which(data.type == 'factor')]\n",
    "num.var = names(train)[which((data.type == 'integer') | (data.type == 'numeric'))]\n",
    "\n",
    "# -----------------------------------------------------------\n",
    "# Fill NA values\n",
    "# create new feature named \"NA\" for categorical variables\n",
    "for (i in cat.var) {\n",
    "    train[, i] = addNA(train[, i])\n",
    "    test[, i] = addNA(test[, i])\n",
    "}\n",
    "\n",
    "# create new feature using the median value for numerical variables\n",
    "for (i in num.var) {\n",
    "    na.id = is.na(train[, i])\n",
    "    tmp.median = median(train[, i], na.rm=TRUE)\n",
    "    train[which(na.id), i] = tmp.median\n",
    "    \n",
    "    na.id = is.na(test[, i])\n",
    "    test[which(na.id), i] = tmp.median\n",
    "}\n",
    "\n",
    "# -----------------------------------------------------------\n",
    "# Skewness\n",
    "skew = c('installment', 'annual_inc', 'dti', 'revol_bal', 'total_acc', 'out_prncp', 'out_prncp_inv', \n",
    "         'total_pymnt', 'total_pymnt_inv', 'total_rec_prncp', 'total_rec_int', 'total_rec_late_fee', \n",
    "         'recoveries', 'collection_recovery_fee', 'last_pymnt_amnt', 'tot_coll_amt', 'tot_cur_bal',\n",
    "         'total_rev_hi_lim')\n",
    "\n",
    "for (i in skew){\n",
    "    train[, i] = log(train[, i] + 1)\n",
    "    test[, i] = log(test[, i] + 1)\n",
    "}\n",
    "\n",
    "# -----------------------------------------------------------\n",
    "# Dummy Variables\n",
    "train.y = train$loan_status\n",
    "data = rbind(train[, names(test)], test)\n",
    "\n",
    "# save memory\n",
    "rm(train, test)\n",
    "gc()\n",
    "\n",
    "# create dummy variables\n",
    "dummy.var = data.frame(dummy.data.frame(data[, cat.var], sep='.'))\n",
    "data = cbind(data, dummy.var)\n",
    "\n",
    "# drop original categorical variables\n",
    "data = data[ , !(names(data) %in% cat.var)]\n",
    "\n",
    "# split into train and test data set\n",
    "train = data[1: length(train.y), ]\n",
    "test = data[(length(train.y) + 1): nrow(data), ]\n",
    "train['loan_status'] = train.y\n",
    "rm(data)"
   ]
  },
  {
   "cell_type": "code",
   "execution_count": 34,
   "metadata": {
    "collapsed": true
   },
   "outputs": [],
   "source": [
    "scale = function(score) {\n",
    "    # function to scale the score\n",
    "    score[which(score < 1e-15)] = 1e-15\n",
    "    score[which(score > 1 - 1e-15)] = 1 - 1e-15\n",
    "    score\n",
    "}"
   ]
  },
  {
   "cell_type": "code",
   "execution_count": 35,
   "metadata": {
    "collapsed": true
   },
   "outputs": [],
   "source": [
    "# temporarily code\n",
    "test$loan_status = ifelse(test$loan_status %in% default.y, 1, 0)"
   ]
  },
  {
   "cell_type": "markdown",
   "metadata": {},
   "source": [
    "# Logistic Model"
   ]
  },
  {
   "cell_type": "code",
   "execution_count": 40,
   "metadata": {
    "collapsed": false
   },
   "outputs": [
    {
     "name": "stdout",
     "output_type": "stream",
     "text": [
      "Logistic Regression Model\n",
      "Start time:\t 2017-04-03 14:36:15 \n",
      "End time:\t 2017-04-03 14:36:15 \n",
      "Total time:\t 0.163667 \n"
     ]
    }
   ],
   "source": [
    "start.time = Sys.time()  # get time information\n",
    "\n",
    "# fit the logistic model\n",
    "log.model = glm(loan_status ~ ., data=train, family=binomial)\n",
    "\n",
    "end.time = Sys.time()\n",
    "cat(\"Logistic Regression Model\\n\")\n",
    "cat('Start time:\\t', as.character(start.time), '\\n')\n",
    "cat('End time:\\t', as.character(end.time), '\\n')\n",
    "cat('Total time:\\t', end.time - start.time, '\\n')"
   ]
  },
  {
   "cell_type": "code",
   "execution_count": null,
   "metadata": {
    "collapsed": true
   },
   "outputs": [],
   "source": [
    "# calculate log-loss\n",
    "test.y.hat = predict(log.model, test, type=\"response\")\n",
    "test.y.hat = scale(test.y.hat)\n",
    "\n",
    "# # make submission file\n",
    "# TEST_predict$prob = test.y.hat\n",
    "# write.table(TEST_predict, './mysubmission1.txt', row.names=FALSE, sep=',')"
   ]
  },
  {
   "cell_type": "code",
   "execution_count": 41,
   "metadata": {
    "collapsed": false
   },
   "outputs": [
    {
     "name": "stdout",
     "output_type": "stream",
     "text": [
      "train loss\t 0.4490041 \n",
      "test loss\t 1.208857 \n"
     ]
    }
   ],
   "source": [
    "# temporarily code\n",
    "train.y.hat = predict(log.model, train, type=\"response\")\n",
    "train.y.hat = scale(train.y.hat)\n",
    "\n",
    "train.y = train$loan_status\n",
    "test.y = test$loan_status\n",
    "\n",
    "train.loss = -sum(train.y * log(train.y.hat)) / length(train.y)\n",
    "test.loss = -sum(test.y * log(test.y.hat)) / length(test.y)\n",
    "\n",
    "cat('train loss\\t', train.loss, '\\n')\n",
    "cat('test loss\\t', test.loss, '\\n')"
   ]
  },
  {
   "cell_type": "markdown",
   "metadata": {},
   "source": [
    "# GBM"
   ]
  },
  {
   "cell_type": "code",
   "execution_count": 42,
   "metadata": {
    "collapsed": false
   },
   "outputs": [
    {
     "data": {
      "text/html": [
       "14"
      ],
      "text/latex": [
       "14"
      ],
      "text/markdown": [
       "14"
      ],
      "text/plain": [
       "[1] 14"
      ]
     },
     "metadata": {},
     "output_type": "display_data"
    },
    {
     "name": "stdout",
     "output_type": "stream",
     "text": [
      "GBM Model\n",
      "Start time:\t 2017-04-03 14:36:19 \n",
      "End time:\t 2017-04-03 14:36:34 \n",
      "Total time:\t 14.59017 \n"
     ]
    },
    {
     "data": {
      "image/png": "[encoded data removed]",
      "text/plain": [
       "plot without title"
      ]
     },
     "metadata": {},
     "output_type": "display_data"
    }
   ],
   "source": [
    "start.time = Sys.time()  # get time information\n",
    "\n",
    "# build the adaboost model\n",
    "ada.boost = gbm(loan_status ~ ., data=train, distribution=\"adaboost\", n.trees=1000, \n",
    "                shrinkage=0.5, bag.fraction=1, cv.folds=5, n.cores=8)\n",
    "gbm.perf(ada.boost, method='cv', plot.it=T)  # estimating the best iterations\n",
    "\n",
    "end.time = Sys.time()\n",
    "cat(\"GBM Model\\n\")\n",
    "cat('Start time:\\t', as.character(start.time), '\\n')\n",
    "cat('End time:\\t', as.character(end.time), '\\n')\n",
    "cat('Total time:\\t', end.time - start.time, '\\n')"
   ]
  },
  {
   "cell_type": "code",
   "execution_count": null,
   "metadata": {
    "collapsed": true
   },
   "outputs": [],
   "source": [
    "# calculate log-loss\n",
    "test.y.hat = predict(ada.boost, test, type=\"response\")\n",
    "test.y.hat = scale(test.y.hat)\n",
    "\n",
    "# # make submission file\n",
    "# TEST_predict$prob = test.y.hat\n",
    "# write.table(TEST_predict, './mysubmission1.txt', row.names=FALSE, sep=',')"
   ]
  },
  {
   "cell_type": "code",
   "execution_count": 43,
   "metadata": {
    "collapsed": false
   },
   "outputs": [
    {
     "name": "stdout",
     "output_type": "stream",
     "text": [
      "Using 14 trees...\n",
      "Using 14 trees...\n",
      "train loss\t 0.07776979 \n",
      "test loss\t 0.09515752 \n"
     ]
    }
   ],
   "source": [
    "# temporarily code\n",
    "train.y.hat = predict(ada.boost, train, type=\"response\")\n",
    "train.y.hat = scale(train.y.hat)\n",
    "\n",
    "train.y = train$loan_status\n",
    "test.y = test$loan_status\n",
    "\n",
    "train.loss = -sum(train.y * log(train.y.hat)) / length(train.y)\n",
    "test.loss = -sum(test.y * log(test.y.hat)) / length(test.y)\n",
    "\n",
    "cat('train loss\\t', train.loss, '\\n')\n",
    "cat('test loss\\t', test.loss, '\\n')"
   ]
  },
  {
   "cell_type": "markdown",
   "metadata": {},
   "source": [
    "# Random Forest"
   ]
  },
  {
   "cell_type": "code",
   "execution_count": 44,
   "metadata": {
    "collapsed": false
   },
   "outputs": [
    {
     "name": "stdout",
     "output_type": "stream",
     "text": [
      "Random Forest Model\n",
      "Start time:\t 2017-04-03 14:36:41 \n",
      "End time:\t 2017-04-03 14:36:42 \n",
      "Total time:\t 0.849257 \n"
     ]
    }
   ],
   "source": [
    "start.time = Sys.time()  # get time information\n",
    "\n",
    "# build the random forest model\n",
    "rf.model = randomForest(as.factor(loan_status) ~ ., data=train, importance=T, ntree=100)\n",
    "\n",
    "end.time = Sys.time()\n",
    "cat(\"Random Forest Model\\n\")\n",
    "cat('Start time:\\t', as.character(start.time), '\\n')\n",
    "cat('End time:\\t', as.character(end.time), '\\n')\n",
    "cat('Total time:\\t', end.time - start.time, '\\n')"
   ]
  },
  {
   "cell_type": "code",
   "execution_count": 45,
   "metadata": {
    "collapsed": false
   },
   "outputs": [
    {
     "data": {
      "image/png": "[encoded data removed]",
      "text/plain": [
       "plot without title"
      ]
     },
     "metadata": {},
     "output_type": "display_data"
    }
   ],
   "source": [
    "# plot the error rate\n",
    "tmp = rf.model$err.rate\n",
    "plot(c(0, rf.model$ntree), range(tmp), type=\"n\",\n",
    "     xlab = \"Number of trees\", ylab=\"Error\")\n",
    "lines(tmp[,1], col=\"black\")\n",
    "lines(tmp[,2], col=\"red\")\n",
    "lines(tmp[,3], col=\"green\")"
   ]
  },
  {
   "cell_type": "code",
   "execution_count": null,
   "metadata": {
    "collapsed": true
   },
   "outputs": [],
   "source": [
    "# calculate log-loss\n",
    "test.y.hat = predict(rf.model, test, type=\"prob\")[, 2]\n",
    "test.y.hat = scale(test.y.hat)\n",
    "\n",
    "# # make submission file\n",
    "# TEST_predict$prob = test.y.hat\n",
    "# write.table(TEST_predict, './mysubmission1.txt', row.names=FALSE, sep=',')"
   ]
  },
  {
   "cell_type": "code",
   "execution_count": 46,
   "metadata": {
    "collapsed": false
   },
   "outputs": [
    {
     "name": "stdout",
     "output_type": "stream",
     "text": [
      "train loss\t 0.01136117 \n",
      "test loss\t 0.06851806 \n"
     ]
    }
   ],
   "source": [
    "# temporarily code\n",
    "train.y.hat = predict(rf.model, train, type=\"prob\")[, 2]\n",
    "train.y.hat = scale(train.y.hat)\n",
    "\n",
    "train.y = train$loan_status\n",
    "test.y = test$loan_status\n",
    "\n",
    "train.loss = -sum(train.y * log(train.y.hat)) / length(train.y)\n",
    "test.loss = -sum(test.y * log(test.y.hat)) / length(test.y)\n",
    "\n",
    "cat('train loss\\t', train.loss, '\\n')\n",
    "cat('test loss\\t', test.loss, '\\n')"
   ]
  },
  {
   "cell_type": "markdown",
   "metadata": {},
   "source": [
    "# XGBoost"
   ]
  },
  {
   "cell_type": "code",
   "execution_count": 47,
   "metadata": {
    "collapsed": false
   },
   "outputs": [],
   "source": [
    "train.m.y = train$loan_status\n",
    "train.m.x = train[, -which(names(train) == \"loan_status\")]\n",
    "train.m.x = apply(train.m.x, 2, as.numeric)\n",
    "\n",
    "test.m.x = test[, -which(names(test) == \"loan_status\")]\n",
    "test.m.x = apply(test.m.x, 2, as.numeric)"
   ]
  },
  {
   "cell_type": "code",
   "execution_count": 48,
   "metadata": {
    "collapsed": false,
    "scrolled": false
   },
   "outputs": [
    {
     "name": "stdout",
     "output_type": "stream",
     "text": [
      "[1]\ttrain-logloss:0.347290+0.005724\ttest-logloss:0.357756+0.011962 \n",
      "Multiple eval metrics are present. Will use test_logloss for early stopping.\n",
      "Will train until test_logloss hasn't improved in 3 rounds.\n",
      "\n",
      "[2]\ttrain-logloss:0.210219+0.005945\ttest-logloss:0.222588+0.012316 \n",
      "[3]\ttrain-logloss:0.140260+0.007178\ttest-logloss:0.164907+0.021689 \n",
      "[4]\ttrain-logloss:0.096728+0.003598\ttest-logloss:0.127236+0.023584 \n",
      "[5]\ttrain-logloss:0.072001+0.004459\ttest-logloss:0.110410+0.024399 \n",
      "[6]\ttrain-logloss:0.054052+0.003571\ttest-logloss:0.095998+0.024758 \n",
      "[7]\ttrain-logloss:0.042382+0.002599\ttest-logloss:0.091624+0.028388 \n",
      "[8]\ttrain-logloss:0.034709+0.001774\ttest-logloss:0.088320+0.028999 \n",
      "[9]\ttrain-logloss:0.028368+0.001480\ttest-logloss:0.087795+0.030735 \n",
      "[10]\ttrain-logloss:0.024374+0.001402\ttest-logloss:0.088023+0.032504 \n",
      "[11]\ttrain-logloss:0.021111+0.001320\ttest-logloss:0.090236+0.034014 \n",
      "[12]\ttrain-logloss:0.018623+0.001296\ttest-logloss:0.091640+0.035457 \n",
      "Stopping. Best iteration:\n",
      "[9]\ttrain-logloss:0.028368+0.001480\ttest-logloss:0.087795+0.030735\n",
      "\n",
      "XGBoost Model\n",
      "Start time:\t 2017-04-03 14:36:49 \n",
      "End time:\t 2017-04-03 14:36:50 \n",
      "Total time:\t 0.756778 \n"
     ]
    }
   ],
   "source": [
    "start.time = Sys.time()  # get time information\n",
    "\n",
    "# build XGBoost model\n",
    "set.seed(2017)\n",
    "cv.dummy = xgb.cv(data=train.m.x, label=train.m.y, nfold=5, max.depth=6, eta=0.5, \n",
    "                  nrounds=200, nthread=8, early.stop.round=3, verbose=T,\n",
    "                  objective=\"binary:logistic\", metrics=list(\"logloss\"))\n",
    "\n",
    "end.time = Sys.time()\n",
    "cat(\"XGBoost Model\\n\")\n",
    "cat('Start time:\\t', as.character(start.time), '\\n')\n",
    "cat('End time:\\t', as.character(end.time), '\\n')\n",
    "cat('Total time:\\t', end.time - start.time, '\\n')"
   ]
  },
  {
   "cell_type": "code",
   "execution_count": 49,
   "metadata": {
    "collapsed": false
   },
   "outputs": [
    {
     "name": "stdout",
     "output_type": "stream",
     "text": [
      "XGBoost Model\n",
      "Start time:\t 2017-04-03 14:36:53 \n",
      "End time:\t 2017-04-03 14:36:54 \n",
      "Total time:\t 0.7688391 \n"
     ]
    }
   ],
   "source": [
    "start.time = Sys.time()  # get time information\n",
    "\n",
    "bst = xgboost(data=train.m.x, label=train.m.y, max.depth=6, eta=0.5, nrounds=85, \n",
    "              nthread=8, objective=\"binary:logistic\", verbose=F)\n",
    "\n",
    "end.time = Sys.time()\n",
    "cat(\"XGBoost Model\\n\")\n",
    "cat('Start time:\\t', as.character(start.time), '\\n')\n",
    "cat('End time:\\t', as.character(end.time), '\\n')\n",
    "cat('Total time:\\t', end.time - start.time, '\\n')"
   ]
  },
  {
   "cell_type": "code",
   "execution_count": null,
   "metadata": {
    "collapsed": true
   },
   "outputs": [],
   "source": [
    "# calculate log-loss\n",
    "test.y.hat = predict(bst, test.m.x)\n",
    "test.y.hat = scale(test.y.hat)\n",
    "\n",
    "# # make submission file\n",
    "# TEST_predict$prob = test.y.hat\n",
    "# write.table(TEST_predict, './mysubmission1.txt', row.names=FALSE, sep=',')"
   ]
  },
  {
   "cell_type": "code",
   "execution_count": 50,
   "metadata": {
    "collapsed": false
   },
   "outputs": [
    {
     "name": "stdout",
     "output_type": "stream",
     "text": [
      "train loss\t 0.001818857 \n",
      "test loss\t 0.05520872 \n"
     ]
    }
   ],
   "source": [
    "# temporarily code\n",
    "train.y.hat = predict(bst, train.m.x)\n",
    "train.y.hat = scale(train.y.hat)\n",
    "\n",
    "train.y = train$loan_status\n",
    "test.y = test$loan_status\n",
    "\n",
    "train.loss = -sum(train.y * log(train.y.hat)) / length(train.y)\n",
    "test.loss = -sum(test.y * log(test.y.hat)) / length(test.y)\n",
    "\n",
    "cat('train loss\\t', train.loss, '\\n')\n",
    "cat('test loss\\t', test.loss, '\\n')"
   ]
  },
  {
   "cell_type": "code",
   "execution_count": 51,
   "metadata": {
    "collapsed": false
   },
   "outputs": [
    {
     "name": "stdout",
     "output_type": "stream",
     "text": [
      "All running time\n",
      "Start time:\t 2017-04-03 14:23:59 \n",
      "End time:\t 2017-04-03 14:36:57 \n",
      "Total time:\t 12.97036 \n"
     ]
    }
   ],
   "source": [
    "all.end.time = Sys.time()\n",
    "cat(\"All running time\\n\")\n",
    "cat('Start time:\\t', as.character(all.start.time), '\\n')\n",
    "cat('End time:\\t', as.character(all.end.time), '\\n')\n",
    "cat('Total time:\\t', all.end.time - all.start.time, '\\n')"
   ]
  },
  {
   "cell_type": "code",
   "execution_count": null,
   "metadata": {
    "collapsed": true
   },
   "outputs": [],
   "source": []
  }
 ],
 "metadata": {
  "kernelspec": {
   "display_name": "R",
   "language": "R",
   "name": "ir"
  },
  "language_info": {
   "codemirror_mode": "r",
   "file_extension": ".r",
   "mimetype": "text/x-r-source",
   "name": "R",
   "pygments_lexer": "r",
   "version": "3.3.2"
  }
 },
 "nbformat": 4,
 "nbformat_minor": 2
}
