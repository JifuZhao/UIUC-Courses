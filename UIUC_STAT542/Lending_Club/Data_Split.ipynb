{
 "cells": [
  {
   "cell_type": "code",
   "execution_count": 1,
   "metadata": {
    "collapsed": false,
    "scrolled": false
   },
   "outputs": [
    {
     "data": {
      "text/html": [
       "<table>\n",
       "<thead><tr><th scope=col>id</th><th scope=col>member_id</th><th scope=col>loan_amnt</th><th scope=col>funded_amnt</th><th scope=col>funded_amnt_inv</th><th scope=col>term</th><th scope=col>int_rate</th><th scope=col>installment</th><th scope=col>grade</th><th scope=col>sub_grade</th><th scope=col>⋯</th><th scope=col>total_bal_il</th><th scope=col>il_util</th><th scope=col>open_rv_12m</th><th scope=col>open_rv_24m</th><th scope=col>max_bal_bc</th><th scope=col>all_util</th><th scope=col>total_rev_hi_lim</th><th scope=col>inq_fi</th><th scope=col>total_cu_tl</th><th scope=col>inq_last_12m</th></tr></thead>\n",
       "<tbody>\n",
       "\t<tr><td>1077501   </td><td>1296599   </td><td> 5000     </td><td> 5000     </td><td> 4975     </td><td> 36 months</td><td>10.65     </td><td>162.87    </td><td>B         </td><td>B2        </td><td>⋯         </td><td>NA        </td><td>NA        </td><td>NA        </td><td>NA        </td><td>NA        </td><td>NA        </td><td>NA        </td><td>NA        </td><td>NA        </td><td>NA        </td></tr>\n",
       "\t<tr><td>1077430   </td><td>1314167   </td><td> 2500     </td><td> 2500     </td><td> 2500     </td><td> 60 months</td><td>15.27     </td><td> 59.83    </td><td>C         </td><td>C4        </td><td>⋯         </td><td>NA        </td><td>NA        </td><td>NA        </td><td>NA        </td><td>NA        </td><td>NA        </td><td>NA        </td><td>NA        </td><td>NA        </td><td>NA        </td></tr>\n",
       "\t<tr><td>1077175   </td><td>1313524   </td><td> 2400     </td><td> 2400     </td><td> 2400     </td><td> 36 months</td><td>15.96     </td><td> 84.33    </td><td>C         </td><td>C5        </td><td>⋯         </td><td>NA        </td><td>NA        </td><td>NA        </td><td>NA        </td><td>NA        </td><td>NA        </td><td>NA        </td><td>NA        </td><td>NA        </td><td>NA        </td></tr>\n",
       "\t<tr><td>1076863   </td><td>1277178   </td><td>10000     </td><td>10000     </td><td>10000     </td><td> 36 months</td><td>13.49     </td><td>339.31    </td><td>C         </td><td>C1        </td><td>⋯         </td><td>NA        </td><td>NA        </td><td>NA        </td><td>NA        </td><td>NA        </td><td>NA        </td><td>NA        </td><td>NA        </td><td>NA        </td><td>NA        </td></tr>\n",
       "\t<tr><td>1075358   </td><td>1311748   </td><td> 3000     </td><td> 3000     </td><td> 3000     </td><td> 60 months</td><td>12.69     </td><td> 67.79    </td><td>B         </td><td>B5        </td><td>⋯         </td><td>NA        </td><td>NA        </td><td>NA        </td><td>NA        </td><td>NA        </td><td>NA        </td><td>NA        </td><td>NA        </td><td>NA        </td><td>NA        </td></tr>\n",
       "\t<tr><td>1075269   </td><td>1311441   </td><td> 5000     </td><td> 5000     </td><td> 5000     </td><td> 36 months</td><td> 7.90     </td><td>156.46    </td><td>A         </td><td>A4        </td><td>⋯         </td><td>NA        </td><td>NA        </td><td>NA        </td><td>NA        </td><td>NA        </td><td>NA        </td><td>NA        </td><td>NA        </td><td>NA        </td><td>NA        </td></tr>\n",
       "</tbody>\n",
       "</table>\n"
      ],
      "text/latex": [
       "\\begin{tabular}{r|llllllllllllllllllllllllllllllllllllllllllllllllllllllllllllllllllllllllll}\n",
       " id & member\\_id & loan\\_amnt & funded\\_amnt & funded\\_amnt\\_inv & term & int\\_rate & installment & grade & sub\\_grade & ⋯ & total\\_bal\\_il & il\\_util & open\\_rv\\_12m & open\\_rv\\_24m & max\\_bal\\_bc & all\\_util & total\\_rev\\_hi\\_lim & inq\\_fi & total\\_cu\\_tl & inq\\_last\\_12m\\\\\n",
       "\\hline\n",
       "\t 1077501    & 1296599    &  5000      &  5000      &  4975      &  36 months & 10.65      & 162.87     & B          & B2         & ⋯          & NA         & NA         & NA         & NA         & NA         & NA         & NA         & NA         & NA         & NA        \\\\\n",
       "\t 1077430    & 1314167    &  2500      &  2500      &  2500      &  60 months & 15.27      &  59.83     & C          & C4         & ⋯          & NA         & NA         & NA         & NA         & NA         & NA         & NA         & NA         & NA         & NA        \\\\\n",
       "\t 1077175    & 1313524    &  2400      &  2400      &  2400      &  36 months & 15.96      &  84.33     & C          & C5         & ⋯          & NA         & NA         & NA         & NA         & NA         & NA         & NA         & NA         & NA         & NA        \\\\\n",
       "\t 1076863    & 1277178    & 10000      & 10000      & 10000      &  36 months & 13.49      & 339.31     & C          & C1         & ⋯          & NA         & NA         & NA         & NA         & NA         & NA         & NA         & NA         & NA         & NA        \\\\\n",
       "\t 1075358    & 1311748    &  3000      &  3000      &  3000      &  60 months & 12.69      &  67.79     & B          & B5         & ⋯          & NA         & NA         & NA         & NA         & NA         & NA         & NA         & NA         & NA         & NA        \\\\\n",
       "\t 1075269    & 1311441    &  5000      &  5000      &  5000      &  36 months &  7.90      & 156.46     & A          & A4         & ⋯          & NA         & NA         & NA         & NA         & NA         & NA         & NA         & NA         & NA         & NA        \\\\\n",
       "\\end{tabular}\n"
      ],
      "text/markdown": [
       "\n",
       "id | member_id | loan_amnt | funded_amnt | funded_amnt_inv | term | int_rate | installment | grade | sub_grade | ⋯ | total_bal_il | il_util | open_rv_12m | open_rv_24m | max_bal_bc | all_util | total_rev_hi_lim | inq_fi | total_cu_tl | inq_last_12m | \n",
       "|---|---|---|---|---|---|\n",
       "| 1077501    | 1296599    |  5000      |  5000      |  4975      |  36 months | 10.65      | 162.87     | B          | B2         | ⋯          | NA         | NA         | NA         | NA         | NA         | NA         | NA         | NA         | NA         | NA         | \n",
       "| 1077430    | 1314167    |  2500      |  2500      |  2500      |  60 months | 15.27      |  59.83     | C          | C4         | ⋯          | NA         | NA         | NA         | NA         | NA         | NA         | NA         | NA         | NA         | NA         | \n",
       "| 1077175    | 1313524    |  2400      |  2400      |  2400      |  36 months | 15.96      |  84.33     | C          | C5         | ⋯          | NA         | NA         | NA         | NA         | NA         | NA         | NA         | NA         | NA         | NA         | \n",
       "| 1076863    | 1277178    | 10000      | 10000      | 10000      |  36 months | 13.49      | 339.31     | C          | C1         | ⋯          | NA         | NA         | NA         | NA         | NA         | NA         | NA         | NA         | NA         | NA         | \n",
       "| 1075358    | 1311748    |  3000      |  3000      |  3000      |  60 months | 12.69      |  67.79     | B          | B5         | ⋯          | NA         | NA         | NA         | NA         | NA         | NA         | NA         | NA         | NA         | NA         | \n",
       "| 1075269    | 1311441    |  5000      |  5000      |  5000      |  36 months |  7.90      | 156.46     | A          | A4         | ⋯          | NA         | NA         | NA         | NA         | NA         | NA         | NA         | NA         | NA         | NA         | \n",
       "\n",
       "\n"
      ],
      "text/plain": [
       "  id      member_id loan_amnt funded_amnt funded_amnt_inv term       int_rate\n",
       "1 1077501 1296599    5000      5000        4975            36 months 10.65   \n",
       "2 1077430 1314167    2500      2500        2500            60 months 15.27   \n",
       "3 1077175 1313524    2400      2400        2400            36 months 15.96   \n",
       "4 1076863 1277178   10000     10000       10000            36 months 13.49   \n",
       "5 1075358 1311748    3000      3000        3000            60 months 12.69   \n",
       "6 1075269 1311441    5000      5000        5000            36 months  7.90   \n",
       "  installment grade sub_grade ⋯ total_bal_il il_util open_rv_12m open_rv_24m\n",
       "1 162.87      B     B2        ⋯ NA           NA      NA          NA         \n",
       "2  59.83      C     C4        ⋯ NA           NA      NA          NA         \n",
       "3  84.33      C     C5        ⋯ NA           NA      NA          NA         \n",
       "4 339.31      C     C1        ⋯ NA           NA      NA          NA         \n",
       "5  67.79      B     B5        ⋯ NA           NA      NA          NA         \n",
       "6 156.46      A     A4        ⋯ NA           NA      NA          NA         \n",
       "  max_bal_bc all_util total_rev_hi_lim inq_fi total_cu_tl inq_last_12m\n",
       "1 NA         NA       NA               NA     NA          NA          \n",
       "2 NA         NA       NA               NA     NA          NA          \n",
       "3 NA         NA       NA               NA     NA          NA          \n",
       "4 NA         NA       NA               NA     NA          NA          \n",
       "5 NA         NA       NA               NA     NA          NA          \n",
       "6 NA         NA       NA               NA     NA          NA          "
      ]
     },
     "metadata": {},
     "output_type": "display_data"
    },
    {
     "data": {
      "text/html": [
       "<ol class=list-inline>\n",
       "\t<li>887379</li>\n",
       "\t<li>74</li>\n",
       "</ol>\n"
      ],
      "text/latex": [
       "\\begin{enumerate*}\n",
       "\\item 887379\n",
       "\\item 74\n",
       "\\end{enumerate*}\n"
      ],
      "text/markdown": [
       "1. 887379\n",
       "2. 74\n",
       "\n",
       "\n"
      ],
      "text/plain": [
       "[1] 887379     74"
      ]
     },
     "metadata": {},
     "output_type": "display_data"
    }
   ],
   "source": [
    "# load the data set\n",
    "data = read.csv('./data/loan.csv')\n",
    "# Q1 = read.csv('./data/LoanStats_2016Q1.csv')\n",
    "# Q2 = read.csv('./data/LoanStats_2016Q2.csv')\n",
    "# Q3 = read.csv('./data/LoanStats_2016Q3.csv')\n",
    "# Q4 = read.csv('./data/LoanStats_2016Q4.csv')\n",
    "\n",
    "# get brief information\n",
    "head(data)\n",
    "dim(data)"
   ]
  },
  {
   "cell_type": "code",
   "execution_count": 2,
   "metadata": {
    "collapsed": false
   },
   "outputs": [
    {
     "data": {
      "text/html": [
       "<table>\n",
       "<thead><tr><th></th><th scope=col></th><th scope=col>data.type</th></tr></thead>\n",
       "<tbody>\n",
       "\t<tr><th scope=row>annual_inc</th><td>4      </td><td>numeric</td></tr>\n",
       "\t<tr><th scope=row>delinq_2yrs</th><td>29     </td><td>numeric</td></tr>\n",
       "\t<tr><th scope=row>inq_last_6mths</th><td>29     </td><td>numeric</td></tr>\n",
       "\t<tr><th scope=row>mths_since_last_delinq</th><td>454312 </td><td>numeric</td></tr>\n",
       "\t<tr><th scope=row>mths_since_last_record</th><td>750326 </td><td>numeric</td></tr>\n",
       "\t<tr><th scope=row>open_acc</th><td>29     </td><td>numeric</td></tr>\n",
       "\t<tr><th scope=row>pub_rec</th><td>29     </td><td>numeric</td></tr>\n",
       "\t<tr><th scope=row>revol_util</th><td>502    </td><td>numeric</td></tr>\n",
       "\t<tr><th scope=row>total_acc</th><td>29     </td><td>numeric</td></tr>\n",
       "\t<tr><th scope=row>collections_12_mths_ex_med</th><td>145    </td><td>numeric</td></tr>\n",
       "\t<tr><th scope=row>mths_since_last_major_derog</th><td>665676 </td><td>numeric</td></tr>\n",
       "\t<tr><th scope=row>annual_inc_joint</th><td>886868 </td><td>numeric</td></tr>\n",
       "\t<tr><th scope=row>dti_joint</th><td>886870 </td><td>numeric</td></tr>\n",
       "\t<tr><th scope=row>acc_now_delinq</th><td>29     </td><td>numeric</td></tr>\n",
       "\t<tr><th scope=row>tot_coll_amt</th><td>70276  </td><td>numeric</td></tr>\n",
       "\t<tr><th scope=row>tot_cur_bal</th><td>70276  </td><td>numeric</td></tr>\n",
       "\t<tr><th scope=row>open_acc_6m</th><td>866007 </td><td>numeric</td></tr>\n",
       "\t<tr><th scope=row>open_il_6m</th><td>866007 </td><td>numeric</td></tr>\n",
       "\t<tr><th scope=row>open_il_12m</th><td>866007 </td><td>numeric</td></tr>\n",
       "\t<tr><th scope=row>open_il_24m</th><td>866007 </td><td>numeric</td></tr>\n",
       "\t<tr><th scope=row>mths_since_rcnt_il</th><td>866569 </td><td>numeric</td></tr>\n",
       "\t<tr><th scope=row>total_bal_il</th><td>866007 </td><td>numeric</td></tr>\n",
       "\t<tr><th scope=row>il_util</th><td>868762 </td><td>numeric</td></tr>\n",
       "\t<tr><th scope=row>open_rv_12m</th><td>866007 </td><td>numeric</td></tr>\n",
       "\t<tr><th scope=row>open_rv_24m</th><td>866007 </td><td>numeric</td></tr>\n",
       "\t<tr><th scope=row>max_bal_bc</th><td>866007 </td><td>numeric</td></tr>\n",
       "\t<tr><th scope=row>all_util</th><td>866007 </td><td>numeric</td></tr>\n",
       "\t<tr><th scope=row>total_rev_hi_lim</th><td>70276  </td><td>numeric</td></tr>\n",
       "\t<tr><th scope=row>inq_fi</th><td>866007 </td><td>numeric</td></tr>\n",
       "\t<tr><th scope=row>total_cu_tl</th><td>866007 </td><td>numeric</td></tr>\n",
       "\t<tr><th scope=row>inq_last_12m</th><td>866007 </td><td>numeric</td></tr>\n",
       "</tbody>\n",
       "</table>\n"
      ],
      "text/latex": [
       "\\begin{tabular}{r|ll}\n",
       "  &  & data.type\\\\\n",
       "\\hline\n",
       "\tannual\\_inc & 4       & numeric\\\\\n",
       "\tdelinq\\_2yrs & 29      & numeric\\\\\n",
       "\tinq\\_last\\_6mths & 29      & numeric\\\\\n",
       "\tmths\\_since\\_last\\_delinq & 454312  & numeric\\\\\n",
       "\tmths\\_since\\_last\\_record & 750326  & numeric\\\\\n",
       "\topen\\_acc & 29      & numeric\\\\\n",
       "\tpub\\_rec & 29      & numeric\\\\\n",
       "\trevol\\_util & 502     & numeric\\\\\n",
       "\ttotal\\_acc & 29      & numeric\\\\\n",
       "\tcollections\\_12\\_mths\\_ex\\_med & 145     & numeric\\\\\n",
       "\tmths\\_since\\_last\\_major\\_derog & 665676  & numeric\\\\\n",
       "\tannual\\_inc\\_joint & 886868  & numeric\\\\\n",
       "\tdti\\_joint & 886870  & numeric\\\\\n",
       "\tacc\\_now\\_delinq & 29      & numeric\\\\\n",
       "\ttot\\_coll\\_amt & 70276   & numeric\\\\\n",
       "\ttot\\_cur\\_bal & 70276   & numeric\\\\\n",
       "\topen\\_acc\\_6m & 866007  & numeric\\\\\n",
       "\topen\\_il\\_6m & 866007  & numeric\\\\\n",
       "\topen\\_il\\_12m & 866007  & numeric\\\\\n",
       "\topen\\_il\\_24m & 866007  & numeric\\\\\n",
       "\tmths\\_since\\_rcnt\\_il & 866569  & numeric\\\\\n",
       "\ttotal\\_bal\\_il & 866007  & numeric\\\\\n",
       "\til\\_util & 868762  & numeric\\\\\n",
       "\topen\\_rv\\_12m & 866007  & numeric\\\\\n",
       "\topen\\_rv\\_24m & 866007  & numeric\\\\\n",
       "\tmax\\_bal\\_bc & 866007  & numeric\\\\\n",
       "\tall\\_util & 866007  & numeric\\\\\n",
       "\ttotal\\_rev\\_hi\\_lim & 70276   & numeric\\\\\n",
       "\tinq\\_fi & 866007  & numeric\\\\\n",
       "\ttotal\\_cu\\_tl & 866007  & numeric\\\\\n",
       "\tinq\\_last\\_12m & 866007  & numeric\\\\\n",
       "\\end{tabular}\n"
      ],
      "text/markdown": [
       "\n",
       "| <!--/--> |  | data.type | \n",
       "|---|---|---|---|---|---|---|---|---|---|---|---|---|---|---|---|---|---|---|---|---|---|---|---|---|---|---|---|---|---|---|\n",
       "| annual_inc | 4       | numeric | \n",
       "| delinq_2yrs | 29      | numeric | \n",
       "| inq_last_6mths | 29      | numeric | \n",
       "| mths_since_last_delinq | 454312  | numeric | \n",
       "| mths_since_last_record | 750326  | numeric | \n",
       "| open_acc | 29      | numeric | \n",
       "| pub_rec | 29      | numeric | \n",
       "| revol_util | 502     | numeric | \n",
       "| total_acc | 29      | numeric | \n",
       "| collections_12_mths_ex_med | 145     | numeric | \n",
       "| mths_since_last_major_derog | 665676  | numeric | \n",
       "| annual_inc_joint | 886868  | numeric | \n",
       "| dti_joint | 886870  | numeric | \n",
       "| acc_now_delinq | 29      | numeric | \n",
       "| tot_coll_amt | 70276   | numeric | \n",
       "| tot_cur_bal | 70276   | numeric | \n",
       "| open_acc_6m | 866007  | numeric | \n",
       "| open_il_6m | 866007  | numeric | \n",
       "| open_il_12m | 866007  | numeric | \n",
       "| open_il_24m | 866007  | numeric | \n",
       "| mths_since_rcnt_il | 866569  | numeric | \n",
       "| total_bal_il | 866007  | numeric | \n",
       "| il_util | 868762  | numeric | \n",
       "| open_rv_12m | 866007  | numeric | \n",
       "| open_rv_24m | 866007  | numeric | \n",
       "| max_bal_bc | 866007  | numeric | \n",
       "| all_util | 866007  | numeric | \n",
       "| total_rev_hi_lim | 70276   | numeric | \n",
       "| inq_fi | 866007  | numeric | \n",
       "| total_cu_tl | 866007  | numeric | \n",
       "| inq_last_12m | 866007  | numeric | \n",
       "\n",
       "\n"
      ],
      "text/plain": [
       "                                   data.type\n",
       "annual_inc                  4      numeric  \n",
       "delinq_2yrs                 29     numeric  \n",
       "inq_last_6mths              29     numeric  \n",
       "mths_since_last_delinq      454312 numeric  \n",
       "mths_since_last_record      750326 numeric  \n",
       "open_acc                    29     numeric  \n",
       "pub_rec                     29     numeric  \n",
       "revol_util                  502    numeric  \n",
       "total_acc                   29     numeric  \n",
       "collections_12_mths_ex_med  145    numeric  \n",
       "mths_since_last_major_derog 665676 numeric  \n",
       "annual_inc_joint            886868 numeric  \n",
       "dti_joint                   886870 numeric  \n",
       "acc_now_delinq              29     numeric  \n",
       "tot_coll_amt                70276  numeric  \n",
       "tot_cur_bal                 70276  numeric  \n",
       "open_acc_6m                 866007 numeric  \n",
       "open_il_6m                  866007 numeric  \n",
       "open_il_12m                 866007 numeric  \n",
       "open_il_24m                 866007 numeric  \n",
       "mths_since_rcnt_il          866569 numeric  \n",
       "total_bal_il                866007 numeric  \n",
       "il_util                     868762 numeric  \n",
       "open_rv_12m                 866007 numeric  \n",
       "open_rv_24m                 866007 numeric  \n",
       "max_bal_bc                  866007 numeric  \n",
       "all_util                    866007 numeric  \n",
       "total_rev_hi_lim            70276  numeric  \n",
       "inq_fi                      866007 numeric  \n",
       "total_cu_tl                 866007 numeric  \n",
       "inq_last_12m                866007 numeric  "
      ]
     },
     "metadata": {},
     "output_type": "display_data"
    }
   ],
   "source": [
    "# compute the number of missing values in each column\n",
    "num.NA = colSums(apply(data, 2, is.na))\n",
    "data.type = sapply(data[, names(which(num.NA != 0))], class)\n",
    "cbind(num.NA[num.NA > 0], data.type)"
   ]
  },
  {
   "cell_type": "code",
   "execution_count": 3,
   "metadata": {
    "collapsed": false
   },
   "outputs": [
    {
     "data": {
      "text/html": [
       "<ol class=list-inline>\n",
       "\t<li>887379</li>\n",
       "\t<li>55</li>\n",
       "</ol>\n"
      ],
      "text/latex": [
       "\\begin{enumerate*}\n",
       "\\item 887379\n",
       "\\item 55\n",
       "\\end{enumerate*}\n"
      ],
      "text/markdown": [
       "1. 887379\n",
       "2. 55\n",
       "\n",
       "\n"
      ],
      "text/plain": [
       "[1] 887379     55"
      ]
     },
     "metadata": {},
     "output_type": "display_data"
    }
   ],
   "source": [
    "# drop useless columns\n",
    "drop.names = c(\"mths_since_last_delinq\", \"mths_since_last_record\", \"mths_since_last_major_derog\", \n",
    "               \"annual_inc_joint\", \"dti_joint\", \"open_acc_6m\", \"open_il_6m\", \"open_il_12m\", \n",
    "               \"open_il_24m\", \"mths_since_rcnt_il\", \"total_bal_il\", \"il_util\", \"open_rv_12m\", \n",
    "               \"open_rv_24m\", \"max_bal_bc\", \"all_util\", \"inq_fi\", \"total_cu_tl\", \"inq_last_12m\")\n",
    "data = data[, !(names(data) %in% drop.names)]\n",
    "dim(data)"
   ]
  },
  {
   "cell_type": "code",
   "execution_count": 4,
   "metadata": {
    "collapsed": false
   },
   "outputs": [
    {
     "data": {
      "text/html": [
       "<table>\n",
       "<thead><tr><th></th><th scope=col></th><th scope=col>data.type</th></tr></thead>\n",
       "<tbody>\n",
       "\t<tr><th scope=row>annual_inc</th><td>4      </td><td>numeric</td></tr>\n",
       "\t<tr><th scope=row>delinq_2yrs</th><td>29     </td><td>numeric</td></tr>\n",
       "\t<tr><th scope=row>inq_last_6mths</th><td>29     </td><td>numeric</td></tr>\n",
       "\t<tr><th scope=row>open_acc</th><td>29     </td><td>numeric</td></tr>\n",
       "\t<tr><th scope=row>pub_rec</th><td>29     </td><td>numeric</td></tr>\n",
       "\t<tr><th scope=row>revol_util</th><td>502    </td><td>numeric</td></tr>\n",
       "\t<tr><th scope=row>total_acc</th><td>29     </td><td>numeric</td></tr>\n",
       "\t<tr><th scope=row>collections_12_mths_ex_med</th><td>145    </td><td>numeric</td></tr>\n",
       "\t<tr><th scope=row>acc_now_delinq</th><td>29     </td><td>numeric</td></tr>\n",
       "\t<tr><th scope=row>tot_coll_amt</th><td>70276  </td><td>numeric</td></tr>\n",
       "\t<tr><th scope=row>tot_cur_bal</th><td>70276  </td><td>numeric</td></tr>\n",
       "\t<tr><th scope=row>total_rev_hi_lim</th><td>70276  </td><td>numeric</td></tr>\n",
       "</tbody>\n",
       "</table>\n"
      ],
      "text/latex": [
       "\\begin{tabular}{r|ll}\n",
       "  &  & data.type\\\\\n",
       "\\hline\n",
       "\tannual\\_inc & 4       & numeric\\\\\n",
       "\tdelinq\\_2yrs & 29      & numeric\\\\\n",
       "\tinq\\_last\\_6mths & 29      & numeric\\\\\n",
       "\topen\\_acc & 29      & numeric\\\\\n",
       "\tpub\\_rec & 29      & numeric\\\\\n",
       "\trevol\\_util & 502     & numeric\\\\\n",
       "\ttotal\\_acc & 29      & numeric\\\\\n",
       "\tcollections\\_12\\_mths\\_ex\\_med & 145     & numeric\\\\\n",
       "\tacc\\_now\\_delinq & 29      & numeric\\\\\n",
       "\ttot\\_coll\\_amt & 70276   & numeric\\\\\n",
       "\ttot\\_cur\\_bal & 70276   & numeric\\\\\n",
       "\ttotal\\_rev\\_hi\\_lim & 70276   & numeric\\\\\n",
       "\\end{tabular}\n"
      ],
      "text/markdown": [
       "\n",
       "| <!--/--> |  | data.type | \n",
       "|---|---|---|---|---|---|---|---|---|---|---|---|\n",
       "| annual_inc | 4       | numeric | \n",
       "| delinq_2yrs | 29      | numeric | \n",
       "| inq_last_6mths | 29      | numeric | \n",
       "| open_acc | 29      | numeric | \n",
       "| pub_rec | 29      | numeric | \n",
       "| revol_util | 502     | numeric | \n",
       "| total_acc | 29      | numeric | \n",
       "| collections_12_mths_ex_med | 145     | numeric | \n",
       "| acc_now_delinq | 29      | numeric | \n",
       "| tot_coll_amt | 70276   | numeric | \n",
       "| tot_cur_bal | 70276   | numeric | \n",
       "| total_rev_hi_lim | 70276   | numeric | \n",
       "\n",
       "\n"
      ],
      "text/plain": [
       "                                 data.type\n",
       "annual_inc                 4     numeric  \n",
       "delinq_2yrs                29    numeric  \n",
       "inq_last_6mths             29    numeric  \n",
       "open_acc                   29    numeric  \n",
       "pub_rec                    29    numeric  \n",
       "revol_util                 502   numeric  \n",
       "total_acc                  29    numeric  \n",
       "collections_12_mths_ex_med 145   numeric  \n",
       "acc_now_delinq             29    numeric  \n",
       "tot_coll_amt               70276 numeric  \n",
       "tot_cur_bal                70276 numeric  \n",
       "total_rev_hi_lim           70276 numeric  "
      ]
     },
     "metadata": {},
     "output_type": "display_data"
    }
   ],
   "source": [
    "# compute the number of missing values in each column\n",
    "num.NA = colSums(apply(data, 2, is.na))\n",
    "data.type = sapply(data[, names(which(num.NA != 0))], class)\n",
    "cbind(num.NA[num.NA > 0], data.type)"
   ]
  },
  {
   "cell_type": "code",
   "execution_count": null,
   "metadata": {
    "collapsed": true
   },
   "outputs": [],
   "source": []
  }
 ],
 "metadata": {
  "kernelspec": {
   "display_name": "R",
   "language": "R",
   "name": "ir"
  },
  "language_info": {
   "codemirror_mode": "r",
   "file_extension": ".r",
   "mimetype": "text/x-r-source",
   "name": "R",
   "pygments_lexer": "r",
   "version": "3.3.2"
  }
 },
 "nbformat": 4,
 "nbformat_minor": 2
}
