{
 "cells": [
  {
   "cell_type": "code",
   "execution_count": 1,
   "metadata": {
    "collapsed": false
   },
   "outputs": [
    {
     "name": "stderr",
     "output_type": "stream",
     "text": [
      "Loading required package: dummies\n",
      "dummies-1.5.6 provided by Decision Patterns\n",
      "\n",
      "Loading required package: DAAG\n",
      "Loading required package: lattice\n",
      "Loading required package: xgboost\n",
      "Loading required package: randomForest\n",
      "randomForest 4.6-12\n",
      "Type rfNews() to see new features/changes/bug fixes.\n",
      "Loading required package: gbm\n",
      "Loading required package: survival\n",
      "\n",
      "Attaching package: ‘survival’\n",
      "\n",
      "The following object is masked from ‘package:DAAG’:\n",
      "\n",
      "    lung\n",
      "\n",
      "Loading required package: splines\n",
      "Loading required package: parallel\n",
      "Loaded gbm 2.1.1\n",
      "Loading required package: glmnet\n",
      "Loading required package: Matrix\n",
      "Loading required package: foreach\n",
      "Loaded glmnet 2.0-5\n",
      "\n"
     ]
    }
   ],
   "source": [
    "all.start.time = Sys.time()\n",
    "options(warn=-1)\n",
    "\n",
    "# import required library\n",
    "if (!require(dummies)) {\n",
    "    install.packages(\"dummies\")\n",
    "}\n",
    "if (!require(DAAG)) {\n",
    "    install.packages(\"DAAG\")\n",
    "}\n",
    "if (!require(xgboost)) {\n",
    "    install.packages(\"xgboost\")\n",
    "}\n",
    "if (!require(randomForest)) {\n",
    "    install.packages(\"randomForest\")\n",
    "}\n",
    "if (!require(gbm)) {\n",
    "    install.packages(\"gbm\")\n",
    "}\n",
    "if (!require(glmnet)) {\n",
    "    install.packages(\"glmnet\")\n",
    "}\n",
    "library(xgboost)       # XGBoost model\n",
    "library(randomForest)  # Random Forest model\n",
    "library(gbm)           # GBM model\n",
    "library(dummies)       # Dummy variable\n",
    "library(DAAG)          # Cross-Validation\n",
    "library(glmnet)        # Logistic regression with Lasso"
   ]
  },
  {
   "cell_type": "code",
   "execution_count": 5,
   "metadata": {
    "collapsed": true
   },
   "outputs": [],
   "source": [
    "#######################################################\n",
    "# temporarily code\n",
    "# load the data set\n",
    "data = read.csv('./data/loan.csv')\n",
    "tmp = read.csv('./data/2016AllData.csv')\n",
    "\n",
    "# change factor into numeric\n",
    "tmp$int_rate = as.numeric(sub(\"%\", \"\", tmp$int_rate))\n",
    "tmp$revol_util = as.numeric(sub(\"%\", \"\", tmp$revol_util))\n",
    "\n",
    "# merge together\n",
    "data = rbind(data, tmp)\n",
    "rm(tmp)\n",
    "\n",
    "# random sample 75% as training and 25% as test set\n",
    "set.seed(100)\n",
    "idx = sample(1:nrow(data), floor(nrow(data) * 0.75), replace=FALSE)\n",
    "train = data[idx, ]\n",
    "test = data[-idx, ]\n",
    "\n",
    "# change the loan status\n",
    "default.y = c('Default', 'Charged Off', 'Late (31-120 days)', 'Late (16-30 days)', \n",
    "              'Does not meet the credit policy. Status:Charged Off')\n",
    "test.y = ifelse(test$loan_status %in% default.y, 1, 0)\n",
    "test = test[, names(test) != \"loan_status\"]\n",
    "\n",
    "rm(data)"
   ]
  },
  {
   "cell_type": "code",
   "execution_count": 9,
   "metadata": {
    "collapsed": false
   },
   "outputs": [],
   "source": [
    "# # -----------------------------------------------------------\n",
    "# # load the data set\n",
    "# train = read.csv('./train.csv')\n",
    "# test = read.csv('./test.csv')\n",
    "\n",
    "# the ID as the first column\n",
    "TEST_predict = data.frame(test[, \"id\"])  \n",
    "# the SalePrice was set to 0.0 initially\n",
    "TEST_predict['prob'] = matrix(rep(0.0, nrow(test))) \n",
    "# reset the column names of final results\n",
    "colnames(TEST_predict) = c(\"id\", \"prob\")  "
   ]
  },
  {
   "cell_type": "code",
   "execution_count": 10,
   "metadata": {
    "collapsed": true
   },
   "outputs": [],
   "source": [
    "# -----------------------------------------------------------\n",
    "# Pre-processing and feature selection\n",
    "\n",
    "# change the loan status\n",
    "default.y = c('Default', 'Charged Off', 'Late (31-120 days)', 'Late (16-30 days)', \n",
    "              'Does not meet the credit policy. Status:Charged Off')\n",
    "train.y = ifelse(train$loan_status %in% default.y, 1, 0)\n",
    "\n",
    "# -----------------------------------------------------------\n",
    "# drop columns that have too many missing values\n",
    "drop.names = c(\"mths_since_last_delinq\", \"mths_since_last_record\", \"mths_since_last_major_derog\", \n",
    "               \"annual_inc_joint\", \"dti_joint\", \"open_acc_6m\", \"open_il_6m\", \"open_il_12m\", \n",
    "               \"open_il_24m\", \"mths_since_rcnt_il\", \"total_bal_il\", \"il_util\", \"open_rv_12m\", \n",
    "               \"open_rv_24m\", \"max_bal_bc\", \"all_util\", \"inq_fi\", \"total_cu_tl\", \"inq_last_12m\")\n",
    "train = train[, !(names(train) %in% drop.names)]\n",
    "test = test[, !(names(test) %in% drop.names)]\n",
    "\n",
    "# Transform categorical feature into numerical feature\n",
    "train$sub_grade = as.numeric(train$sub_grade)\n",
    "test$sub_grade = as.numeric(test$sub_grade)\n",
    "\n",
    "# -----------------------------------------------------------\n",
    "# Drop useless features\n",
    "# drop useless categorical features\n",
    "drop.names = c(\"emp_title\", \"issue_d\", \"pymnt_plan\", \"url\", \"desc\", \"title\", \"zip_code\", \"addr_state\", \n",
    "               \"earliest_cr_line\", \"last_pymnt_d\", \"next_pymnt_d\", \"last_credit_pull_d\", \"application_type\", \n",
    "               \"verification_status_joint\", \"grade\")\n",
    "train = train[, !(names(train) %in% drop.names)]\n",
    "test = test[, !(names(test) %in% drop.names)]\n",
    "\n",
    "# drop useless numerical features\n",
    "drop.names = c(\"id\", \"member_id\", \"policy_code\")\n",
    "train = train[, !(names(train) %in% drop.names)]\n",
    "test = test[, !(names(test) %in% drop.names)]\n",
    "\n",
    "# -----------------------------------------------------------\n",
    "# Data Structures\n",
    "# find all categorical and numerical variables\n",
    "data.type = sapply(test, class)\n",
    "cat.var = names(test)[which(data.type == 'factor')]\n",
    "num.var = names(test)[which((data.type == 'integer') | (data.type == 'numeric'))]\n",
    "\n",
    "# -----------------------------------------------------------\n",
    "# Fill NA values\n",
    "# create new feature named \"NA\" for categorical variables\n",
    "for (i in cat.var) {\n",
    "    train[, i] = addNA(train[, i])\n",
    "    test[, i] = addNA(test[, i])\n",
    "}\n",
    "\n",
    "# create new feature using the median value for numerical variables\n",
    "for (i in num.var) {\n",
    "    na.id = is.na(train[, i])\n",
    "    tmp.median = median(train[, i], na.rm=TRUE)\n",
    "    train[which(na.id), i] = tmp.median\n",
    "    \n",
    "    na.id = is.na(test[, i])\n",
    "    test[which(na.id), i] = tmp.median\n",
    "}"
   ]
  },
  {
   "cell_type": "code",
   "execution_count": 11,
   "metadata": {
    "collapsed": false
   },
   "outputs": [
    {
     "data": {
      "text/html": [
       "<table>\n",
       "<thead><tr><th></th><th scope=col>used</th><th scope=col>(Mb)</th><th scope=col>gc trigger</th><th scope=col>(Mb)</th><th scope=col>max used</th><th scope=col>(Mb)</th></tr></thead>\n",
       "<tbody>\n",
       "\t<tr><th scope=row>Ncells</th><td>  2367939</td><td>126.5    </td><td>  6379917</td><td> 340.8   </td><td>  5746875</td><td> 307.0   </td></tr>\n",
       "\t<tr><th scope=row>Vcells</th><td>102014641</td><td>778.4    </td><td>192230058</td><td>1466.6   </td><td>240238291</td><td>1832.9   </td></tr>\n",
       "</tbody>\n",
       "</table>\n"
      ],
      "text/latex": [
       "\\begin{tabular}{r|llllll}\n",
       "  & used & (Mb) & gc trigger & (Mb) & max used & (Mb)\\\\\n",
       "\\hline\n",
       "\tNcells &   2367939 & 126.5     &   6379917 &  340.8    &   5746875 &  307.0   \\\\\n",
       "\tVcells & 102014641 & 778.4     & 192230058 & 1466.6    & 240238291 & 1832.9   \\\\\n",
       "\\end{tabular}\n"
      ],
      "text/markdown": [
       "\n",
       "| <!--/--> | used | (Mb) | gc trigger | (Mb) | max used | (Mb) | \n",
       "|---|---|\n",
       "| Ncells |   2367939 | 126.5     |   6379917 |  340.8    |   5746875 |  307.0    | \n",
       "| Vcells | 102014641 | 778.4     | 192230058 | 1466.6    | 240238291 | 1832.9    | \n",
       "\n",
       "\n"
      ],
      "text/plain": [
       "       used      (Mb)  gc trigger (Mb)   max used  (Mb)  \n",
       "Ncells   2367939 126.5   6379917   340.8   5746875  307.0\n",
       "Vcells 102014641 778.4 192230058  1466.6 240238291 1832.9"
      ]
     },
     "metadata": {},
     "output_type": "display_data"
    }
   ],
   "source": [
    "# -----------------------------------------------------------\n",
    "# Skewness\n",
    "skew = c('installment', 'annual_inc', 'dti', 'revol_bal', 'total_acc', 'out_prncp', 'out_prncp_inv', \n",
    "         'total_pymnt', 'total_pymnt_inv', 'total_rec_prncp', 'total_rec_int', 'total_rec_late_fee', \n",
    "         'recoveries', 'collection_recovery_fee', 'last_pymnt_amnt', 'tot_coll_amt', 'tot_cur_bal',\n",
    "         'total_rev_hi_lim')\n",
    "\n",
    "for (i in skew){\n",
    "    train[, i] = log(train[, i] + 2)\n",
    "    test[, i] = log(test[, i] + 2)\n",
    "}\n",
    "\n",
    "# -----------------------------------------------------------\n",
    "# Dummy Variables\n",
    "data = rbind(train[, names(test)], test)\n",
    "\n",
    "# save memory\n",
    "rm(train, test)\n",
    "\n",
    "# create dummy variables\n",
    "dummy.var = data.frame(dummy.data.frame(data[, cat.var], sep='.'))\n",
    "data = cbind(data, dummy.var)\n",
    "\n",
    "# drop original categorical variables\n",
    "data = data[ , !(names(data) %in% cat.var)]\n",
    "\n",
    "# split into train and test data set\n",
    "train = data[1: length(train.y), ]\n",
    "test = data[(length(train.y) + 1): nrow(data), ]\n",
    "train['loan_status'] = train.y\n",
    "\n",
    "# save memory\n",
    "rm(data)\n",
    "gc()"
   ]
  },
  {
   "cell_type": "code",
   "execution_count": 15,
   "metadata": {
    "collapsed": true
   },
   "outputs": [],
   "source": [
    "scale = function(score) {\n",
    "    # function to scale the score\n",
    "    score[which(score < 1e-15)] = 1e-15\n",
    "    score[which(score > 1 - 1e-15)] = 1 - 1e-15\n",
    "    score\n",
    "}"
   ]
  },
  {
   "cell_type": "markdown",
   "metadata": {},
   "source": [
    "# Logistic Model"
   ]
  },
  {
   "cell_type": "code",
   "execution_count": 16,
   "metadata": {
    "collapsed": false
   },
   "outputs": [
    {
     "name": "stdout",
     "output_type": "stream",
     "text": [
      "Logistic Regression Model\n",
      "Start time:\t 2017-04-03 19:51:16 \n",
      "End time:\t 2017-04-03 19:54:57 \n",
      "Total time:\t 3.687508 \n"
     ]
    }
   ],
   "source": [
    "start.time = Sys.time()  # get time information\n",
    "\n",
    "# fit the logistic model\n",
    "log.model = glm(loan_status ~ ., data=train, family=binomial)\n",
    "\n",
    "end.time = Sys.time()\n",
    "cat(\"Logistic Regression Model\\n\")\n",
    "cat('Start time:\\t', as.character(start.time), '\\n')\n",
    "cat('End time:\\t', as.character(end.time), '\\n')\n",
    "cat('Total time:\\t', end.time - start.time, '\\n')"
   ]
  },
  {
   "cell_type": "code",
   "execution_count": 17,
   "metadata": {
    "collapsed": true
   },
   "outputs": [],
   "source": [
    "# calculate log-loss\n",
    "test.y.hat = predict(log.model, test, type=\"response\")\n",
    "test.y.hat = scale(test.y.hat)\n",
    "\n",
    "# # make submission file\n",
    "# TEST_predict$prob = test.y.hat\n",
    "# write.table(TEST_predict, './mysubmission1.txt', row.names=FALSE, sep=',')"
   ]
  },
  {
   "cell_type": "code",
   "execution_count": 18,
   "metadata": {
    "collapsed": false
   },
   "outputs": [
    {
     "name": "stdout",
     "output_type": "stream",
     "text": [
      "train loss\t 0.07209893 \n",
      "test loss\t 0.06931732 \n"
     ]
    }
   ],
   "source": [
    "#######################################################\n",
    "# temporarily code\n",
    "train.y.hat = predict(log.model, train, type=\"response\")\n",
    "train.y.hat = scale(train.y.hat)\n",
    "\n",
    "train.y = train$loan_status\n",
    "\n",
    "train.loss = -sum(train.y * log(train.y.hat)) / length(train.y)\n",
    "test.loss = -sum(test.y * log(test.y.hat)) / length(test.y)\n",
    "\n",
    "cat('train loss\\t', train.loss, '\\n')\n",
    "cat('test loss\\t', test.loss, '\\n')"
   ]
  },
  {
   "cell_type": "markdown",
   "metadata": {},
   "source": [
    "# GBM"
   ]
  },
  {
   "cell_type": "code",
   "execution_count": 19,
   "metadata": {
    "collapsed": false
   },
   "outputs": [
    {
     "data": {
      "text/html": [
       "999"
      ],
      "text/latex": [
       "999"
      ],
      "text/markdown": [
       "999"
      ],
      "text/plain": [
       "[1] 999"
      ]
     },
     "metadata": {},
     "output_type": "display_data"
    },
    {
     "name": "stdout",
     "output_type": "stream",
     "text": [
      "GBM Model\n",
      "Start time:\t 2017-04-03 19:55:46 \n",
      "End time:\t 2017-04-03 22:19:14 \n",
      "Total time:\t 2.391119 \n"
     ]
    },
    {
     "data": {
      "image/png": "[encoded data removed]",
      "text/plain": [
       "plot without title"
      ]
     },
     "metadata": {},
     "output_type": "display_data"
    }
   ],
   "source": [
    "start.time = Sys.time()  # get time information\n",
    "\n",
    "# build the adaboost model\n",
    "ada.boost = gbm(loan_status ~ ., data=train, distribution=\"adaboost\", n.trees=1000, \n",
    "                shrinkage=0.8, bag.fraction=1, cv.folds=5, n.cores=8)\n",
    "gbm.perf(ada.boost, method='cv', plot.it=T)  # estimating the best iterations\n",
    "\n",
    "end.time = Sys.time()\n",
    "cat(\"GBM Model\\n\")\n",
    "cat('Start time:\\t', as.character(start.time), '\\n')\n",
    "cat('End time:\\t', as.character(end.time), '\\n')\n",
    "cat('Total time:\\t', end.time - start.time, '\\n')"
   ]
  },
  {
   "cell_type": "code",
   "execution_count": 20,
   "metadata": {
    "collapsed": false
   },
   "outputs": [
    {
     "name": "stdout",
     "output_type": "stream",
     "text": [
      "Using 999 trees...\n"
     ]
    }
   ],
   "source": [
    "# calculate log-loss\n",
    "test.y.hat = predict(ada.boost, test, type=\"response\")\n",
    "test.y.hat = scale(test.y.hat)\n",
    "\n",
    "# # make submission file\n",
    "# TEST_predict$prob = test.y.hat\n",
    "# write.table(TEST_predict, './mysubmission1.txt', row.names=FALSE, sep=',')"
   ]
  },
  {
   "cell_type": "code",
   "execution_count": 21,
   "metadata": {
    "collapsed": false
   },
   "outputs": [
    {
     "name": "stdout",
     "output_type": "stream",
     "text": [
      "Using 999 trees...\n",
      "train loss\t 0.06774646 \n",
      "test loss\t 0.06593512 \n"
     ]
    }
   ],
   "source": [
    "#######################################################\n",
    "# temporarily code\n",
    "train.y.hat = predict(ada.boost, train, type=\"response\")\n",
    "train.y.hat = scale(train.y.hat)\n",
    "\n",
    "train.y = train$loan_status\n",
    "\n",
    "train.loss = -sum(train.y * log(train.y.hat)) / length(train.y)\n",
    "test.loss = -sum(test.y * log(test.y.hat)) / length(test.y)\n",
    "\n",
    "cat('train loss\\t', train.loss, '\\n')\n",
    "cat('test loss\\t', test.loss, '\\n')"
   ]
  },
  {
   "cell_type": "markdown",
   "metadata": {},
   "source": [
    "# Random Forest"
   ]
  },
  {
   "cell_type": "code",
   "execution_count": 22,
   "metadata": {
    "collapsed": false
   },
   "outputs": [
    {
     "name": "stdout",
     "output_type": "stream",
     "text": [
      "Random Forest Model\n",
      "Start time:\t 2017-04-03 22:21:02 \n",
      "End time:\t 2017-04-04 00:47:46 \n",
      "Total time:\t 2.445538 \n"
     ]
    }
   ],
   "source": [
    "start.time = Sys.time()  # get time information\n",
    "\n",
    "# build the random forest model\n",
    "rf.model = randomForest(as.factor(loan_status) ~ ., data=train, ntree=200, importance=T, \n",
    "                        strata=as.factor(train$loan_status), sampsize=c(100, 100))\n",
    "\n",
    "end.time = Sys.time()\n",
    "cat(\"Random Forest Model\\n\")\n",
    "cat('Start time:\\t', as.character(start.time), '\\n')\n",
    "cat('End time:\\t', as.character(end.time), '\\n')\n",
    "cat('Total time:\\t', end.time - start.time, '\\n')"
   ]
  },
  {
   "cell_type": "code",
   "execution_count": 23,
   "metadata": {
    "collapsed": false
   },
   "outputs": [
    {
     "data": {
      "image/png": "[encoded data removed]",
      "text/plain": [
       "plot without title"
      ]
     },
     "metadata": {},
     "output_type": "display_data"
    }
   ],
   "source": [
    "# plot the error rate\n",
    "tmp = rf.model$err.rate\n",
    "plot(c(0, rf.model$ntree), range(tmp), type=\"n\",\n",
    "     xlab = \"Number of trees\", ylab=\"Error\")\n",
    "lines(tmp[,1], col=\"black\")\n",
    "lines(tmp[,2], col=\"red\")\n",
    "lines(tmp[,3], col=\"green\")"
   ]
  },
  {
   "cell_type": "code",
   "execution_count": 24,
   "metadata": {
    "collapsed": true
   },
   "outputs": [],
   "source": [
    "# calculate log-loss\n",
    "test.y.hat = predict(rf.model, test, type=\"prob\")[, 2]\n",
    "test.y.hat = scale(test.y.hat)\n",
    "\n",
    "# # make submission file\n",
    "# TEST_predict$prob = test.y.hat\n",
    "# write.table(TEST_predict, './mysubmission1.txt', row.names=FALSE, sep=',')"
   ]
  },
  {
   "cell_type": "code",
   "execution_count": 25,
   "metadata": {
    "collapsed": false
   },
   "outputs": [
    {
     "name": "stdout",
     "output_type": "stream",
     "text": [
      "train loss\t 0.008309888 \n",
      "test loss\t 0.1026322 \n"
     ]
    }
   ],
   "source": [
    "#######################################################\n",
    "# temporarily code\n",
    "train.y.hat = predict(rf.model, train, type=\"prob\")[, 2]\n",
    "train.y.hat = scale(train.y.hat)\n",
    "\n",
    "train.y = train$loan_status\n",
    "\n",
    "train.loss = -sum(train.y * log(train.y.hat)) / length(train.y)\n",
    "test.loss = -sum(test.y * log(test.y.hat)) / length(test.y)\n",
    "\n",
    "cat('train loss\\t', train.loss, '\\n')\n",
    "cat('test loss\\t', test.loss, '\\n')"
   ]
  },
  {
   "cell_type": "markdown",
   "metadata": {},
   "source": [
    "# XGBoost"
   ]
  },
  {
   "cell_type": "code",
   "execution_count": 35,
   "metadata": {
    "collapsed": false
   },
   "outputs": [],
   "source": [
    "train.m.y = train$loan_status\n",
    "train.m.x = train[, -which(names(train) == \"loan_status\")]\n",
    "train.m.x = apply(train.m.x, 2, as.numeric)\n",
    "\n",
    "test.m.x = test\n",
    "test.m.x = apply(test.m.x, 2, as.numeric)\n",
    "ratio = as.integer(length(which(train.y == 0)) / length(which(train.y == 1)))"
   ]
  },
  {
   "cell_type": "code",
   "execution_count": 27,
   "metadata": {
    "collapsed": false,
    "scrolled": false
   },
   "outputs": [
    {
     "name": "stdout",
     "output_type": "stream",
     "text": [
      "[1]\ttrain-logloss:0.345309+0.001932\ttest-logloss:0.345366+0.001906 \n",
      "Multiple eval metrics are present. Will use test_logloss for early stopping.\n",
      "Will train until test_logloss hasn't improved in 3 rounds.\n",
      "\n",
      "[2]\ttrain-logloss:0.218290+0.001854\ttest-logloss:0.218400+0.001839 \n",
      "[3]\ttrain-logloss:0.156802+0.001349\ttest-logloss:0.157009+0.001340 \n",
      "[4]\ttrain-logloss:0.123842+0.001029\ttest-logloss:0.124076+0.001124 \n",
      "[5]\ttrain-logloss:0.106165+0.000664\ttest-logloss:0.106458+0.000820 \n",
      "[6]\ttrain-logloss:0.096456+0.001296\ttest-logloss:0.096806+0.001441 \n",
      "[7]\ttrain-logloss:0.089158+0.000417\ttest-logloss:0.089598+0.000554 \n",
      "[8]\ttrain-logloss:0.086267+0.000422\ttest-logloss:0.086751+0.000563 \n",
      "[9]\ttrain-logloss:0.084614+0.000335\ttest-logloss:0.085209+0.000564 \n",
      "[10]\ttrain-logloss:0.083242+0.000496\ttest-logloss:0.083936+0.000734 \n",
      "[11]\ttrain-logloss:0.082288+0.000158\ttest-logloss:0.083081+0.000500 \n",
      "[12]\ttrain-logloss:0.081510+0.000248\ttest-logloss:0.082431+0.000358 \n",
      "[13]\ttrain-logloss:0.080554+0.000537\ttest-logloss:0.081601+0.000459 \n",
      "[14]\ttrain-logloss:0.079791+0.000403\ttest-logloss:0.081006+0.000568 \n",
      "[15]\ttrain-logloss:0.079355+0.000439\ttest-logloss:0.080768+0.000511 \n",
      "[16]\ttrain-logloss:0.079093+0.000387\ttest-logloss:0.080663+0.000518 \n",
      "[17]\ttrain-logloss:0.078774+0.000428\ttest-logloss:0.080454+0.000533 \n",
      "[18]\ttrain-logloss:0.078360+0.000351\ttest-logloss:0.080197+0.000493 \n",
      "[19]\ttrain-logloss:0.077965+0.000247\ttest-logloss:0.079935+0.000503 \n",
      "[20]\ttrain-logloss:0.077701+0.000205\ttest-logloss:0.079839+0.000538 \n",
      "[21]\ttrain-logloss:0.077476+0.000250\ttest-logloss:0.079758+0.000531 \n",
      "[22]\ttrain-logloss:0.077234+0.000225\ttest-logloss:0.079670+0.000577 \n",
      "[23]\ttrain-logloss:0.076911+0.000249\ttest-logloss:0.079512+0.000521 \n",
      "[24]\ttrain-logloss:0.076691+0.000260\ttest-logloss:0.079443+0.000522 \n",
      "[25]\ttrain-logloss:0.076439+0.000285\ttest-logloss:0.079357+0.000481 \n",
      "[26]\ttrain-logloss:0.076160+0.000170\ttest-logloss:0.079238+0.000423 \n",
      "[27]\ttrain-logloss:0.075926+0.000186\ttest-logloss:0.079182+0.000380 \n",
      "[28]\ttrain-logloss:0.075657+0.000170\ttest-logloss:0.079067+0.000395 \n",
      "[29]\ttrain-logloss:0.075370+0.000157\ttest-logloss:0.078942+0.000366 \n",
      "[30]\ttrain-logloss:0.075153+0.000143\ttest-logloss:0.078910+0.000372 \n",
      "[31]\ttrain-logloss:0.074944+0.000120\ttest-logloss:0.078830+0.000390 \n",
      "[32]\ttrain-logloss:0.074748+0.000097\ttest-logloss:0.078764+0.000411 \n",
      "[33]\ttrain-logloss:0.074469+0.000174\ttest-logloss:0.078644+0.000494 \n",
      "[34]\ttrain-logloss:0.074263+0.000214\ttest-logloss:0.078595+0.000512 \n",
      "[35]\ttrain-logloss:0.074081+0.000271\ttest-logloss:0.078530+0.000550 \n",
      "[36]\ttrain-logloss:0.073837+0.000261\ttest-logloss:0.078519+0.000547 \n",
      "[37]\ttrain-logloss:0.073647+0.000331\ttest-logloss:0.078508+0.000549 \n",
      "[38]\ttrain-logloss:0.073452+0.000331\ttest-logloss:0.078456+0.000523 \n",
      "[39]\ttrain-logloss:0.073261+0.000384\ttest-logloss:0.078429+0.000544 \n",
      "[40]\ttrain-logloss:0.073042+0.000438\ttest-logloss:0.078391+0.000568 \n",
      "[41]\ttrain-logloss:0.072808+0.000405\ttest-logloss:0.078358+0.000497 \n",
      "[42]\ttrain-logloss:0.072661+0.000381\ttest-logloss:0.078319+0.000515 \n",
      "[43]\ttrain-logloss:0.072506+0.000418\ttest-logloss:0.078292+0.000548 \n",
      "[44]\ttrain-logloss:0.072346+0.000428\ttest-logloss:0.078256+0.000535 \n",
      "[45]\ttrain-logloss:0.072235+0.000412\ttest-logloss:0.078275+0.000536 \n",
      "[46]\ttrain-logloss:0.072072+0.000434\ttest-logloss:0.078265+0.000536 \n",
      "[47]\ttrain-logloss:0.071875+0.000344\ttest-logloss:0.078251+0.000517 \n",
      "[48]\ttrain-logloss:0.071765+0.000307\ttest-logloss:0.078256+0.000516 \n",
      "[49]\ttrain-logloss:0.071613+0.000261\ttest-logloss:0.078222+0.000438 \n",
      "[50]\ttrain-logloss:0.071434+0.000211\ttest-logloss:0.078197+0.000422 \n",
      "[51]\ttrain-logloss:0.071232+0.000147\ttest-logloss:0.078155+0.000395 \n",
      "[52]\ttrain-logloss:0.071079+0.000146\ttest-logloss:0.078176+0.000359 \n",
      "[53]\ttrain-logloss:0.070928+0.000150\ttest-logloss:0.078159+0.000391 \n",
      "[54]\ttrain-logloss:0.070769+0.000146\ttest-logloss:0.078118+0.000397 \n",
      "[55]\ttrain-logloss:0.070644+0.000156\ttest-logloss:0.078139+0.000391 \n",
      "[56]\ttrain-logloss:0.070496+0.000214\ttest-logloss:0.078138+0.000398 \n",
      "[57]\ttrain-logloss:0.070323+0.000292\ttest-logloss:0.078086+0.000393 \n",
      "[58]\ttrain-logloss:0.070073+0.000326\ttest-logloss:0.078035+0.000420 \n",
      "[59]\ttrain-logloss:0.069923+0.000353\ttest-logloss:0.078002+0.000448 \n",
      "[60]\ttrain-logloss:0.069735+0.000352\ttest-logloss:0.077957+0.000462 \n",
      "[61]\ttrain-logloss:0.069543+0.000339\ttest-logloss:0.077894+0.000454 \n",
      "[62]\ttrain-logloss:0.069376+0.000435\ttest-logloss:0.077849+0.000509 \n",
      "[63]\ttrain-logloss:0.069211+0.000468\ttest-logloss:0.077859+0.000512 \n",
      "[64]\ttrain-logloss:0.069064+0.000476\ttest-logloss:0.077845+0.000482 \n",
      "[65]\ttrain-logloss:0.068935+0.000477\ttest-logloss:0.077834+0.000460 \n",
      "[66]\ttrain-logloss:0.068788+0.000488\ttest-logloss:0.077819+0.000484 \n",
      "[67]\ttrain-logloss:0.068667+0.000493\ttest-logloss:0.077833+0.000463 \n",
      "[68]\ttrain-logloss:0.068509+0.000471\ttest-logloss:0.077832+0.000467 \n",
      "[69]\ttrain-logloss:0.068319+0.000471\ttest-logloss:0.077856+0.000443 \n",
      "Stopping. Best iteration:\n",
      "[66]\ttrain-logloss:0.068788+0.000488\ttest-logloss:0.077819+0.000484\n",
      "\n",
      "XGBoost Model\n",
      "Start time:\t 2017-04-04 00:49:06 \n",
      "End time:\t 2017-04-04 02:01:03 \n",
      "Total time:\t 1.199225 \n"
     ]
    }
   ],
   "source": [
    "#######################################################\n",
    "# temporarily code\n",
    "\n",
    "start.time = Sys.time()  # get time information\n",
    "\n",
    "# build XGBoost model\n",
    "set.seed(2017)\n",
    "cv.dummy = xgb.cv(data=train.m.x, label=train.m.y, nfold=5, max.depth=6, eta=0.5, \n",
    "                  scale_pos_weight=ratio, nrounds=200, nthread=8, early.stop.round=3,\n",
    "                  verbose=T, objective=\"binary:logistic\", metrics=list(\"logloss\"))\n",
    "\n",
    "end.time = Sys.time()\n",
    "cat(\"XGBoost Model\\n\")\n",
    "cat('Start time:\\t', as.character(start.time), '\\n')\n",
    "cat('End time:\\t', as.character(end.time), '\\n')\n",
    "cat('Total time:\\t', end.time - start.time, '\\n')"
   ]
  },
  {
   "cell_type": "code",
   "execution_count": 28,
   "metadata": {
    "collapsed": false
   },
   "outputs": [
    {
     "name": "stdout",
     "output_type": "stream",
     "text": [
      "XGBoost Model\n",
      "Start time:\t 2017-04-04 02:01:04 \n",
      "End time:\t 2017-04-04 02:23:02 \n",
      "Total time:\t 21.97969 \n"
     ]
    }
   ],
   "source": [
    "# fit the model\n",
    "start.time = Sys.time()  # get time information\n",
    "\n",
    "bst = xgboost(data=train.m.x, label=train.m.y, max.depth=6, eta=0.5, nrounds=80, \n",
    "              scale_pos_weight=ratio, nthread=8, objective=\"binary:logistic\", verbose=F)\n",
    "\n",
    "end.time = Sys.time()\n",
    "cat(\"XGBoost Model\\n\")\n",
    "cat('Start time:\\t', as.character(start.time), '\\n')\n",
    "cat('End time:\\t', as.character(end.time), '\\n')\n",
    "cat('Total time:\\t', end.time - start.time, '\\n')"
   ]
  },
  {
   "cell_type": "code",
   "execution_count": 39,
   "metadata": {
    "collapsed": false
   },
   "outputs": [],
   "source": [
    "# calculate log-loss\n",
    "test.y.hat = predict(bst, test.m.x)\n",
    "test.y.hat = scale(test.y.hat)\n",
    "\n",
    "# # make submission file\n",
    "# TEST_predict$prob = test.y.hat\n",
    "# write.table(TEST_predict, './mysubmission1.txt', row.names=FALSE, sep=',')"
   ]
  },
  {
   "cell_type": "code",
   "execution_count": 40,
   "metadata": {
    "collapsed": false
   },
   "outputs": [
    {
     "name": "stdout",
     "output_type": "stream",
     "text": [
      "train loss\t 0.05012227 \n",
      "test loss\t 0.05732614 \n"
     ]
    }
   ],
   "source": [
    "#######################################################\n",
    "# temporarily code\n",
    "train.y.hat = predict(bst, train.m.x)\n",
    "train.y.hat = scale(train.y.hat)\n",
    "\n",
    "train.y = train$loan_status\n",
    "\n",
    "train.loss = -sum(train.y * log(train.y.hat)) / length(train.y)\n",
    "test.loss = -sum(test.y * log(test.y.hat)) / length(test.y)\n",
    "\n",
    "cat('train loss\\t', train.loss, '\\n')\n",
    "cat('test loss\\t', test.loss, '\\n')"
   ]
  },
  {
   "cell_type": "code",
   "execution_count": 41,
   "metadata": {
    "collapsed": false
   },
   "outputs": [
    {
     "name": "stdout",
     "output_type": "stream",
     "text": [
      "All running time\n",
      "Start time:\t 2017-04-03 19:43:36 \n",
      "End time:\t 2017-04-04 09:38:30 \n",
      "Total time:\t 13.91507 \n"
     ]
    }
   ],
   "source": [
    "# get the used time information\n",
    "all.end.time = Sys.time()\n",
    "cat(\"All running time\\n\")\n",
    "cat('Start time:\\t', as.character(all.start.time), '\\n')\n",
    "cat('End time:\\t', as.character(all.end.time), '\\n')\n",
    "cat('Total time:\\t', all.end.time - all.start.time, '\\n')"
   ]
  },
  {
   "cell_type": "code",
   "execution_count": null,
   "metadata": {
    "collapsed": true
   },
   "outputs": [],
   "source": []
  }
 ],
 "metadata": {
  "kernelspec": {
   "display_name": "R",
   "language": "R",
   "name": "ir"
  },
  "language_info": {
   "codemirror_mode": "r",
   "file_extension": ".r",
   "mimetype": "text/x-r-source",
   "name": "R",
   "pygments_lexer": "r",
   "version": "3.3.2"
  }
 },
 "nbformat": 4,
 "nbformat_minor": 2
}
