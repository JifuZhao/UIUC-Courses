{
 "cells": [
  {
   "cell_type": "markdown",
   "metadata": {},
   "source": [
    "# Use all numerical variabels"
   ]
  },
  {
   "cell_type": "code",
   "execution_count": 1,
   "metadata": {
    "collapsed": false
   },
   "outputs": [
    {
     "name": "stderr",
     "output_type": "stream",
     "text": [
      "Loading required package: dummies\n",
      "dummies-1.5.6 provided by Decision Patterns\n",
      "\n",
      "Loading required package: DAAG\n",
      "Loading required package: lattice\n",
      "Loading required package: xgboost\n",
      "Loading required package: randomForest\n",
      "randomForest 4.6-12\n",
      "Type rfNews() to see new features/changes/bug fixes.\n",
      "Loading required package: gbm\n",
      "Loading required package: survival\n",
      "\n",
      "Attaching package: ‘survival’\n",
      "\n",
      "The following object is masked from ‘package:DAAG’:\n",
      "\n",
      "    lung\n",
      "\n",
      "Loading required package: splines\n",
      "Loading required package: parallel\n",
      "Loaded gbm 2.1.1\n",
      "Loading required package: glmnet\n",
      "Loading required package: Matrix\n",
      "Loading required package: foreach\n",
      "Loaded glmnet 2.0-5\n",
      "\n"
     ]
    }
   ],
   "source": [
    "all.start.time = Sys.time()\n",
    "options(warn=-1)\n",
    "\n",
    "# import required library\n",
    "if (!require(dummies)) {\n",
    "    install.packages(\"dummies\")\n",
    "}\n",
    "if (!require(DAAG)) {\n",
    "    install.packages(\"DAAG\")\n",
    "}\n",
    "if (!require(xgboost)) {\n",
    "    install.packages(\"xgboost\")\n",
    "}\n",
    "if (!require(randomForest)) {\n",
    "    install.packages(\"randomForest\")\n",
    "}\n",
    "if (!require(gbm)) {\n",
    "    install.packages(\"gbm\")\n",
    "}\n",
    "if (!require(glmnet)) {\n",
    "    install.packages(\"glmnet\")\n",
    "}\n",
    "\n",
    "library(xgboost)       # XGBoost model\n",
    "library(randomForest)  # Random Forest model\n",
    "library(gbm)           # GBM model\n",
    "library(dummies)       # Dummy variable\n",
    "library(DAAG)          # Cross-Validation\n",
    "library(glmnet)        # Logistic regression with Lasso"
   ]
  },
  {
   "cell_type": "code",
   "execution_count": 2,
   "metadata": {
    "collapsed": true
   },
   "outputs": [],
   "source": [
    "#######################################################\n",
    "# temporarily code\n",
    "# load the data set\n",
    "data = read.csv('./data/loan.csv')\n",
    "tmp = read.csv('./data/2016AllData.csv')\n",
    "\n",
    "# change factor into numeric\n",
    "tmp$int_rate = as.numeric(sub(\"%\", \"\", tmp$int_rate))\n",
    "tmp$revol_util = as.numeric(sub(\"%\", \"\", tmp$revol_util))\n",
    "\n",
    "# merge together\n",
    "data = rbind(data, tmp)\n",
    "rm(tmp)\n",
    "\n",
    "# random sample 75% as training and 25% as test set\n",
    "set.seed(100)\n",
    "idx = sample(1:nrow(data), floor(nrow(data) * 0.75), replace=FALSE)\n",
    "train = data[idx, ]\n",
    "test = data[-idx, ]\n",
    "\n",
    "# change the loan status\n",
    "default.y = c('Default', 'Charged Off', 'Late (31-120 days)', 'Late (16-30 days)', \n",
    "              'Does not meet the credit policy. Status:Charged Off')\n",
    "test.y = ifelse(test$loan_status %in% default.y, 1, 0)\n",
    "test = test[, names(test) != \"loan_status\"]\n",
    "\n",
    "rm(data)"
   ]
  },
  {
   "cell_type": "code",
   "execution_count": 3,
   "metadata": {
    "collapsed": false
   },
   "outputs": [],
   "source": [
    "# # -----------------------------------------------------------\n",
    "# # load the data set\n",
    "# train = read.csv('./train.csv')\n",
    "# test = read.csv('./test.csv')\n",
    "\n",
    "# the ID as the first column\n",
    "TEST_predict = data.frame(test[, \"id\"])  \n",
    "# the SalePrice was set to 0.0 initially\n",
    "TEST_predict['prob'] = matrix(rep(0.0, nrow(test))) \n",
    "# reset the column names of final results\n",
    "colnames(TEST_predict) = c(\"id\", \"prob\")  "
   ]
  },
  {
   "cell_type": "code",
   "execution_count": 4,
   "metadata": {
    "collapsed": true
   },
   "outputs": [],
   "source": [
    "# -----------------------------------------------------------\n",
    "# Pre-processing and feature selection\n",
    "\n",
    "# change the loan status\n",
    "default.y = c('Default', 'Charged Off', 'Late (31-120 days)', 'Late (16-30 days)', \n",
    "              'Does not meet the credit policy. Status:Charged Off')\n",
    "train.y = ifelse(train$loan_status %in% default.y, 1, 0)\n",
    "\n",
    "# -----------------------------------------------------------\n",
    "# drop columns that have too many missing values\n",
    "drop.names = c(\"mths_since_last_delinq\", \"mths_since_last_record\", \"mths_since_last_major_derog\", \n",
    "               \"annual_inc_joint\", \"dti_joint\", \"open_acc_6m\", \"open_il_6m\", \"open_il_12m\", \n",
    "               \"open_il_24m\", \"mths_since_rcnt_il\", \"total_bal_il\", \"il_util\", \"open_rv_12m\", \n",
    "               \"open_rv_24m\", \"max_bal_bc\", \"all_util\", \"inq_fi\", \"total_cu_tl\", \"inq_last_12m\")\n",
    "train = train[, !(names(train) %in% drop.names)]\n",
    "test = test[, !(names(test) %in% drop.names)]\n",
    "\n",
    "# Transform categorical feature into numerical feature\n",
    "train$sub_grade = as.numeric(train$sub_grade)\n",
    "test$sub_grade = as.numeric(test$sub_grade)\n",
    "\n",
    "# -----------------------------------------------------------\n",
    "# Drop useless features\n",
    "# drop useless categorical features\n",
    "drop.names = c(\"emp_title\", \"issue_d\", \"pymnt_plan\", \"url\", \"desc\", \"title\", \"zip_code\", \"addr_state\", \n",
    "               \"earliest_cr_line\", \"last_pymnt_d\", \"next_pymnt_d\", \"last_credit_pull_d\", \"application_type\", \n",
    "               \"verification_status_joint\", \"grade\")\n",
    "train = train[, !(names(train) %in% drop.names)]\n",
    "test = test[, !(names(test) %in% drop.names)]\n",
    "\n",
    "# drop useless numerical features\n",
    "drop.names = c(\"id\", \"member_id\", \"policy_code\")\n",
    "train = train[, !(names(train) %in% drop.names)]\n",
    "test = test[, !(names(test) %in% drop.names)]\n",
    "\n",
    "# -----------------------------------------------------------\n",
    "# Data Structures\n",
    "# find all categorical and numerical variables\n",
    "data.type = sapply(test, class)\n",
    "cat.var = names(test)[which(data.type == 'factor')]\n",
    "num.var = names(test)[which((data.type == 'integer') | (data.type == 'numeric'))]\n",
    "\n",
    "# -----------------------------------------------------------\n",
    "# Fill NA values\n",
    "# create new feature named \"NA\" for categorical variables\n",
    "for (i in cat.var) {\n",
    "    train[, i] = addNA(train[, i])\n",
    "    test[, i] = addNA(test[, i])\n",
    "}\n",
    "\n",
    "# create new feature using the median value for numerical variables\n",
    "for (i in num.var) {\n",
    "    na.id = is.na(train[, i])\n",
    "    tmp.median = median(train[, i], na.rm=TRUE)\n",
    "    train[which(na.id), i] = tmp.median\n",
    "    \n",
    "    na.id = is.na(test[, i])\n",
    "    test[which(na.id), i] = tmp.median\n",
    "}\n",
    "\n",
    "# -----------------------------------------------------------\n",
    "# Skewness\n",
    "skew = c('installment', 'annual_inc', 'dti', 'revol_bal', 'total_acc', 'out_prncp', 'out_prncp_inv', \n",
    "         'total_pymnt', 'total_pymnt_inv', 'total_rec_prncp', 'total_rec_int', 'total_rec_late_fee', \n",
    "         'recoveries', 'collection_recovery_fee', 'last_pymnt_amnt', 'tot_coll_amt', 'tot_cur_bal',\n",
    "         'total_rev_hi_lim')\n",
    "\n",
    "for (i in skew){\n",
    "    train[, i] = log(train[, i] + 2)\n",
    "    test[, i] = log(test[, i] + 2)\n",
    "}"
   ]
  },
  {
   "cell_type": "code",
   "execution_count": 10,
   "metadata": {
    "collapsed": true
   },
   "outputs": [],
   "source": [
    "# choose only the numerical variable\n",
    "# drop original categorical variables\n",
    "train = train[, !(names(train) %in% cat.var)]\n",
    "test = test[, !(names(test) %in% cat.var)]"
   ]
  },
  {
   "cell_type": "code",
   "execution_count": 17,
   "metadata": {
    "collapsed": false
   },
   "outputs": [],
   "source": [
    "# split into train and test data set\n",
    "train['loan_status'] = train.y"
   ]
  },
  {
   "cell_type": "code",
   "execution_count": 19,
   "metadata": {
    "collapsed": true
   },
   "outputs": [],
   "source": [
    "scale = function(score) {\n",
    "    # function to scale the score\n",
    "    score[which(score < 1e-15)] = 1e-15\n",
    "    score[which(score > 1 - 1e-15)] = 1 - 1e-15\n",
    "    score\n",
    "}"
   ]
  },
  {
   "cell_type": "markdown",
   "metadata": {},
   "source": [
    "# Logistic Model"
   ]
  },
  {
   "cell_type": "code",
   "execution_count": 20,
   "metadata": {
    "collapsed": false
   },
   "outputs": [
    {
     "name": "stdout",
     "output_type": "stream",
     "text": [
      "Logistic Regression Model\n",
      "Start time:\t 2017-04-05 11:46:02 \n",
      "End time:\t 2017-04-05 11:47:23 \n",
      "Total time:\t 1.348637 \n"
     ]
    }
   ],
   "source": [
    "start.time = Sys.time()  # get time information\n",
    "\n",
    "# fit the logistic model\n",
    "log.model = glm(loan_status ~ ., data=train, family=binomial)\n",
    "\n",
    "end.time = Sys.time()\n",
    "cat(\"Logistic Regression Model\\n\")\n",
    "cat('Start time:\\t', as.character(start.time), '\\n')\n",
    "cat('End time:\\t', as.character(end.time), '\\n')\n",
    "cat('Total time:\\t', end.time - start.time, '\\n')"
   ]
  },
  {
   "cell_type": "code",
   "execution_count": 21,
   "metadata": {
    "collapsed": true
   },
   "outputs": [],
   "source": [
    "# calculate log-loss\n",
    "test.y.hat = predict(log.model, test, type=\"response\")\n",
    "test.y.hat = scale(test.y.hat)\n",
    "\n",
    "# # make submission file\n",
    "# TEST_predict$prob = test.y.hat\n",
    "# write.table(TEST_predict, './mysubmission1.txt', row.names=FALSE, sep=',')"
   ]
  },
  {
   "cell_type": "code",
   "execution_count": 22,
   "metadata": {
    "collapsed": false
   },
   "outputs": [
    {
     "name": "stdout",
     "output_type": "stream",
     "text": [
      "train loss\t 0.07984543 \n",
      "test loss\t 0.07674869 \n"
     ]
    }
   ],
   "source": [
    "#######################################################\n",
    "# temporarily code\n",
    "train.y.hat = predict(log.model, train, type=\"response\")\n",
    "train.y.hat = scale(train.y.hat)\n",
    "\n",
    "train.y = train$loan_status\n",
    "\n",
    "train.loss = -sum(train.y * log(train.y.hat)) / length(train.y)\n",
    "test.loss = -sum(test.y * log(test.y.hat)) / length(test.y)\n",
    "\n",
    "cat('train loss\\t', train.loss, '\\n')\n",
    "cat('test loss\\t', test.loss, '\\n')"
   ]
  },
  {
   "cell_type": "markdown",
   "metadata": {},
   "source": [
    "# Random Forest"
   ]
  },
  {
   "cell_type": "code",
   "execution_count": 25,
   "metadata": {
    "collapsed": false
   },
   "outputs": [
    {
     "name": "stdout",
     "output_type": "stream",
     "text": [
      "Random Forest Model\n",
      "Start time:\t 2017-04-05 11:47:52 \n",
      "End time:\t 2017-04-05 12:09:48 \n",
      "Total time:\t 21.92727 \n"
     ]
    }
   ],
   "source": [
    "start.time = Sys.time()  # get time information\n",
    "\n",
    "# build the random forest model\n",
    "rf.model = randomForest(as.factor(loan_status) ~ ., data=train, ntree=300, importance=T, \n",
    "                        strata=as.factor(train$loan_status), sampsize=c(100, 100))\n",
    "\n",
    "end.time = Sys.time()\n",
    "cat(\"Random Forest Model\\n\")\n",
    "cat('Start time:\\t', as.character(start.time), '\\n')\n",
    "cat('End time:\\t', as.character(end.time), '\\n')\n",
    "cat('Total time:\\t', end.time - start.time, '\\n')"
   ]
  },
  {
   "cell_type": "code",
   "execution_count": 26,
   "metadata": {
    "collapsed": false
   },
   "outputs": [
    {
     "data": {
      "image/png": "[encoded data removed]",
      "text/plain": [
       "plot without title"
      ]
     },
     "metadata": {},
     "output_type": "display_data"
    }
   ],
   "source": [
    "# plot the error rate\n",
    "tmp = rf.model$err.rate\n",
    "plot(c(0, rf.model$ntree), range(tmp), type=\"n\",\n",
    "     xlab = \"Number of trees\", ylab=\"Error\")\n",
    "lines(tmp[,1], col=\"black\")\n",
    "lines(tmp[,2], col=\"red\")\n",
    "lines(tmp[,3], col=\"green\")"
   ]
  },
  {
   "cell_type": "code",
   "execution_count": 27,
   "metadata": {
    "collapsed": true
   },
   "outputs": [],
   "source": [
    "# calculate log-loss\n",
    "test.y.hat = predict(rf.model, test, type=\"prob\")[, 2]\n",
    "test.y.hat = scale(test.y.hat)\n",
    "\n",
    "# # make submission file\n",
    "# TEST_predict$prob = test.y.hat\n",
    "# write.table(TEST_predict, './mysubmission1.txt', row.names=FALSE, sep=',')"
   ]
  },
  {
   "cell_type": "code",
   "execution_count": 28,
   "metadata": {
    "collapsed": false
   },
   "outputs": [
    {
     "name": "stdout",
     "output_type": "stream",
     "text": [
      "train loss\t 0.02416684 \n",
      "test loss\t 0.02343818 \n"
     ]
    }
   ],
   "source": [
    "#######################################################\n",
    "# temporarily code\n",
    "train.y.hat = predict(rf.model, train, type=\"prob\")[, 2]\n",
    "train.y.hat = scale(train.y.hat)\n",
    "\n",
    "train.y = train$loan_status\n",
    "\n",
    "train.loss = -sum(train.y * log(train.y.hat)) / length(train.y)\n",
    "test.loss = -sum(test.y * log(test.y.hat)) / length(test.y)\n",
    "\n",
    "cat('train loss\\t', train.loss, '\\n')\n",
    "cat('test loss\\t', test.loss, '\\n')"
   ]
  },
  {
   "cell_type": "markdown",
   "metadata": {},
   "source": [
    "# XGBoost"
   ]
  },
  {
   "cell_type": "code",
   "execution_count": 29,
   "metadata": {
    "collapsed": true
   },
   "outputs": [],
   "source": [
    "train.m.y = train$loan_status\n",
    "train.m.x = train[, -which(names(train) == \"loan_status\")]\n",
    "train.m.x = apply(train.m.x, 2, as.numeric)\n",
    "\n",
    "test.m.x = test\n",
    "test.m.x = apply(test.m.x, 2, as.numeric)\n",
    "ratio = as.integer(length(which(train.y == 0)) / length(which(train.y == 1)))"
   ]
  },
  {
   "cell_type": "code",
   "execution_count": 30,
   "metadata": {
    "collapsed": false,
    "scrolled": true
   },
   "outputs": [
    {
     "name": "stdout",
     "output_type": "stream",
     "text": [
      "[1]\ttrain-logloss:0.362540+0.000185\ttest-logloss:0.362744+0.000759 \n",
      "Multiple eval metrics are present. Will use test_logloss for early stopping.\n",
      "Will train until test_logloss hasn't improved in 3 rounds.\n",
      "\n",
      "[2]\ttrain-logloss:0.287555+0.000354\ttest-logloss:0.287853+0.000652 \n",
      "[3]\ttrain-logloss:0.263564+0.000408\ttest-logloss:0.264043+0.000553 \n",
      "[4]\ttrain-logloss:0.253733+0.000501\ttest-logloss:0.254287+0.000613 \n",
      "[5]\ttrain-logloss:0.249425+0.001228\ttest-logloss:0.250084+0.001579 \n",
      "[6]\ttrain-logloss:0.247937+0.000254\ttest-logloss:0.248743+0.000598 \n",
      "[7]\ttrain-logloss:0.245833+0.001484\ttest-logloss:0.246815+0.002093 \n",
      "[8]\ttrain-logloss:0.244287+0.001539\ttest-logloss:0.245526+0.001740 \n",
      "[9]\ttrain-logloss:0.243105+0.001179\ttest-logloss:0.244677+0.001593 \n",
      "[10]\ttrain-logloss:0.240235+0.000873\ttest-logloss:0.242030+0.001547 \n",
      "[11]\ttrain-logloss:0.238529+0.000847\ttest-logloss:0.240587+0.001462 \n",
      "[12]\ttrain-logloss:0.237138+0.000832\ttest-logloss:0.239476+0.001394 \n",
      "[13]\ttrain-logloss:0.235754+0.000779\ttest-logloss:0.238284+0.001104 \n",
      "[14]\ttrain-logloss:0.234825+0.000320\ttest-logloss:0.237713+0.000795 \n",
      "[15]\ttrain-logloss:0.233904+0.000404\ttest-logloss:0.236990+0.000950 \n",
      "[16]\ttrain-logloss:0.232683+0.000662\ttest-logloss:0.236147+0.001052 \n",
      "[17]\ttrain-logloss:0.231771+0.000527\ttest-logloss:0.235590+0.001042 \n",
      "[18]\ttrain-logloss:0.231163+0.000813\ttest-logloss:0.235311+0.000978 \n",
      "[19]\ttrain-logloss:0.229558+0.000930\ttest-logloss:0.233895+0.001263 \n",
      "[20]\ttrain-logloss:0.228963+0.000847\ttest-logloss:0.233630+0.001213 \n",
      "[21]\ttrain-logloss:0.227665+0.001217\ttest-logloss:0.232658+0.001568 \n",
      "[22]\ttrain-logloss:0.227000+0.001250\ttest-logloss:0.232350+0.001548 \n",
      "[23]\ttrain-logloss:0.226178+0.001362\ttest-logloss:0.231683+0.001814 \n",
      "[24]\ttrain-logloss:0.225283+0.001427\ttest-logloss:0.230970+0.001733 \n",
      "[25]\ttrain-logloss:0.224456+0.001272\ttest-logloss:0.230362+0.001582 \n",
      "[26]\ttrain-logloss:0.223373+0.001042\ttest-logloss:0.229588+0.001432 \n",
      "[27]\ttrain-logloss:0.222451+0.000818\ttest-logloss:0.228969+0.001277 \n",
      "[28]\ttrain-logloss:0.221803+0.000627\ttest-logloss:0.228575+0.001136 \n",
      "[29]\ttrain-logloss:0.221033+0.000848\ttest-logloss:0.228024+0.001194 \n",
      "[30]\ttrain-logloss:0.220099+0.001169\ttest-logloss:0.227358+0.001398 \n",
      "[31]\ttrain-logloss:0.218959+0.001262\ttest-logloss:0.226492+0.001357 \n",
      "[32]\ttrain-logloss:0.218099+0.000942\ttest-logloss:0.225898+0.001178 \n",
      "[33]\ttrain-logloss:0.216725+0.000781\ttest-logloss:0.224826+0.000785 \n",
      "[34]\ttrain-logloss:0.216012+0.000680\ttest-logloss:0.224268+0.000879 \n",
      "[35]\ttrain-logloss:0.215378+0.000664\ttest-logloss:0.223823+0.000685 \n",
      "[36]\ttrain-logloss:0.214901+0.000857\ttest-logloss:0.223578+0.000846 \n",
      "[37]\ttrain-logloss:0.214365+0.000836\ttest-logloss:0.223251+0.000751 \n",
      "[38]\ttrain-logloss:0.214330+0.000761\ttest-logloss:0.223521+0.001029 \n",
      "[39]\ttrain-logloss:0.213140+0.000868\ttest-logloss:0.222468+0.000502 \n",
      "[40]\ttrain-logloss:0.212746+0.000922\ttest-logloss:0.222287+0.000499 \n",
      "[41]\ttrain-logloss:0.212340+0.000706\ttest-logloss:0.222080+0.000427 \n",
      "[42]\ttrain-logloss:0.211554+0.000818\ttest-logloss:0.221575+0.000468 \n",
      "[43]\ttrain-logloss:0.210897+0.000728\ttest-logloss:0.221057+0.000572 \n",
      "[44]\ttrain-logloss:0.210472+0.000801\ttest-logloss:0.220698+0.000615 \n",
      "[45]\ttrain-logloss:0.209932+0.000837\ttest-logloss:0.220329+0.000747 \n",
      "[46]\ttrain-logloss:0.209401+0.000863\ttest-logloss:0.220004+0.000846 \n",
      "[47]\ttrain-logloss:0.208577+0.000844\ttest-logloss:0.219431+0.000826 \n",
      "[48]\ttrain-logloss:0.208119+0.000930\ttest-logloss:0.219176+0.000830 \n",
      "[49]\ttrain-logloss:0.207517+0.000985\ttest-logloss:0.218770+0.001045 \n",
      "[50]\ttrain-logloss:0.206943+0.001066\ttest-logloss:0.218384+0.001114 \n",
      "[51]\ttrain-logloss:0.206188+0.001277\ttest-logloss:0.217819+0.001224 \n",
      "[52]\ttrain-logloss:0.205502+0.001029\ttest-logloss:0.217383+0.001077 \n",
      "[53]\ttrain-logloss:0.204882+0.001009\ttest-logloss:0.216973+0.000945 \n",
      "[54]\ttrain-logloss:0.204159+0.001019\ttest-logloss:0.216548+0.000787 \n",
      "[55]\ttrain-logloss:0.203390+0.001331\ttest-logloss:0.216027+0.000948 \n",
      "[56]\ttrain-logloss:0.202594+0.001307\ttest-logloss:0.215483+0.000946 \n",
      "[57]\ttrain-logloss:0.201424+0.001437\ttest-logloss:0.214608+0.001201 \n",
      "[58]\ttrain-logloss:0.200837+0.001487\ttest-logloss:0.214217+0.001212 \n",
      "[59]\ttrain-logloss:0.200172+0.001504\ttest-logloss:0.213690+0.001216 \n",
      "[60]\ttrain-logloss:0.199050+0.001598\ttest-logloss:0.212763+0.001434 \n",
      "[61]\ttrain-logloss:0.198338+0.001444\ttest-logloss:0.212277+0.001369 \n",
      "[62]\ttrain-logloss:0.197576+0.001326\ttest-logloss:0.211691+0.001384 \n",
      "[63]\ttrain-logloss:0.196976+0.001400\ttest-logloss:0.211329+0.001307 \n",
      "[64]\ttrain-logloss:0.196296+0.001457\ttest-logloss:0.210922+0.001368 \n",
      "[65]\ttrain-logloss:0.195566+0.001324\ttest-logloss:0.210367+0.001242 \n",
      "[66]\ttrain-logloss:0.194975+0.001227\ttest-logloss:0.209966+0.001292 \n",
      "[67]\ttrain-logloss:0.194340+0.001330\ttest-logloss:0.209524+0.001388 \n",
      "[68]\ttrain-logloss:0.193657+0.001287\ttest-logloss:0.209077+0.001343 \n",
      "[69]\ttrain-logloss:0.192994+0.001235\ttest-logloss:0.208697+0.001347 \n",
      "[70]\ttrain-logloss:0.192256+0.001029\ttest-logloss:0.208180+0.001165 \n",
      "[71]\ttrain-logloss:0.191546+0.000789\ttest-logloss:0.207630+0.000970 \n",
      "[72]\ttrain-logloss:0.190856+0.000803\ttest-logloss:0.207131+0.000855 \n",
      "[73]\ttrain-logloss:0.190123+0.000866\ttest-logloss:0.206668+0.000903 \n",
      "[74]\ttrain-logloss:0.189257+0.000648\ttest-logloss:0.206025+0.000798 \n",
      "[75]\ttrain-logloss:0.188717+0.000690\ttest-logloss:0.205674+0.000893 \n",
      "[76]\ttrain-logloss:0.188261+0.000606\ttest-logloss:0.205401+0.000859 \n",
      "[77]\ttrain-logloss:0.187739+0.000575\ttest-logloss:0.204992+0.000942 \n",
      "[78]\ttrain-logloss:0.187281+0.000415\ttest-logloss:0.204702+0.000848 \n",
      "[79]\ttrain-logloss:0.186722+0.000480\ttest-logloss:0.204328+0.000826 \n",
      "[80]\ttrain-logloss:0.186264+0.000407\ttest-logloss:0.204088+0.000735 \n",
      "[81]\ttrain-logloss:0.185814+0.000388\ttest-logloss:0.203916+0.000790 \n",
      "[82]\ttrain-logloss:0.185371+0.000467\ttest-logloss:0.203672+0.000827 \n",
      "[83]\ttrain-logloss:0.184844+0.000488\ttest-logloss:0.203401+0.000784 \n",
      "[84]\ttrain-logloss:0.184243+0.000461\ttest-logloss:0.203035+0.000767 \n",
      "[85]\ttrain-logloss:0.183705+0.000495\ttest-logloss:0.202675+0.000803 \n",
      "[86]\ttrain-logloss:0.183002+0.000397\ttest-logloss:0.202248+0.000828 \n",
      "[87]\ttrain-logloss:0.182432+0.000461\ttest-logloss:0.201787+0.000795 \n",
      "[88]\ttrain-logloss:0.181958+0.000558\ttest-logloss:0.201547+0.000839 \n",
      "[89]\ttrain-logloss:0.181558+0.000600\ttest-logloss:0.201255+0.000774 \n",
      "[90]\ttrain-logloss:0.181141+0.000547\ttest-logloss:0.200941+0.000841 \n",
      "[91]\ttrain-logloss:0.180630+0.000581\ttest-logloss:0.200644+0.000684 \n",
      "[92]\ttrain-logloss:0.180073+0.000584\ttest-logloss:0.200293+0.000657 \n",
      "[93]\ttrain-logloss:0.179443+0.000556\ttest-logloss:0.199834+0.000688 \n",
      "[94]\ttrain-logloss:0.178859+0.000554\ttest-logloss:0.199526+0.000727 \n",
      "[95]\ttrain-logloss:0.178172+0.000775\ttest-logloss:0.199007+0.000714 \n",
      "[96]\ttrain-logloss:0.177750+0.000715\ttest-logloss:0.198743+0.000769 \n",
      "[97]\ttrain-logloss:0.177314+0.000697\ttest-logloss:0.198547+0.000722 \n",
      "[98]\ttrain-logloss:0.176749+0.000642\ttest-logloss:0.198211+0.000710 \n",
      "[99]\ttrain-logloss:0.176151+0.000691\ttest-logloss:0.197736+0.000604 \n",
      "[100]\ttrain-logloss:0.175552+0.000722\ttest-logloss:0.197283+0.000616 \n",
      "[101]\ttrain-logloss:0.175110+0.000717\ttest-logloss:0.197068+0.000666 \n",
      "[102]\ttrain-logloss:0.174259+0.000819\ttest-logloss:0.196437+0.000692 \n",
      "[103]\ttrain-logloss:0.173598+0.000828\ttest-logloss:0.195994+0.000737 \n",
      "[104]\ttrain-logloss:0.173028+0.000750\ttest-logloss:0.195730+0.000655 \n",
      "[105]\ttrain-logloss:0.172448+0.000697\ttest-logloss:0.195342+0.000654 \n",
      "[106]\ttrain-logloss:0.171864+0.000736\ttest-logloss:0.194996+0.000640 \n",
      "[107]\ttrain-logloss:0.171211+0.000737\ttest-logloss:0.194629+0.000737 \n",
      "[108]\ttrain-logloss:0.170545+0.000728\ttest-logloss:0.194169+0.000727 \n",
      "[109]\ttrain-logloss:0.170040+0.000722\ttest-logloss:0.193893+0.000712 \n",
      "[110]\ttrain-logloss:0.169533+0.000741\ttest-logloss:0.193561+0.000676 \n",
      "[111]\ttrain-logloss:0.169072+0.000793\ttest-logloss:0.193340+0.000725 \n",
      "[112]\ttrain-logloss:0.168550+0.000851\ttest-logloss:0.193014+0.000651 \n",
      "[113]\ttrain-logloss:0.168002+0.000850\ttest-logloss:0.192560+0.000835 \n",
      "[114]\ttrain-logloss:0.167435+0.000739\ttest-logloss:0.192129+0.000727 \n",
      "[115]\ttrain-logloss:0.166868+0.000779\ttest-logloss:0.191746+0.000824 \n",
      "[116]\ttrain-logloss:0.166330+0.000652\ttest-logloss:0.191335+0.000746 \n",
      "[117]\ttrain-logloss:0.165838+0.000674\ttest-logloss:0.191001+0.000795 \n",
      "[118]\ttrain-logloss:0.165418+0.000658\ttest-logloss:0.190726+0.000803 \n",
      "[119]\ttrain-logloss:0.164970+0.000663\ttest-logloss:0.190481+0.000816 \n",
      "[120]\ttrain-logloss:0.164435+0.000696\ttest-logloss:0.190162+0.000868 \n",
      "[121]\ttrain-logloss:0.163998+0.000729\ttest-logloss:0.189883+0.000924 \n",
      "[122]\ttrain-logloss:0.163528+0.000776\ttest-logloss:0.189641+0.000909 \n",
      "[123]\ttrain-logloss:0.163125+0.000732\ttest-logloss:0.189455+0.000806 \n",
      "[124]\ttrain-logloss:0.162566+0.000628\ttest-logloss:0.189051+0.000739 \n",
      "[125]\ttrain-logloss:0.162009+0.000591\ttest-logloss:0.188720+0.000693 \n",
      "[126]\ttrain-logloss:0.161472+0.000584\ttest-logloss:0.188353+0.000656 \n",
      "[127]\ttrain-logloss:0.160961+0.000554\ttest-logloss:0.188002+0.000628 \n",
      "[128]\ttrain-logloss:0.160550+0.000571\ttest-logloss:0.187798+0.000572 \n",
      "[129]\ttrain-logloss:0.160122+0.000537\ttest-logloss:0.187555+0.000568 \n",
      "[130]\ttrain-logloss:0.159510+0.000610\ttest-logloss:0.187121+0.000574 \n",
      "[131]\ttrain-logloss:0.158901+0.000560\ttest-logloss:0.186694+0.000701 \n",
      "[132]\ttrain-logloss:0.158284+0.000555\ttest-logloss:0.186259+0.000638 \n",
      "[133]\ttrain-logloss:0.157690+0.000753\ttest-logloss:0.185835+0.000596 \n",
      "[134]\ttrain-logloss:0.157157+0.000697\ttest-logloss:0.185437+0.000570 \n",
      "[135]\ttrain-logloss:0.156682+0.000797\ttest-logloss:0.185105+0.000563 \n",
      "[136]\ttrain-logloss:0.156220+0.000867\ttest-logloss:0.184812+0.000545 \n",
      "[137]\ttrain-logloss:0.155704+0.000980\ttest-logloss:0.184558+0.000502 \n",
      "[138]\ttrain-logloss:0.155241+0.001037\ttest-logloss:0.184262+0.000432 \n",
      "[139]\ttrain-logloss:0.154694+0.001008\ttest-logloss:0.183883+0.000375 \n",
      "[140]\ttrain-logloss:0.154074+0.001041\ttest-logloss:0.183475+0.000274 \n",
      "[141]\ttrain-logloss:0.153594+0.001058\ttest-logloss:0.183180+0.000283 \n",
      "[142]\ttrain-logloss:0.153195+0.001095\ttest-logloss:0.182931+0.000255 \n",
      "[143]\ttrain-logloss:0.152675+0.001010\ttest-logloss:0.182615+0.000257 \n",
      "[144]\ttrain-logloss:0.152208+0.000926\ttest-logloss:0.182277+0.000239 \n",
      "[145]\ttrain-logloss:0.151771+0.000871\ttest-logloss:0.181975+0.000338 \n",
      "[146]\ttrain-logloss:0.151429+0.000876\ttest-logloss:0.181753+0.000353 \n",
      "[147]\ttrain-logloss:0.150973+0.000846\ttest-logloss:0.181468+0.000355 \n",
      "[148]\ttrain-logloss:0.150571+0.000868\ttest-logloss:0.181241+0.000313 \n",
      "[149]\ttrain-logloss:0.150190+0.000838\ttest-logloss:0.181001+0.000274 \n",
      "[150]\ttrain-logloss:0.149891+0.000919\ttest-logloss:0.180819+0.000212 \n",
      "[151]\ttrain-logloss:0.149549+0.000964\ttest-logloss:0.180629+0.000147 \n",
      "[152]\ttrain-logloss:0.149111+0.000986\ttest-logloss:0.180396+0.000134 \n",
      "[153]\ttrain-logloss:0.148562+0.001002\ttest-logloss:0.179988+0.000050 \n",
      "[154]\ttrain-logloss:0.148058+0.000974\ttest-logloss:0.179619+0.000195 \n",
      "[155]\ttrain-logloss:0.147649+0.000968\ttest-logloss:0.179372+0.000281 \n",
      "[156]\ttrain-logloss:0.147180+0.001061\ttest-logloss:0.179040+0.000410 \n",
      "[157]\ttrain-logloss:0.146777+0.001152\ttest-logloss:0.178813+0.000439 \n",
      "[158]\ttrain-logloss:0.146302+0.001174\ttest-logloss:0.178497+0.000387 \n",
      "[159]\ttrain-logloss:0.145844+0.001225\ttest-logloss:0.178153+0.000440 \n",
      "[160]\ttrain-logloss:0.145356+0.001452\ttest-logloss:0.177785+0.000547 \n",
      "[161]\ttrain-logloss:0.144926+0.001545\ttest-logloss:0.177488+0.000597 \n",
      "[162]\ttrain-logloss:0.144417+0.001441\ttest-logloss:0.177188+0.000493 \n",
      "[163]\ttrain-logloss:0.143880+0.001465\ttest-logloss:0.176806+0.000500 \n",
      "[164]\ttrain-logloss:0.143359+0.001272\ttest-logloss:0.176419+0.000453 \n",
      "[165]\ttrain-logloss:0.142961+0.001218\ttest-logloss:0.176160+0.000440 \n",
      "[166]\ttrain-logloss:0.142522+0.001215\ttest-logloss:0.175894+0.000429 \n",
      "[167]\ttrain-logloss:0.142073+0.001141\ttest-logloss:0.175642+0.000347 \n",
      "[168]\ttrain-logloss:0.141654+0.001232\ttest-logloss:0.175363+0.000393 \n",
      "[169]\ttrain-logloss:0.141270+0.001282\ttest-logloss:0.175138+0.000403 \n",
      "[170]\ttrain-logloss:0.140718+0.001340\ttest-logloss:0.174741+0.000472 \n",
      "[171]\ttrain-logloss:0.140264+0.001414\ttest-logloss:0.174438+0.000494 \n",
      "[172]\ttrain-logloss:0.139886+0.001404\ttest-logloss:0.174177+0.000475 \n",
      "[173]\ttrain-logloss:0.139512+0.001381\ttest-logloss:0.173944+0.000463 \n",
      "[174]\ttrain-logloss:0.139078+0.001316\ttest-logloss:0.173655+0.000494 \n",
      "[175]\ttrain-logloss:0.138762+0.001373\ttest-logloss:0.173437+0.000546 \n",
      "[176]\ttrain-logloss:0.138441+0.001374\ttest-logloss:0.173206+0.000565 \n",
      "[177]\ttrain-logloss:0.138005+0.001276\ttest-logloss:0.172943+0.000544 \n",
      "[178]\ttrain-logloss:0.137634+0.001349\ttest-logloss:0.172738+0.000517 \n",
      "[179]\ttrain-logloss:0.137253+0.001454\ttest-logloss:0.172526+0.000589 \n",
      "[180]\ttrain-logloss:0.136859+0.001530\ttest-logloss:0.172305+0.000596 \n",
      "[181]\ttrain-logloss:0.136491+0.001593\ttest-logloss:0.172124+0.000661 \n",
      "[182]\ttrain-logloss:0.136161+0.001696\ttest-logloss:0.171926+0.000708 \n",
      "[183]\ttrain-logloss:0.135679+0.001781\ttest-logloss:0.171641+0.000789 \n",
      "[184]\ttrain-logloss:0.135350+0.001737\ttest-logloss:0.171500+0.000785 \n",
      "[185]\ttrain-logloss:0.134871+0.001710\ttest-logloss:0.171207+0.000786 \n",
      "[186]\ttrain-logloss:0.134431+0.001728\ttest-logloss:0.170920+0.000788 \n",
      "[187]\ttrain-logloss:0.133941+0.001605\ttest-logloss:0.170584+0.000681 \n",
      "[188]\ttrain-logloss:0.133401+0.001658\ttest-logloss:0.170240+0.000673 \n",
      "[189]\ttrain-logloss:0.132970+0.001646\ttest-logloss:0.169936+0.000665 \n",
      "[190]\ttrain-logloss:0.132442+0.001796\ttest-logloss:0.169573+0.000703 \n",
      "[191]\ttrain-logloss:0.132046+0.001885\ttest-logloss:0.169371+0.000736 \n",
      "[192]\ttrain-logloss:0.131615+0.001962\ttest-logloss:0.169058+0.000839 \n",
      "[193]\ttrain-logloss:0.131271+0.002026\ttest-logloss:0.168860+0.000895 \n",
      "[194]\ttrain-logloss:0.130805+0.002077\ttest-logloss:0.168522+0.000926 \n",
      "[195]\ttrain-logloss:0.130416+0.002123\ttest-logloss:0.168279+0.000939 \n",
      "[196]\ttrain-logloss:0.130009+0.002101\ttest-logloss:0.168090+0.000918 \n",
      "[197]\ttrain-logloss:0.129691+0.002106\ttest-logloss:0.167889+0.000932 \n",
      "[198]\ttrain-logloss:0.129331+0.002077\ttest-logloss:0.167690+0.000937 \n",
      "[199]\ttrain-logloss:0.129028+0.002104\ttest-logloss:0.167489+0.000957 \n",
      "[200]\ttrain-logloss:0.128727+0.002091\ttest-logloss:0.167324+0.000948 \n",
      "[201]\ttrain-logloss:0.128471+0.002147\ttest-logloss:0.167153+0.000959 \n",
      "[202]\ttrain-logloss:0.128243+0.002128\ttest-logloss:0.166979+0.000927 \n",
      "[203]\ttrain-logloss:0.127968+0.002048\ttest-logloss:0.166839+0.000893 \n",
      "[204]\ttrain-logloss:0.127626+0.002023\ttest-logloss:0.166661+0.000841 \n",
      "[205]\ttrain-logloss:0.127218+0.002023\ttest-logloss:0.166376+0.000813 \n",
      "[206]\ttrain-logloss:0.126797+0.001969\ttest-logloss:0.166136+0.000826 \n",
      "[207]\ttrain-logloss:0.126370+0.002021\ttest-logloss:0.165934+0.000828 \n",
      "[208]\ttrain-logloss:0.125893+0.002060\ttest-logloss:0.165630+0.000921 \n",
      "[209]\ttrain-logloss:0.125470+0.002075\ttest-logloss:0.165376+0.000949 \n",
      "[210]\ttrain-logloss:0.125061+0.002044\ttest-logloss:0.165128+0.000925 \n",
      "[211]\ttrain-logloss:0.124665+0.001994\ttest-logloss:0.164895+0.000914 \n",
      "[212]\ttrain-logloss:0.124292+0.001986\ttest-logloss:0.164684+0.000897 \n",
      "[213]\ttrain-logloss:0.123936+0.002022\ttest-logloss:0.164464+0.000957 \n",
      "[214]\ttrain-logloss:0.123491+0.002036\ttest-logloss:0.164192+0.001004 \n",
      "[215]\ttrain-logloss:0.123135+0.002017\ttest-logloss:0.163993+0.000982 \n",
      "[216]\ttrain-logloss:0.122738+0.002010\ttest-logloss:0.163767+0.000971 \n",
      "[217]\ttrain-logloss:0.122376+0.001909\ttest-logloss:0.163564+0.000881 \n",
      "[218]\ttrain-logloss:0.121906+0.001909\ttest-logloss:0.163286+0.000898 \n",
      "[219]\ttrain-logloss:0.121536+0.001951\ttest-logloss:0.163086+0.000948 \n",
      "[220]\ttrain-logloss:0.121058+0.001895\ttest-logloss:0.162725+0.000953 \n",
      "[221]\ttrain-logloss:0.120687+0.001836\ttest-logloss:0.162484+0.000918 \n",
      "[222]\ttrain-logloss:0.120329+0.001783\ttest-logloss:0.162268+0.000841 \n",
      "[223]\ttrain-logloss:0.119928+0.001744\ttest-logloss:0.162027+0.000784 \n",
      "[224]\ttrain-logloss:0.119562+0.001767\ttest-logloss:0.161785+0.000766 \n",
      "[225]\ttrain-logloss:0.119104+0.001882\ttest-logloss:0.161446+0.000846 \n",
      "[226]\ttrain-logloss:0.118732+0.001829\ttest-logloss:0.161220+0.000782 \n",
      "[227]\ttrain-logloss:0.118358+0.001851\ttest-logloss:0.160990+0.000792 \n",
      "[228]\ttrain-logloss:0.118077+0.001789\ttest-logloss:0.160831+0.000774 \n",
      "[229]\ttrain-logloss:0.117821+0.001840\ttest-logloss:0.160685+0.000814 \n",
      "[230]\ttrain-logloss:0.117525+0.001840\ttest-logloss:0.160501+0.000822 \n",
      "[231]\ttrain-logloss:0.117238+0.001809\ttest-logloss:0.160327+0.000799 \n",
      "[232]\ttrain-logloss:0.116993+0.001784\ttest-logloss:0.160204+0.000791 \n",
      "[233]\ttrain-logloss:0.116688+0.001757\ttest-logloss:0.160054+0.000776 \n",
      "[234]\ttrain-logloss:0.116341+0.001784\ttest-logloss:0.159857+0.000797 \n",
      "[235]\ttrain-logloss:0.115973+0.001773\ttest-logloss:0.159604+0.000838 \n",
      "[236]\ttrain-logloss:0.115627+0.001830\ttest-logloss:0.159370+0.000878 \n",
      "[237]\ttrain-logloss:0.115233+0.001773\ttest-logloss:0.159144+0.000834 \n",
      "[238]\ttrain-logloss:0.114843+0.001702\ttest-logloss:0.158959+0.000820 \n",
      "[239]\ttrain-logloss:0.114440+0.001569\ttest-logloss:0.158653+0.000765 \n",
      "[240]\ttrain-logloss:0.114142+0.001490\ttest-logloss:0.158485+0.000765 \n",
      "[241]\ttrain-logloss:0.113815+0.001451\ttest-logloss:0.158321+0.000716 \n",
      "[242]\ttrain-logloss:0.113491+0.001468\ttest-logloss:0.158145+0.000671 \n",
      "[243]\ttrain-logloss:0.113141+0.001404\ttest-logloss:0.157929+0.000613 \n",
      "[244]\ttrain-logloss:0.112775+0.001426\ttest-logloss:0.157662+0.000563 \n",
      "[245]\ttrain-logloss:0.112392+0.001421\ttest-logloss:0.157394+0.000534 \n",
      "[246]\ttrain-logloss:0.112070+0.001450\ttest-logloss:0.157176+0.000518 \n",
      "[247]\ttrain-logloss:0.111772+0.001512\ttest-logloss:0.156998+0.000590 \n",
      "[248]\ttrain-logloss:0.111387+0.001694\ttest-logloss:0.156746+0.000753 \n",
      "[249]\ttrain-logloss:0.111042+0.001700\ttest-logloss:0.156551+0.000784 \n",
      "[250]\ttrain-logloss:0.110756+0.001748\ttest-logloss:0.156414+0.000826 \n",
      "[251]\ttrain-logloss:0.110451+0.001863\ttest-logloss:0.156208+0.000904 \n",
      "[252]\ttrain-logloss:0.110159+0.001801\ttest-logloss:0.156012+0.000872 \n",
      "[253]\ttrain-logloss:0.109821+0.001707\ttest-logloss:0.155845+0.000789 \n",
      "[254]\ttrain-logloss:0.109488+0.001696\ttest-logloss:0.155643+0.000785 \n",
      "[255]\ttrain-logloss:0.109174+0.001764\ttest-logloss:0.155457+0.000838 \n",
      "[256]\ttrain-logloss:0.108887+0.001742\ttest-logloss:0.155283+0.000832 \n",
      "[257]\ttrain-logloss:0.108604+0.001736\ttest-logloss:0.155122+0.000841 \n",
      "[258]\ttrain-logloss:0.108241+0.001689\ttest-logloss:0.154873+0.000815 \n",
      "[259]\ttrain-logloss:0.107996+0.001683\ttest-logloss:0.154723+0.000814 \n",
      "[260]\ttrain-logloss:0.107625+0.001592\ttest-logloss:0.154464+0.000797 \n",
      "[261]\ttrain-logloss:0.107362+0.001562\ttest-logloss:0.154311+0.000817 \n",
      "[262]\ttrain-logloss:0.107077+0.001574\ttest-logloss:0.154128+0.000781 \n",
      "[263]\ttrain-logloss:0.106800+0.001609\ttest-logloss:0.153945+0.000779 \n",
      "[264]\ttrain-logloss:0.106477+0.001680\ttest-logloss:0.153749+0.000859 \n",
      "[265]\ttrain-logloss:0.106175+0.001721\ttest-logloss:0.153557+0.000882 \n",
      "[266]\ttrain-logloss:0.105761+0.001685\ttest-logloss:0.153267+0.000941 \n",
      "[267]\ttrain-logloss:0.105450+0.001657\ttest-logloss:0.153074+0.000938 \n",
      "[268]\ttrain-logloss:0.105092+0.001642\ttest-logloss:0.152852+0.000920 \n",
      "[269]\ttrain-logloss:0.104784+0.001717\ttest-logloss:0.152633+0.000921 \n",
      "[270]\ttrain-logloss:0.104483+0.001707\ttest-logloss:0.152450+0.000897 \n",
      "[271]\ttrain-logloss:0.104156+0.001720\ttest-logloss:0.152264+0.000870 \n",
      "[272]\ttrain-logloss:0.103824+0.001650\ttest-logloss:0.152032+0.000769 \n",
      "[273]\ttrain-logloss:0.103508+0.001691\ttest-logloss:0.151817+0.000720 \n",
      "[274]\ttrain-logloss:0.103228+0.001749\ttest-logloss:0.151648+0.000743 \n",
      "[275]\ttrain-logloss:0.102894+0.001829\ttest-logloss:0.151463+0.000801 \n",
      "[276]\ttrain-logloss:0.102603+0.001899\ttest-logloss:0.151339+0.000808 \n",
      "[277]\ttrain-logloss:0.102263+0.002068\ttest-logloss:0.151117+0.000932 \n",
      "[278]\ttrain-logloss:0.101943+0.002013\ttest-logloss:0.150907+0.000907 \n",
      "[279]\ttrain-logloss:0.101631+0.002013\ttest-logloss:0.150720+0.000861 \n",
      "[280]\ttrain-logloss:0.101348+0.002012\ttest-logloss:0.150542+0.000863 \n",
      "[281]\ttrain-logloss:0.100961+0.002001\ttest-logloss:0.150311+0.000863 \n",
      "[282]\ttrain-logloss:0.100664+0.001925\ttest-logloss:0.150130+0.000816 \n",
      "[283]\ttrain-logloss:0.100353+0.001941\ttest-logloss:0.149956+0.000821 \n",
      "[284]\ttrain-logloss:0.100069+0.001885\ttest-logloss:0.149806+0.000811 \n",
      "[285]\ttrain-logloss:0.099741+0.001814\ttest-logloss:0.149570+0.000897 \n",
      "[286]\ttrain-logloss:0.099452+0.001796\ttest-logloss:0.149398+0.000910 \n",
      "[287]\ttrain-logloss:0.099083+0.001767\ttest-logloss:0.149137+0.000911 \n",
      "[288]\ttrain-logloss:0.098801+0.001724\ttest-logloss:0.148953+0.000911 \n",
      "[289]\ttrain-logloss:0.098501+0.001676\ttest-logloss:0.148798+0.000947 \n",
      "[290]\ttrain-logloss:0.098215+0.001633\ttest-logloss:0.148613+0.000892 \n",
      "[291]\ttrain-logloss:0.097933+0.001587\ttest-logloss:0.148490+0.000864 \n",
      "[292]\ttrain-logloss:0.097662+0.001588\ttest-logloss:0.148304+0.000869 \n",
      "[293]\ttrain-logloss:0.097384+0.001533\ttest-logloss:0.148157+0.000873 \n",
      "[294]\ttrain-logloss:0.097175+0.001552\ttest-logloss:0.148023+0.000874 \n",
      "[295]\ttrain-logloss:0.096930+0.001585\ttest-logloss:0.147921+0.000918 \n",
      "[296]\ttrain-logloss:0.096618+0.001578\ttest-logloss:0.147687+0.000939 \n",
      "[297]\ttrain-logloss:0.096272+0.001564\ttest-logloss:0.147456+0.000987 \n",
      "[298]\ttrain-logloss:0.095908+0.001580\ttest-logloss:0.147268+0.001005 \n",
      "[299]\ttrain-logloss:0.095633+0.001623\ttest-logloss:0.147136+0.001003 \n",
      "[300]\ttrain-logloss:0.095325+0.001623\ttest-logloss:0.146959+0.001066 \n",
      "[301]\ttrain-logloss:0.095089+0.001658\ttest-logloss:0.146809+0.001059 \n",
      "[302]\ttrain-logloss:0.094836+0.001646\ttest-logloss:0.146697+0.001040 \n",
      "[303]\ttrain-logloss:0.094618+0.001632\ttest-logloss:0.146596+0.001068 \n",
      "[304]\ttrain-logloss:0.094297+0.001632\ttest-logloss:0.146372+0.001064 \n",
      "[305]\ttrain-logloss:0.094019+0.001664\ttest-logloss:0.146258+0.001060 \n",
      "[306]\ttrain-logloss:0.093732+0.001694\ttest-logloss:0.146080+0.001086 \n",
      "[307]\ttrain-logloss:0.093573+0.001715\ttest-logloss:0.145983+0.001101 \n",
      "[308]\ttrain-logloss:0.093269+0.001663\ttest-logloss:0.145824+0.001107 \n",
      "[309]\ttrain-logloss:0.093037+0.001634\ttest-logloss:0.145680+0.001072 \n",
      "[310]\ttrain-logloss:0.092771+0.001631\ttest-logloss:0.145517+0.001077 \n",
      "[311]\ttrain-logloss:0.092474+0.001620\ttest-logloss:0.145332+0.001055 \n",
      "[312]\ttrain-logloss:0.092211+0.001656\ttest-logloss:0.145185+0.001085 \n",
      "[313]\ttrain-logloss:0.091878+0.001731\ttest-logloss:0.144978+0.001185 \n",
      "[314]\ttrain-logloss:0.091611+0.001724\ttest-logloss:0.144845+0.001175 \n",
      "[315]\ttrain-logloss:0.091256+0.001671\ttest-logloss:0.144669+0.001164 \n",
      "[316]\ttrain-logloss:0.090951+0.001653\ttest-logloss:0.144496+0.001134 \n",
      "[317]\ttrain-logloss:0.090663+0.001633\ttest-logloss:0.144347+0.001123 \n",
      "[318]\ttrain-logloss:0.090423+0.001629\ttest-logloss:0.144190+0.001139 \n",
      "[319]\ttrain-logloss:0.090134+0.001623\ttest-logloss:0.144059+0.001118 \n",
      "[320]\ttrain-logloss:0.089769+0.001633\ttest-logloss:0.143820+0.001026 \n",
      "[321]\ttrain-logloss:0.089494+0.001574\ttest-logloss:0.143691+0.001015 \n",
      "[322]\ttrain-logloss:0.089234+0.001594\ttest-logloss:0.143559+0.001031 \n",
      "[323]\ttrain-logloss:0.088977+0.001685\ttest-logloss:0.143414+0.001166 \n",
      "[324]\ttrain-logloss:0.088721+0.001652\ttest-logloss:0.143247+0.001098 \n",
      "[325]\ttrain-logloss:0.088422+0.001570\ttest-logloss:0.143085+0.001059 \n",
      "[326]\ttrain-logloss:0.088102+0.001585\ttest-logloss:0.142885+0.001039 \n",
      "[327]\ttrain-logloss:0.087806+0.001520\ttest-logloss:0.142726+0.000983 \n",
      "[328]\ttrain-logloss:0.087505+0.001512\ttest-logloss:0.142518+0.000941 \n",
      "[329]\ttrain-logloss:0.087276+0.001489\ttest-logloss:0.142386+0.000916 \n",
      "[330]\ttrain-logloss:0.087058+0.001495\ttest-logloss:0.142252+0.000891 \n",
      "[331]\ttrain-logloss:0.086859+0.001461\ttest-logloss:0.142137+0.000863 \n",
      "[332]\ttrain-logloss:0.086656+0.001439\ttest-logloss:0.142022+0.000862 \n",
      "[333]\ttrain-logloss:0.086429+0.001484\ttest-logloss:0.141904+0.000902 \n",
      "[334]\ttrain-logloss:0.086220+0.001494\ttest-logloss:0.141783+0.000920 \n",
      "[335]\ttrain-logloss:0.085968+0.001559\ttest-logloss:0.141649+0.000928 \n",
      "[336]\ttrain-logloss:0.085752+0.001564\ttest-logloss:0.141541+0.000907 \n",
      "[337]\ttrain-logloss:0.085521+0.001598\ttest-logloss:0.141391+0.000987 \n",
      "[338]\ttrain-logloss:0.085202+0.001619\ttest-logloss:0.141201+0.001011 \n",
      "[339]\ttrain-logloss:0.084885+0.001600\ttest-logloss:0.140994+0.000983 \n",
      "[340]\ttrain-logloss:0.084620+0.001555\ttest-logloss:0.140827+0.000941 \n",
      "[341]\ttrain-logloss:0.084318+0.001500\ttest-logloss:0.140659+0.000928 \n",
      "[342]\ttrain-logloss:0.084055+0.001559\ttest-logloss:0.140522+0.000951 \n",
      "[343]\ttrain-logloss:0.083796+0.001557\ttest-logloss:0.140394+0.000973 \n",
      "[344]\ttrain-logloss:0.083609+0.001576\ttest-logloss:0.140282+0.000976 \n",
      "[345]\ttrain-logloss:0.083348+0.001539\ttest-logloss:0.140144+0.000947 \n",
      "[346]\ttrain-logloss:0.083069+0.001452\ttest-logloss:0.140016+0.000902 \n",
      "[347]\ttrain-logloss:0.082721+0.001475\ttest-logloss:0.139831+0.000925 \n",
      "[348]\ttrain-logloss:0.082478+0.001511\ttest-logloss:0.139691+0.000906 \n",
      "[349]\ttrain-logloss:0.082227+0.001508\ttest-logloss:0.139518+0.000886 \n",
      "[350]\ttrain-logloss:0.081979+0.001511\ttest-logloss:0.139420+0.000927 \n",
      "[351]\ttrain-logloss:0.081727+0.001463\ttest-logloss:0.139299+0.000911 \n",
      "[352]\ttrain-logloss:0.081485+0.001447\ttest-logloss:0.139184+0.000919 \n",
      "[353]\ttrain-logloss:0.081192+0.001447\ttest-logloss:0.139073+0.000900 \n",
      "[354]\ttrain-logloss:0.081013+0.001433\ttest-logloss:0.138978+0.000907 \n",
      "[355]\ttrain-logloss:0.080815+0.001438\ttest-logloss:0.138844+0.000936 \n",
      "[356]\ttrain-logloss:0.080602+0.001472\ttest-logloss:0.138753+0.000962 \n",
      "[357]\ttrain-logloss:0.080354+0.001440\ttest-logloss:0.138621+0.000971 \n",
      "[358]\ttrain-logloss:0.080150+0.001388\ttest-logloss:0.138499+0.000907 \n",
      "[359]\ttrain-logloss:0.079954+0.001364\ttest-logloss:0.138398+0.000861 \n",
      "[360]\ttrain-logloss:0.079758+0.001351\ttest-logloss:0.138291+0.000864 \n",
      "[361]\ttrain-logloss:0.079476+0.001320\ttest-logloss:0.138101+0.000924 \n",
      "[362]\ttrain-logloss:0.079283+0.001278\ttest-logloss:0.138003+0.000903 \n",
      "[363]\ttrain-logloss:0.079048+0.001300\ttest-logloss:0.137876+0.000894 \n",
      "[364]\ttrain-logloss:0.078844+0.001244\ttest-logloss:0.137733+0.000868 \n",
      "[365]\ttrain-logloss:0.078665+0.001208\ttest-logloss:0.137632+0.000826 \n",
      "[366]\ttrain-logloss:0.078449+0.001207\ttest-logloss:0.137534+0.000801 \n",
      "[367]\ttrain-logloss:0.078209+0.001223\ttest-logloss:0.137410+0.000794 \n",
      "[368]\ttrain-logloss:0.077939+0.001191\ttest-logloss:0.137262+0.000802 \n",
      "[369]\ttrain-logloss:0.077661+0.001128\ttest-logloss:0.137104+0.000732 \n",
      "[370]\ttrain-logloss:0.077366+0.001079\ttest-logloss:0.136913+0.000700 \n",
      "[371]\ttrain-logloss:0.077164+0.001068\ttest-logloss:0.136822+0.000667 \n",
      "[372]\ttrain-logloss:0.076969+0.001048\ttest-logloss:0.136718+0.000643 \n",
      "[373]\ttrain-logloss:0.076810+0.001018\ttest-logloss:0.136636+0.000628 \n",
      "[374]\ttrain-logloss:0.076643+0.001059\ttest-logloss:0.136529+0.000647 \n",
      "[375]\ttrain-logloss:0.076427+0.001057\ttest-logloss:0.136416+0.000666 \n",
      "[376]\ttrain-logloss:0.076163+0.001114\ttest-logloss:0.136296+0.000664 \n",
      "[377]\ttrain-logloss:0.075886+0.001082\ttest-logloss:0.136147+0.000649 \n",
      "[378]\ttrain-logloss:0.075557+0.001095\ttest-logloss:0.135960+0.000686 \n",
      "[379]\ttrain-logloss:0.075336+0.001059\ttest-logloss:0.135820+0.000648 \n",
      "[380]\ttrain-logloss:0.075089+0.001027\ttest-logloss:0.135664+0.000600 \n",
      "[381]\ttrain-logloss:0.074803+0.001021\ttest-logloss:0.135518+0.000586 \n",
      "[382]\ttrain-logloss:0.074581+0.001038\ttest-logloss:0.135427+0.000608 \n",
      "[383]\ttrain-logloss:0.074384+0.001020\ttest-logloss:0.135346+0.000644 \n",
      "[384]\ttrain-logloss:0.074229+0.001096\ttest-logloss:0.135267+0.000675 \n",
      "[385]\ttrain-logloss:0.074053+0.001117\ttest-logloss:0.135205+0.000687 \n",
      "[386]\ttrain-logloss:0.073849+0.001084\ttest-logloss:0.135068+0.000683 \n",
      "[387]\ttrain-logloss:0.073617+0.001140\ttest-logloss:0.134959+0.000705 \n",
      "[388]\ttrain-logloss:0.073446+0.001138\ttest-logloss:0.134866+0.000669 \n",
      "[389]\ttrain-logloss:0.073295+0.001104\ttest-logloss:0.134781+0.000671 \n",
      "[390]\ttrain-logloss:0.073082+0.001074\ttest-logloss:0.134657+0.000655 \n",
      "[391]\ttrain-logloss:0.072841+0.001093\ttest-logloss:0.134505+0.000672 \n",
      "[392]\ttrain-logloss:0.072668+0.001123\ttest-logloss:0.134403+0.000718 \n",
      "[393]\ttrain-logloss:0.072451+0.001189\ttest-logloss:0.134279+0.000708 \n",
      "[394]\ttrain-logloss:0.072224+0.001225\ttest-logloss:0.134155+0.000669 \n",
      "[395]\ttrain-logloss:0.072042+0.001232\ttest-logloss:0.134067+0.000662 \n",
      "[396]\ttrain-logloss:0.071858+0.001202\ttest-logloss:0.133970+0.000636 \n",
      "[397]\ttrain-logloss:0.071676+0.001145\ttest-logloss:0.133881+0.000613 \n",
      "[398]\ttrain-logloss:0.071488+0.001154\ttest-logloss:0.133786+0.000595 \n",
      "[399]\ttrain-logloss:0.071309+0.001168\ttest-logloss:0.133697+0.000612 \n",
      "[400]\ttrain-logloss:0.071045+0.001104\ttest-logloss:0.133531+0.000604 \n",
      "[401]\ttrain-logloss:0.070801+0.001112\ttest-logloss:0.133409+0.000637 \n",
      "[402]\ttrain-logloss:0.070590+0.001146\ttest-logloss:0.133293+0.000640 \n",
      "[403]\ttrain-logloss:0.070372+0.001146\ttest-logloss:0.133198+0.000639 \n",
      "[404]\ttrain-logloss:0.070180+0.001163\ttest-logloss:0.133153+0.000683 \n",
      "[405]\ttrain-logloss:0.070004+0.001187\ttest-logloss:0.133044+0.000685 \n",
      "[406]\ttrain-logloss:0.069758+0.001219\ttest-logloss:0.132925+0.000708 \n",
      "[407]\ttrain-logloss:0.069602+0.001227\ttest-logloss:0.132840+0.000699 \n",
      "[408]\ttrain-logloss:0.069442+0.001222\ttest-logloss:0.132744+0.000720 \n",
      "[409]\ttrain-logloss:0.069254+0.001221\ttest-logloss:0.132671+0.000721 \n",
      "[410]\ttrain-logloss:0.069036+0.001223\ttest-logloss:0.132543+0.000727 \n",
      "[411]\ttrain-logloss:0.068855+0.001225\ttest-logloss:0.132470+0.000711 \n",
      "[412]\ttrain-logloss:0.068626+0.001226\ttest-logloss:0.132356+0.000698 \n",
      "[413]\ttrain-logloss:0.068431+0.001227\ttest-logloss:0.132223+0.000717 \n",
      "[414]\ttrain-logloss:0.068230+0.001183\ttest-logloss:0.132099+0.000703 \n",
      "[415]\ttrain-logloss:0.068033+0.001180\ttest-logloss:0.132004+0.000707 \n",
      "[416]\ttrain-logloss:0.067837+0.001193\ttest-logloss:0.131890+0.000748 \n",
      "[417]\ttrain-logloss:0.067645+0.001244\ttest-logloss:0.131741+0.000786 \n",
      "[418]\ttrain-logloss:0.067507+0.001270\ttest-logloss:0.131652+0.000824 \n",
      "[419]\ttrain-logloss:0.067321+0.001209\ttest-logloss:0.131521+0.000751 \n",
      "[420]\ttrain-logloss:0.067120+0.001193\ttest-logloss:0.131412+0.000743 \n",
      "[421]\ttrain-logloss:0.066954+0.001192\ttest-logloss:0.131303+0.000743 \n",
      "[422]\ttrain-logloss:0.066724+0.001144\ttest-logloss:0.131178+0.000732 \n",
      "[423]\ttrain-logloss:0.066539+0.001097\ttest-logloss:0.131091+0.000736 \n",
      "[424]\ttrain-logloss:0.066371+0.001102\ttest-logloss:0.131023+0.000722 \n",
      "[425]\ttrain-logloss:0.066147+0.001085\ttest-logloss:0.130905+0.000735 \n",
      "[426]\ttrain-logloss:0.065958+0.001069\ttest-logloss:0.130811+0.000712 \n",
      "[427]\ttrain-logloss:0.065725+0.001029\ttest-logloss:0.130655+0.000712 \n",
      "[428]\ttrain-logloss:0.065507+0.000966\ttest-logloss:0.130505+0.000699 \n",
      "[429]\ttrain-logloss:0.065340+0.000946\ttest-logloss:0.130420+0.000675 \n",
      "[430]\ttrain-logloss:0.065131+0.000936\ttest-logloss:0.130311+0.000647 \n",
      "[431]\ttrain-logloss:0.064880+0.000874\ttest-logloss:0.130176+0.000596 \n",
      "[432]\ttrain-logloss:0.064701+0.000882\ttest-logloss:0.130076+0.000599 \n",
      "[433]\ttrain-logloss:0.064498+0.000871\ttest-logloss:0.130007+0.000591 \n",
      "[434]\ttrain-logloss:0.064323+0.000919\ttest-logloss:0.129930+0.000608 \n",
      "[435]\ttrain-logloss:0.064157+0.000954\ttest-logloss:0.129860+0.000621 \n",
      "[436]\ttrain-logloss:0.063982+0.000939\ttest-logloss:0.129753+0.000644 \n",
      "[437]\ttrain-logloss:0.063788+0.000969\ttest-logloss:0.129619+0.000694 \n",
      "[438]\ttrain-logloss:0.063616+0.000952\ttest-logloss:0.129506+0.000696 \n",
      "[439]\ttrain-logloss:0.063482+0.000908\ttest-logloss:0.129455+0.000667 \n",
      "[440]\ttrain-logloss:0.063324+0.000899\ttest-logloss:0.129360+0.000675 \n",
      "[441]\ttrain-logloss:0.063123+0.000826\ttest-logloss:0.129220+0.000610 \n",
      "[442]\ttrain-logloss:0.062918+0.000790\ttest-logloss:0.129105+0.000630 \n",
      "[443]\ttrain-logloss:0.062725+0.000783\ttest-logloss:0.129019+0.000650 \n",
      "[444]\ttrain-logloss:0.062491+0.000729\ttest-logloss:0.128917+0.000678 \n",
      "[445]\ttrain-logloss:0.062319+0.000742\ttest-logloss:0.128854+0.000674 \n",
      "[446]\ttrain-logloss:0.062148+0.000758\ttest-logloss:0.128776+0.000691 \n",
      "[447]\ttrain-logloss:0.061967+0.000732\ttest-logloss:0.128680+0.000710 \n",
      "[448]\ttrain-logloss:0.061838+0.000754\ttest-logloss:0.128633+0.000728 \n",
      "[449]\ttrain-logloss:0.061710+0.000725\ttest-logloss:0.128560+0.000718 \n",
      "[450]\ttrain-logloss:0.061541+0.000731\ttest-logloss:0.128445+0.000716 \n",
      "[451]\ttrain-logloss:0.061338+0.000676\ttest-logloss:0.128333+0.000723 \n",
      "[452]\ttrain-logloss:0.061151+0.000664\ttest-logloss:0.128217+0.000691 \n",
      "[453]\ttrain-logloss:0.060896+0.000677\ttest-logloss:0.128085+0.000699 \n",
      "[454]\ttrain-logloss:0.060697+0.000706\ttest-logloss:0.127987+0.000710 \n",
      "[455]\ttrain-logloss:0.060452+0.000676\ttest-logloss:0.127873+0.000705 \n",
      "[456]\ttrain-logloss:0.060214+0.000612\ttest-logloss:0.127760+0.000690 \n",
      "[457]\ttrain-logloss:0.059990+0.000599\ttest-logloss:0.127665+0.000700 \n",
      "[458]\ttrain-logloss:0.059777+0.000604\ttest-logloss:0.127564+0.000701 \n",
      "[459]\ttrain-logloss:0.059589+0.000587\ttest-logloss:0.127495+0.000701 \n",
      "[460]\ttrain-logloss:0.059392+0.000590\ttest-logloss:0.127414+0.000673 \n",
      "[461]\ttrain-logloss:0.059225+0.000574\ttest-logloss:0.127312+0.000650 \n",
      "[462]\ttrain-logloss:0.059025+0.000605\ttest-logloss:0.127173+0.000630 \n",
      "[463]\ttrain-logloss:0.058871+0.000619\ttest-logloss:0.127101+0.000585 \n",
      "[464]\ttrain-logloss:0.058741+0.000640\ttest-logloss:0.127046+0.000563 \n",
      "[465]\ttrain-logloss:0.058510+0.000715\ttest-logloss:0.126923+0.000631 \n",
      "[466]\ttrain-logloss:0.058326+0.000754\ttest-logloss:0.126845+0.000633 \n",
      "[467]\ttrain-logloss:0.058131+0.000804\ttest-logloss:0.126743+0.000649 \n",
      "[468]\ttrain-logloss:0.057955+0.000775\ttest-logloss:0.126655+0.000649 \n",
      "[469]\ttrain-logloss:0.057791+0.000764\ttest-logloss:0.126585+0.000645 \n",
      "[470]\ttrain-logloss:0.057633+0.000770\ttest-logloss:0.126490+0.000631 \n",
      "[471]\ttrain-logloss:0.057446+0.000743\ttest-logloss:0.126423+0.000657 \n",
      "[472]\ttrain-logloss:0.057313+0.000723\ttest-logloss:0.126350+0.000640 \n",
      "[473]\ttrain-logloss:0.057155+0.000720\ttest-logloss:0.126263+0.000616 \n",
      "[474]\ttrain-logloss:0.056961+0.000773\ttest-logloss:0.126159+0.000604 \n",
      "[475]\ttrain-logloss:0.056783+0.000778\ttest-logloss:0.126079+0.000597 \n",
      "[476]\ttrain-logloss:0.056616+0.000808\ttest-logloss:0.126003+0.000587 \n",
      "[477]\ttrain-logloss:0.056437+0.000829\ttest-logloss:0.125925+0.000593 \n",
      "[478]\ttrain-logloss:0.056258+0.000817\ttest-logloss:0.125865+0.000581 \n",
      "[479]\ttrain-logloss:0.056100+0.000816\ttest-logloss:0.125777+0.000597 \n",
      "[480]\ttrain-logloss:0.055897+0.000736\ttest-logloss:0.125681+0.000638 \n",
      "[481]\ttrain-logloss:0.055698+0.000748\ttest-logloss:0.125577+0.000644 \n",
      "[482]\ttrain-logloss:0.055536+0.000757\ttest-logloss:0.125499+0.000658 \n",
      "[483]\ttrain-logloss:0.055381+0.000768\ttest-logloss:0.125442+0.000672 \n",
      "[484]\ttrain-logloss:0.055227+0.000754\ttest-logloss:0.125363+0.000672 \n",
      "[485]\ttrain-logloss:0.055050+0.000804\ttest-logloss:0.125289+0.000704 \n",
      "[486]\ttrain-logloss:0.054883+0.000819\ttest-logloss:0.125234+0.000719 \n",
      "[487]\ttrain-logloss:0.054742+0.000797\ttest-logloss:0.125152+0.000735 \n",
      "[488]\ttrain-logloss:0.054592+0.000795\ttest-logloss:0.125062+0.000731 \n",
      "[489]\ttrain-logloss:0.054467+0.000793\ttest-logloss:0.125012+0.000752 \n",
      "[490]\ttrain-logloss:0.054332+0.000792\ttest-logloss:0.124953+0.000724 \n",
      "[491]\ttrain-logloss:0.054192+0.000829\ttest-logloss:0.124908+0.000746 \n",
      "[492]\ttrain-logloss:0.054058+0.000879\ttest-logloss:0.124848+0.000744 \n",
      "[493]\ttrain-logloss:0.053890+0.000885\ttest-logloss:0.124782+0.000727 \n",
      "[494]\ttrain-logloss:0.053760+0.000863\ttest-logloss:0.124736+0.000709 \n",
      "[495]\ttrain-logloss:0.053570+0.000842\ttest-logloss:0.124643+0.000706 \n",
      "[496]\ttrain-logloss:0.053399+0.000774\ttest-logloss:0.124543+0.000688 \n",
      "[497]\ttrain-logloss:0.053218+0.000761\ttest-logloss:0.124494+0.000701 \n",
      "[498]\ttrain-logloss:0.053038+0.000759\ttest-logloss:0.124418+0.000703 \n",
      "[499]\ttrain-logloss:0.052905+0.000791\ttest-logloss:0.124357+0.000729 \n",
      "[500]\ttrain-logloss:0.052755+0.000739\ttest-logloss:0.124294+0.000728 \n",
      "XGBoost Model\n",
      "Start time:\t 2017-04-05 12:10:25 \n",
      "End time:\t 2017-04-05 18:52:16 \n",
      "Total time:\t 6.697516 \n"
     ]
    }
   ],
   "source": [
    "#######################################################\n",
    "# temporarily code\n",
    "\n",
    "start.time = Sys.time()  # get time information\n",
    "\n",
    "# build XGBoost model\n",
    "set.seed(2017)\n",
    "cv.dummy = xgb.cv(data=train.m.x, label=train.m.y, nfold=5, max.depth=6, eta=0.8, \n",
    "                  scale_pos_weight=ratio, nrounds=500, early.stop.round=3,\n",
    "                  verbose=T, objective=\"binary:logistic\", metrics=list(\"logloss\"))\n",
    "\n",
    "end.time = Sys.time()\n",
    "cat(\"XGBoost Model\\n\")\n",
    "cat('Start time:\\t', as.character(start.time), '\\n')\n",
    "cat('End time:\\t', as.character(end.time), '\\n')\n",
    "cat('Total time:\\t', end.time - start.time, '\\n')"
   ]
  },
  {
   "cell_type": "code",
   "execution_count": 39,
   "metadata": {
    "collapsed": false
   },
   "outputs": [
    {
     "data": {
      "image/png": "[encoded data removed]",
      "text/plain": [
       "plot without title"
      ]
     },
     "metadata": {},
     "output_type": "display_data"
    }
   ],
   "source": [
    "plot(cv.dummy$evaluation_log$test_logloss_mean)"
   ]
  },
  {
   "cell_type": "code",
   "execution_count": 37,
   "metadata": {
    "collapsed": false
   },
   "outputs": [
    {
     "name": "stdout",
     "output_type": "stream",
     "text": [
      "XGBoost Model\n",
      "Start time:\t 2017-04-05 18:57:01 \n",
      "End time:\t 2017-04-05 20:46:21 \n",
      "Total time:\t 1.822099 \n"
     ]
    }
   ],
   "source": [
    "# fit the model\n",
    "start.time = Sys.time()  # get time information\n",
    "\n",
    "bst = xgboost(data=train.m.x, label=train.m.y, max.depth=6, eta=0.8, nrounds=500, \n",
    "              scale_pos_weight=ratio, objective=\"binary:logistic\", verbose=F)\n",
    "\n",
    "end.time = Sys.time()\n",
    "cat(\"XGBoost Model\\n\")\n",
    "cat('Start time:\\t', as.character(start.time), '\\n')\n",
    "cat('End time:\\t', as.character(end.time), '\\n')\n",
    "cat('Total time:\\t', end.time - start.time, '\\n')"
   ]
  },
  {
   "cell_type": "code",
   "execution_count": 40,
   "metadata": {
    "collapsed": true
   },
   "outputs": [],
   "source": [
    "# calculate log-loss\n",
    "test.y.hat = predict(bst, test.m.x)\n",
    "test.y.hat = scale(test.y.hat)\n",
    "\n",
    "# # make submission file\n",
    "# TEST_predict$prob = test.y.hat\n",
    "# write.table(TEST_predict, './mysubmission1.txt', row.names=FALSE, sep=',')"
   ]
  },
  {
   "cell_type": "code",
   "execution_count": 41,
   "metadata": {
    "collapsed": false
   },
   "outputs": [
    {
     "name": "stdout",
     "output_type": "stream",
     "text": [
      "train loss\t 0.003822374 \n",
      "test loss\t 0.04823879 \n"
     ]
    }
   ],
   "source": [
    "#######################################################\n",
    "# temporarily code\n",
    "train.y.hat = predict(bst, train.m.x)\n",
    "train.y.hat = scale(train.y.hat)\n",
    "\n",
    "train.y = train$loan_status\n",
    "\n",
    "train.loss = -sum(train.y * log(train.y.hat)) / length(train.y)\n",
    "test.loss = -sum(test.y * log(test.y.hat)) / length(test.y)\n",
    "\n",
    "cat('train loss\\t', train.loss, '\\n')\n",
    "cat('test loss\\t', test.loss, '\\n')"
   ]
  },
  {
   "cell_type": "markdown",
   "metadata": {},
   "source": [
    "## Test"
   ]
  },
  {
   "cell_type": "code",
   "execution_count": 46,
   "metadata": {
    "collapsed": false
   },
   "outputs": [
    {
     "name": "stdout",
     "output_type": "stream",
     "text": [
      "10 \t 0.02000505 \n",
      "20 \t 0.02002836 \n",
      "30 \t 0.02035106 \n",
      "40 \t 0.02081784 \n",
      "50 \t 0.02135053 \n",
      "60 \t 0.0219642 \n",
      "70 \t 0.02245995 \n",
      "80 \t 0.02305109 \n",
      "90 \t 0.02361577 \n",
      "100 \t 0.02424128 \n"
     ]
    }
   ],
   "source": [
    "for (i in c(10, 20, 30, 40, 50, 60, 70, 80, 90, 100)) {\n",
    "    y.tmp = predict(bst, test.m.x, ntreelimit=i)\n",
    "    y.tmp = scale(y.tmp)\n",
    "    loss = -sum(test.y * log(y.tmp)) / length(test.y)\n",
    "    cat(i, '\\t', loss, '\\n')\n",
    "}"
   ]
  },
  {
   "cell_type": "markdown",
   "metadata": {},
   "source": [
    "# Total Used Time"
   ]
  },
  {
   "cell_type": "code",
   "execution_count": 42,
   "metadata": {
    "collapsed": false
   },
   "outputs": [
    {
     "name": "stdout",
     "output_type": "stream",
     "text": [
      "All running time\n",
      "Start time:\t 2017-04-05 11:28:43 \n",
      "End time:\t 2017-04-05 20:54:27 \n",
      "Total time:\t 9.428768 \n"
     ]
    }
   ],
   "source": [
    "# get the used time information\n",
    "all.end.time = Sys.time()\n",
    "cat(\"All running time\\n\")\n",
    "cat('Start time:\\t', as.character(all.start.time), '\\n')\n",
    "cat('End time:\\t', as.character(all.end.time), '\\n')\n",
    "cat('Total time:\\t', all.end.time - all.start.time, '\\n')"
   ]
  },
  {
   "cell_type": "code",
   "execution_count": null,
   "metadata": {
    "collapsed": true
   },
   "outputs": [],
   "source": []
  }
 ],
 "metadata": {
  "kernelspec": {
   "display_name": "R",
   "language": "R",
   "name": "ir"
  },
  "language_info": {
   "codemirror_mode": "r",
   "file_extension": ".r",
   "mimetype": "text/x-r-source",
   "name": "R",
   "pygments_lexer": "r",
   "version": "3.3.2"
  }
 },
 "nbformat": 4,
 "nbformat_minor": 2
}
