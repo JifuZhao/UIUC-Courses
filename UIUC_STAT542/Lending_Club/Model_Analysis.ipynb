{
 "cells": [
  {
   "cell_type": "code",
   "execution_count": 56,
   "metadata": {
    "collapsed": false
   },
   "outputs": [],
   "source": [
    "options(warn=-1)\n",
    "# import required library\n",
    "if (!require(dummies)) {\n",
    "    install.packages(\"dummies\")\n",
    "}\n",
    "if (!require(DAAG)) {\n",
    "    install.packages(\"DAAG\")\n",
    "}\n",
    "if (!require(xgboost)) {\n",
    "    install.packages(\"xgboost\")\n",
    "}\n",
    "if (!require(randomForest)) {\n",
    "    install.packages(\"randomForest\")\n",
    "}\n",
    "if (!require(gbm)) {\n",
    "    install.packages(\"gbm\")\n",
    "}\n",
    "if (!require(glmnet)) {\n",
    "    install.packages(\"glmnet\")\n",
    "}\n",
    "library(xgboost)  # XGBoost model\n",
    "library(randomForest)  # Random Forest model\n",
    "library(gbm)  # GBM model\n",
    "library(dummies)  # Dummy variable\n",
    "library(DAAG)  # Cross-Validation\n",
    "library(glmnet)    # Logistic regression with Lasso"
   ]
  },
  {
   "cell_type": "code",
   "execution_count": 3,
   "metadata": {
    "collapsed": false,
    "scrolled": false
   },
   "outputs": [],
   "source": [
    "# load the data set\n",
    "data = read.csv('./data/loan.csv')\n",
    "# Q1 = read.csv('./data/LoanStats_2016Q1.csv')\n",
    "# Q2 = read.csv('./data/LoanStats_2016Q2.csv')\n",
    "# Q3 = read.csv('./data/LoanStats_2016Q3.csv')\n",
    "# Q4 = read.csv('./data/LoanStats_2016Q4.csv')"
   ]
  },
  {
   "cell_type": "markdown",
   "metadata": {},
   "source": [
    "# Pre-processing and feature selection"
   ]
  },
  {
   "cell_type": "code",
   "execution_count": 31,
   "metadata": {
    "collapsed": false
   },
   "outputs": [],
   "source": [
    "# change the loan status\n",
    "default.y = c('Default', 'Charged Off', 'Late (31-120 days)', 'Late (16-30 days)', \n",
    "              'Does not meet the credit policy. Status:Charged Off')\n",
    "data$loan_status = ifelse(data$loan_status %in% default.y, 1, 0)\n",
    "\n",
    "# -----------------------------------------------------------\n",
    "# drop columns that have too many missing values\n",
    "drop.names = c(\"mths_since_last_delinq\", \"mths_since_last_record\", \"mths_since_last_major_derog\", \n",
    "               \"annual_inc_joint\", \"dti_joint\", \"open_acc_6m\", \"open_il_6m\", \"open_il_12m\", \n",
    "               \"open_il_24m\", \"mths_since_rcnt_il\", \"total_bal_il\", \"il_util\", \"open_rv_12m\", \n",
    "               \"open_rv_24m\", \"max_bal_bc\", \"all_util\", \"inq_fi\", \"total_cu_tl\", \"inq_last_12m\")\n",
    "data = data[, !(names(data) %in% drop.names)]\n",
    "\n",
    "# Transform categorical feature into numerical feature\n",
    "data$sub_grade = as.numeric(data$sub_grade)\n",
    "\n",
    "# -----------------------------------------------------------\n",
    "# Drop useless features\n",
    "# drop useless categorical features\n",
    "drop.names = c(\"emp_title\", \"issue_d\", \"pymnt_plan\", \"url\", \"desc\", \"title\", \"zip_code\", \"addr_state\", \n",
    "               \"earliest_cr_line\", \"last_pymnt_d\", \"next_pymnt_d\", \"last_credit_pull_d\", \"application_type\", \n",
    "               \"verification_status_joint\", \"grade\")\n",
    "data = data[, !(names(data) %in% drop.names)]\n",
    "\n",
    "# drop useless numerical features\n",
    "drop.names = c(\"id\", \"member_id\", \"policy_code\")\n",
    "data = data[, !(names(data) %in% drop.names)]\n",
    "\n",
    "# -----------------------------------------------------------\n",
    "# Data Structures\n",
    "# find all categorical and numerical variables\n",
    "data.type = sapply(data, class)\n",
    "cat.var = names(data)[which(data.type == 'factor')]\n",
    "num.var = names(data)[which((data.type == 'integer') | (data.type == 'numeric'))]\n",
    "\n",
    "# -----------------------------------------------------------\n",
    "# Fill NA values\n",
    "# create new feature named \"NA\" for categorical variables\n",
    "for (i in cat.var) {\n",
    "    data[, i] = addNA(data[, i])\n",
    "}\n",
    "\n",
    "# create new feature using the median value for numerical variables\n",
    "for (i in num.var) {\n",
    "    na.id = is.na(data[, i])\n",
    "    tmp.median = median(data[, i], na.rm=TRUE)\n",
    "    data[which(na.id), i] = tmp.median\n",
    "}\n",
    "\n",
    "# -----------------------------------------------------------\n",
    "# Skewness\n",
    "skew = c('installment', 'annual_inc', 'dti', 'revol_bal', 'total_acc', 'out_prncp', 'out_prncp_inv', \n",
    "         'total_pymnt', 'total_pymnt_inv', 'total_rec_prncp', 'total_rec_int', 'total_rec_late_fee', \n",
    "         'recoveries', 'collection_recovery_fee', 'last_pymnt_amnt', 'tot_coll_amt', 'tot_cur_bal',\n",
    "         'total_rev_hi_lim')\n",
    "for (i in skew){\n",
    "    data[, i] = log(data[, i] + 1)\n",
    "}\n",
    "    \n",
    "# -----------------------------------------------------------\n",
    "# Dummy Variables\n",
    "# create dummy variables\n",
    "dummy.var = data.frame(dummy.data.frame(data[, cat.var], sep='.'))\n",
    "data = cbind(data, dummy.var)"
   ]
  },
  {
   "cell_type": "code",
   "execution_count": 47,
   "metadata": {
    "collapsed": true
   },
   "outputs": [],
   "source": [
    "# drop original categorical variables\n",
    "data = data[ , !(names(data) %in% cat.var)]"
   ]
  },
  {
   "cell_type": "markdown",
   "metadata": {},
   "source": [
    "# Vanilla Logistic Model"
   ]
  },
  {
   "cell_type": "code",
   "execution_count": 52,
   "metadata": {
    "collapsed": true
   },
   "outputs": [],
   "source": [
    "# fit the logistic model\n",
    "log.model = glm(loan_status ~ ., data=data, family=binomial)"
   ]
  },
  {
   "cell_type": "code",
   "execution_count": 73,
   "metadata": {
    "collapsed": false
   },
   "outputs": [
    {
     "data": {
      "text/html": [
       "0.0680298768925804"
      ],
      "text/latex": [
       "0.0680298768925804"
      ],
      "text/markdown": [
       "0.0680298768925804"
      ],
      "text/plain": [
       "[1] 0.06802988"
      ]
     },
     "metadata": {},
     "output_type": "display_data"
    }
   ],
   "source": [
    "# calculate log-loss\n",
    "y.hat = log.model$fitted.values\n",
    "y = data$loan_status\n",
    "loss = -sum(y * log(y.hat)) / length(y)\n",
    "loss"
   ]
  },
  {
   "cell_type": "markdown",
   "metadata": {},
   "source": [
    "# Logistic Model with Lasso"
   ]
  },
  {
   "cell_type": "code",
   "execution_count": 89,
   "metadata": {
    "collapsed": false
   },
   "outputs": [],
   "source": [
    "# transform into matrix\n",
    "idx = which(names(data) == \"loan_status\")\n",
    "x = data.matrix(data[, -idx])\n",
    "y = data$loan_status"
   ]
  },
  {
   "cell_type": "code",
   "execution_count": null,
   "metadata": {
    "collapsed": true
   },
   "outputs": [],
   "source": [
    "# Cross Validation\n",
    "log.cv = cv.glmnet(x, y, family=\"binomial\", alpha=1)"
   ]
  },
  {
   "cell_type": "code",
   "execution_count": 110,
   "metadata": {
    "collapsed": false
   },
   "outputs": [],
   "source": [
    "plot(log.cv)"
   ]
  },
  {
   "cell_type": "code",
   "execution_count": null,
   "metadata": {
    "collapsed": true
   },
   "outputs": [],
   "source": []
  },
  {
   "cell_type": "code",
   "execution_count": 99,
   "metadata": {
    "collapsed": false
   },
   "outputs": [],
   "source": [
    "# calculate log-loss\n",
    "y.hat = predict(lasso.model, newx=x)\n",
    "y = data$loan_status\n",
    "loss = -sum(y * log(y.hat)) / length(y)\n",
    "loss"
   ]
  },
  {
   "cell_type": "markdown",
   "metadata": {},
   "source": [
    "# Random Forest"
   ]
  },
  {
   "cell_type": "code",
   "execution_count": null,
   "metadata": {
    "collapsed": true
   },
   "outputs": [],
   "source": []
  },
  {
   "cell_type": "markdown",
   "metadata": {},
   "source": [
    "# GBM"
   ]
  },
  {
   "cell_type": "code",
   "execution_count": null,
   "metadata": {
    "collapsed": true
   },
   "outputs": [],
   "source": []
  },
  {
   "cell_type": "markdown",
   "metadata": {},
   "source": [
    "# XGBoost"
   ]
  },
  {
   "cell_type": "code",
   "execution_count": null,
   "metadata": {
    "collapsed": true
   },
   "outputs": [],
   "source": []
  }
 ],
 "metadata": {
  "kernelspec": {
   "display_name": "R",
   "language": "R",
   "name": "ir"
  },
  "language_info": {
   "codemirror_mode": "r",
   "file_extension": ".r",
   "mimetype": "text/x-r-source",
   "name": "R",
   "pygments_lexer": "r",
   "version": "3.3.2"
  }
 },
 "nbformat": 4,
 "nbformat_minor": 2
}
