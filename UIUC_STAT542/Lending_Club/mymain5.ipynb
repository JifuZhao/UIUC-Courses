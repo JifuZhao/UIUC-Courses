{
 "cells": [
  {
   "cell_type": "code",
   "execution_count": 1,
   "metadata": {
    "collapsed": false
   },
   "outputs": [
    {
     "name": "stderr",
     "output_type": "stream",
     "text": [
      "Loading required package: dummies\n",
      "dummies-1.5.6 provided by Decision Patterns\n",
      "\n",
      "Loading required package: DAAG\n",
      "Loading required package: lattice\n",
      "Loading required package: xgboost\n",
      "Loading required package: randomForest\n",
      "randomForest 4.6-12\n",
      "Type rfNews() to see new features/changes/bug fixes.\n",
      "Loading required package: gbm\n",
      "Loading required package: survival\n",
      "\n",
      "Attaching package: ‘survival’\n",
      "\n",
      "The following object is masked from ‘package:DAAG’:\n",
      "\n",
      "    lung\n",
      "\n",
      "Loading required package: splines\n",
      "Loading required package: parallel\n",
      "Loaded gbm 2.1.1\n",
      "Loading required package: glmnet\n",
      "Loading required package: Matrix\n",
      "Loading required package: foreach\n",
      "Loaded glmnet 2.0-5\n",
      "\n"
     ]
    }
   ],
   "source": [
    "all.start.time = Sys.time()\n",
    "options(warn=-1)\n",
    "\n",
    "# import required library\n",
    "if (!require(dummies)) {\n",
    "    install.packages(\"dummies\")\n",
    "}\n",
    "if (!require(DAAG)) {\n",
    "    install.packages(\"DAAG\")\n",
    "}\n",
    "if (!require(xgboost)) {\n",
    "    install.packages(\"xgboost\")\n",
    "}\n",
    "if (!require(randomForest)) {\n",
    "    install.packages(\"randomForest\")\n",
    "}\n",
    "if (!require(gbm)) {\n",
    "    install.packages(\"gbm\")\n",
    "}\n",
    "if (!require(glmnet)) {\n",
    "    install.packages(\"glmnet\")\n",
    "}\n",
    "\n",
    "library(xgboost)       # XGBoost model\n",
    "library(randomForest)  # Random Forest model\n",
    "library(gbm)           # GBM model\n",
    "library(dummies)       # Dummy variable\n",
    "library(DAAG)          # Cross-Validation\n",
    "library(glmnet)        # Logistic regression with Lasso"
   ]
  },
  {
   "cell_type": "code",
   "execution_count": 2,
   "metadata": {
    "collapsed": false
   },
   "outputs": [],
   "source": [
    "#######################################################\n",
    "# temporarily code\n",
    "# load the data set\n",
    "data = read.csv('../data/loan.csv')\n",
    "tmp = read.csv('../data/2016AllData.csv')\n",
    "\n",
    "# change factor into numeric\n",
    "tmp$int_rate = as.numeric(sub(\"%\", \"\", tmp$int_rate))\n",
    "tmp$revol_util = as.numeric(sub(\"%\", \"\", tmp$revol_util))\n",
    "\n",
    "# merge together\n",
    "data = rbind(data, tmp)\n",
    "rm(tmp)\n",
    "\n",
    "# random sample 75% as training and 25% as test set\n",
    "set.seed(2017)\n",
    "idx = sample(1:nrow(data), floor(nrow(data) * 0.75), replace=FALSE)\n",
    "train = data[idx, ]\n",
    "test = data[-idx, ]\n",
    "\n",
    "# change the loan status\n",
    "default.y = c('Default', 'Charged Off', 'Late (31-120 days)', 'Late (16-30 days)', \n",
    "              'Does not meet the credit policy. Status:Charged Off')\n",
    "test.y = ifelse(test$loan_status %in% default.y, 1, 0)\n",
    "test = test[, names(test) != \"loan_status\"]\n",
    "\n",
    "rm(data)"
   ]
  },
  {
   "cell_type": "code",
   "execution_count": 3,
   "metadata": {
    "collapsed": false
   },
   "outputs": [],
   "source": [
    "# # -----------------------------------------------------------\n",
    "# # load the data set\n",
    "# train = read.csv('./train.csv')\n",
    "# test = read.csv('./test.csv')\n",
    "\n",
    "# the ID as the first column\n",
    "TEST_predict = data.frame(test[, \"id\"])  \n",
    "# the SalePrice was set to 0.0 initially\n",
    "TEST_predict['prob'] = matrix(rep(0.0, nrow(test))) \n",
    "# reset the column names of final results\n",
    "colnames(TEST_predict) = c(\"id\", \"prob\")  "
   ]
  },
  {
   "cell_type": "code",
   "execution_count": 4,
   "metadata": {
    "collapsed": false
   },
   "outputs": [
    {
     "data": {
      "text/html": [
       "<table>\n",
       "<thead><tr><th></th><th scope=col>used</th><th scope=col>(Mb)</th><th scope=col>gc trigger</th><th scope=col>(Mb)</th><th scope=col>max used</th><th scope=col>(Mb)</th></tr></thead>\n",
       "<tbody>\n",
       "\t<tr><th scope=row>Ncells</th><td>  2571736</td><td>137.4    </td><td>  6379917</td><td> 340.8   </td><td>  5746929</td><td> 307     </td></tr>\n",
       "\t<tr><th scope=row>Vcells</th><td>110539978</td><td>843.4    </td><td>230817052</td><td>1761.0   </td><td>288485245</td><td>2201     </td></tr>\n",
       "</tbody>\n",
       "</table>\n"
      ],
      "text/latex": [
       "\\begin{tabular}{r|llllll}\n",
       "  & used & (Mb) & gc trigger & (Mb) & max used & (Mb)\\\\\n",
       "\\hline\n",
       "\tNcells &   2571736 & 137.4     &   6379917 &  340.8    &   5746929 &  307     \\\\\n",
       "\tVcells & 110539978 & 843.4     & 230817052 & 1761.0    & 288485245 & 2201     \\\\\n",
       "\\end{tabular}\n"
      ],
      "text/markdown": [
       "\n",
       "| <!--/--> | used | (Mb) | gc trigger | (Mb) | max used | (Mb) | \n",
       "|---|---|\n",
       "| Ncells |   2571736 | 137.4     |   6379917 |  340.8    |   5746929 |  307      | \n",
       "| Vcells | 110539978 | 843.4     | 230817052 | 1761.0    | 288485245 | 2201      | \n",
       "\n",
       "\n"
      ],
      "text/plain": [
       "       used      (Mb)  gc trigger (Mb)   max used  (Mb)\n",
       "Ncells   2571736 137.4   6379917   340.8   5746929  307\n",
       "Vcells 110539978 843.4 230817052  1761.0 288485245 2201"
      ]
     },
     "metadata": {},
     "output_type": "display_data"
    }
   ],
   "source": [
    "# -----------------------------------------------------------\n",
    "# Pre-processing and feature selection\n",
    "\n",
    "# change the loan status\n",
    "default.y = c('Default', 'Charged Off', 'Late (31-120 days)', 'Late (16-30 days)', \n",
    "              'Does not meet the credit policy. Status:Charged Off')\n",
    "train.y = ifelse(train$loan_status %in% default.y, 1, 0)\n",
    "\n",
    "# -----------------------------------------------------------\n",
    "# drop columns that have too many missing values\n",
    "drop.names = c(\"mths_since_last_delinq\", \"mths_since_last_record\", \"mths_since_last_major_derog\", \n",
    "               \"annual_inc_joint\", \"dti_joint\", \"open_acc_6m\", \"open_il_6m\", \"open_il_12m\", \n",
    "               \"open_il_24m\", \"mths_since_rcnt_il\", \"total_bal_il\", \"il_util\", \"open_rv_12m\", \n",
    "               \"open_rv_24m\", \"max_bal_bc\", \"all_util\", \"inq_fi\", \"total_cu_tl\", \"inq_last_12m\")\n",
    "train = train[, !(names(train) %in% drop.names)]\n",
    "test = test[, !(names(test) %in% drop.names)]\n",
    "\n",
    "# Transform categorical feature into numerical feature\n",
    "train$sub_grade = as.numeric(train$sub_grade)\n",
    "test$sub_grade = as.numeric(test$sub_grade)\n",
    "\n",
    "# -----------------------------------------------------------\n",
    "# Drop useless features\n",
    "# drop useless categorical features\n",
    "drop.names = c(\"emp_title\", \"issue_d\", \"pymnt_plan\", \"url\", \"desc\", \"title\", \"zip_code\", \"addr_state\", \n",
    "               \"earliest_cr_line\", \"last_pymnt_d\", \"next_pymnt_d\", \"last_credit_pull_d\", \"application_type\", \n",
    "               \"verification_status_joint\", \"grade\")\n",
    "train = train[, !(names(train) %in% drop.names)]\n",
    "test = test[, !(names(test) %in% drop.names)]\n",
    "\n",
    "# drop useless numerical features\n",
    "drop.names = c(\"id\", \"member_id\", \"policy_code\")\n",
    "train = train[, !(names(train) %in% drop.names)]\n",
    "test = test[, !(names(test) %in% drop.names)]\n",
    "\n",
    "# -----------------------------------------------------------\n",
    "# Data Structures\n",
    "# find all categorical and numerical variables\n",
    "data.type = sapply(test, class)\n",
    "cat.var = names(test)[which(data.type == 'factor')]\n",
    "num.var = names(test)[which((data.type == 'integer') | (data.type == 'numeric'))]\n",
    "\n",
    "# -----------------------------------------------------------\n",
    "# Fill NA values\n",
    "# create new feature named \"NA\" for categorical variables\n",
    "for (i in cat.var) {\n",
    "    train[, i] = addNA(train[, i])\n",
    "    test[, i] = addNA(test[, i])\n",
    "}\n",
    "\n",
    "# create new feature using the median value for numerical variables\n",
    "for (i in num.var) {\n",
    "    na.id = is.na(train[, i])\n",
    "    tmp.median = median(train[, i], na.rm=TRUE)\n",
    "    train[which(na.id), i] = tmp.median\n",
    "    \n",
    "    na.id = is.na(test[, i])\n",
    "    test[which(na.id), i] = tmp.median\n",
    "}\n",
    "\n",
    "# -----------------------------------------------------------\n",
    "# Skewness\n",
    "skew = c('installment', 'annual_inc', 'dti', 'revol_bal', 'total_acc', 'out_prncp', 'out_prncp_inv', \n",
    "         'total_pymnt', 'total_pymnt_inv', 'total_rec_prncp', 'total_rec_int', 'total_rec_late_fee', \n",
    "         'recoveries', 'collection_recovery_fee', 'last_pymnt_amnt', 'tot_coll_amt', 'tot_cur_bal',\n",
    "         'total_rev_hi_lim')\n",
    "\n",
    "for (i in skew){\n",
    "    train[, i] = log(train[, i] + 2)\n",
    "    test[, i] = log(test[, i] + 2)\n",
    "}\n",
    "\n",
    "# -----------------------------------------------------------\n",
    "# Dummy Variables\n",
    "data = rbind(train[, names(test)], test)\n",
    "\n",
    "# save memory\n",
    "rm(train, test)\n",
    "\n",
    "# create dummy variables\n",
    "dummy.var = data.frame(dummy.data.frame(data[, cat.var], sep='.'))\n",
    "data = cbind(data, dummy.var)\n",
    "\n",
    "# drop original categorical variables\n",
    "data = data[ , !(names(data) %in% cat.var)]\n",
    "\n",
    "# split into train and test data set\n",
    "train = data[1: length(train.y), ]\n",
    "test = data[(length(train.y) + 1): nrow(data), ]\n",
    "train['loan_status'] = train.y\n",
    "\n",
    "# save memory\n",
    "rm(data)\n",
    "gc()"
   ]
  },
  {
   "cell_type": "code",
   "execution_count": 5,
   "metadata": {
    "collapsed": true
   },
   "outputs": [],
   "source": [
    "scale = function(score) {\n",
    "    # function to scale the score\n",
    "    score[which(score < 1e-15)] = 1e-15\n",
    "    score[which(score > 1 - 1e-15)] = 1 - 1e-15\n",
    "    score\n",
    "}"
   ]
  },
  {
   "cell_type": "markdown",
   "metadata": {},
   "source": [
    "# Logistic Model"
   ]
  },
  {
   "cell_type": "code",
   "execution_count": 6,
   "metadata": {
    "collapsed": false
   },
   "outputs": [
    {
     "name": "stdout",
     "output_type": "stream",
     "text": [
      "Logistic Regression Model\n",
      "Start time:\t 2017-04-18 23:07:17 \n",
      "End time:\t 2017-04-18 23:13:24 \n",
      "Total time:\t 6.123459 \n"
     ]
    }
   ],
   "source": [
    "start.time = Sys.time()  # get time information\n",
    "\n",
    "# fit the logistic model\n",
    "log.model = glm(loan_status ~ ., data=train, family=binomial)\n",
    "\n",
    "end.time = Sys.time()\n",
    "cat(\"Logistic Regression Model\\n\")\n",
    "cat('Start time:\\t', as.character(start.time), '\\n')\n",
    "cat('End time:\\t', as.character(end.time), '\\n')\n",
    "cat('Total time:\\t', end.time - start.time, '\\n')"
   ]
  },
  {
   "cell_type": "code",
   "execution_count": 7,
   "metadata": {
    "collapsed": true
   },
   "outputs": [],
   "source": [
    "# calculate log-loss\n",
    "test.y.hat = predict(log.model, test, type=\"response\")\n",
    "test.y.hat = scale(test.y.hat)\n",
    "\n",
    "# # make submission file\n",
    "# TEST_predict$prob = test.y.hat\n",
    "# write.table(TEST_predict, './mysubmission1.txt', row.names=FALSE, sep=',')"
   ]
  },
  {
   "cell_type": "code",
   "execution_count": 8,
   "metadata": {
    "collapsed": false
   },
   "outputs": [
    {
     "name": "stdout",
     "output_type": "stream",
     "text": [
      "train loss\t 0.07126193 \n",
      "test loss\t 0.07301898 \n",
      "train loss\t 0.09351256 \n",
      "test loss\t 0.09509945 \n"
     ]
    }
   ],
   "source": [
    "#######################################################\n",
    "# temporarily code\n",
    "train.y.hat = predict(log.model, train, type=\"response\")\n",
    "train.y.hat = scale(train.y.hat)\n",
    "\n",
    "train.y = train$loan_status\n",
    "\n",
    "train.loss = -sum(train.y * log(train.y.hat)) / length(train.y)\n",
    "test.loss = -sum(test.y * log(test.y.hat)) / length(test.y)\n",
    "\n",
    "cat('train loss\\t', train.loss, '\\n')\n",
    "cat('test loss\\t', test.loss, '\\n')\n",
    "\n",
    "# modified test error\n",
    "train.loss = -mean(ifelse(train.y == 1, log(train.y.hat), log(1 - train.y.hat)))\n",
    "test.loss = -mean(ifelse(test.y == 1, log(test.y.hat), log(1 - test.y.hat)))\n",
    "\n",
    "cat('train loss\\t', train.loss, '\\n')\n",
    "cat('test loss\\t', test.loss, '\\n')"
   ]
  },
  {
   "cell_type": "markdown",
   "metadata": {},
   "source": [
    "# Random Forest"
   ]
  },
  {
   "cell_type": "code",
   "execution_count": 9,
   "metadata": {
    "collapsed": false
   },
   "outputs": [
    {
     "name": "stdout",
     "output_type": "stream",
     "text": [
      "Random Forest Model\n",
      "Start time:\t 2017-04-18 23:13:32 \n",
      "End time:\t 2017-04-18 23:54:33 \n",
      "Total time:\t 41.01664 \n"
     ]
    }
   ],
   "source": [
    "start.time = Sys.time()  # get time information\n",
    "\n",
    "# build the random forest model\n",
    "rf.model = randomForest(as.factor(loan_status) ~ ., data=train, ntree=300, importance=T, \n",
    "                        strata=as.factor(train$loan_status), sampsize=c(100, 100))\n",
    "\n",
    "end.time = Sys.time()\n",
    "cat(\"Random Forest Model\\n\")\n",
    "cat('Start time:\\t', as.character(start.time), '\\n')\n",
    "cat('End time:\\t', as.character(end.time), '\\n')\n",
    "cat('Total time:\\t', end.time - start.time, '\\n')"
   ]
  },
  {
   "cell_type": "code",
   "execution_count": 10,
   "metadata": {
    "collapsed": false
   },
   "outputs": [
    {
     "data": {
      "image/png": "[encoded data removed]",
      "text/plain": [
       "plot without title"
      ]
     },
     "metadata": {},
     "output_type": "display_data"
    }
   ],
   "source": [
    "# plot the error rate\n",
    "tmp = rf.model$err.rate\n",
    "plot(c(0, rf.model$ntree), range(tmp), type=\"n\",\n",
    "     xlab = \"Number of trees\", ylab=\"Error\")\n",
    "lines(tmp[,1], col=\"black\")\n",
    "lines(tmp[,2], col=\"red\")\n",
    "lines(tmp[,3], col=\"green\")"
   ]
  },
  {
   "cell_type": "code",
   "execution_count": 11,
   "metadata": {
    "collapsed": true
   },
   "outputs": [],
   "source": [
    "# calculate log-loss\n",
    "test.y.hat = predict(rf.model, test, type=\"prob\")[, 2]\n",
    "test.y.hat = scale(test.y.hat)\n",
    "\n",
    "# # make submission file\n",
    "# TEST_predict$prob = test.y.hat\n",
    "# write.table(TEST_predict, './mysubmission1.txt', row.names=FALSE, sep=',')"
   ]
  },
  {
   "cell_type": "code",
   "execution_count": 12,
   "metadata": {
    "collapsed": false
   },
   "outputs": [
    {
     "name": "stdout",
     "output_type": "stream",
     "text": [
      "train loss\t 0.02530732 \n",
      "test loss\t 0.02546847 \n",
      "train loss\t 0.3853443 \n",
      "test loss\t 0.3855818 \n"
     ]
    }
   ],
   "source": [
    "#######################################################\n",
    "# temporarily code\n",
    "train.y.hat = predict(rf.model, train, type=\"prob\")[, 2]\n",
    "train.y.hat = scale(train.y.hat)\n",
    "\n",
    "train.y = train$loan_status\n",
    "\n",
    "train.loss = -sum(train.y * log(train.y.hat)) / length(train.y)\n",
    "test.loss = -sum(test.y * log(test.y.hat)) / length(test.y)\n",
    "\n",
    "cat('train loss\\t', train.loss, '\\n')\n",
    "cat('test loss\\t', test.loss, '\\n')\n",
    "\n",
    "# modified test error\n",
    "train.loss = -mean(ifelse(train.y == 1, log(train.y.hat), log(1 - train.y.hat)))\n",
    "test.loss = -mean(ifelse(test.y == 1, log(test.y.hat), log(1 - test.y.hat)))\n",
    "\n",
    "cat('train loss\\t', train.loss, '\\n')\n",
    "cat('test loss\\t', test.loss, '\\n')"
   ]
  },
  {
   "cell_type": "markdown",
   "metadata": {},
   "source": [
    "# XGBoost"
   ]
  },
  {
   "cell_type": "code",
   "execution_count": 13,
   "metadata": {
    "collapsed": true
   },
   "outputs": [],
   "source": [
    "train.m.y = train$loan_status\n",
    "train.m.x = train[, -which(names(train) == \"loan_status\")]\n",
    "train.m.x = apply(train.m.x, 2, as.numeric)\n",
    "\n",
    "test.m.x = test\n",
    "test.m.x = apply(test.m.x, 2, as.numeric)\n",
    "ratio = as.integer(length(which(train.y == 0)) / length(which(train.y == 1)))"
   ]
  },
  {
   "cell_type": "code",
   "execution_count": 14,
   "metadata": {
    "collapsed": false
   },
   "outputs": [
    {
     "name": "stdout",
     "output_type": "stream",
     "text": [
      "XGBoost Model\n",
      "Start time:\t 2017-04-18 23:55:47 \n",
      "End time:\t 2017-04-19 00:27:03 \n",
      "Total time:\t 31.26535 \n"
     ]
    }
   ],
   "source": [
    "# fit the model\n",
    "start.time = Sys.time()  # get time information\n",
    "\n",
    "bst = xgboost(data=train.m.x, label=train.m.y, max.depth=6, eta=0.3, nrounds=100, \n",
    "              scale_pos_weight=ratio, objective=\"binary:logistic\", verbose=F)\n",
    "\n",
    "end.time = Sys.time()\n",
    "cat(\"XGBoost Model\\n\")\n",
    "cat('Start time:\\t', as.character(start.time), '\\n')\n",
    "cat('End time:\\t', as.character(end.time), '\\n')\n",
    "cat('Total time:\\t', end.time - start.time, '\\n')"
   ]
  },
  {
   "cell_type": "code",
   "execution_count": 15,
   "metadata": {
    "collapsed": true
   },
   "outputs": [],
   "source": [
    "# calculate log-loss\n",
    "test.y.hat = predict(bst, test.m.x)\n",
    "test.y.hat = scale(test.y.hat)\n",
    "\n",
    "# # make submission file\n",
    "# TEST_predict$prob = test.y.hat\n",
    "# write.table(TEST_predict, './mysubmission1.txt', row.names=FALSE, sep=',')"
   ]
  },
  {
   "cell_type": "code",
   "execution_count": 16,
   "metadata": {
    "collapsed": false
   },
   "outputs": [
    {
     "name": "stdout",
     "output_type": "stream",
     "text": [
      "train loss\t 0.0161261 \n",
      "test loss\t 0.02076285 \n",
      "train loss\t 0.2070299 \n",
      "test loss\t 0.2137593 \n"
     ]
    }
   ],
   "source": [
    "#######################################################\n",
    "# temporarily code\n",
    "train.y.hat = predict(bst, train.m.x)\n",
    "train.y.hat = scale(train.y.hat)\n",
    "\n",
    "train.y = train$loan_status\n",
    "\n",
    "train.loss = -sum(train.y * log(train.y.hat)) / length(train.y)\n",
    "test.loss = -sum(test.y * log(test.y.hat)) / length(test.y)\n",
    "\n",
    "cat('train loss\\t', train.loss, '\\n')\n",
    "cat('test loss\\t', test.loss, '\\n')\n",
    "\n",
    "# modified test error\n",
    "train.loss = -mean(ifelse(train.y == 1, log(train.y.hat), log(1 - train.y.hat)))\n",
    "test.loss = -mean(ifelse(test.y == 1, log(test.y.hat), log(1 - test.y.hat)))\n",
    "\n",
    "cat('train loss\\t', train.loss, '\\n')\n",
    "cat('test loss\\t', test.loss, '\\n')"
   ]
  },
  {
   "cell_type": "markdown",
   "metadata": {},
   "source": [
    "# Total Used Time"
   ]
  },
  {
   "cell_type": "code",
   "execution_count": 17,
   "metadata": {
    "collapsed": false
   },
   "outputs": [
    {
     "name": "stdout",
     "output_type": "stream",
     "text": [
      "All running time\n",
      "Start time:\t 2017-04-18 23:03:30 \n",
      "End time:\t 2017-04-19 00:27:55 \n",
      "Total time:\t 1.406871 \n"
     ]
    }
   ],
   "source": [
    "# get the used time information\n",
    "all.end.time = Sys.time()\n",
    "cat(\"All running time\\n\")\n",
    "cat('Start time:\\t', as.character(all.start.time), '\\n')\n",
    "cat('End time:\\t', as.character(all.end.time), '\\n')\n",
    "cat('Total time:\\t', all.end.time - all.start.time, '\\n')"
   ]
  },
  {
   "cell_type": "code",
   "execution_count": null,
   "metadata": {
    "collapsed": true
   },
   "outputs": [],
   "source": []
  }
 ],
 "metadata": {
  "kernelspec": {
   "display_name": "R",
   "language": "R",
   "name": "ir"
  },
  "language_info": {
   "codemirror_mode": "r",
   "file_extension": ".r",
   "mimetype": "text/x-r-source",
   "name": "R",
   "pygments_lexer": "r",
   "version": "3.3.2"
  }
 },
 "nbformat": 4,
 "nbformat_minor": 2
}
