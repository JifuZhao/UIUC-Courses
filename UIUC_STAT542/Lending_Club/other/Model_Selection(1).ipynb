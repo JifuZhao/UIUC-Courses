{
 "cells": [
  {
   "cell_type": "code",
   "execution_count": 1,
   "metadata": {
    "collapsed": false
   },
   "outputs": [
    {
     "name": "stderr",
     "output_type": "stream",
     "text": [
      "Loading required package: dummies\n",
      "dummies-1.5.6 provided by Decision Patterns\n",
      "\n",
      "Loading required package: DAAG\n",
      "Loading required package: lattice\n",
      "Loading required package: xgboost\n",
      "Loading required package: randomForest\n",
      "randomForest 4.6-12\n",
      "Type rfNews() to see new features/changes/bug fixes.\n",
      "Loading required package: gbm\n",
      "Loading required package: survival\n",
      "\n",
      "Attaching package: ‘survival’\n",
      "\n",
      "The following object is masked from ‘package:DAAG’:\n",
      "\n",
      "    lung\n",
      "\n",
      "Loading required package: splines\n",
      "Loading required package: parallel\n",
      "Loaded gbm 2.1.1\n",
      "Loading required package: glmnet\n",
      "Loading required package: Matrix\n",
      "Loading required package: foreach\n",
      "Loaded glmnet 2.0-5\n",
      "\n"
     ]
    }
   ],
   "source": [
    "options(warn=-1)\n",
    "\n",
    "# import required library\n",
    "if (!require(dummies)) {\n",
    "    install.packages(\"dummies\")\n",
    "}\n",
    "if (!require(DAAG)) {\n",
    "    install.packages(\"DAAG\")\n",
    "}\n",
    "if (!require(xgboost)) {\n",
    "    install.packages(\"xgboost\")\n",
    "}\n",
    "if (!require(randomForest)) {\n",
    "    install.packages(\"randomForest\")\n",
    "}\n",
    "if (!require(gbm)) {\n",
    "    install.packages(\"gbm\")\n",
    "}\n",
    "if (!require(glmnet)) {\n",
    "    install.packages(\"glmnet\")\n",
    "}\n",
    "library(xgboost)       # XGBoost model\n",
    "library(randomForest)  # Random Forest model\n",
    "library(gbm)           # GBM model\n",
    "library(dummies)       # Dummy variable\n",
    "library(DAAG)          # Cross-Validation\n",
    "library(glmnet)        # Logistic regression with Lasso"
   ]
  },
  {
   "cell_type": "code",
   "execution_count": 2,
   "metadata": {
    "collapsed": false,
    "scrolled": false
   },
   "outputs": [],
   "source": [
    "# load the data set\n",
    "data = read.csv('./data/loan.csv')\n",
    "# data.2016 = read.csv('./data/2016AllData.csv')"
   ]
  },
  {
   "cell_type": "markdown",
   "metadata": {},
   "source": [
    "# Pre-processing and feature selection"
   ]
  },
  {
   "cell_type": "code",
   "execution_count": 3,
   "metadata": {
    "collapsed": true
   },
   "outputs": [],
   "source": [
    "# change the loan status\n",
    "default.y = c('Default', 'Charged Off', 'Late (31-120 days)', 'Late (16-30 days)', \n",
    "              'Does not meet the credit policy. Status:Charged Off')\n",
    "data$loan_status = ifelse(data$loan_status %in% default.y, 1, 0)\n",
    "\n",
    "# -----------------------------------------------------------\n",
    "# drop columns that have too many missing values\n",
    "drop.names = c(\"mths_since_last_delinq\", \"mths_since_last_record\", \"mths_since_last_major_derog\", \n",
    "               \"annual_inc_joint\", \"dti_joint\", \"open_acc_6m\", \"open_il_6m\", \"open_il_12m\", \n",
    "               \"open_il_24m\", \"mths_since_rcnt_il\", \"total_bal_il\", \"il_util\", \"open_rv_12m\", \n",
    "               \"open_rv_24m\", \"max_bal_bc\", \"all_util\", \"inq_fi\", \"total_cu_tl\", \"inq_last_12m\")\n",
    "data = data[, !(names(data) %in% drop.names)]\n",
    "\n",
    "# Transform categorical feature into numerical feature\n",
    "data$sub_grade = as.numeric(data$sub_grade)\n",
    "\n",
    "# -----------------------------------------------------------\n",
    "# Drop useless features\n",
    "# drop useless categorical features\n",
    "drop.names = c(\"emp_title\", \"issue_d\", \"pymnt_plan\", \"url\", \"desc\", \"title\", \"zip_code\", \"addr_state\", \n",
    "               \"earliest_cr_line\", \"last_pymnt_d\", \"next_pymnt_d\", \"last_credit_pull_d\", \"application_type\", \n",
    "               \"verification_status_joint\", \"grade\")\n",
    "data = data[, !(names(data) %in% drop.names)]\n",
    "\n",
    "# drop useless numerical features\n",
    "drop.names = c(\"id\", \"member_id\", \"policy_code\")\n",
    "data = data[, !(names(data) %in% drop.names)]\n",
    "\n",
    "# -----------------------------------------------------------\n",
    "# Data Structures\n",
    "# find all categorical and numerical variables\n",
    "data.type = sapply(data, class)\n",
    "cat.var = names(data)[which(data.type == 'factor')]\n",
    "num.var = names(data)[which((data.type == 'integer') | (data.type == 'numeric'))]\n",
    "\n",
    "# -----------------------------------------------------------\n",
    "# Fill NA values\n",
    "# create new feature named \"NA\" for categorical variables\n",
    "for (i in cat.var) {\n",
    "    data[, i] = addNA(data[, i])\n",
    "}\n",
    "\n",
    "# create new feature using the median value for numerical variables\n",
    "for (i in num.var) {\n",
    "    na.id = is.na(data[, i])\n",
    "    tmp.median = median(data[, i], na.rm=TRUE)\n",
    "    data[which(na.id), i] = tmp.median\n",
    "}\n",
    "\n",
    "# -----------------------------------------------------------\n",
    "# Skewness\n",
    "skew = c('installment', 'annual_inc', 'dti', 'revol_bal', 'total_acc', 'out_prncp', 'out_prncp_inv', \n",
    "         'total_pymnt', 'total_pymnt_inv', 'total_rec_prncp', 'total_rec_int', 'total_rec_late_fee', \n",
    "         'recoveries', 'collection_recovery_fee', 'last_pymnt_amnt', 'tot_coll_amt', 'tot_cur_bal',\n",
    "         'total_rev_hi_lim')\n",
    "for (i in skew){\n",
    "    data[, i] = log(data[, i] + 1)\n",
    "}"
   ]
  },
  {
   "cell_type": "markdown",
   "metadata": {},
   "source": [
    "# -----------------------------------------------------------\n",
    "# Dummy Variables"
   ]
  },
  {
   "cell_type": "code",
   "execution_count": 4,
   "metadata": {
    "collapsed": true
   },
   "outputs": [],
   "source": [
    "# create dummy variables\n",
    "dummy.var = data.frame(dummy.data.frame(data[, cat.var], sep='.'))\n",
    "data = cbind(data, dummy.var)\n",
    "\n",
    "# drop original categorical variables\n",
    "data = data[ , !(names(data) %in% cat.var)]"
   ]
  },
  {
   "cell_type": "markdown",
   "metadata": {},
   "source": [
    "# Vanilla Logistic Model"
   ]
  },
  {
   "cell_type": "code",
   "execution_count": 5,
   "metadata": {
    "collapsed": false
   },
   "outputs": [
    {
     "name": "stdout",
     "output_type": "stream",
     "text": [
      "Start time:\t 2017-04-01 23:10:58 \n",
      "End time:\t 2017-04-01 23:13:54 \n",
      "Total time:\t 2.941984 \n"
     ]
    },
    {
     "data": {
      "text/html": [
       "0.0680298768925815"
      ],
      "text/latex": [
       "0.0680298768925815"
      ],
      "text/markdown": [
       "0.0680298768925815"
      ],
      "text/plain": [
       "[1] 0.06802988"
      ]
     },
     "metadata": {},
     "output_type": "display_data"
    }
   ],
   "source": [
    "start.time = Sys.time()  # get time information\n",
    "\n",
    "# fit the logistic model\n",
    "log.model = glm(loan_status ~ ., data=data, family=binomial)\n",
    "\n",
    "end.time = Sys.time()\n",
    "cat('Start time:\\t', as.character(start.time), '\\n')\n",
    "cat('End time:\\t', as.character(end.time), '\\n')\n",
    "cat('Total time:\\t', end.time - start.time, '\\n')\n",
    "\n",
    "# calculate log-loss\n",
    "y.hat = log.model$fitted.values\n",
    "y = data$loan_status\n",
    "loss = -sum(y * log(y.hat)) / length(y)\n",
    "loss"
   ]
  },
  {
   "cell_type": "markdown",
   "metadata": {},
   "source": [
    "# Logistic Model with Lasso"
   ]
  },
  {
   "cell_type": "code",
   "execution_count": 6,
   "metadata": {
    "collapsed": false
   },
   "outputs": [],
   "source": [
    "# # transform into matrix\n",
    "# idx = which(names(data) == \"loan_status\")\n",
    "# x = data.matrix(data[, -idx])\n",
    "# y = data$loan_status\n",
    "\n",
    "# # Cross Validation\n",
    "# log.cv = cv.glmnet(x[1:10000, ], y[1:10000], family=\"binomial\", alpha=1)\n",
    "# plot(log.cv)\n",
    "\n",
    "# log.cv$lambda.min\n",
    "# log.cv$lambda.1se\n",
    "\n",
    "# # fit the logistic model with Lasso\n",
    "# log.model = glmnet(x, y, family=\"binomial\", alpha=1, lambda=log.cv$lambda.1se)\n",
    "\n",
    "# # calculate log-loss\n",
    "# y.hat = predict(log.model, s=log.cv$lambda.1se, newx=x, type=\"response\")\n",
    "# y = data$loan_status\n",
    "# loss = -sum(y * log(y.hat)) / length(y)\n",
    "# loss"
   ]
  },
  {
   "cell_type": "markdown",
   "metadata": {},
   "source": [
    "# Random Forest"
   ]
  },
  {
   "cell_type": "code",
   "execution_count": 7,
   "metadata": {
    "collapsed": false
   },
   "outputs": [
    {
     "name": "stdout",
     "output_type": "stream",
     "text": [
      "Start time:\t 2017-04-01 23:13:54 \n",
      "End time:\t 2017-04-02 01:01:29 \n",
      "Total time:\t 1.792972 \n"
     ]
    }
   ],
   "source": [
    "start.time = Sys.time()  # get time information\n",
    "\n",
    "# build the random forest model\n",
    "rf.model = randomForest(as.factor(loan_status) ~ ., data=data, \n",
    "                        importance=T, ntree=100)\n",
    "\n",
    "end.time = Sys.time()\n",
    "cat('Start time:\\t', as.character(start.time), '\\n')\n",
    "cat('End time:\\t', as.character(end.time), '\\n')\n",
    "cat('Total time:\\t', end.time - start.time, '\\n')"
   ]
  },
  {
   "cell_type": "code",
   "execution_count": 8,
   "metadata": {
    "collapsed": false
   },
   "outputs": [
    {
     "data": {
      "image/png": "[encoded data removed]",
      "text/plain": [
       "plot without title"
      ]
     },
     "metadata": {},
     "output_type": "display_data"
    }
   ],
   "source": [
    "# plot the error rate\n",
    "tmp = rf.model$err.rate\n",
    "plot(c(0, rf.model$ntree), range(tmp), type=\"n\",\n",
    "     xlab = \"Number of trees\", ylab=\"Error\")\n",
    "lines(tmp[,1], col=\"black\")\n",
    "lines(tmp[,2], col=\"red\")\n",
    "lines(tmp[,3], col=\"green\")"
   ]
  },
  {
   "cell_type": "code",
   "execution_count": 9,
   "metadata": {
    "collapsed": false
   },
   "outputs": [
    {
     "data": {
      "text/html": [
       "0.00792006077682284"
      ],
      "text/latex": [
       "0.00792006077682284"
      ],
      "text/markdown": [
       "0.00792006077682284"
      ],
      "text/plain": [
       "[1] 0.007920061"
      ]
     },
     "metadata": {},
     "output_type": "display_data"
    }
   ],
   "source": [
    "# calculate log-loss\n",
    "y.hat = predict(rf.model, data, type=\"prob\")[, 2]\n",
    "y.hat.rf = y.hat\n",
    "y.hat[which(y.hat == 0)] = 1e-300\n",
    "\n",
    "y = data$loan_status\n",
    "loss = -sum(y * log(y.hat)) / length(y)\n",
    "loss"
   ]
  },
  {
   "cell_type": "markdown",
   "metadata": {},
   "source": [
    "# GBM"
   ]
  },
  {
   "cell_type": "code",
   "execution_count": 10,
   "metadata": {
    "collapsed": false
   },
   "outputs": [
    {
     "data": {
      "text/html": [
       "1000"
      ],
      "text/latex": [
       "1000"
      ],
      "text/markdown": [
       "1000"
      ],
      "text/plain": [
       "[1] 1000"
      ]
     },
     "metadata": {},
     "output_type": "display_data"
    },
    {
     "name": "stdout",
     "output_type": "stream",
     "text": [
      "Start time:\t 2017-04-02 01:02:11 \n",
      "End time:\t 2017-04-02 02:59:47 \n",
      "Total time:\t 1.960072 \n"
     ]
    },
    {
     "data": {
      "image/png": "[encoded data removed]",
      "text/plain": [
       "plot without title"
      ]
     },
     "metadata": {},
     "output_type": "display_data"
    }
   ],
   "source": [
    "start.time = Sys.time()  # get time information\n",
    "\n",
    "# build the adaboost model\n",
    "ada.boost = gbm(loan_status ~ ., data=data, distribution=\"adaboost\", n.trees=1000, \n",
    "                shrinkage=0.15, bag.fraction=1, cv.folds=5)\n",
    "gbm.perf(ada.boost, method='cv')  # estimating the best iterations\n",
    "\n",
    "end.time = Sys.time()\n",
    "cat('Start time:\\t', as.character(start.time), '\\n')\n",
    "cat('End time:\\t', as.character(end.time), '\\n')\n",
    "cat('Total time:\\t', end.time - start.time, '\\n')"
   ]
  },
  {
   "cell_type": "code",
   "execution_count": 11,
   "metadata": {
    "collapsed": false
   },
   "outputs": [
    {
     "name": "stdout",
     "output_type": "stream",
     "text": [
      "Using 1000 trees...\n"
     ]
    },
    {
     "data": {
      "text/html": [
       "0.0698056706919146"
      ],
      "text/latex": [
       "0.0698056706919146"
      ],
      "text/markdown": [
       "0.0698056706919146"
      ],
      "text/plain": [
       "[1] 0.06980567"
      ]
     },
     "metadata": {},
     "output_type": "display_data"
    }
   ],
   "source": [
    "# calculate log-loss\n",
    "y.hat = predict(ada.boost, data, type='response')\n",
    "y = data$loan_status\n",
    "loss = -sum(y * log(y.hat)) / length(y)\n",
    "loss"
   ]
  },
  {
   "cell_type": "markdown",
   "metadata": {},
   "source": [
    "# XGBoost"
   ]
  },
  {
   "cell_type": "code",
   "execution_count": 12,
   "metadata": {
    "collapsed": false
   },
   "outputs": [],
   "source": [
    "data.y = data$loan_status\n",
    "data.x = data[, -which(names(data) == \"loan_status\")]\n",
    "data.x = apply(data.x, 2, as.numeric)"
   ]
  },
  {
   "cell_type": "code",
   "execution_count": 13,
   "metadata": {
    "collapsed": false,
    "scrolled": false
   },
   "outputs": [
    {
     "name": "stdout",
     "output_type": "stream",
     "text": [
      "[1]\ttrain-error:0.025953+0.000065\ttest-error:0.025998+0.000241 \n",
      "[2]\ttrain-error:0.023128+0.000091\ttest-error:0.023181+0.000171 \n",
      "[3]\ttrain-error:0.023020+0.000091\ttest-error:0.023073+0.000204 \n",
      "[4]\ttrain-error:0.020933+0.000158\ttest-error:0.021005+0.000205 \n",
      "[5]\ttrain-error:0.020201+0.000092\ttest-error:0.020302+0.000186 \n",
      "[6]\ttrain-error:0.019320+0.000376\ttest-error:0.019423+0.000390 \n",
      "[7]\ttrain-error:0.018842+0.000209\ttest-error:0.018946+0.000357 \n",
      "[8]\ttrain-error:0.018578+0.000185\ttest-error:0.018691+0.000358 \n",
      "[9]\ttrain-error:0.018342+0.000147\ttest-error:0.018476+0.000333 \n",
      "[10]\ttrain-error:0.018232+0.000175\ttest-error:0.018397+0.000280 \n",
      "[11]\ttrain-error:0.017957+0.000201\ttest-error:0.018147+0.000291 \n",
      "[12]\ttrain-error:0.017839+0.000132\ttest-error:0.018062+0.000293 \n",
      "[13]\ttrain-error:0.017745+0.000139\ttest-error:0.017994+0.000324 \n",
      "[14]\ttrain-error:0.017540+0.000119\ttest-error:0.017823+0.000346 \n",
      "[15]\ttrain-error:0.017445+0.000162\ttest-error:0.017740+0.000257 \n",
      "[16]\ttrain-error:0.017329+0.000101\ttest-error:0.017669+0.000250 \n",
      "[17]\ttrain-error:0.017231+0.000091\ttest-error:0.017624+0.000258 \n",
      "[18]\ttrain-error:0.017174+0.000099\ttest-error:0.017567+0.000282 \n",
      "[19]\ttrain-error:0.017135+0.000066\ttest-error:0.017550+0.000246 \n",
      "[20]\ttrain-error:0.017075+0.000041\ttest-error:0.017506+0.000220 \n",
      "[21]\ttrain-error:0.017037+0.000053\ttest-error:0.017500+0.000216 \n",
      "[22]\ttrain-error:0.016972+0.000048\ttest-error:0.017448+0.000221 \n",
      "[23]\ttrain-error:0.016942+0.000041\ttest-error:0.017431+0.000228 \n",
      "[24]\ttrain-error:0.016887+0.000048\ttest-error:0.017389+0.000216 \n",
      "[25]\ttrain-error:0.016853+0.000055\ttest-error:0.017384+0.000250 \n",
      "[26]\ttrain-error:0.016827+0.000052\ttest-error:0.017393+0.000249 \n",
      "[27]\ttrain-error:0.016774+0.000029\ttest-error:0.017352+0.000265 \n",
      "[28]\ttrain-error:0.016757+0.000026\ttest-error:0.017338+0.000249 \n",
      "[29]\ttrain-error:0.016734+0.000022\ttest-error:0.017323+0.000247 \n",
      "[30]\ttrain-error:0.016696+0.000044\ttest-error:0.017309+0.000235 \n",
      "[31]\ttrain-error:0.016667+0.000044\ttest-error:0.017287+0.000248 \n",
      "[32]\ttrain-error:0.016638+0.000056\ttest-error:0.017290+0.000250 \n",
      "[33]\ttrain-error:0.016612+0.000054\ttest-error:0.017270+0.000250 \n",
      "[34]\ttrain-error:0.016574+0.000062\ttest-error:0.017252+0.000242 \n",
      "[35]\ttrain-error:0.016550+0.000066\ttest-error:0.017253+0.000227 \n",
      "[36]\ttrain-error:0.016531+0.000055\ttest-error:0.017244+0.000252 \n",
      "[37]\ttrain-error:0.016513+0.000057\ttest-error:0.017236+0.000268 \n",
      "[38]\ttrain-error:0.016492+0.000055\ttest-error:0.017241+0.000278 \n",
      "[39]\ttrain-error:0.016462+0.000053\ttest-error:0.017236+0.000286 \n",
      "[40]\ttrain-error:0.016438+0.000044\ttest-error:0.017234+0.000285 \n",
      "[41]\ttrain-error:0.016415+0.000042\ttest-error:0.017214+0.000286 \n",
      "[42]\ttrain-error:0.016387+0.000033\ttest-error:0.017206+0.000288 \n",
      "[43]\ttrain-error:0.016366+0.000043\ttest-error:0.017204+0.000274 \n",
      "[44]\ttrain-error:0.016349+0.000025\ttest-error:0.017202+0.000273 \n",
      "[45]\ttrain-error:0.016320+0.000036\ttest-error:0.017206+0.000281 \n",
      "[46]\ttrain-error:0.016293+0.000044\ttest-error:0.017185+0.000284 \n",
      "[47]\ttrain-error:0.016274+0.000052\ttest-error:0.017169+0.000287 \n",
      "[48]\ttrain-error:0.016260+0.000057\ttest-error:0.017172+0.000293 \n",
      "[49]\ttrain-error:0.016238+0.000057\ttest-error:0.017175+0.000285 \n",
      "[50]\ttrain-error:0.016215+0.000060\ttest-error:0.017155+0.000288 \n",
      "[51]\ttrain-error:0.016202+0.000060\ttest-error:0.017156+0.000293 \n",
      "[52]\ttrain-error:0.016192+0.000064\ttest-error:0.017160+0.000294 \n",
      "[53]\ttrain-error:0.016167+0.000063\ttest-error:0.017158+0.000304 \n",
      "[54]\ttrain-error:0.016153+0.000068\ttest-error:0.017141+0.000303 \n",
      "[55]\ttrain-error:0.016134+0.000067\ttest-error:0.017134+0.000306 \n",
      "[56]\ttrain-error:0.016124+0.000061\ttest-error:0.017138+0.000312 \n",
      "[57]\ttrain-error:0.016097+0.000067\ttest-error:0.017125+0.000313 \n",
      "[58]\ttrain-error:0.016072+0.000059\ttest-error:0.017121+0.000316 \n",
      "[59]\ttrain-error:0.016059+0.000037\ttest-error:0.017110+0.000306 \n",
      "[60]\ttrain-error:0.016035+0.000023\ttest-error:0.017103+0.000327 \n",
      "[61]\ttrain-error:0.016025+0.000039\ttest-error:0.017111+0.000309 \n",
      "[62]\ttrain-error:0.016015+0.000040\ttest-error:0.017107+0.000305 \n",
      "[63]\ttrain-error:0.015989+0.000049\ttest-error:0.017096+0.000277 \n",
      "[64]\ttrain-error:0.015958+0.000056\ttest-error:0.017097+0.000281 \n",
      "[65]\ttrain-error:0.015940+0.000054\ttest-error:0.017107+0.000292 \n",
      "[66]\ttrain-error:0.015923+0.000050\ttest-error:0.017105+0.000294 \n",
      "[67]\ttrain-error:0.015906+0.000054\ttest-error:0.017099+0.000286 \n",
      "[68]\ttrain-error:0.015882+0.000056\ttest-error:0.017099+0.000285 \n",
      "[69]\ttrain-error:0.015860+0.000054\ttest-error:0.017082+0.000277 \n",
      "[70]\ttrain-error:0.015848+0.000043\ttest-error:0.017086+0.000266 \n",
      "[71]\ttrain-error:0.015836+0.000046\ttest-error:0.017084+0.000271 \n",
      "[72]\ttrain-error:0.015815+0.000063\ttest-error:0.017087+0.000266 \n",
      "[73]\ttrain-error:0.015805+0.000066\ttest-error:0.017102+0.000274 \n",
      "[74]\ttrain-error:0.015785+0.000056\ttest-error:0.017094+0.000273 \n",
      "[75]\ttrain-error:0.015762+0.000077\ttest-error:0.017096+0.000271 \n",
      "[76]\ttrain-error:0.015743+0.000069\ttest-error:0.017087+0.000277 \n",
      "[77]\ttrain-error:0.015721+0.000067\ttest-error:0.017091+0.000288 \n",
      "[78]\ttrain-error:0.015712+0.000066\ttest-error:0.017093+0.000293 \n",
      "[79]\ttrain-error:0.015696+0.000063\ttest-error:0.017095+0.000290 \n",
      "[80]\ttrain-error:0.015673+0.000060\ttest-error:0.017080+0.000291 \n",
      "[81]\ttrain-error:0.015658+0.000059\ttest-error:0.017079+0.000289 \n",
      "[82]\ttrain-error:0.015641+0.000058\ttest-error:0.017077+0.000277 \n",
      "[83]\ttrain-error:0.015624+0.000068\ttest-error:0.017066+0.000269 \n",
      "[84]\ttrain-error:0.015605+0.000070\ttest-error:0.017065+0.000262 \n",
      "[85]\ttrain-error:0.015579+0.000079\ttest-error:0.017057+0.000270 \n",
      "[86]\ttrain-error:0.015557+0.000078\ttest-error:0.017061+0.000260 \n",
      "[87]\ttrain-error:0.015548+0.000076\ttest-error:0.017052+0.000265 \n",
      "[88]\ttrain-error:0.015532+0.000076\ttest-error:0.017064+0.000271 \n",
      "[89]\ttrain-error:0.015521+0.000076\ttest-error:0.017060+0.000268 \n",
      "[90]\ttrain-error:0.015504+0.000082\ttest-error:0.017059+0.000261 \n",
      "[91]\ttrain-error:0.015486+0.000076\ttest-error:0.017053+0.000257 \n",
      "[92]\ttrain-error:0.015460+0.000082\ttest-error:0.017034+0.000248 \n",
      "[93]\ttrain-error:0.015446+0.000082\ttest-error:0.017043+0.000248 \n",
      "[94]\ttrain-error:0.015428+0.000078\ttest-error:0.017045+0.000245 \n",
      "[95]\ttrain-error:0.015403+0.000066\ttest-error:0.017033+0.000232 \n",
      "[96]\ttrain-error:0.015385+0.000060\ttest-error:0.017030+0.000222 \n",
      "[97]\ttrain-error:0.015370+0.000059\ttest-error:0.017019+0.000231 \n",
      "[98]\ttrain-error:0.015354+0.000053\ttest-error:0.017015+0.000226 \n",
      "[99]\ttrain-error:0.015332+0.000040\ttest-error:0.017019+0.000232 \n",
      "[100]\ttrain-error:0.015317+0.000040\ttest-error:0.017023+0.000237 \n",
      "[101]\ttrain-error:0.015303+0.000046\ttest-error:0.017036+0.000226 \n",
      "[102]\ttrain-error:0.015285+0.000042\ttest-error:0.017046+0.000229 \n",
      "[103]\ttrain-error:0.015265+0.000031\ttest-error:0.017041+0.000235 \n",
      "[104]\ttrain-error:0.015251+0.000028\ttest-error:0.017038+0.000233 \n",
      "[105]\ttrain-error:0.015239+0.000030\ttest-error:0.017041+0.000242 \n",
      "[106]\ttrain-error:0.015217+0.000027\ttest-error:0.017032+0.000235 \n",
      "[107]\ttrain-error:0.015202+0.000042\ttest-error:0.017037+0.000249 \n",
      "[108]\ttrain-error:0.015181+0.000042\ttest-error:0.017025+0.000259 \n",
      "[109]\ttrain-error:0.015163+0.000054\ttest-error:0.017026+0.000257 \n",
      "[110]\ttrain-error:0.015152+0.000048\ttest-error:0.017020+0.000258 \n",
      "[111]\ttrain-error:0.015120+0.000056\ttest-error:0.017011+0.000249 \n",
      "[112]\ttrain-error:0.015112+0.000058\ttest-error:0.017023+0.000259 \n",
      "[113]\ttrain-error:0.015096+0.000060\ttest-error:0.017014+0.000254 \n",
      "[114]\ttrain-error:0.015075+0.000051\ttest-error:0.017010+0.000263 \n",
      "[115]\ttrain-error:0.015066+0.000054\ttest-error:0.017004+0.000257 \n",
      "[116]\ttrain-error:0.015052+0.000048\ttest-error:0.017004+0.000252 \n",
      "[117]\ttrain-error:0.015039+0.000051\ttest-error:0.017006+0.000246 \n",
      "[118]\ttrain-error:0.015024+0.000054\ttest-error:0.016996+0.000234 \n",
      "[119]\ttrain-error:0.015009+0.000046\ttest-error:0.016986+0.000225 \n",
      "[120]\ttrain-error:0.014987+0.000044\ttest-error:0.016986+0.000234 \n",
      "[121]\ttrain-error:0.014971+0.000042\ttest-error:0.017001+0.000238 \n",
      "[122]\ttrain-error:0.014947+0.000050\ttest-error:0.016996+0.000237 \n",
      "[123]\ttrain-error:0.014923+0.000056\ttest-error:0.016986+0.000231 \n",
      "[124]\ttrain-error:0.014900+0.000042\ttest-error:0.017002+0.000231 \n",
      "[125]\ttrain-error:0.014886+0.000032\ttest-error:0.016986+0.000225 \n",
      "[126]\ttrain-error:0.014871+0.000031\ttest-error:0.016980+0.000222 \n",
      "[127]\ttrain-error:0.014859+0.000035\ttest-error:0.016983+0.000231 \n",
      "[128]\ttrain-error:0.014839+0.000035\ttest-error:0.016999+0.000230 \n",
      "[129]\ttrain-error:0.014818+0.000030\ttest-error:0.017012+0.000234 \n",
      "[130]\ttrain-error:0.014799+0.000026\ttest-error:0.017011+0.000223 \n",
      "[131]\ttrain-error:0.014787+0.000031\ttest-error:0.017003+0.000213 \n",
      "[132]\ttrain-error:0.014763+0.000034\ttest-error:0.017005+0.000223 \n",
      "[133]\ttrain-error:0.014748+0.000030\ttest-error:0.017011+0.000218 \n",
      "[134]\ttrain-error:0.014732+0.000035\ttest-error:0.017002+0.000214 \n",
      "[135]\ttrain-error:0.014714+0.000044\ttest-error:0.016994+0.000217 \n",
      "[136]\ttrain-error:0.014702+0.000045\ttest-error:0.016992+0.000219 \n",
      "[137]\ttrain-error:0.014678+0.000041\ttest-error:0.016977+0.000212 \n",
      "[138]\ttrain-error:0.014648+0.000051\ttest-error:0.016987+0.000222 \n",
      "[139]\ttrain-error:0.014632+0.000046\ttest-error:0.016969+0.000213 \n",
      "[140]\ttrain-error:0.014614+0.000039\ttest-error:0.016960+0.000209 \n",
      "[141]\ttrain-error:0.014597+0.000035\ttest-error:0.016974+0.000215 \n",
      "[142]\ttrain-error:0.014580+0.000038\ttest-error:0.016980+0.000224 \n",
      "[143]\ttrain-error:0.014562+0.000043\ttest-error:0.016985+0.000216 \n",
      "[144]\ttrain-error:0.014550+0.000035\ttest-error:0.016974+0.000204 \n",
      "[145]\ttrain-error:0.014527+0.000036\ttest-error:0.016966+0.000197 \n",
      "[146]\ttrain-error:0.014505+0.000043\ttest-error:0.016973+0.000203 \n",
      "[147]\ttrain-error:0.014488+0.000046\ttest-error:0.016981+0.000209 \n",
      "[148]\ttrain-error:0.014467+0.000064\ttest-error:0.016986+0.000222 \n",
      "[149]\ttrain-error:0.014448+0.000057\ttest-error:0.016994+0.000223 \n",
      "[150]\ttrain-error:0.014433+0.000051\ttest-error:0.016995+0.000207 \n",
      "[151]\ttrain-error:0.014413+0.000040\ttest-error:0.016993+0.000219 \n",
      "[152]\ttrain-error:0.014400+0.000045\ttest-error:0.016986+0.000203 \n",
      "[153]\ttrain-error:0.014386+0.000046\ttest-error:0.016990+0.000201 \n",
      "[154]\ttrain-error:0.014374+0.000048\ttest-error:0.016987+0.000209 \n",
      "[155]\ttrain-error:0.014353+0.000051\ttest-error:0.016980+0.000203 \n",
      "[156]\ttrain-error:0.014338+0.000057\ttest-error:0.016990+0.000196 \n",
      "[157]\ttrain-error:0.014315+0.000055\ttest-error:0.016979+0.000196 \n",
      "[158]\ttrain-error:0.014295+0.000049\ttest-error:0.016971+0.000195 \n",
      "[159]\ttrain-error:0.014279+0.000044\ttest-error:0.016979+0.000194 \n",
      "[160]\ttrain-error:0.014266+0.000039\ttest-error:0.016977+0.000208 \n",
      "[161]\ttrain-error:0.014253+0.000039\ttest-error:0.016976+0.000209 \n",
      "[162]\ttrain-error:0.014229+0.000051\ttest-error:0.016977+0.000204 \n",
      "[163]\ttrain-error:0.014218+0.000051\ttest-error:0.016975+0.000198 \n",
      "[164]\ttrain-error:0.014187+0.000057\ttest-error:0.016959+0.000197 \n",
      "[165]\ttrain-error:0.014166+0.000055\ttest-error:0.016960+0.000182 \n",
      "[166]\ttrain-error:0.014143+0.000056\ttest-error:0.016968+0.000187 \n",
      "[167]\ttrain-error:0.014132+0.000062\ttest-error:0.016964+0.000187 \n",
      "[168]\ttrain-error:0.014114+0.000062\ttest-error:0.016970+0.000180 \n",
      "[169]\ttrain-error:0.014084+0.000063\ttest-error:0.016966+0.000175 \n",
      "[170]\ttrain-error:0.014070+0.000064\ttest-error:0.016964+0.000175 \n",
      "[171]\ttrain-error:0.014056+0.000069\ttest-error:0.016966+0.000169 \n",
      "[172]\ttrain-error:0.014037+0.000076\ttest-error:0.016960+0.000175 \n",
      "[173]\ttrain-error:0.014018+0.000077\ttest-error:0.016963+0.000176 \n",
      "[174]\ttrain-error:0.013990+0.000065\ttest-error:0.016966+0.000174 \n",
      "[175]\ttrain-error:0.013970+0.000063\ttest-error:0.016970+0.000184 \n",
      "[176]\ttrain-error:0.013945+0.000062\ttest-error:0.016975+0.000178 \n",
      "[177]\ttrain-error:0.013924+0.000063\ttest-error:0.016981+0.000187 \n",
      "[178]\ttrain-error:0.013909+0.000057\ttest-error:0.016985+0.000174 \n",
      "[179]\ttrain-error:0.013887+0.000060\ttest-error:0.016968+0.000177 \n",
      "[180]\ttrain-error:0.013874+0.000059\ttest-error:0.016966+0.000176 \n",
      "[181]\ttrain-error:0.013856+0.000053\ttest-error:0.016957+0.000171 \n",
      "[182]\ttrain-error:0.013843+0.000053\ttest-error:0.016959+0.000169 \n",
      "[183]\ttrain-error:0.013816+0.000058\ttest-error:0.016964+0.000172 \n",
      "[184]\ttrain-error:0.013792+0.000056\ttest-error:0.016959+0.000171 \n",
      "[185]\ttrain-error:0.013773+0.000060\ttest-error:0.016949+0.000178 \n",
      "[186]\ttrain-error:0.013753+0.000065\ttest-error:0.016937+0.000171 \n",
      "[187]\ttrain-error:0.013739+0.000066\ttest-error:0.016941+0.000182 \n",
      "[188]\ttrain-error:0.013719+0.000068\ttest-error:0.016938+0.000182 \n",
      "[189]\ttrain-error:0.013701+0.000072\ttest-error:0.016941+0.000177 \n",
      "[190]\ttrain-error:0.013689+0.000072\ttest-error:0.016945+0.000168 \n",
      "[191]\ttrain-error:0.013672+0.000074\ttest-error:0.016943+0.000171 \n",
      "[192]\ttrain-error:0.013657+0.000073\ttest-error:0.016949+0.000173 \n",
      "[193]\ttrain-error:0.013631+0.000074\ttest-error:0.016945+0.000164 \n",
      "[194]\ttrain-error:0.013612+0.000069\ttest-error:0.016950+0.000167 \n",
      "[195]\ttrain-error:0.013590+0.000068\ttest-error:0.016973+0.000158 \n",
      "[196]\ttrain-error:0.013576+0.000077\ttest-error:0.016974+0.000150 \n",
      "[197]\ttrain-error:0.013559+0.000078\ttest-error:0.016976+0.000153 \n",
      "[198]\ttrain-error:0.013541+0.000076\ttest-error:0.016993+0.000146 \n",
      "[199]\ttrain-error:0.013528+0.000080\ttest-error:0.016986+0.000161 \n",
      "[200]\ttrain-error:0.013507+0.000075\ttest-error:0.016983+0.000149 \n",
      "Start time:\t 2017-04-02 03:00:08 \n",
      "End time:\t 2017-04-02 05:57:53 \n",
      "Total time:\t 2.962491 \n"
     ]
    }
   ],
   "source": [
    "start.time = Sys.time()  # get time information\n",
    "\n",
    "# build XGBoost model\n",
    "set.seed(2017)\n",
    "cv.dummy = xgb.cv(data=data.x, label=data.y, nfold=5, max.depth=6, eta=0.5, \n",
    "                  nrounds=200, objective=\"binary:logistic\")\n",
    "\n",
    "end.time = Sys.time()\n",
    "cat('Start time:\\t', as.character(start.time), '\\n')\n",
    "cat('End time:\\t', as.character(end.time), '\\n')\n",
    "cat('Total time:\\t', end.time - start.time, '\\n')"
   ]
  },
  {
   "cell_type": "code",
   "execution_count": 14,
   "metadata": {
    "collapsed": false
   },
   "outputs": [
    {
     "name": "stdout",
     "output_type": "stream",
     "text": [
      "Start time:\t 2017-04-02 05:57:53 \n",
      "End time:\t 2017-04-02 06:20:18 \n",
      "Total time:\t 22.41478 \n"
     ]
    }
   ],
   "source": [
    "start.time = Sys.time()  # get time information\n",
    "\n",
    "bst = xgboost(data=data.x, label=data.y, max.depth=6, eta=0.5, nround=100, \n",
    "              objective=\"binary:logistic\", verbose=F)\n",
    "\n",
    "end.time = Sys.time()\n",
    "cat('Start time:\\t', as.character(start.time), '\\n')\n",
    "cat('End time:\\t', as.character(end.time), '\\n')\n",
    "cat('Total time:\\t', end.time - start.time, '\\n')"
   ]
  },
  {
   "cell_type": "code",
   "execution_count": 15,
   "metadata": {
    "collapsed": false
   },
   "outputs": [
    {
     "data": {
      "text/html": [
       "0.0417083826603691"
      ],
      "text/latex": [
       "0.0417083826603691"
      ],
      "text/markdown": [
       "0.0417083826603691"
      ],
      "text/plain": [
       "[1] 0.04170838"
      ]
     },
     "metadata": {},
     "output_type": "display_data"
    }
   ],
   "source": [
    "# calculate log-loss\n",
    "y.hat = predict(bst, data.x)\n",
    "y = data$loan_status\n",
    "loss = -sum(y * log(y.hat)) / length(y)\n",
    "loss"
   ]
  },
  {
   "cell_type": "code",
   "execution_count": null,
   "metadata": {
    "collapsed": true
   },
   "outputs": [],
   "source": []
  }
 ],
 "metadata": {
  "kernelspec": {
   "display_name": "R",
   "language": "R",
   "name": "ir"
  },
  "language_info": {
   "codemirror_mode": "r",
   "file_extension": ".r",
   "mimetype": "text/x-r-source",
   "name": "R",
   "pygments_lexer": "r",
   "version": "3.3.2"
  }
 },
 "nbformat": 4,
 "nbformat_minor": 2
}
