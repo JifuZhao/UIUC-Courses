{
 "cells": [
  {
   "cell_type": "code",
   "execution_count": 1,
   "metadata": {
    "collapsed": false
   },
   "outputs": [
    {
     "name": "stderr",
     "output_type": "stream",
     "text": [
      "Loading required package: dummies\n",
      "dummies-1.5.6 provided by Decision Patterns\n",
      "\n",
      "Loading required package: DAAG\n",
      "Loading required package: lattice\n",
      "Loading required package: xgboost\n",
      "Loading required package: randomForest\n",
      "randomForest 4.6-12\n",
      "Type rfNews() to see new features/changes/bug fixes.\n",
      "Loading required package: gbm\n",
      "Loading required package: survival\n",
      "\n",
      "Attaching package: ‘survival’\n",
      "\n",
      "The following object is masked from ‘package:DAAG’:\n",
      "\n",
      "    lung\n",
      "\n",
      "Loading required package: splines\n",
      "Loading required package: parallel\n",
      "Loaded gbm 2.1.1\n",
      "Loading required package: glmnet\n",
      "Loading required package: Matrix\n",
      "Loading required package: foreach\n",
      "Loaded glmnet 2.0-5\n",
      "\n"
     ]
    }
   ],
   "source": [
    "options(warn=-1)\n",
    "\n",
    "# import required library\n",
    "if (!require(dummies)) {\n",
    "    install.packages(\"dummies\")\n",
    "}\n",
    "if (!require(DAAG)) {\n",
    "    install.packages(\"DAAG\")\n",
    "}\n",
    "if (!require(xgboost)) {\n",
    "    install.packages(\"xgboost\")\n",
    "}\n",
    "if (!require(randomForest)) {\n",
    "    install.packages(\"randomForest\")\n",
    "}\n",
    "if (!require(gbm)) {\n",
    "    install.packages(\"gbm\")\n",
    "}\n",
    "if (!require(glmnet)) {\n",
    "    install.packages(\"glmnet\")\n",
    "}\n",
    "library(xgboost)       # XGBoost model\n",
    "library(randomForest)  # Random Forest model\n",
    "library(gbm)           # GBM model\n",
    "library(dummies)       # Dummy variable\n",
    "library(DAAG)          # Cross-Validation\n",
    "library(glmnet)        # Logistic regression with Lasso"
   ]
  },
  {
   "cell_type": "code",
   "execution_count": 2,
   "metadata": {
    "collapsed": false,
    "scrolled": false
   },
   "outputs": [],
   "source": [
    "# load the data set\n",
    "data = read.csv('./data/loan.csv')\n",
    "# data.2016 = read.csv('./data/2016AllData.csv')"
   ]
  },
  {
   "cell_type": "markdown",
   "metadata": {},
   "source": [
    "# Pre-processing and feature selection"
   ]
  },
  {
   "cell_type": "code",
   "execution_count": 3,
   "metadata": {
    "collapsed": true
   },
   "outputs": [],
   "source": [
    "# change the loan status\n",
    "default.y = c('Default', 'Charged Off', 'Late (31-120 days)', 'Late (16-30 days)', \n",
    "              'Does not meet the credit policy. Status:Charged Off')\n",
    "data$loan_status = ifelse(data$loan_status %in% default.y, 1, 0)\n",
    "\n",
    "# -----------------------------------------------------------\n",
    "# drop columns that have too many missing values\n",
    "drop.names = c(\"mths_since_last_delinq\", \"mths_since_last_record\", \"mths_since_last_major_derog\", \n",
    "               \"annual_inc_joint\", \"dti_joint\", \"open_acc_6m\", \"open_il_6m\", \"open_il_12m\", \n",
    "               \"open_il_24m\", \"mths_since_rcnt_il\", \"total_bal_il\", \"il_util\", \"open_rv_12m\", \n",
    "               \"open_rv_24m\", \"max_bal_bc\", \"all_util\", \"inq_fi\", \"total_cu_tl\", \"inq_last_12m\")\n",
    "data = data[, !(names(data) %in% drop.names)]\n",
    "\n",
    "# Transform categorical feature into numerical feature\n",
    "data$sub_grade = as.numeric(data$sub_grade)\n",
    "\n",
    "# -----------------------------------------------------------\n",
    "# Drop useless features\n",
    "# drop useless categorical features\n",
    "drop.names = c(\"emp_title\", \"issue_d\", \"pymnt_plan\", \"url\", \"desc\", \"title\", \"zip_code\", \"addr_state\", \n",
    "               \"earliest_cr_line\", \"last_pymnt_d\", \"next_pymnt_d\", \"last_credit_pull_d\", \"application_type\", \n",
    "               \"verification_status_joint\", \"grade\")\n",
    "data = data[, !(names(data) %in% drop.names)]\n",
    "\n",
    "# drop useless numerical features\n",
    "drop.names = c(\"id\", \"member_id\", \"policy_code\")\n",
    "data = data[, !(names(data) %in% drop.names)]\n",
    "\n",
    "# -----------------------------------------------------------\n",
    "# Data Structures\n",
    "# find all categorical and numerical variables\n",
    "data.type = sapply(data, class)\n",
    "cat.var = names(data)[which(data.type == 'factor')]\n",
    "num.var = names(data)[which((data.type == 'integer') | (data.type == 'numeric'))]\n",
    "\n",
    "# -----------------------------------------------------------\n",
    "# Fill NA values\n",
    "# create new feature named \"NA\" for categorical variables\n",
    "for (i in cat.var) {\n",
    "    data[, i] = addNA(data[, i])\n",
    "}\n",
    "\n",
    "# create new feature using the median value for numerical variables\n",
    "for (i in num.var) {\n",
    "    na.id = is.na(data[, i])\n",
    "    tmp.median = median(data[, i], na.rm=TRUE)\n",
    "    data[which(na.id), i] = tmp.median\n",
    "}\n",
    "\n",
    "# -----------------------------------------------------------\n",
    "# Skewness\n",
    "skew = c('installment', 'annual_inc', 'dti', 'revol_bal', 'total_acc', 'out_prncp', 'out_prncp_inv', \n",
    "         'total_pymnt', 'total_pymnt_inv', 'total_rec_prncp', 'total_rec_int', 'total_rec_late_fee', \n",
    "         'recoveries', 'collection_recovery_fee', 'last_pymnt_amnt', 'tot_coll_amt', 'tot_cur_bal',\n",
    "         'total_rev_hi_lim')\n",
    "for (i in skew){\n",
    "    data[, i] = log(data[, i] + 1)\n",
    "}"
   ]
  },
  {
   "cell_type": "markdown",
   "metadata": {},
   "source": [
    "# -----------------------------------------------------------\n",
    "# Dummy Variables"
   ]
  },
  {
   "cell_type": "code",
   "execution_count": 4,
   "metadata": {
    "collapsed": true
   },
   "outputs": [],
   "source": [
    "# create dummy variables\n",
    "dummy.var = data.frame(dummy.data.frame(data[, cat.var], sep='.'))\n",
    "data = cbind(data, dummy.var)\n",
    "\n",
    "# drop original categorical variables\n",
    "data = data[ , !(names(data) %in% cat.var)]"
   ]
  },
  {
   "cell_type": "code",
   "execution_count": 5,
   "metadata": {
    "collapsed": true
   },
   "outputs": [],
   "source": [
    "scale = function(score) {\n",
    "    # function to scale the score\n",
    "    score[which(score < 1e-15)] = 1e-15\n",
    "    score[which(score > 1 - 1e-15)] = 1 - 1e-15\n",
    "    score\n",
    "}"
   ]
  },
  {
   "cell_type": "markdown",
   "metadata": {},
   "source": [
    "# Vanilla Logistic Model"
   ]
  },
  {
   "cell_type": "code",
   "execution_count": 6,
   "metadata": {
    "collapsed": false
   },
   "outputs": [
    {
     "name": "stdout",
     "output_type": "stream",
     "text": [
      "Start time:\t 2017-04-02 10:46:06 \n",
      "End time:\t 2017-04-02 10:49:35 \n",
      "Total time:\t 3.47799 \n"
     ]
    }
   ],
   "source": [
    "start.time = Sys.time()  # get time information\n",
    "\n",
    "# fit the logistic model\n",
    "log.model = glm(loan_status ~ ., data=data, family=binomial)\n",
    "\n",
    "end.time = Sys.time()\n",
    "cat('Start time:\\t', as.character(start.time), '\\n')\n",
    "cat('End time:\\t', as.character(end.time), '\\n')\n",
    "cat('Total time:\\t', end.time - start.time, '\\n')"
   ]
  },
  {
   "cell_type": "code",
   "execution_count": 7,
   "metadata": {
    "collapsed": false
   },
   "outputs": [
    {
     "data": {
      "text/html": [
       "0.0679976554146218"
      ],
      "text/latex": [
       "0.0679976554146218"
      ],
      "text/markdown": [
       "0.0679976554146218"
      ],
      "text/plain": [
       "[1] 0.06799766"
      ]
     },
     "metadata": {},
     "output_type": "display_data"
    }
   ],
   "source": [
    "# calculate log-loss\n",
    "y.hat = predict(log.model, data, type=\"response\")\n",
    "y.hat = scale(y.hat)\n",
    "y = data$loan_status\n",
    "loss = -sum(y * log(y.hat)) / length(y)\n",
    "loss"
   ]
  },
  {
   "cell_type": "code",
   "execution_count": 8,
   "metadata": {
    "collapsed": false
   },
   "outputs": [],
   "source": [
    "# Logistic Model with Lasso\n",
    "\n",
    "# # transform into matrix\n",
    "# idx = which(names(data) == \"loan_status\")\n",
    "# x = data.matrix(data[, -idx])\n",
    "# y = data$loan_status\n",
    "\n",
    "# # Cross Validation\n",
    "# log.cv = cv.glmnet(x[1:10000, ], y[1:10000], family=\"binomial\", alpha=1)\n",
    "# plot(log.cv)\n",
    "\n",
    "# log.cv$lambda.min\n",
    "# log.cv$lambda.1se\n",
    "\n",
    "# # fit the logistic model with Lasso\n",
    "# log.model = glmnet(x, y, family=\"binomial\", alpha=1, lambda=log.cv$lambda.1se)\n",
    "\n",
    "# # calculate log-loss\n",
    "# y.hat = predict(log.model, s=log.cv$lambda.1se, newx=x, type=\"response\")\n",
    "# y = data$loan_status\n",
    "# loss = -sum(y * log(y.hat)) / length(y)\n",
    "# loss"
   ]
  },
  {
   "cell_type": "markdown",
   "metadata": {},
   "source": [
    "# GBM"
   ]
  },
  {
   "cell_type": "code",
   "execution_count": 9,
   "metadata": {
    "collapsed": false
   },
   "outputs": [
    {
     "data": {
      "text/html": [
       "655"
      ],
      "text/latex": [
       "655"
      ],
      "text/markdown": [
       "655"
      ],
      "text/plain": [
       "[1] 655"
      ]
     },
     "metadata": {},
     "output_type": "display_data"
    },
    {
     "name": "stdout",
     "output_type": "stream",
     "text": [
      "Start time:\t 2017-04-02 10:49:38 \n",
      "End time:\t 2017-04-02 13:33:27 \n",
      "Total time:\t 2.730387 \n"
     ]
    },
    {
     "data": {
      "image/png": "[encoded data removed]",
      "text/plain": [
       "plot without title"
      ]
     },
     "metadata": {},
     "output_type": "display_data"
    }
   ],
   "source": [
    "start.time = Sys.time()  # get time information\n",
    "\n",
    "# build the adaboost model\n",
    "ada.boost = gbm(loan_status ~ ., data=data, distribution=\"adaboost\", n.trees=1000, \n",
    "                shrinkage=0.5, bag.fraction=1, cv.folds=5, n.cores=8)\n",
    "gbm.perf(ada.boost, method='cv', plot.it=T)  # estimating the best iterations\n",
    "\n",
    "end.time = Sys.time()\n",
    "cat('Start time:\\t', as.character(start.time), '\\n')\n",
    "cat('End time:\\t', as.character(end.time), '\\n')\n",
    "cat('Total time:\\t', end.time - start.time, '\\n')"
   ]
  },
  {
   "cell_type": "code",
   "execution_count": 10,
   "metadata": {
    "collapsed": false
   },
   "outputs": [
    {
     "name": "stdout",
     "output_type": "stream",
     "text": [
      "Using 655 trees...\n"
     ]
    },
    {
     "data": {
      "text/html": [
       "0.0653457367320048"
      ],
      "text/latex": [
       "0.0653457367320048"
      ],
      "text/markdown": [
       "0.0653457367320048"
      ],
      "text/plain": [
       "[1] 0.06534574"
      ]
     },
     "metadata": {},
     "output_type": "display_data"
    }
   ],
   "source": [
    "# calculate log-loss\n",
    "y.hat = predict(ada.boost, data, type='response')\n",
    "y.hat = scale(y.hat)\n",
    "y = data$loan_status\n",
    "loss = -sum(y * log(y.hat)) / length(y)\n",
    "loss"
   ]
  },
  {
   "cell_type": "markdown",
   "metadata": {},
   "source": [
    "# Random Forest"
   ]
  },
  {
   "cell_type": "code",
   "execution_count": 11,
   "metadata": {
    "collapsed": false
   },
   "outputs": [
    {
     "name": "stdout",
     "output_type": "stream",
     "text": [
      "Start time:\t 2017-04-02 13:33:39 \n",
      "End time:\t 2017-04-02 15:37:26 \n",
      "Total time:\t 2.063305 \n"
     ]
    }
   ],
   "source": [
    "start.time = Sys.time()  # get time information\n",
    "\n",
    "# build the random forest model\n",
    "rf.model = randomForest(as.factor(loan_status) ~ ., data=data, importance=T, ntree=100)\n",
    "\n",
    "end.time = Sys.time()\n",
    "cat('Start time:\\t', as.character(start.time), '\\n')\n",
    "cat('End time:\\t', as.character(end.time), '\\n')\n",
    "cat('Total time:\\t', end.time - start.time, '\\n')"
   ]
  },
  {
   "cell_type": "code",
   "execution_count": 12,
   "metadata": {
    "collapsed": false
   },
   "outputs": [
    {
     "data": {
      "image/png": "[encoded data removed]",
      "text/plain": [
       "plot without title"
      ]
     },
     "metadata": {},
     "output_type": "display_data"
    }
   ],
   "source": [
    "# plot the error rate\n",
    "tmp = rf.model$err.rate\n",
    "plot(c(0, rf.model$ntree), range(tmp), type=\"n\",\n",
    "     xlab = \"Number of trees\", ylab=\"Error\")\n",
    "lines(tmp[,1], col=\"black\")\n",
    "lines(tmp[,2], col=\"red\")\n",
    "lines(tmp[,3], col=\"green\")"
   ]
  },
  {
   "cell_type": "code",
   "execution_count": 13,
   "metadata": {
    "collapsed": false
   },
   "outputs": [
    {
     "data": {
      "text/html": [
       "0.00791634217260856"
      ],
      "text/latex": [
       "0.00791634217260856"
      ],
      "text/markdown": [
       "0.00791634217260856"
      ],
      "text/plain": [
       "[1] 0.007916342"
      ]
     },
     "metadata": {},
     "output_type": "display_data"
    }
   ],
   "source": [
    "# calculate log-loss\n",
    "y.hat = predict(rf.model, data, type=\"prob\")[, 2]\n",
    "y.hat = scale(y.hat)\n",
    "y = data$loan_status\n",
    "loss = -sum(y * log(y.hat)) / length(y)\n",
    "loss"
   ]
  },
  {
   "cell_type": "markdown",
   "metadata": {},
   "source": [
    "# XGBoost"
   ]
  },
  {
   "cell_type": "code",
   "execution_count": 14,
   "metadata": {
    "collapsed": false
   },
   "outputs": [],
   "source": [
    "data.y = data$loan_status\n",
    "data.x = data[, -which(names(data) == \"loan_status\")]\n",
    "data.x = apply(data.x, 2, as.numeric)"
   ]
  },
  {
   "cell_type": "code",
   "execution_count": 15,
   "metadata": {
    "collapsed": false,
    "scrolled": false
   },
   "outputs": [
    {
     "name": "stdout",
     "output_type": "stream",
     "text": [
      "[1]\ttrain-logloss:0.348135+0.000070\ttest-logloss:0.348205+0.000152 \n",
      "Multiple eval metrics are present. Will use test_logloss for early stopping.\n",
      "Will train until test_logloss hasn't improved in 3 rounds.\n",
      "\n",
      "[2]\ttrain-logloss:0.218787+0.000155\ttest-logloss:0.218907+0.000232 \n",
      "[3]\ttrain-logloss:0.157668+0.000171\ttest-logloss:0.157836+0.000302 \n",
      "[4]\ttrain-logloss:0.123135+0.000152\ttest-logloss:0.123367+0.000358 \n",
      "[5]\ttrain-logloss:0.102843+0.000186\ttest-logloss:0.103119+0.000509 \n",
      "[6]\ttrain-logloss:0.091926+0.000760\ttest-logloss:0.092258+0.000954 \n",
      "[7]\ttrain-logloss:0.086022+0.000409\ttest-logloss:0.086432+0.000863 \n",
      "[8]\ttrain-logloss:0.082634+0.000607\ttest-logloss:0.083126+0.000910 \n",
      "[9]\ttrain-logloss:0.080451+0.000323\ttest-logloss:0.081043+0.000673 \n",
      "[10]\ttrain-logloss:0.079108+0.000604\ttest-logloss:0.079802+0.000620 \n",
      "[11]\ttrain-logloss:0.077564+0.000355\ttest-logloss:0.078356+0.000558 \n",
      "[12]\ttrain-logloss:0.076686+0.000191\ttest-logloss:0.077596+0.000854 \n",
      "[13]\ttrain-logloss:0.075980+0.000313\ttest-logloss:0.077043+0.000811 \n",
      "[14]\ttrain-logloss:0.074995+0.000446\ttest-logloss:0.076200+0.000960 \n",
      "[15]\ttrain-logloss:0.074341+0.000458\ttest-logloss:0.075695+0.000746 \n",
      "[16]\ttrain-logloss:0.073649+0.000216\ttest-logloss:0.075198+0.000747 \n",
      "[17]\ttrain-logloss:0.073182+0.000380\ttest-logloss:0.074866+0.000885 \n",
      "[18]\ttrain-logloss:0.072703+0.000386\ttest-logloss:0.074551+0.000949 \n",
      "[19]\ttrain-logloss:0.072354+0.000282\ttest-logloss:0.074381+0.000836 \n",
      "[20]\ttrain-logloss:0.071946+0.000234\ttest-logloss:0.074168+0.000753 \n",
      "[21]\ttrain-logloss:0.071612+0.000274\ttest-logloss:0.074022+0.000673 \n",
      "[22]\ttrain-logloss:0.071149+0.000249\ttest-logloss:0.073726+0.000608 \n",
      "[23]\ttrain-logloss:0.070814+0.000286\ttest-logloss:0.073602+0.000584 \n",
      "[24]\ttrain-logloss:0.070442+0.000439\ttest-logloss:0.073368+0.000468 \n",
      "[25]\ttrain-logloss:0.070068+0.000352\ttest-logloss:0.073221+0.000546 \n",
      "[26]\ttrain-logloss:0.069785+0.000320\ttest-logloss:0.073198+0.000539 \n",
      "[27]\ttrain-logloss:0.069425+0.000322\ttest-logloss:0.073036+0.000606 \n",
      "[28]\ttrain-logloss:0.069159+0.000376\ttest-logloss:0.072946+0.000586 \n",
      "[29]\ttrain-logloss:0.068939+0.000372\ttest-logloss:0.072866+0.000590 \n",
      "[30]\ttrain-logloss:0.068626+0.000359\ttest-logloss:0.072749+0.000576 \n",
      "[31]\ttrain-logloss:0.068236+0.000429\ttest-logloss:0.072597+0.000586 \n",
      "[32]\ttrain-logloss:0.068013+0.000483\ttest-logloss:0.072595+0.000574 \n",
      "[33]\ttrain-logloss:0.067695+0.000480\ttest-logloss:0.072524+0.000569 \n",
      "[34]\ttrain-logloss:0.067364+0.000450\ttest-logloss:0.072402+0.000609 \n",
      "[35]\ttrain-logloss:0.067109+0.000443\ttest-logloss:0.072329+0.000629 \n",
      "[36]\ttrain-logloss:0.066873+0.000421\ttest-logloss:0.072253+0.000649 \n",
      "[37]\ttrain-logloss:0.066650+0.000383\ttest-logloss:0.072234+0.000704 \n",
      "[38]\ttrain-logloss:0.066452+0.000389\ttest-logloss:0.072215+0.000723 \n",
      "[39]\ttrain-logloss:0.066127+0.000373\ttest-logloss:0.072089+0.000742 \n",
      "[40]\ttrain-logloss:0.065921+0.000347\ttest-logloss:0.071995+0.000703 \n",
      "[41]\ttrain-logloss:0.065627+0.000277\ttest-logloss:0.071919+0.000728 \n",
      "[42]\ttrain-logloss:0.065331+0.000240\ttest-logloss:0.071843+0.000745 \n",
      "[43]\ttrain-logloss:0.065114+0.000278\ttest-logloss:0.071801+0.000763 \n",
      "[44]\ttrain-logloss:0.064790+0.000298\ttest-logloss:0.071686+0.000773 \n",
      "[45]\ttrain-logloss:0.064531+0.000276\ttest-logloss:0.071651+0.000764 \n",
      "[46]\ttrain-logloss:0.064299+0.000247\ttest-logloss:0.071570+0.000719 \n",
      "[47]\ttrain-logloss:0.064121+0.000289\ttest-logloss:0.071547+0.000695 \n",
      "[48]\ttrain-logloss:0.063933+0.000321\ttest-logloss:0.071510+0.000724 \n",
      "[49]\ttrain-logloss:0.063730+0.000316\ttest-logloss:0.071490+0.000706 \n",
      "[50]\ttrain-logloss:0.063547+0.000344\ttest-logloss:0.071441+0.000715 \n",
      "[51]\ttrain-logloss:0.063416+0.000318\ttest-logloss:0.071426+0.000722 \n",
      "[52]\ttrain-logloss:0.063252+0.000302\ttest-logloss:0.071408+0.000736 \n",
      "[53]\ttrain-logloss:0.063016+0.000314\ttest-logloss:0.071370+0.000784 \n",
      "[54]\ttrain-logloss:0.062889+0.000330\ttest-logloss:0.071331+0.000790 \n",
      "[55]\ttrain-logloss:0.062681+0.000257\ttest-logloss:0.071292+0.000818 \n",
      "[56]\ttrain-logloss:0.062492+0.000175\ttest-logloss:0.071244+0.000806 \n",
      "[57]\ttrain-logloss:0.062343+0.000170\ttest-logloss:0.071238+0.000850 \n",
      "[58]\ttrain-logloss:0.062113+0.000130\ttest-logloss:0.071185+0.000881 \n",
      "[59]\ttrain-logloss:0.061941+0.000150\ttest-logloss:0.071172+0.000846 \n",
      "[60]\ttrain-logloss:0.061761+0.000097\ttest-logloss:0.071102+0.000868 \n",
      "[61]\ttrain-logloss:0.061633+0.000065\ttest-logloss:0.071073+0.000842 \n",
      "[62]\ttrain-logloss:0.061512+0.000064\ttest-logloss:0.071083+0.000825 \n",
      "[63]\ttrain-logloss:0.061356+0.000088\ttest-logloss:0.071054+0.000822 \n",
      "[64]\ttrain-logloss:0.061133+0.000151\ttest-logloss:0.071023+0.000765 \n",
      "[65]\ttrain-logloss:0.060941+0.000100\ttest-logloss:0.071023+0.000789 \n",
      "[66]\ttrain-logloss:0.060782+0.000128\ttest-logloss:0.071005+0.000837 \n",
      "[67]\ttrain-logloss:0.060606+0.000118\ttest-logloss:0.070993+0.000820 \n",
      "[68]\ttrain-logloss:0.060415+0.000075\ttest-logloss:0.070982+0.000816 \n",
      "[69]\ttrain-logloss:0.060263+0.000075\ttest-logloss:0.070946+0.000819 \n",
      "[70]\ttrain-logloss:0.060117+0.000076\ttest-logloss:0.070941+0.000794 \n",
      "[71]\ttrain-logloss:0.060022+0.000087\ttest-logloss:0.070932+0.000778 \n",
      "[72]\ttrain-logloss:0.059798+0.000110\ttest-logloss:0.070877+0.000701 \n",
      "[73]\ttrain-logloss:0.059650+0.000097\ttest-logloss:0.070878+0.000740 \n",
      "[74]\ttrain-logloss:0.059448+0.000083\ttest-logloss:0.070835+0.000748 \n",
      "[75]\ttrain-logloss:0.059294+0.000114\ttest-logloss:0.070824+0.000730 \n",
      "[76]\ttrain-logloss:0.059098+0.000108\ttest-logloss:0.070786+0.000694 \n",
      "[77]\ttrain-logloss:0.058937+0.000108\ttest-logloss:0.070783+0.000696 \n",
      "[78]\ttrain-logloss:0.058766+0.000151\ttest-logloss:0.070758+0.000681 \n",
      "[79]\ttrain-logloss:0.058649+0.000147\ttest-logloss:0.070764+0.000652 \n",
      "[80]\ttrain-logloss:0.058459+0.000175\ttest-logloss:0.070708+0.000731 \n",
      "[81]\ttrain-logloss:0.058293+0.000203\ttest-logloss:0.070717+0.000736 \n",
      "[82]\ttrain-logloss:0.058161+0.000250\ttest-logloss:0.070722+0.000726 \n",
      "[83]\ttrain-logloss:0.057996+0.000300\ttest-logloss:0.070700+0.000785 \n",
      "[84]\ttrain-logloss:0.057816+0.000268\ttest-logloss:0.070698+0.000771 \n",
      "[85]\ttrain-logloss:0.057637+0.000330\ttest-logloss:0.070648+0.000753 \n",
      "[86]\ttrain-logloss:0.057500+0.000334\ttest-logloss:0.070661+0.000752 \n",
      "[87]\ttrain-logloss:0.057375+0.000341\ttest-logloss:0.070670+0.000748 \n",
      "[88]\ttrain-logloss:0.057237+0.000319\ttest-logloss:0.070658+0.000746 \n",
      "Stopping. Best iteration:\n",
      "[85]\ttrain-logloss:0.057637+0.000330\ttest-logloss:0.070648+0.000753\n",
      "\n",
      "Start time:\t 2017-04-02 15:38:22 \n",
      "End time:\t 2017-04-02 17:08:18 \n",
      "Total time:\t 1.499013 \n"
     ]
    }
   ],
   "source": [
    "start.time = Sys.time()  # get time information\n",
    "\n",
    "# build XGBoost model\n",
    "set.seed(2017)\n",
    "cv.dummy = xgb.cv(data=data.x, label=data.y, nfold=5, max.depth=6, eta=0.5, \n",
    "                  nrounds=200, nthread=8, early.stop.round=3, verbose=T,\n",
    "                  objective=\"binary:logistic\", metrics=list(\"logloss\"))\n",
    "\n",
    "end.time = Sys.time()\n",
    "cat('Start time:\\t', as.character(start.time), '\\n')\n",
    "cat('End time:\\t', as.character(end.time), '\\n')\n",
    "cat('Total time:\\t', end.time - start.time, '\\n')"
   ]
  },
  {
   "cell_type": "code",
   "execution_count": 18,
   "metadata": {
    "collapsed": false
   },
   "outputs": [
    {
     "name": "stdout",
     "output_type": "stream",
     "text": [
      "Start time:\t 2017-04-02 18:52:10 \n",
      "End time:\t 2017-04-02 19:13:17 \n",
      "Total time:\t 21.11704 \n"
     ]
    }
   ],
   "source": [
    "start.time = Sys.time()  # get time information\n",
    "\n",
    "bst = xgboost(data=data.x, label=data.y, max.depth=6, eta=0.5, nrounds=85, \n",
    "              nthread=8, objective=\"binary:logistic\", verbose=F)\n",
    "\n",
    "end.time = Sys.time()\n",
    "cat('Start time:\\t', as.character(start.time), '\\n')\n",
    "cat('End time:\\t', as.character(end.time), '\\n')\n",
    "cat('Total time:\\t', end.time - start.time, '\\n')"
   ]
  },
  {
   "cell_type": "code",
   "execution_count": 19,
   "metadata": {
    "collapsed": false
   },
   "outputs": [
    {
     "data": {
      "text/html": [
       "0.0433534349311227"
      ],
      "text/latex": [
       "0.0433534349311227"
      ],
      "text/markdown": [
       "0.0433534349311227"
      ],
      "text/plain": [
       "[1] 0.04335343"
      ]
     },
     "metadata": {},
     "output_type": "display_data"
    }
   ],
   "source": [
    "# calculate log-loss\n",
    "y.hat = predict(bst, data.x)\n",
    "y.hat = scale(y.hat)\n",
    "y = data$loan_status\n",
    "loss = -sum(y * log(y.hat)) / length(y)\n",
    "loss"
   ]
  },
  {
   "cell_type": "code",
   "execution_count": null,
   "metadata": {
    "collapsed": true
   },
   "outputs": [],
   "source": []
  }
 ],
 "metadata": {
  "kernelspec": {
   "display_name": "R",
   "language": "R",
   "name": "ir"
  },
  "language_info": {
   "codemirror_mode": "r",
   "file_extension": ".r",
   "mimetype": "text/x-r-source",
   "name": "R",
   "pygments_lexer": "r",
   "version": "3.3.2"
  }
 },
 "nbformat": 4,
 "nbformat_minor": 2
}
