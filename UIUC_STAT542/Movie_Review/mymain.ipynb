{
 "cells": [
  {
   "cell_type": "markdown",
   "metadata": {},
   "source": [
    "#### Follow the tutorial material from Kaggle (use TF-IDF instead)\n",
    "* 3-gram\n",
    "* 10000 words"
   ]
  },
  {
   "cell_type": "code",
   "execution_count": 1,
   "metadata": {
    "collapsed": true
   },
   "outputs": [],
   "source": [
    "import warnings\n",
    "import re\n",
    "import numpy as np\n",
    "import pandas as pd\n",
    "import matplotlib.pyplot as plt\n",
    "from bs4 import BeautifulSoup\n",
    "\n",
    "from sklearn.metrics import roc_auc_score\n",
    "from sklearn.model_selection import cross_val_score\n",
    "from sklearn.model_selection import train_test_split\n",
    "\n",
    "from sklearn.feature_extraction.text import TfidfVectorizer\n",
    "from sklearn.linear_model import LogisticRegression\n",
    "from sklearn.linear_model import LogisticRegressionCV\n",
    "from sklearn.naive_bayes import MultinomialNB\n",
    "from sklearn.ensemble import RandomForestClassifier\n",
    "from sklearn.ensemble import AdaBoostClassifier\n",
    "from sklearn.ensemble import GradientBoostingClassifier\n",
    "\n",
    "warnings.filterwarnings(\"ignore\")\n",
    "%matplotlib inline"
   ]
  },
  {
   "cell_type": "markdown",
   "metadata": {},
   "source": [
    "# Read data"
   ]
  },
  {
   "cell_type": "code",
   "execution_count": 2,
   "metadata": {
    "collapsed": false
   },
   "outputs": [
    {
     "name": "stdout",
     "output_type": "stream",
     "text": [
      "Training set shape\t (25000, 3)\n",
      "Testing set shape\t (25000, 2)\n",
      "Positive vs. Negative:\t 12500 12500\n"
     ]
    }
   ],
   "source": [
    "train = pd.read_csv('./data/labeledTrainData.tsv', delimiter='\\t', quoting=3)\n",
    "test = pd.read_csv('./data/testData.tsv', delimiter='\\t', quoting=3)\n",
    "\n",
    "# get the number of training and test examples\n",
    "n_train = len(train)\n",
    "n_test = len(test)\n",
    "\n",
    "print('Training set shape\\t', train.shape)\n",
    "print('Testing set shape\\t', test.shape)\n",
    "print('Positive vs. Negative:\\t', len(train[train['sentiment'] == 1]),\\\n",
    "      len(train[train['sentiment'] != 1]))"
   ]
  },
  {
   "cell_type": "code",
   "execution_count": 3,
   "metadata": {
    "collapsed": false
   },
   "outputs": [
    {
     "data": {
      "text/html": [
       "<div>\n",
       "<table border=\"1\" class=\"dataframe\">\n",
       "  <thead>\n",
       "    <tr style=\"text-align: right;\">\n",
       "      <th></th>\n",
       "      <th>id</th>\n",
       "      <th>sentiment</th>\n",
       "      <th>review</th>\n",
       "    </tr>\n",
       "  </thead>\n",
       "  <tbody>\n",
       "    <tr>\n",
       "      <th>0</th>\n",
       "      <td>\"5814_8\"</td>\n",
       "      <td>1</td>\n",
       "      <td>\"With all this stuff going down at the moment ...</td>\n",
       "    </tr>\n",
       "    <tr>\n",
       "      <th>1</th>\n",
       "      <td>\"2381_9\"</td>\n",
       "      <td>1</td>\n",
       "      <td>\"\\\"The Classic War of the Worlds\\\" by Timothy ...</td>\n",
       "    </tr>\n",
       "    <tr>\n",
       "      <th>2</th>\n",
       "      <td>\"7759_3\"</td>\n",
       "      <td>0</td>\n",
       "      <td>\"The film starts with a manager (Nicholas Bell...</td>\n",
       "    </tr>\n",
       "    <tr>\n",
       "      <th>3</th>\n",
       "      <td>\"3630_4\"</td>\n",
       "      <td>0</td>\n",
       "      <td>\"It must be assumed that those who praised thi...</td>\n",
       "    </tr>\n",
       "    <tr>\n",
       "      <th>4</th>\n",
       "      <td>\"9495_8\"</td>\n",
       "      <td>1</td>\n",
       "      <td>\"Superbly trashy and wondrously unpretentious ...</td>\n",
       "    </tr>\n",
       "  </tbody>\n",
       "</table>\n",
       "</div>"
      ],
      "text/plain": [
       "         id  sentiment                                             review\n",
       "0  \"5814_8\"          1  \"With all this stuff going down at the moment ...\n",
       "1  \"2381_9\"          1  \"\\\"The Classic War of the Worlds\\\" by Timothy ...\n",
       "2  \"7759_3\"          0  \"The film starts with a manager (Nicholas Bell...\n",
       "3  \"3630_4\"          0  \"It must be assumed that those who praised thi...\n",
       "4  \"9495_8\"          1  \"Superbly trashy and wondrously unpretentious ..."
      ]
     },
     "execution_count": 3,
     "metadata": {},
     "output_type": "execute_result"
    }
   ],
   "source": [
    "train.head()"
   ]
  },
  {
   "cell_type": "markdown",
   "metadata": {},
   "source": [
    "# Data Cleaning and Processing"
   ]
  },
  {
   "cell_type": "code",
   "execution_count": 4,
   "metadata": {
    "collapsed": false
   },
   "outputs": [],
   "source": [
    "def review2words(review):\n",
    "    \"\"\" function to convert input review into string of words \"\"\"\n",
    "    # Remove HTML\n",
    "    review_text = BeautifulSoup(review, 'lxml').get_text() \n",
    "\n",
    "    # Remove non-letters        \n",
    "    letters_only = re.sub(\"[^a-zA-Z]\", \" \", review_text) \n",
    "\n",
    "    # Convert to lower case, split into individual words\n",
    "    words = letters_only.lower().split()                             \n",
    "\n",
    "    # Join the words and return the result.\n",
    "    return \" \".join(words)"
   ]
  },
  {
   "cell_type": "code",
   "execution_count": 5,
   "metadata": {
    "collapsed": false
   },
   "outputs": [],
   "source": [
    "# get train label\n",
    "train_y = train['sentiment'].values\n",
    "\n",
    "# transform reviews into words list\n",
    "train_review = list(map(review2words, train['review']))\n",
    "test_review = list(map(review2words, test['review']))\n",
    "\n",
    "# combine train and test reviews\n",
    "all_review = train_review + test_review"
   ]
  },
  {
   "cell_type": "code",
   "execution_count": 6,
   "metadata": {
    "collapsed": false
   },
   "outputs": [],
   "source": [
    "# perform TF-IDF transformation\n",
    "vectorizer = TfidfVectorizer(min_df=3, analyzer=\"word\", strip_accents='unicode', \n",
    "                             sublinear_tf=True, stop_words='english', \n",
    "                             max_features=10000, ngram_range=(1, 3)) \n",
    "\n",
    "# fit and transform the data\n",
    "all_features = vectorizer.fit_transform(all_review)\n",
    "\n",
    "# trainsform into array\n",
    "train_features = all_features[:n_train, :].toarray()\n",
    "test_features = all_features[n_train:, :].toarray()"
   ]
  },
  {
   "cell_type": "markdown",
   "metadata": {},
   "source": [
    "# Logistic Regression with Ridge Penalty"
   ]
  },
  {
   "cell_type": "code",
   "execution_count": 8,
   "metadata": {
    "collapsed": false
   },
   "outputs": [
    {
     "data": {
      "text/plain": [
       "array([ 2.7825594])"
      ]
     },
     "execution_count": 8,
     "metadata": {},
     "output_type": "execute_result"
    }
   ],
   "source": [
    "# cross validation\n",
    "logit2CV = LogisticRegressionCV(Cs=10, cv=5, penalty='l2', scoring='roc_auc', \n",
    "                                solver='liblinear', tol=0.0001, max_iter=100, \n",
    "                                n_jobs=-1, refit=True,  random_state=2017)\n",
    "logit2CV = logit2CV.fit(train_features, train_y)\n",
    "logit2CV.C_"
   ]
  },
  {
   "cell_type": "code",
   "execution_count": 9,
   "metadata": {
    "collapsed": true
   },
   "outputs": [],
   "source": [
    "# fit the Logistic model\n",
    "logit2 = LogisticRegression(penalty='l2', tol=0.0001, C=2.7825549, random_state=2017, \n",
    "                            solver='liblinear', n_jobs=-1, verbose=0)\n",
    "logit2 = logit2.fit(train_features, train_y)"
   ]
  },
  {
   "cell_type": "code",
   "execution_count": 10,
   "metadata": {
    "collapsed": false
   },
   "outputs": [
    {
     "name": "stdout",
     "output_type": "stream",
     "text": [
      "Training AUC\t 0.988545088\n"
     ]
    }
   ],
   "source": [
    "# make predictions\n",
    "train_pred1 = logit2.predict_proba(train_features)[:, 1]\n",
    "test_pred1 = logit2.predict_proba(test_features)[:, 1]\n",
    "\n",
    "# save prediction into local files\n",
    "output = pd.DataFrame(data={\"id\": test[\"id\"], \"sentiment\": test_pred1})\n",
    "output.to_csv(\"./result/logit_ridge.csv\", index=False, quoting=3)\n",
    "\n",
    "# get the AUC score\n",
    "print('Training AUC\\t', roc_auc_score(train_y, train_pred1))"
   ]
  },
  {
   "cell_type": "code",
   "execution_count": 11,
   "metadata": {
    "collapsed": false
   },
   "outputs": [
    {
     "name": "stdout",
     "output_type": "stream",
     "text": [
      "Most negative words:\n",
      " ['worst', 'awful', 'bad', 'waste', 'boring', 'disappointment', 'poorly', 'poor', 'worse', 'dull']\n",
      "Most positive words:\n",
      " ['enjoyable', 'fun', 'today', 'amazing', 'favorite', 'wonderful', 'best', 'perfect', 'great', 'excellent']\n"
     ]
    }
   ],
   "source": [
    "# find all the words used\n",
    "words = vectorizer.get_feature_names()\n",
    "logit2coef = logit2.coef_[0, :]\n",
    "\n",
    "# sort to get the most positive and negative words\n",
    "tmp = list(zip(logit2coef, words))\n",
    "tmp.sort(reverse=False)\n",
    "words_sorted = [word for (_, word) in tmp]\n",
    "\n",
    "# choose the most positive and most negative words\n",
    "print('Most negative words:\\n', words_sorted[:10])\n",
    "print('Most positive words:\\n', words_sorted[-10:])"
   ]
  },
  {
   "cell_type": "code",
   "execution_count": 12,
   "metadata": {
    "collapsed": false
   },
   "outputs": [
    {
     "data": {
      "image/png": "[encoded data removed]",
      "text/plain": [
       "<matplotlib.figure.Figure at 0x11a79e198>"
      ]
     },
     "metadata": {},
     "output_type": "display_data"
    }
   ],
   "source": [
    "# find all the words used\n",
    "words = np.array(vectorizer.get_feature_names())\n",
    "logit2coef = logit2.coef_[0, :]\n",
    "\n",
    "# make importances relative to max importance\n",
    "sorted_idx = np.argsort(logit2coef, kind='mergesort')\n",
    "pos = np.arange(len(sorted_idx)) + 0.5\n",
    "\n",
    "# plot the relative importance\n",
    "N = 10\n",
    "idx = np.concatenate((sorted_idx[:N], sorted_idx[-N:]))\n",
    "\n",
    "fig, ax = plt.subplots(figsize=(5, 10))\n",
    "ax.barh(pos[:2 * N], logit2coef[idx], align='center')\n",
    "plt.yticks(pos[: 2 * N], words[idx], fontsize=12)\n",
    "ax.set_xlabel('Coefficient', fontsize=12)\n",
    "ax.set_title('Top {0} Positive and Negative Words'.format(2 * N), fontsize=14)\n",
    "plt.show()"
   ]
  },
  {
   "cell_type": "markdown",
   "metadata": {},
   "source": [
    "# Logistic Regression with Lasso Penalty"
   ]
  },
  {
   "cell_type": "code",
   "execution_count": 13,
   "metadata": {
    "collapsed": false
   },
   "outputs": [
    {
     "data": {
      "text/plain": [
       "array([ 2.7825594])"
      ]
     },
     "execution_count": 13,
     "metadata": {},
     "output_type": "execute_result"
    }
   ],
   "source": [
    "# cross validation\n",
    "logit1CV = LogisticRegressionCV(Cs=10, cv=5, penalty='l1', scoring='roc_auc', \n",
    "                                solver='liblinear', tol=0.0001, max_iter=100, \n",
    "                                n_jobs=-1, refit=True,  random_state=2017)\n",
    "logit1CV = logit1CV.fit(train_features, train_y)\n",
    "logit1CV.C_"
   ]
  },
  {
   "cell_type": "code",
   "execution_count": 14,
   "metadata": {
    "collapsed": true
   },
   "outputs": [],
   "source": [
    "# fit the Logistic model\n",
    "logit1 = LogisticRegression(penalty='l1', tol=0.0001, C=2.7825549, random_state=2017, \n",
    "                            solver='liblinear', n_jobs=-1, verbose=0)\n",
    "logit1 = logit1.fit(train_features, train_y)"
   ]
  },
  {
   "cell_type": "code",
   "execution_count": 15,
   "metadata": {
    "collapsed": false
   },
   "outputs": [
    {
     "name": "stdout",
     "output_type": "stream",
     "text": [
      "Training AUC\t 0.9879110592\n"
     ]
    }
   ],
   "source": [
    "# make predictions\n",
    "train_pred2 = logit1.predict_proba(train_features)[:, 1]\n",
    "test_pred2 = logit1.predict_proba(test_features)[:, 1]\n",
    "\n",
    "# save prediction into local files\n",
    "output = pd.DataFrame(data={\"id\": test[\"id\"], \"sentiment\": test_pred2})\n",
    "output.to_csv(\"./result/logit_lasso.csv\", index=False, quoting=3)\n",
    "\n",
    "# get the AUC score\n",
    "print('Training AUC\\t', roc_auc_score(train_y, train_pred2))"
   ]
  },
  {
   "cell_type": "code",
   "execution_count": 16,
   "metadata": {
    "collapsed": false
   },
   "outputs": [
    {
     "name": "stdout",
     "output_type": "stream",
     "text": [
      "Most negative words:\n",
      " ['worst', 'waste', 'awful', 'poorly', 'disappointment', 'forgettable', 'pointless', 'bad', 'mess', 'unfunny']\n",
      "Most positive words:\n",
      " ['wonderful', 'captures', 'lot things', 'vengeance', 'great', 'wonderfully', 'perfect', 'surprisingly good', 'excellent', 'refreshing']\n"
     ]
    }
   ],
   "source": [
    "# find all the words used\n",
    "words = vectorizer.get_feature_names()\n",
    "logit1coef = logit1.coef_[0, :]\n",
    "\n",
    "# sort to get the most positive and negative words\n",
    "tmp = list(zip(logit1coef, words))\n",
    "tmp.sort(reverse=False)\n",
    "words_sorted = [word for (_, word) in tmp]\n",
    "\n",
    "# choose the most positive and most negative words\n",
    "print('Most negative words:\\n', words_sorted[:10])\n",
    "print('Most positive words:\\n', words_sorted[-10:])"
   ]
  },
  {
   "cell_type": "code",
   "execution_count": 17,
   "metadata": {
    "collapsed": false
   },
   "outputs": [
    {
     "data": {
      "image/png": "[encoded data removed]",
      "text/plain": [
       "<matplotlib.figure.Figure at 0x11b6a1f98>"
      ]
     },
     "metadata": {},
     "output_type": "display_data"
    }
   ],
   "source": [
    "# find all the words used\n",
    "words = np.array(vectorizer.get_feature_names())\n",
    "logit1coef = logit1.coef_[0, :]\n",
    "\n",
    "# make importances relative to max importance\n",
    "sorted_idx = np.argsort(logit1coef, kind='mergesort')\n",
    "pos = np.arange(len(sorted_idx)) + 0.5\n",
    "\n",
    "# plot the relative importance\n",
    "N = 10\n",
    "idx = np.concatenate((sorted_idx[:N], sorted_idx[-N:]))\n",
    "\n",
    "fig, ax = plt.subplots(figsize=(5, 10))\n",
    "ax.barh(pos[:2 * N], logit1coef[idx], align='center')\n",
    "plt.yticks(pos[: 2 * N], words[idx], fontsize=12)\n",
    "ax.set_xlabel('Coefficient', fontsize=12)\n",
    "ax.set_title('Top {0} Positive and Negative Words'.format(2 * N), fontsize=14)\n",
    "plt.show()"
   ]
  },
  {
   "cell_type": "markdown",
   "metadata": {
    "collapsed": true
   },
   "source": [
    "# Multinomial Naive Bayes Model"
   ]
  },
  {
   "cell_type": "code",
   "execution_count": 18,
   "metadata": {
    "collapsed": false
   },
   "outputs": [
    {
     "name": "stdout",
     "output_type": "stream",
     "text": [
      "0.01 \t 0.935364416\n",
      "0.1 \t 0.935627808\n",
      "0.5 \t 0.936139456\n",
      "1.0 \t 0.936480576\n",
      "2.0 \t 0.936807168\n",
      "5.0 \t 0.936872768\n",
      "10.0 \t 0.936267552\n"
     ]
    }
   ],
   "source": [
    "# do cross validation\n",
    "for alpha in [0.01, 0.1, 0.5, 1.0, 2.0, 5.0, 10.0]:\n",
    "    nb_cv = MultinomialNB(alpha=alpha, fit_prior=True, class_prior=None)\n",
    "    scores = cross_val_score(nb_cv, train_features, train_y, cv=5, scoring='roc_auc')\n",
    "    print(alpha, '\\t', np.mean(scores))"
   ]
  },
  {
   "cell_type": "code",
   "execution_count": 19,
   "metadata": {
    "collapsed": true
   },
   "outputs": [],
   "source": [
    "# build the NB model\n",
    "nb = MultinomialNB(alpha=5.0, fit_prior=True, class_prior=None)\n",
    "nb = nb.fit(train_features, train_y)"
   ]
  },
  {
   "cell_type": "code",
   "execution_count": 20,
   "metadata": {
    "collapsed": false
   },
   "outputs": [
    {
     "name": "stdout",
     "output_type": "stream",
     "text": [
      "Training AUC\t 0.9498812928\n"
     ]
    }
   ],
   "source": [
    "# make predictions\n",
    "train_pred3 = nb.predict_proba(train_features)[:, 1]\n",
    "test_pred3 = nb.predict_proba(test_features)[:, 1]\n",
    "\n",
    "# save prediction into local files\n",
    "output = pd.DataFrame(data={\"id\": test[\"id\"], \"sentiment\": test_pred3})\n",
    "output.to_csv(\"./result/naive_bayes.csv\", index=False, quoting=3)\n",
    "\n",
    "# get the AUC score\n",
    "print('Training AUC\\t', roc_auc_score(train_y, train_pred3))"
   ]
  },
  {
   "cell_type": "markdown",
   "metadata": {},
   "source": [
    "# AdaBoost"
   ]
  },
  {
   "cell_type": "code",
   "execution_count": null,
   "metadata": {
    "collapsed": true
   },
   "outputs": [],
   "source": [
    "# build the AdaBoost classifier\n",
    "adaboost = AdaBoostClassifier(n_estimators=400, learning_rate=1.0, \n",
    "                              algorithm='SAMME.R', random_state=2017)\n",
    "adaboost = adaboost.fit(train_features, train_y)"
   ]
  },
  {
   "cell_type": "code",
   "execution_count": 26,
   "metadata": {
    "collapsed": false
   },
   "outputs": [
    {
     "name": "stdout",
     "output_type": "stream",
     "text": [
      "Training AUC\t 0.9616129664\n"
     ]
    }
   ],
   "source": [
    "# make predictions\n",
    "train_pred4 = adaboost.predict_proba(train_features)[:, 1]\n",
    "test_pred4 = adaboost.predict_proba(test_features)[:, 1]\n",
    "\n",
    "# save prediction into local files\n",
    "output = pd.DataFrame(data={\"id\": test[\"id\"], \"sentiment\": test_pred4})\n",
    "output.to_csv(\"./result/adaboost.csv\", index=False, quoting=3)\n",
    "\n",
    "# get the AUC score\n",
    "print('Training AUC\\t', roc_auc_score(train_y, train_pred4))"
   ]
  },
  {
   "cell_type": "code",
   "execution_count": 27,
   "metadata": {
    "collapsed": false
   },
   "outputs": [
    {
     "data": {
      "image/png": "[encoded data removed]",
      "text/plain": [
       "<matplotlib.figure.Figure at 0x11a073470>"
      ]
     },
     "metadata": {},
     "output_type": "display_data"
    }
   ],
   "source": [
    "# find all the words used\n",
    "words = np.array(vectorizer.get_feature_names())\n",
    "importance = adaboost.feature_importances_\n",
    "\n",
    "# make importances relative to max importance\n",
    "importance = importance / importance.max()\n",
    "sorted_idx = np.argsort(importance, kind='mergesort')\n",
    "pos = np.arange(len(sorted_idx)) + 0.5\n",
    "\n",
    "# plot the relative importance\n",
    "N = 20\n",
    "fig, ax = plt.subplots(figsize=(5, 10))\n",
    "ax.barh(pos[:N], importance[sorted_idx[-N:]], align='center')\n",
    "plt.yticks(pos[:N], words[sorted_idx[-N:]], fontsize=12)\n",
    "ax.set_xlabel('Relative Importance', fontsize=12)\n",
    "ax.set_title('Variable Importance', fontsize=16)\n",
    "plt.show()"
   ]
  },
  {
   "cell_type": "markdown",
   "metadata": {},
   "source": [
    "# Gradient Boosting "
   ]
  },
  {
   "cell_type": "code",
   "execution_count": 30,
   "metadata": {
    "collapsed": true
   },
   "outputs": [],
   "source": [
    "# build the Gradient Boosting classifier\n",
    "gbm = GradientBoostingClassifier(learning_rate=0.2, n_estimators=500, subsample=1.0,\n",
    "                                 max_features='auto', min_samples_split=2, random_state=2017, \n",
    "                                 min_samples_leaf=1, min_weight_fraction_leaf=0.0, max_depth=3)\n",
    "gbm = gbm.fit(train_features, train_y)"
   ]
  },
  {
   "cell_type": "code",
   "execution_count": 31,
   "metadata": {
    "collapsed": false
   },
   "outputs": [
    {
     "name": "stdout",
     "output_type": "stream",
     "text": [
      "Training AUC\t 0.9919758208\n"
     ]
    }
   ],
   "source": [
    "# make predictions\n",
    "train_pred5 = gbm.predict_proba(train_features)[:, 1]\n",
    "test_pred5 = gbm.predict_proba(test_features)[:, 1]\n",
    "\n",
    "# save prediction into local files\n",
    "output = pd.DataFrame(data={\"id\": test[\"id\"], \"sentiment\": test_pred5})\n",
    "output.to_csv(\"./result/gbm.csv\", index=False, quoting=3)\n",
    "\n",
    "# get the AUC score\n",
    "print('Training AUC\\t', roc_auc_score(train_y, train_pred5))"
   ]
  },
  {
   "cell_type": "code",
   "execution_count": 32,
   "metadata": {
    "collapsed": false
   },
   "outputs": [
    {
     "data": {
      "image/png": "[encoded data removed]",
      "text/plain": [
       "<matplotlib.figure.Figure at 0x118ffa550>"
      ]
     },
     "metadata": {},
     "output_type": "display_data"
    }
   ],
   "source": [
    "# find all the words used\n",
    "words = np.array(vectorizer.get_feature_names())\n",
    "importance = gbm.feature_importances_\n",
    "\n",
    "# make importances relative to max importance\n",
    "importance = importance / importance.max()\n",
    "sorted_idx = np.argsort(importance, kind='mergesort')\n",
    "pos = np.arange(len(sorted_idx)) + 0.5\n",
    "\n",
    "# plot the relative importance\n",
    "N = 20\n",
    "fig, ax = plt.subplots(figsize=(5, 10))\n",
    "ax.barh(pos[:N], importance[sorted_idx[-N:]], align='center')\n",
    "plt.yticks(pos[:N], words[sorted_idx[-N:]], fontsize=12)\n",
    "ax.set_xlabel('Relative Importance', fontsize=12)\n",
    "ax.set_title('Variable Importance', fontsize=16)\n",
    "plt.show()"
   ]
  },
  {
   "cell_type": "markdown",
   "metadata": {},
   "source": [
    "# Random Forest Model"
   ]
  },
  {
   "cell_type": "code",
   "execution_count": 8,
   "metadata": {
    "collapsed": true
   },
   "outputs": [],
   "source": [
    "# Initialize a Random Forest classifier\n",
    "forest = RandomForestClassifier(n_estimators=500, n_jobs=-1, random_state=2017, \n",
    "                                oob_score=True, max_features='auto') \n",
    "\n",
    "# Fit the forest to the training set\n",
    "forest = forest.fit(train_features, train_y)"
   ]
  },
  {
   "cell_type": "code",
   "execution_count": 9,
   "metadata": {
    "collapsed": false
   },
   "outputs": [
    {
     "name": "stdout",
     "output_type": "stream",
     "text": [
      "Training AUC\t 1.0\n"
     ]
    }
   ],
   "source": [
    "# make predictions\n",
    "train_pred6 = forest.predict_proba(train_features)[:, 1]\n",
    "test_pred6 = forest.predict_proba(test_features)[:, 1]\n",
    "\n",
    "# save prediction into local files\n",
    "output = pd.DataFrame(data={\"id\": test[\"id\"], \"sentiment\": test_pred6})\n",
    "output.to_csv(\"./result/random_forest.csv\", index=False, quoting=3)\n",
    "\n",
    "# get the AUC score\n",
    "print('Training AUC\\t', roc_auc_score(train_y, train_pred6))"
   ]
  },
  {
   "cell_type": "code",
   "execution_count": 10,
   "metadata": {
    "collapsed": false
   },
   "outputs": [
    {
     "data": {
      "image/png": "[encoded data removed]",
      "text/plain": [
       "<matplotlib.figure.Figure at 0x11a424da0>"
      ]
     },
     "metadata": {},
     "output_type": "display_data"
    }
   ],
   "source": [
    "# find all the words used\n",
    "words = np.array(vectorizer.get_feature_names())\n",
    "importance = forest.feature_importances_\n",
    "\n",
    "# make importances relative to max importance\n",
    "importance = importance / importance.max()\n",
    "sorted_idx = np.argsort(importance, kind='mergesort')\n",
    "pos = np.arange(len(sorted_idx)) + 0.5\n",
    "\n",
    "# plot the relative importance\n",
    "N = 20\n",
    "fig, ax = plt.subplots(figsize=(5, 10))\n",
    "ax.barh(pos[:N], importance[sorted_idx[-N:]], align='center')\n",
    "plt.yticks(pos[:N], words[sorted_idx[-N:]], fontsize=12)\n",
    "ax.set_xlabel('Relative Importance', fontsize=12)\n",
    "ax.set_title('Variable Importance', fontsize=16)\n",
    "plt.show()"
   ]
  },
  {
   "cell_type": "markdown",
   "metadata": {},
   "source": [
    "# Merge Score"
   ]
  },
  {
   "cell_type": "code",
   "execution_count": null,
   "metadata": {
    "collapsed": true
   },
   "outputs": [],
   "source": [
    "# define weights\n",
    "w = np.array([1, 2, 3, 4, 5, 6]) / 6\n",
    "\n",
    "# weighted train and test prediction\n",
    "train_pred = w[0] * train_pred1 + w[1] * train_pred2 + w[2] * train_pred3 +\\\n",
    "    w[3] * train_pred4 + w[4] * train_pred5 + w[5] * train_pred6\n",
    "    \n",
    "test_pred = w[0] * test_pred1 + w[1] * test_pred2 + w[2] * test_pred3 +\\\n",
    "    w[3] * test_pred4 + w[4] * test_pred5 + w[5] * test_pred6\n",
    "    \n",
    "# save prediction into local files\n",
    "output = pd.DataFrame(data={\"id\": test[\"id\"], \"sentiment\": test_pred})\n",
    "output.to_csv(\"./result/merged.csv\", index=False, quoting=3)\n",
    "\n",
    "# get the AUC score\n",
    "print('Training AUC\\t', roc_auc_score(train_y, train_pred))"
   ]
  },
  {
   "cell_type": "code",
   "execution_count": null,
   "metadata": {
    "collapsed": true
   },
   "outputs": [],
   "source": []
  },
  {
   "cell_type": "code",
   "execution_count": null,
   "metadata": {
    "collapsed": true
   },
   "outputs": [],
   "source": []
  }
 ],
 "metadata": {
  "kernelspec": {
   "display_name": "Python [default]",
   "language": "python",
   "name": "python3"
  },
  "language_info": {
   "codemirror_mode": {
    "name": "ipython",
    "version": 3
   },
   "file_extension": ".py",
   "mimetype": "text/x-python",
   "name": "python",
   "nbconvert_exporter": "python",
   "pygments_lexer": "ipython3",
   "version": "3.5.3"
  }
 },
 "nbformat": 4,
 "nbformat_minor": 2
}
