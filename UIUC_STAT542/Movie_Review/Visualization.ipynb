{
 "cells": [
  {
   "cell_type": "markdown",
   "metadata": {},
   "source": [
    "#### Follow the tutorial material from Kaggle (use TF-IDF instead)\n",
    "* 1-gram\n",
    "* 5000 words"
   ]
  },
  {
   "cell_type": "code",
   "execution_count": 1,
   "metadata": {
    "collapsed": true
   },
   "outputs": [],
   "source": [
    "import warnings\n",
    "import re\n",
    "import numpy as np\n",
    "import pandas as pd\n",
    "import matplotlib.pyplot as plt\n",
    "from bs4 import BeautifulSoup\n",
    "\n",
    "from sklearn.metrics import roc_auc_score\n",
    "from sklearn.model_selection import cross_val_score\n",
    "from sklearn.model_selection import train_test_split\n",
    "\n",
    "from sklearn.feature_extraction.text import TfidfVectorizer\n",
    "from sklearn.linear_model import LogisticRegression\n",
    "from sklearn.linear_model import LogisticRegressionCV\n",
    "from sklearn.naive_bayes import MultinomialNB\n",
    "from sklearn.ensemble import RandomForestClassifier\n",
    "from sklearn.ensemble import AdaBoostClassifier\n",
    "from sklearn.ensemble import GradientBoostingClassifier\n",
    "\n",
    "warnings.filterwarnings(\"ignore\")\n",
    "%matplotlib inline"
   ]
  },
  {
   "cell_type": "markdown",
   "metadata": {},
   "source": [
    "# Read data"
   ]
  },
  {
   "cell_type": "code",
   "execution_count": 2,
   "metadata": {
    "collapsed": false
   },
   "outputs": [],
   "source": [
    "train = pd.read_csv('./labeledTrainData.tsv', delimiter='\\t', quoting=3)\n",
    "test = pd.read_csv('./testData.tsv', delimiter='\\t', quoting=3)\n",
    "\n",
    "# get the number of training and test examples\n",
    "n_train = len(train)\n",
    "n_test = len(test)"
   ]
  },
  {
   "cell_type": "markdown",
   "metadata": {},
   "source": [
    "# Data Cleaning and Processing"
   ]
  },
  {
   "cell_type": "code",
   "execution_count": 3,
   "metadata": {
    "collapsed": false
   },
   "outputs": [],
   "source": [
    "def review2words(review):\n",
    "    \"\"\" function to convert input review into string of words \"\"\"\n",
    "    # Remove HTML\n",
    "    review_text = BeautifulSoup(review, 'lxml').get_text() \n",
    "\n",
    "    # Remove non-letters        \n",
    "    letters_only = re.sub(\"[^a-zA-Z]\", \" \", review_text) \n",
    "\n",
    "    # Convert to lower case, split into individual words\n",
    "    words = letters_only.lower().split()                             \n",
    "\n",
    "    # Join the words and return the result.\n",
    "    return \" \".join(words)\n",
    "\n",
    "# get train label\n",
    "train_y = train['sentiment'].values\n",
    "\n",
    "# transform reviews into words list\n",
    "train_review = list(map(review2words, train['review']))\n",
    "test_review = list(map(review2words, test['review']))\n",
    "\n",
    "# combine train and test reviews\n",
    "all_review = train_review + test_review\n",
    "\n",
    "# perform TF-IDF transformation\n",
    "vectorizer = TfidfVectorizer(min_df=3, analyzer=\"word\", strip_accents='unicode', \n",
    "                             sublinear_tf=True, stop_words='english', \n",
    "                             max_features=5000, ngram_range=(1, 1)) \n",
    "\n",
    "# fit and transform the data\n",
    "all_features = vectorizer.fit_transform(all_review)\n",
    "\n",
    "# trainsform into array\n",
    "train_features = all_features[:n_train, :].toarray()"
   ]
  },
  {
   "cell_type": "markdown",
   "metadata": {},
   "source": [
    "# Logistic Regression with Ridge Penalty"
   ]
  },
  {
   "cell_type": "code",
   "execution_count": 4,
   "metadata": {
    "collapsed": true
   },
   "outputs": [],
   "source": [
    "# fit the Logistic model\n",
    "logit2 = LogisticRegression(penalty='l2', tol=0.0001, C=2.7825549, random_state=2017, \n",
    "                            solver='liblinear', n_jobs=-1, verbose=0)\n",
    "logit2 = logit2.fit(train_features, train_y)"
   ]
  },
  {
   "cell_type": "code",
   "execution_count": 35,
   "metadata": {
    "collapsed": false
   },
   "outputs": [
    {
     "data": {
      "image/png": "[encoded data removed]",
      "text/plain": [
       "<matplotlib.figure.Figure at 0x116b75898>"
      ]
     },
     "metadata": {},
     "output_type": "display_data"
    }
   ],
   "source": [
    "# find all the words used\n",
    "words = np.array(vectorizer.get_feature_names())\n",
    "logit2coef = logit2.coef_[0, :]\n",
    "\n",
    "# make importances relative to max importance\n",
    "sorted_idx = np.argsort(logit2coef, kind='mergesort')\n",
    "pos = np.arange(len(sorted_idx)) + 0.5\n",
    "\n",
    "# plot the relative importance\n",
    "N = 15\n",
    "idx = np.concatenate((sorted_idx[:N], sorted_idx[-N:]))\n",
    "\n",
    "fig, ax = plt.subplots(figsize=(5, 10))\n",
    "ax.barh(pos[:2 * N], logit2coef[idx], align='center')\n",
    "ax.set_ylim([0, N * 2])\n",
    "plt.yticks(pos[: 2 * N], words[idx], fontsize=12)\n",
    "plt.tight_layout(pad=3.08, h_pad=None, w_pad=None, rect=None)\n",
    "ax.set_xlabel('Coefficient', fontsize=12)\n",
    "ax.set_title('Top {0} Pos / Neg Words'.format(2 * N), fontsize=14)\n",
    "plt.savefig('./top_words.png', dpi=200)\n",
    "plt.show()"
   ]
  },
  {
   "cell_type": "markdown",
   "metadata": {},
   "source": [
    "# Logistic Regression with Lasso"
   ]
  },
  {
   "cell_type": "code",
   "execution_count": 79,
   "metadata": {
    "collapsed": true
   },
   "outputs": [],
   "source": [
    "# fit the Logistic model\n",
    "logit1 = LogisticRegression(penalty='l1', tol=0.0001, C=2.7825549, random_state=2017, \n",
    "                            solver='liblinear', n_jobs=-1, verbose=0)\n",
    "logit1 = logit1.fit(train_features, train_y)"
   ]
  },
  {
   "cell_type": "code",
   "execution_count": 81,
   "metadata": {
    "collapsed": false
   },
   "outputs": [
    {
     "data": {
      "image/png": "[encoded data removed]",
      "text/plain": [
       "<matplotlib.figure.Figure at 0x11664f748>"
      ]
     },
     "metadata": {},
     "output_type": "display_data"
    }
   ],
   "source": [
    "# find all the words used\n",
    "words = np.array(vectorizer.get_feature_names())\n",
    "logit1coef = logit1.coef_[0, :]\n",
    "\n",
    "# make importances relative to max importance\n",
    "sorted_idx = np.argsort(logit1coef, kind='mergesort')\n",
    "pos = np.arange(len(sorted_idx)) + 0.5\n",
    "\n",
    "# plot the relative importance\n",
    "N = 15\n",
    "idx = np.concatenate((sorted_idx[:N], sorted_idx[-N:]))\n",
    "\n",
    "fig, ax = plt.subplots(figsize=(5, 10))\n",
    "ax.barh(pos[:2 * N], logit1coef[idx], align='center')\n",
    "ax.set_ylim([0, N * 2])\n",
    "plt.yticks(pos[: 2 * N], words[idx], fontsize=12)\n",
    "plt.tight_layout(pad=3.08, h_pad=None, w_pad=None, rect=None)\n",
    "ax.set_xlabel('Coefficient', fontsize=12)\n",
    "ax.set_title('Top {0} Pos / Neg Words'.format(2 * N), fontsize=14)\n",
    "plt.show()"
   ]
  },
  {
   "cell_type": "markdown",
   "metadata": {},
   "source": [
    "# Random Forest Model"
   ]
  },
  {
   "cell_type": "code",
   "execution_count": 26,
   "metadata": {
    "collapsed": true
   },
   "outputs": [],
   "source": [
    "# Initialize a Random Forest classifier\n",
    "forest = RandomForestClassifier(n_estimators=400, n_jobs=-1, random_state=2017, \n",
    "                                oob_score=True, max_features='auto') \n",
    "\n",
    "# Fit the forest to the training set\n",
    "forest = forest.fit(train_features, train_y)"
   ]
  },
  {
   "cell_type": "code",
   "execution_count": 27,
   "metadata": {
    "collapsed": false
   },
   "outputs": [
    {
     "data": {
      "image/png": "[encoded data removed]",
      "text/plain": [
       "<matplotlib.figure.Figure at 0x1143885c0>"
      ]
     },
     "metadata": {},
     "output_type": "display_data"
    }
   ],
   "source": [
    "# find all the words used\n",
    "words = np.array(vectorizer.get_feature_names())\n",
    "importance = forest.feature_importances_\n",
    "\n",
    "# make importances relative to max importance\n",
    "importance = importance / importance.max()\n",
    "sorted_idx = np.argsort(importance, kind='mergesort')\n",
    "pos = np.arange(len(sorted_idx)) + 0.5\n",
    "\n",
    "# plot the relative importance\n",
    "N = 30\n",
    "fig, ax = plt.subplots(figsize=(5, 10))\n",
    "ax.barh(pos[:N], importance[sorted_idx[-N:]], align='center')\n",
    "ax.set_ylim([0, N])\n",
    "plt.yticks(pos[:N], words[sorted_idx[-N:]], fontsize=12)\n",
    "plt.tight_layout(pad=3.08, h_pad=None, w_pad=None, rect=None)\n",
    "ax.set_xlabel('Relative Importance', fontsize=12)\n",
    "ax.set_title('Top {0} Words Importance'.format(N), fontsize=14)\n",
    "plt.savefig('./importance.png', dpi=200)\n",
    "plt.show()"
   ]
  },
  {
   "cell_type": "markdown",
   "metadata": {},
   "source": [
    "# Define Positive and Negative Words"
   ]
  },
  {
   "cell_type": "code",
   "execution_count": 87,
   "metadata": {
    "collapsed": true
   },
   "outputs": [],
   "source": [
    "# find all the words used\n",
    "words = np.array(vectorizer.get_feature_names())\n",
    "\n",
    "# get coefficients and importance\n",
    "logit1coef = logit1.coef_[0, :]\n",
    "logit2coef = logit2.coef_[0, :]\n",
    "importance = forest.feature_importances_\n",
    "importance = importance / importance.max()\n",
    "\n",
    "# make importances relative to max importance\n",
    "logit1_idx = np.argsort(logit1coef, kind='mergesort')\n",
    "logit2_idx = np.argsort(logit2coef, kind='mergesort')\n",
    "forest_idx = np.argsort(importance, kind='mergesort')"
   ]
  },
  {
   "cell_type": "code",
   "execution_count": null,
   "metadata": {
    "collapsed": true
   },
   "outputs": [],
   "source": [
    "# define positive and negative words for eath model\n",
    "N = 200\n",
    "logit1_neg = words[logit1_idx][:N]\n",
    "logit1_pos = words[logit1_idx][-N:]\n",
    "\n",
    "logit2_neg = words[logit2_idx][:N]\n",
    "logit2_pos = words[logit2_idx][-N:]\n",
    "\n",
    "forest_imp = words[forest_idx][-(2 * N):]\n",
    "\n",
    "# fine common words in both model\n",
    "pos_words = list(set(logit1_pos) & set(logit2_pos) & set(forest_imp))\n",
    "neg_words = list(set(logit1_neg) & set(logit2_neg) & set(forest_imp))"
   ]
  },
  {
   "cell_type": "code",
   "execution_count": 172,
   "metadata": {
    "collapsed": false
   },
   "outputs": [],
   "source": [
    "# define positive and negative words for eath model\n",
    "N = 200\n",
    "logit1_neg = words[logit1_idx][:N]\n",
    "logit1_pos = words[logit1_idx][-N:]\n",
    "\n",
    "logit2_neg = words[logit2_idx][:N]\n",
    "logit2_pos = words[logit2_idx][-N:]\n",
    "\n",
    "# fine common words in both model\n",
    "pos_words = list(set(logit1_pos) & set(logit2_pos))\n",
    "neg_words = list(set(logit1_neg) & set(logit2_neg))"
   ]
  },
  {
   "cell_type": "code",
   "execution_count": 173,
   "metadata": {
    "collapsed": false
   },
   "outputs": [
    {
     "name": "stdout",
     "output_type": "stream",
     "text": [
      "['realistic', 'bravo', 'enjoyable', 'victoria', 'solid', 'appreciated', 'wonderful', 'available', 'innocent', 'enjoy', 'surprised', 'elvira', 'loved', 'powerful', 'packed', 'steals', 'friendship', 'outstanding', 'apartment', 'daniel', 'tight', 'troubled', 'highly', 'worlds', 'erotic', 'love', 'definitely', 'fears', 'rare', 'underrated', 'discovers', 'cool', 'pleasantly', 'matthau', 'chilling', 'marvelous', 'jack', 'focuses', 'masterpiece', 'plenty', 'perfect', 'superb', 'timeless', 'especially', 'quiet', 'extraordinary', 'humour', 'tears', 'draws', 'unique', 'seen', 'vhs', 'simple', 'finest', 'subtle', 'classic', 'best', 'spring', 'bound', 'succeeds', 'superbly', 'believable', 'incredible', 'tony', 'release', 'marie', 'joan', 'fashioned', 'jackie', 'dirty', 'strong', 'knowing', 'noir', 'builds', 'scared', 'amazing', 'easy', 'ride', 'entertaining', 'world', 'touching', 'moving', 'liked', 'heart', 'bourne', 'today', 'soccer', 'disagree', 'eerie', 'wonderfully', 'good', 'favorite', 'sweet', 'themes', 'terrific', 'unlike', 'great', 'deeply', 'shines', 'beautifully', 'worth', 'court', 'sent', 'deal', 'freedom', 'spectacular', 'carrey', 'hooked', 'favorites', 'enjoyed', 'excellent', 'genius', 'recommended', 'lonely', 'vengeance', 'refreshing', 'sensitive', 'victor', 'driven', 'prince', 'gem', 'fantastic', 'surprisingly', 'satisfying', 'haunting', 'helps', 'true', 'fascinating', 'sidney', 'atmosphere', 'brilliant', 'smiling', 'subtitles', 'kitty', 'favourite', 'marty', 'greatest', 'shows', 'hilarious', 'delightful', 'beautiful', 'intense', 'provoking', 'captures', 'funniest', 'fun', 'suspenseful', 'works', 'mysteries', 'makes', 'beauty', 'dramas', 'ralph', 'brilliantly', 'job', 'todd', 'glad', 'nancy', 'covers', 'bit', 'flawless', 'perfectly', 'portrayal']\n",
      "['painful', 'lousy', 'embarrassment', 'wonder', 'failed', 'redeeming', 'tedious', 'wasted', 'slightest', 'reason', 'weak', 'lame', 'disappointed', 'tiresome', 'crappy', 'seconds', 'cheap', 'hoping', 'lacks', 'annoying', 'unbelievable', 'mess', 'mst', 'screaming', 'inept', 'cardboard', 'joke', 'insult', 'turkey', 'bored', 'mildly', 'harold', 'fest', 'grade', 'synopsis', 'mediocre', 'worst', 'disappointing', 'dreadful', 'stupidity', 'boring', 'walked', 'obnoxious', 'disgusting', 'junk', 'predictable', 'insulting', 'waste', 'horrible', 'ridiculous', 'mason', 'hype', 'honestly', 'stupid', 'unfunny', 'garbage', 'handed', 'pretentious', 'boredom', 'stinker', 'embarrassing', 'okay', 'blatant', 'awful', 'trite', 'dull', 'avoid', 'couldn', 'problem', 'barely', 'confusing', 'dysfunctional', 'yawn', 'appears', 'worse', 'depressing', 'regarding', 'premise', 'seagal', 'stinks', 'unfortunately', 'oh', 'just', 'uninteresting', 'badly', 'unwatchable', 'button', 'save', 'sorry', 'blah', 'villain', 'lack', 'pass', 'script', 'laughable', 'wooden', 'generous', 'ugly', 'paint', 'looked', 'boom', 'brain', 'downhill', 'stilted', 'nudity', 'rubbish', 'endless', 'terrible', 'baldwin', 'obvious', 'incoherent', 'devoid', 'effort', 'ruined', 'offensive', 'monkey', 'alright', 'propaganda', 'sadly', 'crap', 'paid', 'ludicrous', 'poorly', 'pathetic', 'disappointment', 'atrocious', 'tries', 'positive', 'miscast', 'idea', 'unless', 'basically', 'paper', 'forgettable', 'shelf', 'silly', 'bothered', 'minutes', 'uninspired', 'unintentional', 'desperately', 'bad', 'absurd', 'designed', 'credibility', 'guess', 'hollow', 'appalling', 'supposedly', 'bland', 'material', 'wasting', 'pointless', 'furthermore', 'fails', 'unconvincing', 'instead', 'remotely', 'poor', 'skip', 'attempt', 'supposed']\n",
      "163\n",
      "162\n"
     ]
    }
   ],
   "source": [
    "print(pos_words)\n",
    "print(neg_words)\n",
    "print(len(pos_words))\n",
    "print(len(neg_words))"
   ]
  },
  {
   "cell_type": "markdown",
   "metadata": {},
   "source": [
    "# Visualization"
   ]
  },
  {
   "cell_type": "code",
   "execution_count": 182,
   "metadata": {
    "collapsed": false
   },
   "outputs": [],
   "source": [
    "# read file\n",
    "text = pd.read_csv('./testData.tsv', delimiter='\\t', quoting=3)[:50]"
   ]
  },
  {
   "cell_type": "code",
   "execution_count": 183,
   "metadata": {
    "collapsed": true
   },
   "outputs": [],
   "source": [
    "# defind the head of the html file\n",
    "start_string = \"\"\"\n",
    "<!DOCTYPE html>\n",
    "<html>\n",
    "<head>\n",
    "<style>@import \"textstyle.css\"</style>\n",
    "</head>\n",
    "<body>\n",
    "<h1 align=\"middle\">Movie Review Visualization</h1> \n",
    "<h3 align=\"middle\"> STAT 542 Project 4 Part II, by Jifu Zhao & Jinsheng Wang </h2>\n",
    "<h2> 1. Top Positive and Negative Words</h2>\n",
    "<div>\n",
    "<img src=\"./top_words.png\" width=40%>\n",
    "<img src=\"./importance.png\" width=40%>\n",
    "</div>\n",
    "<p>\n",
    "&ensp;&ensp;&ensp;&ensp; The above figures are generated from Logistic Regression \n",
    "with Ridge Penalty and Random Forest model\n",
    "</p><br>\n",
    "<h2> 2. Detailed Text Analysis</h2>\n",
    "\"\"\""
   ]
  },
  {
   "cell_type": "code",
   "execution_count": 184,
   "metadata": {
    "collapsed": false
   },
   "outputs": [],
   "source": [
    "# process and write to html file\n",
    "with open('./sample_visualization.html', 'w') as f:\n",
    "    f.write(start_string)\n",
    "    f.write('<ul>\\n')\n",
    "    \n",
    "    for num in range(len(text)):\n",
    "        idx = text['id'][num][1:-1]\n",
    "#         sentiment = text['sentiment'][num]\n",
    "        \n",
    "        # split and replace the review words\n",
    "        tmp_text = text['review'][num][1:-1]\n",
    "        tmp_text = tmp_text.replace('\\\\', '')\n",
    "        tmp_text = BeautifulSoup(tmp_text, 'lxml').get_text()\n",
    "        # add space after comma that has no space\n",
    "        tmp_text = re.sub(r'([,]+)(?![ ])', r'\\1 ', tmp_text)\n",
    "        tmp_text = tmp_text.split(' ')\n",
    "        \n",
    "        # write the header part of each review\n",
    "        f.write('<hr>\\n&ensp;')\n",
    "        f.write('<strong> id: </strong> ' + str(idx) + ' &emsp; &emsp;\\n')\n",
    "#         f.write('<strong> sentiment: </strong>' + str(sentiment) + ' <br>\\n')\n",
    "        f.write('<hr>\\n')\n",
    "        \n",
    "        # find all the indexes for the positive and negative words\n",
    "        pos_idx = []\n",
    "        neg_idx = []\n",
    "        for word in pos_words:\n",
    "            # regular pattern match\n",
    "            regex = re.compile('.*(' + word + ').*', re.IGNORECASE)\n",
    "            regex = re.compile('\\\\b' + word + '.*', re.IGNORECASE)\n",
    "            pos_idx += [i for i in range(len(tmp_text)) if regex.search(tmp_text[i])]\n",
    "        \n",
    "        for word in neg_words:\n",
    "            # regular pattern match\n",
    "            regex = re.compile('.*(' + word + ').*', re.IGNORECASE)\n",
    "            regex = re.compile('\\\\b' + word + '.*', re.IGNORECASE)\n",
    "            neg_idx += [i for i in range(len(tmp_text)) if regex.search(tmp_text[i])]\n",
    "            \n",
    "        # replace all positive words with pre-defined html class\n",
    "        for i in pos_idx:\n",
    "            tmp_text[i] = '<span class=\"pos\">' + tmp_text[i] + '</span>'\n",
    "            \n",
    "        # replace all negative words with pre-defined html class\n",
    "        for i in neg_idx:\n",
    "            tmp_text[i] = '<span class=\"neg\">' + tmp_text[i] + '</span>'\n",
    "            \n",
    "        # write into html file\n",
    "        f.write(' '.join(tmp_text))  \n",
    "        f.write('\\n<br><br>\\n\\n')\n",
    "        \n",
    "    # end of the html file\n",
    "    f.write('</ul>\\n</body>\\n</html>\\n')"
   ]
  },
  {
   "cell_type": "code",
   "execution_count": null,
   "metadata": {
    "collapsed": true
   },
   "outputs": [],
   "source": []
  }
 ],
 "metadata": {
  "kernelspec": {
   "display_name": "Python [default]",
   "language": "python",
   "name": "python3"
  },
  "language_info": {
   "codemirror_mode": {
    "name": "ipython",
    "version": 3
   },
   "file_extension": ".py",
   "mimetype": "text/x-python",
   "name": "python",
   "nbconvert_exporter": "python",
   "pygments_lexer": "ipython3",
   "version": "3.5.3"
  }
 },
 "nbformat": 4,
 "nbformat_minor": 2
}
