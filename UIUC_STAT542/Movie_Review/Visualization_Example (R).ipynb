{
 "cells": [
  {
   "cell_type": "code",
   "execution_count": 1,
   "metadata": {
    "collapsed": true
   },
   "outputs": [],
   "source": [
    "#setwd(\"~/mydoc/Course/datamining/Rcode/\")\n",
    "myreview=read.delim(\"sample_movie_review.txt\", header=T,  stringsAsFactors=F)\n",
    "\n",
    "# remove HTML tags\n",
    "myreview[,3] = gsub(\"<.*?>\", \" \", myreview[,3])\n",
    "\n",
    "wordlist.neg=c(\"odd\", \"bad\", \"stupid\", \"shortcoming\")\n",
    "wordlist.pos=c(\"cool\", \"like\", \"talented\", \"great\", \"appreciate\")\n",
    "\n",
    "myfile = \"sentiment_output.html\"\n",
    "if (file.exists(myfile)) file.remove(myfile)\n",
    "n.review = dim(myreview)[1]\n",
    "\n",
    "## create html file\n",
    "write(paste(\"<html> \\n\", \n",
    "            \"<head> \\n\",  \n",
    "            \"<style> \\n\",\n",
    "            \"@import \\\"textstyle.css\\\"\", \n",
    "            \"</style>\", \n",
    "            \"</head> \\n <body>\\n\"), file=myfile, append=TRUE)\n",
    "write(\"<ul>\", file=myfile, append=TRUE)\n",
    "\n",
    "for(i in 1:n.review){\n",
    "  write(paste(\"<li><strong>\", myreview[i,1], \n",
    "              \"</strong> sentiment =\", myreview[i,2], \n",
    "              \"<br><br>\", sep=\" \"),\n",
    "        file=myfile, append=TRUE)\n",
    "  tmp = strsplit(myreview[i,3], \" \")[[1]]\n",
    "  tmp.copy = tmp\n",
    "  nwords = length(tmp)\n",
    "  \n",
    "  pos=NULL;\n",
    "  for(j in 1:length(wordlist.neg))\n",
    "    pos = c(pos, grep(wordlist.neg[j], tmp, ignore.case = TRUE))\n",
    "  if (length(pos)>0) {\n",
    "    for(j in 1:length(pos)){\n",
    "      tmp.copy[pos[j]] = paste(\"<span class=\\\"neg\\\">\", \n",
    "                                   tmp.copy[pos[j]], \"</span>\", sep=\"\")\n",
    "    }\n",
    "  }\n",
    "  \n",
    "  pos=NULL;\n",
    "  for(j in 1:length(wordlist.pos))\n",
    "    pos = c(pos, grep(wordlist.pos[j], tmp, ignore.case = TRUE))\n",
    "  if (length(pos)>0) {\n",
    "    for(j in 1:length(pos)){\n",
    "      tmp.copy[pos[j]] = paste(\"<span class=\\\"pos\\\">\", \n",
    "                               tmp.copy[pos[j]], \"</span>\", sep=\"\")\n",
    "    }\n",
    "  }\n",
    "  \n",
    "  write( paste(tmp.copy, collapse = \" \"), file=myfile, append=TRUE)\n",
    "  write(\"<br><br>\", file=myfile, append=TRUE)\n",
    "}\n",
    "\n",
    "write(\"</ul> \\n  </body> \\n </html>\", file=myfile, append=TRUE)"
   ]
  },
  {
   "cell_type": "code",
   "execution_count": null,
   "metadata": {
    "collapsed": true
   },
   "outputs": [],
   "source": []
  }
 ],
 "metadata": {
  "kernelspec": {
   "display_name": "R",
   "language": "R",
   "name": "ir"
  },
  "language_info": {
   "codemirror_mode": "r",
   "file_extension": ".r",
   "mimetype": "text/x-r-source",
   "name": "R",
   "pygments_lexer": "r",
   "version": "3.3.2"
  }
 },
 "nbformat": 4,
 "nbformat_minor": 2
}
