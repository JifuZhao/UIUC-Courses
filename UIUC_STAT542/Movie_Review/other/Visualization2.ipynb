{
 "cells": [
  {
   "cell_type": "code",
   "execution_count": 1,
   "metadata": {
    "collapsed": true
   },
   "outputs": [],
   "source": [
    "import pandas as pd\n",
    "from bs4 import BeautifulSoup\n",
    "import matplotlib.pyplot as plt\n",
    "import re\n",
    "\n",
    "%matplotlib inline"
   ]
  },
  {
   "cell_type": "code",
   "execution_count": 2,
   "metadata": {
    "collapsed": false
   },
   "outputs": [],
   "source": [
    "# read file\n",
    "text = pd.read_table('./sample_movie_review.txt', delimiter='\\t', quoting=3)"
   ]
  },
  {
   "cell_type": "code",
   "execution_count": 3,
   "metadata": {
    "collapsed": false
   },
   "outputs": [],
   "source": [
    "# defind the head of the html file\n",
    "start_string = \"\"\"\n",
    "<!DOCTYPE html>\n",
    "<html>\n",
    "<head>\n",
    "<style>@import \"textstyle.css\"</style>\n",
    "</head>\n",
    "<body>\n",
    "<h1 align=\"middle\">Movie Review Visualization</h1> \n",
    "<h2> 1. Top Positive and Negative Words</h2>\n",
    "<center><img src=\"./tmp.png\" width=50% align=\"middle\"></center>\n",
    "<h2> 2. Detailed Text Analysis</h2>\n",
    "\"\"\""
   ]
  },
  {
   "cell_type": "code",
   "execution_count": 4,
   "metadata": {
    "collapsed": true
   },
   "outputs": [],
   "source": [
    "# define positive and negative words\n",
    "positive = [\"cool\", \"like\", \"talented\", \"great\", \"appreciate\"]\n",
    "negative = [\"odd\", \"bad\", \"stupid\", \"shortcoming\"]"
   ]
  },
  {
   "cell_type": "code",
   "execution_count": 5,
   "metadata": {
    "collapsed": false
   },
   "outputs": [],
   "source": [
    "# process and write to html file\n",
    "with open('./sample_visualization.html', 'w') as f:\n",
    "    f.write(start_string)\n",
    "    f.write('<ul>\\n')\n",
    "    \n",
    "    for num in range(len(text)):\n",
    "        idx = text['id'][num][1:-1]\n",
    "        sentiment = text['sentiment'][num]\n",
    "        \n",
    "        # split and replace the review words\n",
    "        tmp_text = text['review'][num][1:-1]\n",
    "        tmp_text = tmp_text.replace('\\\\', '')\n",
    "        tmp_text = BeautifulSoup(tmp_text, 'lxml').get_text()\n",
    "        # add space after comma that has no space\n",
    "        tmp_text = re.sub(r'([,]+)(?![ ])', r'\\1 ', tmp_text)\n",
    "        tmp_text = tmp_text.split(' ')\n",
    "        \n",
    "        # write the header part of each review\n",
    "        f.write('<hr>\\n&ensp;')\n",
    "        f.write('<strong> id: </strong> ' + str(idx) + ' &emsp; &emsp;\\n')\n",
    "        f.write('<strong> sentiment: </strong>' + str(sentiment) + ' <br>\\n')\n",
    "        f.write('<hr>\\n')\n",
    "        \n",
    "        # find all the indexes for the positive and negative words\n",
    "        pos_idx = []\n",
    "        neg_idx = []\n",
    "        for word in positive:\n",
    "            # regular pattern match\n",
    "            regex = re.compile('.*(' + word + ').*', re.IGNORECASE)\n",
    "            pos_idx += [i for i in range(len(tmp_text)) if regex.search(tmp_text[i])]\n",
    "        \n",
    "        for word in negative:\n",
    "            # regular pattern match\n",
    "            regex = re.compile('.*(' + word + ').*', re.IGNORECASE)\n",
    "            neg_idx += [i for i in range(len(tmp_text)) if regex.search(tmp_text[i])]\n",
    "            \n",
    "        # replace all positive words with pre-defined html class\n",
    "        for i in pos_idx:\n",
    "            tmp_text[i] = '<span class=\"pos\">' + tmp_text[i] + '</span>'\n",
    "            \n",
    "        # replace all negative words with pre-defined html class\n",
    "        for i in neg_idx:\n",
    "            tmp_text[i] = '<span class=\"neg\">' + tmp_text[i] + '</span>'\n",
    "            \n",
    "        # write into html file\n",
    "        f.write(' '.join(tmp_text))  \n",
    "        f.write('\\n<br><br>\\n\\n')\n",
    "        \n",
    "    # end of the html file\n",
    "    f.write('</ul>\\n</body>\\n</html>\\n')"
   ]
  },
  {
   "cell_type": "code",
   "execution_count": null,
   "metadata": {
    "collapsed": true
   },
   "outputs": [],
   "source": []
  }
 ],
 "metadata": {
  "kernelspec": {
   "display_name": "Python [conda root]",
   "language": "python",
   "name": "conda-root-py"
  },
  "language_info": {
   "codemirror_mode": {
    "name": "ipython",
    "version": 3
   },
   "file_extension": ".py",
   "mimetype": "text/x-python",
   "name": "python",
   "nbconvert_exporter": "python",
   "pygments_lexer": "ipython3",
   "version": "3.5.3"
  }
 },
 "nbformat": 4,
 "nbformat_minor": 2
}
