{
 "cells": [
  {
   "cell_type": "markdown",
   "metadata": {},
   "source": [
    "Follow the tutorial material from Kaggle (use TF-IDF instead)"
   ]
  },
  {
   "cell_type": "code",
   "execution_count": 93,
   "metadata": {
    "collapsed": true
   },
   "outputs": [],
   "source": [
    "import warnings\n",
    "import re\n",
    "import numpy as np\n",
    "import pandas as pd\n",
    "import matplotlib.pyplot as plt\n",
    "\n",
    "from bs4 import BeautifulSoup\n",
    "from sklearn.metrics import roc_auc_score\n",
    "from sklearn.model_selection import cross_val_score\n",
    "from sklearn.model_selection import train_test_split\n",
    "\n",
    "from sklearn.feature_extraction.text import TfidfVectorizer\n",
    "from sklearn.linear_model import LogisticRegression\n",
    "from sklearn.linear_model import LogisticRegressionCV\n",
    "from sklearn.naive_bayes import MultinomialNB\n",
    "from sklearn.ensemble import RandomForestClassifier\n",
    "from sklearn.ensemble import AdaBoostClassifier\n",
    "from sklearn.ensemble import GradientBoostingClassifier\n",
    "\n",
    "warnings.filterwarnings(\"ignore\")\n",
    "%matplotlib inline"
   ]
  },
  {
   "cell_type": "markdown",
   "metadata": {},
   "source": [
    "# Read data"
   ]
  },
  {
   "cell_type": "code",
   "execution_count": 2,
   "metadata": {
    "collapsed": false
   },
   "outputs": [
    {
     "name": "stdout",
     "output_type": "stream",
     "text": [
      "Training set shape\t (25000, 3)\n",
      "Testing set shape\t (25000, 2)\n",
      "Positive vs. Negative:\t 12500 12500\n"
     ]
    }
   ],
   "source": [
    "train = pd.read_csv('./data/labeledTrainData.tsv', delimiter='\\t', quoting=3)\n",
    "test = pd.read_csv('./data/testData.tsv', delimiter='\\t', quoting=3)\n",
    "\n",
    "# get the number of training and test examples\n",
    "n_train = len(train)\n",
    "n_test = len(test)\n",
    "\n",
    "print('Training set shape\\t', train.shape)\n",
    "print('Testing set shape\\t', test.shape)\n",
    "print('Positive vs. Negative:\\t', len(train[train['sentiment'] == 1]),\\\n",
    "      len(train[train['sentiment'] != 1]))"
   ]
  },
  {
   "cell_type": "code",
   "execution_count": 3,
   "metadata": {
    "collapsed": false
   },
   "outputs": [
    {
     "data": {
      "text/html": [
       "<div>\n",
       "<table border=\"1\" class=\"dataframe\">\n",
       "  <thead>\n",
       "    <tr style=\"text-align: right;\">\n",
       "      <th></th>\n",
       "      <th>id</th>\n",
       "      <th>sentiment</th>\n",
       "      <th>review</th>\n",
       "    </tr>\n",
       "  </thead>\n",
       "  <tbody>\n",
       "    <tr>\n",
       "      <th>0</th>\n",
       "      <td>\"5814_8\"</td>\n",
       "      <td>1</td>\n",
       "      <td>\"With all this stuff going down at the moment ...</td>\n",
       "    </tr>\n",
       "    <tr>\n",
       "      <th>1</th>\n",
       "      <td>\"2381_9\"</td>\n",
       "      <td>1</td>\n",
       "      <td>\"\\\"The Classic War of the Worlds\\\" by Timothy ...</td>\n",
       "    </tr>\n",
       "    <tr>\n",
       "      <th>2</th>\n",
       "      <td>\"7759_3\"</td>\n",
       "      <td>0</td>\n",
       "      <td>\"The film starts with a manager (Nicholas Bell...</td>\n",
       "    </tr>\n",
       "    <tr>\n",
       "      <th>3</th>\n",
       "      <td>\"3630_4\"</td>\n",
       "      <td>0</td>\n",
       "      <td>\"It must be assumed that those who praised thi...</td>\n",
       "    </tr>\n",
       "    <tr>\n",
       "      <th>4</th>\n",
       "      <td>\"9495_8\"</td>\n",
       "      <td>1</td>\n",
       "      <td>\"Superbly trashy and wondrously unpretentious ...</td>\n",
       "    </tr>\n",
       "  </tbody>\n",
       "</table>\n",
       "</div>"
      ],
      "text/plain": [
       "         id  sentiment                                             review\n",
       "0  \"5814_8\"          1  \"With all this stuff going down at the moment ...\n",
       "1  \"2381_9\"          1  \"\\\"The Classic War of the Worlds\\\" by Timothy ...\n",
       "2  \"7759_3\"          0  \"The film starts with a manager (Nicholas Bell...\n",
       "3  \"3630_4\"          0  \"It must be assumed that those who praised thi...\n",
       "4  \"9495_8\"          1  \"Superbly trashy and wondrously unpretentious ..."
      ]
     },
     "execution_count": 3,
     "metadata": {},
     "output_type": "execute_result"
    }
   ],
   "source": [
    "train.head()"
   ]
  },
  {
   "cell_type": "markdown",
   "metadata": {},
   "source": [
    "# Data Cleaning and Processing"
   ]
  },
  {
   "cell_type": "code",
   "execution_count": 4,
   "metadata": {
    "collapsed": false
   },
   "outputs": [],
   "source": [
    "def review2words(review):\n",
    "    \"\"\" function to convert input review into string of words \"\"\"\n",
    "    # Remove HTML\n",
    "    review_text = BeautifulSoup(review, 'lxml').get_text() \n",
    "\n",
    "    # Remove non-letters        \n",
    "    letters_only = re.sub(\"[^a-zA-Z]\", \" \", review_text) \n",
    "\n",
    "    # Convert to lower case, split into individual words\n",
    "    words = letters_only.lower().split()                             \n",
    "\n",
    "    # Join the words and return the result.\n",
    "    return \" \".join(words)"
   ]
  },
  {
   "cell_type": "code",
   "execution_count": 5,
   "metadata": {
    "collapsed": false
   },
   "outputs": [],
   "source": [
    "# get train label\n",
    "train_y = train['sentiment'].values\n",
    "\n",
    "# transform reviews into words list\n",
    "train_review = list(map(review2words, train['review']))\n",
    "test_review = list(map(review2words, test['review']))\n",
    "\n",
    "# combine train and test reviews\n",
    "all_review = train_review + test_review"
   ]
  },
  {
   "cell_type": "code",
   "execution_count": 6,
   "metadata": {
    "collapsed": false
   },
   "outputs": [],
   "source": [
    "# perform TF-IDF transformation\n",
    "vectorizer = TfidfVectorizer(min_df=3, analyzer=\"word\", strip_accents='unicode', \n",
    "                             sublinear_tf=True, stop_words='english', \n",
    "                             max_features=5000, ngram_range=(1, 2)) \n",
    "\n",
    "# fit and transform the data\n",
    "all_features = vectorizer.fit_transform(all_review)\n",
    "\n",
    "# trainsform into array\n",
    "train_features = all_features[:n_train, :].toarray()\n",
    "test_features = all_features[n_train:, :].toarray()"
   ]
  },
  {
   "cell_type": "markdown",
   "metadata": {},
   "source": [
    "# Logistic Regression with Ridge Penalty"
   ]
  },
  {
   "cell_type": "code",
   "execution_count": 32,
   "metadata": {
    "collapsed": false
   },
   "outputs": [
    {
     "data": {
      "text/plain": [
       "array([ 2.7825594])"
      ]
     },
     "execution_count": 32,
     "metadata": {},
     "output_type": "execute_result"
    }
   ],
   "source": [
    "# cross validation\n",
    "logit2CV = LogisticRegressionCV(Cs=10, cv=5, penalty='l2', scoring='roc_auc', \n",
    "                                solver='liblinear', tol=0.0001, max_iter=100, \n",
    "                                n_jobs=-1, refit=True,  random_state=2017)\n",
    "logit2CV = logit2CV.fit(train_features, train_y)\n",
    "logit2CV.C_"
   ]
  },
  {
   "cell_type": "code",
   "execution_count": 33,
   "metadata": {
    "collapsed": true
   },
   "outputs": [],
   "source": [
    "# fit the Logistic model\n",
    "logit2 = LogisticRegression(penalty='l2', tol=0.0001, C=2.7825549, random_state=2017, \n",
    "                            solver='liblinear', n_jobs=-1, verbose=0)\n",
    "logit2 = logit2.fit(train_features, train_y)"
   ]
  },
  {
   "cell_type": "code",
   "execution_count": 34,
   "metadata": {
    "collapsed": false
   },
   "outputs": [
    {
     "name": "stdout",
     "output_type": "stream",
     "text": [
      "Training AUC\t 0.9809314304\n"
     ]
    }
   ],
   "source": [
    "# make predictions\n",
    "train_pred = logit2.predict_proba(train_features)[:, 1]\n",
    "test_pred = logit2.predict_proba(test_features)[:, 1]\n",
    "\n",
    "# save prediction into local files\n",
    "output = pd.DataFrame(data={\"id\": test[\"id\"], \"sentiment\": test_pred})\n",
    "output.to_csv(\"./result/logit_ridge.csv\", index=False, quoting=3)\n",
    "\n",
    "# get the AUC score\n",
    "print('Training AUC\\t', roc_auc_score(train_y, train_pred))"
   ]
  },
  {
   "cell_type": "code",
   "execution_count": 54,
   "metadata": {
    "collapsed": false
   },
   "outputs": [
    {
     "name": "stdout",
     "output_type": "stream",
     "text": [
      "Most negative words:\n",
      " ['worst', 'awful', 'waste', 'bad', 'boring', 'disappointment', 'poorly', 'dull', 'poor', 'worse']\n",
      "Most positive words:\n",
      " ['rare', 'today', 'enjoyable', 'amazing', 'favorite', 'best', 'wonderful', 'perfect', 'great', 'excellent']\n"
     ]
    }
   ],
   "source": [
    "# find all the words used\n",
    "words = vectorizer.get_feature_names()\n",
    "logit2coef = logit2.coef_[0, :]\n",
    "\n",
    "# sort to get the most positive and negative words\n",
    "tmp = list(zip(logit2coef, words))\n",
    "tmp.sort(reverse=False)\n",
    "words_sorted = [word for (_, word) in tmp]\n",
    "\n",
    "# choose the most positive and most negative words\n",
    "print('Most negative words:\\n', words_sorted[:10])\n",
    "print('Most positive words:\\n', words_sorted[-10:])"
   ]
  },
  {
   "cell_type": "code",
   "execution_count": 270,
   "metadata": {
    "collapsed": false
   },
   "outputs": [
    {
     "data": {
      "image/png": "[encoded data removed]",
      "text/plain": [
       "<matplotlib.figure.Figure at 0x11b13b390>"
      ]
     },
     "metadata": {},
     "output_type": "display_data"
    }
   ],
   "source": [
    "# find all the words used\n",
    "words = np.array(vectorizer.get_feature_names())\n",
    "logit2coef = logit2.coef_[0, :]\n",
    "\n",
    "# make importances relative to max importance\n",
    "sorted_idx = np.argsort(logit2coef, kind='mergesort')\n",
    "pos = np.arange(len(sorted_idx)) + 0.5\n",
    "\n",
    "# plot the relative importance\n",
    "N = 10\n",
    "idx = np.concatenate((sorted_idx[:N], sorted_idx[-N:]))\n",
    "\n",
    "fig, ax = plt.subplots(figsize=(5, 10))\n",
    "ax.barh(pos[:2 * N], logit2coef[idx], align='center')\n",
    "plt.yticks(pos[: 2 * N], words[idx], fontsize=12)\n",
    "ax.set_xlabel('Coefficient', fontsize=12)\n",
    "ax.set_title('Top {0} Positive and Negative Words'.format(2 * N), fontsize=14)\n",
    "plt.show()"
   ]
  },
  {
   "cell_type": "code",
   "execution_count": null,
   "metadata": {
    "collapsed": true
   },
   "outputs": [],
   "source": []
  },
  {
   "cell_type": "markdown",
   "metadata": {},
   "source": [
    "# Logistic Regression with Lasso Penalty"
   ]
  },
  {
   "cell_type": "code",
   "execution_count": 55,
   "metadata": {
    "collapsed": false
   },
   "outputs": [
    {
     "data": {
      "text/plain": [
       "array([ 2.7825594])"
      ]
     },
     "execution_count": 55,
     "metadata": {},
     "output_type": "execute_result"
    }
   ],
   "source": [
    "# cross validation\n",
    "logit1CV = LogisticRegressionCV(Cs=10, cv=5, penalty='l1', scoring='roc_auc', \n",
    "                                solver='liblinear', tol=0.0001, max_iter=100, \n",
    "                                n_jobs=-1, refit=True,  random_state=2017)\n",
    "logit1CV = logit1CV.fit(train_features, train_y)\n",
    "logit1CV.C_"
   ]
  },
  {
   "cell_type": "code",
   "execution_count": 56,
   "metadata": {
    "collapsed": true
   },
   "outputs": [],
   "source": [
    "# fit the Logistic model\n",
    "logit1 = LogisticRegression(penalty='l1', tol=0.0001, C=2.7825549, random_state=2017, \n",
    "                            solver='liblinear', n_jobs=-1, verbose=0)\n",
    "logit1 = logit1.fit(train_features, train_y)"
   ]
  },
  {
   "cell_type": "code",
   "execution_count": 57,
   "metadata": {
    "collapsed": false
   },
   "outputs": [
    {
     "name": "stdout",
     "output_type": "stream",
     "text": [
      "Training AUC\t 0.9823521664\n"
     ]
    }
   ],
   "source": [
    "# make predictions\n",
    "train_pred = logit1.predict_proba(train_features)[:, 1]\n",
    "test_pred = logit1.predict_proba(test_features)[:, 1]\n",
    "\n",
    "# save prediction into local files\n",
    "output = pd.DataFrame(data={\"id\": test[\"id\"], \"sentiment\": test_pred})\n",
    "output.to_csv(\"./result/logit_lasso.csv\", index=False, quoting=3)\n",
    "\n",
    "# get the AUC score\n",
    "print('Training AUC\\t', roc_auc_score(train_y, train_pred))"
   ]
  },
  {
   "cell_type": "code",
   "execution_count": 267,
   "metadata": {
    "collapsed": false
   },
   "outputs": [
    {
     "name": "stdout",
     "output_type": "stream",
     "text": [
      "Most negative words:\n",
      " ['worst', 'waste', 'awful', 'poorly', 'disappointment', 'pointless', 'lacks', 'boring', 'forgettable', 'obnoxious']\n",
      "Most positive words:\n",
      " ['wonderful', 'enjoyable', 'great job', 'captures', 'rare', 'vengeance', 'perfect', 'wonderfully', 'excellent', 'refreshing']\n"
     ]
    }
   ],
   "source": [
    "# find all the words used\n",
    "words = vectorizer.get_feature_names()\n",
    "logit1coef = logit1.coef_[0, :]\n",
    "\n",
    "# sort to get the most positive and negative words\n",
    "tmp = list(zip(logit1coef, words))\n",
    "tmp.sort(reverse=False)\n",
    "words_sorted = [word for (_, word) in tmp]\n",
    "\n",
    "# choose the most positive and most negative words\n",
    "print('Most negative words:\\n', words_sorted[:10])\n",
    "print('Most positive words:\\n', words_sorted[-10:])"
   ]
  },
  {
   "cell_type": "code",
   "execution_count": 273,
   "metadata": {
    "collapsed": false
   },
   "outputs": [
    {
     "data": {
      "image/png": "[encoded data removed]",
      "text/plain": [
       "<matplotlib.figure.Figure at 0x1292fa748>"
      ]
     },
     "metadata": {},
     "output_type": "display_data"
    }
   ],
   "source": [
    "# find all the words used\n",
    "words = np.array(vectorizer.get_feature_names())\n",
    "logit1coef = logit1.coef_[0, :]\n",
    "\n",
    "# make importances relative to max importance\n",
    "sorted_idx = np.argsort(logit1coef, kind='mergesort')\n",
    "pos = np.arange(len(sorted_idx)) + 0.5\n",
    "\n",
    "# plot the relative importance\n",
    "N = 10\n",
    "idx = np.concatenate((sorted_idx[:N], sorted_idx[-N:]))\n",
    "\n",
    "fig, ax = plt.subplots(figsize=(5, 10))\n",
    "ax.barh(pos[:2 * N], logit1coef[idx], align='center')\n",
    "plt.yticks(pos[: 2 * N], words[idx], fontsize=12)\n",
    "ax.set_xlabel('Coefficient', fontsize=12)\n",
    "ax.set_title('Top {0} Positive and Negative Words'.format(2 * N), fontsize=14)\n",
    "plt.show()"
   ]
  },
  {
   "cell_type": "code",
   "execution_count": null,
   "metadata": {
    "collapsed": true
   },
   "outputs": [],
   "source": []
  },
  {
   "cell_type": "markdown",
   "metadata": {},
   "source": [
    "# Random Forest Model"
   ]
  },
  {
   "cell_type": "code",
   "execution_count": null,
   "metadata": {
    "collapsed": true
   },
   "outputs": [],
   "source": [
    "# exploratory study to determine the best number of estimators\n",
    "n_estimators = 500\n",
    "forest = RandomForestClassifier(warm_start=True, oob_score=True, random_state=2017, \n",
    "                                n_jobs=-1, max_features='auto')\n",
    "\n",
    "oob = []\n",
    "for i in range(1, n_estimators + 1):\n",
    "    forest.set_params(n_estimators=i)\n",
    "    forest.fit(train_features, train_y)\n",
    "    oob.append(forest.oob_score_)\n",
    "\n",
    "# plot the curve of OOB error rate\n",
    "fig, ax = plt.subplots(figsize=(8, 5))\n",
    "ax.plot(range(1, len(oob) + 1), 1 - np.array(oob), '-')\n",
    "ax.set_xlabel('N_estimator', fontsize=12)\n",
    "ax.set_ylabel('OOB Error Rate', fontsize=12)\n",
    "ax.set_title('OOB Error Rate vs. # Estimators')\n",
    "plt.show()"
   ]
  },
  {
   "cell_type": "code",
   "execution_count": 8,
   "metadata": {
    "collapsed": false
   },
   "outputs": [
    {
     "data": {
      "text/plain": [
       "RandomForestClassifier(bootstrap=True, class_weight=None, criterion='gini',\n",
       "            max_depth=None, max_features='auto', max_leaf_nodes=None,\n",
       "            min_impurity_split=1e-07, min_samples_leaf=1,\n",
       "            min_samples_split=2, min_weight_fraction_leaf=0.0,\n",
       "            n_estimators=500, n_jobs=-1, oob_score=True, random_state=2017,\n",
       "            verbose=0, warm_start=False)"
      ]
     },
     "execution_count": 8,
     "metadata": {},
     "output_type": "execute_result"
    }
   ],
   "source": [
    "# Initialize a Random Forest classifier\n",
    "forest = RandomForestClassifier(n_estimators=500, n_jobs=-1, random_state=2017, \n",
    "                                oob_score=True, max_features='auto') \n",
    "\n",
    "# Fit the forest to the training set\n",
    "forest = forest.fit(train_features, train_y)"
   ]
  },
  {
   "cell_type": "code",
   "execution_count": 12,
   "metadata": {
    "collapsed": false
   },
   "outputs": [
    {
     "name": "stdout",
     "output_type": "stream",
     "text": [
      "AUC\t 1.0\n"
     ]
    }
   ],
   "source": [
    "# make predictions\n",
    "train_pred = forest.predict_proba(train_features)[:, 1]\n",
    "test_pred = forest.predict_proba(test_features)[:, 1]\n",
    "\n",
    "# save prediction into local files\n",
    "output = pd.DataFrame(data={\"id\": test[\"id\"], \"sentiment\": test_pred})\n",
    "output.to_csv(\"./result/random_forest.csv\", index=False, quoting=3)\n",
    "\n",
    "# get the AUC score\n",
    "print('Training AUC\\t', roc_auc_score(train_y, train_pred))"
   ]
  },
  {
   "cell_type": "code",
   "execution_count": 244,
   "metadata": {
    "collapsed": false
   },
   "outputs": [
    {
     "data": {
      "image/png": "[encoded data removed]",
      "text/plain": [
       "<matplotlib.figure.Figure at 0x110268a90>"
      ]
     },
     "metadata": {},
     "output_type": "display_data"
    }
   ],
   "source": [
    "# find all the words used\n",
    "words = np.array(vectorizer.get_feature_names())\n",
    "importance = forest.feature_importances_\n",
    "\n",
    "# make importances relative to max importance\n",
    "importance = importance / importance.max()\n",
    "sorted_idx = np.argsort(importance, kind='mergesort')\n",
    "pos = np.arange(len(sorted_idx)) + 0.5\n",
    "\n",
    "# plot the relative importance\n",
    "N = 20\n",
    "fig, ax = plt.subplots(figsize=(5, 10))\n",
    "ax.barh(pos[:N], importance[sorted_idx[-N:]], align='center')\n",
    "plt.yticks(pos[:N], words[sorted_idx[-N:]], fontsize=12)\n",
    "ax.set_xlabel('Relative Importance', fontsize=12)\n",
    "ax.set_title('Variable Importance', fontsize=16)\n",
    "plt.show()"
   ]
  },
  {
   "cell_type": "code",
   "execution_count": null,
   "metadata": {
    "collapsed": true
   },
   "outputs": [],
   "source": []
  },
  {
   "cell_type": "markdown",
   "metadata": {
    "collapsed": true
   },
   "source": [
    "# Multinomial Naive Bayes Model"
   ]
  },
  {
   "cell_type": "code",
   "execution_count": 64,
   "metadata": {
    "collapsed": false
   },
   "outputs": [
    {
     "name": "stdout",
     "output_type": "stream",
     "text": [
      "0.001 \t 0.931473696\n",
      "0.01 \t 0.931494912\n",
      "0.1 \t 0.931573056\n",
      "1 \t 0.931981504\n",
      "10 \t 0.932166496\n",
      "100 \t 0.925847584\n",
      "1000 \t 0.91632352\n"
     ]
    }
   ],
   "source": [
    "# do cross validation\n",
    "for alpha in [0.01, 0.1, 0.5, 1.0, 2.0, 5.0, 10.0]:\n",
    "    nb_cv = MultinomialNB(alpha=alpha, fit_prior=True, class_prior=None)\n",
    "    scores = cross_validation.cross_val_score(nb_cv, train_features, train_y, \n",
    "                                              cv=5, scoring='roc_auc')\n",
    "    print(alpha, '\\t', np.mean(scores))"
   ]
  },
  {
   "cell_type": "code",
   "execution_count": 72,
   "metadata": {
    "collapsed": true
   },
   "outputs": [],
   "source": [
    "# build the NB model\n",
    "nb = MultinomialNB(alpha=10.0, fit_prior=True, class_prior=None)\n",
    "nb = nb.fit(train_features, train_y)"
   ]
  },
  {
   "cell_type": "code",
   "execution_count": 73,
   "metadata": {
    "collapsed": false
   },
   "outputs": [
    {
     "name": "stdout",
     "output_type": "stream",
     "text": [
      "Training AUC\t 0.9412575488\n"
     ]
    }
   ],
   "source": [
    "# make predictions\n",
    "train_pred = nb.predict_proba(train_features)[:, 1]\n",
    "test_pred = nb.predict_proba(test_features)[:, 1]\n",
    "\n",
    "# save prediction into local files\n",
    "output = pd.DataFrame(data={\"id\": test[\"id\"], \"sentiment\": test_pred})\n",
    "output.to_csv(\"./result/naive_bayes.csv\", index=False, quoting=3)\n",
    "\n",
    "# get the AUC score\n",
    "print('Training AUC\\t', roc_auc_score(train_y, train_pred))"
   ]
  },
  {
   "cell_type": "code",
   "execution_count": null,
   "metadata": {
    "collapsed": false
   },
   "outputs": [],
   "source": []
  },
  {
   "cell_type": "markdown",
   "metadata": {},
   "source": [
    "# Split into sub_train and sub_test for cross validation"
   ]
  },
  {
   "cell_type": "code",
   "execution_count": 112,
   "metadata": {
    "collapsed": false
   },
   "outputs": [],
   "source": [
    "# split into 75% training and 25% testing\n",
    "x_train, x_test, y_train, y_test = train_test_split(train_features, train_y, \n",
    "                                                    test_size=0.25, random_state=2017)"
   ]
  },
  {
   "cell_type": "markdown",
   "metadata": {},
   "source": [
    "# AdaBoost"
   ]
  },
  {
   "cell_type": "code",
   "execution_count": null,
   "metadata": {
    "collapsed": true
   },
   "outputs": [],
   "source": [
    "# build the AdaBoost classifier for cross validation\n",
    "n_estimators = 500\n",
    "adaboost_cv = AdaBoostClassifier(n_estimators=n_estimators, learning_rate=1.0, \n",
    "                                 algorithm='SAMME.R', random_state=2017)\n",
    "adaboost_cv = adaboost_cv.fit(x_train, y_train)"
   ]
  },
  {
   "cell_type": "code",
   "execution_count": null,
   "metadata": {
    "collapsed": true
   },
   "outputs": [],
   "source": [
    "# calculate the change of training and test AUC\n",
    "auc_train = np.zeros(n_estimators)\n",
    "auc_test = np.zeros(n_estimators)\n",
    "\n",
    "# training AUC\n",
    "for i, y_pred in enumerate(adaboost_cv.staged_predict_proba(x_train)):\n",
    "    auc_train[i] = roc_auc_score(y_train, y_pred[:, 1])\n",
    "    \n",
    "# test AUC\n",
    "for i, y_pred in enumerate(adaboost_cv.staged_predict_proba(x_test)):\n",
    "    auc_test[i] = roc_auc_score(y_test, y_pred[:, 1])"
   ]
  },
  {
   "cell_type": "code",
   "execution_count": null,
   "metadata": {
    "collapsed": true
   },
   "outputs": [],
   "source": [
    "# plot of training and test AUC\n",
    "fig, ax = plt.subplots(figsize=(10, 6))\n",
    "ax.plot(range(1, n_estimators + 1), auc_train, 'g', label='Train AUC')\n",
    "ax.plot(range(1, n_estimators + 1), auc_test, 'r', label='Test AUC')\n",
    "ax.set_title('Train and Test AUC', fontsize=16)\n",
    "ax.set_xlabel('Number of Estimators', fontsize=12)\n",
    "ax.set_ylabel('AUC', fontsize=12)\n",
    "ax.legend(fontsize=12)\n",
    "plt.show()"
   ]
  },
  {
   "cell_type": "code",
   "execution_count": 78,
   "metadata": {
    "collapsed": true
   },
   "outputs": [],
   "source": [
    "# build the AdaBoost classifier\n",
    "adaboost = AdaBoostClassifier(n_estimators=500, learning_rate=1.0, \n",
    "                              algorithm='SAMME.R', random_state=2017)\n",
    "adaboost = adaboost.fit(train_features, train_y)"
   ]
  },
  {
   "cell_type": "code",
   "execution_count": 83,
   "metadata": {
    "collapsed": false
   },
   "outputs": [
    {
     "name": "stdout",
     "output_type": "stream",
     "text": [
      "Training AUC\t 0.9679896128\n"
     ]
    }
   ],
   "source": [
    "# make predictions\n",
    "train_pred = adaboost.predict_proba(train_features)[:, 1]\n",
    "test_pred = adaboost.predict_proba(test_features)[:, 1]\n",
    "\n",
    "# save prediction into local files\n",
    "output = pd.DataFrame(data={\"id\": test[\"id\"], \"sentiment\": test_pred})\n",
    "output.to_csv(\"./result/adaboost.csv\", index=False, quoting=3)\n",
    "\n",
    "# get the AUC score\n",
    "print('Training AUC\\t', roc_auc_score(train_y, train_pred))"
   ]
  },
  {
   "cell_type": "code",
   "execution_count": 242,
   "metadata": {
    "collapsed": false
   },
   "outputs": [
    {
     "data": {
      "image/png": "[encoded data removed]",
      "text/plain": [
       "<matplotlib.figure.Figure at 0x1112816a0>"
      ]
     },
     "metadata": {},
     "output_type": "display_data"
    }
   ],
   "source": [
    "# find all the words used\n",
    "words = np.array(vectorizer.get_feature_names())\n",
    "importance = adaboost.feature_importances_\n",
    "\n",
    "# make importances relative to max importance\n",
    "importance = importance / importance.max()\n",
    "sorted_idx = np.argsort(importance, kind='mergesort')\n",
    "pos = np.arange(len(sorted_idx)) + 0.5\n",
    "\n",
    "# plot the relative importance\n",
    "N = 20\n",
    "fig, ax = plt.subplots(figsize=(5, 10))\n",
    "ax.barh(pos[:N], importance[sorted_idx[-N:]], align='center')\n",
    "plt.yticks(pos[:N], words[sorted_idx[-N:]], fontsize=12)\n",
    "ax.set_xlabel('Relative Importance', fontsize=12)\n",
    "ax.set_title('Variable Importance', fontsize=16)\n",
    "plt.show()"
   ]
  },
  {
   "cell_type": "code",
   "execution_count": null,
   "metadata": {
    "collapsed": false
   },
   "outputs": [],
   "source": []
  },
  {
   "cell_type": "markdown",
   "metadata": {},
   "source": [
    "# Gradient Boosting "
   ]
  },
  {
   "cell_type": "code",
   "execution_count": 120,
   "metadata": {
    "collapsed": false
   },
   "outputs": [
    {
     "data": {
      "text/plain": [
       "GradientBoostingClassifier(criterion='friedman_mse', init=None,\n",
       "              learning_rate=0.1, loss='deviance', max_depth=3,\n",
       "              max_features='auto', max_leaf_nodes=None,\n",
       "              min_impurity_split=1e-07, min_samples_leaf=1,\n",
       "              min_samples_split=2, min_weight_fraction_leaf=0.0,\n",
       "              n_estimators=500, presort='auto', random_state=2017,\n",
       "              subsample=1.0, verbose=0, warm_start=False)"
      ]
     },
     "execution_count": 120,
     "metadata": {},
     "output_type": "execute_result"
    }
   ],
   "source": [
    "# build the Gradient Boosting classifier for cross validation\n",
    "n_estimators = 500\n",
    "gbm_cv = GradientBoostingClassifier(learning_rate=0.1, n_estimators=n_estimators, subsample=1.0,\n",
    "                                    max_features='auto', min_samples_split=2, random_state=2017, \n",
    "                                    min_samples_leaf=1, min_weight_fraction_leaf=0.0, max_depth=3)\n",
    "gbm_cv = gbm_cv.fit(x_train, y_train)"
   ]
  },
  {
   "cell_type": "code",
   "execution_count": 121,
   "metadata": {
    "collapsed": true
   },
   "outputs": [],
   "source": [
    "# calculate the change of training and test AUC\n",
    "auc_train = np.zeros(n_estimators)\n",
    "auc_test = np.zeros(n_estimators)\n",
    "\n",
    "# training AUC\n",
    "for i, y_pred in enumerate(gbm_cv.staged_predict_proba(x_train)):\n",
    "    auc_train[i] = roc_auc_score(y_train, y_pred[:, 1])\n",
    "    \n",
    "# test AUC\n",
    "for i, y_pred in enumerate(gbm_cv.staged_predict_proba(x_test)):\n",
    "    auc_test[i] = roc_auc_score(y_test, y_pred[:, 1])"
   ]
  },
  {
   "cell_type": "code",
   "execution_count": 122,
   "metadata": {
    "collapsed": false
   },
   "outputs": [
    {
     "data": {
      "image/png": "[encoded data removed]",
      "text/plain": [
       "<matplotlib.figure.Figure at 0x11f3d0c18>"
      ]
     },
     "metadata": {},
     "output_type": "display_data"
    }
   ],
   "source": [
    "# plot of training and test AUC\n",
    "fig, ax = plt.subplots(figsize=(10, 6))\n",
    "ax.plot(range(1, n_estimators + 1), auc_train, 'g', label='Train AUC')\n",
    "ax.plot(range(1, n_estimators + 1), auc_test, 'r', label='Test AUC')\n",
    "ax.set_title('Train and Test AUC', fontsize=16)\n",
    "ax.set_xlabel('Number of Estimators', fontsize=12)\n",
    "ax.set_ylabel('AUC', fontsize=12)\n",
    "ax.legend(fontsize=12)\n",
    "plt.show()"
   ]
  },
  {
   "cell_type": "code",
   "execution_count": null,
   "metadata": {
    "collapsed": true
   },
   "outputs": [],
   "source": [
    "# build the Gradient Boosting classifier\n",
    "gbm = GradientBoostingClassifier(learning_rate=0.1, n_estimators=500, subsample=1.0,\n",
    "                                 max_features='auto', min_samples_split=2, random_state=2017, \n",
    "                                 min_samples_leaf=1, min_weight_fraction_leaf=0.0, max_depth=3)\n",
    "gbm = gbm.fit(train_features, train_y)"
   ]
  },
  {
   "cell_type": "code",
   "execution_count": 124,
   "metadata": {
    "collapsed": false
   },
   "outputs": [
    {
     "name": "stdout",
     "output_type": "stream",
     "text": [
      "Training AUC\t 0.9682009152\n"
     ]
    }
   ],
   "source": [
    "# make predictions\n",
    "train_pred = gbm.predict_proba(train_features)[:, 1]\n",
    "test_pred = gbm.predict_proba(test_features)[:, 1]\n",
    "\n",
    "# save prediction into local files\n",
    "output = pd.DataFrame(data={\"id\": test[\"id\"], \"sentiment\": test_pred})\n",
    "output.to_csv(\"./result/gbm.csv\", index=False, quoting=3)\n",
    "\n",
    "# get the AUC score\n",
    "print('Training AUC\\t', roc_auc_score(train_y, train_pred))"
   ]
  },
  {
   "cell_type": "code",
   "execution_count": 245,
   "metadata": {
    "collapsed": false
   },
   "outputs": [
    {
     "data": {
      "image/png": "[encoded data removed]",
      "text/plain": [
       "<matplotlib.figure.Figure at 0x1273fefd0>"
      ]
     },
     "metadata": {},
     "output_type": "display_data"
    }
   ],
   "source": [
    "# find all the words used\n",
    "words = np.array(vectorizer.get_feature_names())\n",
    "importance = gbm.feature_importances_\n",
    "\n",
    "# make importances relative to max importance\n",
    "importance = importance / importance.max()\n",
    "sorted_idx = np.argsort(importance, kind='mergesort')\n",
    "pos = np.arange(len(sorted_idx)) + 0.5\n",
    "\n",
    "# plot the relative importance\n",
    "N = 20\n",
    "fig, ax = plt.subplots(figsize=(5, 10))\n",
    "ax.barh(pos[:N], importance[sorted_idx[-N:]], align='center')\n",
    "plt.yticks(pos[:N], words[sorted_idx[-N:]], fontsize=12)\n",
    "ax.set_xlabel('Relative Importance', fontsize=12)\n",
    "ax.set_title('Variable Importance', fontsize=16)\n",
    "plt.show()"
   ]
  },
  {
   "cell_type": "code",
   "execution_count": null,
   "metadata": {
    "collapsed": true
   },
   "outputs": [],
   "source": []
  },
  {
   "cell_type": "markdown",
   "metadata": {},
   "source": [
    "# XGBoost"
   ]
  },
  {
   "cell_type": "code",
   "execution_count": null,
   "metadata": {
    "collapsed": true
   },
   "outputs": [],
   "source": []
  },
  {
   "cell_type": "code",
   "execution_count": null,
   "metadata": {
    "collapsed": true
   },
   "outputs": [],
   "source": []
  },
  {
   "cell_type": "code",
   "execution_count": null,
   "metadata": {
    "collapsed": true
   },
   "outputs": [],
   "source": []
  },
  {
   "cell_type": "code",
   "execution_count": null,
   "metadata": {
    "collapsed": true
   },
   "outputs": [],
   "source": []
  }
 ],
 "metadata": {
  "kernelspec": {
   "display_name": "Python [default]",
   "language": "python",
   "name": "python3"
  },
  "language_info": {
   "codemirror_mode": {
    "name": "ipython",
    "version": 3
   },
   "file_extension": ".py",
   "mimetype": "text/x-python",
   "name": "python",
   "nbconvert_exporter": "python",
   "pygments_lexer": "ipython3",
   "version": "3.5.3"
  }
 },
 "nbformat": 4,
 "nbformat_minor": 2
}
