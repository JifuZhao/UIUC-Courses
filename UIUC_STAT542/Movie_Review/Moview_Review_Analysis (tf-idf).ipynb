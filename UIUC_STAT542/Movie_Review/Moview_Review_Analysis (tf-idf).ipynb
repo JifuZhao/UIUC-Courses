{
 "cells": [
  {
   "cell_type": "markdown",
   "metadata": {},
   "source": [
    "Follow the tutorial material from Kaggle"
   ]
  },
  {
   "cell_type": "code",
   "execution_count": 1,
   "metadata": {
    "collapsed": true
   },
   "outputs": [],
   "source": [
    "import numpy as np\n",
    "import pandas as pd\n",
    "import re\n",
    "from bs4 import BeautifulSoup\n",
    "from sklearn.feature_extraction.text import TfidfVectorizer\n",
    "from sklearn.ensemble import RandomForestClassifier\n",
    "from sklearn.metrics import roc_auc_score\n",
    "from sklearn.metrics import roc_curve\n",
    "import matplotlib.pyplot as plt\n",
    "import warnings\n",
    "\n",
    "warnings.filterwarnings(\"ignore\")\n",
    "%matplotlib inline"
   ]
  },
  {
   "cell_type": "markdown",
   "metadata": {},
   "source": [
    "# Read data"
   ]
  },
  {
   "cell_type": "code",
   "execution_count": 2,
   "metadata": {
    "collapsed": false
   },
   "outputs": [
    {
     "name": "stdout",
     "output_type": "stream",
     "text": [
      "Training set shape\t (25000, 3)\n",
      "Testing set shape\t (25000, 2)\n",
      "Positive vs. Negative:\t 12500 12500\n"
     ]
    }
   ],
   "source": [
    "train = pd.read_csv('./data/labeledTrainData.tsv', delimiter='\\t', quoting=3)\n",
    "test = pd.read_csv('./data/testData.tsv', delimiter='\\t', quoting=3)\n",
    "\n",
    "# get the number of training and test examples\n",
    "n_train = len(train)\n",
    "n_test = len(test)\n",
    "\n",
    "print('Training set shape\\t', train.shape)\n",
    "print('Testing set shape\\t', test.shape)\n",
    "print('Positive vs. Negative:\\t', len(train[train['sentiment'] == 1]), len(train[train['sentiment'] != 1]))"
   ]
  },
  {
   "cell_type": "code",
   "execution_count": 3,
   "metadata": {
    "collapsed": false
   },
   "outputs": [
    {
     "data": {
      "text/html": [
       "<div>\n",
       "<table border=\"1\" class=\"dataframe\">\n",
       "  <thead>\n",
       "    <tr style=\"text-align: right;\">\n",
       "      <th></th>\n",
       "      <th>id</th>\n",
       "      <th>sentiment</th>\n",
       "      <th>review</th>\n",
       "    </tr>\n",
       "  </thead>\n",
       "  <tbody>\n",
       "    <tr>\n",
       "      <th>0</th>\n",
       "      <td>\"5814_8\"</td>\n",
       "      <td>1</td>\n",
       "      <td>\"With all this stuff going down at the moment ...</td>\n",
       "    </tr>\n",
       "    <tr>\n",
       "      <th>1</th>\n",
       "      <td>\"2381_9\"</td>\n",
       "      <td>1</td>\n",
       "      <td>\"\\\"The Classic War of the Worlds\\\" by Timothy ...</td>\n",
       "    </tr>\n",
       "    <tr>\n",
       "      <th>2</th>\n",
       "      <td>\"7759_3\"</td>\n",
       "      <td>0</td>\n",
       "      <td>\"The film starts with a manager (Nicholas Bell...</td>\n",
       "    </tr>\n",
       "    <tr>\n",
       "      <th>3</th>\n",
       "      <td>\"3630_4\"</td>\n",
       "      <td>0</td>\n",
       "      <td>\"It must be assumed that those who praised thi...</td>\n",
       "    </tr>\n",
       "    <tr>\n",
       "      <th>4</th>\n",
       "      <td>\"9495_8\"</td>\n",
       "      <td>1</td>\n",
       "      <td>\"Superbly trashy and wondrously unpretentious ...</td>\n",
       "    </tr>\n",
       "  </tbody>\n",
       "</table>\n",
       "</div>"
      ],
      "text/plain": [
       "         id  sentiment                                             review\n",
       "0  \"5814_8\"          1  \"With all this stuff going down at the moment ...\n",
       "1  \"2381_9\"          1  \"\\\"The Classic War of the Worlds\\\" by Timothy ...\n",
       "2  \"7759_3\"          0  \"The film starts with a manager (Nicholas Bell...\n",
       "3  \"3630_4\"          0  \"It must be assumed that those who praised thi...\n",
       "4  \"9495_8\"          1  \"Superbly trashy and wondrously unpretentious ..."
      ]
     },
     "execution_count": 3,
     "metadata": {},
     "output_type": "execute_result"
    }
   ],
   "source": [
    "train.head()"
   ]
  },
  {
   "cell_type": "markdown",
   "metadata": {},
   "source": [
    "# Data Cleaning"
   ]
  },
  {
   "cell_type": "code",
   "execution_count": 4,
   "metadata": {
    "collapsed": false
   },
   "outputs": [],
   "source": [
    "def review2words(review):\n",
    "    \"\"\" function to convert input review into string of words \"\"\"\n",
    "    # Remove HTML\n",
    "    review_text = BeautifulSoup(review, 'lxml').get_text() \n",
    "\n",
    "    # Remove non-letters        \n",
    "    letters_only = re.sub(\"[^a-zA-Z]\", \" \", review_text) \n",
    "\n",
    "    # Convert to lower case, split into individual words\n",
    "    words = letters_only.lower().split()                             \n",
    "\n",
    "    # Join the words and return the result.\n",
    "    return(\" \".join(words))   "
   ]
  },
  {
   "cell_type": "code",
   "execution_count": 5,
   "metadata": {
    "collapsed": false
   },
   "outputs": [],
   "source": [
    "# get train label\n",
    "train_y = train['sentiment'].values\n",
    "\n",
    "# transform reviews into words list\n",
    "train_review = list(map(review2words, train['review']))\n",
    "test_review = list(map(review2words, test['review']))\n",
    "\n",
    "# combine train and test reviews\n",
    "all_review = train_review + test_review"
   ]
  },
  {
   "cell_type": "code",
   "execution_count": 6,
   "metadata": {
    "collapsed": false
   },
   "outputs": [],
   "source": [
    "# perform TF-IDF transformation\n",
    "vectorizer = TfidfVectorizer(min_df=3, analyzer=\"word\", strip_accents='unicode',\n",
    "                             stop_words='english', max_features=5000, ngram_range=(1, 1)) \n",
    "\n",
    "# fit and transform the data\n",
    "all_features = vectorizer.fit_transform(all_review)\n",
    "\n",
    "# trainsform into array\n",
    "train_features = all_features[:n_train, :].toarray()\n",
    "test_features = all_features[n_train:, :].toarray()"
   ]
  },
  {
   "cell_type": "markdown",
   "metadata": {},
   "source": [
    "# Random Forest Model"
   ]
  },
  {
   "cell_type": "code",
   "execution_count": 7,
   "metadata": {
    "collapsed": false
   },
   "outputs": [
    {
     "data": {
      "image/png": "[encoded data removed]",
      "text/plain": [
       "<matplotlib.figure.Figure at 0x11ce8ddd8>"
      ]
     },
     "metadata": {},
     "output_type": "display_data"
    }
   ],
   "source": [
    "# exploratory study to determine the best number of estimators\n",
    "n_estimators = 500\n",
    "forest = RandomForestClassifier(warm_start=True, oob_score=True, random_state=2017, \n",
    "                                n_jobs=-1, max_features='auto')\n",
    "\n",
    "oob = []\n",
    "for i in range(1, n_estimators + 1):\n",
    "    forest.set_params(n_estimators=i)\n",
    "    forest.fit(train_features, train_y)\n",
    "    oob.append(forest.oob_score_)\n",
    "\n",
    "# plot the curve of OOB error rate\n",
    "fig, ax = plt.subplots(figsize=(8, 5))\n",
    "ax.plot(range(1, len(oob) + 1), 1 - np.array(oob), '-')\n",
    "ax.set_xlabel('N_estimator', fontsize=12)\n",
    "ax.set_ylabel('OOB Error Rate', fontsize=12)\n",
    "ax.set_title('OOB Error Rate vs. # Estimators')\n",
    "plt.show()"
   ]
  },
  {
   "cell_type": "code",
   "execution_count": 8,
   "metadata": {
    "collapsed": false
   },
   "outputs": [],
   "source": [
    "# # Initialize a Random Forest classifier\n",
    "# forest = RandomForestClassifier(n_estimators=300, n_jobs=-1, random_state=2017, \n",
    "#                                 oob_score=True, max_features='auto') \n",
    "# \n",
    "# # Fit the forest to the training set\n",
    "# forest.fit(train_features, train_y)"
   ]
  },
  {
   "cell_type": "code",
   "execution_count": 9,
   "metadata": {
    "collapsed": false
   },
   "outputs": [],
   "source": [
    "# find all the words used\n",
    "words = vectorizer.get_feature_names()\n",
    "importance = forest.feature_importances_\n",
    "\n",
    "# sort to get the most importance words\n",
    "tmp = list(zip(importance, words))\n",
    "tmp.sort(reverse=True)\n",
    "words_sorted = [word for (_, word) in tmp]"
   ]
  },
  {
   "cell_type": "code",
   "execution_count": 10,
   "metadata": {
    "collapsed": false
   },
   "outputs": [
    {
     "name": "stdout",
     "output_type": "stream",
     "text": [
      "AUC\t 0.9997738432\n"
     ]
    }
   ],
   "source": [
    "# make predictions\n",
    "train_pred = forest.predict_proba(train_features)[:, 1]\n",
    "test_pred = forest.predict_proba(test_features)[:, 1]\n",
    "\n",
    "# save prediction into local files\n",
    "output = pd.DataFrame(data={\"id\": test[\"id\"], \"sentiment\": test_pred})\n",
    "output.to_csv(\"./result/random_forest.csv\", index=False, quoting=3)\n",
    "\n",
    "# get the AUC score\n",
    "print('AUC\\t', roc_auc_score(train_y, train_pred))"
   ]
  },
  {
   "cell_type": "code",
   "execution_count": 11,
   "metadata": {
    "collapsed": false
   },
   "outputs": [
    {
     "data": {
      "image/png": "[encoded data removed]",
      "text/plain": [
       "<matplotlib.figure.Figure at 0x11b94a198>"
      ]
     },
     "metadata": {},
     "output_type": "display_data"
    }
   ],
   "source": [
    "# plot of importance vs. words\n",
    "N = 20\n",
    "fig, ax = plt.subplots(figsize=(10, 6))\n",
    "ax.plot(range(1, N + 1), sorted(importance, reverse=True)[:N], 'o')\n",
    "ax.set_title('Importance of the First {0} Words'.format(N), fontsize=16)\n",
    "ax.set_xlabel('Words', fontsize=12)\n",
    "ax.set_ylabel('Importance', fontsize=12)\n",
    "ax.set_xticks(range(1, N + 1))\n",
    "ax.set_xticklabels(words_sorted[:N], rotation=30, fontsize=10)\n",
    "plt.show()"
   ]
  },
  {
   "cell_type": "code",
   "execution_count": null,
   "metadata": {
    "collapsed": true
   },
   "outputs": [],
   "source": []
  }
 ],
 "metadata": {
  "kernelspec": {
   "display_name": "Python [default]",
   "language": "python",
   "name": "python3"
  },
  "language_info": {
   "codemirror_mode": {
    "name": "ipython",
    "version": 3
   },
   "file_extension": ".py",
   "mimetype": "text/x-python",
   "name": "python",
   "nbconvert_exporter": "python",
   "pygments_lexer": "ipython3",
   "version": "3.5.3"
  }
 },
 "nbformat": 4,
 "nbformat_minor": 2
}
