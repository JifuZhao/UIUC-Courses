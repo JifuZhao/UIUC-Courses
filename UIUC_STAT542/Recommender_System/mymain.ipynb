{
 "cells": [
  {
   "cell_type": "code",
   "execution_count": 1,
   "metadata": {
    "collapsed": true
   },
   "outputs": [],
   "source": [
    "import time\n",
    "import warnings\n",
    "import numpy as np\n",
    "import pandas as pd\n",
    "\n",
    "from surprise import KNNWithMeans\n",
    "from surprise import SVD\n",
    "from surprise import Dataset\n",
    "from surprise import Reader\n",
    "\n",
    "warnings.filterwarnings('ignore')\n",
    "%matplotlib inline"
   ]
  },
  {
   "cell_type": "code",
   "execution_count": 2,
   "metadata": {
    "collapsed": true
   },
   "outputs": [],
   "source": [
    "# Start of the algorithm\n",
    "t_start = time.time()"
   ]
  },
  {
   "cell_type": "markdown",
   "metadata": {},
   "source": [
    "# Read data"
   ]
  },
  {
   "cell_type": "code",
   "execution_count": 3,
   "metadata": {
    "collapsed": false
   },
   "outputs": [],
   "source": [
    "# build the reader and read the dataset\n",
    "reader = Reader(line_format='user item rating timestamp', sep=r'::')\n",
    "train = Dataset.load_from_file('./train.dat', reader=reader)\n",
    "# build the training set\n",
    "trainset = train.build_full_trainset()"
   ]
  },
  {
   "cell_type": "code",
   "execution_count": 4,
   "metadata": {
    "collapsed": false
   },
   "outputs": [],
   "source": [
    "# ------------------------------\n",
    "label = pd.read_csv('./label.csv')"
   ]
  },
  {
   "cell_type": "markdown",
   "metadata": {},
   "source": [
    "# Build the recommender system"
   ]
  },
  {
   "cell_type": "markdown",
   "metadata": {
    "collapsed": true
   },
   "source": [
    "## KNN with Means Algorithm"
   ]
  },
  {
   "cell_type": "code",
   "execution_count": 5,
   "metadata": {
    "collapsed": false
   },
   "outputs": [
    {
     "name": "stdout",
     "output_type": "stream",
     "text": [
      "Computing the msd similarity matrix...\n",
      "Done computing similarity matrix.\n"
     ]
    }
   ],
   "source": [
    "# define parameters\n",
    "sim_options = {'name': 'msd',\n",
    "               'user_based': False,\n",
    "               'shrinkage': 100}\n",
    "\n",
    "# build the algorithm\n",
    "knn = KNNWithMeans(k=40, min_k=1, sim_options=sim_options)\n",
    "knn.train(trainset)"
   ]
  },
  {
   "cell_type": "code",
   "execution_count": 6,
   "metadata": {
    "collapsed": true
   },
   "outputs": [],
   "source": [
    "# read the test file\n",
    "test = pd.read_csv('./test.csv')\n",
    "\n",
    "# make predictions\n",
    "y_hat = np.zeros(len(test))\n",
    "for i in range(len(test)):\n",
    "    tmp = test.loc[i]\n",
    "    uid = str(tmp['user'])\n",
    "    iid = str(tmp['movie'])\n",
    "    prediction = knn.predict(uid, iid, verbose=False)\n",
    "    y_hat[i] = prediction.est\n",
    "\n",
    "# save prediction\n",
    "test['rating'] = y_hat\n",
    "test.to_csv('./mysubmission1.csv', index=False)"
   ]
  },
  {
   "cell_type": "code",
   "execution_count": 7,
   "metadata": {
    "collapsed": false
   },
   "outputs": [
    {
     "name": "stdout",
     "output_type": "stream",
     "text": [
      "Final RMSE is:\t 0.89277009045 \n",
      "\n"
     ]
    }
   ],
   "source": [
    "# ------------------------------\n",
    "# calculate RMSE\n",
    "y = label['rating'].values\n",
    "\n",
    "rmse = np.sqrt(np.mean((y_hat - y) ** 2))\n",
    "print('Final RMSE is:\\t', rmse, '\\n')"
   ]
  },
  {
   "cell_type": "markdown",
   "metadata": {
    "collapsed": true
   },
   "source": [
    "## SVD Algorithm"
   ]
  },
  {
   "cell_type": "code",
   "execution_count": 8,
   "metadata": {
    "collapsed": true
   },
   "outputs": [],
   "source": [
    "# build the algorithm\n",
    "svd = SVD(n_factors=100, n_epochs=20, biased=True, init_mean=0,\n",
    "          init_std_dev=.1, lr_all=.005, reg_all=.02, lr_bu=None, \n",
    "          lr_bi=None, lr_pu=None, lr_qi=None, reg_bu=None, \n",
    "          reg_bi=None, reg_pu=None, reg_qi=None, verbose=False)\n",
    "svd.train(trainset)"
   ]
  },
  {
   "cell_type": "code",
   "execution_count": 9,
   "metadata": {
    "collapsed": true
   },
   "outputs": [],
   "source": [
    "# read the test file\n",
    "test = pd.read_csv('./test.csv')\n",
    "\n",
    "# make predictions\n",
    "y_hat = np.zeros(len(test))\n",
    "for i in range(len(test)):\n",
    "    tmp = test.loc[i]\n",
    "    uid = str(tmp['user'])\n",
    "    iid = str(tmp['movie'])\n",
    "    prediction = svd.predict(uid, iid, verbose=False)\n",
    "    y_hat[i] = prediction.est\n",
    "\n",
    "# save prediction\n",
    "test['rating'] = y_hat\n",
    "test.to_csv('./mysubmission2.csv', index=False)"
   ]
  },
  {
   "cell_type": "code",
   "execution_count": 10,
   "metadata": {
    "collapsed": false
   },
   "outputs": [
    {
     "name": "stdout",
     "output_type": "stream",
     "text": [
      "Final RMSE is:\t 0.891754252343 \n",
      "\n"
     ]
    }
   ],
   "source": [
    "# ------------------------------    \n",
    "# calculate RMSE\n",
    "y = label['rating'].values\n",
    "\n",
    "rmse = np.sqrt(np.mean((y_hat - y) ** 2))\n",
    "print('Final RMSE is:\\t', rmse, '\\n')"
   ]
  },
  {
   "cell_type": "markdown",
   "metadata": {},
   "source": [
    "# Running time information"
   ]
  },
  {
   "cell_type": "code",
   "execution_count": 11,
   "metadata": {
    "collapsed": false
   },
   "outputs": [
    {
     "name": "stdout",
     "output_type": "stream",
     "text": [
      "Program running time\n",
      "Total time:\t  146.71 seconds\n"
     ]
    }
   ],
   "source": [
    "# get the total code used time information\n",
    "t_end = time.time()\n",
    "print(\"Program running time\")\n",
    "print('Total time:\\t{0:8.2f} seconds'.format(t_end - t_start))"
   ]
  }
 ],
 "metadata": {
  "kernelspec": {
   "display_name": "Python [conda root]",
   "language": "python",
   "name": "conda-root-py"
  },
  "language_info": {
   "codemirror_mode": {
    "name": "ipython",
    "version": 3
   },
   "file_extension": ".py",
   "mimetype": "text/x-python",
   "name": "python",
   "nbconvert_exporter": "python",
   "pygments_lexer": "ipython3",
   "version": "3.5.3"
  }
 },
 "nbformat": 4,
 "nbformat_minor": 2
}
