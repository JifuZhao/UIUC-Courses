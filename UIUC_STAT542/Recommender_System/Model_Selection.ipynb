{
 "cells": [
  {
   "cell_type": "markdown",
   "metadata": {},
   "source": [
    "# Recommerder System Model Selection\n",
    "In this notebook, we implement several popular algorithms to build a recommender system.\n",
    "\n",
    "The whole notebook is based on Python package named [Surprise](http://surpriselib.com/)"
   ]
  },
  {
   "cell_type": "code",
   "execution_count": null,
   "metadata": {
    "collapsed": true
   },
   "outputs": [],
   "source": [
    "import warnings\n",
    "import time\n",
    "import numpy as np\n",
    "import pandas as pd\n",
    "\n",
    "from surprise import NormalPredictor\n",
    "from surprise import BaselineOnly\n",
    "from surprise import KNNBasic\n",
    "from surprise import KNNWithMeans\n",
    "from surprise import KNNBaseline\n",
    "from surprise import SVD\n",
    "from surprise import SVDpp\n",
    "from surprise import NMF\n",
    "from surprise import SlopeOne\n",
    "from surprise import CoClustering\n",
    "from surprise import Dataset\n",
    "from surprise import evaluate\n",
    "from surprise import print_perf\n",
    "from surprise import Reader\n",
    "\n",
    "warnings.filterwarnings('ignore')\n",
    "%matplotlib inline"
   ]
  },
  {
   "cell_type": "code",
   "execution_count": null,
   "metadata": {
    "collapsed": true
   },
   "outputs": [],
   "source": [
    "# Start of the algorithm\n",
    "t_start = time.time()"
   ]
  },
  {
   "cell_type": "markdown",
   "metadata": {},
   "source": [
    "# Build recommender system and make predictions"
   ]
  },
  {
   "cell_type": "code",
   "execution_count": null,
   "metadata": {
    "collapsed": true
   },
   "outputs": [],
   "source": [
    "# build the reader and read the dataset\n",
    "reader = Reader(line_format='user item rating timestamp', sep=r'::')\n",
    "data = Dataset.load_from_file('./data/ratings.dat', reader=reader)"
   ]
  },
  {
   "cell_type": "code",
   "execution_count": null,
   "metadata": {
    "collapsed": true
   },
   "outputs": [],
   "source": [
    "# split into 5 folders for cross validation\n",
    "np.random.seed(2017)\n",
    "data.split(n_folds=5, shuffle=True)"
   ]
  },
  {
   "cell_type": "markdown",
   "metadata": {
    "collapsed": true
   },
   "source": [
    "# 1. [Normal Predictor Algorithm](http://surprise.readthedocs.io/en/stable/basic_algorithms.html#surprise.prediction_algorithms.random_pred.NormalPredictor)"
   ]
  },
  {
   "cell_type": "code",
   "execution_count": null,
   "metadata": {
    "collapsed": false
   },
   "outputs": [],
   "source": [
    "# build the algorithm\n",
    "algo1 = NormalPredictor()\n",
    "\n",
    "# evaluate the performance of the algorithms\n",
    "perf1 = evaluate(algo1, data, measures=['RMSE'], verbose=False)\n",
    "print_perf(perf1)\n",
    "print('Mean RMSE is:\\t', np.mean(perf1['rmse']))"
   ]
  },
  {
   "cell_type": "markdown",
   "metadata": {},
   "source": [
    "# 2. [Baseline Only Algorithm](http://surprise.readthedocs.io/en/stable/basic_algorithms.html#surprise.prediction_algorithms.baseline_only.BaselineOnly)"
   ]
  },
  {
   "cell_type": "code",
   "execution_count": null,
   "metadata": {
    "collapsed": false
   },
   "outputs": [],
   "source": [
    "# define parameters\n",
    "bsl_options = {'method': 'als',\n",
    "               'n_epochs': 10,\n",
    "               'reg_i': 10,\n",
    "               'reg_u': 15}\n",
    "\n",
    "# build the algorithm\n",
    "algo2 = BaselineOnly(bsl_options=bsl_options)\n",
    "\n",
    "# evaluate the performance of the algorithms\n",
    "perf2 = evaluate(algo2, data, measures=['RMSE'], verbose=False)\n",
    "print_perf(perf2)\n",
    "print('Mean RMSE is:\\t', np.mean(perf2['rmse']))"
   ]
  },
  {
   "cell_type": "markdown",
   "metadata": {},
   "source": [
    "# 3. [KNN Basic Algorithm](http://surprise.readthedocs.io/en/stable/knn_inspired.html#surprise.prediction_algorithms.knns.KNNBasic)"
   ]
  },
  {
   "cell_type": "code",
   "execution_count": null,
   "metadata": {
    "collapsed": true
   },
   "outputs": [],
   "source": [
    "sim_options = {'name': 'cosine',\n",
    "               'user_based': True,\n",
    "               'shrinkage': 100}\n",
    "\n",
    "# build the algorithm\n",
    "algo3 = KNNBasic(k=40, min_k=1, sim_options=sim_options)\n",
    "\n",
    "# evaluate the performance of the algorithms\n",
    "perf3 = evaluate(algo3, data, measures=['RMSE'], verbose=False)\n",
    "print_perf(perf3)\n",
    "print('Mean RMSE is:\\t', np.mean(perf3['rmse']))"
   ]
  },
  {
   "cell_type": "code",
   "execution_count": null,
   "metadata": {
    "collapsed": true
   },
   "outputs": [],
   "source": [
    "sim_options = {'name': 'cosine',\n",
    "               'user_based': False,\n",
    "               'shrinkage': 100}\n",
    "\n",
    "# build the algorithm\n",
    "algo3 = KNNBasic(k=40, min_k=1, sim_options=sim_options)\n",
    "\n",
    "# evaluate the performance of the algorithms\n",
    "perf3 = evaluate(algo3, data, measures=['RMSE'], verbose=False)\n",
    "print_perf(perf3)\n",
    "print('Mean RMSE is:\\t', np.mean(perf3['rmse']))"
   ]
  },
  {
   "cell_type": "code",
   "execution_count": null,
   "metadata": {
    "collapsed": true
   },
   "outputs": [],
   "source": [
    "sim_options = {'name': 'msd',\n",
    "               'user_based': True,\n",
    "               'shrinkage': 100}\n",
    "\n",
    "# build the algorithm\n",
    "algo3 = KNNBasic(k=40, min_k=1, sim_options=sim_options)\n",
    "\n",
    "# evaluate the performance of the algorithms\n",
    "perf3 = evaluate(algo3, data, measures=['RMSE'], verbose=False)\n",
    "print_perf(perf3)\n",
    "print('Mean RMSE is:\\t', np.mean(perf3['rmse']))"
   ]
  },
  {
   "cell_type": "code",
   "execution_count": null,
   "metadata": {
    "collapsed": true
   },
   "outputs": [],
   "source": [
    "sim_options = {'name': 'msd',\n",
    "               'user_based': False,\n",
    "               'shrinkage': 100}\n",
    "\n",
    "# build the algorithm\n",
    "algo3 = KNNBasic(k=40, min_k=1, sim_options=sim_options)\n",
    "\n",
    "# evaluate the performance of the algorithms\n",
    "perf3 = evaluate(algo3, data, measures=['RMSE'], verbose=False)\n",
    "print_perf(perf3)\n",
    "print('Mean RMSE is:\\t', np.mean(perf3['rmse']))"
   ]
  },
  {
   "cell_type": "code",
   "execution_count": null,
   "metadata": {
    "collapsed": true
   },
   "outputs": [],
   "source": [
    "sim_options = {'name': 'pearson',\n",
    "               'user_based': True,\n",
    "               'shrinkage': 100}\n",
    "\n",
    "# build the algorithm\n",
    "algo3 = KNNBasic(k=40, min_k=1, sim_options=sim_options)\n",
    "\n",
    "# evaluate the performance of the algorithms\n",
    "perf3 = evaluate(algo3, data, measures=['RMSE'], verbose=False)\n",
    "print_perf(perf3)\n",
    "print('Mean RMSE is:\\t', np.mean(perf3['rmse']))"
   ]
  },
  {
   "cell_type": "code",
   "execution_count": null,
   "metadata": {
    "collapsed": true
   },
   "outputs": [],
   "source": [
    "sim_options = {'name': 'pearson',\n",
    "               'user_based': False,\n",
    "               'shrinkage': 100}\n",
    "\n",
    "# build the algorithm\n",
    "algo3 = KNNBasic(k=40, min_k=1, sim_options=sim_options)\n",
    "\n",
    "# evaluate the performance of the algorithms\n",
    "perf3 = evaluate(algo3, data, measures=['RMSE'], verbose=False)\n",
    "print_perf(perf3)\n",
    "print('Mean RMSE is:\\t', np.mean(perf3['rmse']))"
   ]
  },
  {
   "cell_type": "code",
   "execution_count": null,
   "metadata": {
    "collapsed": false
   },
   "outputs": [],
   "source": [
    "sim_options = {'name': 'pearson_baseline',\n",
    "               'user_based': True,\n",
    "               'shrinkage': 100}\n",
    "\n",
    "# build the algorithm\n",
    "algo3 = KNNBasic(k=40, min_k=1, sim_options=sim_options)\n",
    "\n",
    "# evaluate the performance of the algorithms\n",
    "perf3 = evaluate(algo3, data, measures=['RMSE'], verbose=False)\n",
    "print_perf(perf3)\n",
    "print('Mean RMSE is:\\t', np.mean(perf3['rmse']))"
   ]
  },
  {
   "cell_type": "code",
   "execution_count": null,
   "metadata": {
    "collapsed": false
   },
   "outputs": [],
   "source": [
    "sim_options = {'name': 'pearson_baseline',\n",
    "               'user_based': False,\n",
    "               'shrinkage': 100}\n",
    "\n",
    "# build the algorithm\n",
    "algo3 = KNNBasic(k=40, min_k=1, sim_options=sim_options)\n",
    "\n",
    "# evaluate the performance of the algorithms\n",
    "perf3 = evaluate(algo3, data, measures=['RMSE'], verbose=False)\n",
    "print_perf(perf3)\n",
    "print('Mean RMSE is:\\t', np.mean(perf3['rmse']))"
   ]
  },
  {
   "cell_type": "markdown",
   "metadata": {},
   "source": [
    "# 4. [KNN with Means Algorithm](http://surprise.readthedocs.io/en/stable/knn_inspired.html#surprise.prediction_algorithms.knns.KNNWithMeans)"
   ]
  },
  {
   "cell_type": "code",
   "execution_count": null,
   "metadata": {
    "collapsed": true
   },
   "outputs": [],
   "source": [
    "sim_options = {'name': 'msd',\n",
    "               'user_based': True,\n",
    "               'shrinkage': 100}\n",
    "\n",
    "# build the algorithm\n",
    "algo4 = KNNWithMeans(k=40, min_k=1, sim_options=sim_options)\n",
    "\n",
    "# evaluate the performance of the algorithms\n",
    "perf4 = evaluate(algo4, data, measures=['RMSE'], verbose=False)\n",
    "print_perf(perf4)\n",
    "print('Mean RMSE is:\\t', np.mean(perf4['rmse']))"
   ]
  },
  {
   "cell_type": "code",
   "execution_count": null,
   "metadata": {
    "collapsed": true
   },
   "outputs": [],
   "source": [
    "sim_options = {'name': 'msd',\n",
    "               'user_based': False,\n",
    "               'shrinkage': 100}\n",
    "\n",
    "# build the algorithm\n",
    "algo4 = KNNWithMeans(k=40, min_k=1, sim_options=sim_options)\n",
    "\n",
    "# evaluate the performance of the algorithms\n",
    "perf4 = evaluate(algo4, data, measures=['RMSE'], verbose=False)\n",
    "print_perf(perf4)\n",
    "print('Mean RMSE is:\\t', np.mean(perf4['rmse']))"
   ]
  },
  {
   "cell_type": "markdown",
   "metadata": {},
   "source": [
    "# 5. [KNN Base Line Algorithm](http://surprise.readthedocs.io/en/stable/knn_inspired.html#surprise.prediction_algorithms.knns.KNNBaseline)"
   ]
  },
  {
   "cell_type": "code",
   "execution_count": null,
   "metadata": {
    "collapsed": true
   },
   "outputs": [],
   "source": [
    "# define parameters\n",
    "sim_options = {'name': 'msd',\n",
    "               'user_based': True,\n",
    "               'shrinkage': 100}\n",
    "\n",
    "bsl_options = {'method': 'als',\n",
    "               'n_epochs': 10,\n",
    "               'reg_i': 10,\n",
    "               'reg_u': 15}\n",
    "\n",
    "# build the algorithm\n",
    "algo5 = KNNBaseline(k=40, min_k=1, sim_options=sim_options, bsl_options=bsl_options)\n",
    "\n",
    "# evaluate the performance of the algorithms\n",
    "perf5 = evaluate(algo5, data, measures=['RMSE'], verbose=False)\n",
    "print_perf(perf5)\n",
    "print('Mean RMSE is:\\t', np.mean(perf5['rmse']))"
   ]
  },
  {
   "cell_type": "code",
   "execution_count": null,
   "metadata": {
    "collapsed": true
   },
   "outputs": [],
   "source": [
    "# define parameters\n",
    "sim_options = {'name': 'msd',\n",
    "               'user_based': False,\n",
    "               'shrinkage': 100}\n",
    "\n",
    "bsl_options = {'method': 'als',\n",
    "               'n_epochs': 10,\n",
    "               'reg_i': 10,\n",
    "               'reg_u': 15}\n",
    "\n",
    "# build the algorithm\n",
    "algo5 = KNNBaseline(k=40, min_k=1, sim_options=sim_options, bsl_options=bsl_options)\n",
    "\n",
    "# evaluate the performance of the algorithms\n",
    "perf5 = evaluate(algo5, data, measures=['RMSE'], verbose=False)\n",
    "print_perf(perf5)\n",
    "print('Mean RMSE is:\\t', np.mean(perf5['rmse']))"
   ]
  },
  {
   "cell_type": "markdown",
   "metadata": {},
   "source": [
    "# 6. [SVD Algorithm](http://surprise.readthedocs.io/en/stable/matrix_factorization.html#surprise.prediction_algorithms.matrix_factorization.SVD)"
   ]
  },
  {
   "cell_type": "code",
   "execution_count": null,
   "metadata": {
    "collapsed": false
   },
   "outputs": [],
   "source": [
    "# build the algorithm\n",
    "algo6 = SVD(n_factors=100, n_epochs=20, biased=True, init_mean=0,\n",
    "            init_std_dev=.1, lr_all=.005,\n",
    "            reg_all=.02, lr_bu=None, lr_bi=None, lr_pu=None, lr_qi=None,\n",
    "            reg_bu=None, reg_bi=None, reg_pu=None, reg_qi=None,\n",
    "            verbose=False)\n",
    "\n",
    "# evaluate the performance of the algorithms\n",
    "perf6 = evaluate(algo6, data, measures=['RMSE'], verbose=False)\n",
    "print_perf(perf6)\n",
    "print('Mean RMSE is:\\t', np.mean(perf6['rmse']))"
   ]
  },
  {
   "cell_type": "markdown",
   "metadata": {},
   "source": [
    "# 7. [SVD++ Algorithm](http://surprise.readthedocs.io/en/stable/matrix_factorization.html#surprise.prediction_algorithms.matrix_factorization.SVDpp)"
   ]
  },
  {
   "cell_type": "code",
   "execution_count": null,
   "metadata": {
    "collapsed": true
   },
   "outputs": [],
   "source": [
    "# build the algorithm\n",
    "algo7 = SVDpp(n_factors=20, n_epochs=20, init_mean=0, init_std_dev=.1,\n",
    "              lr_all=.007, reg_all=.02, lr_bu=None, lr_bi=None, lr_pu=None,\n",
    "              lr_qi=None, lr_yj=None, reg_bu=None, reg_bi=None, reg_pu=None,\n",
    "              reg_qi=None, reg_yj=None, verbose=False)\n",
    "\n",
    "# evaluate the performance of the algorithms\n",
    "perf7 = evaluate(algo7, data, measures=['RMSE'], verbose=False)\n",
    "print_perf(perf7)\n",
    "print('Mean RMSE is:\\t', np.mean(perf7['rmse']))"
   ]
  },
  {
   "cell_type": "markdown",
   "metadata": {},
   "source": [
    "# 8. [NMF Algorithm](http://surprise.readthedocs.io/en/stable/matrix_factorization.html#surprise.prediction_algorithms.matrix_factorization.NMF)"
   ]
  },
  {
   "cell_type": "code",
   "execution_count": null,
   "metadata": {
    "collapsed": true
   },
   "outputs": [],
   "source": [
    "# build the algorithm\n",
    "algo8 = NMF(n_factors=15, n_epochs=50, biased=False, reg_pu=.06,\n",
    "            reg_qi=.06, reg_bu=.02, reg_bi=.02, lr_bu=.005, lr_bi=.005,\n",
    "            init_low=0, init_high=1, verbose=False)\n",
    "\n",
    "# evaluate the performance of the algorithms\n",
    "perf8 = evaluate(algo8, data, measures=['RMSE'], verbose=False)\n",
    "print_perf(perf8)\n",
    "print('Mean RMSE is:\\t', np.mean(perf8['rmse']))"
   ]
  },
  {
   "cell_type": "markdown",
   "metadata": {},
   "source": [
    "# 9. [Slope One Algorithm](http://surprise.readthedocs.io/en/stable/slope_one.html#surprise.prediction_algorithms.slope_one.SlopeOne)"
   ]
  },
  {
   "cell_type": "code",
   "execution_count": null,
   "metadata": {
    "collapsed": true
   },
   "outputs": [],
   "source": [
    "# build the algorithm\n",
    "algo9 = SlopeOne()\n",
    "\n",
    "# evaluate the performance of the algorithms\n",
    "perf9 = evaluate(algo9, data, measures=['RMSE'], verbose=False)\n",
    "print_perf(perf9)\n",
    "print('Mean RMSE is:\\t', np.mean(perf9['rmse']))"
   ]
  },
  {
   "cell_type": "markdown",
   "metadata": {},
   "source": [
    "# 10. [Co-Clustering Algorithm](http://surprise.readthedocs.io/en/stable/co_clustering.html#surprise.prediction_algorithms.co_clustering.CoClustering)"
   ]
  },
  {
   "cell_type": "code",
   "execution_count": null,
   "metadata": {
    "collapsed": true
   },
   "outputs": [],
   "source": [
    "# build the algorithm\n",
    "algo10 = CoClustering(n_cltr_u=3, n_cltr_i=3, n_epochs=20, verbose=False)\n",
    "\n",
    "# evaluate the performance of the algorithms\n",
    "perf10 = evaluate(algo10, data, measures=['RMSE'], verbose=False)\n",
    "print_perf(perf10)\n",
    "print('Mean RMSE is:\\t', np.mean(perf10['rmse']))"
   ]
  },
  {
   "cell_type": "markdown",
   "metadata": {},
   "source": [
    "# End of the program"
   ]
  },
  {
   "cell_type": "code",
   "execution_count": null,
   "metadata": {
    "collapsed": false
   },
   "outputs": [],
   "source": [
    "# get the total code used time information\n",
    "t_end = time.time()\n",
    "print(\"Program running time\\n\")\n",
    "print('Start time:\\t{0:15.2f}'.format(t_start))\n",
    "print('Stop  time:\\t{0:15.2f}'.format(t_end))\n",
    "print('Total time:\\t{0:15.2f} seconds'.format(t_end - t_start))"
   ]
  },
  {
   "cell_type": "code",
   "execution_count": null,
   "metadata": {
    "collapsed": true
   },
   "outputs": [],
   "source": []
  }
 ],
 "metadata": {
  "kernelspec": {
   "display_name": "Python [conda root]",
   "language": "python",
   "name": "conda-root-py"
  },
  "language_info": {
   "codemirror_mode": {
    "name": "ipython",
    "version": 3
   },
   "file_extension": ".py",
   "mimetype": "text/x-python",
   "name": "python",
   "nbconvert_exporter": "python",
   "pygments_lexer": "ipython3",
   "version": "3.5.3"
  }
 },
 "nbformat": 4,
 "nbformat_minor": 2
}
