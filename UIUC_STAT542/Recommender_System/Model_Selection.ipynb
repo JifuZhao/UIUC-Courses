{
 "cells": [
  {
   "cell_type": "markdown",
   "metadata": {},
   "source": [
    "# Recommerder System Model Selection\n",
    "In this notebook, we implement several popular algorithms to build a recommender system.\n",
    "\n",
    "The whole notebook is based on Python package named [Surprise](http://surpriselib.com/)"
   ]
  },
  {
   "cell_type": "code",
   "execution_count": 1,
   "metadata": {
    "collapsed": true
   },
   "outputs": [],
   "source": [
    "import warnings\n",
    "import time\n",
    "import random\n",
    "import numpy as np\n",
    "import pandas as pd\n",
    "\n",
    "from surprise import NormalPredictor\n",
    "from surprise import BaselineOnly\n",
    "from surprise import KNNBasic\n",
    "from surprise import KNNWithMeans\n",
    "from surprise import KNNBaseline\n",
    "from surprise import SVD\n",
    "from surprise import SVDpp\n",
    "from surprise import NMF\n",
    "from surprise import SlopeOne\n",
    "from surprise import CoClustering\n",
    "from surprise import Dataset\n",
    "from surprise import evaluate\n",
    "from surprise import print_perf\n",
    "from surprise import Reader\n",
    "\n",
    "warnings.filterwarnings('ignore')\n",
    "%matplotlib inline"
   ]
  },
  {
   "cell_type": "code",
   "execution_count": 2,
   "metadata": {
    "collapsed": true
   },
   "outputs": [],
   "source": [
    "# Start of the algorithm\n",
    "t_start = time.time()"
   ]
  },
  {
   "cell_type": "markdown",
   "metadata": {},
   "source": [
    "# Build recommender system and make predictions"
   ]
  },
  {
   "cell_type": "code",
   "execution_count": 3,
   "metadata": {
    "collapsed": true
   },
   "outputs": [],
   "source": [
    "# build the reader and read the dataset\n",
    "reader = Reader(line_format='user item rating timestamp', sep=r'::')\n",
    "data = Dataset.load_from_file('./data/ratings.dat', reader=reader)"
   ]
  },
  {
   "cell_type": "code",
   "execution_count": 4,
   "metadata": {
    "collapsed": true
   },
   "outputs": [],
   "source": [
    "# split into 5 folders for cross validation\n",
    "random.seed(2017)\n",
    "data.split(n_folds=5, shuffle=True)"
   ]
  },
  {
   "cell_type": "markdown",
   "metadata": {
    "collapsed": true
   },
   "source": [
    "# 1. [Normal Predictor Algorithm](http://surprise.readthedocs.io/en/stable/basic_algorithms.html#surprise.prediction_algorithms.random_pred.NormalPredictor)"
   ]
  },
  {
   "cell_type": "code",
   "execution_count": 5,
   "metadata": {
    "collapsed": false
   },
   "outputs": [
    {
     "name": "stdout",
     "output_type": "stream",
     "text": [
      "        Fold 1  Fold 2  Fold 3  Fold 4  Fold 5  Mean    \n",
      "RMSE    1.5077  1.5084  1.5031  1.5029  1.5114  1.5067  \n",
      "Mean RMSE is:\t 1.50669673281\n"
     ]
    }
   ],
   "source": [
    "# build the algorithm\n",
    "algo1 = NormalPredictor()\n",
    "\n",
    "# evaluate the performance of the algorithms\n",
    "perf1 = evaluate(algo1, data, measures=['RMSE'], verbose=False)\n",
    "print_perf(perf1)\n",
    "print('Mean RMSE is:\\t', np.mean(perf1['rmse']))"
   ]
  },
  {
   "cell_type": "markdown",
   "metadata": {},
   "source": [
    "# 2. [Baseline Only Algorithm](http://surprise.readthedocs.io/en/stable/basic_algorithms.html#surprise.prediction_algorithms.baseline_only.BaselineOnly)"
   ]
  },
  {
   "cell_type": "code",
   "execution_count": 6,
   "metadata": {
    "collapsed": false
   },
   "outputs": [
    {
     "name": "stdout",
     "output_type": "stream",
     "text": [
      "Estimating biases using als...\n",
      "Estimating biases using als...\n",
      "Estimating biases using als...\n",
      "Estimating biases using als...\n",
      "Estimating biases using als...\n",
      "        Fold 1  Fold 2  Fold 3  Fold 4  Fold 5  Mean    \n",
      "RMSE    0.9109  0.9082  0.9059  0.9084  0.9096  0.9086  \n",
      "Mean RMSE is:\t 0.908611796765\n"
     ]
    }
   ],
   "source": [
    "# define parameters\n",
    "bsl_options = {'method': 'als',\n",
    "               'n_epochs': 10,\n",
    "               'reg_i': 10,\n",
    "               'reg_u': 15}\n",
    "\n",
    "# build the algorithm\n",
    "algo2 = BaselineOnly(bsl_options=bsl_options)\n",
    "\n",
    "# evaluate the performance of the algorithms\n",
    "perf2 = evaluate(algo2, data, measures=['RMSE'], verbose=False)\n",
    "print_perf(perf2)\n",
    "print('Mean RMSE is:\\t', np.mean(perf2['rmse']))"
   ]
  },
  {
   "cell_type": "markdown",
   "metadata": {},
   "source": [
    "# 3. [KNN Basic Algorithm](http://surprise.readthedocs.io/en/stable/knn_inspired.html#surprise.prediction_algorithms.knns.KNNBasic)"
   ]
  },
  {
   "cell_type": "code",
   "execution_count": 7,
   "metadata": {
    "collapsed": false
   },
   "outputs": [
    {
     "name": "stdout",
     "output_type": "stream",
     "text": [
      "Computing the cosine similarity matrix...\n",
      "Done computing similarity matrix.\n",
      "Computing the cosine similarity matrix...\n",
      "Done computing similarity matrix.\n",
      "Computing the cosine similarity matrix...\n",
      "Done computing similarity matrix.\n",
      "Computing the cosine similarity matrix...\n",
      "Done computing similarity matrix.\n",
      "Computing the cosine similarity matrix...\n",
      "Done computing similarity matrix.\n",
      "        Fold 1  Fold 2  Fold 3  Fold 4  Fold 5  Mean    \n",
      "RMSE    0.9788  0.9763  0.9739  0.9762  0.9773  0.9765  \n",
      "Mean RMSE is:\t 0.976519164097\n"
     ]
    }
   ],
   "source": [
    "sim_options = {'name': 'cosine',\n",
    "               'user_based': True,\n",
    "               'shrinkage': 100}\n",
    "\n",
    "# build the algorithm\n",
    "algo3 = KNNBasic(k=40, min_k=1, sim_options=sim_options)\n",
    "\n",
    "# evaluate the performance of the algorithms\n",
    "perf3 = evaluate(algo3, data, measures=['RMSE'], verbose=False)\n",
    "print_perf(perf3)\n",
    "print('Mean RMSE is:\\t', np.mean(perf3['rmse']))"
   ]
  },
  {
   "cell_type": "code",
   "execution_count": 8,
   "metadata": {
    "collapsed": false
   },
   "outputs": [
    {
     "name": "stdout",
     "output_type": "stream",
     "text": [
      "Computing the cosine similarity matrix...\n",
      "Done computing similarity matrix.\n",
      "Computing the cosine similarity matrix...\n",
      "Done computing similarity matrix.\n",
      "Computing the cosine similarity matrix...\n",
      "Done computing similarity matrix.\n",
      "Computing the cosine similarity matrix...\n",
      "Done computing similarity matrix.\n",
      "Computing the cosine similarity matrix...\n",
      "Done computing similarity matrix.\n",
      "        Fold 1  Fold 2  Fold 3  Fold 4  Fold 5  Mean    \n",
      "RMSE    1.0015  0.9992  0.9962  0.9991  0.9997  0.9991  \n",
      "Mean RMSE is:\t 0.999130903852\n"
     ]
    }
   ],
   "source": [
    "sim_options = {'name': 'cosine',\n",
    "               'user_based': False,\n",
    "               'shrinkage': 100}\n",
    "\n",
    "# build the algorithm\n",
    "algo3 = KNNBasic(k=40, min_k=1, sim_options=sim_options)\n",
    "\n",
    "# evaluate the performance of the algorithms\n",
    "perf3 = evaluate(algo3, data, measures=['RMSE'], verbose=False)\n",
    "print_perf(perf3)\n",
    "print('Mean RMSE is:\\t', np.mean(perf3['rmse']))"
   ]
  },
  {
   "cell_type": "code",
   "execution_count": 9,
   "metadata": {
    "collapsed": false
   },
   "outputs": [
    {
     "name": "stdout",
     "output_type": "stream",
     "text": [
      "Computing the msd similarity matrix...\n",
      "Done computing similarity matrix.\n",
      "Computing the msd similarity matrix...\n",
      "Done computing similarity matrix.\n",
      "Computing the msd similarity matrix...\n",
      "Done computing similarity matrix.\n",
      "Computing the msd similarity matrix...\n",
      "Done computing similarity matrix.\n",
      "Computing the msd similarity matrix...\n",
      "Done computing similarity matrix.\n",
      "        Fold 1  Fold 2  Fold 3  Fold 4  Fold 5  Mean    \n",
      "RMSE    0.9251  0.9221  0.9201  0.9232  0.9237  0.9228  \n",
      "Mean RMSE is:\t 0.922827165445\n"
     ]
    }
   ],
   "source": [
    "sim_options = {'name': 'msd',\n",
    "               'user_based': True,\n",
    "               'shrinkage': 100}\n",
    "\n",
    "# build the algorithm\n",
    "algo3 = KNNBasic(k=40, min_k=1, sim_options=sim_options)\n",
    "\n",
    "# evaluate the performance of the algorithms\n",
    "perf3 = evaluate(algo3, data, measures=['RMSE'], verbose=False)\n",
    "print_perf(perf3)\n",
    "print('Mean RMSE is:\\t', np.mean(perf3['rmse']))"
   ]
  },
  {
   "cell_type": "code",
   "execution_count": 10,
   "metadata": {
    "collapsed": false
   },
   "outputs": [
    {
     "name": "stdout",
     "output_type": "stream",
     "text": [
      "Computing the msd similarity matrix...\n",
      "Done computing similarity matrix.\n",
      "Computing the msd similarity matrix...\n",
      "Done computing similarity matrix.\n",
      "Computing the msd similarity matrix...\n",
      "Done computing similarity matrix.\n",
      "Computing the msd similarity matrix...\n",
      "Done computing similarity matrix.\n",
      "Computing the msd similarity matrix...\n",
      "Done computing similarity matrix.\n",
      "        Fold 1  Fold 2  Fold 3  Fold 4  Fold 5  Mean    \n",
      "RMSE    0.9172  0.9141  0.9115  0.9150  0.9150  0.9145  \n",
      "Mean RMSE is:\t 0.914542128492\n"
     ]
    }
   ],
   "source": [
    "sim_options = {'name': 'msd',\n",
    "               'user_based': False,\n",
    "               'shrinkage': 100}\n",
    "\n",
    "# build the algorithm\n",
    "algo3 = KNNBasic(k=40, min_k=1, sim_options=sim_options)\n",
    "\n",
    "# evaluate the performance of the algorithms\n",
    "perf3 = evaluate(algo3, data, measures=['RMSE'], verbose=False)\n",
    "print_perf(perf3)\n",
    "print('Mean RMSE is:\\t', np.mean(perf3['rmse']))"
   ]
  },
  {
   "cell_type": "code",
   "execution_count": 11,
   "metadata": {
    "collapsed": false
   },
   "outputs": [
    {
     "name": "stdout",
     "output_type": "stream",
     "text": [
      "Computing the pearson similarity matrix...\n",
      "Done computing similarity matrix.\n",
      "Computing the pearson similarity matrix...\n",
      "Done computing similarity matrix.\n",
      "Computing the pearson similarity matrix...\n",
      "Done computing similarity matrix.\n",
      "Computing the pearson similarity matrix...\n",
      "Done computing similarity matrix.\n",
      "Computing the pearson similarity matrix...\n",
      "Done computing similarity matrix.\n",
      "        Fold 1  Fold 2  Fold 3  Fold 4  Fold 5  Mean    \n",
      "RMSE    0.9646  0.9621  0.9587  0.9618  0.9632  0.9621  \n",
      "Mean RMSE is:\t 0.962065276915\n"
     ]
    }
   ],
   "source": [
    "sim_options = {'name': 'pearson',\n",
    "               'user_based': True,\n",
    "               'shrinkage': 100}\n",
    "\n",
    "# build the algorithm\n",
    "algo3 = KNNBasic(k=40, min_k=1, sim_options=sim_options)\n",
    "\n",
    "# evaluate the performance of the algorithms\n",
    "perf3 = evaluate(algo3, data, measures=['RMSE'], verbose=False)\n",
    "print_perf(perf3)\n",
    "print('Mean RMSE is:\\t', np.mean(perf3['rmse']))"
   ]
  },
  {
   "cell_type": "code",
   "execution_count": 12,
   "metadata": {
    "collapsed": false
   },
   "outputs": [
    {
     "name": "stdout",
     "output_type": "stream",
     "text": [
      "Computing the pearson similarity matrix...\n",
      "Done computing similarity matrix.\n",
      "Computing the pearson similarity matrix...\n",
      "Done computing similarity matrix.\n",
      "Computing the pearson similarity matrix...\n",
      "Done computing similarity matrix.\n",
      "Computing the pearson similarity matrix...\n",
      "Done computing similarity matrix.\n",
      "Computing the pearson similarity matrix...\n",
      "Done computing similarity matrix.\n",
      "        Fold 1  Fold 2  Fold 3  Fold 4  Fold 5  Mean    \n",
      "RMSE    0.9976  0.9941  0.9906  0.9949  0.9965  0.9947  \n",
      "Mean RMSE is:\t 0.994737329049\n"
     ]
    }
   ],
   "source": [
    "sim_options = {'name': 'pearson',\n",
    "               'user_based': False,\n",
    "               'shrinkage': 100}\n",
    "\n",
    "# build the algorithm\n",
    "algo3 = KNNBasic(k=40, min_k=1, sim_options=sim_options)\n",
    "\n",
    "# evaluate the performance of the algorithms\n",
    "perf3 = evaluate(algo3, data, measures=['RMSE'], verbose=False)\n",
    "print_perf(perf3)\n",
    "print('Mean RMSE is:\\t', np.mean(perf3['rmse']))"
   ]
  },
  {
   "cell_type": "code",
   "execution_count": 13,
   "metadata": {
    "collapsed": false
   },
   "outputs": [
    {
     "name": "stdout",
     "output_type": "stream",
     "text": [
      "Estimating biases using als...\n",
      "Computing the pearson_baseline similarity matrix...\n",
      "Done computing similarity matrix.\n",
      "Estimating biases using als...\n",
      "Computing the pearson_baseline similarity matrix...\n",
      "Done computing similarity matrix.\n",
      "Estimating biases using als...\n",
      "Computing the pearson_baseline similarity matrix...\n",
      "Done computing similarity matrix.\n",
      "Estimating biases using als...\n",
      "Computing the pearson_baseline similarity matrix...\n",
      "Done computing similarity matrix.\n",
      "Estimating biases using als...\n",
      "Computing the pearson_baseline similarity matrix...\n",
      "Done computing similarity matrix.\n",
      "        Fold 1  Fold 2  Fold 3  Fold 4  Fold 5  Mean    \n",
      "RMSE    0.9287  0.9268  0.9247  0.9268  0.9287  0.9272  \n",
      "Mean RMSE is:\t 0.927154646769\n"
     ]
    }
   ],
   "source": [
    "sim_options = {'name': 'pearson_baseline',\n",
    "               'user_based': True,\n",
    "               'shrinkage': 100}\n",
    "\n",
    "# build the algorithm\n",
    "algo3 = KNNBasic(k=40, min_k=1, sim_options=sim_options)\n",
    "\n",
    "# evaluate the performance of the algorithms\n",
    "perf3 = evaluate(algo3, data, measures=['RMSE'], verbose=False)\n",
    "print_perf(perf3)\n",
    "print('Mean RMSE is:\\t', np.mean(perf3['rmse']))"
   ]
  },
  {
   "cell_type": "code",
   "execution_count": 14,
   "metadata": {
    "collapsed": false
   },
   "outputs": [
    {
     "name": "stdout",
     "output_type": "stream",
     "text": [
      "Estimating biases using als...\n",
      "Computing the pearson_baseline similarity matrix...\n",
      "Done computing similarity matrix.\n",
      "Estimating biases using als...\n",
      "Computing the pearson_baseline similarity matrix...\n",
      "Done computing similarity matrix.\n",
      "Estimating biases using als...\n",
      "Computing the pearson_baseline similarity matrix...\n",
      "Done computing similarity matrix.\n",
      "Estimating biases using als...\n",
      "Computing the pearson_baseline similarity matrix...\n",
      "Done computing similarity matrix.\n",
      "Estimating biases using als...\n",
      "Computing the pearson_baseline similarity matrix...\n",
      "Done computing similarity matrix.\n",
      "        Fold 1  Fold 2  Fold 3  Fold 4  Fold 5  Mean    \n",
      "RMSE    0.9293  0.9263  0.9248  0.9273  0.9272  0.9270  \n",
      "Mean RMSE is:\t 0.926971165772\n"
     ]
    }
   ],
   "source": [
    "sim_options = {'name': 'pearson_baseline',\n",
    "               'user_based': False,\n",
    "               'shrinkage': 100}\n",
    "\n",
    "# build the algorithm\n",
    "algo3 = KNNBasic(k=40, min_k=1, sim_options=sim_options)\n",
    "\n",
    "# evaluate the performance of the algorithms\n",
    "perf3 = evaluate(algo3, data, measures=['RMSE'], verbose=False)\n",
    "print_perf(perf3)\n",
    "print('Mean RMSE is:\\t', np.mean(perf3['rmse']))"
   ]
  },
  {
   "cell_type": "markdown",
   "metadata": {},
   "source": [
    "# 4. [KNN with Means Algorithm](http://surprise.readthedocs.io/en/stable/knn_inspired.html#surprise.prediction_algorithms.knns.KNNWithMeans)"
   ]
  },
  {
   "cell_type": "code",
   "execution_count": 15,
   "metadata": {
    "collapsed": false
   },
   "outputs": [
    {
     "name": "stdout",
     "output_type": "stream",
     "text": [
      "Computing the msd similarity matrix...\n",
      "Done computing similarity matrix.\n",
      "Computing the msd similarity matrix...\n",
      "Done computing similarity matrix.\n",
      "Computing the msd similarity matrix...\n",
      "Done computing similarity matrix.\n",
      "Computing the msd similarity matrix...\n",
      "Done computing similarity matrix.\n",
      "Computing the msd similarity matrix...\n",
      "Done computing similarity matrix.\n",
      "        Fold 1  Fold 2  Fold 3  Fold 4  Fold 5  Mean    \n",
      "RMSE    0.9324  0.9286  0.9250  0.9295  0.9304  0.9292  \n",
      "Mean RMSE is:\t 0.929183217612\n"
     ]
    }
   ],
   "source": [
    "sim_options = {'name': 'msd',\n",
    "               'user_based': True,\n",
    "               'shrinkage': 100}\n",
    "\n",
    "# build the algorithm\n",
    "algo4 = KNNWithMeans(k=40, min_k=1, sim_options=sim_options)\n",
    "\n",
    "# evaluate the performance of the algorithms\n",
    "perf4 = evaluate(algo4, data, measures=['RMSE'], verbose=False)\n",
    "print_perf(perf4)\n",
    "print('Mean RMSE is:\\t', np.mean(perf4['rmse']))"
   ]
  },
  {
   "cell_type": "code",
   "execution_count": 16,
   "metadata": {
    "collapsed": false
   },
   "outputs": [
    {
     "name": "stdout",
     "output_type": "stream",
     "text": [
      "Computing the msd similarity matrix...\n",
      "Done computing similarity matrix.\n",
      "Computing the msd similarity matrix...\n",
      "Done computing similarity matrix.\n",
      "Computing the msd similarity matrix...\n",
      "Done computing similarity matrix.\n",
      "Computing the msd similarity matrix...\n",
      "Done computing similarity matrix.\n",
      "Computing the msd similarity matrix...\n",
      "Done computing similarity matrix.\n",
      "        Fold 1  Fold 2  Fold 3  Fold 4  Fold 5  Mean    \n",
      "RMSE    0.8883  0.8843  0.8832  0.8855  0.8867  0.8856  \n",
      "Mean RMSE is:\t 0.885608554713\n"
     ]
    }
   ],
   "source": [
    "sim_options = {'name': 'msd',\n",
    "               'user_based': False,\n",
    "               'shrinkage': 100}\n",
    "\n",
    "# build the algorithm\n",
    "algo4 = KNNWithMeans(k=40, min_k=1, sim_options=sim_options)\n",
    "\n",
    "# evaluate the performance of the algorithms\n",
    "perf4 = evaluate(algo4, data, measures=['RMSE'], verbose=False)\n",
    "print_perf(perf4)\n",
    "print('Mean RMSE is:\\t', np.mean(perf4['rmse']))"
   ]
  },
  {
   "cell_type": "markdown",
   "metadata": {},
   "source": [
    "# 5. [KNN Base Line Algorithm](http://surprise.readthedocs.io/en/stable/knn_inspired.html#surprise.prediction_algorithms.knns.KNNBaseline)"
   ]
  },
  {
   "cell_type": "code",
   "execution_count": 17,
   "metadata": {
    "collapsed": false
   },
   "outputs": [
    {
     "name": "stdout",
     "output_type": "stream",
     "text": [
      "Estimating biases using als...\n",
      "Computing the msd similarity matrix...\n",
      "Done computing similarity matrix.\n",
      "Estimating biases using als...\n",
      "Computing the msd similarity matrix...\n",
      "Done computing similarity matrix.\n",
      "Estimating biases using als...\n",
      "Computing the msd similarity matrix...\n",
      "Done computing similarity matrix.\n",
      "Estimating biases using als...\n",
      "Computing the msd similarity matrix...\n",
      "Done computing similarity matrix.\n",
      "Estimating biases using als...\n",
      "Computing the msd similarity matrix...\n",
      "Done computing similarity matrix.\n",
      "        Fold 1  Fold 2  Fold 3  Fold 4  Fold 5  Mean    \n",
      "RMSE    0.8976  0.8939  0.8923  0.8952  0.8957  0.8949  \n",
      "Mean RMSE is:\t 0.894939040978\n"
     ]
    }
   ],
   "source": [
    "# define parameters\n",
    "sim_options = {'name': 'msd',\n",
    "               'user_based': True,\n",
    "               'shrinkage': 100}\n",
    "\n",
    "bsl_options = {'method': 'als',\n",
    "               'n_epochs': 10,\n",
    "               'reg_i': 10,\n",
    "               'reg_u': 15}\n",
    "\n",
    "# build the algorithm\n",
    "algo5 = KNNBaseline(k=40, min_k=1, sim_options=sim_options, bsl_options=bsl_options)\n",
    "\n",
    "# evaluate the performance of the algorithms\n",
    "perf5 = evaluate(algo5, data, measures=['RMSE'], verbose=False)\n",
    "print_perf(perf5)\n",
    "print('Mean RMSE is:\\t', np.mean(perf5['rmse']))"
   ]
  },
  {
   "cell_type": "code",
   "execution_count": 18,
   "metadata": {
    "collapsed": false
   },
   "outputs": [
    {
     "name": "stdout",
     "output_type": "stream",
     "text": [
      "Estimating biases using als...\n",
      "Computing the msd similarity matrix...\n",
      "Done computing similarity matrix.\n",
      "Estimating biases using als...\n",
      "Computing the msd similarity matrix...\n",
      "Done computing similarity matrix.\n",
      "Estimating biases using als...\n",
      "Computing the msd similarity matrix...\n",
      "Done computing similarity matrix.\n",
      "Estimating biases using als...\n",
      "Computing the msd similarity matrix...\n",
      "Done computing similarity matrix.\n",
      "Estimating biases using als...\n",
      "Computing the msd similarity matrix...\n",
      "Done computing similarity matrix.\n",
      "        Fold 1  Fold 2  Fold 3  Fold 4  Fold 5  Mean    \n",
      "RMSE    0.8880  0.8843  0.8830  0.8854  0.8864  0.8854  \n",
      "Mean RMSE is:\t 0.885442839885\n"
     ]
    }
   ],
   "source": [
    "# define parameters\n",
    "sim_options = {'name': 'msd',\n",
    "               'user_based': False,\n",
    "               'shrinkage': 100}\n",
    "\n",
    "bsl_options = {'method': 'als',\n",
    "               'n_epochs': 10,\n",
    "               'reg_i': 10,\n",
    "               'reg_u': 15}\n",
    "\n",
    "# build the algorithm\n",
    "algo5 = KNNBaseline(k=40, min_k=1, sim_options=sim_options, bsl_options=bsl_options)\n",
    "\n",
    "# evaluate the performance of the algorithms\n",
    "perf5 = evaluate(algo5, data, measures=['RMSE'], verbose=False)\n",
    "print_perf(perf5)\n",
    "print('Mean RMSE is:\\t', np.mean(perf5['rmse']))"
   ]
  },
  {
   "cell_type": "markdown",
   "metadata": {},
   "source": [
    "# 6. [NMF Algorithm](http://surprise.readthedocs.io/en/stable/matrix_factorization.html#surprise.prediction_algorithms.matrix_factorization.NMF)"
   ]
  },
  {
   "cell_type": "code",
   "execution_count": 25,
   "metadata": {
    "collapsed": false
   },
   "outputs": [
    {
     "name": "stdout",
     "output_type": "stream",
     "text": [
      "        Fold 1  Fold 2  Fold 3  Fold 4  Fold 5  Mean    \n",
      "RMSE    0.9191  0.9167  0.9160  0.9172  0.9180  0.9174  \n",
      "Mean RMSE is:\t 0.917406759606\n"
     ]
    }
   ],
   "source": [
    "# build the algorithm\n",
    "algo8 = NMF(n_factors=15, n_epochs=50, biased=False, reg_pu=.06,\n",
    "            reg_qi=.06, reg_bu=.02, reg_bi=.02, lr_bu=.005, lr_bi=.005,\n",
    "            init_low=0, init_high=1, verbose=False)\n",
    "\n",
    "# evaluate the performance of the algorithms\n",
    "perf8 = evaluate(algo8, data, measures=['RMSE'], verbose=False)\n",
    "print_perf(perf8)\n",
    "print('Mean RMSE is:\\t', np.mean(perf8['rmse']))"
   ]
  },
  {
   "cell_type": "markdown",
   "metadata": {},
   "source": [
    "# 7. [Slope One Algorithm](http://surprise.readthedocs.io/en/stable/slope_one.html#surprise.prediction_algorithms.slope_one.SlopeOne)"
   ]
  },
  {
   "cell_type": "code",
   "execution_count": 26,
   "metadata": {
    "collapsed": false
   },
   "outputs": [
    {
     "name": "stdout",
     "output_type": "stream",
     "text": [
      "        Fold 1  Fold 2  Fold 3  Fold 4  Fold 5  Mean    \n",
      "RMSE    0.9093  0.9058  0.9039  0.9063  0.9071  0.9065  \n",
      "Mean RMSE is:\t 0.906460992007\n"
     ]
    }
   ],
   "source": [
    "# build the algorithm\n",
    "algo9 = SlopeOne()\n",
    "\n",
    "# evaluate the performance of the algorithms\n",
    "perf9 = evaluate(algo9, data, measures=['RMSE'], verbose=False)\n",
    "print_perf(perf9)\n",
    "print('Mean RMSE is:\\t', np.mean(perf9['rmse']))"
   ]
  },
  {
   "cell_type": "markdown",
   "metadata": {},
   "source": [
    "# 8. [Co-Clustering Algorithm](http://surprise.readthedocs.io/en/stable/co_clustering.html#surprise.prediction_algorithms.co_clustering.CoClustering)"
   ]
  },
  {
   "cell_type": "code",
   "execution_count": 27,
   "metadata": {
    "collapsed": false
   },
   "outputs": [
    {
     "name": "stdout",
     "output_type": "stream",
     "text": [
      "        Fold 1  Fold 2  Fold 3  Fold 4  Fold 5  Mean    \n",
      "RMSE    0.9178  0.9168  0.9113  0.9158  0.9165  0.9156  \n",
      "Mean RMSE is:\t 0.91563420467\n"
     ]
    }
   ],
   "source": [
    "# build the algorithm\n",
    "algo10 = CoClustering(n_cltr_u=3, n_cltr_i=3, n_epochs=20, verbose=False)\n",
    "\n",
    "# evaluate the performance of the algorithms\n",
    "perf10 = evaluate(algo10, data, measures=['RMSE'], verbose=False)\n",
    "print_perf(perf10)\n",
    "print('Mean RMSE is:\\t', np.mean(perf10['rmse']))"
   ]
  },
  {
   "cell_type": "markdown",
   "metadata": {},
   "source": [
    "# 9. [SVD Algorithm](http://surprise.readthedocs.io/en/stable/matrix_factorization.html#surprise.prediction_algorithms.matrix_factorization.SVD)"
   ]
  },
  {
   "cell_type": "code",
   "execution_count": 19,
   "metadata": {
    "collapsed": false
   },
   "outputs": [
    {
     "name": "stdout",
     "output_type": "stream",
     "text": [
      "        Fold 1  Fold 2  Fold 3  Fold 4  Fold 5  Mean    \n",
      "RMSE    0.8756  0.8727  0.8727  0.8742  0.8748  0.8740  \n",
      "Mean RMSE is:\t 0.874007308912\n"
     ]
    }
   ],
   "source": [
    "# build the algorithm\n",
    "algo6 = SVD(n_factors=100, n_epochs=20, biased=True, init_mean=0,\n",
    "            init_std_dev=.1, lr_all=.005,\n",
    "            reg_all=.02, lr_bu=None, lr_bi=None, lr_pu=None, lr_qi=None,\n",
    "            reg_bu=None, reg_bi=None, reg_pu=None, reg_qi=None,\n",
    "            verbose=False)\n",
    "\n",
    "# evaluate the performance of the algorithms\n",
    "perf6 = evaluate(algo6, data, measures=['RMSE'], verbose=False)\n",
    "print_perf(perf6)\n",
    "print('Mean RMSE is:\\t', np.mean(perf6['rmse']))"
   ]
  },
  {
   "cell_type": "markdown",
   "metadata": {},
   "source": [
    "# 10. [SVD++ Algorithm](http://surprise.readthedocs.io/en/stable/matrix_factorization.html#surprise.prediction_algorithms.matrix_factorization.SVDpp)"
   ]
  },
  {
   "cell_type": "code",
   "execution_count": 24,
   "metadata": {
    "collapsed": false
   },
   "outputs": [],
   "source": [
    "# build the algorithm\n",
    "algo7 = SVDpp(n_factors=20, n_epochs=20, init_mean=0, init_std_dev=.1,\n",
    "              lr_all=.007, reg_all=.02, lr_bu=None, lr_bi=None, lr_pu=None,\n",
    "              lr_qi=None, lr_yj=None, reg_bu=None, reg_bi=None, reg_pu=None,\n",
    "              reg_qi=None, reg_yj=None, verbose=False)\n",
    "\n",
    "# evaluate the performance of the algorithms\n",
    "perf7 = evaluate(algo7, data, measures=['RMSE'], verbose=False)\n",
    "print_perf(perf7)\n",
    "print('Mean RMSE is:\\t', np.mean(perf7['rmse']))"
   ]
  },
  {
   "cell_type": "markdown",
   "metadata": {},
   "source": [
    "# End of the program"
   ]
  },
  {
   "cell_type": "code",
   "execution_count": 31,
   "metadata": {
    "collapsed": false
   },
   "outputs": [
    {
     "name": "stdout",
     "output_type": "stream",
     "text": [
      "Program running time\n",
      "\n",
      "Start time:\t1494021067\n",
      "Stop  time:\t1494038752\n",
      "Total time:\t  17684.45 seconds\n"
     ]
    }
   ],
   "source": [
    "# get the total code used time information\n",
    "t_end = time.time()\n",
    "print(\"Program running time\\n\")\n",
    "print('Start time:\\t{0:10.0f}'.format(t_start))\n",
    "print('Stop  time:\\t{0:10.0f}'.format(t_end))\n",
    "print('Total time:\\t{0:10.2f} seconds'.format(t_end - t_start))"
   ]
  },
  {
   "cell_type": "code",
   "execution_count": null,
   "metadata": {
    "collapsed": true
   },
   "outputs": [],
   "source": []
  }
 ],
 "metadata": {
  "kernelspec": {
   "display_name": "Python [conda root]",
   "language": "python",
   "name": "conda-root-py"
  },
  "language_info": {
   "codemirror_mode": {
    "name": "ipython",
    "version": 3
   },
   "file_extension": ".py",
   "mimetype": "text/x-python",
   "name": "python",
   "nbconvert_exporter": "python",
   "pygments_lexer": "ipython3",
   "version": "3.5.3"
  }
 },
 "nbformat": 4,
 "nbformat_minor": 2
}
