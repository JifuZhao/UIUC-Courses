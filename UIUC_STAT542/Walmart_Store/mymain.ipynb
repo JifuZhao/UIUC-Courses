{
 "cells": [
  {
   "cell_type": "code",
   "execution_count": 14,
   "metadata": {
    "collapsed": false
   },
   "outputs": [],
   "source": [
    "setwd('/Users/jifu/GitHub/Courses/UIUC_Courses/UIUC_STAT542/Walmart_Store/')\n",
    "options(warn=-1)\n",
    "\n",
    "# import required library\n",
    "if (!require(lubridate)) {\n",
    "    install.packages('lubridate')\n",
    "}\n",
    "if (!require(forecast)) {\n",
    "    install.packages('forecast')\n",
    "}\n",
    "if (!require(plyr)) {\n",
    "    install.packages('plyr')\n",
    "}\n",
    "\n",
    "library(lubridate)  # convert date information\n",
    "library(forecast)  # make forecast\n",
    "library(plyr)\n",
    "\n",
    "# ------------------------------------------\n",
    "# load the data\n",
    "train = read.csv('./train.csv')\n",
    "test = read.csv('./test.csv')\n",
    "\n",
    "# ------------------------------------------\n",
    "# transform into numerical value\n",
    "train$IsHoliday = as.numeric(train$IsHoliday)\n",
    "test$IsHoliday = as.numeric(test$IsHoliday)\n",
    "\n",
    "# transform the date\n",
    "train$Date = as.Date(train$Date, '%Y-%m-%d')\n",
    "test$Date = as.Date(test$Date, '%Y-%m-%d')\n",
    "\n",
    "# get the year and month information\n",
    "train$year = year(train$Date)\n",
    "test$year = year(test$Date)\n",
    "\n",
    "train$month = month(train$Date)\n",
    "test$month = month(test$Date)\n",
    "\n",
    "# get week information\n",
    "train.week = train$Date\n",
    "start_date = train.week[1]\n",
    "train.week = train.week - start_date  # date is now 0, 7, 14, ...\n",
    "train.week = train.week / 7 + 5  # make 2010-02-05 as '5'\n",
    "train.week = as.numeric(train.week) %% 52  ## 52 weeks in a year\n",
    "train$week = train.week\n",
    "\n",
    "test.week = test$Date\n",
    "test.week = test.week - start_date\n",
    "test.week = test.week / 7 + 5  # make 2010-02-05 as '5'\n",
    "test.week = as.numeric(test.week) %% 52\n",
    "test$week = test.week\n",
    "\n",
    "start.time = Sys.time()  # get time information\n",
    "\n",
    "# ------------------------------------------\n",
    "for (t in 1:20) {\n",
    "    month = 2 + t\n",
    "    year = 2011\n",
    "    if (month > 12) {\n",
    "        month = month - 12\n",
    "        year = 2011 + 1\n",
    "    }\n",
    "    \n",
    "    # get the tmp test data\n",
    "    tmp.test = test[(test$year == year) & (test$month == month), ]\n",
    "    \n",
    "    # get the length of unique store and department\n",
    "    store = sort(unique(tmp.test$Store))\n",
    "    n.store = length(store)\n",
    "    dept = sort(unique(tmp.test$Dept))\n",
    "    n.dept = length(dept)\n",
    "    \n",
    "    # get the unique Date information\n",
    "    Date = sort(unique(train$Date))\n",
    "    \n",
    "    # choose the median value from the last year, in week-1, week, and week+1\n",
    "    for (s in 1:n.store){\n",
    "        for (d in 1:n.dept){\n",
    "            \n",
    "            # find the data for (store, dept) = (s, d)\n",
    "            test.id = which(test$Store == store[s] & test$Dept == dept[d] &\n",
    "                            test$year == year & test$month == month)\n",
    "            test.temp = test[test.id, ]\n",
    "            train.id = which(train$Store == store[s] & train$Dept == dept[d])\n",
    "            train.temp = train[train.id, ]\n",
    "            \n",
    "            # skip if no test data\n",
    "            if (length(test.id) == 0) {\n",
    "                next\n",
    "            }\n",
    "            \n",
    "            # ------------------------------------------\n",
    "            #             model 1\n",
    "            # ------------------------------------------\n",
    "            for (i in 1:length(test.id)){\n",
    "                id.1 = which(train.temp$week == test.temp[i,]$week - 1 & \n",
    "                             train.temp$year == test.temp[i,]$year - 1)\n",
    "                id.2 = which(train.temp$week == test.temp[i,]$week & \n",
    "                             train.temp$year == test.temp[i,]$year - 1)\n",
    "                id.3 = which(train.temp$week == test.temp[i,]$week + 1 & \n",
    "                             train.temp$year == test.temp[i,]$year - 1)\n",
    "                id = c(id.1, id.2, id.3)\n",
    "                \n",
    "                # three weeks in the last year\n",
    "                tempSales = train.temp[id, 'Weekly_Sales']\n",
    "                \n",
    "                if (length(tempSales) == 0){\n",
    "                    test$Weekly_Pred1[test.id[i]] = 0\n",
    "                }else{\n",
    "                    test$Weekly_Pred1[test.id[i]] = median(tempSales)\n",
    "                }\n",
    "            }\n",
    "            \n",
    "            # ------------------------------------------\n",
    "            #             model 2\n",
    "            # ------------------------------------------\n",
    "            if (length(train.id) < 50){\n",
    "                test$Weekly_Pred2[test.id] = test$Weekly_Pred1[test.id]\n",
    "            } else{\n",
    "                tmp.left = as.data.frame(Date)\n",
    "                tmp.right = train.temp[, c('Date', 'Weekly_Sales')]\n",
    "                joined = join(tmp.left, tmp.right, by='Date')\n",
    "#                 joined[is.na(joined)] = 0\n",
    "                joined$Weekly_Sales[which(is.na(joined))] = median(joined$Weekly_Sales)\n",
    "                tmp.ts = ts(joined$Weekly_Sales, frequency=52)\n",
    "\n",
    "                # fit a auto arima model\n",
    "                fit = auto.arima(tmp.ts, seasonal=TRUE, allowdrift=TRUE)\n",
    "                fc = forecast(fit, h=length(test.id))\n",
    "                test$Weekly_Pred2[test.id] = fc$mean\n",
    "            }\n",
    "        }\n",
    "    }\n",
    "    \n",
    "    # read new input file\n",
    "    tmp.filename = paste('xxx', t, '.csv', sep='');\n",
    "    newtest = read.csv(tmp.filename)\n",
    "    \n",
    "    # transform the date\n",
    "    newtest$Date = as.Date(newtest$Date, '%Y-%m-%d')\n",
    "\n",
    "    # get the year and month information\n",
    "    newtest$year = year(newtest$Date)\n",
    "    newtest$month = month(newtest$Date)\n",
    "    \n",
    "    # process the date\n",
    "    tmp.week = newtest$Date\n",
    "    tmp.week = tmp.week - start_date\n",
    "    tmp.week = tmp.week / 7 + 5  # make 2010-02-05 as '5'\n",
    "    tmp.week = as.numeric(tmp.week) %% 52\n",
    "    newtest$week = tmp.week\n",
    "    \n",
    "    # merge together\n",
    "    train = rbind(train, newtest[, names(train)])\n",
    "}\n",
    "\n",
    "# choose the average as the thrid prediction\n",
    "test$Weekly_Pred3 = (test$Weekly_Pred1 + test$Weekly_Pred2) / 2.0\n",
    "\n",
    "# ------------------------------------------\n",
    "# helper part\n",
    "end.time = Sys.time()\n",
    "cat('Start time:\\t', as.character(start.time))\n",
    "cat('End time:\\t', as.character(end.time))\n",
    "cat('Total time:\\t', end.time - start.time, '\\n')\n",
    "\n",
    "# define weight w\n",
    "weight = 4 * test$IsHoliday + 1\n",
    "\n",
    "# calculate the performance of different models\n",
    "WMAE1 = sum(weight * abs(test$Weekly_Pred1 - test$Weekly_Sales)) / sum(weight)\n",
    "WMAE2 = sum(weight * abs(test$Weekly_Pred2 - test$Weekly_Sales)) / sum(weight)\n",
    "WMAE3 = sum(weight * abs(test$Weekly_Pred3 - test$Weekly_Sales)) / sum(weight)\n",
    "\n",
    "# output the performance of different models\n",
    "cat('Comparison of three models\\n')\n",
    "cat(WMAE1, '\\t', WMAE2, '\\t', WMAE3, '\\n')"
   ]
  },
  {
   "cell_type": "markdown",
   "metadata": {},
   "source": [
    "# NA values"
   ]
  },
  {
   "cell_type": "code",
   "execution_count": 12,
   "metadata": {
    "collapsed": false
   },
   "outputs": [
    {
     "data": {
      "text/html": [],
      "text/latex": [],
      "text/markdown": [],
      "text/plain": [
       "integer(0)"
      ]
     },
     "metadata": {},
     "output_type": "display_data"
    }
   ],
   "source": [
    "head(which(is.na(test)))"
   ]
  },
  {
   "cell_type": "markdown",
   "metadata": {},
   "source": [
    "# Performance test\n",
    "* According to the definition of the weighted mean absolute error (WMAE)\n",
    "* Link to Kaggle: [Walmart Recruiting - Store Sales Forecasting](https://www.kaggle.com/c/walmart-recruiting-store-sales-forecasting#evaluation)"
   ]
  },
  {
   "cell_type": "code",
   "execution_count": 13,
   "metadata": {
    "collapsed": false
   },
   "outputs": [
    {
     "name": "stdout",
     "output_type": "stream",
     "text": [
      "16168.23 \t 15061.41 \t 16168.23 \n"
     ]
    }
   ],
   "source": [
    "# define weight w\n",
    "weight = 4 * test$IsHoliday + 1\n",
    "\n",
    "# calculate the performance of different models\n",
    "WMAE1 = sum(weight * abs(test$Weekly_Pred1 - test$Weekly_Sales)) / sum(weight)\n",
    "WMAE2 = sum(weight * abs(test$Weekly_Pred2 - test$Weekly_Sales)) / sum(weight)\n",
    "WMAE3 = sum(weight * abs(test$Weekly_Pred3 - test$Weekly_Sales)) / sum(weight)\n",
    "\n",
    "# output the performance of different models\n",
    "cat(WMAE1, '\\t', WMAE2, '\\t', WMAE3, '\\n')"
   ]
  },
  {
   "cell_type": "markdown",
   "metadata": {},
   "source": [
    "# Model 1\n",
    "\n",
    "* use the information from the previous year\n",
    "* the same department, same store\n",
    "* week - 1, week, week + 1"
   ]
  },
  {
   "cell_type": "code",
   "execution_count": null,
   "metadata": {
    "collapsed": true
   },
   "outputs": [],
   "source": []
  },
  {
   "cell_type": "markdown",
   "metadata": {},
   "source": [
    "# Model 2\n",
    "\n",
    "* use the information from the previous years\n",
    "* the same department, but different stores\n",
    "* use the median of the same week"
   ]
  },
  {
   "cell_type": "code",
   "execution_count": null,
   "metadata": {
    "collapsed": true
   },
   "outputs": [],
   "source": []
  },
  {
   "cell_type": "markdown",
   "metadata": {},
   "source": [
    "# Model 3\n",
    "\n",
    "* use the information from the previous years\n",
    "* the same department, same store\n",
    "* use all weeks' information to make forecast"
   ]
  },
  {
   "cell_type": "code",
   "execution_count": null,
   "metadata": {
    "collapsed": true
   },
   "outputs": [],
   "source": []
  },
  {
   "cell_type": "markdown",
   "metadata": {},
   "source": [
    "# Model 4"
   ]
  },
  {
   "cell_type": "markdown",
   "metadata": {},
   "source": [
    "* not decided yet"
   ]
  },
  {
   "cell_type": "code",
   "execution_count": null,
   "metadata": {
    "collapsed": true
   },
   "outputs": [],
   "source": []
  },
  {
   "cell_type": "code",
   "execution_count": 15,
   "metadata": {
    "collapsed": true
   },
   "outputs": [],
   "source": [
    "# # get the length of unique department\n",
    "# dept = sort(unique(test$Dept))\n",
    "# n.dept = length(dept)\n",
    "\n",
    "# # choose the median value from the last year, in week - 1, week, and week + 1\n",
    "# for (d in 1:n.dept){\n",
    "# #     cat(\"Department: \", dept[d], \"\\n\")\n",
    "#     # find the data for (store, dept) = (s, d)\n",
    "#     test.id = which(test$Dept == dept[d])\n",
    "#     test.temp = test[test.id, ]\n",
    "#     train.id = which(train$Dept == dept[d])\n",
    "#     train.temp = train[train.id, ]\n",
    "\n",
    "#     for (i in 1:length(test.id)){\n",
    "#         id = which(train.temp$week == test.temp[i,]$week & train.temp$year < test.temp[i,]$year)\n",
    "#         tempSales = train.temp[id, 'Weekly_Sales']\n",
    "#         if (length(tempSales) == 0){\n",
    "#             test$Weekly_Pred2[test.id[i]] = 0\n",
    "#         }else{\n",
    "#             test$Weekly_Pred2[test.id[i]] = median(tempSales)\n",
    "#         }\n",
    "#     }\n",
    "# }"
   ]
  },
  {
   "cell_type": "code",
   "execution_count": null,
   "metadata": {
    "collapsed": true
   },
   "outputs": [],
   "source": []
  }
 ],
 "metadata": {
  "kernelspec": {
   "display_name": "R",
   "language": "R",
   "name": "ir"
  },
  "language_info": {
   "codemirror_mode": "r",
   "file_extension": ".r",
   "mimetype": "text/x-r-source",
   "name": "R",
   "pygments_lexer": "r",
   "version": "3.3.2"
  }
 },
 "nbformat": 4,
 "nbformat_minor": 2
}
