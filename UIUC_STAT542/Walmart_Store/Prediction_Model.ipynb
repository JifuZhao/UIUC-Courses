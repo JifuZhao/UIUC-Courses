{
 "cells": [
  {
   "cell_type": "code",
   "execution_count": 1,
   "metadata": {
    "collapsed": false
   },
   "outputs": [
    {
     "name": "stderr",
     "output_type": "stream",
     "text": [
      "Loading required package: lubridate\n",
      "\n",
      "Attaching package: ‘lubridate’\n",
      "\n",
      "The following object is masked from ‘package:base’:\n",
      "\n",
      "    date\n",
      "\n",
      "Loading required package: forecast\n"
     ]
    }
   ],
   "source": [
    "options(warn=-1)\n",
    "\n",
    "# import required library\n",
    "if (!require(lubridate)) {\n",
    "    install.packages('lubridate')\n",
    "}\n",
    "if (!require(forecast)) {\n",
    "    install.packages('forecast')\n",
    "}\n",
    "\n",
    "library(lubridate)  # convert date information\n",
    "library(forecast)  # make forecast"
   ]
  },
  {
   "cell_type": "markdown",
   "metadata": {},
   "source": [
    "# Data Processing"
   ]
  },
  {
   "cell_type": "code",
   "execution_count": 2,
   "metadata": {
    "collapsed": true
   },
   "outputs": [],
   "source": [
    "# load the data\n",
    "train = read.csv('./train.csv')\n",
    "test = read.csv('./test.csv')"
   ]
  },
  {
   "cell_type": "code",
   "execution_count": 3,
   "metadata": {
    "collapsed": true
   },
   "outputs": [],
   "source": [
    "# transform the date\n",
    "train$Date = as.Date(train$Date, '%Y-%m-%d')\n",
    "test$Date = as.Date(test$Date, '%Y-%m-%d')"
   ]
  },
  {
   "cell_type": "code",
   "execution_count": 4,
   "metadata": {
    "collapsed": true
   },
   "outputs": [],
   "source": [
    "# get the year and month information\n",
    "train$year = year(train$Date)\n",
    "test$year = year(test$Date)\n",
    "\n",
    "train$month = month(train$Date)\n",
    "test$month = month(test$Date)"
   ]
  },
  {
   "cell_type": "code",
   "execution_count": 5,
   "metadata": {
    "collapsed": false
   },
   "outputs": [],
   "source": [
    "# get week information\n",
    "train.week = train$Date\n",
    "train.week = train.week - train.week[1]  # date is now 0, 7, 14, ...\n",
    "train.week = train.week / 7 + 5  # make 2010-02-05 as '5'\n",
    "train.week = as.numeric(train.week) %% 52  ## 52 weeks in a year\n",
    "train$week = train.week\n",
    "\n",
    "test.week = test$Date\n",
    "test.week = test.week - test.week[1]\n",
    "test.week = test.week / 7 + 9 # make 2011-03-04 as '9'.\n",
    "test.week = as.numeric(test.week) %% 52\n",
    "test$week = test.week"
   ]
  },
  {
   "cell_type": "code",
   "execution_count": 6,
   "metadata": {
    "collapsed": false
   },
   "outputs": [
    {
     "data": {
      "text/html": [
       "<table>\n",
       "<thead><tr><th scope=col>Store</th><th scope=col>Dept</th><th scope=col>Date</th><th scope=col>Weekly_Sales</th><th scope=col>IsHoliday</th><th scope=col>Weekly_Pred1</th><th scope=col>Weekly_Pred2</th><th scope=col>Weekly_Pred3</th><th scope=col>year</th><th scope=col>month</th><th scope=col>week</th></tr></thead>\n",
       "<tbody>\n",
       "\t<tr><td>1         </td><td>1         </td><td>2011-03-04</td><td>20327.61  </td><td>FALSE     </td><td>0         </td><td>0         </td><td>0         </td><td>2011      </td><td>3         </td><td> 9        </td></tr>\n",
       "\t<tr><td>1         </td><td>1         </td><td>2011-03-11</td><td>21280.40  </td><td>FALSE     </td><td>0         </td><td>0         </td><td>0         </td><td>2011      </td><td>3         </td><td>10        </td></tr>\n",
       "\t<tr><td>1         </td><td>1         </td><td>2011-03-18</td><td>20334.23  </td><td>FALSE     </td><td>0         </td><td>0         </td><td>0         </td><td>2011      </td><td>3         </td><td>11        </td></tr>\n",
       "\t<tr><td>1         </td><td>1         </td><td>2011-03-25</td><td>20881.10  </td><td>FALSE     </td><td>0         </td><td>0         </td><td>0         </td><td>2011      </td><td>3         </td><td>12        </td></tr>\n",
       "\t<tr><td>1         </td><td>1         </td><td>2011-04-01</td><td>20398.09  </td><td>FALSE     </td><td>0         </td><td>0         </td><td>0         </td><td>2011      </td><td>4         </td><td>13        </td></tr>\n",
       "\t<tr><td>1         </td><td>1         </td><td>2011-04-08</td><td>23873.79  </td><td>FALSE     </td><td>0         </td><td>0         </td><td>0         </td><td>2011      </td><td>4         </td><td>14        </td></tr>\n",
       "</tbody>\n",
       "</table>\n"
      ],
      "text/latex": [
       "\\begin{tabular}{r|lllllllllll}\n",
       " Store & Dept & Date & Weekly\\_Sales & IsHoliday & Weekly\\_Pred1 & Weekly\\_Pred2 & Weekly\\_Pred3 & year & month & week\\\\\n",
       "\\hline\n",
       "\t 1          & 1          & 2011-03-04 & 20327.61   & FALSE      & 0          & 0          & 0          & 2011       & 3          &  9        \\\\\n",
       "\t 1          & 1          & 2011-03-11 & 21280.40   & FALSE      & 0          & 0          & 0          & 2011       & 3          & 10        \\\\\n",
       "\t 1          & 1          & 2011-03-18 & 20334.23   & FALSE      & 0          & 0          & 0          & 2011       & 3          & 11        \\\\\n",
       "\t 1          & 1          & 2011-03-25 & 20881.10   & FALSE      & 0          & 0          & 0          & 2011       & 3          & 12        \\\\\n",
       "\t 1          & 1          & 2011-04-01 & 20398.09   & FALSE      & 0          & 0          & 0          & 2011       & 4          & 13        \\\\\n",
       "\t 1          & 1          & 2011-04-08 & 23873.79   & FALSE      & 0          & 0          & 0          & 2011       & 4          & 14        \\\\\n",
       "\\end{tabular}\n"
      ],
      "text/markdown": [
       "\n",
       "Store | Dept | Date | Weekly_Sales | IsHoliday | Weekly_Pred1 | Weekly_Pred2 | Weekly_Pred3 | year | month | week | \n",
       "|---|---|---|---|---|---|\n",
       "| 1          | 1          | 2011-03-04 | 20327.61   | FALSE      | 0          | 0          | 0          | 2011       | 3          |  9         | \n",
       "| 1          | 1          | 2011-03-11 | 21280.40   | FALSE      | 0          | 0          | 0          | 2011       | 3          | 10         | \n",
       "| 1          | 1          | 2011-03-18 | 20334.23   | FALSE      | 0          | 0          | 0          | 2011       | 3          | 11         | \n",
       "| 1          | 1          | 2011-03-25 | 20881.10   | FALSE      | 0          | 0          | 0          | 2011       | 3          | 12         | \n",
       "| 1          | 1          | 2011-04-01 | 20398.09   | FALSE      | 0          | 0          | 0          | 2011       | 4          | 13         | \n",
       "| 1          | 1          | 2011-04-08 | 23873.79   | FALSE      | 0          | 0          | 0          | 2011       | 4          | 14         | \n",
       "\n",
       "\n"
      ],
      "text/plain": [
       "  Store Dept Date       Weekly_Sales IsHoliday Weekly_Pred1 Weekly_Pred2\n",
       "1 1     1    2011-03-04 20327.61     FALSE     0            0           \n",
       "2 1     1    2011-03-11 21280.40     FALSE     0            0           \n",
       "3 1     1    2011-03-18 20334.23     FALSE     0            0           \n",
       "4 1     1    2011-03-25 20881.10     FALSE     0            0           \n",
       "5 1     1    2011-04-01 20398.09     FALSE     0            0           \n",
       "6 1     1    2011-04-08 23873.79     FALSE     0            0           \n",
       "  Weekly_Pred3 year month week\n",
       "1 0            2011 3      9  \n",
       "2 0            2011 3     10  \n",
       "3 0            2011 3     11  \n",
       "4 0            2011 3     12  \n",
       "5 0            2011 4     13  \n",
       "6 0            2011 4     14  "
      ]
     },
     "metadata": {},
     "output_type": "display_data"
    }
   ],
   "source": [
    "head(test)"
   ]
  },
  {
   "cell_type": "markdown",
   "metadata": {},
   "source": [
    "# Model 1"
   ]
  },
  {
   "cell_type": "markdown",
   "metadata": {},
   "source": [
    "* use the information from the previous year\n",
    "* the same department, same store\n",
    "* week - 1, week, week + 1"
   ]
  },
  {
   "cell_type": "code",
   "execution_count": 8,
   "metadata": {
    "collapsed": false
   },
   "outputs": [],
   "source": [
    "# get the length of unique store and department\n",
    "store = sort(unique(test$Store))\n",
    "n.store = length(store)\n",
    "dept = sort(unique(test$Dept))\n",
    "n.dept = length(dept)"
   ]
  },
  {
   "cell_type": "code",
   "execution_count": 9,
   "metadata": {
    "collapsed": false
   },
   "outputs": [
    {
     "name": "stdout",
     "output_type": "stream",
     "text": [
      "Store:  1 \n",
      "Store:  2 \n",
      "Store:  3 \n",
      "Store:  4 \n",
      "Store:  5 \n",
      "Store:  6 \n",
      "Store:  7 \n",
      "Store:  8 \n",
      "Store:  9 \n",
      "Store:  10 \n",
      "Store:  11 \n",
      "Store:  12 \n",
      "Store:  13 \n",
      "Store:  14 \n",
      "Store:  15 \n",
      "Store:  16 \n",
      "Store:  17 \n",
      "Store:  18 \n",
      "Store:  19 \n",
      "Store:  20 \n",
      "Store:  21 \n",
      "Store:  22 \n",
      "Store:  23 \n",
      "Store:  24 \n",
      "Store:  25 \n",
      "Store:  26 \n",
      "Store:  27 \n",
      "Store:  28 \n",
      "Store:  29 \n",
      "Store:  30 \n",
      "Store:  31 \n",
      "Store:  32 \n",
      "Store:  33 \n",
      "Store:  34 \n",
      "Store:  35 \n",
      "Store:  36 \n",
      "Store:  37 \n",
      "Store:  38 \n",
      "Store:  39 \n",
      "Store:  40 \n",
      "Store:  41 \n",
      "Store:  42 \n",
      "Store:  43 \n",
      "Store:  44 \n",
      "Store:  45 \n"
     ]
    }
   ],
   "source": [
    "# choose the median value from the last year, in week - 1, week, and week + 1\n",
    "for (s in 1:n.store){\n",
    "#     cat(\"Store: \", store[s], \"\\n\")\n",
    "    for (d in 1:n.dept){\n",
    "        # find the data for (store, dept) = (s, d)\n",
    "        test.id = which(test$Store == store[s] & test$Dept == dept[d])\n",
    "        test.temp = test[test.id, ]\n",
    "        train.id = which(train$Store == store[s] & train$Dept == dept[d])\n",
    "        train.temp = train[train.id, ]\n",
    "        \n",
    "        for (i in 1:length(test.id)){\n",
    "            id = which(train.temp$week == test.temp[i,]$week & train.temp$year == test.temp[i,]$year - 1)\n",
    "            threeWeeksId = c(id - 1, id, id + 1)  ## three weeks in the last year\n",
    "            tempSales = train.temp[threeWeeksId, 'Weekly_Sales']\n",
    "            if (length(tempSales) == 0){\n",
    "                test$Weekly_Pred1[test.id[i]] = 0\n",
    "            }else{\n",
    "                test$Weekly_Pred1[test.id[i]] = median(tempSales)\n",
    "            }\n",
    "        }\n",
    "    }\n",
    "}"
   ]
  },
  {
   "cell_type": "markdown",
   "metadata": {},
   "source": [
    "# Model 2"
   ]
  },
  {
   "cell_type": "markdown",
   "metadata": {},
   "source": [
    "* use the information from the previous years\n",
    "* the same department, but different stores\n",
    "* use the median of the same week"
   ]
  },
  {
   "cell_type": "code",
   "execution_count": 10,
   "metadata": {
    "collapsed": true
   },
   "outputs": [],
   "source": [
    "# get the length of unique department\n",
    "dept = sort(unique(test$Dept))\n",
    "n.dept = length(dept)"
   ]
  },
  {
   "cell_type": "code",
   "execution_count": 11,
   "metadata": {
    "collapsed": false
   },
   "outputs": [
    {
     "name": "stdout",
     "output_type": "stream",
     "text": [
      "Department:  1 \n",
      "Department:  2 \n",
      "Department:  3 \n",
      "Department:  4 \n",
      "Department:  5 \n",
      "Department:  6 \n",
      "Department:  7 \n",
      "Department:  8 \n",
      "Department:  9 \n",
      "Department:  10 \n",
      "Department:  11 \n",
      "Department:  12 \n",
      "Department:  13 \n",
      "Department:  14 \n",
      "Department:  16 \n",
      "Department:  17 \n",
      "Department:  18 \n",
      "Department:  19 \n",
      "Department:  20 \n",
      "Department:  21 \n",
      "Department:  22 \n",
      "Department:  23 \n",
      "Department:  24 \n",
      "Department:  25 \n",
      "Department:  26 \n",
      "Department:  27 \n",
      "Department:  28 \n",
      "Department:  29 \n",
      "Department:  30 \n",
      "Department:  31 \n",
      "Department:  32 \n",
      "Department:  33 \n",
      "Department:  34 \n",
      "Department:  35 \n",
      "Department:  36 \n",
      "Department:  37 \n",
      "Department:  38 \n",
      "Department:  39 \n",
      "Department:  40 \n",
      "Department:  41 \n",
      "Department:  42 \n",
      "Department:  43 \n",
      "Department:  44 \n",
      "Department:  45 \n",
      "Department:  46 \n",
      "Department:  47 \n",
      "Department:  48 \n",
      "Department:  49 \n",
      "Department:  50 \n",
      "Department:  51 \n",
      "Department:  52 \n",
      "Department:  54 \n",
      "Department:  55 \n",
      "Department:  56 \n",
      "Department:  58 \n",
      "Department:  59 \n",
      "Department:  60 \n",
      "Department:  65 \n",
      "Department:  67 \n",
      "Department:  71 \n",
      "Department:  72 \n",
      "Department:  74 \n",
      "Department:  77 \n",
      "Department:  78 \n",
      "Department:  79 \n",
      "Department:  80 \n",
      "Department:  81 \n",
      "Department:  82 \n",
      "Department:  83 \n",
      "Department:  85 \n",
      "Department:  87 \n",
      "Department:  90 \n",
      "Department:  91 \n",
      "Department:  92 \n",
      "Department:  93 \n",
      "Department:  94 \n",
      "Department:  95 \n",
      "Department:  96 \n",
      "Department:  97 \n",
      "Department:  98 \n",
      "Department:  99 \n"
     ]
    }
   ],
   "source": [
    "# choose the median value from the last year, in week - 1, week, and week + 1\n",
    "for (d in 1:n.dept){\n",
    "#     cat(\"Department: \", dept[d], \"\\n\")\n",
    "    # find the data for (store, dept) = (s, d)\n",
    "    test.id = which(test$Dept == dept[d])\n",
    "    test.temp = test[test.id, ]\n",
    "    train.id = which(train$Dept == dept[d])\n",
    "    train.temp = train[train.id, ]\n",
    "\n",
    "    for (i in 1:length(test.id)){\n",
    "        id = which(train.temp$week == test.temp[i,]$week & train.temp$year < test.temp[i,]$year)\n",
    "        tempSales = train.temp[id, 'Weekly_Sales']\n",
    "        if (length(tempSales) == 0){\n",
    "            test$Weekly_Pred2[test.id[i]] = 0\n",
    "        }else{\n",
    "            test$Weekly_Pred2[test.id[i]] = median(tempSales)\n",
    "        }\n",
    "    }\n",
    "}"
   ]
  },
  {
   "cell_type": "code",
   "execution_count": 12,
   "metadata": {
    "collapsed": false
   },
   "outputs": [
    {
     "data": {
      "text/html": [
       "<table>\n",
       "<thead><tr><th scope=col>Store</th><th scope=col>Dept</th><th scope=col>Date</th><th scope=col>Weekly_Sales</th><th scope=col>IsHoliday</th><th scope=col>Weekly_Pred1</th><th scope=col>Weekly_Pred2</th><th scope=col>Weekly_Pred3</th><th scope=col>year</th><th scope=col>month</th><th scope=col>week</th></tr></thead>\n",
       "<tbody>\n",
       "\t<tr><td>1         </td><td>1         </td><td>2011-03-04</td><td>20327.61  </td><td>FALSE     </td><td>21043.39  </td><td>17098.49  </td><td>0         </td><td>2011      </td><td>3         </td><td> 9        </td></tr>\n",
       "\t<tr><td>1         </td><td>1         </td><td>2011-03-11</td><td>21280.40  </td><td>FALSE     </td><td>21827.90  </td><td>17034.09  </td><td>0         </td><td>2011      </td><td>3         </td><td>10        </td></tr>\n",
       "\t<tr><td>1         </td><td>1         </td><td>2011-03-18</td><td>20334.23  </td><td>FALSE     </td><td>22136.64  </td><td>17976.97  </td><td>0         </td><td>2011      </td><td>3         </td><td>11        </td></tr>\n",
       "\t<tr><td>1         </td><td>1         </td><td>2011-03-25</td><td>20881.10  </td><td>FALSE     </td><td>26229.21  </td><td>22356.19  </td><td>0         </td><td>2011      </td><td>3         </td><td>12        </td></tr>\n",
       "\t<tr><td>1         </td><td>1         </td><td>2011-04-01</td><td>20398.09  </td><td>FALSE     </td><td>42960.91  </td><td>49917.32  </td><td>0         </td><td>2011      </td><td>4         </td><td>13        </td></tr>\n",
       "\t<tr><td>1         </td><td>1         </td><td>2011-04-08</td><td>23873.79  </td><td>FALSE     </td><td>42960.91  </td><td>31548.24  </td><td>0         </td><td>2011      </td><td>4         </td><td>14        </td></tr>\n",
       "</tbody>\n",
       "</table>\n"
      ],
      "text/latex": [
       "\\begin{tabular}{r|lllllllllll}\n",
       " Store & Dept & Date & Weekly\\_Sales & IsHoliday & Weekly\\_Pred1 & Weekly\\_Pred2 & Weekly\\_Pred3 & year & month & week\\\\\n",
       "\\hline\n",
       "\t 1          & 1          & 2011-03-04 & 20327.61   & FALSE      & 21043.39   & 17098.49   & 0          & 2011       & 3          &  9        \\\\\n",
       "\t 1          & 1          & 2011-03-11 & 21280.40   & FALSE      & 21827.90   & 17034.09   & 0          & 2011       & 3          & 10        \\\\\n",
       "\t 1          & 1          & 2011-03-18 & 20334.23   & FALSE      & 22136.64   & 17976.97   & 0          & 2011       & 3          & 11        \\\\\n",
       "\t 1          & 1          & 2011-03-25 & 20881.10   & FALSE      & 26229.21   & 22356.19   & 0          & 2011       & 3          & 12        \\\\\n",
       "\t 1          & 1          & 2011-04-01 & 20398.09   & FALSE      & 42960.91   & 49917.32   & 0          & 2011       & 4          & 13        \\\\\n",
       "\t 1          & 1          & 2011-04-08 & 23873.79   & FALSE      & 42960.91   & 31548.24   & 0          & 2011       & 4          & 14        \\\\\n",
       "\\end{tabular}\n"
      ],
      "text/markdown": [
       "\n",
       "Store | Dept | Date | Weekly_Sales | IsHoliday | Weekly_Pred1 | Weekly_Pred2 | Weekly_Pred3 | year | month | week | \n",
       "|---|---|---|---|---|---|\n",
       "| 1          | 1          | 2011-03-04 | 20327.61   | FALSE      | 21043.39   | 17098.49   | 0          | 2011       | 3          |  9         | \n",
       "| 1          | 1          | 2011-03-11 | 21280.40   | FALSE      | 21827.90   | 17034.09   | 0          | 2011       | 3          | 10         | \n",
       "| 1          | 1          | 2011-03-18 | 20334.23   | FALSE      | 22136.64   | 17976.97   | 0          | 2011       | 3          | 11         | \n",
       "| 1          | 1          | 2011-03-25 | 20881.10   | FALSE      | 26229.21   | 22356.19   | 0          | 2011       | 3          | 12         | \n",
       "| 1          | 1          | 2011-04-01 | 20398.09   | FALSE      | 42960.91   | 49917.32   | 0          | 2011       | 4          | 13         | \n",
       "| 1          | 1          | 2011-04-08 | 23873.79   | FALSE      | 42960.91   | 31548.24   | 0          | 2011       | 4          | 14         | \n",
       "\n",
       "\n"
      ],
      "text/plain": [
       "  Store Dept Date       Weekly_Sales IsHoliday Weekly_Pred1 Weekly_Pred2\n",
       "1 1     1    2011-03-04 20327.61     FALSE     21043.39     17098.49    \n",
       "2 1     1    2011-03-11 21280.40     FALSE     21827.90     17034.09    \n",
       "3 1     1    2011-03-18 20334.23     FALSE     22136.64     17976.97    \n",
       "4 1     1    2011-03-25 20881.10     FALSE     26229.21     22356.19    \n",
       "5 1     1    2011-04-01 20398.09     FALSE     42960.91     49917.32    \n",
       "6 1     1    2011-04-08 23873.79     FALSE     42960.91     31548.24    \n",
       "  Weekly_Pred3 year month week\n",
       "1 0            2011 3      9  \n",
       "2 0            2011 3     10  \n",
       "3 0            2011 3     11  \n",
       "4 0            2011 3     12  \n",
       "5 0            2011 4     13  \n",
       "6 0            2011 4     14  "
      ]
     },
     "metadata": {},
     "output_type": "display_data"
    }
   ],
   "source": [
    "head(test)"
   ]
  },
  {
   "cell_type": "markdown",
   "metadata": {},
   "source": [
    "# Model 3"
   ]
  },
  {
   "cell_type": "markdown",
   "metadata": {},
   "source": [
    "* use the information from the previous years\n",
    "* the same department, same store\n",
    "* use all weeks' information to make forecast"
   ]
  },
  {
   "cell_type": "code",
   "execution_count": null,
   "metadata": {
    "collapsed": true
   },
   "outputs": [],
   "source": []
  },
  {
   "cell_type": "markdown",
   "metadata": {},
   "source": [
    "# Model 4"
   ]
  },
  {
   "cell_type": "markdown",
   "metadata": {},
   "source": [
    "* not decided yet"
   ]
  },
  {
   "cell_type": "code",
   "execution_count": null,
   "metadata": {
    "collapsed": true
   },
   "outputs": [],
   "source": []
  },
  {
   "cell_type": "markdown",
   "metadata": {},
   "source": [
    "# Performance Testing"
   ]
  },
  {
   "cell_type": "markdown",
   "metadata": {},
   "source": [
    "* According to the definition of the weighted mean absolute error (WMAE)\n",
    "* Link to Kaggle: [Walmart Recruiting - Store Sales Forecasting](https://www.kaggle.com/c/walmart-recruiting-store-sales-forecasting#evaluation)"
   ]
  },
  {
   "cell_type": "code",
   "execution_count": 16,
   "metadata": {
    "collapsed": false
   },
   "outputs": [],
   "source": [
    "# define weight w\n",
    "weight = 4 * test$IsHoliday + 1"
   ]
  },
  {
   "cell_type": "code",
   "execution_count": 17,
   "metadata": {
    "collapsed": false
   },
   "outputs": [],
   "source": [
    "# calculate the performance of different models\n",
    "WMAE1 = sum(weight * abs(test$Weekly_Pred1 - test$Weekly_Sales)) / sum(weight)\n",
    "WMAE2 = sum(weight * abs(test$Weekly_Pred2 - test$Weekly_Sales)) / sum(weight)\n",
    "WMAE3 = sum(weight * abs(test$Weekly_Pred3 - test$Weekly_Sales)) / sum(weight)"
   ]
  },
  {
   "cell_type": "code",
   "execution_count": 18,
   "metadata": {
    "collapsed": false
   },
   "outputs": [
    {
     "name": "stdout",
     "output_type": "stream",
     "text": [
      "16168.23 \t 16168.23 \t 16168.23 \n"
     ]
    }
   ],
   "source": [
    "# output the performance of different models\n",
    "cat(WMAE1, '\\t', WMAE2, '\\t', WMAE3, '\\n')"
   ]
  },
  {
   "cell_type": "code",
   "execution_count": null,
   "metadata": {
    "collapsed": true
   },
   "outputs": [],
   "source": []
  }
 ],
 "metadata": {
  "kernelspec": {
   "display_name": "R",
   "language": "R",
   "name": "ir"
  },
  "language_info": {
   "codemirror_mode": "r",
   "file_extension": ".r",
   "mimetype": "text/x-r-source",
   "name": "R",
   "pygments_lexer": "r",
   "version": "3.3.2"
  }
 },
 "nbformat": 4,
 "nbformat_minor": 2
}
