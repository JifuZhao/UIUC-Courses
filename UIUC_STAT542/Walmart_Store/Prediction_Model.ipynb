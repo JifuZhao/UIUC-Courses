{
 "cells": [
  {
   "cell_type": "code",
   "execution_count": 1,
   "metadata": {
    "collapsed": false
   },
   "outputs": [
    {
     "name": "stderr",
     "output_type": "stream",
     "text": [
      "Loading required package: lubridate\n",
      "\n",
      "Attaching package: ‘lubridate’\n",
      "\n",
      "The following object is masked from ‘package:base’:\n",
      "\n",
      "    date\n",
      "\n",
      "Loading required package: forecast\n",
      "Loading required package: plyr\n",
      "\n",
      "Attaching package: ‘plyr’\n",
      "\n",
      "The following object is masked from ‘package:lubridate’:\n",
      "\n",
      "    here\n",
      "\n"
     ]
    }
   ],
   "source": [
    "# setwd('/Users/jifu/GitHub/Courses/UIUC_Courses/UIUC_STAT542/Walmart_Store/')\n",
    "options(warn=-1)\n",
    "\n",
    "# import required library\n",
    "if (!require(lubridate)) {\n",
    "    install.packages('lubridate')\n",
    "}\n",
    "if (!require(forecast)) {\n",
    "    install.packages('forecast')\n",
    "}\n",
    "if (!require(plyr)) {\n",
    "    install.packages('plyr')\n",
    "}\n",
    "\n",
    "library(lubridate)  # convert date information\n",
    "library(forecast)  # make forecast\n",
    "library(plyr)"
   ]
  },
  {
   "cell_type": "markdown",
   "metadata": {},
   "source": [
    "# Test"
   ]
  },
  {
   "cell_type": "code",
   "execution_count": 2,
   "metadata": {
    "collapsed": true
   },
   "outputs": [],
   "source": [
    "# load the data\n",
    "train = read.csv('./train.csv')\n",
    "test = read.csv('./test.csv')\n",
    "\n",
    "# transform into numerical value\n",
    "train$IsHoliday = as.numeric(train$IsHoliday)\n",
    "test$IsHoliday = as.numeric(test$IsHoliday)\n",
    "\n",
    "# transform the date\n",
    "train$Date = as.Date(train$Date, '%Y-%m-%d')\n",
    "test$Date = as.Date(test$Date, '%Y-%m-%d')\n",
    "\n",
    "# get the year and month information\n",
    "train$year = year(train$Date)\n",
    "test$year = year(test$Date)\n",
    "\n",
    "train$month = month(train$Date)\n",
    "test$month = month(test$Date)\n",
    "\n",
    "# get week information\n",
    "train.week = train$Date\n",
    "start_date = train.week[1]\n",
    "train.week = train.week - start_date  # date is now 0, 7, 14, ...\n",
    "train.week = train.week / 7 + 5  # make 2010-02-05 as '5'\n",
    "train.week = as.numeric(train.week) %% 52  ## 52 weeks in a year\n",
    "train$week = train.week\n",
    "\n",
    "test.week = test$Date\n",
    "test.week = test.week - start_date\n",
    "test.week = test.week / 7 + 5  # make 2010-02-05 as '5'\n",
    "test.week = as.numeric(test.week) %% 52\n",
    "test$week = test.week"
   ]
  },
  {
   "cell_type": "code",
   "execution_count": 3,
   "metadata": {
    "collapsed": false
   },
   "outputs": [
    {
     "data": {
      "text/html": [
       "<table>\n",
       "<thead><tr><th scope=col>Store</th><th scope=col>Dept</th><th scope=col>Date</th><th scope=col>Weekly_Sales</th><th scope=col>IsHoliday</th><th scope=col>year</th><th scope=col>month</th><th scope=col>week</th></tr></thead>\n",
       "<tbody>\n",
       "\t<tr><td>1         </td><td>1         </td><td>2010-02-05</td><td>24924.50  </td><td>0         </td><td>2010      </td><td>2         </td><td> 5        </td></tr>\n",
       "\t<tr><td>1         </td><td>1         </td><td>2010-02-12</td><td>46039.49  </td><td>1         </td><td>2010      </td><td>2         </td><td> 6        </td></tr>\n",
       "\t<tr><td>1         </td><td>1         </td><td>2010-02-19</td><td>41595.55  </td><td>0         </td><td>2010      </td><td>2         </td><td> 7        </td></tr>\n",
       "\t<tr><td>1         </td><td>1         </td><td>2010-02-26</td><td>19403.54  </td><td>0         </td><td>2010      </td><td>2         </td><td> 8        </td></tr>\n",
       "\t<tr><td>1         </td><td>1         </td><td>2010-03-05</td><td>21827.90  </td><td>0         </td><td>2010      </td><td>3         </td><td> 9        </td></tr>\n",
       "\t<tr><td>1         </td><td>1         </td><td>2010-03-12</td><td>21043.39  </td><td>0         </td><td>2010      </td><td>3         </td><td>10        </td></tr>\n",
       "</tbody>\n",
       "</table>\n"
      ],
      "text/latex": [
       "\\begin{tabular}{r|llllllll}\n",
       " Store & Dept & Date & Weekly\\_Sales & IsHoliday & year & month & week\\\\\n",
       "\\hline\n",
       "\t 1          & 1          & 2010-02-05 & 24924.50   & 0          & 2010       & 2          &  5        \\\\\n",
       "\t 1          & 1          & 2010-02-12 & 46039.49   & 1          & 2010       & 2          &  6        \\\\\n",
       "\t 1          & 1          & 2010-02-19 & 41595.55   & 0          & 2010       & 2          &  7        \\\\\n",
       "\t 1          & 1          & 2010-02-26 & 19403.54   & 0          & 2010       & 2          &  8        \\\\\n",
       "\t 1          & 1          & 2010-03-05 & 21827.90   & 0          & 2010       & 3          &  9        \\\\\n",
       "\t 1          & 1          & 2010-03-12 & 21043.39   & 0          & 2010       & 3          & 10        \\\\\n",
       "\\end{tabular}\n"
      ],
      "text/markdown": [
       "\n",
       "Store | Dept | Date | Weekly_Sales | IsHoliday | year | month | week | \n",
       "|---|---|---|---|---|---|\n",
       "| 1          | 1          | 2010-02-05 | 24924.50   | 0          | 2010       | 2          |  5         | \n",
       "| 1          | 1          | 2010-02-12 | 46039.49   | 1          | 2010       | 2          |  6         | \n",
       "| 1          | 1          | 2010-02-19 | 41595.55   | 0          | 2010       | 2          |  7         | \n",
       "| 1          | 1          | 2010-02-26 | 19403.54   | 0          | 2010       | 2          |  8         | \n",
       "| 1          | 1          | 2010-03-05 | 21827.90   | 0          | 2010       | 3          |  9         | \n",
       "| 1          | 1          | 2010-03-12 | 21043.39   | 0          | 2010       | 3          | 10         | \n",
       "\n",
       "\n"
      ],
      "text/plain": [
       "  Store Dept Date       Weekly_Sales IsHoliday year month week\n",
       "1 1     1    2010-02-05 24924.50     0         2010 2      5  \n",
       "2 1     1    2010-02-12 46039.49     1         2010 2      6  \n",
       "3 1     1    2010-02-19 41595.55     0         2010 2      7  \n",
       "4 1     1    2010-02-26 19403.54     0         2010 2      8  \n",
       "5 1     1    2010-03-05 21827.90     0         2010 3      9  \n",
       "6 1     1    2010-03-12 21043.39     0         2010 3     10  "
      ]
     },
     "metadata": {},
     "output_type": "display_data"
    }
   ],
   "source": [
    "head(train)"
   ]
  },
  {
   "cell_type": "markdown",
   "metadata": {},
   "source": [
    "# Model 1\n",
    "\n",
    "* use the information from the previous year\n",
    "* the same department, same store\n",
    "* week - 1, week, week + 1"
   ]
  },
  {
   "cell_type": "code",
   "execution_count": 5,
   "metadata": {
    "collapsed": false
   },
   "outputs": [
    {
     "ename": "ERROR",
     "evalue": "Error in as.matrix(newxreg) %*% coefs: non-conformable arguments\n",
     "output_type": "error",
     "traceback": [
      "Error in as.matrix(newxreg) %*% coefs: non-conformable arguments\nTraceback:\n",
      "1. forecast(fit, h = length(test.id))   # at line 104 of file <text>",
      "2. forecast.Arima(fit, h = length(test.id))",
      "3. predict(object, n.ahead = h)",
      "4. predict.Arima(object, n.ahead = h)"
     ]
    }
   ],
   "source": [
    "# load the data\n",
    "train = read.csv('./train.csv')\n",
    "test = read.csv('./test.csv')\n",
    "\n",
    "# transform into numerical value\n",
    "train$IsHoliday = as.numeric(train$IsHoliday)\n",
    "test$IsHoliday = as.numeric(test$IsHoliday)\n",
    "\n",
    "# transform the date\n",
    "train$Date = as.Date(train$Date, '%Y-%m-%d')\n",
    "test$Date = as.Date(test$Date, '%Y-%m-%d')\n",
    "\n",
    "# get the year and month information\n",
    "train$year = year(train$Date)\n",
    "test$year = year(test$Date)\n",
    "\n",
    "train$month = month(train$Date)\n",
    "test$month = month(test$Date)\n",
    "\n",
    "# get week information\n",
    "train.week = train$Date\n",
    "start_date = train.week[1]\n",
    "train.week = train.week - start_date  # date is now 0, 7, 14, ...\n",
    "train.week = train.week / 7 + 5  # make 2010-02-05 as '5'\n",
    "train.week = as.numeric(train.week) %% 52  ## 52 weeks in a year\n",
    "train$week = train.week\n",
    "\n",
    "test.week = test$Date\n",
    "test.week = test.week - start_date\n",
    "test.week = test.week / 7 + 5  # make 2010-02-05 as '5'\n",
    "test.week = as.numeric(test.week) %% 52\n",
    "test$week = test.week\n",
    "\n",
    "start.time = Sys.time()  # get time information\n",
    "\n",
    "for (t in 1:2) {\n",
    "    month = 2 + t\n",
    "    year = 2011\n",
    "    if (month > 12) {\n",
    "        month = month - 12\n",
    "        year = 2011 + 1\n",
    "    }\n",
    "    \n",
    "    # get the tmp test data\n",
    "    tmp.test = test[(test$year == year) & (test$month == month), ]\n",
    "    \n",
    "    # get the length of unique store and department\n",
    "    store = sort(unique(tmp.test$Store))\n",
    "    n.store = length(store)\n",
    "    dept = sort(unique(tmp.test$Dept))\n",
    "    n.dept = length(dept)\n",
    "    \n",
    "    # get the unique Date information\n",
    "    Date = sort(unique(train$Date))\n",
    "    \n",
    "    # choose the median value from the last year, in week-1, week, and week+1\n",
    "    for (s in 1:n.store){\n",
    "        for (d in 1:n.dept){\n",
    "            \n",
    "            # find the data for (store, dept) = (s, d)\n",
    "            test.id = which(test$Store == store[s] & test$Dept == dept[d] &\n",
    "                            test$year == year & test$month == month)\n",
    "            test.temp = test[test.id, ]\n",
    "            train.id = which(train$Store == store[s] & train$Dept == dept[d])\n",
    "            train.temp = train[train.id, ]\n",
    "            \n",
    "            # skip\n",
    "            if (length(test.id) == 0) {\n",
    "                next\n",
    "            }\n",
    "            \n",
    "            cat(store[s], dept[d], '\\n')\n",
    "            \n",
    "            # ------------------------------------------\n",
    "            #             model 1\n",
    "            # ------------------------------------------\n",
    "#             for (i in 1:length(test.id)){\n",
    "#                 id.1 = which(train.temp$week == test.temp[i,]$week - 1 & \n",
    "#                              train.temp$year == test.temp[i,]$year - 1)\n",
    "#                 id.2 = which(train.temp$week == test.temp[i,]$week & \n",
    "#                              train.temp$year == test.temp[i,]$year - 1)\n",
    "#                 id.3 = which(train.temp$week == test.temp[i,]$week + 1 & \n",
    "#                              train.temp$year == test.temp[i,]$year - 1)\n",
    "#                 id = c(id.1, id.2, id.3)\n",
    "                \n",
    "#                 # three weeks in the last year\n",
    "#                 tempSales = train.temp[id, 'Weekly_Sales']\n",
    "                \n",
    "#                 if (length(tempSales) == 0){\n",
    "#                     test$Weekly_Pred1[test.id[i]] = 0\n",
    "#                 }else{\n",
    "#                     test$Weekly_Pred1[test.id[i]] = median(tempSales)\n",
    "#                 }\n",
    "#             }\n",
    "            \n",
    "            # ------------------------------------------\n",
    "            #             model 2\n",
    "            # ------------------------------------------\n",
    "            if (length(train.id) < 50){\n",
    "                test$Weekly_Pred2[test.id] = 0\n",
    "            } else{\n",
    "                tmp.left = as.data.frame(Date)\n",
    "                tmp.right = train.temp[, c('Date', 'Weekly_Sales')]\n",
    "                joined = join(tmp.left, tmp.right, by='Date')\n",
    "                joined[is.na(joined)] = 0\n",
    "                tmp.ts = ts(joined$Weekly_Sales, frequency=52)\n",
    "\n",
    "                # fit a auto arima model\n",
    "                fit = auto.arima(tmp.ts, seasonal=TRUE, allowdrift=TRUE)\n",
    "                fc = forecast(fit, h=length(test.id))\n",
    "                test$Weekly_Pred2[test.id] = fc$mean\n",
    "            }\n",
    "        }\n",
    "    }\n",
    "    \n",
    "    # read new input file\n",
    "    tmp.filename = paste('xxx', t, '.csv', sep='');\n",
    "    newtest = read.csv(tmp.filename)\n",
    "    \n",
    "    # transform the date\n",
    "    newtest$Date = as.Date(newtest$Date, '%Y-%m-%d')\n",
    "\n",
    "    # get the year and month information\n",
    "    newtest$year = year(newtest$Date)\n",
    "    newtest$month = month(newtest$Date)\n",
    "    \n",
    "    # process the date\n",
    "    tmp.week = newtest$Date\n",
    "    tmp.week = tmp.week - start_date\n",
    "    tmp.week = tmp.week / 7 + 5  # make 2010-02-05 as '5'\n",
    "    tmp.week = as.numeric(tmp.week) %% 52\n",
    "    newtest$week = tmp.week\n",
    "    \n",
    "    # merge together\n",
    "    train = rbind(train, newtest[, names(train)])\n",
    "}\n",
    "\n",
    "end.time = Sys.time()\n",
    "cat('Total used time is:\\t', end.time - start.time, '\\n')"
   ]
  },
  {
   "cell_type": "markdown",
   "metadata": {},
   "source": [
    "# NA values"
   ]
  },
  {
   "cell_type": "code",
   "execution_count": 9,
   "metadata": {
    "collapsed": false
   },
   "outputs": [
    {
     "data": {
      "text/html": [
       "<table>\n",
       "<thead><tr><th scope=col>Store</th><th scope=col>Dept</th><th scope=col>Date</th><th scope=col>Weekly_Sales</th><th scope=col>IsHoliday</th><th scope=col>Weekly_Pred1</th><th scope=col>Weekly_Pred2</th><th scope=col>Weekly_Pred3</th><th scope=col>year</th><th scope=col>month</th><th scope=col>week</th></tr></thead>\n",
       "<tbody>\n",
       "\t<tr><td>1         </td><td>1         </td><td>2011-03-04</td><td>20327.61  </td><td>0         </td><td>0         </td><td>14201.96  </td><td>0         </td><td>2011      </td><td>3         </td><td> 9        </td></tr>\n",
       "\t<tr><td>1         </td><td>1         </td><td>2011-03-11</td><td>21280.40  </td><td>0         </td><td>0         </td><td>23384.73  </td><td>0         </td><td>2011      </td><td>3         </td><td>10        </td></tr>\n",
       "\t<tr><td>1         </td><td>1         </td><td>2011-03-18</td><td>20334.23  </td><td>0         </td><td>0         </td><td>23384.73  </td><td>0         </td><td>2011      </td><td>3         </td><td>11        </td></tr>\n",
       "\t<tr><td>1         </td><td>1         </td><td>2011-03-25</td><td>20881.10  </td><td>0         </td><td>0         </td><td>23384.73  </td><td>0         </td><td>2011      </td><td>3         </td><td>12        </td></tr>\n",
       "\t<tr><td>1         </td><td>1         </td><td>2011-04-01</td><td>20398.09  </td><td>0         </td><td>0         </td><td>21516.05  </td><td>0         </td><td>2011      </td><td>4         </td><td>13        </td></tr>\n",
       "\t<tr><td>1         </td><td>1         </td><td>2011-04-08</td><td>23873.79  </td><td>0         </td><td>0         </td><td>23327.72  </td><td>0         </td><td>2011      </td><td>4         </td><td>14        </td></tr>\n",
       "\t<tr><td>1         </td><td>1         </td><td>2011-04-15</td><td>28762.37  </td><td>0         </td><td>0         </td><td>23327.72  </td><td>0         </td><td>2011      </td><td>4         </td><td>15        </td></tr>\n",
       "\t<tr><td>1         </td><td>1         </td><td>2011-04-22</td><td>50510.31  </td><td>0         </td><td>0         </td><td>23327.72  </td><td>0         </td><td>2011      </td><td>4         </td><td>16        </td></tr>\n",
       "\t<tr><td>1         </td><td>1         </td><td>2011-04-29</td><td>41512.39  </td><td>0         </td><td>0         </td><td>23327.72  </td><td>0         </td><td>2011      </td><td>4         </td><td>17        </td></tr>\n",
       "\t<tr><td>1         </td><td>1         </td><td>2011-05-06</td><td>20138.19  </td><td>0         </td><td>0         </td><td>    0.00  </td><td>0         </td><td>2011      </td><td>5         </td><td>18        </td></tr>\n",
       "</tbody>\n",
       "</table>\n"
      ],
      "text/latex": [
       "\\begin{tabular}{r|lllllllllll}\n",
       " Store & Dept & Date & Weekly\\_Sales & IsHoliday & Weekly\\_Pred1 & Weekly\\_Pred2 & Weekly\\_Pred3 & year & month & week\\\\\n",
       "\\hline\n",
       "\t 1          & 1          & 2011-03-04 & 20327.61   & 0          & 0          & 14201.96   & 0          & 2011       & 3          &  9        \\\\\n",
       "\t 1          & 1          & 2011-03-11 & 21280.40   & 0          & 0          & 23384.73   & 0          & 2011       & 3          & 10        \\\\\n",
       "\t 1          & 1          & 2011-03-18 & 20334.23   & 0          & 0          & 23384.73   & 0          & 2011       & 3          & 11        \\\\\n",
       "\t 1          & 1          & 2011-03-25 & 20881.10   & 0          & 0          & 23384.73   & 0          & 2011       & 3          & 12        \\\\\n",
       "\t 1          & 1          & 2011-04-01 & 20398.09   & 0          & 0          & 21516.05   & 0          & 2011       & 4          & 13        \\\\\n",
       "\t 1          & 1          & 2011-04-08 & 23873.79   & 0          & 0          & 23327.72   & 0          & 2011       & 4          & 14        \\\\\n",
       "\t 1          & 1          & 2011-04-15 & 28762.37   & 0          & 0          & 23327.72   & 0          & 2011       & 4          & 15        \\\\\n",
       "\t 1          & 1          & 2011-04-22 & 50510.31   & 0          & 0          & 23327.72   & 0          & 2011       & 4          & 16        \\\\\n",
       "\t 1          & 1          & 2011-04-29 & 41512.39   & 0          & 0          & 23327.72   & 0          & 2011       & 4          & 17        \\\\\n",
       "\t 1          & 1          & 2011-05-06 & 20138.19   & 0          & 0          &     0.00   & 0          & 2011       & 5          & 18        \\\\\n",
       "\\end{tabular}\n"
      ],
      "text/markdown": [
       "\n",
       "Store | Dept | Date | Weekly_Sales | IsHoliday | Weekly_Pred1 | Weekly_Pred2 | Weekly_Pred3 | year | month | week | \n",
       "|---|---|---|---|---|---|---|---|---|---|\n",
       "| 1          | 1          | 2011-03-04 | 20327.61   | 0          | 0          | 14201.96   | 0          | 2011       | 3          |  9         | \n",
       "| 1          | 1          | 2011-03-11 | 21280.40   | 0          | 0          | 23384.73   | 0          | 2011       | 3          | 10         | \n",
       "| 1          | 1          | 2011-03-18 | 20334.23   | 0          | 0          | 23384.73   | 0          | 2011       | 3          | 11         | \n",
       "| 1          | 1          | 2011-03-25 | 20881.10   | 0          | 0          | 23384.73   | 0          | 2011       | 3          | 12         | \n",
       "| 1          | 1          | 2011-04-01 | 20398.09   | 0          | 0          | 21516.05   | 0          | 2011       | 4          | 13         | \n",
       "| 1          | 1          | 2011-04-08 | 23873.79   | 0          | 0          | 23327.72   | 0          | 2011       | 4          | 14         | \n",
       "| 1          | 1          | 2011-04-15 | 28762.37   | 0          | 0          | 23327.72   | 0          | 2011       | 4          | 15         | \n",
       "| 1          | 1          | 2011-04-22 | 50510.31   | 0          | 0          | 23327.72   | 0          | 2011       | 4          | 16         | \n",
       "| 1          | 1          | 2011-04-29 | 41512.39   | 0          | 0          | 23327.72   | 0          | 2011       | 4          | 17         | \n",
       "| 1          | 1          | 2011-05-06 | 20138.19   | 0          | 0          |     0.00   | 0          | 2011       | 5          | 18         | \n",
       "\n",
       "\n"
      ],
      "text/plain": [
       "   Store Dept Date       Weekly_Sales IsHoliday Weekly_Pred1 Weekly_Pred2\n",
       "1  1     1    2011-03-04 20327.61     0         0            14201.96    \n",
       "2  1     1    2011-03-11 21280.40     0         0            23384.73    \n",
       "3  1     1    2011-03-18 20334.23     0         0            23384.73    \n",
       "4  1     1    2011-03-25 20881.10     0         0            23384.73    \n",
       "5  1     1    2011-04-01 20398.09     0         0            21516.05    \n",
       "6  1     1    2011-04-08 23873.79     0         0            23327.72    \n",
       "7  1     1    2011-04-15 28762.37     0         0            23327.72    \n",
       "8  1     1    2011-04-22 50510.31     0         0            23327.72    \n",
       "9  1     1    2011-04-29 41512.39     0         0            23327.72    \n",
       "10 1     1    2011-05-06 20138.19     0         0                0.00    \n",
       "   Weekly_Pred3 year month week\n",
       "1  0            2011 3      9  \n",
       "2  0            2011 3     10  \n",
       "3  0            2011 3     11  \n",
       "4  0            2011 3     12  \n",
       "5  0            2011 4     13  \n",
       "6  0            2011 4     14  \n",
       "7  0            2011 4     15  \n",
       "8  0            2011 4     16  \n",
       "9  0            2011 4     17  \n",
       "10 0            2011 5     18  "
      ]
     },
     "metadata": {},
     "output_type": "display_data"
    }
   ],
   "source": [
    "head(test, 10)"
   ]
  },
  {
   "cell_type": "code",
   "execution_count": 12,
   "metadata": {
    "collapsed": false
   },
   "outputs": [
    {
     "data": {
      "text/html": [],
      "text/latex": [],
      "text/markdown": [],
      "text/plain": [
       "integer(0)"
      ]
     },
     "metadata": {},
     "output_type": "display_data"
    }
   ],
   "source": [
    "head(which(is.na(test)))"
   ]
  },
  {
   "cell_type": "markdown",
   "metadata": {},
   "source": [
    "# Performance test\n",
    "* According to the definition of the weighted mean absolute error (WMAE)\n",
    "* Link to Kaggle: [Walmart Recruiting - Store Sales Forecasting](https://www.kaggle.com/c/walmart-recruiting-store-sales-forecasting#evaluation)"
   ]
  },
  {
   "cell_type": "code",
   "execution_count": 13,
   "metadata": {
    "collapsed": false
   },
   "outputs": [
    {
     "name": "stdout",
     "output_type": "stream",
     "text": [
      "16168.23 \t 15061.41 \t 16168.23 \n"
     ]
    }
   ],
   "source": [
    "# define weight w\n",
    "weight = 4 * test$IsHoliday + 1\n",
    "\n",
    "# calculate the performance of different models\n",
    "WMAE1 = sum(weight * abs(test$Weekly_Pred1 - test$Weekly_Sales)) / sum(weight)\n",
    "WMAE2 = sum(weight * abs(test$Weekly_Pred2 - test$Weekly_Sales)) / sum(weight)\n",
    "WMAE3 = sum(weight * abs(test$Weekly_Pred3 - test$Weekly_Sales)) / sum(weight)\n",
    "\n",
    "# output the performance of different models\n",
    "cat(WMAE1, '\\t', WMAE2, '\\t', WMAE3, '\\n')"
   ]
  },
  {
   "cell_type": "markdown",
   "metadata": {},
   "source": [
    "# Model 2\n",
    "\n",
    "* use the information from the previous years\n",
    "* the same department, but different stores\n",
    "* use the median of the same week"
   ]
  },
  {
   "cell_type": "code",
   "execution_count": null,
   "metadata": {
    "collapsed": true
   },
   "outputs": [],
   "source": []
  },
  {
   "cell_type": "markdown",
   "metadata": {},
   "source": [
    "# Model 3\n",
    "\n",
    "* use the information from the previous years\n",
    "* the same department, same store\n",
    "* use all weeks' information to make forecast"
   ]
  },
  {
   "cell_type": "code",
   "execution_count": null,
   "metadata": {
    "collapsed": true
   },
   "outputs": [],
   "source": []
  },
  {
   "cell_type": "markdown",
   "metadata": {},
   "source": [
    "# Model 4"
   ]
  },
  {
   "cell_type": "markdown",
   "metadata": {},
   "source": [
    "* not decided yet"
   ]
  },
  {
   "cell_type": "code",
   "execution_count": null,
   "metadata": {
    "collapsed": true
   },
   "outputs": [],
   "source": []
  },
  {
   "cell_type": "code",
   "execution_count": 15,
   "metadata": {
    "collapsed": true
   },
   "outputs": [],
   "source": [
    "# # get the length of unique department\n",
    "# dept = sort(unique(test$Dept))\n",
    "# n.dept = length(dept)\n",
    "\n",
    "# # choose the median value from the last year, in week - 1, week, and week + 1\n",
    "# for (d in 1:n.dept){\n",
    "# #     cat(\"Department: \", dept[d], \"\\n\")\n",
    "#     # find the data for (store, dept) = (s, d)\n",
    "#     test.id = which(test$Dept == dept[d])\n",
    "#     test.temp = test[test.id, ]\n",
    "#     train.id = which(train$Dept == dept[d])\n",
    "#     train.temp = train[train.id, ]\n",
    "\n",
    "#     for (i in 1:length(test.id)){\n",
    "#         id = which(train.temp$week == test.temp[i,]$week & train.temp$year < test.temp[i,]$year)\n",
    "#         tempSales = train.temp[id, 'Weekly_Sales']\n",
    "#         if (length(tempSales) == 0){\n",
    "#             test$Weekly_Pred2[test.id[i]] = 0\n",
    "#         }else{\n",
    "#             test$Weekly_Pred2[test.id[i]] = median(tempSales)\n",
    "#         }\n",
    "#     }\n",
    "# }"
   ]
  },
  {
   "cell_type": "code",
   "execution_count": null,
   "metadata": {
    "collapsed": true
   },
   "outputs": [],
   "source": []
  }
 ],
 "metadata": {
  "kernelspec": {
   "display_name": "R",
   "language": "R",
   "name": "ir"
  },
  "language_info": {
   "codemirror_mode": "r",
   "file_extension": ".r",
   "mimetype": "text/x-r-source",
   "name": "R",
   "pygments_lexer": "r",
   "version": "3.3.2"
  }
 },
 "nbformat": 4,
 "nbformat_minor": 2
}
