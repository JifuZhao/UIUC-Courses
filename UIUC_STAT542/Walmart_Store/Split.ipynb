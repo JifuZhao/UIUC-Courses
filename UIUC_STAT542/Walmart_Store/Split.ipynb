{
 "cells": [
  {
   "cell_type": "code",
   "execution_count": 1,
   "metadata": {
    "collapsed": false
   },
   "outputs": [
    {
     "name": "stderr",
     "output_type": "stream",
     "text": [
      "\n",
      "Attaching package: ‘lubridate’\n",
      "\n",
      "The following object is masked from ‘package:base’:\n",
      "\n",
      "    date\n",
      "\n"
     ]
    }
   ],
   "source": [
    "library(lubridate)"
   ]
  },
  {
   "cell_type": "code",
   "execution_count": 2,
   "metadata": {
    "collapsed": true
   },
   "outputs": [],
   "source": [
    "data = read.csv('./train_original.csv')"
   ]
  },
  {
   "cell_type": "code",
   "execution_count": 3,
   "metadata": {
    "collapsed": true
   },
   "outputs": [],
   "source": [
    "# process the date\n",
    "data$Date = as.Date(data$Date, '%Y-%m-%d')\n",
    "data$year = year(data$Date)\n",
    "data$month =  month(data$Date)"
   ]
  },
  {
   "cell_type": "markdown",
   "metadata": {},
   "source": [
    "# Split data into training and test set"
   ]
  },
  {
   "cell_type": "code",
   "execution_count": 4,
   "metadata": {
    "collapsed": false
   },
   "outputs": [],
   "source": [
    "# get train and test test\n",
    "train = data[((data$year == 2011) & (data$month < 3)) | (data$year == 2010), ]\n",
    "test = data[((data$year == 2011) & (data$month >= 3)) | (data$year > 2011), ]\n",
    "\n",
    "# create new columns\n",
    "test$Weekly_Pred1 = 0\n",
    "test$Weekly_Pred2 = 0\n",
    "test$Weekly_Pred3 = 0\n",
    "\n",
    "# save train and test set\n",
    "test_name = c('Store', 'Dept', 'Date', 'Weekly_Sales', 'IsHoliday', 'Weekly_Pred1', 'Weekly_Pred2', 'Weekly_Pred3')\n",
    "train_name = c('Store', 'Dept', 'Date', 'Weekly_Sales', 'IsHoliday')\n",
    "\n",
    "write.table(train[, train_name], file='./train.csv', sep=',', row.names=FALSE)\n",
    "write.table(test[, test_name], file='./test.csv', sep=',', row.names=FALSE)"
   ]
  },
  {
   "cell_type": "markdown",
   "metadata": {
    "collapsed": true
   },
   "source": [
    "# Create 20 seperate files"
   ]
  },
  {
   "cell_type": "code",
   "execution_count": 5,
   "metadata": {
    "collapsed": false,
    "scrolled": true
   },
   "outputs": [],
   "source": [
    "name = c('Store', 'Dept', 'Date', 'Weekly_Sales', 'IsHoliday')"
   ]
  },
  {
   "cell_type": "code",
   "execution_count": 6,
   "metadata": {
    "collapsed": false
   },
   "outputs": [],
   "source": [
    "# get separate files according to month and year\n",
    "for(t in 1:20){\n",
    "    month = 2 + t\n",
    "    year = 2011\n",
    "    if (month > 12) {\n",
    "        month = month - 12\n",
    "        year = 2011 + 1\n",
    "    }\n",
    "    tmp = data[(data$year == year) & (data$month == month), ]\n",
    "    tmp.filename = paste('xxx', t, '.csv', sep='');\n",
    "    write.table(tmp[, name], file=tmp.filename, sep=',', row.names=FALSE)\n",
    "}"
   ]
  },
  {
   "cell_type": "code",
   "execution_count": null,
   "metadata": {
    "collapsed": true
   },
   "outputs": [],
   "source": []
  }
 ],
 "metadata": {
  "kernelspec": {
   "display_name": "R",
   "language": "R",
   "name": "ir"
  },
  "language_info": {
   "codemirror_mode": "r",
   "file_extension": ".r",
   "mimetype": "text/x-r-source",
   "name": "R",
   "pygments_lexer": "r",
   "version": "3.3.2"
  }
 },
 "nbformat": 4,
 "nbformat_minor": 2
}
