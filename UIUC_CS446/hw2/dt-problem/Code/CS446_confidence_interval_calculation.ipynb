{
 "cells": [
  {
   "cell_type": "code",
   "execution_count": 49,
   "metadata": {
    "collapsed": true
   },
   "outputs": [],
   "source": [
    "import numpy as np"
   ]
  },
  {
   "cell_type": "code",
   "execution_count": 50,
   "metadata": {
    "collapsed": true
   },
   "outputs": [],
   "source": [
    "x1 = np.array([62.069, 61.0169, 72.8814, 76.2712, 69.4915])\n",
    "x2 = np.array([60.3448, 57.6271, 72.8813, 77.9661, 62.7119])\n",
    "x3 = np.array([56.8966, 50.8474, 71.1864, 67.7966, 69.4915])\n",
    "x4 = np.array([60.3448, 59.322, 72.8814, 74.5763, 47.4576])\n",
    "x5 = np.array([60.3448, 52.5424, 72.8814, 71.1864, 42.3729])"
   ]
  },
  {
   "cell_type": "code",
   "execution_count": 51,
   "metadata": {
    "collapsed": true
   },
   "outputs": [],
   "source": [
    "m1 =x1.mean()\n",
    "m2 = x2.mean()\n",
    "m3 = x3.mean()\n",
    "m4 = x4.mean()\n",
    "m5 = x5.mean()\n",
    "\n",
    "s1 = np.std(x1, ddof = 1)\n",
    "s2 = np.std(x2, ddof = 1)\n",
    "s3 = np.std(x3, ddof = 1)\n",
    "s4 = np.std(x4, ddof = 1)\n",
    "s5 = np.std(x5, ddof = 1)\n",
    "\n",
    "sm1 = s1 / np.sqrt(5)\n",
    "sm2 = s2 / np.sqrt(5)\n",
    "sm3 = s3 / np.sqrt(5)\n",
    "sm4 = s4 / np.sqrt(5)\n",
    "sm5 = s5 / np.sqrt(5)\n",
    "\n",
    "R = 4.604\n",
    "l1 = m1 - R*sm1\n",
    "h1 = m1 + R*sm1\n",
    "l2 = m2 - R*sm2\n",
    "h2 = m2 + R*sm2\n",
    "l3 = m3 - R*sm3\n",
    "h3 = m3 + R*sm3\n",
    "l4 = m4 - R*sm4\n",
    "h4 = m4 + R*sm4\n",
    "l5 = m5 - R*sm5\n",
    "h5 = m5 + R*sm5"
   ]
  },
  {
   "cell_type": "markdown",
   "metadata": {},
   "source": [
    "### Pair t-test"
   ]
  },
  {
   "cell_type": "code",
   "execution_count": 52,
   "metadata": {
    "collapsed": false
   },
   "outputs": [],
   "source": [
    "p2 = x2 - x1\n",
    "p3 = x3 - x2\n",
    "p4 = x4 - x3\n",
    "p5 = x5 - x4"
   ]
  },
  {
   "cell_type": "code",
   "execution_count": 53,
   "metadata": {
    "collapsed": true
   },
   "outputs": [],
   "source": [
    "p2m = np.mean(p2)\n",
    "p3m = np.mean(p3)\n",
    "p4m = np.mean(p4)\n",
    "p5m = np.mean(p5)"
   ]
  },
  {
   "cell_type": "code",
   "execution_count": 54,
   "metadata": {
    "collapsed": true
   },
   "outputs": [],
   "source": [
    "p2s = np.std(p2, ddof = 1)\n",
    "p3s = np.std(p3, ddof = 1)\n",
    "p4s = np.std(p4, ddof = 1)\n",
    "p5s = np.std(p5, ddof = 1)"
   ]
  },
  {
   "cell_type": "code",
   "execution_count": 55,
   "metadata": {
    "collapsed": true
   },
   "outputs": [],
   "source": [
    "p2t = np.sqrt(5)*p2m/p2s\n",
    "p3t = np.sqrt(5)*p3m/p3s\n",
    "p4t = np.sqrt(5)*p4m/p4s\n",
    "p5t = np.sqrt(5)*p5m/p5s"
   ]
  },
  {
   "cell_type": "code",
   "execution_count": 59,
   "metadata": {
    "collapsed": false
   },
   "outputs": [
    {
     "data": {
      "text/plain": [
       "-2.25001267563984"
      ]
     },
     "execution_count": 59,
     "metadata": {},
     "output_type": "execute_result"
    }
   ],
   "source": [
    "p5t"
   ]
  },
  {
   "cell_type": "code",
   "execution_count": null,
   "metadata": {
    "collapsed": true
   },
   "outputs": [],
   "source": []
  }
 ],
 "metadata": {
  "kernelspec": {
   "display_name": "Python 3",
   "language": "python",
   "name": "python3"
  },
  "language_info": {
   "codemirror_mode": {
    "name": "ipython",
    "version": 3
   },
   "file_extension": ".py",
   "mimetype": "text/x-python",
   "name": "python",
   "nbconvert_exporter": "python",
   "pygments_lexer": "ipython3",
   "version": "3.4.3"
  }
 },
 "nbformat": 4,
 "nbformat_minor": 0
}
