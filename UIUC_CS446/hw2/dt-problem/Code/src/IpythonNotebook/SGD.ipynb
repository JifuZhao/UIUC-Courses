{
 "cells": [
  {
   "cell_type": "code",
   "execution_count": null,
   "metadata": {
    "collapsed": true
   },
   "outputs": [],
   "source": [
    "import numpy as np"
   ]
  },
  {
   "cell_type": "code",
   "execution_count": null,
   "metadata": {
    "collapsed": false
   },
   "outputs": [],
   "source": [
    "trainDataFile = ['./../feature/attribute/badges.attribute.train1.arff',\n",
    "                 './../feature/attribute/badges.attribute.train2.arff',\n",
    "                 './../feature/attribute/badges.attribute.train3.arff', \n",
    "                 './../feature/attribute/badges.attribute.train4.arff', \n",
    "                 './../feature/attribute/badges.attribute.train5.arff']\n",
    "                 \n",
    "testDataFile = ['./../feature/attribute/badges.attribute.test1.arff', \n",
    "                './../feature/attribute/badges.attribute.test2.arff',\n",
    "                './../feature/attribute/badges.attribute.test3.arff',\n",
    "                './../feature/attribute/badges.attribute.test4.arff',\n",
    "                './../feature/attribute/badges.attribute.test5.arff']"
   ]
  },
  {
   "cell_type": "code",
   "execution_count": null,
   "metadata": {
    "collapsed": false
   },
   "outputs": [],
   "source": [
    "def readArff(filePath, N):\n",
    "    # read the data from the arff file\n",
    "    # store the feature in feature \n",
    "    # and store result in result in 1 or 0\n",
    "    \n",
    "    with open(filePath, 'r') as f:\n",
    "        a = f.readlines()\n",
    "    \n",
    "    trainData = a[N:]\n",
    "\n",
    "    instanceNumber = len(trainData)\n",
    "    length = len(trainData[0].split(',')) - 1\n",
    "\n",
    "    feature = np.zeros((instanceNumber, length))\n",
    "    result = str()\n",
    "    for i in range(instanceNumber):\n",
    "        temp = trainData[i].split(',')\n",
    "        feature[i, :] = np.array(temp[:-1])\n",
    "        result = result + temp[-1][0] + ','   \n",
    "\n",
    "    result = result.split(',')[:-1]\n",
    "    for i in range(len(result)):\n",
    "        if result[i] == '+':\n",
    "            result[i] = 1.0\n",
    "        else:\n",
    "            result[i] = -1.0\n",
    "            \n",
    "    return feature, result"
   ]
  },
  {
   "cell_type": "code",
   "execution_count": null,
   "metadata": {
    "collapsed": false,
    "scrolled": true
   },
   "outputs": [],
   "source": [
    "def simpleSGD(trainPath, testPath, N):\n",
    "    # SGD algorithm\n",
    "\n",
    "    alpha = 0.005\n",
    "    threshold = 0.001\n",
    "    \n",
    "    featureTrain, resultTrain = readArff(trainPath, N)\n",
    "    \n",
    "    trainLength = len(featureTrain[1, :])\n",
    "    instanceNumber = len(resultTrain)\n",
    "    \n",
    "    # give w a initial number\n",
    "    #w = np.random.rand(trainLength)\n",
    "    w = np.ones(trainLength)/2\n",
    "    \n",
    "    count = 0\n",
    "    while True:\n",
    "        j = np.random.randint(0, instanceNumber)\n",
    "        deltaW = alpha*(resultTrain[j] - np.dot(w, featureTrain[j, :]))*featureTrain[j, :];\n",
    "        w = w + deltaW      \n",
    "        tempResult = np.dot(w, featureTrain[j, :])\n",
    "        error = abs(tempResult - resultTrain[j])\n",
    "        if error < threshold:\n",
    "            count = count + 1\n",
    "            if count > 70:\n",
    "                break   \n",
    "           \n",
    "    ## read the test data         \n",
    "    featureTest, resultTest = readArff(testPath, N)\n",
    "    testTempResult = np.dot(w, featureTest.T)\n",
    "    a = testTempResult\n",
    "    testLength = len(testTempResult)\n",
    "    for i in range(testLength):\n",
    "        if testTempResult[i] > 0.0:\n",
    "            testTempResult[i] = 1.0\n",
    "        else:\n",
    "            testTempResult[i] = -1.0\n",
    "        \n",
    "    rightNumber = 0\n",
    "    for i in range(testLength):\n",
    "        if testTempResult[i] == resultTest[i]:\n",
    "            rightNumber = rightNumber + 1\n",
    "        \n",
    "    # calculate the result    \n",
    "    accurateRate = rightNumber/testLength\n",
    "    \n",
    "    return rightNumber, accurateRate, testLength"
   ]
  },
  {
   "cell_type": "code",
   "execution_count": null,
   "metadata": {
    "collapsed": false,
    "scrolled": true
   },
   "outputs": [],
   "source": [
    "resultPath = './../result/simpleSGD_result.txt'\n",
    "with open(resultPath, 'w') as f:\n",
    "    for i in range(5):\n",
    "        trainPath = trainDataFile[i]\n",
    "        testPath = testDataFile[i]\n",
    "        rightNumber, accurateRate, totalNumber = simpleSGD(trainPath, testPath, 265)\n",
    "        \n",
    "        f.write('Cross Validation')\n",
    "        f.write('Correctly classified Instances' + '\\t' + str(rightNumber) + '\\t' + str(accurateRate) + '\\n')\n",
    "        f.write('Total Number of Instances' + '\\t' + str(totalNumber) + '\\n')"
   ]
  },
  {
   "cell_type": "code",
   "execution_count": null,
   "metadata": {
    "collapsed": true
   },
   "outputs": [],
   "source": []
  }
 ],
 "metadata": {
  "kernelspec": {
   "display_name": "Python 3",
   "language": "python",
   "name": "python3"
  },
  "language_info": {
   "codemirror_mode": {
    "name": "ipython",
    "version": 3
   },
   "file_extension": ".py",
   "mimetype": "text/x-python",
   "name": "python",
   "nbconvert_exporter": "python",
   "pygments_lexer": "ipython3",
   "version": "3.4.3"
  }
 },
 "nbformat": 4,
 "nbformat_minor": 0
}
