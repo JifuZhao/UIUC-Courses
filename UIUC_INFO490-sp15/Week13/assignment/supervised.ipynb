{
 "metadata": {
  "name": "",
  "signature": "sha256:8d460d9ed51193b1b89f09a17f3730e4fc8b2124df0a951df05daa09c7f1a44b"
 },
 "nbformat": 3,
 "nbformat_minor": 0,
 "worksheets": [
  {
   "cells": [
    {
     "cell_type": "markdown",
     "metadata": {},
     "source": [
      "## Problem 13.1. Supervised Learning.\n",
      "\n",
      "In this problem, we will use supervised learning techniques to\n",
      "  see if we can use machine learning techniques to\n",
      "  predict departure delays at the O'Hare airport (ORD).\n",
      "  For simplicity, we will use only six attributes:\n",
      "  `Month`, `DayofMonth`, `DayOfWeek`, `CRSDepTime`, `CRSArrTime`, and `Distance`.\n",
      "  Of the four algorithms introduced in\n",
      "  [Lesson 1](http://nbviewer.ipython.org/github/INFO490/spring2015/blob/master/week13/intro2dm.ipynb),\n",
      "  you are only required to perform two algorithms:\n",
      "  $k$-NN and Decision Trees.\n",
      "  But *scikit learn* has a unified API\n",
      "  so it should be easy to test other algorithms on your own."
     ]
    },
    {
     "cell_type": "code",
     "collapsed": false,
     "input": [
      "import numpy as np\n",
      "import pandas as pd\n",
      "import seaborn as sns\n",
      "import matplotlib.pyplot as plt\n",
      "import sklearn"
     ],
     "language": "python",
     "metadata": {},
     "outputs": []
    },
    {
     "cell_type": "markdown",
     "metadata": {},
     "source": [
      "We use the 2001 on-time airline performance data set.\n",
      "  We import the following\n",
      "  [columns](http://stat-computing.org/dataexpo/2009/the-data.html):\n",
      "  - Column 1: Month, 1-12\n",
      "  - Column 2: DayofMonth, 1-31\n",
      "  - Column 3: DayOfWeek, 1 (Monday) - 7 (Sunday)\n",
      "  - Column 5: CRSDepTime, scheduled departure time (local, hhmm)\n",
      "  - Column 7: CRSArrTime, scheduled arrival time (local, hhmm)\n",
      "  - Column 16: DepDelay, departure delay, in minutes\n",
      "  - Column 18: Distance, in miles"
     ]
    },
    {
     "cell_type": "code",
     "collapsed": false,
     "input": [
      "df = pd.read_csv('/data/airline/2001.csv', encoding='latin-1', usecols=(1, 2, 3, 5, 7, 15, 16, 18))"
     ],
     "language": "python",
     "metadata": {},
     "outputs": []
    },
    {
     "cell_type": "markdown",
     "metadata": {},
     "source": [
      "We use only the flights that departed from ORD.\n",
      "  We define a flight to be delayed if its departure delay\n",
      "  is 15 minutes or more, the same definition used\n",
      "  by the FAA (source:\n",
      "  [Wikipedia](http://en.wikipedia.org/wiki/Flight_cancellation_and_delay))."
     ]
    },
    {
     "cell_type": "code",
     "collapsed": false,
     "input": [
      "ohare = df[df.Origin == 'ORD']\n",
      "ohare = ohare.drop('Origin', axis=1) # we don't need the Origin column anymore.\n",
      "ohare['Delayed'] = (ohare.DepDelay >= 15).astype(np.int) # 1 if a flight was delayed, 0 if not.\n",
      "ohare = ohare.drop('DepDelay', axis=1) # we don't need the DepDelay column.\n",
      "ohare = ohare.dropna()"
     ],
     "language": "python",
     "metadata": {},
     "outputs": []
    },
    {
     "cell_type": "code",
     "collapsed": false,
     "input": [
      "print(ohare.head(5))"
     ],
     "language": "python",
     "metadata": {},
     "outputs": []
    },
    {
     "cell_type": "markdown",
     "metadata": {},
     "source": [
      "### Function: df\\_to\\_array()\n",
      "\n",
      "As explained in\n",
      "  [Lesson 1](http://nbviewer.ipython.org/github/INFO490/spring2015/blob/master/week13/intro2dm.ipynb),\n",
      "  we need to build NumPy arrays because\n",
      "  scikit-learn does not work natively with Pandas DataFrame.\n",
      "  \n",
      "- Write a function named `df_to_array()` that takes a DataFrame\n",
      "  and returns a tuple of two NumPy ararys.\n",
      "  The first array should have every columns and rows **except** the `Delayed` column.\n",
      "  The second array is the labels that will be used as truth values, i.e. the `Delayed` column."
     ]
    },
    {
     "cell_type": "code",
     "collapsed": false,
     "input": [
      "def df_to_array(df):\n",
      "    '''\n",
      "    Takes a DataFrame and returns a tuple of NumPy arrays.\n",
      "    \n",
      "    Parameters\n",
      "    ----------\n",
      "    df: A DataFrame. Has a column named 'Delayed'.\n",
      "    \n",
      "    Returns\n",
      "    -------\n",
      "    data: A NumPy array. To be used as attributes.\n",
      "    labels: A NumPy array. To be used as truth labels.\n",
      "    '''\n",
      "    \n",
      "    #### your code goes here\n",
      "    \n",
      "    return data, labels"
     ],
     "language": "python",
     "metadata": {},
     "outputs": []
    },
    {
     "cell_type": "markdown",
     "metadata": {},
     "source": [
      "Here are some sample outputs from my code:\n",
      "\n",
      "```python\n",
      "data, labels = df_to_array(ohare)\n",
      "print(data[:5])\n",
      "```\n",
      "```text\n",
      "[[   1    1    1  951 1235  599]\n",
      " [   1    2    2  951 1235  599]\n",
      " [   1    3    3  951 1235  599]\n",
      " [   1    4    4  951 1235  599]\n",
      " [   1    5    5  951 1235  599]]\n",
      "```\n",
      "```python\n",
      "print(labels[:5])\n",
      "```\n",
      "```text\n",
      "[0 0 0 1 0]\n",
      "```\n",
      "```python\n",
      "print(data.shape)\n",
      "```\n",
      "```text\n",
      "(341284, 6)\n",
      "```\n",
      "```python\n",
      "print(labels.shape)\n",
      "```\n",
      "```text\n",
      "(341284,)\n",
      "```"
     ]
    },
    {
     "cell_type": "code",
     "collapsed": false,
     "input": [
      "data, labels = df_to_array(ohare)"
     ],
     "language": "python",
     "metadata": {},
     "outputs": []
    },
    {
     "cell_type": "markdown",
     "metadata": {},
     "source": [
      "### Function: split\\_train\\_test()\n",
      "\n",
      "First, we need to split our data into training testing sets. Thus,\n",
      "\n",
      "- Write a function named `split_train_test()` function that takes two NumPy arrays.\n",
      "  The first array is the attributes, and the second labels.\n",
      "  It returns a tuple of four NumPy arrays:\n",
      "  the training set portion of the first input array,\n",
      "  the testing set portion of the first input array,\n",
      "  the training set portion of the second input array,\n",
      "  and the testing set portion of the second input array.\n",
      "  \n",
      "**IMPORTANT**:\n",
      "  You **must** use the `random_state` parameter in the\n",
      "  [`train_test_split()`](http://scikit-learn.org/stable/modules/generated/sklearn.cross_validation.train_test_split.html)\n",
      "  function to ensure\n",
      "  [repeatibility](http://scikit-learn.org/stable/developers/utilities.html).\n",
      "  Also, don't forget to use the optional parameter `frac`."
     ]
    },
    {
     "cell_type": "code",
     "collapsed": false,
     "input": [
      "from sklearn.utils import check_random_state\n",
      "random_seed = 490\n",
      "random_state = check_random_state(random_seed)"
     ],
     "language": "python",
     "metadata": {},
     "outputs": []
    },
    {
     "cell_type": "code",
     "collapsed": false,
     "input": [
      "from sklearn import cross_validation\n",
      "\n",
      "def split(data, labels, frac=0.4, random_state=random_state):\n",
      "    '''\n",
      "    Splits `data` and `labels` into training and testing sets.\n",
      "    \n",
      "    Parameters\n",
      "    ----------\n",
      "    data: A NumPy array. Attributes.\n",
      "    labels: A NumPy array. Truth labels.\n",
      "    frac: Optional. A float. The fraction of test set.\n",
      "    random_state: Random number generator.\n",
      "    \n",
      "    Returns\n",
      "    -------\n",
      "    A tuple of four NumPy arrays:\n",
      "    Training set portion of 'data', test set portion of 'data',\n",
      "    training set portion of 'labels', and test set portion of 'labels'.\n",
      "    '''\n",
      "    \n",
      "    #### your code goes here\n",
      "            \n",
      "    return a_train, a_test, b_train, b_test"
     ],
     "language": "python",
     "metadata": {},
     "outputs": []
    },
    {
     "cell_type": "code",
     "collapsed": false,
     "input": [
      "data_train, data_test, labels_train, labels_test = split(data, labels)"
     ],
     "language": "python",
     "metadata": {},
     "outputs": []
    },
    {
     "cell_type": "markdown",
     "metadata": {},
     "source": [
      "### Function: learn\\_knn()\n",
      "\n",
      "- Write a function named `learn_knn()` that takes three NumPy arrays\n",
      "  and an integer. The first array is the training set attributes,\n",
      "  the second array is the training set labels, and\n",
      "  the third array is the test set attributes.\n",
      "  It should return a NumPy array that has predicted labels\n",
      "  for each data point in the test set.\n",
      "\n",
      "  There are some\n",
      "  [parameters](http://scikit-learn.org/stable/modules/generated/sklearn.neighbors.KNeighborsClassifier.html#sklearn.neighbors.KNeighborsClassifier)\n",
      "  you can adjust, but you should use **only** the `n_neighbors` parameter."
     ]
    },
    {
     "cell_type": "code",
     "collapsed": false,
     "input": [
      "from sklearn import neighbors\n",
      "\n",
      "def learn_knn(data_train, labels_train, data_test, n_neighbors):\n",
      "    '''\n",
      "    Takes three NumPy arrays and an integer.\n",
      "    Trains a kNN algorithm where k = n_neighbors\n",
      "    and returns the predicted labels for each row in 'data_test'.\n",
      "    \n",
      "    Parameters\n",
      "    ----------\n",
      "    data_train: A NumPy array. Training set attributes.\n",
      "    labels_train: A NumPy array. Training set labels.\n",
      "    data_test: A Numpy array. Test set attributes.\n",
      "    n_neighbors: The number of neighbors for kNN queries.\n",
      "    \n",
      "    Returns\n",
      "    -------\n",
      "    A NumPy array that has the predictions for each row in 'data_test'.\n",
      "    '''\n",
      "    \n",
      "    #### your code goes here\n",
      "            \n",
      "    return result"
     ],
     "language": "python",
     "metadata": {},
     "outputs": []
    },
    {
     "cell_type": "code",
     "collapsed": false,
     "input": [
      "labels_pred = learn_knn(data_train, labels_train, data_test, 5)"
     ],
     "language": "python",
     "metadata": {},
     "outputs": []
    },
    {
     "cell_type": "markdown",
     "metadata": {},
     "source": [
      "### Performance Metrics for kNN\n",
      "\n",
      "There are various\n",
      "  [performance metrics](http://scikit-learn.org/stable/modules/model_evaluation.html#)\n",
      "  that you can use to evaluate the performance of a classifier.\n",
      "  For example, the [`score()`] method of the $k$-nearest neighbor classifier\n",
      "  that was demonstrated in Lesson 1 computes the\n",
      "  [accuracy score](http://scikit-learn.org/stable/modules/generated/sklearn.metrics.accuracy_score.html#sklearn.metrics.accuracy_score).\n",
      "  \n",
      "```python\n",
      "from sklearn.metrics import accuracy_score\n",
      "print(\"The accuracy score for kNN is {0:.4f}.\".format(accuracy_score(labels_test, labels_pred)))\n",
      "```\n",
      "```text\n",
      "The accuracy score for kNN is 0.7633.\n",
      "```"
     ]
    },
    {
     "cell_type": "code",
     "collapsed": false,
     "input": [
      "from sklearn.metrics import accuracy_score\n",
      "print(\"The accuracy score for kNN is {0:.4f}.\".format(accuracy_score(labels_test, labels_pred)))"
     ],
     "language": "python",
     "metadata": {},
     "outputs": []
    },
    {
     "cell_type": "markdown",
     "metadata": {},
     "source": [
      "There are pros and cons for each metric. Another popular metrics is the\n",
      "  [F1 score](http://en.wikipedia.org/wiki/F1_score).\n",
      "  \n",
      "```python\n",
      "from sklearn.metrics import f1_score\n",
      "print(\"The F1 score for kNN is {0:.4f}.\".format(f1_score(labels_test, labels_pred)))\n",
      "```\n",
      "```text\n",
      "The F1 score for kNN is 0.1885.\n",
      "````"
     ]
    },
    {
     "cell_type": "code",
     "collapsed": false,
     "input": [
      "from sklearn.metrics import f1_score\n",
      "print(\"The F1 score for kNN is {0:.4f}.\".format(f1_score(labels_test, labels_pred)))"
     ],
     "language": "python",
     "metadata": {},
     "outputs": []
    },
    {
     "cell_type": "markdown",
     "metadata": {},
     "source": [
      "### Plot: Confusion Matrix for kNN.\n",
      "\n",
      "- Create a confusion matrix for the result you obtained\n",
      "  from the kNN algorithm.\n",
      "  \n",
      "Here's what I got:\n",
      "\n",
      "<img src=\"images/knn_hw.png\">"
     ]
    },
    {
     "cell_type": "code",
     "collapsed": false,
     "input": [
      "#### your code goes here"
     ],
     "language": "python",
     "metadata": {},
     "outputs": []
    },
    {
     "cell_type": "markdown",
     "metadata": {},
     "source": [
      "### Function: learn\\_dt()\n",
      "\n",
      "- Write a function named `learn_dt()` that takes three NumPy arrays:\n",
      "  the attributes of training set, the labels of training set,\n",
      "  and the attributes of testing set.\n",
      "  It should use the decision tree algorithm\n",
      "  ([`sklearn.tree.DecisionTreeClassifier`](http://scikit-learn.org/stable/modules/generated/sklearn.tree.DecisionTreeClassifier.html#sklearn.tree.DecisionTreeClassifier))\n",
      "  to predict what the labels for testing data are.\n",
      "  \n",
      "**IMPORTANT**:\n",
      "  You **must** use the `random_state` parameter in the\n",
      "  [`train_test_split()`](http://scikit-learn.org/stable/modules/generated/sklearn.cross_validation.train_test_split.html)\n",
      "  function to ensure\n",
      "  [repeatibility](http://scikit-learn.org/stable/developers/utilities.html)."
     ]
    },
    {
     "cell_type": "code",
     "collapsed": false,
     "input": [
      "# Next lets try Decision Trees\n",
      "from sklearn import tree\n",
      "\n",
      "random_state = check_random_state(random_seed)\n",
      "\n",
      "def learn_dt(data_train, labels_train, data_test, random_state=random_state):\n",
      "    '''\n",
      "    Takes three NumPy arrays.\n",
      "    Trains a Decision Trees algorithm\n",
      "    and returns the predicted labels for each row in 'data_test'.\n",
      "    \n",
      "    Parameters\n",
      "    ----------\n",
      "    data_train: A NumPy array. Training set attributes.\n",
      "    labels_train: A NumPy array. Training set labels.\n",
      "    data_test: A Numpy array. Test set attributes.\n",
      "    \n",
      "    Returns\n",
      "    -------\n",
      "    A NumPy array that has the predictions for each row in 'data_test'.\n",
      "    '''\n",
      "    \n",
      "    #### your code goes here\n",
      "        \n",
      "    return result"
     ],
     "language": "python",
     "metadata": {},
     "outputs": []
    },
    {
     "cell_type": "code",
     "collapsed": false,
     "input": [
      "labels_pred = learn_dt(data_train, labels_train, data_test)"
     ],
     "language": "python",
     "metadata": {},
     "outputs": []
    },
    {
     "cell_type": "markdown",
     "metadata": {},
     "source": [
      "### Performance Metrics for DT\n",
      "\n",
      "We again compute the accuracy score for the Decision Trees classifier.\n",
      "\n",
      "```python\n",
      "print(\"The accuracy score for DT is {0:.4f}.\".format(accuracy_score(labels_test, labels_pred)))\n",
      "```\n",
      "```text\n",
      "The accuracy score for DT is 0.7308.\n",
      "```"
     ]
    },
    {
     "cell_type": "code",
     "collapsed": false,
     "input": [
      "print(\"The accuracy score for DT is {0:.4f}.\".format(accuracy_score(labels_test, labels_pred)))"
     ],
     "language": "python",
     "metadata": {},
     "outputs": []
    },
    {
     "cell_type": "markdown",
     "metadata": {},
     "source": [
      "And we compute the F1 score.\n",
      "\n",
      "```python\n",
      "print(\"The F1 score for DT is {0:.4f}.\".format(f1_score(labels_test, labels_pred)))\n",
      "```\n",
      "```text\n",
      "The F1 score for DT is 0.3590.\n",
      "```"
     ]
    },
    {
     "cell_type": "code",
     "collapsed": false,
     "input": [
      "print(\"The F1 score for DT is {0:.4f}.\".format(f1_score(labels_test, labels_pred)))"
     ],
     "language": "python",
     "metadata": {},
     "outputs": []
    },
    {
     "cell_type": "markdown",
     "metadata": {},
     "source": [
      "### Plot: Confusion Matrix for Decision Trees.\n",
      "\n",
      "- Create a confusion matrix for the result you obtained\n",
      "  from the Decison Tree algorithm. Here's what what I got:\n",
      "\n",
      "<img src=\"images/dt_hw.png\">"
     ]
    },
    {
     "cell_type": "code",
     "collapsed": false,
     "input": [
      "#### your code goes here"
     ],
     "language": "python",
     "metadata": {},
     "outputs": []
    },
    {
     "cell_type": "markdown",
     "metadata": {},
     "source": [
      "### Summary\n",
      "\n",
      "So it seems that the decision tree classifier is better\n",
      "  at predicting delays (10,294)\n",
      "  than the $k$-nearest neighbor classifier (3,752).\n",
      "  However, the $k$-nearest neighbor classifer classified\n",
      "  more non-delays correct (100,447)\n",
      "  than the decision tree classifier (89,464).\n",
      "  \n",
      "We have also seen that the kNN classifier outperforms\n",
      "  the DT in accuracy score, while the F1 score of DT\n",
      "  is higher than that of kNN. In our case, one classifier\n",
      "  did not clearly outperform another, and which classifier\n",
      "  to use would depend on specific use cases, e.g.\n",
      "  if we give more weight to the correct prediction of\n",
      "  non-dalays vs. delays."
     ]
    },
    {
     "cell_type": "code",
     "collapsed": false,
     "input": [],
     "language": "python",
     "metadata": {},
     "outputs": []
    }
   ],
   "metadata": {}
  }
 ]
}
