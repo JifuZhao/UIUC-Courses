{
 "metadata": {
  "name": "",
  "signature": "sha256:b846a48eb0773883802f8b1323ecd8a66cfc93d0d5ea1d7ebd564d1506703602"
 },
 "nbformat": 3,
 "nbformat_minor": 0,
 "worksheets": [
  {
   "cells": [
    {
     "cell_type": "markdown",
     "metadata": {},
     "source": [
      "## Problem 12.2 and 12.3 Dimensional Reduction and Clustering.\n",
      "\n",
      "This problem will give you a chance to practice using dimensiona reduction (PCA)\n",
      "  and clustering ($k$-means)\n",
      "  by performing these machine learning techniques on\n",
      "  [Delta Airline's aircrafts](http://www.delta.com/content/www/en_US/traveling-with-us/airports-and-aircraft/Aircraft.html).\n",
      "  \n",
      "This problem is one continous problem, but I split into two parts for easier grading.\n",
      "\n",
      "## Problem 12.2 Diemnsional Reduction."
     ]
    },
    {
     "cell_type": "code",
     "collapsed": false,
     "input": [
      "%matplotlib inline\n",
      "\n",
      "import numpy as np\n",
      "import pandas as pd\n",
      "import seaborn as sns\n",
      "import matplotlib.pyplot as plt\n",
      "import sklearn\n",
      "from sklearn.utils import check_random_state"
     ],
     "language": "python",
     "metadata": {},
     "outputs": []
    },
    {
     "cell_type": "markdown",
     "metadata": {},
     "source": [
      "Delta Airline (and other major airlines) has data on all of their aircrafts\n",
      "  on their [website](http://www.delta.com/content/www/en_US/traveling-with-us/airports-and-aircraft/Aircraft.html).\n",
      "  For example, the following shows the specifications of AIRBUS A319 VIP.\n",
      "\n",
      "<img src=\"images/AIRBUS_A319_VIP.png\">"
     ]
    },
    {
     "cell_type": "markdown",
     "metadata": {},
     "source": [
      "### Download delta.csv.\n",
      "\n",
      "In this problem, we will use\n",
      "  [`delta.csv`](https://github.com/INFO490/spring2015/blob/master/week13/delta.csv),\n",
      "  a CSV file that has the aircraft data taken from the Delta Airline website.\n",
      "  So, the first step is to download\n",
      "  [`delta.csv`](https://github.com/INFO490/spring2015/blob/master/week13/delta.csv) from GitHub.\n",
      "  You can use `wget` in the following code cell, or `git pull` and use that file as well."
     ]
    },
    {
     "cell_type": "code",
     "collapsed": false,
     "input": [
      "%%bash\n",
      "# edit paths as necessary\n",
      "wget https://rawgit.com/INFO490/spring2015/master/week13/delta.csv -O /data/airline/delta.csv"
     ],
     "language": "python",
     "metadata": {},
     "outputs": []
    },
    {
     "cell_type": "code",
     "collapsed": false,
     "input": [
      "# edit path to where your delta.csv is located.\n",
      "df = pd.read_csv('/data/airline/delta.csv')"
     ],
     "language": "python",
     "metadata": {},
     "outputs": []
    },
    {
     "cell_type": "markdown",
     "metadata": {},
     "source": [
      "This data set has 34 columns (including the names of the aircrafts)\n",
      "  on 44 aircrafts. It inclues both quantitative measurements such as cruising speed,\n",
      "  accommodation and range in miles, as well as categorical data,\n",
      "  such as whether a particular aircraft has Wi-Fi or video.\n",
      "  These binary are assigned values of either 1 or 0, for yes or no respectively."
     ]
    },
    {
     "cell_type": "code",
     "collapsed": false,
     "input": [
      "print(df.head())"
     ],
     "language": "python",
     "metadata": {},
     "outputs": []
    },
    {
     "cell_type": "markdown",
     "metadata": {},
     "source": [
      "### Function: df\\_to\\_array()\n",
      "\n",
      "We need to do some preprocessing before we actually apply the machine learning techniques.\n",
      "\n",
      "As explained in\n",
      "  [Lesson 1](http://nbviewer.ipython.org/github/INFO490/spring2015/blob/master/week13/intro2dm.ipynb),\n",
      "  we need to build NumPy arrays because\n",
      "  scikit-learn does not work natively with Pandas DataFrame.\n",
      "  \n",
      "- Write a function named `df_to_array()` that takes a DataFrame\n",
      "  and returns a tuple of two NumPy ararys.\n",
      "  The first array should have every columns and rows **except** the `Aircraft` column.\n",
      "  The second array is the labels that will be used as truth values, i.e. the `Aircraft` column."
     ]
    },
    {
     "cell_type": "code",
     "collapsed": false,
     "input": [
      "def df_to_array(df):\n",
      "    '''\n",
      "    Takes a DataFrame and returns a tuple of NumPy arrays.\n",
      "    \n",
      "    Parameters\n",
      "    ----------\n",
      "    df: A DataFrame. Has a column named 'Aircraft'.\n",
      "    \n",
      "    Returns\n",
      "    -------\n",
      "    data: A NumPy array. To be used as attributes.\n",
      "    labels: A NumPy array. To be used as truth labels.\n",
      "    '''\n",
      "    \n",
      "    ### your code goes here\n",
      "    \n",
      "    return data, labels"
     ],
     "language": "python",
     "metadata": {},
     "outputs": []
    },
    {
     "cell_type": "markdown",
     "metadata": {},
     "source": [
      "Here are some examples that you can use to test your function.\n",
      "\n",
      "```python\n",
      "print(data.shape)\n",
      "```\n",
      "```text\n",
      "(44, 33)\n",
      "```\n",
      "```python\n",
      "print(data[0])\n",
      "```\n",
      "```text\n",
      "[  0.00000000e+00   0.00000000e+00   0.00000000e+00   2.10000000e+01\n",
      "   3.60000000e+01   1.20000000e+01   0.00000000e+00   0.00000000e+00\n",
      "   0.00000000e+00   1.72000000e+01   3.40000000e+01   1.80000000e+01\n",
      "   1.72000000e+01   3.05000000e+01   9.60000000e+01   1.26000000e+02\n",
      "   5.17000000e+02   2.39900000e+03   2.00000000e+00   1.11830000e+02\n",
      "   3.85830000e+01   1.11000000e+02   1.00000000e+00   0.00000000e+00\n",
      "   0.00000000e+00   0.00000000e+00   0.00000000e+00   0.00000000e+00\n",
      "   0.00000000e+00   1.00000000e+00   0.00000000e+00   1.00000000e+00\n",
      "   1.00000000e+00]\n",
      "```\n",
      "```python\n",
      "print(data[:, 0])\n",
      "```\n",
      "```text\n",
      "[  0.   19.4   0.    0.    0.    0.    0.    0.    0.    0.    0.    0.\n",
      "   0.    0.    0.    0.    0.    0.    0.    0.    0.    0.    0.    0.\n",
      "   0.    0.    0.    0.    0.    0.    0.    0.    0.    0.    0.    0.\n",
      "   0.    0.    0.    0.    0.    0.    0.    0. ]\n",
      "```"
     ]
    },
    {
     "cell_type": "code",
     "collapsed": false,
     "input": [
      "data, labels = df_to_array(df)"
     ],
     "language": "python",
     "metadata": {},
     "outputs": []
    },
    {
     "cell_type": "markdown",
     "metadata": {},
     "source": [
      "### Standardization\n",
      "\n",
      "PCA is a scale-dependent method. For example, if the range of one column is [-100, 100],\n",
      "  while the that of another column is [-0.1, 0.1], PCA will place more weight\n",
      "  on the attribute with larger values.\n",
      "  One way to avoid this is to *standardize* a data set by\n",
      "  scaling each feature so that the individual features all look like\n",
      "  Gausssian distributions with zero mean and unit variance.\n",
      "  \n",
      "For further detail, see\n",
      "  [Preprocessing data](http://scikit-learn.org/stable/modules/preprocessing.html).\n",
      "  The function scale provides a quick and easy way to\n",
      "  perform this operation on a single array-like dataset."
     ]
    },
    {
     "cell_type": "code",
     "collapsed": false,
     "input": [
      "from sklearn.preprocessing import StandardScaler\n",
      "scaler = StandardScaler().fit(data)\n",
      "data_scaled = scaler.transform(data)"
     ],
     "language": "python",
     "metadata": {},
     "outputs": []
    },
    {
     "cell_type": "markdown",
     "metadata": {},
     "source": [
      "### Function: perform\\_pca()\n",
      "\n",
      "- Write a funtion named `perform_pca()` that takes two NumPy arrays\n",
      "  and returns a DataFrame."
     ]
    },
    {
     "cell_type": "code",
     "collapsed": false,
     "input": [
      "from sklearn.decomposition import PCA\n",
      "\n",
      "def perform_pca(data, labels):\n",
      "    '''\n",
      "    Takes two NumPy arrays and returns a DataFrame.\n",
      "    Runs PCA to obtain the first and second principal components.\n",
      "    \n",
      "    Parameters\n",
      "    ----------\n",
      "    data: A NumPy array. Attributes.\n",
      "    labels: A NumPy array. Aircraft types.\n",
      "    \n",
      "    Returns\n",
      "    -------\n",
      "    A DataFrame with three columns, 'PCA1', 'PCA2', and 'Aircraft'.\n",
      "    '''\n",
      "        \n",
      "    #### your code goes here\n",
      "    \n",
      "    return data_pca\n",
      "\n",
      "data_pca = perform_pca(data_scaled, labels)"
     ],
     "language": "python",
     "metadata": {},
     "outputs": []
    },
    {
     "cell_type": "markdown",
     "metadata": {},
     "source": [
      "The PCA returned the following.\n",
      "\n",
      "```python\n",
      "data_pca = perform_pca(data_scaled, labels)\n",
      "print(data_pca.head(5))\n",
      "```\n",
      "```text\n",
      "       PCA1      PCA2          Aircraft\n",
      "0  2.656021 -1.382411       Airbus A319\n",
      "1  6.766622  16.74373   Airbus A319 VIP\n",
      "2  2.396654 -1.487692       Airbus A320\n",
      "3  2.396654 -1.487692  Airbus A320 32-R\n",
      "4 -4.862387  0.951892   Airbus A330-200\n",
      "\n",
      "[5 rows x 3 columns]\n",
      "```"
     ]
    },
    {
     "cell_type": "code",
     "collapsed": false,
     "input": [
      "print(data_pca.head(5))"
     ],
     "language": "python",
     "metadata": {},
     "outputs": []
    },
    {
     "cell_type": "markdown",
     "metadata": {},
     "source": [
      "### Plot: Scatter Plot Using Principal Components\n",
      "\n",
      "- Create a scatter plot using the first and second\n",
      "  principal compnents of `data_pca`.\n",
      "  \n",
      "  <img src=\"images/pca_hw.png\">"
     ]
    },
    {
     "cell_type": "code",
     "collapsed": false,
     "input": [
      "#### your code goes here"
     ],
     "language": "python",
     "metadata": {},
     "outputs": []
    },
    {
     "cell_type": "markdown",
     "metadata": {},
     "source": [
      "## Problem 12.3. Clustering\n",
      "\n",
      "In this problem, we will use the k-means algorithm to\n",
      "  group similar aircrafts into clusters.\n",
      "  \n",
      "  \n",
      "### Function: cluster()\n",
      "\n",
      "- Write a function named `cluster()` that takes two NumPy arrays.\n",
      "  The first array has the **scaled** attributes,\n",
      "  while the second array has the attributes in terms of the first\n",
      "  and second principal components.\n",
      "  It should return a DataFrame with three columns:\n",
      "  `PCA1`, `PCA2`, and `Cluster`.\n",
      "\n",
      "The number of clusters `n_clusters` is an adjustable parameter.\n",
      "  Different `n_clusters` corresponds to a different model.\n",
      "  You may experiment with different values of `n_clusters` to\n",
      "  find what you think best fits the data.\n",
      "  In the following, I use `n_clusters=4`.\n",
      "  \n",
      "**IMPORTANT**:\n",
      "  You **must** use the `random_state` parameter in the\n",
      "  [`KMeans()`](http://scikit-learn.org/stable/modules/generated/sklearn.cluster.KMeans.html)\n",
      "  function to ensure\n",
      "  [repeatibility](http://scikit-learn.org/stable/developers/utilities.html).\n",
      "  Also, don't forget to use the optional parameter `n_clusters`."
     ]
    },
    {
     "cell_type": "code",
     "collapsed": false,
     "input": [
      "from sklearn.cluster import KMeans\n",
      "\n",
      "random_seed = 490\n",
      "random_state = check_random_state(random_seed)\n",
      "\n",
      "def cluster(data_scaled, data_reduced, n_clusters=4, random_state=random_state):\n",
      "    '''\n",
      "    Takes two NumPy arrays and returns a DataFrame.\n",
      "    \n",
      "    Parameters\n",
      "    ----------\n",
      "    data_scaled: A NumPy array. Attributes scaled with e.g. StandardScaler().\n",
      "    data_reduced: A NumPy array. Attributes in principal compnents.\n",
      "    n_clusters: Optional. An integer. The number of clusters to query.\n",
      "    random_state: Random number generator.\n",
      "    \n",
      "    Returns\n",
      "    -------\n",
      "    A DataFrame with three columns: 'PCA1', 'PCA2', and 'Cluster'.\n",
      "    '''\n",
      "    #### your code goes here\n",
      "    \n",
      "    return data_clust\n",
      "\n",
      "data_clust = cluster(data_scaled, data_pca[['PCA1', 'PCA2']].values, n_clusters=4, random_state=random_state)"
     ],
     "language": "python",
     "metadata": {},
     "outputs": []
    },
    {
     "cell_type": "markdown",
     "metadata": {},
     "source": [
      "Here's what I got:\n",
      "\n",
      "```python\n",
      "data_clust = cluster(data_scaled, data_pca[['PCA1', 'PCA2']].values)\n",
      "print(data_clust.head(5))\n",
      "```\n",
      "```text\n",
      "       PCA1      PCA2 Cluster\n",
      "0  2.656021 -1.382411       2\n",
      "1  6.766622  16.74373       3\n",
      "2  2.396654 -1.487692       2\n",
      "3  2.396654 -1.487692       2\n",
      "4 -4.862387  0.951892       0\n",
      "\n",
      "[5 rows x 3 columns]\n",
      "```"
     ]
    },
    {
     "cell_type": "code",
     "collapsed": false,
     "input": [
      "print(data_clust.head(5))"
     ],
     "language": "python",
     "metadata": {},
     "outputs": []
    },
    {
     "cell_type": "markdown",
     "metadata": {},
     "source": [
      "### Plot: Scatter Plot of Clusters\n",
      "\n",
      "- Use the `data_clust` DataFrame to create a scatter plot\n",
      "  of the clustered data in the first and second \n",
      "  principal component axes.\n",
      "\n",
      "<img src=\"images/cluster_hw.png\">"
     ]
    },
    {
     "cell_type": "code",
     "collapsed": false,
     "input": [
      "#### your code goes here"
     ],
     "language": "python",
     "metadata": {},
     "outputs": []
    },
    {
     "cell_type": "markdown",
     "metadata": {},
     "source": [
      "### Dicussion\n",
      "\n",
      "You don't have to write any code in this section,\n",
      "  but here's one interpretaion of what we have done.\n",
      "\n",
      "Let's take a closer look at each cluster."
     ]
    },
    {
     "cell_type": "code",
     "collapsed": false,
     "input": [
      "df['Cluster'] = data_clust['Cluster']\n",
      "df_grouped = df.groupby('Cluster').mean()\n",
      "print(df_grouped.Accommodation)"
     ],
     "language": "python",
     "metadata": {},
     "outputs": []
    },
    {
     "cell_type": "code",
     "collapsed": false,
     "input": [
      "print(df_grouped['Length (ft)'])"
     ],
     "language": "python",
     "metadata": {},
     "outputs": []
    },
    {
     "cell_type": "markdown",
     "metadata": {},
     "source": [
      "Cluster 3 has only one aircraft:"
     ]
    },
    {
     "cell_type": "code",
     "collapsed": false,
     "input": [
      "clust3 = data_pca[data_clust.Cluster == 3]\n",
      "print(clust3.Aircraft)"
     ],
     "language": "python",
     "metadata": {},
     "outputs": []
    },
    {
     "cell_type": "markdown",
     "metadata": {},
     "source": [
      "Airbus A319 VIP is not one of Delta Airline's regular fleet and is one of\n",
      "  [Airbus corporate jets](http://en.wikipedia.org/wiki/Airbus_Corporate_Jets).\n",
      "  \n",
      "Cluster 1 has four aircrafts:"
     ]
    },
    {
     "cell_type": "code",
     "collapsed": false,
     "input": [
      "clust1 = data_pca[data_clust.Cluster == 1]\n",
      "print(clust1.Aircraft)"
     ],
     "language": "python",
     "metadata": {},
     "outputs": []
    },
    {
     "cell_type": "markdown",
     "metadata": {},
     "source": [
      "These are small aircrafts and only have economy seats."
     ]
    },
    {
     "cell_type": "code",
     "collapsed": false,
     "input": [
      "cols_seat = ['First Class', 'Business', 'Eco Comfort', 'Economy']\n",
      "print(df.loc[clust1.index, cols_seat])"
     ],
     "language": "python",
     "metadata": {},
     "outputs": []
    },
    {
     "cell_type": "markdown",
     "metadata": {},
     "source": [
      "Next, we look at Cluster 0:"
     ]
    },
    {
     "cell_type": "code",
     "collapsed": false,
     "input": [
      "clust0 = data_pca[data_clust.Cluster == 0]\n",
      "print(clust0.Aircraft)"
     ],
     "language": "python",
     "metadata": {},
     "outputs": []
    },
    {
     "cell_type": "markdown",
     "metadata": {},
     "source": [
      "These aircrafts do not have first class seating:"
     ]
    },
    {
     "cell_type": "code",
     "collapsed": false,
     "input": [
      "print(df.loc[clust0.index, cols_seat])"
     ],
     "language": "python",
     "metadata": {},
     "outputs": []
    },
    {
     "cell_type": "markdown",
     "metadata": {},
     "source": [
      "Finally, cluster 2 has the following aircrafts:"
     ]
    },
    {
     "cell_type": "code",
     "collapsed": false,
     "input": [
      "clust2 = data_pca[data_clust.Cluster == 2]\n",
      "print(clust2.Aircraft)"
     ],
     "language": "python",
     "metadata": {},
     "outputs": []
    },
    {
     "cell_type": "markdown",
     "metadata": {},
     "source": [
      "The aircrafts in cluster 2 have first class seating but no business class."
     ]
    },
    {
     "cell_type": "code",
     "collapsed": false,
     "input": [
      "print(df.loc[clust2.index, cols_seat])"
     ],
     "language": "python",
     "metadata": {},
     "outputs": []
    },
    {
     "cell_type": "code",
     "collapsed": false,
     "input": [],
     "language": "python",
     "metadata": {},
     "outputs": []
    }
   ],
   "metadata": {}
  }
 ]
}