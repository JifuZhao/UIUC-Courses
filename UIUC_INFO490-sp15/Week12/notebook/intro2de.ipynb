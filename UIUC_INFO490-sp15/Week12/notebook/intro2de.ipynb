{
 "metadata": {
  "name": "",
  "signature": "sha256:78a3267b898a884d3a5913cb00741d0baf2b8a58c62f3e01696302bf7266b605"
 },
 "nbformat": 3,
 "nbformat_minor": 0,
 "worksheets": [
  {
   "cells": [
    {
     "cell_type": "markdown",
     "metadata": {},
     "source": [
      "<DIV ALIGN=CENTER>\n",
      "\n",
      "# Data Preparation  \n",
      "## Professor Robert J. Brunner\n",
      "  \n",
      "</DIV>  \n",
      "-----\n",
      "-----"
     ]
    },
    {
     "cell_type": "markdown",
     "metadata": {},
     "source": [
      "## Introduction\n",
      "\n",
      "In this Notebook, we start to examine the topic of data exploration.\n",
      "Before one can begin to visually or analytically explore a dataset, many\n",
      "mundane tasks often must be performed In this lesson, we cover many of\n",
      "these steps by using the _flights_ database.\n",
      "\n",
      "This will require us to read data from the SQLite3 database we\n",
      "constructed previously, specifically the flight information data. To\n",
      "complete this task, we first need to construct a suitable SQL query,\n",
      "establish a database connection, execute the query, and process the\n",
      "query results, which in this case simply means accumulating a list of\n",
      "rows extracted by the query.\n",
      "\n",
      "-----"
     ]
    },
    {
     "cell_type": "code",
     "collapsed": false,
     "input": [
      "# Lets grab data from the sqlite database\n",
      "import sqlite3 as sl\n",
      "\n",
      "# Our list of airport rows\n",
      "airports = []\n",
      "\n",
      "# The database location\n",
      "database = '/notebooks/i2ds/database/i2ds'\n",
      "\n",
      "# The airport query, all columns specified in order.\n",
      "query = \"SELECT * FROM flights\"\n",
      "\n",
      "# Establish a connection\n",
      "with sl.connect(database) as con:\n",
      "    \n",
      "    # We need this to read in latin-1 characters\n",
      "    con.text_factory = bytes\n",
      "    \n",
      "    # We will wrap our database access statements with exception handling\n",
      "\n",
      "    try:\n",
      "        \n",
      "        # Get a cursor and execute our query\n",
      "\n",
      "        cur = con.cursor()\n",
      "        cur.execute(query)   \n",
      "    \n",
      "        # Iterate through the query results to build airport list\n",
      "        for row in cur.execute(query):\n",
      "            airports.append(row)\n",
      "        \n",
      "    except sl.Warning as w:\n",
      "        print(\"Warning:\", w.args[0])\n",
      "\n",
      "    except sl.Error as e:\n",
      "        print(\"Error:\", e.args[0])\n",
      "\n",
      "# Now display the first few entries\n",
      "print(airports[0:3])"
     ],
     "language": "python",
     "metadata": {},
     "outputs": []
    },
    {
     "cell_type": "markdown",
     "metadata": {},
     "source": [
      "-----\n",
      "\n",
      "If you do execute the previous code cell, rather than getting an\n",
      "airports list, you most likely receive the following message window:\n",
      "\n",
      "![Kernel Restart](images/restart.png)\n",
      "\n",
      "First, note that this message means all definitions, including code\n",
      "imports and variable or function definitions have been lost and will\n",
      "need to be re-entered (in a new code cell!) before being used again.\n",
      "Second, we will need to perform some detective work to uncover the\n",
      "issue. As a next step, lets take a look at the size of the input data\n",
      "file we used to construct the Airport database. For this we can simply\n",
      "use the `wc` command to count the lines in the `2001.csv` file.\n",
      "\n",
      "----"
     ]
    },
    {
     "cell_type": "code",
     "collapsed": false,
     "input": [
      "!wc -l /notebooks/i2ds/data/2001.csv"
     ],
     "language": "python",
     "metadata": {},
     "outputs": [
      {
       "output_type": "stream",
       "stream": "stdout",
       "text": [
        "5967781 /notebooks/i2ds/data/2001.csv\r\n"
       ]
      }
     ],
     "prompt_number": 1
    },
    {
     "cell_type": "markdown",
     "metadata": {},
     "source": [
      "-----\n",
      "\n",
      "The input file _only_ contains just under six millions rows, that\n",
      "shouldn't be a problem, but lets take a look at the database file size.\n",
      "That should give some idea to the amount of data we are trying to pull\n",
      "out of the database and into our IPython kernel. We can do this with the\n",
      "`ls` command by using the `-la` flag and he full path info to our\n",
      "database file, which is located at `/notebooks/i2ds/database/i2ds`.\n",
      "\n",
      "-----"
     ]
    },
    {
     "cell_type": "code",
     "collapsed": false,
     "input": [
      "!ls -la /notebooks/i2ds/database/i2ds"
     ],
     "language": "python",
     "metadata": {},
     "outputs": [
      {
       "output_type": "stream",
       "stream": "stdout",
       "text": [
        "-rw-r--r-- 1 1000 staff 562024448 Apr  6 21:40 /notebooks/i2ds/database/i2ds\r\n"
       ]
      }
     ],
     "prompt_number": 2
    },
    {
     "cell_type": "markdown",
     "metadata": {},
     "source": [
      "----\n",
      "\n",
      "The database file is over half a gigabyte of data. That is a lot of data,\n",
      "and even though we may have a lot of memory, it could be the problem.\n",
      "One thought is that maybe a general SQL query, by using \n",
      "`SELECT * FROM flights` \n",
      "was a problem, and that maybe we should modify our original\n",
      "query to explicitly list all columns:\n",
      "\n",
      "```python\n",
      "\n",
      "query = '''SELECT\n",
      "year, Month, dayOfMonth, dayOfWeek, actualDepartureTime, scheduledDepartureTime, \n",
      "arrivalArrivalTime, scheduledArrivalTime, uniqueCarrierCode, flightNumber,\n",
      "tailNumber, actualElapsedTime, scheduledElapsedTime, airTime, arrivalDelay, \n",
      "departureDelay, originCode, destinationCode, distance, taxiIn, taxiOut, cancelled,\n",
      "cancellationCode, diverted, carrierDelay, weatherDelay, nasDelay, \n",
      "securityDelay, lateAircraftDelay\n",
      "FROM flights;\n",
      "'''\n",
      "```\n",
      "\n",
      "I don't recommend trying this, however, as this will probably still\n",
      "require a Kernel restart. To beter understand the issue, we can look at\n",
      "our available memory with the `free` command, which will run in our\n",
      "Docker container. To make it easier to read, we will use the `-m` flag,\n",
      "which lists all data in megabytes.\n",
      "\n",
      "-----"
     ]
    },
    {
     "cell_type": "code",
     "collapsed": false,
     "input": [
      "!free -m"
     ],
     "language": "python",
     "metadata": {},
     "outputs": [
      {
       "output_type": "stream",
       "stream": "stdout",
       "text": [
        "             total       used       free     shared    buffers     cached\r\n",
        "Mem:          2008        216       1791          3          8         42\r\n",
        "-/+ buffers/cache:        165       1842\r\n",
        "Swap:         1433        116       1316\r\n"
       ]
      }
     ],
     "prompt_number": 3
    },
    {
     "cell_type": "markdown",
     "metadata": {},
     "source": [
      "-----\n",
      "\n",
      "For completeness, the output from my running Docker container is shown\n",
      "below.\n",
      "\n",
      "![Docker Free Memory](images/docker-free.png)\n",
      "\n",
      "Interesting, our Docker container doesn't have much memory. On my\n",
      "system, the container only has a little over 2000 megabytes total, of\n",
      "which about 1700 is free for use. Since we are all running a Docker\n",
      "container inside a VirtualBox Ubuntu image, we can see the explicit\n",
      "limitation this produces:\n",
      "\n",
      "![VBox Memory Usage](images/vbox-memory.png)\n",
      "\n",
      "The VirtualBox image has only 2048 Mbytes available for the entire\n",
      "virtual machine, inside which our Docker container is running. In fact,\n",
      "this would be a good time to verify that only one Docker container is\n",
      "running inside our virtual machine. We can do this by entering `docker\n",
      "ps` at the command line of a _Boot2Docker_ prompt (you can open a new\n",
      "Boot2Docker shell to do this.\n",
      "\n",
      "![Docker ps](images/docker-ps.png)\n",
      "\n",
      "So, we have no other containers running (if you do, you might close them\n",
      "down with `docker stop` and the container name as shown by `docker ps`.\n",
      "Be sure to leave the current IPython Notebook server running, or you\n",
      "will need to restart the container to use this Notebook.\n",
      "\n",
      "At this point, we should simply read the data straight into a Pandas\n",
      "DataFrame from the original CSV file.\n",
      "\n",
      "-----"
     ]
    },
    {
     "cell_type": "code",
     "collapsed": false,
     "input": [
      "# Lets grab data from the sqlite database\n",
      "import pandas as pd\n",
      "\n",
      "csvfile = '/notebooks/i2ds/data/2001.csv'\n",
      "\n",
      "try:\n",
      "\n",
      "    data = pd.read_csv(csvfile, encoding='latin-1')\n",
      "\n",
      "    # Now display the first few entries\n",
      "    print(data.head())\n",
      "\n",
      "except Exception as e:\n",
      "    print(\"Error:\", type(e))\n"
     ],
     "language": "python",
     "metadata": {},
     "outputs": [
      {
       "output_type": "stream",
       "stream": "stdout",
       "text": [
        "Error: <class 'MemoryError'>\n"
       ]
      }
     ],
     "prompt_number": 4
    },
    {
     "cell_type": "markdown",
     "metadata": {},
     "source": [
      "-----\n",
      "\n",
      "Well, at least we didn't get a **Kernel Restart** dialog box, but this\n",
      "isn't good. We still haven't read in the data (you can verify that\n",
      "`data` is empty, by simplifying entering `data` in a code cell and\n",
      "executing the cell, this will produce a `NameError: name 'data' is not\n",
      "defined` message).\n",
      "\n",
      "We can look at the available memory again with `free -m`, either in a\n",
      "code cell or in a Docker container, preferably the one in which our\n",
      "IPython Notebook server is running (remember you can attach to a running\n",
      "Docker container by using `docker exec it `_name_` /bin/bash` where\n",
      "_name_ is the name of the running container to which you want to attach.\n",
      "\n",
      "Look at the available memory by using `free -m`, either in this\n",
      "Notebook, or at the Docker container prompt. Afterwards, manually\n",
      "restart the kernel (either by clicking on the _circular arrow_ button or\n",
      "choosing the _Restart_ item from the _Kernel_ menu. Now check the\n",
      "available memory again and notice the change. The results of these\n",
      "commands as run in my Docker container are shown in the following image.\n",
      "\n",
      "![Free Memory](images/memory.png)\n",
      "\n",
      "First, notice how much free space is recovered by restarting the kernel.\n",
      "Second, notice how much swap memory is recovered by restarting the\n",
      "kernel. In both cases, over 700 Megabytes were recovered on my system. \n",
      "\n",
      "-----"
     ]
    },
    {
     "cell_type": "code",
     "collapsed": false,
     "input": [
      "!free -m"
     ],
     "language": "python",
     "metadata": {},
     "outputs": [
      {
       "output_type": "stream",
       "stream": "stdout",
       "text": [
        "             total       used       free     shared    buffers     cached\r\n",
        "Mem:          2008        921       1086          1          0         14\r\n",
        "-/+ buffers/cache:        906       1101\r\n",
        "Swap:         1433        758        674\r\n"
       ]
      }
     ],
     "prompt_number": 5
    },
    {
     "cell_type": "markdown",
     "metadata": {},
     "source": [
      "-----\n",
      "\n",
      "But this lesson is not (solely) about managing Docker containers,\n",
      "especially in terms of their memory footprint. Lets look again at the\n",
      "original CSV file, this time to see how the full character count, which\n",
      "we can get with `wc` command with no flags.\n",
      "\n",
      "------"
     ]
    },
    {
     "cell_type": "code",
     "collapsed": false,
     "input": [
      "!wc /notebooks/i2ds/data/2001.csv"
     ],
     "language": "python",
     "metadata": {},
     "outputs": [
      {
       "output_type": "stream",
       "stream": "stdout",
       "text": [
        "  5967781   5967781 600411462 /notebooks/i2ds/data/2001.csv\r\n"
       ]
      }
     ],
     "prompt_number": 6
    },
    {
     "cell_type": "markdown",
     "metadata": {},
     "source": [
      "-----\n",
      "\n",
      "So, as we see from the third numerical column of the `wc` output, the\n",
      "CSV file has over 600 million characters of data. This is a lot of data\n",
      "to be pulling into one program, so lets take a different approach. We\n",
      "can first identify what columns we will want to analyze, and only\n",
      "extract those columns. To do this, the easiest approach is to simply\n",
      "examine the header row of the CSV file, which we can do by using the\n",
      "`head` command.\n",
      "\n",
      "-----"
     ]
    },
    {
     "cell_type": "code",
     "collapsed": false,
     "input": [
      "!head -5 /notebooks/i2ds/data/2001.csv"
     ],
     "language": "python",
     "metadata": {},
     "outputs": [
      {
       "output_type": "stream",
       "stream": "stdout",
       "text": [
        "Year,Month,DayofMonth,DayOfWeek,DepTime,CRSDepTime,ArrTime,CRSArrTime,UniqueCarrier,FlightNum,TailNum,ActualElapsedTime,CRSElapsedTime,AirTime,ArrDelay,DepDelay,Origin,Dest,Distance,TaxiIn,TaxiOut,Cancelled,CancellationCode,Diverted,CarrierDelay,WeatherDelay,NASDelay,SecurityDelay,LateAircraftDelay\r\n",
        "2001,1,17,3,1806,1810,1931,1934,US,375,N700\ufffd\ufffd,85,84,60,-3,-4,BWI,CLT,361,5,20,0,NA,0,NA,NA,NA,NA,NA\r\n",
        "2001,1,18,4,1805,1810,1938,1934,US,375,N713\ufffd\ufffd,93,84,64,4,-5,BWI,CLT,361,9,20,0,NA,0,NA,NA,NA,NA,NA\r\n",
        "2001,1,19,5,1821,1810,1957,1934,US,375,N702\ufffd\ufffd,96,84,80,23,11,BWI,CLT,361,6,10,0,NA,0,NA,NA,NA,NA,NA\r\n",
        "2001,1,20,6,1807,1810,1944,1934,US,375,N701\ufffd\ufffd,97,84,66,10,-3,BWI,CLT,361,4,27,0,NA,0,NA,NA,NA,NA,NA\r\n"
       ]
      }
     ],
     "prompt_number": 7
    },
    {
     "cell_type": "markdown",
     "metadata": {},
     "source": [
      "-----\n",
      "\n",
      "It should be interesting to explore the relationship between arrival\n",
      "and departure times, and delays. We also might want to know if this\n",
      "varies with month, airport, or day of the week. so lets grab those\n",
      "columns from data file. We can do this using SQL and Pandas.\n",
      "\n",
      "```python\n",
      "\n",
      "import sqlite3 as sl\n",
      "import pandas as pd\n",
      "\n",
      "query = \"\"\"\n",
      "    SELECT dayOfWeek, month, actualDepartureTime, arrivalArrivalTime, \n",
      "           flightNumber, arrivalDelay, departureDelay, distance, originCode, \n",
      "           destinationCode \n",
      "    FROM flights \n",
      "\"\"\"\n",
      "\n",
      "with sl.connect(database) as con:\n",
      "    data = pd.read_sql(query, con)\n",
      "```\n",
      "\n",
      "If we do this though, we will get again run out of memory (if you don't\n",
      "believe me, try running this code and while it is running keep entering\n",
      "`free -m` in a Docker container and watch first the free memory and then\n",
      "the swap memory disappear). This will lead to the following window:\n",
      "\n",
      "![Kernel Restart](images/restart.png)\n",
      "\n",
      "To keep the memory requirements to a minimum, we can grab out two\n",
      "columns and explore what this can teach us about extracting more data.\n",
      "For now, we can extract the arrival and departure delay columns from the\n",
      "database.\n",
      "\n",
      "-----"
     ]
    },
    {
     "cell_type": "code",
     "collapsed": false,
     "input": [
      "# Lets grab data from the sqlite database\n",
      "\n",
      "import sqlite3 as sl\n",
      "import pandas as pd\n",
      "\n",
      "database = '/notebooks/i2ds/database/i2ds'\n",
      "\n",
      "query = '''SELECT arrivalDelay, departureDelay FROM flights '''\n",
      "\n",
      "with sl.connect(database) as con:\n",
      "    data = pd.read_sql(query, con)\n",
      "\n",
      "# Now display the first few entries\n",
      "print(data.head())\n"
     ],
     "language": "python",
     "metadata": {},
     "outputs": [
      {
       "output_type": "stream",
       "stream": "stdout",
       "text": [
        "  arrivalDelay departureDelay\n",
        "0           -3             -4\n",
        "1            4             -5\n",
        "2           23             11\n",
        "3           10             -3\n",
        "4           20              0\n",
        "\n",
        "[5 rows x 2 columns]\n"
       ]
      }
     ],
     "prompt_number": 8
    },
    {
     "cell_type": "code",
     "collapsed": false,
     "input": [
      "!free -m"
     ],
     "language": "python",
     "metadata": {},
     "outputs": [
      {
       "ename": "ExceptionPexpect",
       "evalue": "Error! pty.fork() failed: [Errno 12] Cannot allocate memory",
       "output_type": "pyerr",
       "traceback": [
        "\u001b[1;31m---------------------------------------------------------------------------\u001b[0m\n\u001b[1;31mExceptionPexpect\u001b[0m                          Traceback (most recent call last)",
        "\u001b[1;32m<ipython-input-9-1c2b7b99daf1>\u001b[0m in \u001b[0;36m<module>\u001b[1;34m()\u001b[0m\n\u001b[1;32m----> 1\u001b[1;33m \u001b[0mget_ipython\u001b[0m\u001b[1;33m(\u001b[0m\u001b[1;33m)\u001b[0m\u001b[1;33m.\u001b[0m\u001b[0msystem\u001b[0m\u001b[1;33m(\u001b[0m\u001b[1;34m'free -m'\u001b[0m\u001b[1;33m)\u001b[0m\u001b[1;33m\u001b[0m\u001b[0m\n\u001b[0m",
        "\u001b[1;32m/usr/local/lib/python3.4/dist-packages/IPython/core/interactiveshell.py\u001b[0m in \u001b[0;36msystem_piped\u001b[1;34m(self, cmd)\u001b[0m\n\u001b[0;32m   2254\u001b[0m         \u001b[1;31m# a non-None value would trigger :func:`sys.displayhook` calls.\u001b[0m\u001b[1;33m\u001b[0m\u001b[1;33m\u001b[0m\u001b[0m\n\u001b[0;32m   2255\u001b[0m         \u001b[1;31m# Instead, we store the exit_code in user_ns.\u001b[0m\u001b[1;33m\u001b[0m\u001b[1;33m\u001b[0m\u001b[0m\n\u001b[1;32m-> 2256\u001b[1;33m         \u001b[0mself\u001b[0m\u001b[1;33m.\u001b[0m\u001b[0muser_ns\u001b[0m\u001b[1;33m[\u001b[0m\u001b[1;34m'_exit_code'\u001b[0m\u001b[1;33m]\u001b[0m \u001b[1;33m=\u001b[0m \u001b[0msystem\u001b[0m\u001b[1;33m(\u001b[0m\u001b[0mself\u001b[0m\u001b[1;33m.\u001b[0m\u001b[0mvar_expand\u001b[0m\u001b[1;33m(\u001b[0m\u001b[0mcmd\u001b[0m\u001b[1;33m,\u001b[0m \u001b[0mdepth\u001b[0m\u001b[1;33m=\u001b[0m\u001b[1;36m1\u001b[0m\u001b[1;33m)\u001b[0m\u001b[1;33m)\u001b[0m\u001b[1;33m\u001b[0m\u001b[0m\n\u001b[0m\u001b[0;32m   2257\u001b[0m \u001b[1;33m\u001b[0m\u001b[0m\n\u001b[0;32m   2258\u001b[0m     \u001b[1;32mdef\u001b[0m \u001b[0msystem_raw\u001b[0m\u001b[1;33m(\u001b[0m\u001b[0mself\u001b[0m\u001b[1;33m,\u001b[0m \u001b[0mcmd\u001b[0m\u001b[1;33m)\u001b[0m\u001b[1;33m:\u001b[0m\u001b[1;33m\u001b[0m\u001b[0m\n",
        "\u001b[1;32m/usr/local/lib/python3.4/dist-packages/IPython/utils/_process_posix.py\u001b[0m in \u001b[0;36msystem\u001b[1;34m(self, cmd)\u001b[0m\n\u001b[0;32m    151\u001b[0m             \u001b[1;31m#child = pexpect.spawn(pcmd, searchwindowsize=1)\u001b[0m\u001b[1;33m\u001b[0m\u001b[1;33m\u001b[0m\u001b[0m\n\u001b[0;32m    152\u001b[0m             \u001b[1;32mif\u001b[0m \u001b[0mhasattr\u001b[0m\u001b[1;33m(\u001b[0m\u001b[0mpexpect\u001b[0m\u001b[1;33m,\u001b[0m \u001b[1;34m'spawnb'\u001b[0m\u001b[1;33m)\u001b[0m\u001b[1;33m:\u001b[0m\u001b[1;33m\u001b[0m\u001b[0m\n\u001b[1;32m--> 153\u001b[1;33m                 \u001b[0mchild\u001b[0m \u001b[1;33m=\u001b[0m \u001b[0mpexpect\u001b[0m\u001b[1;33m.\u001b[0m\u001b[0mspawnb\u001b[0m\u001b[1;33m(\u001b[0m\u001b[0mself\u001b[0m\u001b[1;33m.\u001b[0m\u001b[0msh\u001b[0m\u001b[1;33m,\u001b[0m \u001b[0margs\u001b[0m\u001b[1;33m=\u001b[0m\u001b[1;33m[\u001b[0m\u001b[1;34m'-c'\u001b[0m\u001b[1;33m,\u001b[0m \u001b[0mcmd\u001b[0m\u001b[1;33m]\u001b[0m\u001b[1;33m)\u001b[0m \u001b[1;31m# Pexpect-U\u001b[0m\u001b[1;33m\u001b[0m\u001b[0m\n\u001b[0m\u001b[0;32m    154\u001b[0m             \u001b[1;32melse\u001b[0m\u001b[1;33m:\u001b[0m\u001b[1;33m\u001b[0m\u001b[0m\n\u001b[0;32m    155\u001b[0m                 \u001b[0mchild\u001b[0m \u001b[1;33m=\u001b[0m \u001b[0mpexpect\u001b[0m\u001b[1;33m.\u001b[0m\u001b[0mspawn\u001b[0m\u001b[1;33m(\u001b[0m\u001b[0mself\u001b[0m\u001b[1;33m.\u001b[0m\u001b[0msh\u001b[0m\u001b[1;33m,\u001b[0m \u001b[0margs\u001b[0m\u001b[1;33m=\u001b[0m\u001b[1;33m[\u001b[0m\u001b[1;34m'-c'\u001b[0m\u001b[1;33m,\u001b[0m \u001b[0mcmd\u001b[0m\u001b[1;33m]\u001b[0m\u001b[1;33m)\u001b[0m  \u001b[1;31m# Vanilla Pexpect\u001b[0m\u001b[1;33m\u001b[0m\u001b[0m\n",
        "\u001b[1;32m/usr/local/lib/python3.4/dist-packages/IPython/external/pexpect/_pexpect.py\u001b[0m in \u001b[0;36m__init__\u001b[1;34m(self, command, args, timeout, maxread, searchwindowsize, logfile, cwd, env)\u001b[0m\n\u001b[0;32m    457\u001b[0m             \u001b[0mself\u001b[0m\u001b[1;33m.\u001b[0m\u001b[0mname\u001b[0m \u001b[1;33m=\u001b[0m \u001b[1;34m'<pexpect factory incomplete>'\u001b[0m\u001b[1;33m\u001b[0m\u001b[0m\n\u001b[0;32m    458\u001b[0m         \u001b[1;32melse\u001b[0m\u001b[1;33m:\u001b[0m\u001b[1;33m\u001b[0m\u001b[0m\n\u001b[1;32m--> 459\u001b[1;33m             \u001b[0mself\u001b[0m\u001b[1;33m.\u001b[0m\u001b[0m_spawn\u001b[0m \u001b[1;33m(\u001b[0m\u001b[0mcommand\u001b[0m\u001b[1;33m,\u001b[0m \u001b[0margs\u001b[0m\u001b[1;33m)\u001b[0m\u001b[1;33m\u001b[0m\u001b[0m\n\u001b[0m\u001b[0;32m    460\u001b[0m \u001b[1;33m\u001b[0m\u001b[0m\n\u001b[0;32m    461\u001b[0m     \u001b[1;32mdef\u001b[0m \u001b[0m__del__\u001b[0m\u001b[1;33m(\u001b[0m\u001b[0mself\u001b[0m\u001b[1;33m)\u001b[0m\u001b[1;33m:\u001b[0m\u001b[1;33m\u001b[0m\u001b[0m\n",
        "\u001b[1;32m/usr/local/lib/python3.4/dist-packages/IPython/external/pexpect/_pexpect.py\u001b[0m in \u001b[0;36m_spawn\u001b[1;34m(self, command, args)\u001b[0m\n\u001b[0;32m    557\u001b[0m                 \u001b[0mself\u001b[0m\u001b[1;33m.\u001b[0m\u001b[0mpid\u001b[0m\u001b[1;33m,\u001b[0m \u001b[0mself\u001b[0m\u001b[1;33m.\u001b[0m\u001b[0mchild_fd\u001b[0m \u001b[1;33m=\u001b[0m \u001b[0mpty\u001b[0m\u001b[1;33m.\u001b[0m\u001b[0mfork\u001b[0m\u001b[1;33m(\u001b[0m\u001b[1;33m)\u001b[0m\u001b[1;33m\u001b[0m\u001b[0m\n\u001b[0;32m    558\u001b[0m             \u001b[1;32mexcept\u001b[0m \u001b[0mOSError\u001b[0m \u001b[1;32mas\u001b[0m \u001b[0me\u001b[0m\u001b[1;33m:\u001b[0m\u001b[1;33m\u001b[0m\u001b[0m\n\u001b[1;32m--> 559\u001b[1;33m                 \u001b[1;32mraise\u001b[0m \u001b[0mExceptionPexpect\u001b[0m\u001b[1;33m(\u001b[0m\u001b[1;34m'Error! pty.fork() failed: '\u001b[0m \u001b[1;33m+\u001b[0m \u001b[0mstr\u001b[0m\u001b[1;33m(\u001b[0m\u001b[0me\u001b[0m\u001b[1;33m)\u001b[0m\u001b[1;33m)\u001b[0m\u001b[1;33m\u001b[0m\u001b[0m\n\u001b[0m\u001b[0;32m    560\u001b[0m         \u001b[1;32melse\u001b[0m\u001b[1;33m:\u001b[0m \u001b[1;31m# Use internal __fork_pty\u001b[0m\u001b[1;33m\u001b[0m\u001b[0m\n\u001b[0;32m    561\u001b[0m             \u001b[0mself\u001b[0m\u001b[1;33m.\u001b[0m\u001b[0mpid\u001b[0m\u001b[1;33m,\u001b[0m \u001b[0mself\u001b[0m\u001b[1;33m.\u001b[0m\u001b[0mchild_fd\u001b[0m \u001b[1;33m=\u001b[0m \u001b[0mself\u001b[0m\u001b[1;33m.\u001b[0m\u001b[0m__fork_pty\u001b[0m\u001b[1;33m(\u001b[0m\u001b[1;33m)\u001b[0m\u001b[1;33m\u001b[0m\u001b[0m\n",
        "\u001b[1;31mExceptionPexpect\u001b[0m: Error! pty.fork() failed: [Errno 12] Cannot allocate memory"
       ]
      }
     ],
     "prompt_number": 9
    },
    {
     "cell_type": "markdown",
     "metadata": {},
     "source": [
      "----- \n",
      "\n",
      "Notice how simply extracting these two columns from the database\n",
      "consumed a significant amount of memory, as seen above, you might have\n",
      "consumed enough memory to prevent the IPython kernel from creating a new\n",
      "Unix process to execute the `free -m` command (you can still issue this\n",
      "command at a Unix prompt in a docker container). Given this result, it\n",
      "is no wonder our previous efforts produced a _MemoryError_ or a Kernel\n",
      "restart. But the better question is why? We should have two values for\n",
      "about 6 million rows, which even for 8 bytes per value should be less\n",
      "than 100 Megabytes. \n",
      "\n",
      "To understand this issue better, we can examine our pandas DataFrame.\n",
      "\n",
      "-----"
     ]
    },
    {
     "cell_type": "code",
     "collapsed": false,
     "input": [
      "data.describe()"
     ],
     "language": "python",
     "metadata": {},
     "outputs": [
      {
       "html": [
        "<div style=\"max-height:1000px;max-width:1500px;overflow:auto;\">\n",
        "<table border=\"1\" class=\"dataframe\">\n",
        "  <thead>\n",
        "    <tr style=\"text-align: right;\">\n",
        "      <th></th>\n",
        "      <th>arrivalDelay</th>\n",
        "      <th>departureDelay</th>\n",
        "    </tr>\n",
        "  </thead>\n",
        "  <tbody>\n",
        "    <tr>\n",
        "      <th>count</th>\n",
        "      <td> 5967780</td>\n",
        "      <td> 5967780</td>\n",
        "    </tr>\n",
        "    <tr>\n",
        "      <th>unique</th>\n",
        "      <td>    1002</td>\n",
        "      <td>     978</td>\n",
        "    </tr>\n",
        "    <tr>\n",
        "      <th>top</th>\n",
        "      <td>      NA</td>\n",
        "      <td>       0</td>\n",
        "    </tr>\n",
        "    <tr>\n",
        "      <th>freq</th>\n",
        "      <td>  244107</td>\n",
        "      <td> 1071165</td>\n",
        "    </tr>\n",
        "  </tbody>\n",
        "</table>\n",
        "<p>4 rows \u00d7 2 columns</p>\n",
        "</div>"
       ],
       "metadata": {},
       "output_type": "pyout",
       "prompt_number": 11,
       "text": [
        "       arrivalDelay  departureDelay\n",
        "count       5967780         5967780\n",
        "unique         1002             978\n",
        "top              NA               0\n",
        "freq         244107         1071165\n",
        "\n",
        "[4 rows x 2 columns]"
       ]
      }
     ],
     "prompt_number": 11
    },
    {
     "cell_type": "markdown",
     "metadata": {},
     "source": [
      "-----\n",
      "\n",
      "So the output is informative in that we have the correct number of rows,\n",
      "however, we do not have the normal numerical output, which lists, among\n",
      "others, the `min`, `max`, and `mean` values. To continue this line of\n",
      "research, we can examine the data types used for the columns in our\n",
      "DataFrame.\n",
      "\n",
      "-----"
     ]
    },
    {
     "cell_type": "code",
     "collapsed": false,
     "input": [
      "data.dtypes"
     ],
     "language": "python",
     "metadata": {},
     "outputs": [
      {
       "metadata": {},
       "output_type": "pyout",
       "prompt_number": 12,
       "text": [
        "arrivalDelay      object\n",
        "departureDelay    object\n",
        "dtype: object"
       ]
      }
     ],
     "prompt_number": 12
    },
    {
     "cell_type": "markdown",
     "metadata": {},
     "source": [
      "-----\n",
      "\n",
      "So our DataFrame is using objects to hold the values in both columns.\n",
      "This is why we have memory issues, as the _object_ data type consumes\n",
      "significantly more memory. Note that we could also see this information\n",
      "by using the `info` method, as shown in the next code cell.\n",
      "\n",
      "-----"
     ]
    },
    {
     "cell_type": "code",
     "collapsed": false,
     "input": [
      "data.info(verbose=True)"
     ],
     "language": "python",
     "metadata": {},
     "outputs": [
      {
       "output_type": "stream",
       "stream": "stdout",
       "text": [
        "<class 'pandas.core.frame.DataFrame'>\n",
        "Int64Index: 5967780 entries, 0 to 5967779\n",
        "Data columns (total 2 columns):\n",
        "arrivalDelay      object\n",
        "departureDelay    object\n",
        "dtypes: object(2)"
       ]
      }
     ],
     "prompt_number": 13
    },
    {
     "cell_type": "markdown",
     "metadata": {},
     "source": [
      "-----\n",
      "\n",
      "But this doesn't explain why Pandas chose to use the _object_ data type.\n",
      "TO see why, lets take a look at the original data file again, in this\n",
      "case, the last few rows, which we can do by using the `tail` command.\n",
      "\n",
      "But first, we need to perform a manual kernel restart to reclaim enough memory to issue the tail command. The easist method to accmoplish this is to select `Restart` from the `Kernel` menu.\n",
      "\n",
      "-----"
     ]
    },
    {
     "cell_type": "code",
     "collapsed": false,
     "input": [
      "!tail -5 /notebooks/i2ds/data/2001.csv"
     ],
     "language": "python",
     "metadata": {},
     "outputs": [
      {
       "output_type": "stream",
       "stream": "stdout",
       "text": [
        "2001,12,14,5,704,700,1159,1155,DL,678,-N914D,175,175,148,4,4,ONT,DFW,1189,14,13,0,NA,0,NA,NA,NA,NA,NA\r\n",
        "2001,12,15,6,708,700,1158,1155,DL,678,-N913D,170,175,143,3,8,ONT,DFW,1189,9,18,0,NA,0,NA,NA,NA,NA,NA\r\n",
        "2001,12,16,7,656,700,1147,1155,DL,678,-N910D,171,175,153,-8,-4,ONT,DFW,1189,7,11,0,NA,0,NA,NA,NA,NA,NA\r\n",
        "2001,12,17,1,656,700,1151,1155,DL,678,N906D1,175,175,151,-4,-4,ONT,DFW,1189,13,11,0,NA,0,NA,NA,NA,NA,NA\r\n",
        "2001,12,18,2,709,700,1158,1155,DL,678,N905D1,169,175,143,3,9,ONT,DFW,1189,10,16,0,NA,0,NA,NA,NA,NA,NA\r\n"
       ]
      }
     ],
     "prompt_number": 1
    },
    {
     "cell_type": "markdown",
     "metadata": {},
     "source": [
      "----\n",
      "\n",
      "So, the columns of interest (among others) contain NA values, which are\n",
      "stored in the database as Text values (recall that sqlite3 allows you to\n",
      "store any value in a column of any data type (presumably by type\n",
      "promotion). Thus, these _bad values_ are causing our problems, which we\n",
      "can rectify in one of two ways:\n",
      "\n",
      "1. Force integer data type, and\n",
      "2. Obtain more storage space. \n",
      "\n",
      "The best solution, even in the presence of more memory, is to use the\n",
      "appropriate data type, which in this case requires us to remove the _NA_\n",
      "values. Another issue, however, is that according to the documentation\n",
      "for the most recent version of Pandas, these issues should not be this\n",
      "severe. In Pandas 0.15.2 or higher, for example, we can monitor our\n",
      "memory usage as follows:\n",
      "\n",
      "```python\n",
      "data.memory_usage(verbose=true)\n",
      "```\n",
      "\n",
      "This does not work in our Docker container, however, as demonstrated in\n",
      "the next code cell.\n",
      "\n",
      "----"
     ]
    },
    {
     "cell_type": "code",
     "collapsed": false,
     "input": [
      "import pandas as pd\n",
      "\n",
      "print(pd.version.version)"
     ],
     "language": "python",
     "metadata": {},
     "outputs": [
      {
       "output_type": "stream",
       "stream": "stdout",
       "text": [
        "0.13.1\n"
       ]
      }
     ],
     "prompt_number": 2
    },
    {
     "cell_type": "markdown",
     "metadata": {},
     "source": [
      "-----\n",
      "\n",
      "Our version of Pandas is approximately a year out of date! This raises\n",
      "another important point, always know the software versions of all tools\n",
      "being used. Even though this Docker container is built by using the\n",
      "latest version of tools and libraries available on  _Ubuntu_, for\n",
      "example by using `sudo apt-get install`, you might be using a version\n",
      "different than expected. This is obviously very important when checking\n",
      "the documentation, as you must be sure to use the appropriate version of\n",
      "the documentation.\n",
      "\n",
      "We can return to the data extraction, but now we will explicitly remove\n",
      "rows where either column of interest has a bad value. We can do this by\n",
      "including a _WHERE_ clause as shown below.\n",
      "\n",
      "-----"
     ]
    },
    {
     "cell_type": "code",
     "collapsed": false,
     "input": [
      "# Lets grab data from the sqlite database\n",
      "\n",
      "import sqlite3 as sl\n",
      "import pandas as pd\n",
      "\n",
      "database = '/notebooks/i2ds/database/i2ds'\n",
      "\n",
      "query = '''SELECT arrivalDelay, departureDelay \n",
      "    FROM flights\n",
      "    WHERE arrivalDelay != 'NA' AND\n",
      "        departureDelay != 'NA' ; '''\n",
      "\n",
      "with sl.connect(database) as con:\n",
      "    data = pd.read_sql(query, con)\n",
      "\n",
      "# Now display the first few entries\n",
      "print(data.head())"
     ],
     "language": "python",
     "metadata": {},
     "outputs": [
      {
       "output_type": "stream",
       "stream": "stdout",
       "text": [
        "   arrivalDelay  departureDelay\n",
        "0            -3              -4\n",
        "1             4              -5\n",
        "2            23              11\n",
        "3            10              -3\n",
        "4            20               0\n",
        "\n",
        "[5 rows x 2 columns]\n"
       ]
      }
     ],
     "prompt_number": 3
    },
    {
     "cell_type": "code",
     "collapsed": false,
     "input": [
      "!free -m"
     ],
     "language": "python",
     "metadata": {},
     "outputs": [
      {
       "output_type": "stream",
       "stream": "stdout",
       "text": [
        "             total       used       free     shared    buffers     cached\r\n",
        "Mem:          2008        379       1628          3          4         47\r\n",
        "-/+ buffers/cache:        327       1680\r\n",
        "Swap:         1433        112       1320\r\n"
       ]
      }
     ],
     "prompt_number": 4
    },
    {
     "cell_type": "markdown",
     "metadata": {},
     "source": [
      "-----\n",
      "\n",
      "Notice how this new data extraction consumed little memory, we clearly\n",
      "are on the right track!\n",
      "\n",
      "We can now verify the DataFrame data types with the `dtypes` attribute\n",
      "and the data we obtained by using the `describe` method.\n",
      "\n",
      "-----"
     ]
    },
    {
     "cell_type": "code",
     "collapsed": false,
     "input": [
      "data.dtypes"
     ],
     "language": "python",
     "metadata": {},
     "outputs": [
      {
       "metadata": {},
       "output_type": "pyout",
       "prompt_number": 5,
       "text": [
        "arrivalDelay      int64\n",
        "departureDelay    int64\n",
        "dtype: object"
       ]
      }
     ],
     "prompt_number": 5
    },
    {
     "cell_type": "code",
     "collapsed": false,
     "input": [
      "data.describe()"
     ],
     "language": "python",
     "metadata": {},
     "outputs": [
      {
       "html": [
        "<div style=\"max-height:1000px;max-width:1500px;overflow:auto;\">\n",
        "<table border=\"1\" class=\"dataframe\">\n",
        "  <thead>\n",
        "    <tr style=\"text-align: right;\">\n",
        "      <th></th>\n",
        "      <th>arrivalDelay</th>\n",
        "      <th>departureDelay</th>\n",
        "    </tr>\n",
        "  </thead>\n",
        "  <tbody>\n",
        "    <tr>\n",
        "      <th>count</th>\n",
        "      <td> 5723673.000000</td>\n",
        "      <td> 5723673.000000</td>\n",
        "    </tr>\n",
        "    <tr>\n",
        "      <th>mean</th>\n",
        "      <td>       5.528249</td>\n",
        "      <td>       8.115272</td>\n",
        "    </tr>\n",
        "    <tr>\n",
        "      <th>std</th>\n",
        "      <td>      31.429291</td>\n",
        "      <td>      28.234083</td>\n",
        "    </tr>\n",
        "    <tr>\n",
        "      <th>min</th>\n",
        "      <td>   -1116.000000</td>\n",
        "      <td>    -204.000000</td>\n",
        "    </tr>\n",
        "    <tr>\n",
        "      <th>25%</th>\n",
        "      <td>      -9.000000</td>\n",
        "      <td>      -3.000000</td>\n",
        "    </tr>\n",
        "    <tr>\n",
        "      <th>50%</th>\n",
        "      <td>      -2.000000</td>\n",
        "      <td>       0.000000</td>\n",
        "    </tr>\n",
        "    <tr>\n",
        "      <th>75%</th>\n",
        "      <td>      10.000000</td>\n",
        "      <td>       6.000000</td>\n",
        "    </tr>\n",
        "    <tr>\n",
        "      <th>max</th>\n",
        "      <td>    1688.000000</td>\n",
        "      <td>    1692.000000</td>\n",
        "    </tr>\n",
        "  </tbody>\n",
        "</table>\n",
        "<p>8 rows \u00d7 2 columns</p>\n",
        "</div>"
       ],
       "metadata": {},
       "output_type": "pyout",
       "prompt_number": 6,
       "text": [
        "         arrivalDelay  departureDelay\n",
        "count  5723673.000000  5723673.000000\n",
        "mean         5.528249        8.115272\n",
        "std         31.429291       28.234083\n",
        "min      -1116.000000     -204.000000\n",
        "25%         -9.000000       -3.000000\n",
        "50%         -2.000000        0.000000\n",
        "75%         10.000000        6.000000\n",
        "max       1688.000000     1692.000000\n",
        "\n",
        "[8 rows x 2 columns]"
       ]
      }
     ],
     "prompt_number": 6
    },
    {
     "cell_type": "markdown",
     "metadata": {},
     "source": [
      "-----\n",
      "\n",
      "The DataFrame is using 8-byte integers to hold the data, which consume\n",
      "less space than the _object_ data type did previously. However, looking\n",
      "at the data description indicates that we really only need two bytes per\n",
      "column, since our numerical range extends (_min_ to _max_) of less than\n",
      "three thousand. We can convert these columns to a smaller data type, in \n",
      "this case by using NumPy.\n",
      "\n",
      "-----"
     ]
    },
    {
     "cell_type": "code",
     "collapsed": false,
     "input": [
      "import numpy as np\n",
      "data[['arrivalDelay']] = data[['arrivalDelay']].astype(np.int16)\n",
      "data[['departureDelay']] = data[['departureDelay']].astype(np.int16)"
     ],
     "language": "python",
     "metadata": {},
     "outputs": [],
     "prompt_number": 7
    },
    {
     "cell_type": "code",
     "collapsed": false,
     "input": [
      "!free -m"
     ],
     "language": "python",
     "metadata": {},
     "outputs": [
      {
       "output_type": "stream",
       "stream": "stdout",
       "text": [
        "             total       used       free     shared    buffers     cached\r\n",
        "Mem:          2008        412       1595          3          4         48\r\n",
        "-/+ buffers/cache:        359       1648\r\n",
        "Swap:         1433        112       1320\r\n"
       ]
      }
     ],
     "prompt_number": 8
    },
    {
     "cell_type": "code",
     "collapsed": false,
     "input": [
      "data.dtypes"
     ],
     "language": "python",
     "metadata": {},
     "outputs": [
      {
       "metadata": {},
       "output_type": "pyout",
       "prompt_number": 9,
       "text": [
        "arrivalDelay      int16\n",
        "departureDelay    int16\n",
        "dtype: object"
       ]
      }
     ],
     "prompt_number": 9
    },
    {
     "cell_type": "markdown",
     "metadata": {},
     "source": [
      "----- \n",
      "\n",
      "First, the conversion was quite fast, which demonstrated the speed of\n",
      "NumPy operations. Second, notice how the DataFrame is now using the\n",
      "correct data types. Finally, as seen in the memory usage, the conversion\n",
      "required less than thirty Megabytes (2 columns x 2 bytes x six million\n",
      "rows = 24 Megabytes).\n",
      "\n",
      "But, this would have been more efficiently done by simplifying reading the\n",
      "data straight into the correct data type. While we could do this with\n",
      "the `read_sql` method, lets switch to the `read_csv` method. With this\n",
      "method, we can explicitly list the data types, list values that indicate\n",
      "_Not Available_ values, and also the columns to read from the file. In\n",
      "the following code cell, we read directly from the CSV file into a\n",
      "Pandas DataFrame. Following that, we call the `dropna` method to\n",
      "eliminate rows with bad values, and show the results.\n",
      "\n",
      "-----"
     ]
    },
    {
     "cell_type": "code",
     "collapsed": false,
     "input": [
      "newdata = pd.read_csv('/notebooks/i2ds/data/2001.csv', dtype=np.float, header=0, na_values=['NA'], usecols=(14, 15))"
     ],
     "language": "python",
     "metadata": {},
     "outputs": [],
     "prompt_number": 10
    },
    {
     "cell_type": "code",
     "collapsed": false,
     "input": [
      "ndata = newdata.dropna()\n",
      "ndata.describe()"
     ],
     "language": "python",
     "metadata": {},
     "outputs": [
      {
       "html": [
        "<div style=\"max-height:1000px;max-width:1500px;overflow:auto;\">\n",
        "<table border=\"1\" class=\"dataframe\">\n",
        "  <thead>\n",
        "    <tr style=\"text-align: right;\">\n",
        "      <th></th>\n",
        "      <th>ArrDelay</th>\n",
        "      <th>DepDelay</th>\n",
        "    </tr>\n",
        "  </thead>\n",
        "  <tbody>\n",
        "    <tr>\n",
        "      <th>count</th>\n",
        "      <td> 5723673.000000</td>\n",
        "      <td> 5723673.000000</td>\n",
        "    </tr>\n",
        "    <tr>\n",
        "      <th>mean</th>\n",
        "      <td>       5.528249</td>\n",
        "      <td>       8.115272</td>\n",
        "    </tr>\n",
        "    <tr>\n",
        "      <th>std</th>\n",
        "      <td>      31.429291</td>\n",
        "      <td>      28.234083</td>\n",
        "    </tr>\n",
        "    <tr>\n",
        "      <th>min</th>\n",
        "      <td>   -1116.000000</td>\n",
        "      <td>    -204.000000</td>\n",
        "    </tr>\n",
        "    <tr>\n",
        "      <th>25%</th>\n",
        "      <td>      -9.000000</td>\n",
        "      <td>      -3.000000</td>\n",
        "    </tr>\n",
        "    <tr>\n",
        "      <th>50%</th>\n",
        "      <td>      -2.000000</td>\n",
        "      <td>       0.000000</td>\n",
        "    </tr>\n",
        "    <tr>\n",
        "      <th>75%</th>\n",
        "      <td>      10.000000</td>\n",
        "      <td>       6.000000</td>\n",
        "    </tr>\n",
        "    <tr>\n",
        "      <th>max</th>\n",
        "      <td>    1688.000000</td>\n",
        "      <td>    1692.000000</td>\n",
        "    </tr>\n",
        "  </tbody>\n",
        "</table>\n",
        "<p>8 rows \u00d7 2 columns</p>\n",
        "</div>"
       ],
       "metadata": {},
       "output_type": "pyout",
       "prompt_number": 11,
       "text": [
        "             ArrDelay        DepDelay\n",
        "count  5723673.000000  5723673.000000\n",
        "mean         5.528249        8.115272\n",
        "std         31.429291       28.234083\n",
        "min      -1116.000000     -204.000000\n",
        "25%         -9.000000       -3.000000\n",
        "50%         -2.000000        0.000000\n",
        "75%         10.000000        6.000000\n",
        "max       1688.000000     1692.000000\n",
        "\n",
        "[8 rows x 2 columns]"
       ]
      }
     ],
     "prompt_number": 11
    },
    {
     "cell_type": "markdown",
     "metadata": {},
     "source": [
      "-----\n",
      "\n",
      "We now have both columns read into a Pandas DataFrame, the columns are\n",
      "of `float` type, and the process was fast and consumed minimal memory.\n",
      "At this point, we are ready to explicitly read in the entire set of data\n",
      "of interest. In the following code cell, we read in the columns of\n",
      "interest into a new DataFrame, after which we drop rows with bad values.\n",
      "\n",
      "-----"
     ]
    },
    {
     "cell_type": "code",
     "collapsed": false,
     "input": [
      "import pandas as pd\n",
      "\n",
      "#ucs=(14, 15, 3, 4, 6, 1, 8, 9, 16, 17, 18)\n",
      "ucs=(1, 3, 4, 14, 15, 16, 17, 18)\n",
      "\n",
      "cnms = ['month', 'Day', 'dTime', 'aDelay', 'dDelay', 'depart', 'arrive', 'distance']\n",
      "\n",
      "#cnms = ['aDelay', 'dDelay', 'Day', 'dTime', 'aTime', \n",
      "#        'month', 'uc', 'fnum', 'depart', 'arrive', 'distance' ]\n",
      "\n",
      "newdata = pd.read_csv('/notebooks/i2ds/data/2001.csv', #dtype=np.float32, \n",
      "                      header=0, na_values=['NA'], usecols=ucs, names = cnms)"
     ],
     "language": "python",
     "metadata": {},
     "outputs": [],
     "prompt_number": 12
    },
    {
     "cell_type": "code",
     "collapsed": false,
     "input": [
      "newdata = newdata.dropna()"
     ],
     "language": "python",
     "metadata": {},
     "outputs": [],
     "prompt_number": 13
    },
    {
     "cell_type": "markdown",
     "metadata": {},
     "source": [
      "-----\n",
      "\n",
      "At this point, we can persist our extracted data to simplify later\n",
      "analysis. For this, we can use the HDF file format, which is easy with\n",
      "Pandas, as we simply call the `to_hdf` method, and pass in the value\n",
      "`table` to indicate the key we will later use to read the data back out\n",
      "of the HDF file. For completeness, we also can examine the resulting\n",
      "file size by using the `ls` command.\n",
      "\n",
      "-----"
     ]
    },
    {
     "cell_type": "code",
     "collapsed": false,
     "input": [
      "newdata.to_hdf('flights.h5', 'table', append=False)"
     ],
     "language": "python",
     "metadata": {},
     "outputs": [],
     "prompt_number": 14
    },
    {
     "cell_type": "code",
     "collapsed": false,
     "input": [
      "!ls -la *.h5"
     ],
     "language": "python",
     "metadata": {},
     "outputs": [
      {
       "output_type": "stream",
       "stream": "stdout",
       "text": [
        "-rw-r--r-- 1 1000 staff 378594512 Apr  6 22:00 flights.h5\r\n"
       ]
      }
     ],
     "prompt_number": 15
    },
    {
     "cell_type": "markdown",
     "metadata": {},
     "source": [
      "-----\n",
      "\n",
      "This file required nearly 400 Megabytes, which is a considerable size.\n",
      "We can examine the DataFrame to get a better idea why this is the case.\n",
      "First we can look at the selected data types, and second we can look at\n",
      "the range of numerical values in each column.\n",
      "\n",
      "-----"
     ]
    },
    {
     "cell_type": "code",
     "collapsed": false,
     "input": [
      "newdata.dtypes"
     ],
     "language": "python",
     "metadata": {},
     "outputs": [
      {
       "metadata": {},
       "output_type": "pyout",
       "prompt_number": 16,
       "text": [
        "month         int64\n",
        "Day           int64\n",
        "dTime       float64\n",
        "aDelay      float64\n",
        "dDelay      float64\n",
        "depart       object\n",
        "arrive       object\n",
        "distance      int64\n",
        "dtype: object"
       ]
      }
     ],
     "prompt_number": 16
    },
    {
     "cell_type": "code",
     "collapsed": false,
     "input": [
      "newdata.describe()"
     ],
     "language": "python",
     "metadata": {},
     "outputs": [
      {
       "html": [
        "<div style=\"max-height:1000px;max-width:1500px;overflow:auto;\">\n",
        "<table border=\"1\" class=\"dataframe\">\n",
        "  <thead>\n",
        "    <tr style=\"text-align: right;\">\n",
        "      <th></th>\n",
        "      <th>month</th>\n",
        "      <th>Day</th>\n",
        "      <th>dTime</th>\n",
        "      <th>aDelay</th>\n",
        "      <th>dDelay</th>\n",
        "      <th>distance</th>\n",
        "    </tr>\n",
        "  </thead>\n",
        "  <tbody>\n",
        "    <tr>\n",
        "      <th>count</th>\n",
        "      <td> 5723673.000000</td>\n",
        "      <td> 5723673.000000</td>\n",
        "      <td> 5723673.000000</td>\n",
        "      <td> 5723673.000000</td>\n",
        "      <td> 5723673.000000</td>\n",
        "      <td> 5723673.000000</td>\n",
        "    </tr>\n",
        "    <tr>\n",
        "      <th>mean</th>\n",
        "      <td>       6.291581</td>\n",
        "      <td>       3.949829</td>\n",
        "      <td>    1348.688044</td>\n",
        "      <td>       5.528249</td>\n",
        "      <td>       8.115272</td>\n",
        "      <td>     735.173682</td>\n",
        "    </tr>\n",
        "    <tr>\n",
        "      <th>std</th>\n",
        "      <td>       3.381755</td>\n",
        "      <td>       1.997942</td>\n",
        "      <td>     482.638757</td>\n",
        "      <td>      31.429291</td>\n",
        "      <td>      28.234083</td>\n",
        "      <td>     574.815182</td>\n",
        "    </tr>\n",
        "    <tr>\n",
        "      <th>min</th>\n",
        "      <td>       1.000000</td>\n",
        "      <td>       1.000000</td>\n",
        "      <td>       1.000000</td>\n",
        "      <td>   -1116.000000</td>\n",
        "      <td>    -204.000000</td>\n",
        "      <td>      21.000000</td>\n",
        "    </tr>\n",
        "    <tr>\n",
        "      <th>25%</th>\n",
        "      <td>       3.000000</td>\n",
        "      <td>       2.000000</td>\n",
        "      <td>     930.000000</td>\n",
        "      <td>      -9.000000</td>\n",
        "      <td>      -3.000000</td>\n",
        "      <td>     314.000000</td>\n",
        "    </tr>\n",
        "    <tr>\n",
        "      <th>50%</th>\n",
        "      <td>       6.000000</td>\n",
        "      <td>       4.000000</td>\n",
        "      <td>    1333.000000</td>\n",
        "      <td>      -2.000000</td>\n",
        "      <td>       0.000000</td>\n",
        "      <td>     575.000000</td>\n",
        "    </tr>\n",
        "    <tr>\n",
        "      <th>75%</th>\n",
        "      <td>       9.000000</td>\n",
        "      <td>       6.000000</td>\n",
        "      <td>    1740.000000</td>\n",
        "      <td>      10.000000</td>\n",
        "      <td>       6.000000</td>\n",
        "      <td>     983.000000</td>\n",
        "    </tr>\n",
        "    <tr>\n",
        "      <th>max</th>\n",
        "      <td>      12.000000</td>\n",
        "      <td>       7.000000</td>\n",
        "      <td>    2400.000000</td>\n",
        "      <td>    1688.000000</td>\n",
        "      <td>    1692.000000</td>\n",
        "      <td>    4962.000000</td>\n",
        "    </tr>\n",
        "  </tbody>\n",
        "</table>\n",
        "<p>8 rows \u00d7 6 columns</p>\n",
        "</div>"
       ],
       "metadata": {},
       "output_type": "pyout",
       "prompt_number": 17,
       "text": [
        "                month             Day           dTime          aDelay  \\\n",
        "count  5723673.000000  5723673.000000  5723673.000000  5723673.000000   \n",
        "mean         6.291581        3.949829     1348.688044        5.528249   \n",
        "std          3.381755        1.997942      482.638757       31.429291   \n",
        "min          1.000000        1.000000        1.000000    -1116.000000   \n",
        "25%          3.000000        2.000000      930.000000       -9.000000   \n",
        "50%          6.000000        4.000000     1333.000000       -2.000000   \n",
        "75%          9.000000        6.000000     1740.000000       10.000000   \n",
        "max         12.000000        7.000000     2400.000000     1688.000000   \n",
        "\n",
        "               dDelay        distance  \n",
        "count  5723673.000000  5723673.000000  \n",
        "mean         8.115272      735.173682  \n",
        "std         28.234083      574.815182  \n",
        "min       -204.000000       21.000000  \n",
        "25%         -3.000000      314.000000  \n",
        "50%          0.000000      575.000000  \n",
        "75%          6.000000      983.000000  \n",
        "max       1692.000000     4962.000000  \n",
        "\n",
        "[8 rows x 6 columns]"
       ]
      }
     ],
     "prompt_number": 17
    },
    {
     "cell_type": "markdown",
     "metadata": {},
     "source": [
      "-----\n",
      "\n",
      "In each case, Pandas has selected the biggest data type for each column.\n",
      "Note how the `month` and `Day` columns only include integers from 1-12\n",
      "and 1-7, respectively. We can use one-byte integers for those values.\n",
      "Likewise the other columns can also be stored more compactly by using\n",
      "optimal data types. In the following code cell, we repeat the reading\n",
      "process, but this time we explicitly list the target data types during\n",
      "the read process. Afterwards, we verify the data types of our new\n",
      "DataFrame before also displaying the numerical column statistics.\n",
      "\n",
      "-----"
     ]
    },
    {
     "cell_type": "code",
     "collapsed": false,
     "input": [
      "import numpy as np\n",
      "\n",
      "cnms = ['month', 'Day', 'dTime', 'aDelay', 'dDelay', 'depart', 'arrive', 'distance']\n",
      "\n",
      "dts = [np.uint8, np.uint8, np.uint16, np.int16, np.int16, object, object, np.uint16]\n",
      "\n",
      "nd = pd.DataFrame()\n",
      "\n",
      "for i in range(len(cnms)):\n",
      "    nd[[cnms[i]]] = newdata[[cnms[i]]].astype(dts[i])\n"
     ],
     "language": "python",
     "metadata": {},
     "outputs": [],
     "prompt_number": 18
    },
    {
     "cell_type": "code",
     "collapsed": false,
     "input": [
      "nd.dtypes"
     ],
     "language": "python",
     "metadata": {},
     "outputs": [
      {
       "metadata": {},
       "output_type": "pyout",
       "prompt_number": 19,
       "text": [
        "month        uint8\n",
        "Day          uint8\n",
        "dTime       uint16\n",
        "aDelay       int16\n",
        "dDelay       int16\n",
        "depart      object\n",
        "arrive      object\n",
        "distance    uint16\n",
        "dtype: object"
       ]
      }
     ],
     "prompt_number": 19
    },
    {
     "cell_type": "code",
     "collapsed": false,
     "input": [
      "nd.describe()"
     ],
     "language": "python",
     "metadata": {},
     "outputs": [
      {
       "html": [
        "<div style=\"max-height:1000px;max-width:1500px;overflow:auto;\">\n",
        "<table border=\"1\" class=\"dataframe\">\n",
        "  <thead>\n",
        "    <tr style=\"text-align: right;\">\n",
        "      <th></th>\n",
        "      <th>month</th>\n",
        "      <th>Day</th>\n",
        "      <th>dTime</th>\n",
        "      <th>aDelay</th>\n",
        "      <th>dDelay</th>\n",
        "      <th>distance</th>\n",
        "    </tr>\n",
        "  </thead>\n",
        "  <tbody>\n",
        "    <tr>\n",
        "      <th>count</th>\n",
        "      <td> 5723673.000000</td>\n",
        "      <td> 5723673.000000</td>\n",
        "      <td> 5723673.000000</td>\n",
        "      <td> 5723673.000000</td>\n",
        "      <td> 5723673.000000</td>\n",
        "      <td> 5723673.000000</td>\n",
        "    </tr>\n",
        "    <tr>\n",
        "      <th>mean</th>\n",
        "      <td>       6.291581</td>\n",
        "      <td>       3.949829</td>\n",
        "      <td>    1348.688044</td>\n",
        "      <td>       5.528249</td>\n",
        "      <td>       8.115272</td>\n",
        "      <td>     735.173682</td>\n",
        "    </tr>\n",
        "    <tr>\n",
        "      <th>std</th>\n",
        "      <td>       3.381755</td>\n",
        "      <td>       1.997942</td>\n",
        "      <td>     482.638757</td>\n",
        "      <td>      31.429291</td>\n",
        "      <td>      28.234083</td>\n",
        "      <td>     574.815182</td>\n",
        "    </tr>\n",
        "    <tr>\n",
        "      <th>min</th>\n",
        "      <td>       1.000000</td>\n",
        "      <td>       1.000000</td>\n",
        "      <td>       1.000000</td>\n",
        "      <td>   -1116.000000</td>\n",
        "      <td>    -204.000000</td>\n",
        "      <td>      21.000000</td>\n",
        "    </tr>\n",
        "    <tr>\n",
        "      <th>25%</th>\n",
        "      <td>       3.000000</td>\n",
        "      <td>       2.000000</td>\n",
        "      <td>     930.000000</td>\n",
        "      <td>      -9.000000</td>\n",
        "      <td>      -3.000000</td>\n",
        "      <td>     314.000000</td>\n",
        "    </tr>\n",
        "    <tr>\n",
        "      <th>50%</th>\n",
        "      <td>       6.000000</td>\n",
        "      <td>       4.000000</td>\n",
        "      <td>    1333.000000</td>\n",
        "      <td>      -2.000000</td>\n",
        "      <td>       0.000000</td>\n",
        "      <td>     575.000000</td>\n",
        "    </tr>\n",
        "    <tr>\n",
        "      <th>75%</th>\n",
        "      <td>       9.000000</td>\n",
        "      <td>       6.000000</td>\n",
        "      <td>    1740.000000</td>\n",
        "      <td>      10.000000</td>\n",
        "      <td>       6.000000</td>\n",
        "      <td>     983.000000</td>\n",
        "    </tr>\n",
        "    <tr>\n",
        "      <th>max</th>\n",
        "      <td>      12.000000</td>\n",
        "      <td>       7.000000</td>\n",
        "      <td>    2400.000000</td>\n",
        "      <td>    1688.000000</td>\n",
        "      <td>    1692.000000</td>\n",
        "      <td>    4962.000000</td>\n",
        "    </tr>\n",
        "  </tbody>\n",
        "</table>\n",
        "<p>8 rows \u00d7 6 columns</p>\n",
        "</div>"
       ],
       "metadata": {},
       "output_type": "pyout",
       "prompt_number": 20,
       "text": [
        "                month             Day           dTime          aDelay  \\\n",
        "count  5723673.000000  5723673.000000  5723673.000000  5723673.000000   \n",
        "mean         6.291581        3.949829     1348.688044        5.528249   \n",
        "std          3.381755        1.997942      482.638757       31.429291   \n",
        "min          1.000000        1.000000        1.000000    -1116.000000   \n",
        "25%          3.000000        2.000000      930.000000       -9.000000   \n",
        "50%          6.000000        4.000000     1333.000000       -2.000000   \n",
        "75%          9.000000        6.000000     1740.000000       10.000000   \n",
        "max         12.000000        7.000000     2400.000000     1688.000000   \n",
        "\n",
        "               dDelay        distance  \n",
        "count  5723673.000000  5723673.000000  \n",
        "mean         8.115272      735.173682  \n",
        "std         28.234083      574.815182  \n",
        "min       -204.000000       21.000000  \n",
        "25%         -3.000000      314.000000  \n",
        "50%          0.000000      575.000000  \n",
        "75%          6.000000      983.000000  \n",
        "max       1692.000000     4962.000000  \n",
        "\n",
        "[8 rows x 6 columns]"
       ]
      }
     ],
     "prompt_number": 20
    },
    {
     "cell_type": "markdown",
     "metadata": {},
     "source": [
      "-----\n",
      "\n",
      "At this point, we have successfully read the target columns from our data\n",
      "file (we also could have performed these steps by reading directly from\n",
      "our database). We can now save the new DataFrame to an HDF file, and\n",
      "compare the more compact DataFrame representation file size with the\n",
      "original HDF file.\n",
      "\n",
      "-----"
     ]
    },
    {
     "cell_type": "code",
     "collapsed": false,
     "input": [
      "nd.to_hdf('sflights.h5', 'table', append=False)"
     ],
     "language": "python",
     "metadata": {},
     "outputs": [],
     "prompt_number": 21
    },
    {
     "cell_type": "code",
     "collapsed": false,
     "input": [
      "!ls -la *.h5"
     ],
     "language": "python",
     "metadata": {},
     "outputs": [
      {
       "output_type": "stream",
       "stream": "stdout",
       "text": [
        "-rw-r--r-- 1 1000 staff 378594512 Apr  6 22:00 flights.h5\r\n",
        "-rw-r--r-- 1 1000 staff 161097330 Apr  6 22:01 sflights.h5\r\n"
       ]
      }
     ],
     "prompt_number": 22
    },
    {
     "cell_type": "markdown",
     "metadata": {},
     "source": [
      "-----\n",
      "\n",
      "While it was a bit of work to get to this point, we now have a compact\n",
      "file that contins our data of interest, all done while using standard\n",
      "Python data analysis tools. In the next lesson, we will use data from\n",
      "this file to understand basic data exploration by using Python.\n",
      "\n",
      "-----"
     ]
    }
   ],
   "metadata": {}
  }
 ]
}