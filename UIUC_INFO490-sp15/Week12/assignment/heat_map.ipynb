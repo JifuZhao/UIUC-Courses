{
 "metadata": {
  "name": "",
  "signature": "sha256:91dc31a2dfa46f6c0acaf97db9b8ad5fd6b809cc4588d80e86bbc0426f4f2e48"
 },
 "nbformat": 3,
 "nbformat_minor": 0,
 "worksheets": [
  {
   "cells": [
    {
     "cell_type": "markdown",
     "metadata": {},
     "source": [
      "## Problem 12.2. Heat Maps\n",
      "\n",
      "Create a heat map that displays the **number count** of delayed flights\n",
      "  at the O'Hare international airport (ORD)\n",
      "  as a function of `month` and `Day`. We define a flight to be\n",
      "  delayed if its departure delay is greater than or equal to\n",
      "  15 minutes.\n",
      "  \n",
      "<img src=\"heat_map.png\">"
     ]
    },
    {
     "cell_type": "code",
     "collapsed": false,
     "input": [
      "%matplotlib inline\n",
      "import pandas as pd\n",
      "import matplotlib.pyplot as plt\n",
      "import seaborn as sns"
     ],
     "language": "python",
     "metadata": {},
     "outputs": []
    },
    {
     "cell_type": "markdown",
     "metadata": {},
     "source": [
      "I hope you actually tried the examples in\n",
      "  [lesson 1](http://nbviewer.ipython.org/github/INFO490/spring2015/blob/master/week12/intro2de.ipynb)\n",
      "  because you are required to use the `sflights.h5` file you have created\n",
      "  as you read along the\n",
      "  [lesson 1](http://nbviewer.ipython.org/github/INFO490/spring2015/blob/master/week12/intro2de.ipynb)\n",
      "  notebook. When we use the `sflights.h5` file, the `data` DataFrame\n",
      "  looks as follows:\n",
      "  \n",
      "  ```python\n",
      "  print(data.head())\n",
      "  ```\n",
      "  ```text\n",
      "     month  Day  dTime  aDelay  dDelay depart arrive  distance\n",
      "  0      1    3   1806      -3      -4    BWI    CLT       361\n",
      "  1      1    4   1805       4      -5    BWI    CLT       361\n",
      "  2      1    5   1821      23      11    BWI    CLT       361\n",
      "  3      1    6   1807      10      -3    BWI    CLT       361\n",
      "  4      1    7   1810      20       0    BWI    CLT       361\n",
      "\n",
      "  [5 rows x 8 columns]\n",
      "  ```"
     ]
    },
    {
     "cell_type": "code",
     "collapsed": false,
     "input": [
      "data = pd.read_hdf('/data/database/sflights.h5', 'table')\n",
      "print(data.head())"
     ],
     "language": "python",
     "metadata": {},
     "outputs": []
    },
    {
     "cell_type": "markdown",
     "metadata": {},
     "source": [
      "### Function: pivot\\_table()\n",
      "\n",
      "Write a function named `pivot_table()` that takes a DataFrame.\n",
      "  It should return a DataFrame that has the **number count* of flights that\n",
      "  - departed from ORD\n",
      "  - had departure delays greater than or equal to 15 minutes\n",
      "  as a function of `month` and `Day`.\n",
      "  \n",
      "You should also pivot the data to make the **pivot table**\n",
      "  so that we can use the resulting DataFrame in `sns.heatmap()`.\n",
      "  [Week 12 lesson 2](http://nbviewer.ipython.org/github/INFO490/spring2015/blob/master/week12/dataexplore.ipynb)\n",
      "  shows you how to do this.\n",
      "  When I ran\n",
      "  \n",
      "  ```python\n",
      "  pivoted = pivot_table(data)\n",
      "  print(pivoted)\n",
      "  ```\n",
      "  \n",
      "  I got \n",
      "  \n",
      "  ```text\n",
      "  Day       1     2     3     4     5     6     7\n",
      "  month                                          \n",
      "  1      1112   984  1157   599  1205   368   800\n",
      "  2       436   550   978  1097  1071   774   950\n",
      "  3       874   500   481  1317  1332   727   807\n",
      "  4      1147   678   903  1080   948   881  1077\n",
      "  5      1433   852   840  1126  1184   349   596\n",
      "  6       679  1410  1031   911  1110   853   651\n",
      "  7      1018  1296  1138   751   457   752  1683\n",
      "  8       673   733  1001  1866  1240  1199   822\n",
      "  9       588   331   373   447   772   655  1150\n",
      "  10      597   498   822   811   537   544   646\n",
      "  11      474   338   318   592   644   535   404\n",
      "  12      420   304   909   640   611   613  1035\n",
      "\n",
      "  [12 rows x 7 columns]\n",
      "  ```"
     ]
    },
    {
     "cell_type": "code",
     "collapsed": false,
     "input": [
      "def pivot_table(df):\n",
      "    '''\n",
      "    Takes a DataFrame and returns a DataFrame.\n",
      "    \n",
      "    Parameters\n",
      "    ----------\n",
      "    df: A Pandas DataFrame, e.g. pd.read_hdf('/data/database/sflights.h5', 'table')\n",
      "    \n",
      "    Returns\n",
      "    -------\n",
      "    A Pandas DataFrame. It's a pivot table of delayed flihts\n",
      "    as a function of month and Day. See assignment 12.2 instructions.\n",
      "    '''\n",
      "    \n",
      "    #### your code goes here ###\n",
      "    \n",
      "    return result"
     ],
     "language": "python",
     "metadata": {},
     "outputs": []
    },
    {
     "cell_type": "markdown",
     "metadata": {},
     "source": [
      "Run the following code cell to test your function."
     ]
    },
    {
     "cell_type": "code",
     "collapsed": false,
     "input": [
      "pivoted = pivot_table(data)\n",
      "print(pivoted)"
     ],
     "language": "python",
     "metadata": {},
     "outputs": []
    },
    {
     "cell_type": "markdown",
     "metadata": {},
     "source": [
      "### Plot: sns.heatmap()\n",
      "\n",
      "Finally, use the `pivoted` DataFrame in `sns.heatmap()`\n",
      "  to create  heat map."
     ]
    },
    {
     "cell_type": "code",
     "collapsed": false,
     "input": [
      "#### your code goes here ####"
     ],
     "language": "python",
     "metadata": {},
     "outputs": []
    }
   ],
   "metadata": {}
  }
 ]
}
