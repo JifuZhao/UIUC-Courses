{
 "metadata": {
  "name": "",
  "signature": "sha256:5895bf89ef4ff81d5fe6dc8b86ad7a3a91eaaee95ba7f4f99fb15bf61da72b60"
 },
 "nbformat": 3,
 "nbformat_minor": 0,
 "worksheets": [
  {
   "cells": [
    {
     "cell_type": "markdown",
     "metadata": {},
     "source": [
      "## Problem 12.1. HDF.\n",
      "\n",
      "This problem will give you a chance to practice what you have learned in\n",
      "  [lesson 1](http://nbviewer.ipython.org/github/INFO490/spring2015/blob/master/week12/intro2de.ipynb)\n",
      "  about saving a DataFrame to an HDF file."
     ]
    },
    {
     "cell_type": "code",
     "collapsed": false,
     "input": [
      "import numpy as np\n",
      "import pandas as pd"
     ],
     "language": "python",
     "metadata": {},
     "outputs": []
    },
    {
     "cell_type": "markdown",
     "metadata": {},
     "source": [
      "You should use\n",
      "  [columns 9-14](http://stat-computing.org/dataexpo/2009/the-data.html)\n",
      "  of `2001.csv`:\n",
      "  `UniqueCarrier`, `FlightNum`, `TailNum`, `ActualElapsedTime`, `CRSElapsedTime`,\n",
      "  and `AirTime`."
     ]
    },
    {
     "cell_type": "code",
     "collapsed": false,
     "input": [
      "ucs = list(range(8, 14)) # the count starts at 0\n",
      "cnms = ['UniqueCarrier',\n",
      "        'FlightNum',\n",
      "        'TailNum',\n",
      "        'ActualElapsedTime',\n",
      "        'CRSElapsedTime',\n",
      "        'AirTime']"
     ],
     "language": "python",
     "metadata": {},
     "outputs": []
    },
    {
     "cell_type": "markdown",
     "metadata": {},
     "source": [
      "### Function: csv\\_to\\_hdf()\n",
      "\n",
      "Write a function that takes three strings:",
      "  the path to the CSV file, the path to the HDF file, and the table name.\n",
      "  \n",
      "- Use six columns listed in `ucs` and `cnms`.\n",
      "- Don't forget that there may be missing values.\n",
      "  You should drop all rows that have missing values in any or all columns of that row.\n",
      "- After you use `pandas.read_csv()` to create a DataFrame,\n",
      "  use [`pandas.DataFrame.info()`](http://pandas.pydata.org/pandas-docs/version/0.13.1/generated/pandas.DataFrame.info.html)\n",
      "  or [`pandas.DataFrame.dtypes`](http://pandas.pydata.org/pandas-docs/version/0.13.1/generated/pandas.DataFrame.html)\n",
      "  to check the data types in the DataFrame. \n",
      "  If you didn't specify which data types should be used,\n",
      "  it is likely that Pandas has selected the biggest data type for each column.\n",
      "  You should change the data type of each column to its optimal data type.\n",
      "  \n",
      "  To do this, use [`Pandas.DataFrame.describe()`](http://pandas.pydata.org/pandas-docs/version/0.13.1/generated/pandas.DataFrame.describe.html)\n",
      "  to check the minimum and maximum values of each column.\n",
      "  Compare them with the ranges of each data type. You can find this information in the docs,\n",
      "  e.g. [Numpy data types](http://docs.scipy.org/doc/numpy/user/basics.types.html),\n",
      "  or use [numpy.iinfo()](http://docs.scipy.org/doc/numpy/reference/generated/numpy.iinfo.html)\n",
      "  for ints and\n",
      "  [numpy.finfo()](http://docs.scipy.org/doc/numpy/reference/generated/numpy.finfo.html)\n",
      "  for floats.\n",
      "  For example, to find the minimum and maximum values that one-byte (8 bits) unsigned integer would hold,\n",
      "  run\n",
      "  \n",
      "  ```python\n",
      "  print(np.iinfo(np.uint8))\n",
      "  ```\n",
      "  \n",
      "  which prints out\n",
      "  \n",
      "  ```text\n",
      "  Machine parameters for uint8\n",
      "  ---------------------------------------------------------------------\n",
      "  min = 0\n",
      "  max = 255\n",
      "  ---------------------------------------------------------------------\n",
      "  ```\n",
      "\n",
      "- The function should take three strings.\n",
      "  The first string is the file path and/or name to the CSV file, \n",
      "  e.g.  `/data/airline/2001.csv`.\n",
      "  The second string is the file path and/or name that points to the\n",
      "  HDF file you have created, e.g. `/data/airline/w12p1.h5`\n",
      "  The third string is the key that can be used to access the table\n",
      "  in the HDF database, i.e. the string `\"table\"` you would pass as the\n",
      "  `key` argument in \n",
      "  \n",
      "  ```python\n",
      "  store_path = '/data/airline/w12p1.h5'\n",
      "  df = pd.read_hdf(store_path, key='table')\n",
      "  ```\n",
      "  \n",
      "  You can list the keys with\n",
      "  \n",
      "  ```python\n",
      "  with pd.get_store(store_path) as store:\n",
      "    print(store.keys())\n",
      "  ```\n",
      "  \n",
      "  which should print out\n",
      "  \n",
      "  ```text\n",
      "  ['/', '/table']\n",
      "  ```\n",
      "  \n",
      "- In the end, when I ran\n",
      "\n",
      "  ```python\n",
      "  csv_path = '/data/airline/2001.csv'\n",
      "  store_path = '/data/airline/w12p1.h5'\n",
      "  table_name = 'table'\n",
      "\n",
      "  csv_to_hdf(csv_path, store_path, table_name)\n",
      "  !ls -lah $store_path\n",
      "  ```\n",
      "  \n",
      "  I got\n",
      "  \n",
      "  ```text\n",
      "  -rw-r--r-- 1 root root 144M Apr  9 04:35 /data/airline/w12p1.h5\n",
      "  ```\n",
      "  \n",
      "  So your HDF file should be **no larger than 144M**."
     ]
    },
    {
     "cell_type": "code",
     "collapsed": false,
     "input": [
      "def csv_to_hdf(file_path, store_path, table_name):\n",
      "    '''\n",
      "    Takes three strings. Returns None if successful.\n",
      "    \n",
      "    Parameters\n",
      "    ----------\n",
      "    file_path: A str. The file path and/or name of the CSV file, e.g. '/data/airline/2001.csv'.\n",
      "    store_path: A str. The string you would use as the first argument in `pandas.read_hdf()`.\n",
      "    table_name: A str. The string you would use in the 'key` argument of `pandas.read_hdf()`.\n",
      "    \n",
      "    Returns\n",
      "    -------\n",
      "    None.\n",
      "    '''\n",
      "    \n",
      "    #### your code goes here ####\n",
      "    \n",
      "    return None"
     ],
     "language": "python",
     "metadata": {},
     "outputs": []
    },
    {
     "cell_type": "markdown",
     "metadata": {},
     "source": [
      "Run the following the code cell to test your function."
     ]
    },
    {
     "cell_type": "code",
     "collapsed": false,
     "input": [
      "csv_path = '/data/airline/2001.csv' # edit the path if necessary\n",
      "store_path = '/data/airline/w12p1.h5' # edit if you want\n",
      "table_name = 'table' # edit if you want\n",
      "\n",
      "# make sure that we are starting from scratch\n",
      "!rm -f $store_path\n",
      "\n",
      "# test the function\n",
      "csv_to_hdf(csv_path, store_path, table_name) # edit the file path if necessary\n",
      "\n",
      "# check results\n",
      "!ls -lah $store_path"
     ],
     "language": "python",
     "metadata": {},
     "outputs": []
    },
    {
     "cell_type": "code",
     "collapsed": false,
     "input": [],
     "language": "python",
     "metadata": {},
     "outputs": []
    }
   ],
   "metadata": {}
  }
 ]
}
