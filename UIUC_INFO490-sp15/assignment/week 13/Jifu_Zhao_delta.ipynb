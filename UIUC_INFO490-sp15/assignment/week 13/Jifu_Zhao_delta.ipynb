{
 "metadata": {
  "name": "",
  "signature": "sha256:67fcd55378bb182043720555df40d7bef23297e55418b086c463f3578f6b2195"
 },
 "nbformat": 3,
 "nbformat_minor": 0,
 "worksheets": [
  {
   "cells": [
    {
     "cell_type": "markdown",
     "metadata": {},
     "source": [
      "## Problem 12.2 and 12.3 Dimensional Reduction and Clustering.\n",
      "\n",
      "This problem will give you a chance to practice using dimensiona reduction (PCA)\n",
      "  and clustering ($k$-means)\n",
      "  by performing these machine learning techniques on\n",
      "  [Delta Airline's aircrafts](http://www.delta.com/content/www/en_US/traveling-with-us/airports-and-aircraft/Aircraft.html).\n",
      "  \n",
      "This problem is one continous problem, but I split into two parts for easier grading.\n",
      "\n",
      "## Problem 12.2 Diemnsional Reduction."
     ]
    },
    {
     "cell_type": "code",
     "collapsed": false,
     "input": [
      "%matplotlib inline\n",
      "\n",
      "import numpy as np\n",
      "import pandas as pd\n",
      "import seaborn as sns\n",
      "import matplotlib.pyplot as plt\n",
      "import sklearn\n",
      "from sklearn.utils import check_random_state"
     ],
     "language": "python",
     "metadata": {},
     "outputs": [],
     "prompt_number": 1
    },
    {
     "cell_type": "markdown",
     "metadata": {},
     "source": [
      "Delta Airline (and other major airlines) has data on all of their aircrafts\n",
      "  on their [website](http://www.delta.com/content/www/en_US/traveling-with-us/airports-and-aircraft/Aircraft.html).\n",
      "  For example, the following shows the specifications of AIRBUS A319 VIP.\n",
      "\n",
      "<img src=\"images/AIRBUS_A319_VIP.png\">"
     ]
    },
    {
     "cell_type": "markdown",
     "metadata": {},
     "source": [
      "### Download delta.csv.\n",
      "\n",
      "In this problem, we will use\n",
      "  [`delta.csv`](https://github.com/INFO490/spring2015/blob/master/week13/delta.csv),\n",
      "  a CSV file that has the aircraft data taken from the Delta Airline website.\n",
      "  So, the first step is to download\n",
      "  [`delta.csv`](https://github.com/INFO490/spring2015/blob/master/week13/delta.csv) from GitHub.\n",
      "  You can use `wget` in the following code cell, or `git pull` and use that file as well."
     ]
    },
    {
     "cell_type": "code",
     "collapsed": false,
     "input": [
      "%%bash\n",
      "# edit paths as necessary\n",
      "wget https://rawgit.com/INFO490/spring2015/master/week13/delta.csv -O /data/airline/delta.csv"
     ],
     "language": "python",
     "metadata": {},
     "outputs": [
      {
       "output_type": "stream",
       "stream": "stderr",
       "text": [
        "--2015-04-25 00:07:34--  https://rawgit.com/INFO490/spring2015/master/week13/delta.csv\n",
        "Resolving rawgit.com (rawgit.com)... 104.131.111.202\n",
        "Connecting to rawgit.com (rawgit.com)|104.131.111.202|:443... connected.\n",
        "HTTP request sent, awaiting response... 301 Moved Permanently\n",
        "Location: https://raw.githubusercontent.com/INFO490/spring2015/master/week13/delta.csv [following]\n",
        "--2015-04-25 00:07:34--  https://raw.githubusercontent.com/INFO490/spring2015/master/week13/delta.csv\n",
        "Resolving raw.githubusercontent.com (raw.githubusercontent.com)... 199.27.78.133\n",
        "Connecting to raw.githubusercontent.com (raw.githubusercontent.com)|199.27.78.133|:443... connected.\n",
        "HTTP request sent, awaiting response... 200 OK\n",
        "Length: 5727 (5.6K) [text/plain]\n",
        "Saving to: \u2018/data/airline/delta.csv\u2019\n",
        "\n",
        "     0K .....                                                 100%  111M=0s\n",
        "\n",
        "2015-04-25 00:07:34 (111 MB/s) - \u2018/data/airline/delta.csv\u2019 saved [5727/5727]\n",
        "\n"
       ]
      }
     ],
     "prompt_number": 2
    },
    {
     "cell_type": "code",
     "collapsed": false,
     "input": [
      "# edit path to where your delta.csv is located.\n",
      "df = pd.read_csv('/data/airline/delta.csv')"
     ],
     "language": "python",
     "metadata": {},
     "outputs": [],
     "prompt_number": 3
    },
    {
     "cell_type": "markdown",
     "metadata": {},
     "source": [
      "This data set has 34 columns (including the names of the aircrafts)\n",
      "  on 44 aircrafts. It inclues both quantitative measurements such as cruising speed,\n",
      "  accommodation and range in miles, as well as categorical data,\n",
      "  such as whether a particular aircraft has Wi-Fi or video.\n",
      "  These binary are assigned values of either 1 or 0, for yes or no respectively."
     ]
    },
    {
     "cell_type": "code",
     "collapsed": false,
     "input": [
      "print(df.head())"
     ],
     "language": "python",
     "metadata": {},
     "outputs": [
      {
       "output_type": "stream",
       "stream": "stdout",
       "text": [
        "           Aircraft  Seat Width (Club)  Seat Pitch (Club)  Seat (Club)  \\\n",
        "0       Airbus A319                0.0                  0            0   \n",
        "1   Airbus A319 VIP               19.4                 44           12   \n",
        "2       Airbus A320                0.0                  0            0   \n",
        "3  Airbus A320 32-R                0.0                  0            0   \n",
        "4   Airbus A330-200                0.0                  0            0   \n",
        "\n",
        "   Seat Width (First Class)  Seat Pitch (First Class)  Seats (First Class)  \\\n",
        "0                      21.0                        36                   12   \n",
        "1                      19.4                        40                   28   \n",
        "2                      21.0                        36                   12   \n",
        "3                      21.0                        36                   12   \n",
        "4                       0.0                         0                    0   \n",
        "\n",
        "   Seat Width (Business)  Seat Pitch (Business)  Seats (Business)  \\\n",
        "0                      0                      0                 0   \n",
        "1                     21                     59                14   \n",
        "2                      0                      0                 0   \n",
        "3                      0                      0                 0   \n",
        "4                     21                     60                32   \n",
        "\n",
        "   Seat Width (Eco Comfort)  Seat Pitch (Eco Comfort)  Seats (Eco Comfort)  \\\n",
        "0                      17.2                        34                   18   \n",
        "1                       0.0                         0                    0   \n",
        "2                      17.2                        34                   18   \n",
        "3                      17.2                        34                   18   \n",
        "4                      18.0                        35                   30   \n",
        "\n",
        "   Seat Width (Economy)  Seat Pitch (Economy)  Seats (Economy)  Accommodation  \\\n",
        "0                  17.2                  30.5               96            126   \n",
        "1                   0.0                   0.0                0             54   \n",
        "2                  17.2                  31.5              120            150   \n",
        "3                  17.2                  31.5              120            150   \n",
        "4                  18.0                  30.5              181            243   \n",
        "\n",
        "   Cruising Speed (mph)  Range (miles)  Engines      \n",
        "0                   517           2399        2 ...  \n",
        "1                   517           3119        2 ...  \n",
        "2                   517           2420        2 ...  \n",
        "3                   517           2420        2 ...  \n",
        "4                   531           6536        2 ...  \n",
        "\n",
        "[5 rows x 34 columns]\n"
       ]
      }
     ],
     "prompt_number": 4
    },
    {
     "cell_type": "markdown",
     "metadata": {},
     "source": [
      "### Function: df\\_to\\_array()\n",
      "\n",
      "We need to do some preprocessing before we actually apply the machine learning techniques.\n",
      "\n",
      "As explained in\n",
      "  [Lesson 1](http://nbviewer.ipython.org/github/INFO490/spring2015/blob/master/week13/intro2dm.ipynb),\n",
      "  we need to build NumPy arrays because\n",
      "  scikit-learn does not work natively with Pandas DataFrame.\n",
      "  \n",
      "- Write a function named `df_to_array()` that takes a DataFrame\n",
      "  and returns a tuple of two NumPy ararys.\n",
      "  The first array should have every columns and rows **except** the `Aircraft` column.\n",
      "  The second array is the labels that will be used as truth values, i.e. the `Aircraft` column."
     ]
    },
    {
     "cell_type": "code",
     "collapsed": false,
     "input": [
      "def df_to_array(df):\n",
      "    '''\n",
      "    Takes a DataFrame and returns a tuple of NumPy arrays.\n",
      "    \n",
      "    Parameters\n",
      "    ----------\n",
      "    df: A DataFrame. Has a column named 'Aircraft'.\n",
      "    \n",
      "    Returns\n",
      "    -------\n",
      "    data: A NumPy array. To be used as attributes.\n",
      "    labels: A NumPy array. To be used as truth labels.\n",
      "    '''\n",
      "    \n",
      "    ### your code goes here\n",
      "    \n",
      "    column = df.columns.values[1:]\n",
      "    data = df[column].values\n",
      "    labels = df['Aircraft'].values\n",
      "    \n",
      "    return data, labels"
     ],
     "language": "python",
     "metadata": {},
     "outputs": [],
     "prompt_number": 5
    },
    {
     "cell_type": "markdown",
     "metadata": {},
     "source": [
      "Here are some examples that you can use to test your function.\n",
      "\n",
      "```python\n",
      "print(data.shape)\n",
      "```\n",
      "```text\n",
      "(44, 33)\n",
      "```\n",
      "```python\n",
      "print(data[0])\n",
      "```\n",
      "```text\n",
      "[  0.00000000e+00   0.00000000e+00   0.00000000e+00   2.10000000e+01\n",
      "   3.60000000e+01   1.20000000e+01   0.00000000e+00   0.00000000e+00\n",
      "   0.00000000e+00   1.72000000e+01   3.40000000e+01   1.80000000e+01\n",
      "   1.72000000e+01   3.05000000e+01   9.60000000e+01   1.26000000e+02\n",
      "   5.17000000e+02   2.39900000e+03   2.00000000e+00   1.11830000e+02\n",
      "   3.85830000e+01   1.11000000e+02   1.00000000e+00   0.00000000e+00\n",
      "   0.00000000e+00   0.00000000e+00   0.00000000e+00   0.00000000e+00\n",
      "   0.00000000e+00   1.00000000e+00   0.00000000e+00   1.00000000e+00\n",
      "   1.00000000e+00]\n",
      "```\n",
      "```python\n",
      "print(data[:, 0])\n",
      "```\n",
      "```text\n",
      "[  0.   19.4   0.    0.    0.    0.    0.    0.    0.    0.    0.    0.\n",
      "   0.    0.    0.    0.    0.    0.    0.    0.    0.    0.    0.    0.\n",
      "   0.    0.    0.    0.    0.    0.    0.    0.    0.    0.    0.    0.\n",
      "   0.    0.    0.    0.    0.    0.    0.    0. ]\n",
      "```"
     ]
    },
    {
     "cell_type": "code",
     "collapsed": false,
     "input": [
      "data, labels = df_to_array(df)"
     ],
     "language": "python",
     "metadata": {},
     "outputs": [],
     "prompt_number": 6
    },
    {
     "cell_type": "markdown",
     "metadata": {},
     "source": [
      "### Standardization\n",
      "\n",
      "PCA is a scale-dependent method. For example, if the range of one column is [-100, 100],\n",
      "  while the that of another column is [-0.1, 0.1], PCA will place more weight\n",
      "  on the attribute with larger values.\n",
      "  One way to avoid this is to *standardize* a data set by\n",
      "  scaling each feature so that the individual features all look like\n",
      "  Gausssian distributions with zero mean and unit variance.\n",
      "  \n",
      "For further detail, see\n",
      "  [Preprocessing data](http://scikit-learn.org/stable/modules/preprocessing.html).\n",
      "  The function scale provides a quick and easy way to\n",
      "  perform this operation on a single array-like dataset."
     ]
    },
    {
     "cell_type": "code",
     "collapsed": false,
     "input": [
      "from sklearn.preprocessing import StandardScaler\n",
      "scaler = StandardScaler().fit(data)\n",
      "data_scaled = scaler.transform(data)"
     ],
     "language": "python",
     "metadata": {},
     "outputs": [],
     "prompt_number": 10
    },
    {
     "cell_type": "markdown",
     "metadata": {},
     "source": [
      "### Function: perform\\_pca()\n",
      "\n",
      "- Write a funtion named `perform_pca()` that takes two NumPy arrays\n",
      "  and returns a DataFrame."
     ]
    },
    {
     "cell_type": "code",
     "collapsed": false,
     "input": [
      "from sklearn.decomposition import PCA\n",
      "\n",
      "def perform_pca(data, labels):\n",
      "    '''\n",
      "    Takes two NumPy arrays and returns a DataFrame.\n",
      "    Runs PCA to obtain the first and second principal components.\n",
      "    \n",
      "    Parameters\n",
      "    ----------\n",
      "    data: A NumPy array. Attributes.\n",
      "    labels: A NumPy array. Aircraft types.\n",
      "    \n",
      "    Returns\n",
      "    -------\n",
      "    A DataFrame with three columns, 'PCA1', 'PCA2', and 'Aircraft'.\n",
      "    '''\n",
      "        \n",
      "    #### your code goes here\n",
      "    \n",
      "    pca = PCA(n_components=2)\n",
      "    pca.fit(data)\n",
      "    data_reduced = pca.transform(data)\n",
      "    cols = ['PCA1', 'PCA2', 'Aircraft']\n",
      "    tmp_d = np.concatenate((data_reduced, labels.reshape(len(data), 1)), axis=1)\n",
      "    data_pca = pd.DataFrame(tmp_d, columns = cols)\n",
      "    \n",
      "    return data_pca\n",
      "\n",
      "data_pca = perform_pca(data_scaled, labels)"
     ],
     "language": "python",
     "metadata": {},
     "outputs": [],
     "prompt_number": 11
    },
    {
     "cell_type": "markdown",
     "metadata": {},
     "source": [
      "The PCA returned the following.\n",
      "\n",
      "```python\n",
      "data_pca = perform_pca(data_scaled, labels)\n",
      "print(data_pca.head(5))\n",
      "```\n",
      "```text\n",
      "       PCA1      PCA2          Aircraft\n",
      "0  2.656021 -1.382411       Airbus A319\n",
      "1  6.766622  16.74373   Airbus A319 VIP\n",
      "2  2.396654 -1.487692       Airbus A320\n",
      "3  2.396654 -1.487692  Airbus A320 32-R\n",
      "4 -4.862387  0.951892   Airbus A330-200\n",
      "\n",
      "[5 rows x 3 columns]\n",
      "```"
     ]
    },
    {
     "cell_type": "code",
     "collapsed": false,
     "input": [
      "print(data_pca.head(5))"
     ],
     "language": "python",
     "metadata": {},
     "outputs": [
      {
       "output_type": "stream",
       "stream": "stdout",
       "text": [
        "       PCA1      PCA2          Aircraft\n",
        "0  2.656021 -1.382411       Airbus A319\n",
        "1  6.766622  16.74373   Airbus A319 VIP\n",
        "2  2.396654 -1.487692       Airbus A320\n",
        "3  2.396654 -1.487692  Airbus A320 32-R\n",
        "4 -4.862387  0.951892   Airbus A330-200\n",
        "\n",
        "[5 rows x 3 columns]\n"
       ]
      }
     ],
     "prompt_number": 12
    },
    {
     "cell_type": "markdown",
     "metadata": {},
     "source": [
      "### Plot: Scatter Plot Using Principal Components\n",
      "\n",
      "- Create a scatter plot using the first and second\n",
      "  principal compnents of `data_pca`.\n",
      "  \n",
      "  <img src=\"images/pca_hw.png\">"
     ]
    },
    {
     "cell_type": "code",
     "collapsed": false,
     "input": [
      "#### your code goes here\n",
      "\n",
      "jp = sns.lmplot('PCA1', 'PCA2', data_pca, fit_reg=False, hue='Aircraft', size=8, scatter_kws ={'s': 60})\n",
      "jp.set_axis_labels('First PCA', 'Second PCA')\n",
      "jp.axes[0,0].set_xlim((-10, 10))\n",
      "jp.axes[0,0].set_ylim((-5, 20))\n",
      "sns.despine(offset=0, trim=True)\n",
      "sns.set(style=\"ticks\", font_scale=0.5)"
     ],
     "language": "python",
     "metadata": {},
     "outputs": [
      {
       "metadata": {},
       "output_type": "display_data",
       "png": "[encoded data removed]",
       "text": [
        "<matplotlib.figure.Figure at 0x7fadf4dadc88>"
       ]
      }
     ],
     "prompt_number": 18
    },
    {
     "cell_type": "markdown",
     "metadata": {},
     "source": [
      "## Problem 12.3. Clustering\n",
      "\n",
      "In this problem, we will use the k-means algorithm to\n",
      "  group similar aircrafts into clusters.\n",
      "  \n",
      "  \n",
      "### Function: cluster()\n",
      "\n",
      "- Write a function named `cluster()` that takes two NumPy arrays.\n",
      "  The first array has the **scaled** attributes,\n",
      "  while the second array has the attributes in terms of the first\n",
      "  and second principal components.\n",
      "  It should return a DataFrame with three columns:\n",
      "  `PCA1`, `PCA2`, and `Cluster`.\n",
      "\n",
      "The number of clusters `n_clusters` is an adjustable parameter.\n",
      "  Different `n_clusters` corresponds to a different model.\n",
      "  You may experiment with different values of `n_clusters` to\n",
      "  find what you think best fits the data.\n",
      "  In the following, I use `n_clusters=4`.\n",
      "  \n",
      "**IMPORTANT**:\n",
      "  You **must** use the `random_state` parameter in the\n",
      "  [`KMeans()`](http://scikit-learn.org/stable/modules/generated/sklearn.cluster.KMeans.html)\n",
      "  function to ensure\n",
      "  [repeatibility](http://scikit-learn.org/stable/developers/utilities.html).\n",
      "  Also, don't forget to use the optional parameter `n_clusters`."
     ]
    },
    {
     "cell_type": "code",
     "collapsed": false,
     "input": [
      "from sklearn.cluster import KMeans\n",
      "\n",
      "random_seed = 490\n",
      "random_state = check_random_state(random_seed)\n",
      "\n",
      "def cluster(data_scaled, data_reduced, n_clusters=4, random_state=random_state):\n",
      "    '''\n",
      "    Takes two NumPy arrays and returns a DataFrame.\n",
      "    \n",
      "    Parameters\n",
      "    ----------\n",
      "    data_scaled: A NumPy array. Attributes scaled with e.g. StandardScaler().\n",
      "    data_reduced: A NumPy array. Attributes in principal compnents.\n",
      "    n_clusters: Optional. An integer. The number of clusters to query.\n",
      "    random_state: Random number generator.\n",
      "    \n",
      "    Returns\n",
      "    -------\n",
      "    A DataFrame with three columns: 'PCA1', 'PCA2', and 'Cluster'.\n",
      "    '''\n",
      "    #### your code goes here\n",
      "    \n",
      "    k_means = KMeans(n_clusters=n_clusters, random_state=random_state)\n",
      "    k_means.fit(data_scaled)\n",
      "    y_pred = k_means.predict(data_scaled)\n",
      "    tmp_d = np.concatenate((data_reduced, y_pred.reshape((len(data_scaled), 1))), axis=1)\n",
      "    data_clust = pd.DataFrame(tmp_d, columns = ['PCA1', 'PCA2', 'Cluster'])\n",
      "    \n",
      "    return data_clust\n",
      "\n",
      "data_clust = cluster(data_scaled, data_pca[['PCA1', 'PCA2']].values, n_clusters=4, random_state=random_state)"
     ],
     "language": "python",
     "metadata": {},
     "outputs": [],
     "prompt_number": 19
    },
    {
     "cell_type": "markdown",
     "metadata": {},
     "source": [
      "Here's what I got:\n",
      "\n",
      "```python\n",
      "data_clust = cluster(data_scaled, data_pca[['PCA1', 'PCA2']].values)\n",
      "print(data_clust.head(5))\n",
      "```\n",
      "```text\n",
      "       PCA1      PCA2 Cluster\n",
      "0  2.656021 -1.382411       2\n",
      "1  6.766622  16.74373       3\n",
      "2  2.396654 -1.487692       2\n",
      "3  2.396654 -1.487692       2\n",
      "4 -4.862387  0.951892       0\n",
      "\n",
      "[5 rows x 3 columns]\n",
      "```"
     ]
    },
    {
     "cell_type": "code",
     "collapsed": false,
     "input": [
      "print(data_clust.head(5))"
     ],
     "language": "python",
     "metadata": {},
     "outputs": [
      {
       "output_type": "stream",
       "stream": "stdout",
       "text": [
        "       PCA1      PCA2 Cluster\n",
        "0  2.656021 -1.382411       2\n",
        "1  6.766622  16.74373       3\n",
        "2  2.396654 -1.487692       2\n",
        "3  2.396654 -1.487692       2\n",
        "4 -4.862387  0.951892       0\n",
        "\n",
        "[5 rows x 3 columns]\n"
       ]
      }
     ],
     "prompt_number": 20
    },
    {
     "cell_type": "markdown",
     "metadata": {},
     "source": [
      "### Plot: Scatter Plot of Clusters\n",
      "\n",
      "- Use the `data_clust` DataFrame to create a scatter plot\n",
      "  of the clustered data in the first and second \n",
      "  principal component axes.\n",
      "\n",
      "<img src=\"images/cluster_hw.png\">"
     ]
    },
    {
     "cell_type": "code",
     "collapsed": false,
     "input": [
      "#### your code goes here\n",
      "\n",
      "jp = sns.lmplot('PCA1', 'PCA2', data_clust, fit_reg=False, hue='Cluster', size=8, scatter_kws ={'s': 60})\n",
      "jp.set_axis_labels('First PCA', 'Second PCA')\n",
      "jp.axes[0,0].set_xlim((-10, 10))\n",
      "jp.axes[0,0].set_ylim((-5, 20))\n",
      "sns.despine(offset=0, trim=True)\n",
      "sns.set(style=\"ticks\", font_scale=2.0)"
     ],
     "language": "python",
     "metadata": {},
     "outputs": [
      {
       "metadata": {},
       "output_type": "display_data",
       "png": "[encoded data removed]",
       "text": [
        "<matplotlib.figure.Figure at 0x7fadf4e80128>"
       ]
      }
     ],
     "prompt_number": 22
    },
    {
     "cell_type": "markdown",
     "metadata": {},
     "source": [
      "### Dicussion\n",
      "\n",
      "You don't have to write any code in this section,\n",
      "  but here's one interpretaion of what we have done.\n",
      "\n",
      "Let's take a closer look at each cluster."
     ]
    },
    {
     "cell_type": "code",
     "collapsed": false,
     "input": [
      "df['Cluster'] = data_clust['Cluster']\n",
      "df_grouped = df.groupby('Cluster').mean()\n",
      "print(df_grouped.Accommodation)"
     ],
     "language": "python",
     "metadata": {},
     "outputs": [
      {
       "output_type": "stream",
       "stream": "stdout",
       "text": [
        "Cluster\n",
        "0          244.733333\n",
        "1           44.500000\n",
        "2          153.625000\n",
        "3           54.000000\n",
        "Name: Accommodation, dtype: float64\n"
       ]
      }
     ],
     "prompt_number": 23
    },
    {
     "cell_type": "code",
     "collapsed": false,
     "input": [
      "print(df_grouped['Length (ft)'])"
     ],
     "language": "python",
     "metadata": {},
     "outputs": [
      {
       "output_type": "stream",
       "stream": "stdout",
       "text": [
        "Cluster\n",
        "0          190.538400\n",
        "1           84.810750\n",
        "2          137.048083\n",
        "3          111.000000\n",
        "Name: Length (ft), dtype: float64\n"
       ]
      }
     ],
     "prompt_number": 24
    },
    {
     "cell_type": "markdown",
     "metadata": {},
     "source": [
      "Cluster 3 has only one aircraft:"
     ]
    },
    {
     "cell_type": "code",
     "collapsed": false,
     "input": [
      "clust3 = data_pca[data_clust.Cluster == 3]\n",
      "print(clust3.Aircraft)"
     ],
     "language": "python",
     "metadata": {},
     "outputs": [
      {
       "output_type": "stream",
       "stream": "stdout",
       "text": [
        "1    Airbus A319 VIP\n",
        "Name: Aircraft, dtype: object\n"
       ]
      }
     ],
     "prompt_number": 25
    },
    {
     "cell_type": "markdown",
     "metadata": {},
     "source": [
      "Airbus A319 VIP is not one of Delta Airline's regular fleet and is one of\n",
      "  [Airbus corporate jets](http://en.wikipedia.org/wiki/Airbus_Corporate_Jets).\n",
      "  \n",
      "Cluster 1 has four aircrafts:"
     ]
    },
    {
     "cell_type": "code",
     "collapsed": false,
     "input": [
      "clust1 = data_pca[data_clust.Cluster == 1]\n",
      "print(clust1.Aircraft)"
     ],
     "language": "python",
     "metadata": {},
     "outputs": [
      {
       "output_type": "stream",
       "stream": "stdout",
       "text": [
        "33    CRJ 100/200 Pinnacle/SkyWest\n",
        "34          CRJ 100/200 ExpressJet\n",
        "37                            E120\n",
        "40                         ERJ-145\n",
        "Name: Aircraft, dtype: object\n"
       ]
      }
     ],
     "prompt_number": 26
    },
    {
     "cell_type": "markdown",
     "metadata": {},
     "source": [
      "These are small aircrafts and only have economy seats."
     ]
    },
    {
     "cell_type": "code",
     "collapsed": false,
     "input": [
      "cols_seat = ['First Class', 'Business', 'Eco Comfort', 'Economy']\n",
      "print(df.loc[clust1.index, cols_seat])"
     ],
     "language": "python",
     "metadata": {},
     "outputs": [
      {
       "output_type": "stream",
       "stream": "stdout",
       "text": [
        "    First Class  Business  Eco Comfort  Economy\n",
        "33            0         0            0        1\n",
        "34            0         0            0        1\n",
        "37            0         0            0        1\n",
        "40            0         0            0        1\n",
        "\n",
        "[4 rows x 4 columns]\n"
       ]
      }
     ],
     "prompt_number": 27
    },
    {
     "cell_type": "markdown",
     "metadata": {},
     "source": [
      "Next, we look at Cluster 0:"
     ]
    },
    {
     "cell_type": "code",
     "collapsed": false,
     "input": [
      "clust0 = data_pca[data_clust.Cluster == 0]\n",
      "print(clust0.Aircraft)"
     ],
     "language": "python",
     "metadata": {},
     "outputs": [
      {
       "output_type": "stream",
       "stream": "stdout",
       "text": [
        "4              Airbus A330-200\n",
        "5        Airbus A330-200 (3L2)\n",
        "6        Airbus A330-200 (3L3)\n",
        "7              Airbus A330-300\n",
        "13        Boeing 747-400 (74S)\n",
        "15        Boeing 757-200 (75E)\n",
        "20        Boeing 757-200 (75X)\n",
        "22        Boeing 767-300 (76G)\n",
        "23        Boeing 767-300 (76L)\n",
        "26        Boeing 767-300 (76T)\n",
        "28    Boeing 767-300 (76Z V.1)\n",
        "29    Boeing 767-300 (76Z V.2)\n",
        "30        Boeing 767-400 (76D)\n",
        "31            Boeing 777-200ER\n",
        "32            Boeing 777-200LR\n",
        "Name: Aircraft, dtype: object\n"
       ]
      }
     ],
     "prompt_number": 28
    },
    {
     "cell_type": "markdown",
     "metadata": {},
     "source": [
      "These aircrafts do not have first class seating:"
     ]
    },
    {
     "cell_type": "code",
     "collapsed": false,
     "input": [
      "print(df.loc[clust0.index, cols_seat])"
     ],
     "language": "python",
     "metadata": {},
     "outputs": [
      {
       "output_type": "stream",
       "stream": "stdout",
       "text": [
        "    First Class  Business  Eco Comfort  Economy\n",
        "4             0         1            1        1\n",
        "5             0         1            1        1\n",
        "6             0         1            1        1\n",
        "7             0         1            1        1\n",
        "13            0         1            1        1\n",
        "15            0         1            1        1\n",
        "20            0         1            1        1\n",
        "22            0         1            1        1\n",
        "23            0         1            1        1\n",
        "26            0         1            1        1\n",
        "28            0         1            1        1\n",
        "29            0         1            1        1\n",
        "30            0         1            1        1\n",
        "31            0         1            1        1\n",
        "32            0         1            1        1\n",
        "\n",
        "[15 rows x 4 columns]\n"
       ]
      }
     ],
     "prompt_number": 29
    },
    {
     "cell_type": "markdown",
     "metadata": {},
     "source": [
      "Finally, cluster 2 has the following aircrafts:"
     ]
    },
    {
     "cell_type": "code",
     "collapsed": false,
     "input": [
      "clust2 = data_pca[data_clust.Cluster == 2]\n",
      "print(clust2.Aircraft)"
     ],
     "language": "python",
     "metadata": {},
     "outputs": [
      {
       "output_type": "stream",
       "stream": "stdout",
       "text": [
        "0                Airbus A319\n",
        "2                Airbus A320\n",
        "3           Airbus A320 32-R\n",
        "8                 Boeing 717\n",
        "9       Boeing 737-700 (73W)\n",
        "10      Boeing 737-800 (738)\n",
        "11      Boeing 737-800 (73H)\n",
        "12    Boeing 737-900ER (739)\n",
        "14      Boeing 757-200 (75A)\n",
        "16      Boeing 757-200 (75M)\n",
        "17      Boeing 757-200 (75N)\n",
        "18      Boeing 757-200 (757)\n",
        "19      Boeing 757-200 (75V)\n",
        "21            Boeing 757-300\n",
        "24      Boeing 767-300 (76P)\n",
        "25      Boeing 767-300 (76Q)\n",
        "27      Boeing 767-300 (76U)\n",
        "35                   CRJ 700\n",
        "36                   CRJ 900\n",
        "38                      E170\n",
        "39                      E175\n",
        "41                     MD-88\n",
        "42                     MD-90\n",
        "43                 MD-DC9-50\n",
        "Name: Aircraft, dtype: object\n"
       ]
      }
     ],
     "prompt_number": 30
    },
    {
     "cell_type": "markdown",
     "metadata": {},
     "source": [
      "The aircrafts in cluster 2 have first class seating but no business class."
     ]
    },
    {
     "cell_type": "code",
     "collapsed": false,
     "input": [
      "print(df.loc[clust2.index, cols_seat])"
     ],
     "language": "python",
     "metadata": {},
     "outputs": [
      {
       "output_type": "stream",
       "stream": "stdout",
       "text": [
        "    First Class  Business  Eco Comfort  Economy\n",
        "0             1         0            1        1\n",
        "2             1         0            1        1\n",
        "3             1         0            1        1\n",
        "8             1         0            1        1\n",
        "9             1         0            1        1\n",
        "10            1         0            1        1\n",
        "11            1         0            1        1\n",
        "12            1         0            1        1\n",
        "14            1         0            1        1\n",
        "16            1         0            1        1\n",
        "17            1         0            1        1\n",
        "18            1         0            1        1\n",
        "19            1         0            1        1\n",
        "21            1         0            1        1\n",
        "24            1         0            1        1\n",
        "25            1         0            1        1\n",
        "27            0         1            1        1\n",
        "35            1         0            1        1\n",
        "36            1         0            1        1\n",
        "38            1         0            1        1\n",
        "39            1         0            1        1\n",
        "41            1         0            1        1\n",
        "42            1         0            1        1\n",
        "43            1         0            1        1\n",
        "\n",
        "[24 rows x 4 columns]\n"
       ]
      }
     ],
     "prompt_number": 31
    },
    {
     "cell_type": "code",
     "collapsed": false,
     "input": [],
     "language": "python",
     "metadata": {},
     "outputs": []
    }
   ],
   "metadata": {}
  }
 ]
}