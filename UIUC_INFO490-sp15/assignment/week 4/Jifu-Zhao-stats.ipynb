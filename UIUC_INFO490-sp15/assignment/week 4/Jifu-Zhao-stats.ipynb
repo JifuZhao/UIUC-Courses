{
 "metadata": {
  "name": "",
  "signature": "sha256:0a530d1b31fcfc206275252598b232eb4507848e330476dca78d39cbc94428da"
 },
 "nbformat": 3,
 "nbformat_minor": 0,
 "worksheets": [
  {
   "cells": [
    {
     "cell_type": "markdown",
     "metadata": {},
     "source": [
      "## Problem 4.1. Simple Statistics I.\n",
      "\n",
      "In this problem, you will write a function that calculates the minimum, maximum, mean, and median values from a list of integers.\n",
      "\n",
      " - Write a function named `get_stats()` takes one argument, which should be a list of integers, and returns a tuple `(minimum, maximum, mean, median)`. The minimum and maximum values can be integers, but mean and median must be returned as floats.\n",
      " \n",
      "Tips:\n",
      "\n",
      "- If there is an even number of values in the list, there is no single middle value; in this case, take the median to be the mean of the two middle values.\n",
      "- Use [sorted()](https://docs.python.org/3/library/functions.html#sorted) to handle an unordered list. See below.\n",
      "- The mean and the median should be floating values. To convert an integer to a float, use [float()](https://docs.python.org/3/library/functions.html#float)."
     ]
    },
    {
     "cell_type": "code",
     "collapsed": false,
     "input": [
      "def get_stats(input_list):\n",
      "    '''\n",
      "    Accepts a list of integers, and returns a tuple of four numbers:\n",
      "    minimum(int), maximum(int), mean(float), and median(float)\n",
      "    \n",
      "    Parameters\n",
      "    __________\n",
      "    input_list: A list of integers.\n",
      "      \n",
      "    Returns\n",
      "    _______\n",
      "    minimum: An integer. The minimum of input_list.\n",
      "    maximum: An integer. The maximum of input_list.\n",
      "    mean: A float. The mean of input_list.\n",
      "    median: A float. The median of input_list.\n",
      "            If there is an even number of values in the list,\n",
      "            there is no single middle value.\n",
      "            In this case, take the median to be the mean of the two middle values.\n",
      "    \n",
      "    Examples\n",
      "    ________\n",
      "    >>> get_stats([0, 1, 2, 3, 4])\n",
      "    (0, 4, 2.0, 2.0)\n",
      "    >>> get_stats([0, 1, 2, 3, 4, 5])\n",
      "    (0, 5, 2.5, 2.5)\n",
      "    >>> get_stats([0, 1, 2, 5])\n",
      "    (0, 5, 2.0, 1.5)\n",
      "    >>> get_stats([2, 0, 4, 1, 5])\n",
      "    (0, 5, 2.4, 2.0)\n",
      "    '''\n",
      "    \n",
      "    # your code goes here\n",
      "    \n",
      "    list_sort = sorted(input_list)\n",
      "    minimum = min(list_sort)\n",
      "    maximum = max(list_sort)\n",
      "    N = len(list_sort)\n",
      "    mean = float(sum(list_sort)/N)\n",
      "    if(N%2 == 1):\n",
      "        median = float(list_sort[int(N/2)])\n",
      "    else:\n",
      "        median = float(0.5 * (list_sort[int(N/2)-1] + list_sort[int(N/2)]))\n",
      "\n",
      "    return minimum, maximum, mean, median"
     ],
     "language": "python",
     "metadata": {},
     "outputs": [],
     "prompt_number": 1
    },
    {
     "cell_type": "markdown",
     "metadata": {},
     "source": [
      "When you are done writing the `get_stats()` function, test your function by\n",
      "running the following cells.\n",
      "\n",
      "We first test a list with an even number integers. For `list(range(51))`, your output should be\n",
      "\n",
      "    Minimum = 0 is of type <class 'int'>.\n",
      "    Maximum = 50 is of type <class 'int'>.\n",
      "    Mean = 25.0 is of type <class 'float'>.\n",
      "    Median = 25.0 is of type <class 'float'>."
     ]
    },
    {
     "cell_type": "code",
     "collapsed": false,
     "input": [
      "my_list = list(range(51)) # from 0 to 50. an odd number of elements.\n",
      "min_val, max_val, mean_val, med_val = get_stats(my_list)\n",
      "print(\"Minimum = {0} is of type {1}.\".format(min_val, type(min_val)))\n",
      "print(\"Maximum = {0} is of type {1}.\".format(max_val, type(max_val)))\n",
      "print(\"Mean = {0:.1f} is of type {1}.\".format(mean_val, type(mean_val)))\n",
      "print(\"Median = {0:.1f} is of type {1}.\".format(med_val, type(med_val)))"
     ],
     "language": "python",
     "metadata": {},
     "outputs": [
      {
       "output_type": "stream",
       "stream": "stdout",
       "text": [
        "Minimum = 0 is of type <class 'int'>.\n",
        "Maximum = 50 is of type <class 'int'>.\n",
        "Mean = 25.0 is of type <class 'float'>.\n",
        "Median = 25.0 is of type <class 'float'>.\n"
       ]
      }
     ],
     "prompt_number": 2
    },
    {
     "cell_type": "markdown",
     "metadata": {},
     "source": [
      "We also test a list with an odd number of elements. For `list(range(52))`, the output should be\n",
      "\n",
      "    Minimum = 0 is of type <class 'int'>.\n",
      "    Maximum = 51 is of type <class 'int'>.\n",
      "    Mean = 25.5 is of type <class 'float'>.\n",
      "    Median = 25.5 is of type <class 'float'>."
     ]
    },
    {
     "cell_type": "code",
     "collapsed": false,
     "input": [
      "another_list = list(range(52)) # from 0 to 51, an even number of elements.\n",
      "min_val, max_val, mean_val, med_val = get_stats(another_list)\n",
      "print(\"Minimum = {0} is of type {1}.\".format(min_val, type(min_val)))\n",
      "print(\"Maximum = {0} is of type {1}.\".format(max_val, type(max_val)))\n",
      "print(\"Mean = {0:.1f} is of type {1}.\".format(mean_val, type(mean_val)))\n",
      "print(\"Median = {0:.1f} is of type {1}.\".format(med_val, type(med_val)))"
     ],
     "language": "python",
     "metadata": {},
     "outputs": [
      {
       "output_type": "stream",
       "stream": "stdout",
       "text": [
        "Minimum = 0 is of type <class 'int'>.\n",
        "Maximum = 51 is of type <class 'int'>.\n",
        "Mean = 25.5 is of type <class 'float'>.\n",
        "Median = 25.5 is of type <class 'float'>.\n"
       ]
      }
     ],
     "prompt_number": 3
    },
    {
     "cell_type": "markdown",
     "metadata": {},
     "source": [
      "Your function should also be able to handle a *shuffled* list. (Hint: Use [sorted()](https://docs.python.org/3/library/functions.html#sorted) in `get_stats()`.)"
     ]
    },
    {
     "cell_type": "code",
     "collapsed": false,
     "input": [
      "from random import shuffle\n",
      "shuffle(my_list)\n",
      "print(my_list)"
     ],
     "language": "python",
     "metadata": {},
     "outputs": [
      {
       "output_type": "stream",
       "stream": "stdout",
       "text": [
        "[47, 41, 35, 34, 27, 19, 30, 32, 24, 28, 7, 48, 8, 45, 26, 3, 16, 50, 31, 12, 10, 4, 25, 1, 17, 18, 40, 38, 29, 37, 2, 22, 15, 14, 43, 9, 13, 42, 49, 20, 39, 23, 6, 33, 5, 0, 46, 11, 21, 36, 44]\n"
       ]
      }
     ],
     "prompt_number": 4
    },
    {
     "cell_type": "markdown",
     "metadata": {},
     "source": [
      "Running the following cell should give the same output as the case when `my_list = list(range(51))`:\n",
      "\n",
      "    Minimum = 0 is of type <class 'int'>.\n",
      "    Maximum = 50 is of type <class 'int'>.\n",
      "    Mean = 25.0 is of type <class 'float'>.\n",
      "    Median = 25.0 is of type <class 'float'>."
     ]
    },
    {
     "cell_type": "code",
     "collapsed": false,
     "input": [
      "min_val, max_val, mean_val, med_val = get_stats(my_list)\n",
      "print(\"Minimum = {0} is of type {1}.\".format(min_val, type(min_val)))\n",
      "print(\"Maximum = {0} is of type {1}.\".format(max_val, type(max_val)))\n",
      "print(\"Mean = {0:.1f} is of type {1}.\".format(mean_val, type(mean_val)))\n",
      "print(\"Median = {0:.1f} is of type {1}.\".format(med_val, type(med_val)))"
     ],
     "language": "python",
     "metadata": {},
     "outputs": [
      {
       "output_type": "stream",
       "stream": "stdout",
       "text": [
        "Minimum = 0 is of type <class 'int'>.\n",
        "Maximum = 50 is of type <class 'int'>.\n",
        "Mean = 25.0 is of type <class 'float'>.\n",
        "Median = 25.0 is of type <class 'float'>.\n"
       ]
      }
     ],
     "prompt_number": 5
    },
    {
     "cell_type": "code",
     "collapsed": false,
     "input": [],
     "language": "python",
     "metadata": {},
     "outputs": []
    }
   ],
   "metadata": {}
  }
 ]
}