{
 "metadata": {
  "name": "",
  "signature": "sha256:52ee8f9107d1603f9f5976b95e5e24eeec0dc3cb768e4249401f9af9e461ae6d"
 },
 "nbformat": 3,
 "nbformat_minor": 0,
 "worksheets": [
  {
   "cells": [
    {
     "cell_type": "markdown",
     "metadata": {},
     "source": [
      "## Week 14 Problem 1. Google Compute Engine."
     ]
    },
    {
     "cell_type": "code",
     "collapsed": false,
     "input": [
      "print('hello')"
     ],
     "language": "python",
     "metadata": {},
     "outputs": []
    },
    {
     "cell_type": "code",
     "collapsed": false,
     "input": [],
     "language": "python",
     "metadata": {},
     "outputs": []
    }
   ],
   "metadata": {}
  }
 ]
}