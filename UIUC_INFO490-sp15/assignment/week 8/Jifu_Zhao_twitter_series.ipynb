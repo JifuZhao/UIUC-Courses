{
 "metadata": {
  "name": "",
  "signature": "sha256:cf9e1f8e66402685e9ac548269e9bc92104ebd06192be1493c42035f3e299165"
 },
 "nbformat": 3,
 "nbformat_minor": 0,
 "worksheets": [
  {
   "cells": [
    {
     "cell_type": "code",
     "collapsed": false,
     "input": [
      "%matplotlib inline"
     ],
     "language": "python",
     "metadata": {},
     "outputs": [],
     "prompt_number": 1
    },
    {
     "cell_type": "code",
     "collapsed": false,
     "input": [
      "import re\n",
      "import twitter\n",
      "import numpy as np\n",
      "import pandas as pd\n",
      "import os\n",
      "import json\n",
      "import time\n",
      "import datetime\n",
      "import seaborn as sns"
     ],
     "language": "python",
     "metadata": {},
     "outputs": [],
     "prompt_number": 2
    },
    {
     "cell_type": "markdown",
     "metadata": {},
     "source": [
      "## Problem 8.2. Twitter Time Series.\n",
      "\n",
      "- When you are done, rename your file to `FirstName_LastName_twitter_series.ipynb`\n",
      "  and submit it via Moodle.\n",
      "- In this problem, you will use a real-time stream of tweets\n",
      "  to track the number of tweets that contain your query phrase.\n",
      "\n",
      "### Create a Twitter API Connection\n",
      "\n",
      "First, You have to get Twitter OAuth credentials and obtain API access at\n",
      "  https://dev.twitter.com/apps/new as detailed in Chapter 1 of\n",
      "  Mining the Social Web 2nd Edition by Matthew A. Russell\n",
      "  (hereafter referred to as simply the book),\n",
      "  and fill in your OAuth credentials in place of the empty strings.\n",
      "  See https://dev.twitter.com/docs/auth/oauth for more information\n",
      "  on Twitter's OAuth implementation."
     ]
    },
    {
     "cell_type": "code",
     "collapsed": false,
     "input": [
      "CONSUMER_KEY = 'tf8Op9Tii60cHoy2uxSvlqrYQ'\n",
      "CONSUMER_SECRET = 'muEF4CEmPYzbmVRPMG3yM3RdgqtizAeg6CpAGnJaJFvFjkJ9vP'\n",
      "OAUTH_TOKEN = '2731006742-xR7CcsTcC19fGppq8hpGbFc4mXxuBewrli3s30N'\n",
      "OAUTH_TOKEN_SECRET = 'X5SqWWyKOpTmvxu9SKHctIc9TpDTWqhWJNMgXDf4ecXwh'\n",
      "\n",
      "auth = twitter.oauth.OAuth(OAUTH_TOKEN, OAUTH_TOKEN_SECRET,\n",
      "                           CONSUMER_KEY, CONSUMER_SECRET)"
     ],
     "language": "python",
     "metadata": {},
     "outputs": [],
     "prompt_number": 3
    },
    {
     "cell_type": "markdown",
     "metadata": {},
     "source": [
      "The search API (`twitter.Twitter` connector) described in Chapter 1 of the book is easy to use,\n",
      "  but the data you get from the search API can be delayed by minutes or even hours.\n",
      "  But when you want to do a time-series analysis using a *real-time* stream of tweets,\n",
      "  you can use the streaming API (`twitter.TwitterStream` connector) instead.\n",
      "  Note that the streaming data is a 1% random subsample of all tweets available.\n",
      "  Similar to the search API `twitter.Twitter`,\n",
      "  the streaming API `twitter.TwitterStream` takes the same `twitter.oauth.OAuth` object."
     ]
    },
    {
     "cell_type": "code",
     "collapsed": false,
     "input": [
      "twitter_api = twitter.TwitterStream(auth=auth)"
     ],
     "language": "python",
     "metadata": {},
     "outputs": [],
     "prompt_number": 4
    },
    {
     "cell_type": "markdown",
     "metadata": {},
     "source": [
      "In the following cell, try a search query and replace the file path if necessary.\n",
      "  Run it, and grab a snack or study the `get_time_series_data()` function, as it may take up to 10 minutes.\n",
      "  I repeat, do not stop this cell. It takes up to 10 minutes."
     ]
    },
    {
     "cell_type": "code",
     "collapsed": false,
     "input": [
      "# Search query, try your own.\n",
      "# Note that an unpopular trend won't get you\n",
      "# enough number of tweets in 10 minutes, so\n",
      "# you may have to increase max_time.\n",
      "# justinbieber is a safe bet to get enough tweets.\n",
      "q = 'justinbieber'\n",
      "# we will save the fetched twitter data to a file at fpath.\n",
      "fpath = '/data/twitter'\n",
      "\n",
      "def get_time_series_data(twitter_api, q, max_time=600, max_iter=None):\n",
      "    '''\n",
      "    Use the Twitter streaming API to get a real-time stream of tweets\n",
      "    and\n",
      "    \n",
      "    Parameters\n",
      "    ----------\n",
      "    twitter_api: Use twitter.TwitterStream to create an object.\n",
      "    q: A str. The search query (e.g. '#informatics')\n",
      "    max_time: In seconds. Stops the query when max_time is reached.\n",
      "    max_iter: Stops the query after max_iter number of iterations.\n",
      "    \n",
      "    Returns\n",
      "    -------\n",
      "    A list of dictionaries.\n",
      "    '''\n",
      "    count = 0\n",
      "    twitter_stream = twitter.TwitterStream(auth=twitter_api.auth)\n",
      "    \n",
      "    # See https://dev.twitter.com/docs/streaming-apis\n",
      "    stream = twitter_stream.statuses.filter(track=q)\n",
      "    \n",
      "    statuses = []\n",
      "    \n",
      "    start = datetime.datetime.now()\n",
      "    \n",
      "    try:\n",
      "        for tweet in stream:\n",
      "            \n",
      "            statuses.append(tweet)\n",
      "        \n",
      "            count += 1\n",
      "            \n",
      "            if count % 100 == 0:\n",
      "                \n",
      "                print('{0} tweets fetched...'.format(count))\n",
      "                \n",
      "                now = datetime.datetime.now()\n",
      "                if now - start > datetime.timedelta(0, max_time, 0):\n",
      "                    break\n",
      "\n",
      "            if max_iter is not None and count >= max_iter:\n",
      "                break\n",
      "                    \n",
      "    except Exception as e:\n",
      "        print(e)\n",
      "            \n",
      "    return statuses\n",
      "\n",
      "# if the keyword has never been queried,\n",
      "# use twitter streaming API to get real-time data.\n",
      "if not os.path.isfile(os.path.join(fpath, '{0}.json'.format(q))):\n",
      "    \n",
      "    tweets = get_time_series_data(twitter_api, q)\n",
      "    \n",
      "    if not os.path.exists(fpath):\n",
      "        os.mkdir(fpath)\n",
      "        \n",
      "    with open(os.path.join(fpath, '{0}.json'.format(q)), 'w') as f:\n",
      "        json.dump(tweets, f)"
     ],
     "language": "python",
     "metadata": {},
     "outputs": [
      {
       "output_type": "stream",
       "stream": "stdout",
       "text": [
        "100 tweets fetched...\n",
        "200 tweets fetched..."
       ]
      },
      {
       "output_type": "stream",
       "stream": "stdout",
       "text": [
        "\n",
        "300 tweets fetched..."
       ]
      },
      {
       "output_type": "stream",
       "stream": "stdout",
       "text": [
        "\n",
        "400 tweets fetched..."
       ]
      },
      {
       "output_type": "stream",
       "stream": "stdout",
       "text": [
        "\n",
        "500 tweets fetched..."
       ]
      },
      {
       "output_type": "stream",
       "stream": "stdout",
       "text": [
        "\n",
        "600 tweets fetched..."
       ]
      },
      {
       "output_type": "stream",
       "stream": "stdout",
       "text": [
        "\n",
        "700 tweets fetched..."
       ]
      },
      {
       "output_type": "stream",
       "stream": "stdout",
       "text": [
        "\n",
        "800 tweets fetched..."
       ]
      },
      {
       "output_type": "stream",
       "stream": "stdout",
       "text": [
        "\n",
        "900 tweets fetched..."
       ]
      },
      {
       "output_type": "stream",
       "stream": "stdout",
       "text": [
        "\n",
        "1000 tweets fetched..."
       ]
      },
      {
       "output_type": "stream",
       "stream": "stdout",
       "text": [
        "\n"
       ]
      }
     ],
     "prompt_number": 9
    },
    {
     "cell_type": "markdown",
     "metadata": {},
     "source": [
      "After about 10 minutes, the result will be saved to the file named `<query>.json`."
     ]
    },
    {
     "cell_type": "code",
     "collapsed": false,
     "input": [
      "with open(os.path.join(fpath, '{0}.json'.format(q)), 'r') as f:\n",
      "    tweets = json.load(f)"
     ],
     "language": "python",
     "metadata": {},
     "outputs": [],
     "prompt_number": 10
    },
    {
     "cell_type": "markdown",
     "metadata": {},
     "source": [
      "If you read the book, you know that `tweets` returned from `get_time_series_data()` function\n",
      "  is a list of dictionaries that contains all the metadata from every tweets we fetched.\n",
      "  You can check this by doing `print(tweets)`, `print(type(tweets))`, and/or `print(type(tweets[0]))`.\n",
      "  \n",
      "### Function: get_created_at()\n",
      "\n",
      "Now your task is to\n",
      "\n",
      "- write a function that takes a list of dictionaries\n",
      "  (`tweets` or Twitter statuses) and returns a `pandas.Series` object.\n",
      "  \n",
      "Each status is a dictionary and has the key `created_at`.\n",
      "For example, `print(tweets[0]['created_at']` for my data set says\n",
      "    \n",
      "    Fri Mar 06 04:31:26 +0000 2015\n",
      "    \n",
      "You should use this `created_at` time to create each `DatetimeIndex` for `pd.Series`.\n",
      "\n",
      "In the end, you should return a `pd.Series` with the number of tweets created at **each second**.\n",
      "\n",
      "```python\n",
      ">>> print(get_created_at(tweets))\n",
      "\n",
      "2015-03-06 04:31:26    4\n",
      "2015-03-06 04:31:27    5\n",
      "2015-03-06 04:31:28    4\n",
      "2015-03-06 04:31:29    4\n",
      "2015-03-06 04:31:30    4\n",
      "2015-03-06 04:31:31    7\n",
      "2015-03-06 04:31:32    6\n",
      "2015-03-06 04:31:33    8\n",
      "2015-03-06 04:31:34    2\n",
      "2015-03-06 04:31:35    7\n",
      "2015-03-06 04:31:36    8\n",
      "2015-03-06 04:31:37    5\n",
      "2015-03-06 04:31:38    5\n",
      "2015-03-06 04:31:39    6\n",
      "2015-03-06 04:31:40    6\n",
      "...\n",
      "2015-03-06 04:41:22    1\n",
      "2015-03-06 04:41:23    1\n",
      "2015-03-06 04:41:24    2\n",
      "2015-03-06 04:41:25    1\n",
      "2015-03-06 04:41:26    5\n",
      "2015-03-06 04:41:27    0\n",
      "2015-03-06 04:41:28    1\n",
      "2015-03-06 04:41:29    3\n",
      "2015-03-06 04:41:30    0\n",
      "2015-03-06 04:41:31    3\n",
      "2015-03-06 04:41:32    4\n",
      "2015-03-06 04:41:33    1\n",
      "2015-03-06 04:41:34    2\n",
      "2015-03-06 04:41:35    2\n",
      "2015-03-06 04:41:36    2\n",
      "Length: 611\n",
      "```\n",
      "\n",
      "Note that you will get different times and numbers.\n",
      "  And if there was no tweet at a particular second in time,\n",
      "  the count should be zero."
     ]
    },
    {
     "cell_type": "code",
     "collapsed": false,
     "input": [
      "def get_created_at(tweets):\n",
      "    '''\n",
      "    Takes a list of dictionaries (twitter statuses)\n",
      "    and returns a Pandas Series indexed by the 'created_at' time\n",
      "    in the twitter metadata.\n",
      "    Returns the number of tweets at each timestamp.\n",
      "    \n",
      "    Parameters\n",
      "    ----------\n",
      "    tweets: A list of dictionaries.\n",
      "    \n",
      "    Returns\n",
      "    -------\n",
      "    A pandas.Series.\n",
      "    '''\n",
      "    \n",
      "    # your code goes here\n",
      "    \n",
      "    create = pd.to_datetime([item['created_at'] for item in tweets])\n",
      "    ts = pd.Series(np.ones(len(tweets)), create)\n",
      "    ts = ts.groupby(ts.index).sum()\n",
      "    ts = ts.resample('s').fillna(0)\n",
      "    \n",
      "    return ts\n",
      "\n",
      "ts = get_created_at(tweets)"
     ],
     "language": "python",
     "metadata": {},
     "outputs": [],
     "prompt_number": 11
    },
    {
     "cell_type": "code",
     "collapsed": false,
     "input": [
      "#print(ts)"
     ],
     "language": "python",
     "metadata": {},
     "outputs": [
      {
       "output_type": "stream",
       "stream": "stdout",
       "text": [
        "2015-03-14 02:39:51    4\n",
        "2015-03-14 02:39:52    1\n",
        "2015-03-14 02:39:53    1\n",
        "2015-03-14 02:39:54    2\n",
        "2015-03-14 02:39:55    1\n",
        "2015-03-14 02:39:56    2\n",
        "2015-03-14 02:39:57    2\n",
        "2015-03-14 02:39:58    3\n",
        "2015-03-14 02:39:59    0\n",
        "2015-03-14 02:40:00    0\n",
        "2015-03-14 02:40:01    0\n",
        "2015-03-14 02:40:02    3\n",
        "2015-03-14 02:40:03    2\n",
        "2015-03-14 02:40:04    2\n",
        "2015-03-14 02:40:05    0\n",
        "...\n",
        "2015-03-14 02:50:12    3\n",
        "2015-03-14 02:50:13    0\n",
        "2015-03-14 02:50:14    2\n",
        "2015-03-14 02:50:15    0\n",
        "2015-03-14 02:50:16    2\n",
        "2015-03-14 02:50:17    1\n",
        "2015-03-14 02:50:18    0\n",
        "2015-03-14 02:50:19    1\n",
        "2015-03-14 02:50:20    1\n",
        "2015-03-14 02:50:21    1\n",
        "2015-03-14 02:50:22    2\n",
        "2015-03-14 02:50:23    2\n",
        "2015-03-14 02:50:24    0\n",
        "2015-03-14 02:50:25    4\n",
        "2015-03-14 02:50:26    1\n",
        "Freq: S, Length: 636\n"
       ]
      }
     ],
     "prompt_number": 18
    },
    {
     "cell_type": "markdown",
     "metadata": {},
     "source": [
      "### Plot\n",
      "\n",
      "Finally, you should\n",
      "\n",
      "- plot the **median** (the 50th percentile)\n",
      "  number of tweets in a certain time interval.\n",
      "  \n",
      "An interval of 60 seconds seems reasonable,\n",
      "  but you should choose an interval that is most appropriate for your data set.\n",
      "  You should also\n",
      "  \n",
      "- draw confidence bands based on the 16th and 84th percentiles\n",
      "  (a 68% or one standard deviation level of confidence).\n",
      "\n",
      "You can do this by using [pandas.Series.resample](http://pandas.pydata.org/pandas-docs/dev/generated/pandas.Series.resample.html) to\n",
      "  redefine the time interval of your time series data.\n",
      "  Note that the `how` parameter can be a list or a dictionary.\n",
      "  For our purposes, you can use the following:\n",
      "  \n",
      "```python\n",
      "how={'50th percentile': np.median,\n",
      "     '16th percentile': lambda x: np.percentile(x, 16),\n",
      "     '84th percentile': lambda x: np.percentile(x, 84)}\n",
      "```\n",
      "\n",
      "If you have multiple `how` functions, the `resample()` method will\n",
      "  return a dataframe. You can use the `16th percentile` and `84th percentile` columns\n",
      "  of this dataframe in the\n",
      "  [`fill_bewteen()` function](http://matplotlib.org/users/recipes.html#fill-between-and-alpha)\n",
      "  to draw the confidence band."
     ]
    },
    {
     "cell_type": "code",
     "collapsed": false,
     "input": [
      "# your code goes here\n",
      "import matplotlib.pyplot as plt\n",
      "fig, ax = plt.subplots()\n",
      "\n",
      "how={'50th percentile': np.median,\n",
      "     '16th percentile': lambda x: np.percentile(x, 16),\n",
      "     '84th percentile': lambda x: np.percentile(x, 84)}\n",
      "\n",
      "ts_final = ts.resample('60s', how = how)\n",
      "\n",
      "ax.plot(ts_final.index, ts_final['50th percentile'])\n",
      "ax.fill_between(ts_final.index, ts_final['16th percentile'], ts_final['84th percentile'], facecolor='blue', alpha=0.2)\n",
      "#ax = sns.tsplot(ts_final['50th percentile'])\n",
      "\n",
      "ax.set_xlabel('time(UTC)')\n",
      "ax.set_ylim(0, 3.5)\n",
      "ax.set_ylabel('number of tweets per second')\n",
      "#ax.set_xticks(np.arange(0, len(ts_final), 10))\n",
      "ax.set_title('Number of tweets about \"justinbieber\" by Jifu Zhao')\n",
      "plt.show()"
     ],
     "language": "python",
     "metadata": {},
     "outputs": [
      {
       "metadata": {},
       "output_type": "display_data",
       "png": "[encoded data removed]",
       "text": [
        "<matplotlib.figure.Figure at 0x7f1a8ffb57f0>"
       ]
      }
     ],
     "prompt_number": 17
    },
    {
     "cell_type": "code",
     "collapsed": false,
     "input": [],
     "language": "python",
     "metadata": {},
     "outputs": []
    }
   ],
   "metadata": {}
  }
 ]
}