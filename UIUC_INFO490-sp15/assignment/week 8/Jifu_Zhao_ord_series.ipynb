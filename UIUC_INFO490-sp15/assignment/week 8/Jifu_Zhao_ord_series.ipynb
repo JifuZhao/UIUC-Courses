{
 "metadata": {
  "name": "",
  "signature": "sha256:440be6357d1a3035c5ecdf90b2f012ccd757d260eb04a377ee4e4f4abb0400fe"
 },
 "nbformat": 3,
 "nbformat_minor": 0,
 "worksheets": [
  {
   "cells": [
    {
     "cell_type": "code",
     "collapsed": false,
     "input": [
      "%matplotlib inline\n",
      "import datetime\n",
      "import numpy as np\n",
      "import pandas as pd\n",
      "import seaborn as sns"
     ],
     "language": "python",
     "metadata": {},
     "outputs": [],
     "prompt_number": 1
    },
    {
     "cell_type": "markdown",
     "metadata": {},
     "source": [
      "## Problem 8.1. Delays at the O'Hare Airpot.\n",
      "\n",
      "- When you are done, rename your file to `FirstName_LastName_ord_series.ipynb`\n",
      "  and submit it via Moodle.\n",
      "- In this problem, you will use Pandas time series functionality\n",
      "  to generate sequences of dates from the scheduled departure time at the O'Hare airport\n",
      "  and do a time-series analysis of expected arrival delay."
     ]
    },
    {
     "cell_type": "code",
     "collapsed": false,
     "input": [
      "df = pd.read_csv('/data/airline/2001.csv',\n",
      "                 encoding='latin1',\n",
      "                 usecols=('Year', 'Month', 'Origin', 'DayofMonth', 'CRSDepTime', 'ArrDelay'))"
     ],
     "language": "python",
     "metadata": {},
     "outputs": [],
     "prompt_number": 2
    },
    {
     "cell_type": "markdown",
     "metadata": {},
     "source": [
      "### Function: get\\_ord\\_arr\\_delay()\n",
      "\n",
      "- Write a function named that takes a Pandas DataFrame object,\n",
      "  which has `Year`, `Month`, `DayofMonth`, `CRSDepTime`, `Origin`, and `ArrDelay` columns.\n",
      "  The function should return a Pandas Series object of `ArrDelay` at the O'Hare airport (ORD) that\n",
      "  has the schedule departure time (Year + Month + DayofMonth + `CRSDepTime`) as Pandas DateTimeIndex.\n",
      "  \n",
      "To create the `DatetimeIndex` for Pandas objects, you can either\n",
      "  use [`datetime` module](https://docs.python.org/3.4/library/datetime.html)\n",
      "  or use [Pandas `to_datetime`](http://pandas.pydata.org/pandas-docs/dev/generated/pandas.tseries.tools.to_datetime.html).\n",
      "  The latter link has some useful examples at the bottom of the page.\n",
      "  \n",
      "You should use all of `Year`, `Month`, `DayofMonth` and `CRSDepTime` columns\n",
      "  in the 2001 flights data to create the index.\n",
      "  \n",
      "Don't forget that the `ArrDelay` column may have some missing values, which you should remove.\n",
      "\n",
      "In the end, you should get\n",
      "\n",
      "```python\n",
      ">>> print(get_ord_arr_delay(df, 'ORD'))\n",
      "Date\n",
      "2001-01-01 09:51:00    -9\n",
      "2001-01-02 09:51:00    -6\n",
      "2001-01-03 09:51:00    34\n",
      "2001-01-04 09:51:00    18\n",
      "2001-01-05 09:51:00   -10\n",
      "2001-01-06 09:51:00   -14\n",
      "2001-01-07 09:53:00     1\n",
      "2001-01-08 09:53:00    -1\n",
      "2001-01-09 09:53:00   -20\n",
      "2001-01-10 09:53:00   -17\n",
      "2001-01-11 09:53:00    -9\n",
      "2001-01-12 09:53:00   -15\n",
      "2001-01-13 09:53:00   -16\n",
      "2001-01-14 09:53:00     4\n",
      "2001-01-15 09:53:00    -6\n",
      "...\n",
      "2001-12-16 16:10:00    23\n",
      "2001-12-17 16:10:00    78\n",
      "2001-12-18 16:10:00    -1\n",
      "2001-12-19 16:10:00     5\n",
      "2001-12-20 16:10:00    -8\n",
      "2001-12-21 16:10:00    11\n",
      "2001-12-22 16:10:00    34\n",
      "2001-12-23 16:10:00    27\n",
      "2001-12-25 16:10:00    12\n",
      "2001-12-26 16:10:00    15\n",
      "2001-12-27 16:10:00    -6\n",
      "2001-12-28 16:10:00     0\n",
      "2001-12-29 16:10:00     7\n",
      "2001-12-30 16:10:00     5\n",
      "2001-12-31 16:10:00   -13\n",
      "Name: ArrDelay, Length: 321784\n",
      "```"
     ]
    },
    {
     "cell_type": "code",
     "collapsed": false,
     "input": [
      "def get_ord_arr_delay(df, airport):\n",
      "    '''\n",
      "    Takes a Pandas DataFrame and an airport\n",
      "    and returns a Pandas Series of arrival delays.\n",
      "    \n",
      "    Parameters\n",
      "    ----------\n",
      "    df: A Pandas DataFrame with columns\n",
      "        'Year', 'Month', 'Origin', 'DayofMonth', 'CRSDepTime', and 'ArrDelay'.\n",
      "    airport: A str of three-letter airport code.\n",
      "    \n",
      "    Returns\n",
      "    -------\n",
      "    A pandas.Series object.\n",
      "    '''\n",
      "    \n",
      "    # your code goes here\n",
      "    \n",
      "    ## !!!!!!!!!!!!!!!!\n",
      "    ## This function may take about 2 minutes to finally get the result\n",
      "    ## !!!!!!!!!!!!!!!!\n",
      "    \n",
      "    #df_now = df[df['Origin']==airport].dropna(axis=0, how = 'any')\n",
      "    #df_now['Date'] = pd.to_datetime(df_now.Year*10000 + df_now.Month*100 + df_now.DayofMonth, format='%Y%m%d')\n",
      "    #df_now['hour'] = df_now.CRSDepTime//100\n",
      "    #df_now['minute'] = df_now.CRSDepTime%100\n",
      "    #for i in range(len(df_now)):\n",
      "    #    df_now.Date.values[i] = datetime.datetime(df_now.Year.values[i], df_now.Month.values[i], df_now.DayofMonth.values[i], df_now.hour.values[i], df_now.minute.values[i])\n",
      "    #result = pd.Series(df_now.ArrDelay)\n",
      "    #result.index = df_now.Date  \n",
      "    \n",
      "    ## Other method\n",
      "    \n",
      "    dfok = df.dropna().loc[df['Origin'] == airport]\n",
      "    dfno = pd.DataFrame(dict(year = dfok['Year'], month = dfok['Month'], day = dfok['DayofMonth'], other = dfok['CRSDepTime']))\n",
      "    time_col = pd.to_datetime(dfno.year*100000000 + dfno.month*1000000 + dfno.day*10000 + dfno.other, format = '%Y%m%d%H%M')\n",
      "    result = pd.Series(dfok['ArrDelay'].values.tolist(), index = time_col)\n",
      "\n",
      "    return result\n",
      "\n",
      "arr_delay = get_ord_arr_delay(df, 'ORD')"
     ],
     "language": "python",
     "metadata": {},
     "outputs": [],
     "prompt_number": 6
    },
    {
     "cell_type": "code",
     "collapsed": false,
     "input": [
      "#print(arr_delay)"
     ],
     "language": "python",
     "metadata": {},
     "outputs": [
      {
       "output_type": "stream",
       "stream": "stdout",
       "text": [
        "Date\n",
        "2001-01-01 09:51:00    -9\n",
        "2001-01-02 09:51:00    -6\n",
        "2001-01-03 09:51:00    34\n",
        "2001-01-04 09:51:00    18\n",
        "2001-01-05 09:51:00   -10\n",
        "2001-01-06 09:51:00   -14\n",
        "2001-01-07 09:53:00     1\n",
        "2001-01-08 09:53:00    -1\n",
        "2001-01-09 09:53:00   -20\n",
        "2001-01-10 09:53:00   -17\n",
        "2001-01-11 09:53:00    -9\n",
        "2001-01-12 09:53:00   -15\n",
        "2001-01-13 09:53:00   -16\n",
        "2001-01-14 09:53:00     4\n",
        "2001-01-15 09:53:00    -6\n",
        "...\n",
        "2001-12-16 16:10:00    23\n",
        "2001-12-17 16:10:00    78\n",
        "2001-12-18 16:10:00    -1\n",
        "2001-12-19 16:10:00     5\n",
        "2001-12-20 16:10:00    -8\n",
        "2001-12-21 16:10:00    11\n",
        "2001-12-22 16:10:00    34\n",
        "2001-12-23 16:10:00    27\n",
        "2001-12-25 16:10:00    12\n",
        "2001-12-26 16:10:00    15\n",
        "2001-12-27 16:10:00    -6\n",
        "2001-12-28 16:10:00     0\n",
        "2001-12-29 16:10:00     7\n",
        "2001-12-30 16:10:00     5\n",
        "2001-12-31 16:10:00   -13\n",
        "Name: ArrDelay, Length: 321784\n"
       ]
      }
     ],
     "prompt_number": 6
    },
    {
     "cell_type": "markdown",
     "metadata": {},
     "source": [
      "### Function: get\\_daily\\_delay()\n",
      "\n",
      "- Write a function named `get_daily_delay()` that takes a Pandas Series,\n",
      "  and returns the **daily means** of the column.\n",
      "  \n",
      "In the end, you should get\n",
      "\n",
      "```python\n",
      "Date\n",
      "2001-01-01    11.929385\n",
      "2001-01-02    11.277481\n",
      "2001-01-03    27.546771\n",
      "2001-01-04     7.348812\n",
      "2001-01-05     8.911012\n",
      "2001-01-06    -1.947236\n",
      "2001-01-07    -1.755149\n",
      "2001-01-08    -1.424947\n",
      "2001-01-09    -1.910901\n",
      "2001-01-10    -2.027311\n",
      "2001-01-11     0.658281\n",
      "2001-01-12     7.828633\n",
      "2001-01-13    -1.032134\n",
      "2001-01-14    32.323308\n",
      "2001-01-15    12.141892\n",
      "...\n",
      "2001-12-17     4.673966\n",
      "2001-12-18     2.437198\n",
      "2001-12-19    14.024125\n",
      "2001-12-20    10.971084\n",
      "2001-12-21     2.755030\n",
      "2001-12-22    17.882812\n",
      "2001-12-23    14.736909\n",
      "2001-12-24    -1.488584\n",
      "2001-12-25    -0.873773\n",
      "2001-12-26    13.679565\n",
      "2001-12-27     8.130542\n",
      "2001-12-28     5.186785\n",
      "2001-12-29     4.854839\n",
      "2001-12-30    16.721290\n",
      "2001-12-31    -0.887160\n",
      "Freq: D, Name: ArrDelay, Length: 365\n",
      "```"
     ]
    },
    {
     "cell_type": "code",
     "collapsed": false,
     "input": [
      "def get_daily_delay(ts):\n",
      "    '''\n",
      "    Takes a Pandas Series object and returns the daily mean values.\n",
      "    \n",
      "    Parameter\n",
      "    ---------\n",
      "    ts: A pandas.Series object.\n",
      "    \n",
      "    Returns\n",
      "    -------\n",
      "    A pandas.Series object.\n",
      "    '''\n",
      "    \n",
      "    # your code goes here\n",
      "    \n",
      "    result = ts.resample('D', how='mean')\n",
      "    \n",
      "    return result\n",
      "\n",
      "daily = get_daily_delay(arr_delay)"
     ],
     "language": "python",
     "metadata": {},
     "outputs": [],
     "prompt_number": 7
    },
    {
     "cell_type": "code",
     "collapsed": false,
     "input": [
      "#daily"
     ],
     "language": "python",
     "metadata": {},
     "outputs": [
      {
       "metadata": {},
       "output_type": "pyout",
       "prompt_number": 8,
       "text": [
        "Date\n",
        "2001-01-01    11.929385\n",
        "2001-01-02    11.277481\n",
        "2001-01-03    27.546771\n",
        "2001-01-04     7.348812\n",
        "2001-01-05     8.911012\n",
        "2001-01-06    -1.947236\n",
        "2001-01-07    -1.755149\n",
        "2001-01-08    -1.424947\n",
        "2001-01-09    -1.910901\n",
        "2001-01-10    -2.027311\n",
        "2001-01-11     0.658281\n",
        "2001-01-12     7.828633\n",
        "2001-01-13    -1.032134\n",
        "2001-01-14    32.323308\n",
        "2001-01-15    12.141892\n",
        "...\n",
        "2001-12-17     4.673966\n",
        "2001-12-18     2.437198\n",
        "2001-12-19    14.024125\n",
        "2001-12-20    10.971084\n",
        "2001-12-21     2.755030\n",
        "2001-12-22    17.882812\n",
        "2001-12-23    14.736909\n",
        "2001-12-24    -1.488584\n",
        "2001-12-25    -0.873773\n",
        "2001-12-26    13.679565\n",
        "2001-12-27     8.130542\n",
        "2001-12-28     5.186785\n",
        "2001-12-29     4.854839\n",
        "2001-12-30    16.721290\n",
        "2001-12-31    -0.887160\n",
        "Freq: D, Name: ArrDelay, Length: 365"
       ]
      }
     ],
     "prompt_number": 8
    },
    {
     "cell_type": "markdown",
     "metadata": {},
     "source": [
      "### The Plot of Daily Arrival Delay\n",
      "\n",
      "- Use the `get_daily_delay` function to create a plot of daily\n",
      "  mean arrival delays at the O'Hare airport."
     ]
    },
    {
     "cell_type": "code",
     "collapsed": false,
     "input": [
      "# your code goes here\n",
      "ax = sns.tsplot(daily)\n",
      "ax.set_title(\"Daily mean arrival delay at the O'Hare airport by Jifu Zhao\")\n",
      "ax.set_xlabel(\"Date\")\n",
      "ax.set_ylabel(\"arrival delay (min)\")\n",
      "ax.set_xticks(np.arange(1,365,30))\n",
      "ax.set_xticklabels(['Jan', 'Feb', 'Mar', 'Apr', 'May', 'Jun', 'Jul', 'Aug', 'Sep', 'Oct', 'Nov', 'Dec']);"
     ],
     "language": "python",
     "metadata": {},
     "outputs": [
      {
       "metadata": {},
       "output_type": "display_data",
       "png": "[encoded data removed]",
       "text": [
        "<matplotlib.figure.Figure at 0x7ff42c5e61d0>"
       ]
      }
     ],
     "prompt_number": 9
    },
    {
     "cell_type": "markdown",
     "metadata": {},
     "source": [
      "### Function: get\\_hourly\\_delay()\n",
      "\n",
      "- Write a function named `get_hourly_delay()` that takes a Pandas Series\n",
      "  and a date in string format `'YYYY-MM-DD'`,\n",
      "  and returns the **hourly means** of the column on the specified date.\n",
      "  \n",
      "In the end, you should get\n",
      "\n",
      "```python\n",
      ">>> print(get_hourly_delay(arr_delay, '2001-03-14')\n",
      "Date\n",
      "2001-03-14 05:00:00    -6.000000\n",
      "2001-03-14 06:00:00    -2.553846\n",
      "2001-03-14 07:00:00     0.756098\n",
      "2001-03-14 08:00:00    -1.354430\n",
      "2001-03-14 09:00:00    -3.303571\n",
      "2001-03-14 10:00:00    -0.155172\n",
      "2001-03-14 11:00:00    -2.647887\n",
      "2001-03-14 12:00:00     0.407407\n",
      "2001-03-14 13:00:00    -1.762500\n",
      "2001-03-14 14:00:00     1.653846\n",
      "2001-03-14 15:00:00     2.100000\n",
      "2001-03-14 16:00:00    10.436364\n",
      "2001-03-14 17:00:00     9.477273\n",
      "2001-03-14 18:00:00    14.500000\n",
      "2001-03-14 19:00:00     3.684211\n",
      "2001-03-14 20:00:00     1.779412\n",
      "2001-03-14 21:00:00    -1.941176\n",
      "2001-03-14 22:00:00    -3.357143\n",
      "Freq: H, Name: ArrDelay, dtype: float64\n",
      "```"
     ]
    },
    {
     "cell_type": "code",
     "collapsed": false,
     "input": [
      "def get_hourly_delay(ts, date):\n",
      "    '''\n",
      "    Takes a Pandas Series object and a str with 'YYYY-MM-DD' format\n",
      "    and returns a Pandas Series object of hourly mean values of that day.\n",
      "    \n",
      "    Parameter\n",
      "    ---------\n",
      "    ts: A pandas.Series object.\n",
      "    date: A str. In 'YYYY-MM-DD' format.\n",
      "    \n",
      "    Returns\n",
      "    -------\n",
      "    A pandas.Series.\n",
      "    '''\n",
      "    \n",
      "    # your code goes here\n",
      "    \n",
      "    result = ts[date].resample('H', how='mean')\n",
      "    \n",
      "    return result\n",
      "\n",
      "hourly = get_hourly_delay(arr_delay, '2001-03-14')"
     ],
     "language": "python",
     "metadata": {},
     "outputs": [],
     "prompt_number": 10
    },
    {
     "cell_type": "code",
     "collapsed": false,
     "input": [
      "#print(hourly)"
     ],
     "language": "python",
     "metadata": {},
     "outputs": [
      {
       "output_type": "stream",
       "stream": "stdout",
       "text": [
        "Date\n",
        "2001-03-14 05:00:00    -6.000000\n",
        "2001-03-14 06:00:00    -2.553846\n",
        "2001-03-14 07:00:00     0.756098\n",
        "2001-03-14 08:00:00    -1.354430\n",
        "2001-03-14 09:00:00    -3.303571\n",
        "2001-03-14 10:00:00    -0.155172\n",
        "2001-03-14 11:00:00    -2.647887\n",
        "2001-03-14 12:00:00     0.407407\n",
        "2001-03-14 13:00:00    -1.762500\n",
        "2001-03-14 14:00:00     1.653846\n",
        "2001-03-14 15:00:00     2.100000\n",
        "2001-03-14 16:00:00    10.436364\n",
        "2001-03-14 17:00:00     9.477273\n",
        "2001-03-14 18:00:00    14.500000\n",
        "2001-03-14 19:00:00     3.684211\n",
        "2001-03-14 20:00:00     1.779412\n",
        "2001-03-14 21:00:00    -1.941176\n",
        "2001-03-14 22:00:00    -3.357143\n",
        "Freq: H, Name: ArrDelay, dtype: float64\n"
       ]
      }
     ],
     "prompt_number": 11
    },
    {
     "cell_type": "markdown",
     "metadata": {},
     "source": [
      "### The Plot of Hourly Arrival Delay\n",
      "\n",
      "- Pick any day you wish, and use the `get_hourly_delay` function to\n",
      "  create a plot of hourly mean arrival delays at the O'Hare airport\n",
      "  on that date."
     ]
    },
    {
     "cell_type": "code",
     "collapsed": false,
     "input": [
      "# your code goes here\n",
      "\n",
      "ax = sns.tsplot(hourly)\n",
      "ax.set_title(\"Hourly mean arrival delay at the O'Hare airport on 2001-03-14 by Jifu Zhao\")\n",
      "ax.set_xlabel(\"time\")\n",
      "ax.set_ylabel(\"arrival delay (min)\")\n",
      "ax.set_xticks(np.arange(0, len(hourly),3))\n",
      "ax.set_xticklabels(['05:00', '08:00', '11:00', '14:00', '17:00', '20:00']);"
     ],
     "language": "python",
     "metadata": {},
     "outputs": [
      {
       "metadata": {},
       "output_type": "display_data",
       "png": "[encoded data removed]",
       "text": [
        "<matplotlib.figure.Figure at 0x7ff41ea551d0>"
       ]
      }
     ],
     "prompt_number": 12
    },
    {
     "cell_type": "code",
     "collapsed": false,
     "input": [],
     "language": "python",
     "metadata": {},
     "outputs": []
    }
   ],
   "metadata": {}
  }
 ]
}