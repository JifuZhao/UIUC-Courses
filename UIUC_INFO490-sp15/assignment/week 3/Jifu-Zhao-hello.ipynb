{
 "metadata": {
  "name": "hello"
 },
 "nbformat": 3,
 "nbformat_minor": 0,
 "worksheets": [
  {
   "cells": [
    {
     "cell_type": "heading",
     "level": 2,
     "metadata": {},
     "source": "Problem 3.1. The obligatory \"hello world\" problem."
    },
    {
     "cell_type": "markdown",
     "metadata": {},
     "source": "Write a very simple program that asks the user to enter his or her name,\n and prints out a welcome message that is customized to the user's name.\n For example, the program should wait for the user's input after printing out\n```console\nEnter your name: \n```\nWhen you enter your name,\n```console\nEnter your name: world\n```\nthe output on the next line should be\n```console\nHello, world!\n```"
    },
    {
     "cell_type": "markdown",
     "metadata": {},
     "source": "First, define a function named `welcome()`."
    },
    {
     "cell_type": "code",
     "collapsed": false,
     "input": "def welcome():\n    '''\n    Ask user for name and print a welcome message customized to the person's name.\n    \n    Examples:\n    >>> welcome()\n    Enter your name: World\n    Hello, World!\n    '''\n    \n    # your code goes here.\n    name = str(input(\"Enter your name: \"))\n    name = name + \"!\"\n    print (\"Hello,\", name)\n    \n    return None",
     "language": "python",
     "metadata": {},
     "outputs": [],
     "prompt_number": 2
    },
    {
     "cell_type": "markdown",
     "metadata": {},
     "source": "If you have finished writing the function `welcome()`, run the cell below to check your answer."
    },
    {
     "cell_type": "code",
     "collapsed": false,
     "input": "welcome()",
     "language": "python",
     "metadata": {},
     "outputs": [
      {
       "name": "stdout",
       "output_type": "stream",
       "stream": "stdout",
       "text": "Enter your name: World\n"
      },
      {
       "output_type": "stream",
       "stream": "stdout",
       "text": "Hello, World!\n"
      }
     ],
     "prompt_number": 4
    },
    {
     "cell_type": "code",
     "collapsed": false,
     "input": "",
     "language": "python",
     "metadata": {},
     "outputs": [],
     "prompt_number": 2
    }
   ],
   "metadata": {}
  }
 ]
}