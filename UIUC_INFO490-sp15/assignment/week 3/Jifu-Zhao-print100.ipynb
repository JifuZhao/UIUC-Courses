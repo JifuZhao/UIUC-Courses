{
 "metadata": {
  "name": "print100"
 },
 "nbformat": 3,
 "nbformat_minor": 0,
 "worksheets": [
  {
   "cells": [
    {
     "cell_type": "markdown",
     "metadata": {},
     "source": "## Problem 3.2. A Famous Simple Interview Question.\n\nThis problem is a famous programming job interview question designed to filter out those who think they can program but in reality can't. If you can easily solve this problem, you are already better than 99% of job candidates who apply for a programming job. The problem statement is simple:\n\n - Print every number from 1 to 100.\n - If the number is a multiple of 4, print \"info\" instead.\n - If the number is a multiple of 6, print \"matics\" instead.\n - If the number is a multiple of 4 **and** 6, print \"informatics\" instead.\n \nNote the spelling of \"info**r**matics\". There's an R in informatics."
    },
    {
     "cell_type": "markdown",
     "metadata": {},
     "source": "Use conditionals and `str()` function to write a function named `get_informatics()` that takes an integer and returns a string. I emphasize that the return value is of type `str`, not `int`."
    },
    {
     "cell_type": "code",
     "collapsed": false,
     "input": "def get_informatics(number):\n    '''\n    Prints every number from 1 to 100. But for multiples of four, print \"info\" instead;\n    and for multiples of six, print \"matics.\" For numbers which are mltiples of both\n    four and six, print \"informatics.\"\n    \n    Parameters\n    __________\n    input: An integer greater than 0.\n    \n    Returns\n    _______\n    output: A string.\n    \n    Examples\n    ________\n    >>> get_informatics(1)\n    '1'\n    >>> get_informatics(4)\n    'info'\n    >>> get_informatics(6)\n    'matics'\n    >>> get_informatics(12)\n    'informatics'\n    '''\n    \n    # your code goes here\n    a = number % 4\n    b = number % 6\n    if(a == 0 and b ==0):\n        result = \"informatics\"\n    elif(a == 0 and b != 0):\n        result = \"info\"\n    elif(a != 0 and b == 0):\n        result = \"matics\"\n    else:\n        result = str(number)\n        \n    return result",
     "language": "python",
     "metadata": {},
     "outputs": [],
     "prompt_number": 1
    },
    {
     "cell_type": "markdown",
     "metadata": {},
     "source": "Next, use `for` loop(s) and `get_informatics()` function to write a function named `print100()` that prints every number from 1 to 100."
    },
    {
     "cell_type": "code",
     "collapsed": false,
     "input": "def print100():\n    '''\n    Prints every number from 1 to 100, but multiples of 4, 6, and both 4 and 6\n    are replaced by 'info', 'matics', and 'informatics', respectively.\n    '''\n    \n    # your code goes here\n    for number in range(1,101):\n        c = get_informatics(number)\n        print(c)\n        \n    return None",
     "language": "python",
     "metadata": {},
     "outputs": [],
     "prompt_number": 2
    },
    {
     "cell_type": "markdown",
     "metadata": {},
     "source": "When you are done writing your functions, test the cell below by pressing <kbd>shift</kbd> + <kbd>enter</kbd>."
    },
    {
     "cell_type": "code",
     "collapsed": false,
     "input": "print100()",
     "language": "python",
     "metadata": {},
     "outputs": [
      {
       "output_type": "stream",
       "stream": "stdout",
       "text": "1\n2\n3\ninfo\n5\nmatics\n7\ninfo\n9\n10\n11\ninformatics\n13\n14\n15\ninfo\n17\nmatics\n19\ninfo\n21\n22\n23\ninformatics\n25\n26\n27\ninfo\n29\nmatics\n31\ninfo\n33\n34\n35\ninformatics\n37\n38\n39\ninfo\n41\nmatics\n43\ninfo\n45\n46\n47\ninformatics\n49\n50\n51\ninfo\n53\nmatics\n55\ninfo\n57\n58\n59\ninformatics\n61\n62\n63\ninfo\n65\nmatics\n67\ninfo\n69\n70\n71\ninformatics\n73\n74\n75\ninfo\n77\nmatics\n79\ninfo\n81\n82\n83\ninformatics\n85\n86\n87\ninfo\n89\nmatics\n91\ninfo\n93\n94\n95\ninformatics\n97\n98\n99\ninfo\n"
      }
     ],
     "prompt_number": 8
    },
    {
     "cell_type": "markdown",
     "metadata": {},
     "source": "When you execute `print_informatics()`, your output should be\n\n```text\n1\n2\n3\ninfo\n5\nmatics\n7\ninfo\n9\n10\n11\ninformatics\n13\n14\n15\ninfo\n17\nmatics\n19\ninfo\n21\n22\n23\ninformatics\n25\n26\n27\ninfo\n29\nmatics\n31\ninfo\n33\n34\n35\ninformatics\n37\n38\n39\ninfo\n41\nmatics\n43\ninfo\n45\n46\n47\ninformatics\n49\n50\n51\ninfo\n53\nmatics\n55\ninfo\n57\n58\n59\ninformatics\n61\n62\n63\ninfo\n65\nmatics\n67\ninfo\n69\n70\n71\ninformatics\n73\n74\n75\ninfo\n77\nmatics\n79\ninfo\n81\n82\n83\ninformatics\n85\n86\n87\ninfo\n89\nmatics\n91\ninfo\n93\n94\n95\ninformatics\n97\n98\n99\ninfo\n```"
    },
    {
     "cell_type": "code",
     "collapsed": false,
     "input": "",
     "language": "python",
     "metadata": {},
     "outputs": []
    }
   ],
   "metadata": {}
  }
 ]
}