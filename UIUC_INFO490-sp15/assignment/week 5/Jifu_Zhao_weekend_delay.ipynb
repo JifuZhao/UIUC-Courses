{
 "metadata": {
  "name": "",
  "signature": "sha256:6ff64db26c914a8bde51a62645b81a0030953e7213d21772956581cefeba112d"
 },
 "nbformat": 3,
 "nbformat_minor": 0,
 "worksheets": [
  {
   "cells": [
    {
     "cell_type": "code",
     "collapsed": false,
     "input": [
      "%matplotlib inline"
     ],
     "language": "python",
     "metadata": {},
     "outputs": [],
     "prompt_number": 1
    },
    {
     "cell_type": "code",
     "collapsed": false,
     "input": [
      "import matplotlib.pyplot as plt\n",
      "import numpy as np"
     ],
     "language": "python",
     "metadata": {},
     "outputs": [],
     "prompt_number": 2
    },
    {
     "cell_type": "code",
     "collapsed": false,
     "input": [
      "def get_column(filename, m, n, header1 = True, header2 = True):\n",
      "    '''\n",
      "    This function has been modified\n",
      "    m and n is the number of two columns\n",
      "    this function will return two columns\n",
      "    '''\n",
      "\n",
      "    result1 = []\n",
      "    result2 = []\n",
      "    \n",
      "    with open(filename, encoding='latin-1') as a_file:           \n",
      "        for a_line in a_file:\n",
      "            tmp = a_line.split(',')\n",
      "            if (tmp[n] == 'NA'):\n",
      "                continue\n",
      "            result1.append(tmp[m])\n",
      "            result2.append(tmp[n])\n",
      "        \n",
      "        if (header1 == True):\n",
      "            del result1[0]\n",
      "\n",
      "        if (header2 == True):\n",
      "            del result2[0]\n",
      "            \n",
      "        for ii in range(len(result1)):\n",
      "            result1[ii] = int(result1[ii])\n",
      "            result2[ii] = int(result2[ii])\n",
      "    \n",
      "    return result1, result2"
     ],
     "language": "python",
     "metadata": {},
     "outputs": [],
     "prompt_number": 3
    },
    {
     "cell_type": "code",
     "collapsed": false,
     "input": [
      "# Note ! ! ! \n",
      "# when you run this code, it may take about 2 minute to finish\n",
      "# Finally, you can get the data of DaysOfWeek and DepDelay\n",
      "\n",
      "filename = '/data/airline/2001.csv'\n",
      "DaysOfWeek, DepDelay = get_column(filename, 3, 15)"
     ],
     "language": "python",
     "metadata": {},
     "outputs": [],
     "prompt_number": 4
    },
    {
     "cell_type": "code",
     "collapsed": false,
     "input": [
      "# Note ! ! ! \n",
      "# when you run this code, it may take about 30 seconds to finish\n",
      "# Finally, you can get the needed data\n",
      "\n",
      "length = len(DepDelay)\n",
      "DepDelay5 = []\n",
      "DepDelay6 = []\n",
      "DepDelay7 = []\n",
      "\n",
      "for ii in range(length):\n",
      "    if (DaysOfWeek[ii] == 5):\n",
      "        DepDelay5.append(DepDelay[ii])\n",
      "    elif(DaysOfWeek[ii] == 6):\n",
      "        DepDelay6.append(DepDelay[ii])\n",
      "    elif(DaysOfWeek[ii] == 7):\n",
      "        DepDelay7.append(DepDelay[ii])\n",
      "        "
     ],
     "language": "python",
     "metadata": {},
     "outputs": [],
     "prompt_number": 5
    },
    {
     "cell_type": "code",
     "collapsed": false,
     "input": [
      "# Now we create our figure and axes for the plot we will make.\n",
      "fig = plt.figure(figsize=(12, 8))\n",
      "ax = fig.add_subplot(111, axisbg='Ivory')\n",
      "\n",
      "ax.hist((DepDelay5, DepDelay6, DepDelay7), bins=20, histtype='bar', color=('y', 'r', 'b'), label=('Friday', 'Saturday', 'Sunday'))\n",
      "# Note:\n",
      "# there you can change the normed to be True and then you can get the probability distribution\n",
      "\n",
      "ax.set_title('Departure delay distribution for Friday, Saturday and Sunday \\n Jifu Zhao')\n",
      "ax.set_xlabel(\"Departure delay\")\n",
      "ax.set_ylabel('Frequency')\n",
      "ax.set_xlim(-200, 1800)\n",
      "\n",
      "ax.legend()\n",
      "plt.show()"
     ],
     "language": "python",
     "metadata": {},
     "outputs": [
      {
       "metadata": {},
       "output_type": "display_data",
       "png": "[encoded data removed]",
       "text": [
        "<matplotlib.figure.Figure at 0x7f6668ec7978>"
       ]
      }
     ],
     "prompt_number": 6
    },
    {
     "cell_type": "code",
     "collapsed": false,
     "input": [],
     "language": "python",
     "metadata": {},
     "outputs": []
    }
   ],
   "metadata": {}
  }
 ]
}