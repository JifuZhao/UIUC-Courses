{
 "metadata": {
  "name": "",
  "signature": "sha256:6fd3e5f71d923db6436f55f4b0a81bdd3d4076eeccedd21cb3c6a63b036e81a0"
 },
 "nbformat": 3,
 "nbformat_minor": 0,
 "worksheets": [
  {
   "cells": [
    {
     "cell_type": "code",
     "collapsed": false,
     "input": [
      "%matplotlib inline\n",
      "import pymc as pm\n",
      "import numpy as np\n",
      "from matplotlib import pyplot as plt\n",
      "import matplotlib as mpl\n",
      "import pandas as pd"
     ],
     "language": "python",
     "metadata": {},
     "outputs": [],
     "prompt_number": 1
    },
    {
     "cell_type": "code",
     "collapsed": false,
     "input": [
      "# you need to change the file_path for 2001.csv to properlly run the code\n",
      "file_path = '/data/airline/2001.csv'"
     ],
     "language": "python",
     "metadata": {},
     "outputs": [],
     "prompt_number": 2
    },
    {
     "cell_type": "code",
     "collapsed": false,
     "input": [
      "data = pd.read_csv(file_path, usecols=['Year', 'Month', 'DayofMonth', 'Cancelled', 'Origin'], \n",
      "                   na_values=['NA'], encoding='Latin1')   \n",
      "data = data.dropna()\n",
      "df = data[(data.Origin == 'ORD') & (data.Year == 2001) & \n",
      "          ((data.Month == 11) | (data.Month == 12))][['Month', 'DayofMonth', 'Cancelled']]  \n",
      "dd = df.groupby(['Month', 'DayofMonth']).sum()\n",
      "print(dd)"
     ],
     "language": "python",
     "metadata": {},
     "outputs": [
      {
       "output_type": "stream",
       "stream": "stdout",
       "text": [
        "                  Cancelled\n",
        "Month DayofMonth           \n",
        "11    1                   2\n",
        "      2                   4\n",
        "      3                   2\n",
        "      4                   2\n",
        "      5                   4\n",
        "      6                   5\n",
        "      7                   5\n",
        "      8                   0\n",
        "      9                   4\n",
        "      10                  2\n",
        "      11                  6\n",
        "      12                 25\n",
        "      13                  8\n",
        "      14                  4\n",
        "      15                 14\n",
        "      16                 44\n",
        "      17                 15\n",
        "      18                 19\n",
        "      19                 16\n",
        "      20                  6\n",
        "      21                  7\n",
        "      22                  0\n",
        "      23                  2\n",
        "      24                  3\n",
        "      25                  2\n",
        "      26                  6\n",
        "      27                  4\n",
        "      28                  9\n",
        "      29                 15\n",
        "      30                 13\n",
        "12    1                   7\n",
        "      2                  12\n",
        "      3                   1\n",
        "      4                   9\n",
        "      5                   3\n",
        "      6                   2\n",
        "      7                   3\n",
        "      8                   5\n",
        "      9                   5\n",
        "      10                  9\n",
        "      11                  6\n",
        "      12                  6\n",
        "      13                  7\n",
        "      14                 15\n",
        "      15                 21\n",
        "      16                 22\n",
        "      17                 18\n",
        "      18                 13\n",
        "      19                  8\n",
        "      20                 11\n",
        "      21                  0\n",
        "      22                  0\n",
        "      23                  3\n",
        "      24                  4\n",
        "      25                  6\n",
        "      26                 18\n",
        "      27                 35\n",
        "      28                 34\n",
        "      29                  5\n",
        "      30                 24\n",
        "                        ...\n",
        "\n",
        "[61 rows x 1 columns]\n"
       ]
      }
     ],
     "prompt_number": 3
    },
    {
     "cell_type": "code",
     "collapsed": false,
     "input": [
      "count_data = dd.Cancelled\n",
      "n_count_data = len(count_data)\n",
      "\n",
      "alpha = 1.0 / count_data.mean()\n",
      "lambda_1 = pm.Exponential(\"lambda_1\", alpha)\n",
      "lambda_2 = pm.Exponential(\"lambda_2\", alpha)\n",
      "\n",
      "tau = pm.DiscreteUniform(\"tau\", lower=0, upper=n_count_data)"
     ],
     "language": "python",
     "metadata": {},
     "outputs": [],
     "prompt_number": 4
    },
    {
     "cell_type": "code",
     "collapsed": false,
     "input": [
      "@pm.deterministic\n",
      "def lambda_(tau=tau, lambda_1=lambda_1, lambda_2=lambda_2):\n",
      "    out = np.zeros(n_count_data)\n",
      "    out[:tau] = lambda_1  # lambda before tau is lambda1\n",
      "    out[tau:] = lambda_2  # lambda after (and including) tau is lambda2\n",
      "    return out\n",
      "\n",
      "observation = pm.Poisson(\"obs\", lambda_, value=count_data, observed=True)\n",
      "\n",
      "model = pm.Model([observation, lambda_1, lambda_2, tau])\n",
      "\n",
      "# Mysterious code to be explained in Chapter 3.\n",
      "mcmc = pm.MCMC(model)\n",
      "mcmc.sample(40000, 10000, 1)"
     ],
     "language": "python",
     "metadata": {},
     "outputs": [
      {
       "output_type": "stream",
       "stream": "stdout",
       "text": [
        "\r",
        " [                  1%                  ] 742 of 40000 complete in 0.5 sec"
       ]
      },
      {
       "output_type": "stream",
       "stream": "stdout",
       "text": [
        "\r",
        " [-                 3%                  ] 1456 of 40000 complete in 1.0 sec"
       ]
      },
      {
       "output_type": "stream",
       "stream": "stdout",
       "text": [
        "\r",
        " [--                5%                  ] 2194 of 40000 complete in 1.5 sec"
       ]
      },
      {
       "output_type": "stream",
       "stream": "stdout",
       "text": [
        "\r",
        " [--                7%                  ] 2934 of 40000 complete in 2.0 sec"
       ]
      },
      {
       "output_type": "stream",
       "stream": "stdout",
       "text": [
        "\r",
        " [---               8%                  ] 3509 of 40000 complete in 2.5 sec"
       ]
      },
      {
       "output_type": "stream",
       "stream": "stdout",
       "text": [
        "\r",
        " [---              10%                  ] 4182 of 40000 complete in 3.0 sec"
       ]
      },
      {
       "output_type": "stream",
       "stream": "stdout",
       "text": [
        "\r",
        " [----             12%                  ] 4870 of 40000 complete in 3.5 sec"
       ]
      },
      {
       "output_type": "stream",
       "stream": "stdout",
       "text": [
        "\r",
        " [-----            13%                  ] 5540 of 40000 complete in 4.0 sec"
       ]
      },
      {
       "output_type": "stream",
       "stream": "stdout",
       "text": [
        "\r",
        " [-----            15%                  ] 6250 of 40000 complete in 4.5 sec"
       ]
      },
      {
       "output_type": "stream",
       "stream": "stdout",
       "text": [
        "\r",
        " [------           17%                  ] 6948 of 40000 complete in 5.0 sec"
       ]
      },
      {
       "output_type": "stream",
       "stream": "stdout",
       "text": [
        "\r",
        " [-------          19%                  ] 7620 of 40000 complete in 5.5 sec"
       ]
      },
      {
       "output_type": "stream",
       "stream": "stdout",
       "text": [
        "\r",
        " [-------          20%                  ] 8303 of 40000 complete in 6.0 sec"
       ]
      },
      {
       "output_type": "stream",
       "stream": "stdout",
       "text": [
        "\r",
        " [--------         22%                  ] 9000 of 40000 complete in 6.5 sec"
       ]
      },
      {
       "output_type": "stream",
       "stream": "stdout",
       "text": [
        "\r",
        " [---------        24%                  ] 9688 of 40000 complete in 7.0 sec"
       ]
      },
      {
       "output_type": "stream",
       "stream": "stdout",
       "text": [
        "\r",
        " [---------        25%                  ] 10318 of 40000 complete in 7.5 sec"
       ]
      },
      {
       "output_type": "stream",
       "stream": "stdout",
       "text": [
        "\r",
        " [----------       27%                  ] 10898 of 40000 complete in 8.0 sec"
       ]
      },
      {
       "output_type": "stream",
       "stream": "stdout",
       "text": [
        "\r",
        " [----------       28%                  ] 11495 of 40000 complete in 8.5 sec"
       ]
      },
      {
       "output_type": "stream",
       "stream": "stdout",
       "text": [
        "\r",
        " [-----------      30%                  ] 12056 of 40000 complete in 9.0 sec"
       ]
      },
      {
       "output_type": "stream",
       "stream": "stdout",
       "text": [
        "\r",
        " [------------     31%                  ] 12646 of 40000 complete in 9.5 sec"
       ]
      },
      {
       "output_type": "stream",
       "stream": "stdout",
       "text": [
        "\r",
        " [------------     33%                  ] 13232 of 40000 complete in 10.0 sec"
       ]
      },
      {
       "output_type": "stream",
       "stream": "stdout",
       "text": [
        "\r",
        " [-------------    34%                  ] 13823 of 40000 complete in 10.5 sec"
       ]
      },
      {
       "output_type": "stream",
       "stream": "stdout",
       "text": [
        "\r",
        " [-------------    36%                  ] 14407 of 40000 complete in 11.0 sec"
       ]
      },
      {
       "output_type": "stream",
       "stream": "stdout",
       "text": [
        "\r",
        " [--------------   37%                  ] 14998 of 40000 complete in 11.5 sec"
       ]
      },
      {
       "output_type": "stream",
       "stream": "stdout",
       "text": [
        "\r",
        " [--------------   38%                  ] 15583 of 40000 complete in 12.0 sec"
       ]
      },
      {
       "output_type": "stream",
       "stream": "stdout",
       "text": [
        "\r",
        " [---------------  40%                  ] 16182 of 40000 complete in 12.5 sec"
       ]
      },
      {
       "output_type": "stream",
       "stream": "stdout",
       "text": [
        "\r",
        " [---------------  41%                  ] 16759 of 40000 complete in 13.0 sec"
       ]
      },
      {
       "output_type": "stream",
       "stream": "stdout",
       "text": [
        "\r",
        " [---------------- 43%                  ] 17349 of 40000 complete in 13.5 sec"
       ]
      },
      {
       "output_type": "stream",
       "stream": "stdout",
       "text": [
        "\r",
        " [-----------------44%                  ] 17926 of 40000 complete in 14.0 sec"
       ]
      },
      {
       "output_type": "stream",
       "stream": "stdout",
       "text": [
        "\r",
        " [-----------------46%                  ] 18512 of 40000 complete in 14.5 sec"
       ]
      },
      {
       "output_type": "stream",
       "stream": "stdout",
       "text": [
        "\r",
        " [-----------------47%                  ] 19101 of 40000 complete in 15.0 sec"
       ]
      },
      {
       "output_type": "stream",
       "stream": "stdout",
       "text": [
        "\r",
        " [-----------------49%                  ] 19690 of 40000 complete in 15.5 sec"
       ]
      },
      {
       "output_type": "stream",
       "stream": "stdout",
       "text": [
        "\r",
        " [-----------------50%                  ] 20275 of 40000 complete in 16.0 sec"
       ]
      },
      {
       "output_type": "stream",
       "stream": "stdout",
       "text": [
        "\r",
        " [-----------------52%                  ] 20839 of 40000 complete in 16.5 sec"
       ]
      },
      {
       "output_type": "stream",
       "stream": "stdout",
       "text": [
        "\r",
        " [-----------------53%                  ] 21420 of 40000 complete in 17.0 sec"
       ]
      },
      {
       "output_type": "stream",
       "stream": "stdout",
       "text": [
        "\r",
        " [-----------------55%                  ] 22016 of 40000 complete in 17.5 sec"
       ]
      },
      {
       "output_type": "stream",
       "stream": "stdout",
       "text": [
        "\r",
        " [-----------------56%-                 ] 22598 of 40000 complete in 18.0 sec"
       ]
      },
      {
       "output_type": "stream",
       "stream": "stdout",
       "text": [
        "\r",
        " [-----------------57%--                ] 23172 of 40000 complete in 18.5 sec"
       ]
      },
      {
       "output_type": "stream",
       "stream": "stdout",
       "text": [
        "\r",
        " [-----------------59%--                ] 23738 of 40000 complete in 19.0 sec"
       ]
      },
      {
       "output_type": "stream",
       "stream": "stdout",
       "text": [
        "\r",
        " [-----------------60%---               ] 24298 of 40000 complete in 19.5 sec"
       ]
      },
      {
       "output_type": "stream",
       "stream": "stdout",
       "text": [
        "\r",
        " [-----------------62%---               ] 24866 of 40000 complete in 20.0 sec"
       ]
      },
      {
       "output_type": "stream",
       "stream": "stdout",
       "text": [
        "\r",
        " [-----------------63%----              ] 25464 of 40000 complete in 20.5 sec"
       ]
      },
      {
       "output_type": "stream",
       "stream": "stdout",
       "text": [
        "\r",
        " [-----------------65%----              ] 26045 of 40000 complete in 21.0 sec"
       ]
      },
      {
       "output_type": "stream",
       "stream": "stdout",
       "text": [
        "\r",
        " [-----------------66%-----             ] 26614 of 40000 complete in 21.5 sec"
       ]
      },
      {
       "output_type": "stream",
       "stream": "stdout",
       "text": [
        "\r",
        " [-----------------67%-----             ] 27156 of 40000 complete in 22.0 sec"
       ]
      },
      {
       "output_type": "stream",
       "stream": "stdout",
       "text": [
        "\r",
        " [-----------------69%------            ] 27713 of 40000 complete in 22.5 sec"
       ]
      },
      {
       "output_type": "stream",
       "stream": "stdout",
       "text": [
        "\r",
        " [-----------------70%------            ] 28201 of 40000 complete in 23.0 sec"
       ]
      },
      {
       "output_type": "stream",
       "stream": "stdout",
       "text": [
        "\r",
        " [-----------------71%-------           ] 28721 of 40000 complete in 23.5 sec"
       ]
      },
      {
       "output_type": "stream",
       "stream": "stdout",
       "text": [
        "\r",
        " [-----------------73%-------           ] 29215 of 40000 complete in 24.0 sec"
       ]
      },
      {
       "output_type": "stream",
       "stream": "stdout",
       "text": [
        "\r",
        " [-----------------74%--------          ] 29607 of 40000 complete in 24.5 sec"
       ]
      },
      {
       "output_type": "stream",
       "stream": "stdout",
       "text": [
        "\r",
        " [-----------------75%--------          ] 30107 of 40000 complete in 25.0 sec"
       ]
      },
      {
       "output_type": "stream",
       "stream": "stdout",
       "text": [
        "\r",
        " [-----------------76%---------         ] 30678 of 40000 complete in 25.5 sec"
       ]
      },
      {
       "output_type": "stream",
       "stream": "stdout",
       "text": [
        "\r",
        " [-----------------78%---------         ] 31201 of 40000 complete in 26.0 sec"
       ]
      },
      {
       "output_type": "stream",
       "stream": "stdout",
       "text": [
        "\r",
        " [-----------------79%----------        ] 31745 of 40000 complete in 26.5 sec"
       ]
      },
      {
       "output_type": "stream",
       "stream": "stdout",
       "text": [
        "\r",
        " [-----------------80%----------        ] 32322 of 40000 complete in 27.0 sec"
       ]
      },
      {
       "output_type": "stream",
       "stream": "stdout",
       "text": [
        "\r",
        " [-----------------82%-----------       ] 32890 of 40000 complete in 27.5 sec"
       ]
      },
      {
       "output_type": "stream",
       "stream": "stdout",
       "text": [
        "\r",
        " [-----------------83%-----------       ] 33462 of 40000 complete in 28.0 sec"
       ]
      },
      {
       "output_type": "stream",
       "stream": "stdout",
       "text": [
        "\r",
        " [-----------------85%------------      ] 34030 of 40000 complete in 28.5 sec"
       ]
      },
      {
       "output_type": "stream",
       "stream": "stdout",
       "text": [
        "\r",
        " [-----------------86%------------      ] 34590 of 40000 complete in 29.0 sec"
       ]
      },
      {
       "output_type": "stream",
       "stream": "stdout",
       "text": [
        "\r",
        " [-----------------87%-------------     ] 35157 of 40000 complete in 29.5 sec"
       ]
      },
      {
       "output_type": "stream",
       "stream": "stdout",
       "text": [
        "\r",
        " [-----------------89%-------------     ] 35719 of 40000 complete in 30.0 sec"
       ]
      },
      {
       "output_type": "stream",
       "stream": "stdout",
       "text": [
        "\r",
        " [-----------------90%--------------    ] 36311 of 40000 complete in 30.5 sec"
       ]
      },
      {
       "output_type": "stream",
       "stream": "stdout",
       "text": [
        "\r",
        " [-----------------92%---------------   ] 36894 of 40000 complete in 31.0 sec"
       ]
      },
      {
       "output_type": "stream",
       "stream": "stdout",
       "text": [
        "\r",
        " [-----------------93%---------------   ] 37485 of 40000 complete in 31.5 sec"
       ]
      },
      {
       "output_type": "stream",
       "stream": "stdout",
       "text": [
        "\r",
        " [-----------------95%----------------  ] 38071 of 40000 complete in 32.0 sec"
       ]
      },
      {
       "output_type": "stream",
       "stream": "stdout",
       "text": [
        "\r",
        " [-----------------96%----------------  ] 38663 of 40000 complete in 32.5 sec"
       ]
      },
      {
       "output_type": "stream",
       "stream": "stdout",
       "text": [
        "\r",
        " [-----------------98%----------------- ] 39245 of 40000 complete in 33.0 sec"
       ]
      },
      {
       "output_type": "stream",
       "stream": "stdout",
       "text": [
        "\r",
        " [-----------------99%----------------- ] 39830 of 40000 complete in 33.5 sec"
       ]
      },
      {
       "output_type": "stream",
       "stream": "stdout",
       "text": [
        "\r",
        " [-----------------100%-----------------] 40000 of 40000 complete in 33.7 sec"
       ]
      }
     ],
     "prompt_number": 5
    },
    {
     "cell_type": "code",
     "collapsed": false,
     "input": [
      "lambda_1_samples = mcmc.trace('lambda_1')[:]\n",
      "lambda_2_samples = mcmc.trace('lambda_2')[:]\n",
      "tau_samples = mcmc.trace('tau')[:]"
     ],
     "language": "python",
     "metadata": {},
     "outputs": [],
     "prompt_number": 6
    },
    {
     "cell_type": "code",
     "collapsed": false,
     "input": [
      "# This part is going to get proper x and y labels\n",
      "month = ['Nov']*30 + ['Dec']*31\n",
      "day = []\n",
      "for i in range(1,31):\n",
      "    day = day + [str(i)]\n",
      "for i in range(1, 32):\n",
      "    day = day + [str(i)]\n",
      "for i in range(len(day)):\n",
      "    month[i] =  month[i] + ' ' + day[i]"
     ],
     "language": "python",
     "metadata": {},
     "outputs": [],
     "prompt_number": 7
    },
    {
     "cell_type": "code",
     "collapsed": false,
     "input": [
      "mpl.rcParams['figure.figsize']=[18,16]\n",
      "# histogram of the samples:\n",
      "\n",
      "# Figure 1\n",
      "ax = plt.subplot(311)\n",
      "ax.set_autoscaley_on(False)\n",
      "plt.hist(lambda_1_samples, histtype='stepfilled', bins=30, alpha=0.85,\n",
      "         label=\"posterior of $\\lambda_1$\", color=\"#A60628\", normed=True)\n",
      "plt.legend(loc=\"upper left\")\n",
      "plt.title(r\"\"\"Posterior distributions of the variables\n",
      "    $\\lambda_1,\\;\\lambda_2,\\;\\tau$\"\"\")\n",
      "plt.xlim([0, 30])\n",
      "plt.xlabel(\"$\\lambda_1$ value\")\n",
      "plt.grid()\n",
      "\n",
      "# Figure 2\n",
      "ax = plt.subplot(312)\n",
      "ax.set_autoscaley_on(False)\n",
      "plt.hist(lambda_2_samples, histtype='stepfilled', bins=30, alpha=0.85,\n",
      "         label=\"posterior of $\\lambda_2$\", color=\"#7A68A6\", normed=True)\n",
      "plt.legend(loc=\"upper left\")\n",
      "plt.xlim([0, 30])\n",
      "plt.xlabel(\"$\\lambda_2$ value\")\n",
      "plt.grid()\n",
      "\n",
      "# Figure 3\n",
      "plt.subplot(313)\n",
      "w = 1.0 / tau_samples.shape[0] * np.ones_like(tau_samples)\n",
      "plt.hist(tau_samples, bins=n_count_data, alpha=0.8,\n",
      "         label=r\"posterior of $\\tau$\",\n",
      "         color=\"#467821\", weights=w, rwidth=1.)\n",
      "plt.xticks(np.arange(n_count_data))\n",
      "plt.legend(loc=\"upper left\")\n",
      "plt.ylim([0, 1])\n",
      "plt.xlim([50, 60])\n",
      "plt.xlabel(r\"$\\tau$ (in days)\")\n",
      "plt.ylabel(\"probability\");\n",
      "plt.grid()"
     ],
     "language": "python",
     "metadata": {},
     "outputs": [
      {
       "metadata": {},
       "output_type": "display_data",
       "png": "[encoded data removed]",
       "text": [
        "<matplotlib.figure.Figure at 0x7fcc782176d8>"
       ]
      }
     ],
     "prompt_number": 8
    },
    {
     "cell_type": "code",
     "collapsed": false,
     "input": [
      "mpl.rcParams['figure.figsize']=[15,7]\n",
      "\n",
      "N = tau_samples.shape[0]\n",
      "expected_texts_per_day = np.zeros(n_count_data)\n",
      "for day in range(0, n_count_data):\n",
      "    ix = day < tau_samples\n",
      "    expected_texts_per_day[day] = (lambda_1_samples[ix].sum()\n",
      "                                   + lambda_2_samples[~ix].sum()) / N\n",
      "\n",
      "\n",
      "plt.plot(range(n_count_data), expected_texts_per_day, lw=4, color=\"#E24A33\",\n",
      "         label=\"Expected number of flight cancellations\")\n",
      "plt.xlim(0, n_count_data)\n",
      "plt.ylabel(\"Expected # cancelled\")\n",
      "plt.title(\"Expected number of flight cancellations\")\n",
      "plt.ylim(0, 45)\n",
      "plt.bar(np.arange(len(count_data)), count_data, color=\"#348ABD\", alpha=0.65,\n",
      "        label=\"observed cancellations per day\")\n",
      "plt.xticks(np.arange(n_count_data), month, rotation = 90)\n",
      "plt.grid()\n",
      "plt.legend(loc=\"upper right\");"
     ],
     "language": "python",
     "metadata": {},
     "outputs": [
      {
       "metadata": {},
       "output_type": "display_data",
       "png": "[encoded data removed]",
       "text": [
        "<matplotlib.figure.Figure at 0x7fcc7817e160>"
       ]
      }
     ],
     "prompt_number": 9
    },
    {
     "cell_type": "code",
     "collapsed": false,
     "input": [],
     "language": "python",
     "metadata": {},
     "outputs": []
    }
   ],
   "metadata": {}
  }
 ]
}