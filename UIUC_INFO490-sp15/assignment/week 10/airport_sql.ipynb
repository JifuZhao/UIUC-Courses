{
 "metadata": {
  "name": "",
  "signature": "sha256:12e67c0263dfe2cee5b52ca16a172884aed919e25cc0cb18053897058f2e1fd6"
 },
 "nbformat": 3,
 "nbformat_minor": 0,
 "worksheets": [
  {
   "cells": [
    {
     "cell_type": "code",
     "collapsed": false,
     "input": [
      "%%writefile Jifu_Zhao_airport.sql\n",
      "\n",
      "-- To run the whole airport.sql, you may need a quite while\n",
      "-- Please be patient\n",
      "\n",
      "-- This is going to drop the table that exists\n",
      "-- If there is no table exist, it will return error, but it doesn't matter\n",
      "\n",
      "DROP TABLE IF EXISTS flights;\n",
      "DROP TABLE IF EXISTS iata;\n",
      "DROP TABLE IF EXISTS myTable;\n",
      "DROP TABLE IF EXISTS template;\n",
      "\n",
      "CREATE TABLE flights (\n",
      "    year INT,\n",
      "    month INT,\n",
      "    dayOfMonth INT,\n",
      "    dayOfWeek INT,\n",
      "    actualDepartureTime INT,\n",
      "    scheduledDepartureTime INT,\n",
      "    arrivalArrivalTime INT,\n",
      "    scheduledArrivalTime INT,\n",
      "    uniqueCarrierCode TEXT,\n",
      "    flightNumber INT,\n",
      "    tailNumber TEXT,\n",
      "    actualElapsedTime INT,\n",
      "    scheduledElapsedTime INT,\n",
      "    airTime INT,\n",
      "    arrivalDelay INT,\n",
      "    departureDelay INT,\n",
      "    originCode TEXT,\n",
      "    destinationCode TEXT,\n",
      "    distance INT,\n",
      "    taxiIn INT,\n",
      "    taxiOut INT,\n",
      "    cancelled INT,\n",
      "    cancellationCode TEXT,\n",
      "    diverted TEXT,\n",
      "    carrierDelay INT,\n",
      "    weatherDelay INT,\n",
      "    nasDelay INT,\n",
      "    securityDelay INT,\n",
      "    lateAircraftDelay INT\n",
      ");\n",
      "\n",
      "CREATE TABLE iata (\n",
      "    airportID INT,\n",
      "    name TEXT,\n",
      "    city TEXT,\n",
      "    country TEXT,\n",
      "    iata TEXT,\n",
      "    icao TEXT,\n",
      "    latitude REAL,\n",
      "    longitude REAL,\n",
      "    altitude REAL,\n",
      "    timeZone INT,\n",
      "    dst TEXT,\n",
      "    tzDatabaseTimeZone TEXT\n",
      ");\n",
      "\n",
      "-- Note: this is going to import data\n",
      "-- you may need to change the path of 2001.csv and iata.csv\n",
      "\n",
      ".mode csv\n",
      ".import /notebooks/i2ds/data/2001.csv flights\n",
      ".import /notebooks/i2ds/spring2015/week10/iata.csv iata\n",
      "\n",
      "DELETE FROM flights WHERE Year = 'Year';\n",
      "\n",
      "SELECT COUNT(*) AS COUNT FROM flights;\n",
      "\n",
      "SELECT COUNT(*) AS COUNT FROM iata;\n",
      "\n",
      "CREATE TABLE template\n",
      "    AS SELECT month AS 'month', dayOfMonth AS 'dayOfMonth', uniqueCarrierCode AS 'uniqueCarrierCode',\n",
      "                flightNumber AS 'flightNumber', scheduledDepartureTime AS 'scheduledDepartureTime',\n",
      "                diverted AS 'diverted', destinationCode AS 'destinationCode', iata.city AS 'originCity' \n",
      "        FROM flights LEFT OUTER JOIN iata ON flights.originCode = iata.iata;\n",
      "        \n",
      "CREATE TABLE myTable\n",
      "    AS SELECT month AS 'month', dayOfMonth AS 'dayOfMonth', uniqueCarrierCode AS 'uniqueCarrierCode',\n",
      "                flightNumber AS 'flightNumber', scheduledDepartureTime AS 'scheduledDepartureTime',\n",
      "                diverted AS 'diverted', originCity AS 'originCity', iata.city AS 'destinationCity'\n",
      "        FROM template LEFT OUTER JOIN iata ON template.destinationCode = iata.iata;\n",
      "\n",
      "SELECT COUNT(*) AS COUNT FROM myTable;\n",
      "\n",
      "INSERT INTO myTable (month, dayOfMonth, uniqueCarrierCode, flightNumber,\n",
      "                     scheduledDepartureTime, diverted, originCity, destinationCity)\n",
      "VALUES(9, 9, 'INFO', 490, 0800, 1, 'Champaign', 'Chicago');\n",
      "\n",
      "SELECT COUNT(*) AS COUNT FROM myTable;\n",
      "\n",
      "SELECT AVG(f.departureDelay) AS Average FROM flights AS f WHERE f.departureDelay NOT LIKE 'NA';\n",
      "SELECT MAX(f.departureDelay) AS Maximum FROM flights AS f WHERE f.departureDelay NOT LIKE 'NA';\n",
      "SELECT Min(f.departureDelay) AS Minimum FROM flights AS f WHERE f.departureDelay NOT LIKE 'NA';\n",
      "\n",
      "SELECT f.month, f.dayOfMonth, f.uniqueCarrierCode, f.flightNumber FROM myTable AS f\n",
      "    WHERE f.scheduledDepartureTime > 0745 AND f.scheduledDepartureTime < 0815 \n",
      "        AND f.originCity = 'Newark' AND f.destinationCity = 'San Francisco' AND f.diverted = '1';\n"
     ],
     "language": "python",
     "metadata": {},
     "outputs": [
      {
       "output_type": "stream",
       "stream": "stdout",
       "text": [
        "Overwriting Jifu_Zhao_airport.sql\n"
       ]
      }
     ],
     "prompt_number": 5
    },
    {
     "cell_type": "code",
     "collapsed": false,
     "input": [
      "!sqlite3 /notebooks/i2ds/database/i2ds < airport.sql"
     ],
     "language": "python",
     "metadata": {},
     "outputs": [
      {
       "output_type": "stream",
       "stream": "stdout",
       "text": [
        "5967780\r\n"
       ]
      },
      {
       "output_type": "stream",
       "stream": "stdout",
       "text": [
        "8107\r\n"
       ]
      },
      {
       "output_type": "stream",
       "stream": "stdout",
       "text": [
        "5967780\r\n"
       ]
      },
      {
       "output_type": "stream",
       "stream": "stdout",
       "text": [
        "5967781\r\n"
       ]
      },
      {
       "output_type": "stream",
       "stream": "stdout",
       "text": [
        "8.15483749731112\r\n"
       ]
      },
      {
       "output_type": "stream",
       "stream": "stdout",
       "text": [
        "1692\r\n"
       ]
      },
      {
       "output_type": "stream",
       "stream": "stdout",
       "text": [
        "-204\r\n"
       ]
      },
      {
       "output_type": "stream",
       "stream": "stdout",
       "text": [
        "9,11,UA,93\r\n"
       ]
      }
     ],
     "prompt_number": 4
    },
    {
     "cell_type": "code",
     "collapsed": false,
     "input": [
      "!sqlite3 test < Jifu_Zhao_airport.sql"
     ],
     "language": "python",
     "metadata": {},
     "outputs": [
      {
       "output_type": "stream",
       "stream": "stdout",
       "text": [
        "^C/notebooks/i2ds/data/2001.csv:4819072: expected 29 columns but found 11 - filling the rest with NULL\r\n",
        "\r\n"
       ]
      }
     ],
     "prompt_number": 7
    },
    {
     "cell_type": "code",
     "collapsed": false,
     "input": [
      "5967780\n",
      "8107\n",
      "5967780\n",
      "5967781\n",
      "8.15483749731112\n",
      "1692\n",
      "-204\n",
      "9,11,UA,93"
     ],
     "language": "python",
     "metadata": {},
     "outputs": []
    }
   ],
   "metadata": {}
  }
 ]
}