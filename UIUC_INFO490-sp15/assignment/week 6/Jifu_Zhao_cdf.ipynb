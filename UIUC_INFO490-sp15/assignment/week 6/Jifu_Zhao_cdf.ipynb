{
 "metadata": {
  "name": "",
  "signature": "sha256:27ad922bc6575bc9d464f592b911c9080e4ef9baaac5f42c3d3acf1bc38b3853"
 },
 "nbformat": 3,
 "nbformat_minor": 0,
 "worksheets": [
  {
   "cells": [
    {
     "cell_type": "markdown",
     "metadata": {},
     "source": [
      "## Problem 6.3. PMF and CDF.\n",
      "\n",
      "In this problem, you will compute and plot the\n",
      "  cumulative distribution function (CDF) of arrival delay."
     ]
    },
    {
     "cell_type": "code",
     "collapsed": false,
     "input": [
      "%matplotlib inline\n",
      "import numpy as np\n",
      "import pandas as pd\n",
      "from scipy import stats\n",
      "import matplotlib.pyplot as plt"
     ],
     "language": "python",
     "metadata": {},
     "outputs": [],
     "prompt_number": 1
    },
    {
     "cell_type": "markdown",
     "metadata": {},
     "source": [
      "First, write a function named `get_cdf()` that takes an array\n",
      "  and returns a tuple that represents the $x$ and $y$ axes of the (empirical) CDF.\n",
      "  \n",
      "Here is a very easy algorithm to implement this function.\n",
      "  See the definition of\n",
      "  [empirical distribution function](http://en.wikipedia.org/wiki/Empirical_distribution_function)\n",
      "  on Wikipedia. That means we can do the following to produce\n",
      "  the empirical CDF:\n",
      "\n",
      "1. Use Pandas to read the specified column.\n",
      "2. Pandas will automatically replace missing values `'NA'` with\n",
      "   `numpy.nan` (Not A Number).\n",
      "   Use [`numpy.isfinite()`](http://docs.scipy.org/doc/numpy/reference/generated/numpy.isfinite.html)\n",
      "   to mask out these missing values.\n",
      "3. Use [`numpy.sort()`](http://docs.scipy.org/doc/numpy/reference/generated/numpy.sort.html)\n",
      "   to sort the array (with no missing values) in ascending order.\n",
      "   This will be our $x$-axis.\n",
      "4. Create an array of $\\frac{1}{N}$, $\\frac{2}{N}$, ..., $1$,\n",
      "   where $N$ is the length of the sorted array (the $x$-axis).\n",
      "   This will be our $y$-axis.\n",
      "   All you have to do is use `np.arange()` to make an array\n",
      "   of length $N$,\n",
      "   and divide each element by $N$.\n",
      "\n",
      "According to Wikipedia, the resulting empirical CDF is an unbiased estimator for the true CDF.\n",
      "\n",
      "Note: Do NOT use numpy.histogram() function to create a CDF.\n",
      "  It uses binning, which might be useful in other cases but not in this case.\n",
      "  The method I outlined above is a better characterization of the true CDF."
     ]
    },
    {
     "cell_type": "code",
     "collapsed": false,
     "input": [
      "#%%writefile FirstName_LastName_cdf.py\n",
      "\n",
      "def get_cdf(filename, column):\n",
      "    '''\n",
      "    Reads a specific column of airline on-time performance CSV file,\n",
      "    and returns a tuple of arrays that represent the x and y axes of\n",
      "    cumulative distribution function.\n",
      "    \n",
      "    Parameters\n",
      "    ----------\n",
      "    filename(str): The filename of a CSV file.\n",
      "    column(str): The column header.\n",
      "    \n",
      "    Returns\n",
      "    -------\n",
      "    A tuple of two numpy arrays of equal length.\n",
      "    The first array represents the x axis of CDF.\n",
      "    The second array represents the y axis of CDF.\n",
      "    '''\n",
      "    \n",
      "    # your code goes here\n",
      "    df = pd.read_csv(filename, encoding='latin1',usecols = [column], na_values= None)\n",
      "    df = df.dropna(axis = 0, how = 'any')\n",
      "    cdf_x = np.sort(df[column], 0)\n",
      "    N = len(cdf_x) \n",
      "    cdf_y = np.arange(1,N+1,1)/N\n",
      "\n",
      "    return cdf_x, cdf_y"
     ],
     "language": "python",
     "metadata": {},
     "outputs": [],
     "prompt_number": 2
    },
    {
     "cell_type": "markdown",
     "metadata": {},
     "source": [
      "The `%%writefile` magic will create a file named `FirstName_LastName_cdf.py`.\n",
      "Rename and submit this file along with your `.ipynb` file.\n",
      "\n",
      "Next, use the `get_cdf()` function to create a CDF plot.\n",
      "Your plot should show both the empirical CDF calculated\n",
      "from `ArrDelay` column of `2001.csv` file\n",
      "and the CDF of a Guassian distribution.\n",
      "You can obtain the CDF of a Guassian distribution by using\n",
      "[`scipy.stats.norm.cdf()`](http://docs.scipy.org/doc/scipy/reference/generated/scipy.stats.norm.html).\n",
      "Use `loc=-3.5` and `scale=10.7`\n",
      "(which were obtained by fitting a Gaussian curve\n",
      "on the PDF)."
     ]
    },
    {
     "cell_type": "code",
     "collapsed": false,
     "input": [
      "# your code goes here\n",
      "# This process may take some time to get the final result\n",
      "\n",
      "filename = '/data/airline/2001.csv'\n",
      "column = 'ArrDelay'\n",
      "x,y1 = get_cdf(filename, column)\n",
      "y2 = stats.norm.cdf(x, loc=-3.5,scale=10.7)\n",
      "\n",
      "fig, ax = plt.subplots()\n",
      "ax.plot(x, y1, 'r',label = 'data')\n",
      "ax.plot(x, y2, label = 'model')\n",
      "\n",
      "ax.set_xlabel('Arrival Delay (minutes)')\n",
      "ax.set_ylabel('Probability')\n",
      "ax.set_title('Arrival Delay CDF (by Jifu Zhao)')\n",
      "ax.set_xlim(-100,100)\n",
      "plt.legend(loc = 'upper left')\n",
      "\n",
      "plt.show()"
     ],
     "language": "python",
     "metadata": {},
     "outputs": [
      {
       "metadata": {},
       "output_type": "display_data",
       "png": "[encoded data removed]",
       "text": [
        "<matplotlib.figure.Figure at 0x7fcc968dd6a0>"
       ]
      }
     ],
     "prompt_number": 6
    },
    {
     "cell_type": "code",
     "collapsed": false,
     "input": [],
     "language": "python",
     "metadata": {},
     "outputs": []
    }
   ],
   "metadata": {}
  }
 ]
}