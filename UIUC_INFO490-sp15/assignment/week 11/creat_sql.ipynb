{
 "metadata": {
  "name": "",
  "signature": "sha256:b96e3276c88aceab3f6ccd8fa027871fe68a702fe729cffb7e4059ea4ddf0762"
 },
 "nbformat": 3,
 "nbformat_minor": 0,
 "worksheets": [
  {
   "cells": [
    {
     "cell_type": "code",
     "collapsed": false,
     "input": [
      "%%writefile Jifu_Zhao_airport.sql\n",
      "\n",
      "-- To run the whole airport.sql, you may need a quite while\n",
      "-- Please be patient\n",
      "\n",
      "-- This is going to drop the table that exists\n",
      "-- If there is no table exist, it will return error, but it doesn't matter\n",
      "\n",
      "DROP TABLE IF EXISTS flights;\n",
      "\n",
      "CREATE TABLE flights (\n",
      "    year INT,\n",
      "    month INT,\n",
      "    dayOfMonth INT,\n",
      "    dayOfWeek INT,\n",
      "    actualDepartureTime INT,\n",
      "    scheduledDepartureTime INT,\n",
      "    arrivalArrivalTime INT,\n",
      "    scheduledArrivalTime INT,\n",
      "    uniqueCarrierCode TEXT,\n",
      "    flightNumber INT,\n",
      "    tailNumber TEXT,\n",
      "    actualElapsedTime INT,\n",
      "    scheduledElapsedTime INT,\n",
      "    airTime INT,\n",
      "    arrivalDelay INT,\n",
      "    departureDelay INT,\n",
      "    originCode TEXT,\n",
      "    destinationCode TEXT,\n",
      "    distance INT,\n",
      "    taxiIn INT,\n",
      "    taxiOut INT,\n",
      "    cancelled INT,\n",
      "    cancellationCode TEXT,\n",
      "    diverted TEXT,\n",
      "    carrierDelay INT,\n",
      "    weatherDelay INT,\n",
      "    nasDelay INT,\n",
      "    securityDelay INT,\n",
      "    lateAircraftDelay INT\n",
      ");\n",
      "\n",
      ".mode csv\n",
      ".import /notebooks/i2ds/data/2001.csv flights\n",
      "\n",
      "DELETE FROM flights WHERE Year = 'Year';\n",
      "\n",
      "SELECT COUNT(*) AS COUNT FROM flights;\n"
     ],
     "language": "python",
     "metadata": {},
     "outputs": [
      {
       "output_type": "stream",
       "stream": "stdout",
       "text": [
        "Writing Jifu_Zhao_airport.sql\n"
       ]
      }
     ],
     "prompt_number": 1
    },
    {
     "cell_type": "code",
     "collapsed": false,
     "input": [
      "!sqlite3 /notebooks/i2ds/database/i2ds < Jifu_Zhao_airport.sql"
     ],
     "language": "python",
     "metadata": {},
     "outputs": [
      {
       "output_type": "stream",
       "stream": "stdout",
       "text": [
        "5967780\r\n"
       ]
      }
     ],
     "prompt_number": 3
    },
    {
     "cell_type": "code",
     "collapsed": false,
     "input": [],
     "language": "python",
     "metadata": {},
     "outputs": []
    }
   ],
   "metadata": {}
  }
 ]
}