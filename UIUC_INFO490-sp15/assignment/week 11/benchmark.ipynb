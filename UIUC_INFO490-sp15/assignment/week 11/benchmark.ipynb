{
 "metadata": {
  "name": "",
  "signature": "sha256:d5a070dea1291feb6d07689e17291f6c372e27086521458a38b61bdf2bcb6669"
 },
 "nbformat": 3,
 "nbformat_minor": 0,
 "worksheets": [
  {
   "cells": [
    {
     "cell_type": "code",
     "collapsed": false,
     "input": [
      "import sqlite3 as sl"
     ],
     "language": "python",
     "metadata": {},
     "outputs": []
    },
    {
     "cell_type": "markdown",
     "metadata": {},
     "source": [
      "## Problem 11.1. SQLite Benchmarks\n",
      "\n",
      "You might have wondered why relational databases and SQLite were introduced in weeks 10 and 11.\n",
      "   One of the strengths of SQLite is that, once a database is stored,\n",
      "   it is much faster when we have to make frequent queries.\n",
      "   In this problem, we will test the question, \"how fast is SQLite really?\",\n",
      "   by measuring the CPU time to\n",
      "   - use pure Python to brute-force search a CSV file,\n",
      "   - create an SQLite database by reading in a CSV file, and\n",
      "   - query an existing SQLite database.\n",
      "\n",
      "For simplicity, we will extract only two columns: `month` (the 2nd colum) and `cancelled` (the 24th column)."
     ]
    },
    {
     "cell_type": "code",
     "collapsed": false,
     "input": [
      "%%bash\n",
      "cat /data/airline/2001.csv | awk -F, '{print $2 \",\" $24}' > /data/airline/week11.csv"
     ],
     "language": "python",
     "metadata": {},
     "outputs": []
    },
    {
     "cell_type": "markdown",
     "metadata": {},
     "source": [
      "The `count_cancelled()` function use a simple `for` loop to read in a CSV file line by line.\n",
      "  On my machine, the results were\n",
      "\n",
      "```python\n",
      "%time n = count_cancelled(9, \"/data/airline/week11.csv\")\n",
      "```\n",
      "\n",
      "```text\n",
      "CPU times: user 26.4 s, sys: 24 ms, total: 26.4 s\n",
      "Wall time: 26.4 s\n",
      "```\n",
      "\n",
      "The `create_db()` function creates an SQLite database.\n",
      "\n",
      "```python\n",
      "%time db_name = create_db(\"/data/airline/week11.csv\")\n",
      "```\n",
      "\n",
      "```text\n",
      "CPU times: user 2min 17s, sys: 6.87 s, total: 2min 24s\n",
      "Wall time: 2min 35s\n",
      "```\n",
      "\n",
      "The `query()` function uses the databse we have created with `create_db()`\n",
      "  and makes a `SELECT` query to count the number of cancellations in September.\n",
      "  \n",
      "```python\n",
      "%time n = query(\"/data/airline/test.db\")\n",
      "```\n",
      "\n",
      "```text\n",
      "100 loops, best of 3: 5.35 ms per loop\n",
      "```\n",
      "\n",
      "That's 5.35 thousands of a second per query.\n",
      "  We can see that it takes a while to create an SQLite database,\n",
      "  but once it has been created, the query speed is impressive.\n",
      "  This is a toy problem, but imagine we have to make 1000 such queries.\n",
      "  It would take 26.4 sec $\\times$ 1000 = 7 hours 20 minutes for plain Python,\n",
      "  while it would take 2 min 17 sec + 5.35 msec $\\times$ 1000 =  2 minutes 22 seconds in SQLite."
     ]
    },
    {
     "cell_type": "markdown",
     "metadata": {},
     "source": [
      "### Function: create\\_db()\n",
      "\n",
      "First, write a function named `create_db()` that takes a string (the name of the CSV file)\n",
      "  and returns a string (the name of the SQLite database name you have created).\n",
      "  You should also create a [multi-column index](https://www.sqlite.org/queryplanner.html)\n",
      "  on **both** the `month` and `cancelled` columns (Name the index `idx`).\n",
      "  Here's the schema you should use:"
     ]
    },
    {
     "cell_type": "code",
     "collapsed": false,
     "input": [
      "create_flights = '''\n",
      "CREATE TABLE flights (\n",
      "    month INT,\n",
      "    cancelled INT\n",
      ");\n",
      "'''"
     ],
     "language": "python",
     "metadata": {},
     "outputs": []
    },
    {
     "cell_type": "code",
     "collapsed": false,
     "input": [
      "def create_db(filename):\n",
      "    '''\n",
      "    Takes a string and returns a string.\n",
      "    \n",
      "    Parameter\n",
      "    ---------\n",
      "    filename: The file name of the CSV file to be imported.\n",
      "    \n",
      "    Returns\n",
      "    -------\n",
      "    A str. The file path and/or the file name of the SQL database created.\n",
      "    '''\n",
      "    \n",
      "    #### your code goes here\n",
      "    \n",
      "    return db_name"
     ],
     "language": "python",
     "metadata": {},
     "outputs": []
    },
    {
     "cell_type": "code",
     "collapsed": false,
     "input": [
      "%time db_name = create_db(\"/data/airline/week11.csv\")"
     ],
     "language": "python",
     "metadata": {},
     "outputs": []
    },
    {
     "cell_type": "markdown",
     "metadata": {},
     "source": [
      "### Function: query ()\n",
      "\n",
      "Next, write a function named `query` that takes a string (the name of the SQL database you created)\n",
      "  and an integer (the month of the year to query).\n",
      "  It should return an integer (the number of cancellations in that month).\n",
      "  \n",
      "Hint: The [multi-column indices](https://www.sqlite.org/queryplanner.html) we have\n",
      "  created in `create_cb() is optmized for WHERE ... AND ... terms. Use WHERE ... AND ..."
     ]
    },
    {
     "cell_type": "code",
     "collapsed": false,
     "input": [
      "def query(db_name, month):\n",
      "    '''\n",
      "    Takes a string and returns an integer.\n",
      "    \n",
      "    Parameters\n",
      "    ----------\n",
      "    db_name: A str. The file path and/or the file name of SQL database.\n",
      "    month: An int. The month to query.\n",
      "    \n",
      "    Returns\n",
      "    -------\n",
      "    An int. The number of cancellations (cancelled == 1) where\n",
      "    the value of 'month' column in the SQL database is equal to the 'month' variable.\n",
      "    '''\n",
      "\n",
      "    #### your code goes here\n",
      "    \n",
      "    return n"
     ],
     "language": "python",
     "metadata": {},
     "outputs": []
    },
    {
     "cell_type": "code",
     "collapsed": false,
     "input": [
      "%timeit n = query(\"/data/airline/test.db\", 9)"
     ],
     "language": "python",
     "metadata": {},
     "outputs": []
    },
    {
     "cell_type": "code",
     "collapsed": false,
     "input": [
      "print(\"SQLite: {0} flights were cancelled in September, 2001\".format(n))"
     ],
     "language": "python",
     "metadata": {},
     "outputs": []
    },
    {
     "cell_type": "markdown",
     "metadata": {},
     "source": [
      "Finally, I have provided a function that goes through a CSV file line by line\n",
      "  and counts the number of cancellations in September.\n",
      "  Run the following cells to see how long it takes on your machine."
     ]
    },
    {
     "cell_type": "code",
     "collapsed": false,
     "input": [
      "def count_cancelled(month, filename, header=True):\n",
      "    \n",
      "    n = 0\n",
      "    with open(filename) as f:\n",
      "        for i, line in enumerate(f):\n",
      "            if header and i == 0:\n",
      "                continue\n",
      "                \n",
      "            values = line.strip().split(',')\n",
      "            if int(values[0]) == 9 and int(values[1]) == 1:\n",
      "                n += 1\n",
      "    return n"
     ],
     "language": "python",
     "metadata": {},
     "outputs": []
    },
    {
     "cell_type": "code",
     "collapsed": false,
     "input": [
      "%time n = count_cancelled(9, \"/data/airline/week11.csv\")\n",
      "print(\"Python: {0} flights were cancelled in September, 2001\".format(n))"
     ],
     "language": "python",
     "metadata": {},
     "outputs": []
    },
    {
     "cell_type": "code",
     "collapsed": false,
     "input": [],
     "language": "python",
     "metadata": {},
     "outputs": []
    }
   ],
   "metadata": {}
  }
 ]
}