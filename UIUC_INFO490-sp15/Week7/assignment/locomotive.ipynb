{
 "metadata": {
  "name": "",
  "signature": "sha256:f91a1d80d94ed0f51616a501e2df72d0309cbf15b118fbe652a8338cac0fee32"
 },
 "nbformat": 3,
 "nbformat_minor": 0,
 "worksheets": [
  {
   "cells": [
    {
     "cell_type": "markdown",
     "metadata": {},
     "source": [
      "## Problem 7.1. The Locomotive Problem\n",
      "\n",
      "In this problem, you will estimate the number of aircrafts in the aircrafts in the U.S. by using Bayesian statistics."
     ]
    },
    {
     "cell_type": "code",
     "collapsed": false,
     "input": [
      "import numpy as np\n",
      "import pandas as pd\n",
      "import re"
     ],
     "language": "python",
     "metadata": {},
     "outputs": [],
     "prompt_number": 1
    },
    {
     "cell_type": "markdown",
     "metadata": {},
     "source": [
      "The locomotive problem is found in Section 3.2 of *Think Bayes* by Allen B. Downey.\n",
      "  We will rephrase the locomotive problem and apply it to our 2001 flights data:\n",
      "\n",
      "> The tail number of aircrafts in the 2001 flights data are labeled using the serial numbers 1, 2, ..., $n$.\n",
      "> You see an airplane with the tail number N363. Estimate how many aircrafts there are in the U.S.\n",
      "\n",
      "All civil aircrafts in the U.S. have tail numbers that begin with the letter N.\n",
      "  (source: [Wikipedia](http://en.wikipedia.org/wiki/Aircraft_registration))\n",
      "  The serial numbers actually are more complicated than 1, 2, ...\n",
      "  There could also be letters at the end of a tail number,\n",
      "  but let's simplify the problem and assume that the tail numbers are nicely ordered\n",
      "  from 1 to $n$.\n",
      "  \n",
      "Where did the tail number N363 come from? I picked a random row in the 2001 flights data set."
     ]
    },
    {
     "cell_type": "code",
     "collapsed": false,
     "input": [
      "# change the path to the location of 2001.csv on your machine.\n",
      "fpath = 'data/airline/2001.csv'\n",
      "df = pd.read_csv(fpath, encoding='latin-1', usecols=('TailNum',))\n",
      "np.random.seed(490) # this number ensures that you get the same number from random number generator\n",
      "rand_row = np.random.randint(0, high=len(df))\n",
      "tail_num = df.ix[rand_row].TailNum\n",
      "print(tail_num)"
     ],
     "language": "python",
     "metadata": {},
     "outputs": [
      {
       "output_type": "stream",
       "stream": "stdout",
       "text": [
        "N363@@\n"
       ]
      }
     ],
     "prompt_number": 2
    },
    {
     "cell_type": "markdown",
     "metadata": {},
     "source": [
      "It seems like encoding is all messed up. Remember regular expressions (regex)?\n",
      "  Let's use regex to extract the digits."
     ]
    },
    {
     "cell_type": "code",
     "collapsed": false,
     "input": [
      "tail_num_num = int(re.sub('\\D', '', tail_num))\n",
      "print(tail_num_num)"
     ],
     "language": "python",
     "metadata": {},
     "outputs": [
      {
       "output_type": "stream",
       "stream": "stdout",
       "text": [
        "363\n"
       ]
      }
     ],
     "prompt_number": 3
    },
    {
     "cell_type": "markdown",
     "metadata": {},
     "source": [
      "In this problem, we will completely rewrite Downey's code by eliminating the class structure and using Numpy, because\n",
      "\n",
      "1. Classes have their advantages, but they make it hard to see what is really going on under the hood, and our goal in this problem is to understand the underlying concepts,\n",
      "2. Using Numpy means no *for* loops, which in my opinion makes it easier to understand what's going on, and\n",
      "3. Downey mostly uses pure Python. This is very slow, so we will use Numpy.\n",
      "\n",
      "Your task in this problem is to write the following five functions:\n",
      "\n",
      "- hypotheses()\n",
      "- uniform_prior()\n",
      "- likelihood()\n",
      "- posterior()\n",
      "- estimate()\n",
      "\n",
      "Note that if you use Numpy functions correctly, each function will not take more than one or two lines to write. I will give you hints on how to do this, but you don't have to follow my recommendations as long as your functions do what they are supposed to do, i.e. take the specified parameters and return the correct Numpy arrays. But remember that all functions must return Numpy arrays, so if you use *for* loops you code will be very inefficient.\n",
      "\n",
      "#### Function: hypotheses()\n",
      "\n",
      "- Write a function named `hypotheses()` that takes two integers (the first tail number 1 and the final tail number $n$) and returns a Numpy array of integers [1, 2, ..., $n-1$]. When the function is called with no argument, i.e. hypotheses(), it should return `array([1, 2, ..., 10000])` by default.\n",
      "\n",
      "Note that the number $n$ will be used for building a uniform prior.\n",
      "  So what is our prior belief regarding the number of aircrafts before seeing the data?\n",
      "  Not much, so let's a very simple prior distribution for this problem,\n",
      "  and assume that $n$ is equally likely to be anywhere from 1 to 10000.\n",
      "\n",
      "Hint: Use [numpy.arange()](http://docs.scipy.org/doc/numpy/reference/generated/numpy.arange.html)."
     ]
    },
    {
     "cell_type": "code",
     "collapsed": false,
     "input": [
      "def hypotheses(start=1, end=10001):\n",
      "    '''\n",
      "    Takes two integers (the first serial number 1 and the final serial number n + 1).\n",
      "    Returns a Numpy array of integers [1, 2, ..., n].\n",
      "    \n",
      "    Parameters\n",
      "    ----------\n",
      "    start(int): The start of the array. Optional.\n",
      "    end(int): The end of the arary. Optional.\n",
      "    \n",
      "    Returns\n",
      "    -------\n",
      "    A Numpy array of integers [1, 2, ..., n]\n",
      "    \n",
      "    Examples\n",
      "    --------\n",
      "    >>> hypotheses(1, 5)\n",
      "    array([1, 2, 3, 4])\n",
      "    '''\n",
      "\n",
      "    # your code goes here\n",
      "    \n",
      "    return result\n"
     ],
     "language": "python",
     "metadata": {},
     "outputs": []
    },
    {
     "cell_type": "markdown",
     "metadata": {},
     "source": [
      "#### Function: uniform_prior()\n",
      "\n",
      "- Write a function named `uniform_prior()` that takes a Numpy array (an array of hypotheses) and returns a Numpy array of floats (an array of uniform prior).\n",
      "\n",
      "The prior is $P(H)$ in Bayes' theorem:\n",
      "\n",
      "$P\\left(H\\mid D\\right) = \\frac{P\\left(H\\right)P\\left(D\\mid H\\right)}{P\\left(D\\right)}$\n",
      "\n",
      "Here, we use a uniform prior, i.e. all elements in the array have the same values, $\\frac{1}{N}$.\n",
      "\n",
      "Hint: See [`numpy.ones_like()`](http://docs.scipy.org/doc/numpy/reference/generated/numpy.ones_like.html). Create an array of same length as hypotheses with all ones. (If the input array to `ones_like()` is an integer array, the output array will also be an integer array; you might want to specify *dtype* to make it a floating point array.) Divide all elements by the length of hypotheses."
     ]
    },
    {
     "cell_type": "code",
     "collapsed": false,
     "input": [
      "def uniform_prior(hypotheses):\n",
      "    '''\n",
      "    Takes an array (an array of hypotheses) and\n",
      "    returns a Numpy array of floats (an array of uniform prior).\n",
      "    \n",
      "    Parameters\n",
      "    ----------\n",
      "    hypotheses: A numpy array of length n.\n",
      "    \n",
      "    Returns\n",
      "    -------\n",
      "    A numpy of length n.\n",
      "    \n",
      "    Examples\n",
      "    --------\n",
      "    >>> import numpy as np\n",
      "    >>> x = np.array([1, 2, 3, 4, 5])\n",
      "    >>> uniform_prior(x)\n",
      "    array([ 0.2,  0.2,  0.2,  0.2,  0.2])\n",
      "    '''\n",
      "    \n",
      "    # your code goes here\n",
      "    \n",
      "    return result"
     ],
     "language": "python",
     "metadata": {},
     "outputs": []
    },
    {
     "cell_type": "markdown",
     "metadata": {},
     "source": [
      "#### Function: likelihood()\n",
      "\n",
      "- Write a function named `likelihood()` that takes an integer (data) and a Numpy array (hypotheses), and returns a Numpy array of floats (likelihood).\n",
      "\n",
      "The likelihood is $P\\left(D\\mid H\\right)$ in Bayes' theorem. Recall that hypotheses is a Numpy array of [1, 2, ..., $n$]. If the $n$-th element of hypotheses is smaller than data, the $n$-th element of likelihood is zero because the serial number cannot be greater than the number of households. On the other hand, if the $n$-th element of hypotheses is greater than or equal to data, the question becomes what is the chance of getting a particular serial number given that there are `hypotheses[n]` persons? Thus, if `hypotheses[n] >= data`, `likelihood[n]` is `1.0 / hypotheses[n]`, and `0` otherwise.\n",
      "\n",
      "Hint: Say you have the following Numpy arrays:"
     ]
    },
    {
     "cell_type": "code",
     "collapsed": false,
     "input": [
      "x = np.array([1.0, 2.0, 3.0])\n",
      "y = np.array([0.5, 2.5, 2.5])"
     ],
     "language": "python",
     "metadata": {},
     "outputs": [],
     "prompt_number": 4
    },
    {
     "cell_type": "markdown",
     "metadata": {},
     "source": [
      "You want to compare them *element-wise* and create a Boolean array of `True` if `x >= y` and `False` if `x < y`. An easy way to do this is"
     ]
    },
    {
     "cell_type": "code",
     "collapsed": false,
     "input": [
      "(x > y)"
     ],
     "language": "python",
     "metadata": {},
     "outputs": [
      {
       "metadata": {},
       "output_type": "pyout",
       "prompt_number": 5,
       "text": [
        "array([ True, False,  True], dtype=bool)"
       ]
      }
     ],
     "prompt_number": 5
    },
    {
     "cell_type": "markdown",
     "metadata": {},
     "source": [
      "See also [`numpy.ndarray.astype()`](http://docs.scipy.org/doc/numpy/reference/generated/numpy.ndarray.astype.html). That means we can convert our Boolean array to, say, an array of floats with"
     ]
    },
    {
     "cell_type": "code",
     "collapsed": false,
     "input": [
      "(x > y).astype(np.float)"
     ],
     "language": "python",
     "metadata": {},
     "outputs": [
      {
       "metadata": {},
       "output_type": "pyout",
       "prompt_number": 6,
       "text": [
        "array([ 1.,  0.,  1.])"
       ]
      }
     ],
     "prompt_number": 6
    },
    {
     "cell_type": "markdown",
     "metadata": {},
     "source": [
      "Write the `likelihood()` function below."
     ]
    },
    {
     "cell_type": "code",
     "collapsed": false,
     "input": [
      "def likelihood(data, hypotheses):\n",
      "    '''\n",
      "    Takes an integer (data) and an array (hypotheses)\n",
      "    Returns a Numpy array of floats (likelihood).\n",
      "    \n",
      "    Parameters\n",
      "    ----------\n",
      "    data: An int.\n",
      "    hypotheses: A numpy array.\n",
      "    \n",
      "    Returns\n",
      "    -------\n",
      "    A Numpy array.\n",
      "    \n",
      "    Examples\n",
      "    --------\n",
      "    >>> import numpy as np\n",
      "    >>> x = np.array([1, 2, 3, 4, 5])\n",
      "    >>> likelihood(1, x)\n",
      "    array([ 1.        ,  0.5       ,  0.33333333,  0.25      ,  0.2       ])\n",
      "    >>> likelihood(2, x)\n",
      "    array([ 0.        ,  0.5       ,  0.33333333,  0.25      ,  0.2       ])\n",
      "    >>> likelihood(3, x)\n",
      "    array([ 0.        ,  0.        ,  0.33333333,  0.25      ,  0.2       ])\n",
      "    >>> likelihood(6, x)\n",
      "    array([ 0.,  0.,  0.,  0.,  0.])\n",
      "    '''\n",
      "    \n",
      "    # your code goes here\n",
      "    \n",
      "    return result"
     ],
     "language": "python",
     "metadata": {},
     "outputs": []
    },
    {
     "cell_type": "markdown",
     "metadata": {},
     "source": [
      "#### Function: posterior()\n",
      "\n",
      "- Write a function named `get_posterior()` that takes an integer (data) and a Numpy array (hypotheses), and returns a Numpy array of floats (posterior).\n",
      "\n",
      "From Bayes' theorem, the posterior $P(D)$ is equal to prior times likelihood (divided by the normalizing constant). Thus, the `get_posterior()` function should\n",
      "\n",
      "1. Call `get_uniform_prior()` with `hypotheses` as a parameter,\n",
      "2. Call `get_likelihood()` using `data` and `hypotheses`,\n",
      "3. Multiply two arrays element-wise,\n",
      "4. And normalize to produce a posterior.\n",
      "\n",
      "Hint: A simple multiplication of two Numpy arrays performs the multiplication *element-wise*. For example,"
     ]
    },
    {
     "cell_type": "code",
     "collapsed": false,
     "input": [
      "x = np.array([1.0, 2.0, 3.0])\n",
      "y = np.array([4.0, 5.0, 6.0])\n",
      "x * y"
     ],
     "language": "python",
     "metadata": {},
     "outputs": [
      {
       "metadata": {},
       "output_type": "pyout",
       "prompt_number": 7,
       "text": [
        "array([  4.,  10.,  18.])"
       ]
      }
     ],
     "prompt_number": 7
    },
    {
     "cell_type": "markdown",
     "metadata": {},
     "source": [
      "This element-wise multiplication is exactly what we want; we want to multiply the prior and the likelihood element-wise.\n",
      "\n",
      "Hint: Don't forget to normalize. Since adding up all elements of the posterior array should give you 1.0,\n",
      "  an easy way to normalize is to divide each element by the sum of all elements.\n",
      "  See [`numpy.sum()`](http://docs.scipy.org/doc/numpy/reference/generated/numpy.sum.html).\n",
      "  For example, "
     ]
    },
    {
     "cell_type": "code",
     "collapsed": false,
     "input": [
      "x = np.array([1.0, 2.0, 3.0, 4.0])\n",
      "x / x.sum()"
     ],
     "language": "python",
     "metadata": {},
     "outputs": [
      {
       "metadata": {},
       "output_type": "pyout",
       "prompt_number": 8,
       "text": [
        "array([ 0.1,  0.2,  0.3,  0.4])"
       ]
      }
     ],
     "prompt_number": 8
    },
    {
     "cell_type": "markdown",
     "metadata": {},
     "source": [
      "Write the `posteior()` function below."
     ]
    },
    {
     "cell_type": "code",
     "collapsed": false,
     "input": [
      "def posterior(data, hypotheses):\n",
      "    '''\n",
      "    Takes an integer (data) and an array (hypotheses).\n",
      "    Returns a Numpy array of floats (posterior).\n",
      "    \n",
      "    Parameters\n",
      "    ----------\n",
      "    data: An int.\n",
      "    hypoteses: A Numpy array.\n",
      "    \n",
      "    Returns\n",
      "    -------\n",
      "    A Numpy array.\n",
      "    \n",
      "    Examples\n",
      "    --------\n",
      "    >>> import numpy as np\n",
      "    >>> x = np.array([1, 2, 3, 4, 5])\n",
      "    >>> posterior(1, x)\n",
      "    array([ 0.4379562 ,  0.2189781 ,  0.1459854 ,  0.10948905,  0.08759124])\n",
      "    >>> posterior(2, x)\n",
      "    array([ 0.        ,  0.38961039,  0.25974026,  0.19480519,  0.15584416])\n",
      "    >>> osterior(3, x)\n",
      "    array([ 0.        ,  0.        ,  0.42553191,  0.31914894,  0.25531915])\n",
      "    >>> posterior(5, x)\n",
      "    array([ 0.,  0.,  0.,  0.,  1.])\n",
      "    '''\n",
      "\n",
      "    # your code goes here\n",
      "    \n",
      "    return result"
     ],
     "language": "python",
     "metadata": {},
     "outputs": []
    },
    {
     "cell_type": "markdown",
     "metadata": {},
     "source": [
      "#### Function: estimate()\n",
      "\n",
      "- Write a function named `estimate()` that takes two Numpy arrays (posterior and hypotheses) and returns a floating point (estimate).\n",
      "\n",
      "Hint: Again, you can use element-wise multiplication of `hypotheses` and `posterior`, and our estimate is the sum of all elements in the product array."
     ]
    },
    {
     "cell_type": "code",
     "collapsed": false,
     "input": [
      "def estimate(posterior, hypotheses):\n",
      "    '''\n",
      "    Takes a two arrays (posterior and hypotheses).\n",
      "    Returns a float (estimate).\n",
      "    \n",
      "    Parameters\n",
      "    ----------\n",
      "    posterior: A Numpy array.\n",
      "    hypotheses: A Numpy array.\n",
      "    \n",
      "    Returns\n",
      "    -------\n",
      "    A float.\n",
      "    \n",
      "    Examples\n",
      "    --------\n",
      "    >>> import numpy as np\n",
      "    >>> x = np.array([0.25, 0.25, 0.5])\n",
      "    >>> y = np.array([1, 2, 3])\n",
      "    >>> estimate(x, y)\n",
      "    2.25\n",
      "    '''\n",
      "\n",
      "    # your code goes here\n",
      "    \n",
      "    return result"
     ],
     "language": "python",
     "metadata": {},
     "outputs": []
    },
    {
     "cell_type": "markdown",
     "metadata": {},
     "source": [
      "When you run the following cell, you should get\n",
      "\n",
      "    The number of aircrafts in the U.S. is 2905."
     ]
    },
    {
     "cell_type": "code",
     "collapsed": false,
     "input": [
      "hypo = hypotheses()\n",
      "like = likelihood(tail_num_num, hypo)\n",
      "post = posterior(tail_num_num, hypo)\n",
      "est = estimate(post, hypo)\n",
      "print('The number of aircrafts in the U.S. is {0:.0f}.'.format(est))"
     ],
     "language": "python",
     "metadata": {},
     "outputs": []
    },
    {
     "cell_type": "markdown",
     "metadata": {},
     "source": [
      "Note that our method significantly underestimates the number of aircrafts.\n",
      "  This is due to a number of factors: we assumed that the tail numbers are determined in a simple manner,\n",
      "  and also assumed a uniform prior distribution.\n",
      "  In a more sophisticated model, we would have to account for these factors to produce\n",
      "  a more accurate esimate."
     ]
    },
    {
     "cell_type": "code",
     "collapsed": false,
     "input": [],
     "language": "python",
     "metadata": {},
     "outputs": []
    }
   ],
   "metadata": {}
  }
 ]
}