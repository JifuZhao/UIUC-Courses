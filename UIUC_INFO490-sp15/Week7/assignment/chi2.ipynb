{
 "metadata": {
  "name": "",
  "signature": "sha256:191863078423c8c85a57affdecec660822580b1398a24f58b017703d6cf3c3ec"
 },
 "nbformat": 3,
 "nbformat_minor": 0,
 "worksheets": [
  {
   "cells": [
    {
     "cell_type": "markdown",
     "metadata": {},
     "source": [
      "## Problem 7.2. Chi-squared Test.\n",
      "\n",
      "In this problem, you will calculate the chi-squared statstiic and\n",
      "  the p-value to accept or reject the hypothesis that the number\n",
      "  of flight cancellations depends on the month of the year."
     ]
    },
    {
     "cell_type": "code",
     "collapsed": false,
     "input": [
      "import numpy as np\n",
      "import pandas as pd\n",
      "from scipy import stats"
     ],
     "language": "python",
     "metadata": {},
     "outputs": [],
     "prompt_number": 1
    },
    {
     "cell_type": "markdown",
     "metadata": {},
     "source": [
      "Suppose you are studying the number of flight cancellations\n",
      "  at a small regional airport and observe the following pattern:\n",
      "  \n",
      "    January           23\n",
      "    February          12\n",
      "    March             10\n",
      "    April             10\n",
      "    May               13\n",
      "    June               7\n",
      "    July              12\n",
      "    August            11\n",
      "    September         22\n",
      "    October            6\n",
      "    November           6\n",
      "    December          14\n",
      "\n",
      "These were the actual 2001 flight cancellations at the Willard airport (CMI), which you should be able to check easily from 2001.csv. It seems like there are a lot of cancellations in January and September, and fewer than average cancellations in June, October, and December.\n",
      "\n",
      "In this problem, we will compute the chi-squared statistic to test the hypothesis that the number of flight cancellations depends on the month of the year.\n",
      "In other words, we will accept or reject the null hypothesis (the hypothesis that the fluctuations in flight cancellations is entirely due to random fluctuations) using the chi-squared test.\n",
      "The chi-squared statistic is defined as\n",
      "\n",
      "\\begin{equation}\n",
      "\\chi^2 = \\sum_i \\frac{\\left(O_i - E_i\\right)^2}{E_i}.\n",
      "\\end{equation}\n",
      "\n",
      "We will also compute the corresponding p-value of this distribution.\n",
      "For example, if the p-value is, say, 50%, then it means that there's a 50% chance and that the apparent pattern is due to chance. On the other hand, if the p-value is something small like 0.1%, then this pattern happens only one time in 1000 when the number of cancellations does not depend on the month of the year.  \n",
      "In this problem, we will compute the $\\chi^2$ statistic defined as\n",
      "\n",
      "\n",
      "\n",
      "and the corresponding $p$-value of this distribution.\n",
      "\n",
      "I summarized the number of flight cancellations in the following array:"
     ]
    },
    {
     "cell_type": "code",
     "collapsed": false,
     "input": [
      "cancelled = np.array([23, 12, 10, 10, 13,  7, 12, 11, 22,  6,  6, 14])"
     ],
     "language": "python",
     "metadata": {},
     "outputs": [],
     "prompt_number": 2
    },
    {
     "cell_type": "markdown",
     "metadata": {},
     "source": [
      "I will break down each step in separate functions to make sure you know\n",
      "  how to calculate $\\chi^2$. But note that you would normally combine\n",
      "  all the steps in a single function.\n",
      "  Also note that there's a SciPy function\n",
      "  that does this for you:\n",
      "  [`scipy.stats.chisquare()`](http://docs.scipy.org/doc/scipy-0.14.0/reference/generated/scipy.stats.chisquare.html).\n",
      "  You may **not** use this function to write your code, but you can use it to check your answer.\n",
      "  \n",
      "The $\\chi^2$ test is covered in Section 7.7 of *Think Stats*.\n",
      "\n",
      "First, we define the cells to be the twelve months of the year.\n",
      "\n",
      "### get\\_expected()\n",
      "\n",
      "Second, write a function named `get_expected()` that takes a Numpy array\n",
      "  and returns a Numpy array with the number of flight cancellations\n",
      "  expected under the *null hypothesis*.\n",
      "  Under the null hypothesis, we expect a uniform distribution,\n",
      "  i.e. the same number of flight cancellations in each month.\n",
      "  However, we also want our function to handle different types of data,\n",
      "  so do not simply add up all the numbers and divide by 12.\n",
      "  Instead, you should use the length of the array.\n",
      "  For example, if the input array is `np.array([1.0, 2.0, 3.0, 4.0, 5.0]`, the `get_expected()`\n",
      "  should return `np.array([3.0, 3.0, 3.0, 3.0, 3.0])`."
     ]
    },
    {
     "cell_type": "code",
     "collapsed": false,
     "input": [
      "def get_expected(x):\n",
      "    '''\n",
      "    Takes a Numpy array and returns a Numpy array of the same length\n",
      "    that represents the expected values (uniform distribution).\n",
      "    \n",
      "    Parameters\n",
      "    ----------\n",
      "    x: A Numpy array.\n",
      "    \n",
      "    Returns\n",
      "    -------\n",
      "    A Numpy array of the same length as x.\n",
      "    \n",
      "    Example\n",
      "    -------\n",
      "    >>> import numpy as np\n",
      "    >>> x = get_expected([1., 2.])\n",
      "    >>> x = get_expected(np.array([2., 1., 3., 4.]))\n",
      "    >>> x\n",
      "    array([ 2.5,  2.5,  2.5,  2.5])\n",
      "    '''\n",
      "    \n",
      "    # your code goes here\n",
      "    \n",
      "    return expected"
     ],
     "language": "python",
     "metadata": {},
     "outputs": []
    },
    {
     "cell_type": "markdown",
     "metadata": {},
     "source": [
      "### get\\_diff()\n",
      "\n",
      "Next, write a function named `get_diff()` that takes two Numpy arrays,\n",
      "   an array of the observed values and an array of the expected values.\n",
      "   For each cell, the funtion calculates the difference between the observed value $O_i$ and the expected value $E_i$.\n",
      "   Thus, it should return a Numpy array of $O_i$ - $E_i$."
     ]
    },
    {
     "cell_type": "code",
     "collapsed": false,
     "input": [
      "def get_diff(observed, expected):\n",
      "    '''\n",
      "    Takes two Numpy arrays, the observed values and the expected values,\n",
      "    and returns a Numpy array of the differences.\n",
      "    \n",
      "    Parameters\n",
      "    ----------\n",
      "    observed: A Numpy array.\n",
      "    expected: A Numpy array.\n",
      "    \n",
      "    Returns\n",
      "    -------\n",
      "    A Numpy array.\n",
      "    \n",
      "    Example\n",
      "    -------\n",
      "    >>> import numpy as np\n",
      "    >>> x = np.array([2., 4., 6.])\n",
      "    >>> y = np.array([3., 6., 9.])\n",
      "    >>> z = get_diff(x, y)\n",
      "    >>> z\n",
      "    array([-1., -2., -3.])\n",
      "    '''\n",
      "    \n",
      "    # your code goes here\n",
      "\n",
      "    return diff"
     ],
     "language": "python",
     "metadata": {},
     "outputs": []
    },
    {
     "cell_type": "markdown",
     "metadata": {},
     "source": [
      "### get_chi2()\n",
      "\n",
      "Next, write a function named `get_chi2()` that takes two Numpy arrays,\n",
      "  an array of the difference between the observed values and the expected values\n",
      "  and an array of the expected values.\n",
      "  It should return a single float that represents the $\\chi^2$ statistic."
     ]
    },
    {
     "cell_type": "code",
     "collapsed": false,
     "input": [
      "def get_chi2(diff, expected):\n",
      "    '''\n",
      "    Takes O - E and computes chi-squared.\n",
      "    \n",
      "    Parameters\n",
      "    ----------\n",
      "    diff: A Numpy array. O - E\n",
      "    expected: A numpy array. E\n",
      "    \n",
      "    Returns\n",
      "    -------\n",
      "    A float. The chi-squared value.\n",
      "    \n",
      "    Example\n",
      "    -------\n",
      "    >>> import numpy as np\n",
      "    >>> x = np.array([1., 2., 3.])\n",
      "    >>> y = np.array([1., 2., 3.])\n",
      "    >>> z = get_chi2(x, y)\n",
      "    >>> z\n",
      "    6.0\n",
      "    '''\n",
      "    \n",
      "    # your code goes here\n",
      "    \n",
      "    return chi2"
     ],
     "language": "python",
     "metadata": {},
     "outputs": []
    },
    {
     "cell_type": "markdown",
     "metadata": {},
     "source": [
      "### get\\_p\\_value()\n",
      "\n",
      "Finally, write a function named `get_p_value()` that takes two arguments,\n",
      "  the $\\chi^2$ value (a float) and a degree of freedom (an int).\n",
      "  The $p$-value can easily be calculated by using\n",
      "  [scipy.stats.chi2.cdf()](http://docs.scipy.org/doc/scipy/reference/generated/scipy.stats.chi2.html).\n",
      "  The $p$-value is given simply by 1 minus the CDF of the $\\chi^2$ distribution\n",
      "  (See [Chi-squared distribution](http://en.wikipedia.org/wiki/Chi-squared_distribution)).\n",
      "  When using `scipy.stats.chi2.cdf()`, you should specify the `df` option,\n",
      "  which corresponds to the degrees of freedom.\n",
      "  The [degrees of freedom](http://en.wikipedia.org/wiki/Degrees_of_freedom_%28statistics%29)\n",
      "  is the number of cells minus 1, which in our case is 11\n",
      "  (the twelve months of the year minus 1)."
     ]
    },
    {
     "cell_type": "code",
     "collapsed": false,
     "input": [
      "def get_p_value(chi2, dof):\n",
      "    '''\n",
      "    Takes chi-squared and degrees of freedom\n",
      "    and computes the p-value.\n",
      "    \n",
      "    Parameters\n",
      "    ----------\n",
      "    chi2: A float.\n",
      "    dof: An int. Degrees of freedom.\n",
      "    \n",
      "    Returns\n",
      "    -------\n",
      "    >>> import numpy as np\n",
      "    >>> x = 1.0\n",
      "    >>> y = 2\n",
      "    >>> z = get_p_value(x, y)\n",
      "    0.60653065971263342\n",
      "    '''\n",
      "    \n",
      "    # your code goes here\n",
      "    \n",
      "    return p"
     ],
     "language": "python",
     "metadata": {},
     "outputs": []
    },
    {
     "cell_type": "markdown",
     "metadata": {},
     "source": [
      "When you run the following cell, you should get\n",
      "\n",
      "    The chi square value is 27.3 and the p-value is 4.2e-03.\n",
      "    \n",
      "That means there's a 0.4% chance that the observed pattern is due to chance.\n",
      "I think we can safely reject the null hypothesis."
     ]
    },
    {
     "cell_type": "code",
     "collapsed": false,
     "input": [
      "expected = get_expected(cancelled)\n",
      "diff = get_diff(cancelled, expected)\n",
      "chi2 = get_chi2(diff, expected)\n",
      "p = get_p_value(chi2, len(expected) - 1)\n",
      "print('The chi square value is {0:.1f} and the p-value is {1:.1e}.'.format(chi2, p))"
     ],
     "language": "python",
     "metadata": {},
     "outputs": []
    },
    {
     "cell_type": "code",
     "collapsed": false,
     "input": [],
     "language": "python",
     "metadata": {},
     "outputs": []
    }
   ],
   "metadata": {}
  }
 ]
}