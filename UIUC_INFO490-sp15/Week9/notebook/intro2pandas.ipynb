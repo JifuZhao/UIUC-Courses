{
 "metadata": {
  "name": "",
  "signature": "sha256:03372f610bc876e8556bb28a6e7960ac6d86fea4770d2ee10c273f892e0737b6"
 },
 "nbformat": 3,
 "nbformat_minor": 0,
 "worksheets": [
  {
   "cells": [
    {
     "cell_type": "markdown",
     "metadata": {},
     "source": [
      "<DIV ALIGN=CENTER>\n",
      "\n",
      "# Introduction to Pandas\n",
      "## Professor Robert J. Brunner\n",
      "  \n",
      "</DIV>  \n",
      "-----\n",
      "-----"
     ]
    },
    {
     "cell_type": "markdown",
     "metadata": {},
     "source": [
      "## Introduction\n",
      "\n",
      "One of the early criticisms of many in the data science arena of the\n",
      "Python language was the lack of useful data structures for performing\n",
      "data analysis tasks. This stemmed in part from comparisons between the R\n",
      "language and Python, since R has a built-in _DataFrame_ object that\n",
      "greatly simplified many data analysis tasks. This deficiency was\n",
      "addressed in 2008 by Wes McKinney with the creation of [Pandas][1] (the\n",
      "name was originally an abbreviation of Panel datas). To quote the Pandas\n",
      "documentation:\n",
      "\n",
      ">Python has long been great for data munging and preparation, but less\n",
      ">so for data analysis and modeling. pandas helps fill this gap, enabling\n",
      ">you to carry out your entire data analysis workflow in Python without\n",
      ">having to switch to a more domain specific language like R.\n",
      "\n",
      "Pandas introduces several new data structures like the `Series`,\n",
      "`DataFrame`, and `Panel` that build on top of existing\n",
      "tools like `numpy` to speed-up data analysis tasks. Pandas also provides\n",
      "efficient mechanisms for moving data between in memory representations\n",
      "and different data formats including CSV and text files, JSON files, SQL\n",
      "databases, HDF5 format files, and even Excel spreadsheets. Pandas also\n",
      "provides support for dealing with missing or incomplete data and\n",
      "aggregating or grouping data.\n",
      "\n",
      "-----\n",
      "[1]: http://pandas.pydata.org"
     ]
    },
    {
     "cell_type": "markdown",
     "metadata": {},
     "source": [
      "## Brief introduction to Pandas\n",
      "\n",
      "Before using Pandas, we must first import the Pandas library:\n",
      "\n",
      "    import pandas as pd\n",
      "\n",
      "Second, we simply create and use the appropriate Pandas data structure.\n",
      "The two most important data structures for typical data science tasks\n",
      "are the `Series` and the `DataFrame`:\n",
      "\n",
      "1. `Series`: a one-dimensional labeled array that can hold any data type\n",
      "such as integers, floating-point numbers, strings, or Python objects. A\n",
      "`Series` has both a data column and a label column called the _index_.\n",
      "\n",
      "2. `DataFrame`: a two-dimensional labeled data structure with columns\n",
      "that can be hold different data types, similar to a spreadsheet or\n",
      "relational database table. \n",
      "\n",
      "Pandas also provides a date/time data structure sometimes refereed to as\n",
      "a `TimeSeries` and a three-dimensional data structure known as a\n",
      "`Panel`. \n",
      "\n",
      "### `Series`\n",
      "\n",
      "A `Series` is useful to hold data that should be accesible by using a\n",
      "specific label. You create a `Series` by passing in an appropriate data\n",
      "set along with an optional index:\n",
      "\n",
      "    values = pd.Series(data, index=idx)\n",
      "\n",
      "The index varies depending on the type of data passed in to create the\n",
      "`Series:\n",
      "\n",
      "- if data is a NumPy array, the index should be the same length as the\n",
      "data array. If no index is provided one will be created that enables\n",
      "integer access that mirrors a traditional NumPy array (i.e., zero\n",
      "indexed). \n",
      "\n",
      "- if data is a Python dictionary, `idx` can contain specific labels to\n",
      "indicate which values in the dictionary should be used to create the\n",
      "`Series`. If no index is specified, an index is created from the sorted\n",
      "dictionary keys. \n",
      "\n",
      "- if data is a scalar value, an inde must be supplied. In this case, the\n",
      "scalar value will be repeated to ensure that each label in the index has\n",
      "a value in the `Series`.\n",
      "\n",
      "These different options are demonstrated in the following code cells.\n",
      "\n",
      "-----\n",
      "[df]: http://pandas.pydata.org/pandas-docs/stable/dsintro.html#dataframe"
     ]
    },
    {
     "cell_type": "code",
     "collapsed": false,
     "input": [
      "import pandas as pd\n",
      "import numpy as np\n",
      "\n",
      "# We label the random values\n",
      "s1 = pd.Series(np.random.rand(6), index=['q', 'w', 'e', 'r', 't', 'y'])\n",
      "\n",
      "print(s1)"
     ],
     "language": "python",
     "metadata": {},
     "outputs": [
      {
       "output_type": "stream",
       "stream": "stdout",
       "text": [
        "q    0.832660\n",
        "w    0.512689\n",
        "e    0.516118\n",
        "r    0.670917\n",
        "t    0.311595\n",
        "y    0.888944\n",
        "dtype: float64\n"
       ]
      }
     ],
     "prompt_number": 1
    },
    {
     "cell_type": "code",
     "collapsed": false,
     "input": [
      "d = {'q': 11, 'w': 21, 'e': 31, 'r': 41}\n",
      "\n",
      "# We pick out the q, w, and r keys, but have an undefined y key.\n",
      "s2 = pd.Series(d, index = ['q', 'w', 'r', 'y'])\n",
      "\n",
      "print(s2)"
     ],
     "language": "python",
     "metadata": {},
     "outputs": [
      {
       "output_type": "stream",
       "stream": "stdout",
       "text": [
        "q    11\n",
        "w    21\n",
        "r    41\n",
        "y   NaN\n",
        "dtype: float64\n"
       ]
      }
     ],
     "prompt_number": 2
    },
    {
     "cell_type": "code",
     "collapsed": false,
     "input": [
      "# We create a Series from an integer constant with explicit labels\n",
      "s3 = pd.Series(42, index = ['q', 'w', 'e', 'r', 't', 'y'])\n",
      "\n",
      "print(s3)\n",
      "\n",
      "print('\\nThe \"e\" value is ', s3['e'])"
     ],
     "language": "python",
     "metadata": {},
     "outputs": [
      {
       "output_type": "stream",
       "stream": "stdout",
       "text": [
        "q    42\n",
        "w    42\n",
        "e    42\n",
        "r    42\n",
        "t    42\n",
        "y    42\n",
        "dtype: int64\n",
        "\n",
        "The \"e\" value is  42\n"
       ]
      }
     ],
     "prompt_number": 3
    },
    {
     "cell_type": "code",
     "collapsed": false,
     "input": [
      "# We can slice like NumPy arrays\n",
      "\n",
      "print(s1[:-2])\n",
      "\n",
      "# We can also perform vectorized operations\n",
      "print('\\nSum Series:')\n",
      "print(s1 + s3)\n",
      "print('\\nSeries operations:')\n",
      "print(s2 * 5 - 1.2)"
     ],
     "language": "python",
     "metadata": {},
     "outputs": [
      {
       "output_type": "stream",
       "stream": "stdout",
       "text": [
        "q    0.832660\n",
        "w    0.512689\n",
        "e    0.516118\n",
        "r    0.670917\n",
        "dtype: float64\n",
        "\n",
        "Sum Series:\n",
        "q    42.832660\n",
        "w    42.512689\n",
        "e    42.516118\n",
        "r    42.670917\n",
        "t    42.311595\n",
        "y    42.888944\n",
        "dtype: float64\n",
        "\n",
        "Series operations:\n",
        "q     53.8\n",
        "w    103.8\n",
        "r    203.8\n",
        "y      NaN\n",
        "dtype: float64\n"
       ]
      }
     ],
     "prompt_number": 4
    },
    {
     "cell_type": "markdown",
     "metadata": {},
     "source": [
      "-----\n",
      "\n",
      "### `DataFrame`\n",
      "\n",
      "The second major data structure that Pandas provdis is he `DataFrame`,\n",
      "which is a two-dimensional array, where each column is effectively a\n",
      "`Series` with a shared index. A DataFrame is a very powerful data\n",
      "structure and provides a nice mapping for a number of different data\n",
      "formats (and storage mechanisms). For example, you can easily read data\n",
      "from a CSV file, a fixed width format text file, a JSOPN file, an HTML\n",
      "file, and HDF file, and a relational database into a Pandas `DataFrame`.\n",
      "This is demonstrated in the next set of code cells, where we extract\n",
      "data from files we created in the [Introduction to Data\n",
      "Formats][df] Notebook.\n",
      "\n",
      "-----\n",
      "[df]: dataformats.ipynb"
     ]
    },
    {
     "cell_type": "code",
     "collapsed": false,
     "input": [
      "# Read data from CSV file, and display subset\n",
      "\n",
      "dfa = pd.read_csv('data.csv', delimiter='|', index_col='iata')\n",
      "\n",
      "# We can grab the first five rows, and only extract the 'airport' column\n",
      "print(dfa[['airport', 'city', 'state']].head(5))"
     ],
     "language": "python",
     "metadata": {},
     "outputs": [
      {
       "output_type": "stream",
       "stream": "stdout",
       "text": [
        "                   airport              city state\n",
        "iata                                              \n",
        "00M               Thigpen        Bay Springs    MS\n",
        "00R   Livingston Municipal        Livingston    TX\n",
        "00V            Meadow Lake  Colorado Springs    CO\n",
        "01G           Perry-Warsaw             Perry    NY\n",
        "01J       Hilliard Airpark          Hilliard    FL\n"
       ]
      }
     ],
     "prompt_number": 5
    },
    {
     "cell_type": "code",
     "collapsed": false,
     "input": [
      "# Read data from our JSON file\n",
      "dfb = pd.read_json('data.json')\n",
      "\n",
      "# Grab the last five rows\n",
      "print(dfb[[0, 1, 2, 3, 5, 6]].tail(5))"
     ],
     "language": "python",
     "metadata": {},
     "outputs": [
      {
       "output_type": "stream",
       "stream": "stdout",
       "text": [
        "        0                          1            2   3            5  \\\n",
        "3372  ZEF            Elkin Municipal        Elkin  NC  36.28002361   \n",
        "3373  ZER  Schuylkill Cty/Joe Zerbey   Pottsville  PA  40.70644889   \n",
        "3374  ZPH      Zephyrhills Municipal  Zephyrhills  FL  28.22806472   \n",
        "3375  ZUN                 Black Rock         Zuni  NM  35.08322694   \n",
        "3376  ZZV       Zanesville Municipal   Zanesville  OH  39.94445833   \n",
        "\n",
        "                 6  \n",
        "3372  -80.78606861  \n",
        "3373  -76.37314667  \n",
        "3374  -82.15591639  \n",
        "3375  -108.7917769  \n",
        "3376  -81.89210528  \n"
       ]
      }
     ],
     "prompt_number": 6
    },
    {
     "cell_type": "markdown",
     "metadata": {},
     "source": [
      "-----\n",
      "\n",
      "In the previous code cells, we read data first from a delimiter\n",
      "separated value file and second from a JSON file into a Pandas\n",
      "`DataFrame`. In each code cell, we display data contained in the new\n",
      "DataFrame, first by using the `head` method to display the first few\n",
      "rows, and second by using the `tail` method to display the last few\n",
      "lines. For the delimiter separated value file, we explicitly specified\n",
      "the delimiter, which is a vertical bar `|`, the default is to assume a\n",
      "comma as the delimiter. We also explicitly specify the `iata` column\n",
      "should be used as the index column, which is how we can refer to rows in\n",
      "the array. \n",
      "\n",
      "We also explicitly select columns for display in both code cells. In the\n",
      "first code cell, we explicitly name the columns, passing in a list of\n",
      "the names to the DataFrame. Alternatively, in the second code cell, we\n",
      "pass in a list of the column ids, which we must do since we did not\n",
      "create named columns when reading data from the JSON file. The list of\n",
      "integers can be used even if the columns of the array have been assigned\n",
      "names.\n",
      "\n",
      "Pandas includes a tremendous amount of functionality, especially for\n",
      "the `DataFrame`, to learn more, view the [detailed documentation][pdd].\n",
      "Several useful functions are demonstrated below, however, including\n",
      "information summaries, slicing, and column operations on DataFrames.\n",
      "\n",
      "-----\n",
      "\n",
      "[pdd]: http://pandas.pydata.org/pandas-docs/stable/dsintro.html#dataframe"
     ]
    },
    {
     "cell_type": "code",
     "collapsed": false,
     "input": [
      "# Lets look at the datatypes of each column\n",
      "dfa.dtypes"
     ],
     "language": "python",
     "metadata": {},
     "outputs": [
      {
       "metadata": {},
       "output_type": "pyout",
       "prompt_number": 7,
       "text": [
        "airport     object\n",
        "city        object\n",
        "state       object\n",
        "country     object\n",
        "lat        float64\n",
        "long       float64\n",
        "dtype: object"
       ]
      }
     ],
     "prompt_number": 7
    },
    {
     "cell_type": "code",
     "collapsed": false,
     "input": [
      "# We can get a summary of numerical information in the dataframe\n",
      "\n",
      "dfa.describe()"
     ],
     "language": "python",
     "metadata": {},
     "outputs": [
      {
       "html": [
        "<div style=\"max-height:1000px;max-width:1500px;overflow:auto;\">\n",
        "<table border=\"1\" class=\"dataframe\">\n",
        "  <thead>\n",
        "    <tr style=\"text-align: right;\">\n",
        "      <th></th>\n",
        "      <th>lat</th>\n",
        "      <th>long</th>\n",
        "    </tr>\n",
        "  </thead>\n",
        "  <tbody>\n",
        "    <tr>\n",
        "      <th>count</th>\n",
        "      <td> 3376.000000</td>\n",
        "      <td> 3376.000000</td>\n",
        "    </tr>\n",
        "    <tr>\n",
        "      <th>mean</th>\n",
        "      <td>   40.036524</td>\n",
        "      <td>  -98.621205</td>\n",
        "    </tr>\n",
        "    <tr>\n",
        "      <th>std</th>\n",
        "      <td>    8.329559</td>\n",
        "      <td>   22.869458</td>\n",
        "    </tr>\n",
        "    <tr>\n",
        "      <th>min</th>\n",
        "      <td>    7.367222</td>\n",
        "      <td> -176.646031</td>\n",
        "    </tr>\n",
        "    <tr>\n",
        "      <th>25%</th>\n",
        "      <td>   34.688427</td>\n",
        "      <td> -108.761121</td>\n",
        "    </tr>\n",
        "    <tr>\n",
        "      <th>50%</th>\n",
        "      <td>   39.434449</td>\n",
        "      <td>  -93.599425</td>\n",
        "    </tr>\n",
        "    <tr>\n",
        "      <th>75%</th>\n",
        "      <td>   43.372612</td>\n",
        "      <td>  -84.137519</td>\n",
        "    </tr>\n",
        "    <tr>\n",
        "      <th>max</th>\n",
        "      <td>   71.285448</td>\n",
        "      <td>  145.621384</td>\n",
        "    </tr>\n",
        "  </tbody>\n",
        "</table>\n",
        "</div>"
       ],
       "metadata": {},
       "output_type": "pyout",
       "prompt_number": 8,
       "text": [
        "               lat         long\n",
        "count  3376.000000  3376.000000\n",
        "mean     40.036524   -98.621205\n",
        "std       8.329559    22.869458\n",
        "min       7.367222  -176.646031\n",
        "25%      34.688427  -108.761121\n",
        "50%      39.434449   -93.599425\n",
        "75%      43.372612   -84.137519\n",
        "max      71.285448   145.621384"
       ]
      }
     ],
     "prompt_number": 8
    },
    {
     "cell_type": "code",
     "collapsed": false,
     "input": [
      "# Notice the JSON data did not automatically specify data types\n",
      "dfb.dtypes"
     ],
     "language": "python",
     "metadata": {},
     "outputs": [
      {
       "metadata": {},
       "output_type": "pyout",
       "prompt_number": 9,
       "text": [
        "0    object\n",
        "1    object\n",
        "2    object\n",
        "3    object\n",
        "4    object\n",
        "5    object\n",
        "6    object\n",
        "dtype: object"
       ]
      }
     ],
     "prompt_number": 9
    },
    {
     "cell_type": "code",
     "collapsed": false,
     "input": [
      "# This affects the output of the describe method, dfb has no numerical data types.\n",
      "\n",
      "dfb.describe()"
     ],
     "language": "python",
     "metadata": {},
     "outputs": [
      {
       "html": [
        "<div style=\"max-height:1000px;max-width:1500px;overflow:auto;\">\n",
        "<table border=\"1\" class=\"dataframe\">\n",
        "  <thead>\n",
        "    <tr style=\"text-align: right;\">\n",
        "      <th></th>\n",
        "      <th>0</th>\n",
        "      <th>1</th>\n",
        "      <th>2</th>\n",
        "      <th>3</th>\n",
        "      <th>4</th>\n",
        "      <th>5</th>\n",
        "      <th>6</th>\n",
        "    </tr>\n",
        "  </thead>\n",
        "  <tbody>\n",
        "    <tr>\n",
        "      <th>count</th>\n",
        "      <td> 3377</td>\n",
        "      <td>           3377</td>\n",
        "      <td> 3377</td>\n",
        "      <td> 3377</td>\n",
        "      <td> 3377</td>\n",
        "      <td>        3377</td>\n",
        "      <td>         3377</td>\n",
        "    </tr>\n",
        "    <tr>\n",
        "      <th>unique</th>\n",
        "      <td> 3377</td>\n",
        "      <td>           3246</td>\n",
        "      <td> 2677</td>\n",
        "      <td>   58</td>\n",
        "      <td>    6</td>\n",
        "      <td>        3376</td>\n",
        "      <td>         3376</td>\n",
        "    </tr>\n",
        "    <tr>\n",
        "      <th>top</th>\n",
        "      <td>  KLG</td>\n",
        "      <td> Jackson County</td>\n",
        "      <td>   NA</td>\n",
        "      <td>   AK</td>\n",
        "      <td>  USA</td>\n",
        "      <td> 41.61033333</td>\n",
        "      <td> -88.91561611</td>\n",
        "    </tr>\n",
        "    <tr>\n",
        "      <th>freq</th>\n",
        "      <td>    1</td>\n",
        "      <td>              5</td>\n",
        "      <td>   12</td>\n",
        "      <td>  263</td>\n",
        "      <td> 3372</td>\n",
        "      <td>           2</td>\n",
        "      <td>            2</td>\n",
        "    </tr>\n",
        "  </tbody>\n",
        "</table>\n",
        "</div>"
       ],
       "metadata": {},
       "output_type": "pyout",
       "prompt_number": 10,
       "text": [
        "           0               1     2     3     4            5             6\n",
        "count   3377            3377  3377  3377  3377         3377          3377\n",
        "unique  3377            3246  2677    58     6         3376          3376\n",
        "top      KLG  Jackson County    NA    AK   USA  41.61033333  -88.91561611\n",
        "freq       1               5    12   263  3372            2             2"
       ]
      }
     ],
     "prompt_number": 10
    },
    {
     "cell_type": "code",
     "collapsed": false,
     "input": [
      "# We can slice out rows using the indicated index for dfa\n",
      "\n",
      "print(dfa.loc[['00V', '11R', '12C']])"
     ],
     "language": "python",
     "metadata": {},
     "outputs": [
      {
       "output_type": "stream",
       "stream": "stdout",
       "text": [
        "                airport              city state country        lat        long\n",
        "00V         Meadow Lake  Colorado Springs    CO     USA  38.945749 -104.569893\n",
        "11R   Brenham Municipal           Brenham    TX     USA  30.219000  -96.374278\n",
        "12C  Rochelle Municipal          Rochelle    IL     USA  41.893001  -89.078290\n"
       ]
      }
     ],
     "prompt_number": 11
    },
    {
     "cell_type": "code",
     "collapsed": false,
     "input": [
      "# We can slice out rows using the row index for dfb\n",
      "print(dfb[100:105])"
     ],
     "language": "python",
     "metadata": {},
     "outputs": [
      {
       "output_type": "stream",
       "stream": "stdout",
       "text": [
        "       0                   1         2   3    4            5             6\n",
        "100  11J        Early County   Blakely  GA  USA  31.39698611  -84.89525694\n",
        "101  11R   Brenham Municipal   Brenham  TX  USA       30.219  -96.37427778\n",
        "102  12C  Rochelle Municipal  Rochelle  IL  USA  41.89300139     -89.07829\n",
        "103  12D     Tower Municipal     Tower  MN  USA  47.81833333  -92.29166667\n",
        "104  12J   Brewton Municipal   Brewton  AL  USA  31.05126306  -87.06796833\n"
       ]
      }
     ],
     "prompt_number": 12
    },
    {
     "cell_type": "code",
     "collapsed": false,
     "input": [
      "# We can also select rows based on boolean tests on columns\n",
      "print(dfa[(dfa.lat > 48) & (dfa.long < -170)])"
     ],
     "language": "python",
     "metadata": {},
     "outputs": [
      {
       "output_type": "stream",
       "stream": "stdout",
       "text": [
        "       airport      city state country        lat        long\n",
        "iata                                                         \n",
        "ADK       Adak      Adak    AK     USA  51.877964 -176.646031\n",
        "AKA       Atka      Atka    AK     USA  52.220348 -174.206350\n",
        "GAM    Gambell   Gambell    AK     USA  63.766766 -171.732824\n",
        "SNP   St. Paul  St. Paul    AK     USA  57.167333 -170.220444\n",
        "SVA   Savoonga  Savoonga    AK     USA  63.686394 -170.492636\n"
       ]
      }
     ],
     "prompt_number": 13
    },
    {
     "cell_type": "markdown",
     "metadata": {},
     "source": [
      "-----\n",
      "\n",
      "We can also perform numerical operations on a `DataFrame`, just as was the\n",
      "case with NumPy arrays. To demonstrate this, we create a numerical\n",
      "DataFrame, apply different operations, and view the results.\n",
      "\n",
      "-----"
     ]
    },
    {
     "cell_type": "code",
     "collapsed": false,
     "input": [
      "df = pd.DataFrame(np.random.randn(5, 6))\n",
      "\n",
      "print(df)"
     ],
     "language": "python",
     "metadata": {},
     "outputs": [
      {
       "output_type": "stream",
       "stream": "stdout",
       "text": [
        "          0         1         2         3         4         5\n",
        "0  0.504598 -1.761699  0.485144  1.424999 -0.732168  1.917617\n",
        "1  0.069418 -1.599813 -0.911061 -0.208813  0.212493 -0.943686\n",
        "2  0.487085  0.967983  1.073010 -0.726211  0.965202 -1.327939\n",
        "3 -0.775296  0.043955 -0.734958 -0.257474  0.741533  1.819673\n",
        "4 -0.944408  0.070267  0.167863  0.837726  0.195545  0.475303\n"
       ]
      }
     ],
     "prompt_number": 14
    },
    {
     "cell_type": "code",
     "collapsed": false,
     "input": [
      "# We can incorporate operate with basic scalar values\n",
      "\n",
      "df + 2.5"
     ],
     "language": "python",
     "metadata": {},
     "outputs": [
      {
       "html": [
        "<div style=\"max-height:1000px;max-width:1500px;overflow:auto;\">\n",
        "<table border=\"1\" class=\"dataframe\">\n",
        "  <thead>\n",
        "    <tr style=\"text-align: right;\">\n",
        "      <th></th>\n",
        "      <th>0</th>\n",
        "      <th>1</th>\n",
        "      <th>2</th>\n",
        "      <th>3</th>\n",
        "      <th>4</th>\n",
        "      <th>5</th>\n",
        "    </tr>\n",
        "  </thead>\n",
        "  <tbody>\n",
        "    <tr>\n",
        "      <th>0</th>\n",
        "      <td> 3.004598</td>\n",
        "      <td> 0.738301</td>\n",
        "      <td> 2.985144</td>\n",
        "      <td> 3.924999</td>\n",
        "      <td> 1.767832</td>\n",
        "      <td> 4.417617</td>\n",
        "    </tr>\n",
        "    <tr>\n",
        "      <th>1</th>\n",
        "      <td> 2.569418</td>\n",
        "      <td> 0.900187</td>\n",
        "      <td> 1.588939</td>\n",
        "      <td> 2.291187</td>\n",
        "      <td> 2.712493</td>\n",
        "      <td> 1.556314</td>\n",
        "    </tr>\n",
        "    <tr>\n",
        "      <th>2</th>\n",
        "      <td> 2.987085</td>\n",
        "      <td> 3.467983</td>\n",
        "      <td> 3.573010</td>\n",
        "      <td> 1.773789</td>\n",
        "      <td> 3.465202</td>\n",
        "      <td> 1.172061</td>\n",
        "    </tr>\n",
        "    <tr>\n",
        "      <th>3</th>\n",
        "      <td> 1.724704</td>\n",
        "      <td> 2.543955</td>\n",
        "      <td> 1.765042</td>\n",
        "      <td> 2.242526</td>\n",
        "      <td> 3.241533</td>\n",
        "      <td> 4.319673</td>\n",
        "    </tr>\n",
        "    <tr>\n",
        "      <th>4</th>\n",
        "      <td> 1.555592</td>\n",
        "      <td> 2.570267</td>\n",
        "      <td> 2.667863</td>\n",
        "      <td> 3.337726</td>\n",
        "      <td> 2.695545</td>\n",
        "      <td> 2.975303</td>\n",
        "    </tr>\n",
        "  </tbody>\n",
        "</table>\n",
        "</div>"
       ],
       "metadata": {},
       "output_type": "pyout",
       "prompt_number": 15,
       "text": [
        "          0         1         2         3         4         5\n",
        "0  3.004598  0.738301  2.985144  3.924999  1.767832  4.417617\n",
        "1  2.569418  0.900187  1.588939  2.291187  2.712493  1.556314\n",
        "2  2.987085  3.467983  3.573010  1.773789  3.465202  1.172061\n",
        "3  1.724704  2.543955  1.765042  2.242526  3.241533  4.319673\n",
        "4  1.555592  2.570267  2.667863  3.337726  2.695545  2.975303"
       ]
      }
     ],
     "prompt_number": 15
    },
    {
     "cell_type": "code",
     "collapsed": false,
     "input": [
      "# And perform more complex scalar operations\n",
      "\n",
      "-1.0 * df + 3.5"
     ],
     "language": "python",
     "metadata": {},
     "outputs": [
      {
       "html": [
        "<div style=\"max-height:1000px;max-width:1500px;overflow:auto;\">\n",
        "<table border=\"1\" class=\"dataframe\">\n",
        "  <thead>\n",
        "    <tr style=\"text-align: right;\">\n",
        "      <th></th>\n",
        "      <th>0</th>\n",
        "      <th>1</th>\n",
        "      <th>2</th>\n",
        "      <th>3</th>\n",
        "      <th>4</th>\n",
        "      <th>5</th>\n",
        "    </tr>\n",
        "  </thead>\n",
        "  <tbody>\n",
        "    <tr>\n",
        "      <th>0</th>\n",
        "      <td> 2.995402</td>\n",
        "      <td> 5.261699</td>\n",
        "      <td> 3.014856</td>\n",
        "      <td> 2.075001</td>\n",
        "      <td> 4.232168</td>\n",
        "      <td> 1.582383</td>\n",
        "    </tr>\n",
        "    <tr>\n",
        "      <th>1</th>\n",
        "      <td> 3.430582</td>\n",
        "      <td> 5.099813</td>\n",
        "      <td> 4.411061</td>\n",
        "      <td> 3.708813</td>\n",
        "      <td> 3.287507</td>\n",
        "      <td> 4.443686</td>\n",
        "    </tr>\n",
        "    <tr>\n",
        "      <th>2</th>\n",
        "      <td> 3.012915</td>\n",
        "      <td> 2.532017</td>\n",
        "      <td> 2.426990</td>\n",
        "      <td> 4.226211</td>\n",
        "      <td> 2.534798</td>\n",
        "      <td> 4.827939</td>\n",
        "    </tr>\n",
        "    <tr>\n",
        "      <th>3</th>\n",
        "      <td> 4.275296</td>\n",
        "      <td> 3.456045</td>\n",
        "      <td> 4.234958</td>\n",
        "      <td> 3.757474</td>\n",
        "      <td> 2.758467</td>\n",
        "      <td> 1.680327</td>\n",
        "    </tr>\n",
        "    <tr>\n",
        "      <th>4</th>\n",
        "      <td> 4.444408</td>\n",
        "      <td> 3.429733</td>\n",
        "      <td> 3.332137</td>\n",
        "      <td> 2.662274</td>\n",
        "      <td> 3.304455</td>\n",
        "      <td> 3.024697</td>\n",
        "    </tr>\n",
        "  </tbody>\n",
        "</table>\n",
        "</div>"
       ],
       "metadata": {},
       "output_type": "pyout",
       "prompt_number": 16,
       "text": [
        "          0         1         2         3         4         5\n",
        "0  2.995402  5.261699  3.014856  2.075001  4.232168  1.582383\n",
        "1  3.430582  5.099813  4.411061  3.708813  3.287507  4.443686\n",
        "2  3.012915  2.532017  2.426990  4.226211  2.534798  4.827939\n",
        "3  4.275296  3.456045  4.234958  3.757474  2.758467  1.680327\n",
        "4  4.444408  3.429733  3.332137  2.662274  3.304455  3.024697"
       ]
      }
     ],
     "prompt_number": 16
    },
    {
     "cell_type": "code",
     "collapsed": false,
     "input": [
      "# We can also apply vectorized functions\n",
      "\n",
      "np.sin(df)"
     ],
     "language": "python",
     "metadata": {},
     "outputs": [
      {
       "html": [
        "<div style=\"max-height:1000px;max-width:1500px;overflow:auto;\">\n",
        "<table border=\"1\" class=\"dataframe\">\n",
        "  <thead>\n",
        "    <tr style=\"text-align: right;\">\n",
        "      <th></th>\n",
        "      <th>0</th>\n",
        "      <th>1</th>\n",
        "      <th>2</th>\n",
        "      <th>3</th>\n",
        "      <th>4</th>\n",
        "      <th>5</th>\n",
        "    </tr>\n",
        "  </thead>\n",
        "  <tbody>\n",
        "    <tr>\n",
        "      <th>0</th>\n",
        "      <td> 0.483455</td>\n",
        "      <td>-0.981833</td>\n",
        "      <td> 0.466336</td>\n",
        "      <td> 0.989390</td>\n",
        "      <td>-0.668483</td>\n",
        "      <td> 0.940458</td>\n",
        "    </tr>\n",
        "    <tr>\n",
        "      <th>1</th>\n",
        "      <td> 0.069362</td>\n",
        "      <td>-0.999579</td>\n",
        "      <td>-0.790154</td>\n",
        "      <td>-0.207299</td>\n",
        "      <td> 0.210898</td>\n",
        "      <td>-0.809726</td>\n",
        "    </tr>\n",
        "    <tr>\n",
        "      <th>2</th>\n",
        "      <td> 0.468052</td>\n",
        "      <td> 0.823744</td>\n",
        "      <td> 0.878642</td>\n",
        "      <td>-0.664042</td>\n",
        "      <td> 0.822164</td>\n",
        "      <td>-0.970655</td>\n",
        "    </tr>\n",
        "    <tr>\n",
        "      <th>3</th>\n",
        "      <td>-0.699928</td>\n",
        "      <td> 0.043940</td>\n",
        "      <td>-0.670556</td>\n",
        "      <td>-0.254639</td>\n",
        "      <td> 0.675419</td>\n",
        "      <td> 0.969190</td>\n",
        "    </tr>\n",
        "    <tr>\n",
        "      <th>4</th>\n",
        "      <td>-0.810150</td>\n",
        "      <td> 0.070209</td>\n",
        "      <td> 0.167076</td>\n",
        "      <td> 0.743123</td>\n",
        "      <td> 0.194301</td>\n",
        "      <td> 0.457608</td>\n",
        "    </tr>\n",
        "  </tbody>\n",
        "</table>\n",
        "</div>"
       ],
       "metadata": {},
       "output_type": "pyout",
       "prompt_number": 17,
       "text": [
        "          0         1         2         3         4         5\n",
        "0  0.483455 -0.981833  0.466336  0.989390 -0.668483  0.940458\n",
        "1  0.069362 -0.999579 -0.790154 -0.207299  0.210898 -0.809726\n",
        "2  0.468052  0.823744  0.878642 -0.664042  0.822164 -0.970655\n",
        "3 -0.699928  0.043940 -0.670556 -0.254639  0.675419  0.969190\n",
        "4 -0.810150  0.070209  0.167076  0.743123  0.194301  0.457608"
       ]
      }
     ],
     "prompt_number": 17
    },
    {
     "cell_type": "code",
     "collapsed": false,
     "input": [
      "# We can tranpose the dataframe\n",
      "\n",
      "df.T"
     ],
     "language": "python",
     "metadata": {},
     "outputs": [
      {
       "html": [
        "<div style=\"max-height:1000px;max-width:1500px;overflow:auto;\">\n",
        "<table border=\"1\" class=\"dataframe\">\n",
        "  <thead>\n",
        "    <tr style=\"text-align: right;\">\n",
        "      <th></th>\n",
        "      <th>0</th>\n",
        "      <th>1</th>\n",
        "      <th>2</th>\n",
        "      <th>3</th>\n",
        "      <th>4</th>\n",
        "    </tr>\n",
        "  </thead>\n",
        "  <tbody>\n",
        "    <tr>\n",
        "      <th>0</th>\n",
        "      <td> 0.504598</td>\n",
        "      <td> 0.069418</td>\n",
        "      <td> 0.487085</td>\n",
        "      <td>-0.775296</td>\n",
        "      <td>-0.944408</td>\n",
        "    </tr>\n",
        "    <tr>\n",
        "      <th>1</th>\n",
        "      <td>-1.761699</td>\n",
        "      <td>-1.599813</td>\n",
        "      <td> 0.967983</td>\n",
        "      <td> 0.043955</td>\n",
        "      <td> 0.070267</td>\n",
        "    </tr>\n",
        "    <tr>\n",
        "      <th>2</th>\n",
        "      <td> 0.485144</td>\n",
        "      <td>-0.911061</td>\n",
        "      <td> 1.073010</td>\n",
        "      <td>-0.734958</td>\n",
        "      <td> 0.167863</td>\n",
        "    </tr>\n",
        "    <tr>\n",
        "      <th>3</th>\n",
        "      <td> 1.424999</td>\n",
        "      <td>-0.208813</td>\n",
        "      <td>-0.726211</td>\n",
        "      <td>-0.257474</td>\n",
        "      <td> 0.837726</td>\n",
        "    </tr>\n",
        "    <tr>\n",
        "      <th>4</th>\n",
        "      <td>-0.732168</td>\n",
        "      <td> 0.212493</td>\n",
        "      <td> 0.965202</td>\n",
        "      <td> 0.741533</td>\n",
        "      <td> 0.195545</td>\n",
        "    </tr>\n",
        "    <tr>\n",
        "      <th>5</th>\n",
        "      <td> 1.917617</td>\n",
        "      <td>-0.943686</td>\n",
        "      <td>-1.327939</td>\n",
        "      <td> 1.819673</td>\n",
        "      <td> 0.475303</td>\n",
        "    </tr>\n",
        "  </tbody>\n",
        "</table>\n",
        "</div>"
       ],
       "metadata": {},
       "output_type": "pyout",
       "prompt_number": 18,
       "text": [
        "          0         1         2         3         4\n",
        "0  0.504598  0.069418  0.487085 -0.775296 -0.944408\n",
        "1 -1.761699 -1.599813  0.967983  0.043955  0.070267\n",
        "2  0.485144 -0.911061  1.073010 -0.734958  0.167863\n",
        "3  1.424999 -0.208813 -0.726211 -0.257474  0.837726\n",
        "4 -0.732168  0.212493  0.965202  0.741533  0.195545\n",
        "5  1.917617 -0.943686 -1.327939  1.819673  0.475303"
       ]
      }
     ],
     "prompt_number": 18
    },
    {
     "cell_type": "markdown",
     "metadata": {},
     "source": [
      "-----\n",
      "\n",
      "The above description merely scratchs the surface of what you can do\n",
      "with a Pandas `Series` or a `DataFrame`. The best way to learn how to\n",
      "effectively use these data structures is to just do it!\n",
      "\n",
      "We now will change gears and explore how to use Pandas with a relational \n",
      "database.\n",
      "\n",
      "-----"
     ]
    },
    {
     "cell_type": "markdown",
     "metadata": {},
     "source": [
      "### Additional References\n",
      "\n",
      "1. [Pandas Documentation][pdd]\n",
      "2. A slightly dated Pandas [tutorial][pdt]\n",
      "-----\n",
      "\n",
      "[pdd]: http://pandas.pydata.org/pandas-docs/stable/index.html\n",
      "[pdt]: http://www.gregreda.com/2013/10/26/intro-to-pandas-data-structures/"
     ]
    }
   ],
   "metadata": {}
  }
 ]
}