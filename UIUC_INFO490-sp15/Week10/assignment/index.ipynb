{
 "metadata": {
  "name": "",
  "signature": "sha256:2943a9d577dd651c0713e4bf0445d74606502e433c8509ee136d995acbd50365"
 },
 "nbformat": 3,
 "nbformat_minor": 0,
 "worksheets": [
  {
   "cells": [
    {
     "cell_type": "markdown",
     "metadata": {},
     "source": [
      "\n",
      "<DIV ALIGN=CENTER>\n",
      "\n",
      "# Introduction to Data Science  \n",
      "## University of Illinois\n",
      "## Robert J. Brunner  \n",
      "## Spring 2015  \n",
      "  \n",
      "</DIV>  \n",
      "-----\n",
      "-----"
     ]
    },
    {
     "cell_type": "markdown",
     "metadata": {},
     "source": [
      "## Week 10: Introduction to Data Persistence\n",
      " \n",
      "Firs, we will learn about different data persistence technologies including simple files, before discusssing database management software including relational database systems. Next, we introduce the SQLite database, before moving on to a discussion of SQL and how to create a relational database for the example airline data.\n",
      "\n",
      "### Topic 1: [Intrdouction to Databases][1]\n",
      "\n",
      "Learn about databases. And SQLite.\n",
      "\n",
      "### Topic 2: [Introduction to SQL DDL][2]\n",
      "\n",
      "Learn SQL DDL, by using SQLite.\n",
      "\n",
      "### Topic 3: [Introduction to SQL DML][3]\n",
      "\n",
      "Learn SQL DML, by using SQLite.\n",
      "\n",
      "\n",
      "-----\n",
      "\n",
      "[1]: intro2db.ipynb\n",
      "[2]: intro2sqlddl.ipynb\n",
      "[3]: intro2sqldml.ipynb"
     ]
    }
   ],
   "metadata": {}
  }
 ]
}
