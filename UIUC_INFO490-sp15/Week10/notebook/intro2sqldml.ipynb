{
 "metadata": {
  "name": "",
  "signature": "sha256:0fffe4793b0b481c1bf625aae04e032977c788abb008dd20461c365f5e1c4ce8"
 },
 "nbformat": 3,
 "nbformat_minor": 0,
 "worksheets": [
  {
   "cells": [
    {
     "cell_type": "markdown",
     "metadata": {},
     "source": [
      "<DIV ALIGN=CENTER>\n",
      "\n",
      "# Introduction to SQL Data Manipulation Language\n",
      "## Professor Robert J. Brunner\n",
      "  \n",
      "</DIV>  \n",
      "-----\n",
      "-----"
     ]
    },
    {
     "cell_type": "markdown",
     "metadata": {},
     "source": [
      "## Introduction \n",
      "\n",
      "In this lesson, we focus on the basic task of manipulating data in relational database\n",
      "management systems by using SQL DML. In this Notebook we will expand on our use of the SQLite\n",
      "database to build and query a fictitious database. We will cover inserting data into tables, creating and executing queries, and finishing with updating and deleting data.\n",
      "\n",
      "-----"
     ]
    },
    {
     "cell_type": "markdown",
     "metadata": {},
     "source": [
      "### INSERT\n",
      "\n",
      "One of the most important tasks when you're building a database\n",
      "application is inserting data into the database. It doesn't matter how\n",
      "good the database software is-if you put bad data in a database, nothing\n",
      "else matters. There are several different ways to insert data into a\n",
      "database, but the rest of this lesson focuses on inserting data into a\n",
      "SQLite database by using the SQL INSERT statement.\n",
      "\n",
      "Before you can insert data into a SQLite database using the SQL INSERT\n",
      "statement, you must know how to properly use this statement. The full\n",
      "syntax for the SQL INSERT statement is\n",
      "\n",
      "```\n",
      "INSERT INTO table-Name\n",
      "    [ (Simple-column-Name [ , Simple-column-Name]* ) ]\n",
      "\t  Expression\n",
      "```\n",
      "\n",
      "which should seem familiar. As discussed previously, the square brackets\n",
      "([]) enclose optional parameters. The only component whose purpose isn't\n",
      "immediately clear is _Expression_; but how complex can that simple\n",
      "phrase be? Of course, appearances can be deceiving; the Expression term\n",
      "can expand to one of four different structures:\n",
      "\n",
      "- a single-row VALUES list\n",
      "- a multiple-row VALUES list\n",
      "- a SELECT expression\n",
      "- a UNION expression\n",
      "\n",
      "Of these, the last two are beyond the scope of this lesson. The first\n",
      "two are similar; the only difference is that the first form inserts one\n",
      "row into a table, whereas the latter form inserts multiple rows into a\n",
      "table.\n",
      "\n",
      "You can use the optional part of the SQL INSERT statement to specify the\n",
      "column order of the values being inserted into the table. By default,\n",
      "data is inserted into a table's columns in the same order that the\n",
      "columns were listed when the table was created. Sometimes you may want\n",
      "to change this order or perhaps only specify values for columns that\n",
      "have NOT NULL constraints. By explicitly listing the columns in your SQL\n",
      "INSERT statement, you gain more control of the operation and can more\n",
      "easily handle these specific use cases.\n",
      "\n",
      "The syntax for the SQL VALUES expression is fairly simple,\n",
      "\n",
      "```\n",
      "{\n",
      "    VALUES ( Value {, Value }* )\n",
      "        [ , ( Value {, Value }* ) ]* |\n",
      "    VALUES Value [ , Value ]*\n",
      " }\n",
      "```\n",
      "\n",
      "This syntax displays the multiple-row format first, followed by the\n",
      "single-row format (remember that the vertical line character, |, means\n",
      "or and that the asterisk character, \\*, means one or more). The value\n",
      "term stands for a value that you want to insert into a specific column.\n",
      "To insert data into multiple columns, you must enclose the data for a\n",
      "row in parentheses separated by commas.\n",
      "\n",
      "As shown below, to insert data into a table, you first need to to make\n",
      "sure that the table exists. If you haven't already done so, execute the\n",
      "table creation scripts discussed earlier.\n",
      "\n",
      "```\n",
      "INSERT INTO myProducts \n",
      "    VALUES(1, 19.95, '2015-03-31', 'Hooded sweatshirt') ;\n",
      "\n",
      "INSERT INTO myProducts(itemNumber, price, stockDate, description) \n",
      "    VALUES(2, 99.99, '2015-03-29', 'Beach umbrella') ;\n",
      "\n",
      "INSERT INTO myProducts(itemNumber, price, stockDate) \n",
      "    VALUES(3, 0.99, '2015-02-28') ;\n",
      "```\n",
      "\n",
      "This example presents three single-row inserts into the myProducts\n",
      "table. The first SQL INSERT statement doesn't provide a list of columns;\n",
      "it inserts an itemNumber, a price, a stockDate, and a description.\n",
      "Notice that the values inserted into both the stockDate and description\n",
      "columns are enclosed in single quote characters. The description column\n",
      "is a TEXT field, so it expects a string (which you indicate by enclosing\n",
      "the character data within single quotes). The stockDate column is also a\n",
      "TEXT field; as part of our application logic, we could pass in dates in\n",
      "the correct day, month, and year format. (For more guidance on the\n",
      "format of data types during a SQL INSERT operation, read the SQLite\n",
      "documentation).\n",
      "\n",
      "The second SQL INSERT statement explicitly lists all four columns and\n",
      "inserts new values appropriately. The final SQL INSERT statement lists\n",
      "only three columns and inserts only three values. The description column\n",
      "is left empty, which means it will have a NULL value.\n",
      "\n",
      "Although single-row SQL INSERT statements can be useful, when you need\n",
      "to insert multiple rows, it's more efficient to do so directly, as shown\n",
      "below:\n",
      "\n",
      "    INSERT INTO myProducts(itemNumber, price, stockDate, description)\n",
      "    VALUES (4, 29.95, '2015-02-10', 'Male bathing suit, blue'),\n",
      "           (5, 49.95, '2015-02-20', 'Female bathing suit, one piece, aqua'),\n",
      "           (6, 9.95, '2015-01-15', 'Child sand toy set'),\n",
      "           (7, 24.95, '2014-12-20', 'White beach towel'),\n",
      "           (8, 32.95, '2014-12-22', 'Blue-striped beach towel'),\n",
      "           (9, 12.95, '2015-03-12', 'Flip-flop'),\n",
      "           (10, 34.95, '2015-01-24', 'Open-toed sandal') ;\n",
      "\n",
      "In this example, we insert seven rows into the database by explicitly\n",
      "listing all four columns and providing new values for each row. As\n",
      "discussed earlier, multiple-row inserts enclose the values for each new\n",
      "row within parentheses, and these values are separated by commas. \n",
      "\n",
      "To actually execute these statements, we can place the SQL INSERT\n",
      "statements in a script file and run the script to insert the data. This\n",
      "approach lets you more easily fix errors or reinsert the data if\n",
      "necessary without recreating the requisite SQL INSERT statements. In the\n",
      "following code cells, we first create a SQL INSERT script file, before\n",
      "executing this script by using the `sqlite3` client tool. After this, we\n",
      "use the `.dump` command in the `sqlite3` client tool to display the full\n",
      "schema and contents of this SQLite database.\n",
      "\n",
      "-----"
     ]
    },
    {
     "cell_type": "code",
     "collapsed": false,
     "input": [
      "%%writefile insert.sql\n",
      "\n",
      "-- Single unnamed INSERT\n",
      "\n",
      "INSERT INTO myProducts \n",
      "VALUES(1, 19.95, '2015-03-31', 'Hooded sweatshirt') ;\n",
      "\n",
      "-- Single named INSERT\n",
      "\n",
      "INSERT INTO myProducts (itemNumber, price, stockDate, description) \n",
      "VALUES(2, 99.99, '2015-03-29', 'Beach umbrella') ;\n",
      "\n",
      "-- Single named INSERT with missing data\n",
      "\n",
      "INSERT INTO myProducts (itemNumber, price, stockDate) \n",
      "VALUES(3, 0.99, '2015-02-28') ;\n",
      "\n",
      "-- Multiple named INSERT\n",
      "\n",
      "INSERT INTO myProducts (itemNumber, price, stockDate, description)\n",
      "VALUES (4, 29.95, '2015-02-10', 'Male bathing suit, blue'),\n",
      "       (5, 49.95, '2015-02-20', 'Female bathing suit, one piece, aqua'),\n",
      "       (6, 9.95, '2015-01-15', 'Child sand toy set'),\n",
      "       (7, 24.95, '2014-12-20', 'White beach towel'),\n",
      "       (8, 32.95, '2014-12-22', 'Blue-striped beach towel'),\n",
      "       (9, 12.95, '2015-03-12', 'Flip-flop'),\n",
      "       (10, 34.95, '2015-01-24', 'Open-toed sandal') ;\n",
      "        \n",
      "-- Insert into myVendors\n",
      "\n",
      "INSERT INTO myVendors(itemNumber, vendorNumber, vendorName)\n",
      "VALUES (1, 1, 'Luna Vista Limited'),\n",
      "       (2, 1, 'Luna Vista Limited'),\n",
      "       (3, 1, 'Luna Vista Limited'),\n",
      "       (4, 2, 'Mikal Arroyo Incorporated'),\n",
      "       (5, 2, 'Mikal Arroyo Incorporated'),\n",
      "       (6, 1, 'Luna Vista Limited'),\n",
      "       (7, 1, 'Luna Vista Limited'),\n",
      "       (8, 1, 'Luna Vista Limited'),\n",
      "       (9, 3, 'Quiet Beach Industries'),\n",
      "       (10, 3, 'Quiet Beach Industries') ;"
     ],
     "language": "python",
     "metadata": {},
     "outputs": [
      {
       "output_type": "stream",
       "stream": "stdout",
       "text": [
        "Writing insert.sql\n"
       ]
      }
     ],
     "prompt_number": 5
    },
    {
     "cell_type": "code",
     "collapsed": false,
     "input": [
      "!head -10 insert.sql"
     ],
     "language": "python",
     "metadata": {},
     "outputs": [
      {
       "output_type": "stream",
       "stream": "stdout",
       "text": [
        "\r\n",
        "-- Single unnamed INSERT\r\n",
        "\r\n",
        "INSERT INTO myProducts \r\n",
        "VALUES(1, 19.95, '2015-03-31', 'Hooded sweatshirt') ;\r\n",
        "\r\n",
        "-- Single named INSERT\r\n",
        "\r\n",
        "INSERT INTO myProducts (itemNumber, price, stockDate, description) \r\n",
        "VALUES(2, 99.99, '2015-03-29', 'Beach umbrella') ;\r\n"
       ]
      }
     ],
     "prompt_number": 6
    },
    {
     "cell_type": "code",
     "collapsed": false,
     "input": [
      "!sqlite3 test < insert.sql"
     ],
     "language": "python",
     "metadata": {},
     "outputs": [],
     "prompt_number": 7
    },
    {
     "cell_type": "code",
     "collapsed": false,
     "input": [
      "!sqlite3 test \".dump\""
     ],
     "language": "python",
     "metadata": {},
     "outputs": [
      {
       "output_type": "stream",
       "stream": "stdout",
       "text": [
        "PRAGMA foreign_keys=OFF;\r\n",
        "BEGIN TRANSACTION;\r\n",
        "CREATE TABLE myVendors (\r\n",
        "    itemNumber INT NOT NULL,\r\n",
        "    vendornumber INT NOT NULL,\r\n",
        "    vendorName TEXT\r\n",
        ");\r\n",
        "INSERT INTO \"myVendors\" VALUES(1,1,'Luna Vista Limited');\r\n",
        "INSERT INTO \"myVendors\" VALUES(2,1,'Luna Vista Limited');\r\n",
        "INSERT INTO \"myVendors\" VALUES(3,1,'Luna Vista Limited');\r\n",
        "INSERT INTO \"myVendors\" VALUES(4,2,'Mikal Arroyo Incorporated');\r\n",
        "INSERT INTO \"myVendors\" VALUES(5,2,'Mikal Arroyo Incorporated');\r\n",
        "INSERT INTO \"myVendors\" VALUES(6,1,'Luna Vista Limited');\r\n",
        "INSERT INTO \"myVendors\" VALUES(7,1,'Luna Vista Limited');\r\n",
        "INSERT INTO \"myVendors\" VALUES(8,1,'Luna Vista Limited');\r\n",
        "INSERT INTO \"myVendors\" VALUES(9,3,'Quiet Beach Industries');\r\n",
        "INSERT INTO \"myVendors\" VALUES(10,3,'Quiet Beach Industries');\r\n",
        "CREATE TABLE myProducts (\r\n",
        "    itemNumber INT NOT NULL,\r\n",
        "    price REAL,\r\n",
        "    stockDate TEXT,\r\n",
        "    description TEXT\r\n",
        ");\r\n",
        "INSERT INTO \"myProducts\" VALUES(1,19.95,'2015-03-31','Hooded sweatshirt');\r\n",
        "INSERT INTO \"myProducts\" VALUES(2,99.99,'2015-03-29','Beach umbrella');\r\n",
        "INSERT INTO \"myProducts\" VALUES(3,0.99,'2015-02-28',NULL);\r\n",
        "INSERT INTO \"myProducts\" VALUES(4,29.95,'2015-02-10','Male bathing suit, blue');\r\n",
        "INSERT INTO \"myProducts\" VALUES(5,49.95,'2015-02-20','Female bathing suit, one piece, aqua');\r\n",
        "INSERT INTO \"myProducts\" VALUES(6,9.95,'2015-01-15','Child sand toy set');\r\n",
        "INSERT INTO \"myProducts\" VALUES(7,24.95,'2014-12-20','White beach towel');\r\n",
        "INSERT INTO \"myProducts\" VALUES(8,32.95,'2014-12-22','Blue-striped beach towel');\r\n",
        "INSERT INTO \"myProducts\" VALUES(9,12.95,'2015-03-12','Flip-flop');\r\n",
        "INSERT INTO \"myProducts\" VALUES(10,34.95,'2015-01-24','Open-toed sandal');\r\n",
        "COMMIT;\r\n"
       ]
      }
     ],
     "prompt_number": 8
    },
    {
     "cell_type": "markdown",
     "metadata": {},
     "source": [
      "### Transactions\n",
      "\n",
      "If you look carefully at the output of the `.dump` command, you see that\n",
      "near the top of the output is a `BEGIN TRANSACTION;` statement and at\n",
      "the end of the output is a `COMMIT;` statement. These two statements are\n",
      "explicit instructions, inserted by SQLite, to start a transaction, which\n",
      "is a logical unit of work, and save all operations in the transaction to\n",
      "the database. If a set of operations is not completed successfully, the\n",
      "transaction model requires that the commit does not occur, and instead a\n",
      "rollback is issued to return the database to the state that existed\n",
      "prior to the transaction commencing.\n",
      "\n",
      "-----"
     ]
    },
    {
     "cell_type": "markdown",
     "metadata": {},
     "source": [
      "### SELECT\n",
      "\n",
      "In the SQL programming language, the task of performing a query falls to\n",
      "the SELECT statement. To provide all the query functionality required by\n",
      "database applications, the SELECT statement's capabilities are\n",
      "extensive. Before looking at example SELECT statements, lets first look\n",
      "at the  formal syntax of SELECT, which, as shown below is actually\n",
      "simple. The basic format is `SELECT ... FROM ... WHERE;`, you select the\n",
      "columns of interest from rows in a table or tables where certain\n",
      "conditions are satisfied. Of course, things can become considerably more\n",
      "complex. This article covers the basic features of SELECT and defers the\n",
      "more advanced issues to subsequent articles.\n",
      "\n",
      "```\n",
      "SELECT [ DISTINCT | ALL ] SelectItem [ , SelectItem ]*\n",
      "FROM clause\n",
      "[ WHERE clause ]\n",
      "[ GROUP BY clause ]\n",
      "[ HAVING clause ]\n",
      "```\n",
      "\n",
      "From this you can see that a basic SELECT statement requires only a\n",
      "SELECT and a FROM; you must specify what data to select and indicate the\n",
      "location of the data of interest. Everything else is optional (as\n",
      "indicated by the square brackets). The DISTINCT and ALL keywords are\n",
      "optional qualifiers to indicate that either rows with unique values or\n",
      "all rows should be selected, respectively. By default, ALL is implicitly\n",
      "assumed, and you can use only one DISTINCT qualifier per SELECT\n",
      "statement.\n",
      "\n",
      "A SELECT statement can have multiple columns listed following the SELECT\n",
      "keyword. Multiple elements (or, more generally, column names) are\n",
      "separated by commas. For example, `SELECT a, b, c` selects the three\n",
      "columns a, b, and c. To select all columns from a table, you can use the\n",
      "asterisk character (\\*) as a shorthand for all columns. An important\n",
      "point to remember is that the result of any SELECT statement is a\n",
      "transient SQLite table, and you can use it in many of the same ways you\n",
      "use a more permanent table.\n",
      "\n",
      "The FROM component of a SELECT statement indicates from which table (or\n",
      "multiple tables) the data will be extracted. For now, we will focus on\n",
      "selecting data from a single table; latter we will cover table joins and\n",
      "selecting data from multiple tables. In this case, the fully qualified\n",
      "name of the table to query must follow the FROM keyword.\n",
      "\n",
      "The rest of the SELECT statement is optional. Before you build your\n",
      "first query, however, lets review the order in which the SELECT\n",
      "statement components are evaluated:\n",
      "\n",
      "1. FROM clause\n",
      "2. WHERE clause\n",
      "3. GROUP BY clause\n",
      "4. HAVING clause\n",
      "5. SELECT clause\n",
      "\n",
      "When you break down the process SQLite follows when processing a query,\n",
      "this order is intuitive. First you must locate the data to be analyzed,\n",
      "after which you filter out the rows of interest. The next steps are to\n",
      "group related rows and, finally, to select the actual columns of\n",
      "interest.\n",
      "\n",
      "### SQLite\n",
      "\n",
      "To demonstrate a SELECT statement, we can extract all the columns from\n",
      "the myProducts table by using the `sqlite3` tool and passing the SQL\n",
      "statement in as a command line argument.\n",
      "\n",
      "-----"
     ]
    },
    {
     "cell_type": "code",
     "collapsed": false,
     "input": [
      "!sqlite3 test \"SELECT * FROM myProducts ;\""
     ],
     "language": "python",
     "metadata": {},
     "outputs": [
      {
       "output_type": "stream",
       "stream": "stdout",
       "text": [
        "1|19.95|2015-03-31|Hooded sweatshirt\r\n",
        "2|99.99|2015-03-29|Beach umbrella\r\n",
        "3|0.99|2015-02-28|\r\n",
        "4|29.95|2015-02-10|Male bathing suit, blue\r\n",
        "5|49.95|2015-02-20|Female bathing suit, one piece, aqua\r\n",
        "6|9.95|2015-01-15|Child sand toy set\r\n",
        "7|24.95|2014-12-20|White beach towel\r\n",
        "8|32.95|2014-12-22|Blue-striped beach towel\r\n",
        "9|12.95|2015-03-12|Flip-flop\r\n",
        "10|34.95|2015-01-24|Open-toed sandal\r\n"
       ]
      }
     ],
     "prompt_number": 9
    },
    {
     "cell_type": "markdown",
     "metadata": {},
     "source": [
      "-----\n",
      "\n",
      "In the previous code cell, we used the asterisk character to select all\n",
      "columns from the myProducts table without listing them explicitly. This\n",
      "can be a useful shortcut, especially when you're developing database\n",
      "applications, but it isn't a recommended practice. By using the\n",
      "shortcut, you don't explicitly specify the database column names or\n",
      "their order. In a database application, if you always assume that the\n",
      "column names and their order in a table are fixed, you may end up with\n",
      "subtle bugs if someone else modifies the database tables on which your\n",
      "application depends. You should always explicitly name the database\n",
      "columns in your SELECT statements and list the order you require.\n",
      "\n",
      "As a result, lets look at explicitly listing the columns to extract.\n",
      "This is a recommended practice that also allows us to control the order\n",
      "in which the columns are listed in the query output.\n",
      "\n",
      "-----"
     ]
    },
    {
     "cell_type": "code",
     "collapsed": false,
     "input": [
      "!sqlite3 test \"SELECT price, itemNumber, description FROM myProducts ;\""
     ],
     "language": "python",
     "metadata": {},
     "outputs": [
      {
       "output_type": "stream",
       "stream": "stdout",
       "text": [
        "19.95|1|Hooded sweatshirt\r\n",
        "99.99|2|Beach umbrella\r\n",
        "0.99|3|\r\n",
        "29.95|4|Male bathing suit, blue\r\n",
        "49.95|5|Female bathing suit, one piece, aqua\r\n",
        "9.95|6|Child sand toy set\r\n",
        "24.95|7|White beach towel\r\n",
        "32.95|8|Blue-striped beach towel\r\n",
        "12.95|9|Flip-flop\r\n",
        "34.95|10|Open-toed sandal\r\n"
       ]
      }
     ],
     "prompt_number": 10
    },
    {
     "cell_type": "markdown",
     "metadata": {},
     "source": [
      "### WHERE clause\n",
      "\n",
      "Up to this point, you have only selected columns for all rows in a\n",
      "single table. This can be expensive in terms of query performance,\n",
      "especially if you only want a subset of the rows from a large table. A\n",
      "more efficient technique is to filter database rows by placing\n",
      "conditions in the WHERE clause, which is evaluated immediately after the\n",
      "tables are specified within the FROM clause. The rest of this section\n",
      "discusses some of the basic features that are enabled by using the WHERE\n",
      "clause, including the ability to select rows that satisfy Boolean\n",
      "conditions as well as join multiple tables to perform more complex\n",
      "queries.\n",
      "\n",
      "The simplest and most common use of the WHERE clause is to filter the\n",
      "rows from a table before selecting any columns, as shown in the next two\n",
      "code cells.\n",
      "\n",
      "-----"
     ]
    },
    {
     "cell_type": "code",
     "collapsed": false,
     "input": [
      "!sqlite3 test \"SELECT p.itemNumber, p.price FROM myProducts AS p WHERE p.price > 30.00 ;\""
     ],
     "language": "python",
     "metadata": {},
     "outputs": [
      {
       "output_type": "stream",
       "stream": "stdout",
       "text": [
        "2|99.99\r\n",
        "5|49.95\r\n",
        "8|32.95\r\n",
        "10|34.95\r\n"
       ]
      }
     ],
     "prompt_number": 11
    },
    {
     "cell_type": "code",
     "collapsed": false,
     "input": [
      "!sqlite3 test \"SELECT * FROM myProducts WHERE price > 30.00 AND stockDate < '2015-01-01' ;\""
     ],
     "language": "python",
     "metadata": {},
     "outputs": [
      {
       "output_type": "stream",
       "stream": "stdout",
       "text": [
        "8|32.95|2014-12-22|Blue-striped beach towel\r\n"
       ]
      }
     ],
     "prompt_number": 12
    },
    {
     "cell_type": "markdown",
     "metadata": {},
     "source": [
      "-----\n",
      "The first query shown in this example selects the `itemNumber` and\n",
      "`price` columns from the myProducts table for all rows where the price\n",
      "column has a value greater than `$30.00`. The second query extends this\n",
      "same query to select only those columns whose price column has a value\n",
      "more than `$30.00` and whose stockDate column has a value less than\n",
      "January 1, 2006. These two query restrictions are combined in this query\n",
      "by using the Boolean AND operator.\n",
      "\n",
      "You can perform a number of different Boolean operations within a WHERE\n",
      "clause. The following table lists and provides examples of the basic SQL Boolean\n",
      "operations that you can use in a query.\n",
      "\n",
      "| Operator | Example | Description |\n",
      "| ---- | ---- | ---- |\n",
      "| =\t| `p.price = 29.95` | Test if any built-in type is equal to a specified value. |\n",
      "|<\t| `p.price < 29.95` | Test if any built-in type is less than a specified value.|\n",
      "|>\t| `p.price > 29.95` | Test if any built-in type is greater than a specified value.|\n",
      "|<=\t| `p.price <= 29.95` | Test if any built-in type is less than or equal to a specified value.|\n",
      "|>=\t| `p.price >= 29.95` | Test if any built-in type is greater than or equal to a specified value.|\n",
      "|<>\t| `p.price <> 29.95` |Test if any built-in type is not equal to a specified value. |\n",
      "| IS NULL | `p.description IS NULL` | Test if an expression or value is null. |\n",
      "| IS NOT NULL | `p.description IS NOT NULL` | Test if an expression or value is not null.|\n",
      "| AND | `(p.price > 29.92) AND (p.itemNumber > 5)` | Test if two expressions are both true or evaluate as nonzero.\n",
      "| OR | `(p.price > 29.92) OR (p.itemNumber > 5)` | Test if one or both of two expressions are true or evaluate as nonzero.\n",
      "| NOT | `NOT v.vendorNumber = 1` | Test if an expression is false or evaluates as zero.\n",
      "| BETWEEN | `p.price BETWEEN 29.95 AND 39.95` | Test if a value lies inclusively between two other values (example is equivalent to `29.95 <= p.price <= 39.95`).\n",
      "| LIKE | `v.vendorName LIKE 'Lun%'` | Test if a character expression matches a pattern, with the percent character (%) matching zero or more arbitrary characters and the underscore character (\\_) matching exactly one arbitrary character.\n",
      "\n",
      "The first query above also introduces the AS clause, which you can use\n",
      "to create a table synonym. In these examples, you define a synonym p for\n",
      "the fully qualified table name myProducts. By defining a synonym,\n",
      "you can refer to table quantities by using a shorter notation. This may\n",
      "not seem important when only one table is being referenced in a query,\n",
      "but the next section shows how to join multiple tables together within a\n",
      "query; in that case, providing table synonyms is very useful. You can\n",
      "also use an AS clause to name the selected columns in a query. Doing so\n",
      "lets you control how the results are displayed, which is demonstrated in\n",
      "the next section.\n",
      "\n",
      "-----"
     ]
    },
    {
     "cell_type": "markdown",
     "metadata": {},
     "source": [
      "### Joins\n",
      "\n",
      "The second major function performed by a WHERE clause is to join\n",
      "multiple tables together into a single table that can be queried more\n",
      "easily. Joining multiple tables is a powerful technique, and it can be\n",
      "complex when you're dealing with several large tables. Tables can be\n",
      "joined either explicitly, by using the JOIN keyword, or implicitly, by\n",
      "using a WHERE clause.\n",
      "\n",
      "You join two tables by using an inner join or an outer join. An inner\n",
      "join is essentially the intersection of two tables, where the tables are\n",
      "matched by comparing the values of a key column, such as itemNumber. The\n",
      "resulting table is composed of only rows that were matched between the\n",
      "two tables. An outer join is more like a union of two tables, where the\n",
      "tables are matched by comparing the values of a key column, but\n",
      "non-matching rows are still included in the resulting table and filled\n",
      "with NULL values as appropriate. Writing SQL queries that use these more\n",
      "advanced table joins will be addressed in future articles.\n",
      "\n",
      "In the current simple scheme, the process is simple; In the next code\n",
      "cell, we perform an implicit inner join of the myProducts table and the\n",
      "myVendors table.\n",
      "\n",
      "-----"
     ]
    },
    {
     "cell_type": "code",
     "collapsed": false,
     "input": [
      "%%writefile select.sql\n",
      "\n",
      "SELECT p.price, p.description AS 'Item', v.vendorName AS 'Vendor' \n",
      "FROM myProducts AS p, myVendors AS v \n",
      "  WHERE p.itemNumber = v.itemNumber ;"
     ],
     "language": "python",
     "metadata": {},
     "outputs": [
      {
       "output_type": "stream",
       "stream": "stdout",
       "text": [
        "Writing select.sql\n"
       ]
      }
     ],
     "prompt_number": 13
    },
    {
     "cell_type": "code",
     "collapsed": false,
     "input": [
      "# Execute SQL Script\n",
      "\n",
      "!sqlite3 test < select.sql"
     ],
     "language": "python",
     "metadata": {},
     "outputs": [
      {
       "output_type": "stream",
       "stream": "stdout",
       "text": [
        "19.95|Hooded sweatshirt|Luna Vista Limited\r\n",
        "99.99|Beach umbrella|Luna Vista Limited\r\n",
        "0.99||Luna Vista Limited\r\n",
        "29.95|Male bathing suit, blue|Mikal Arroyo Incorporated\r\n",
        "49.95|Female bathing suit, one piece, aqua|Mikal Arroyo Incorporated\r\n",
        "9.95|Child sand toy set|Luna Vista Limited\r\n",
        "24.95|White beach towel|Luna Vista Limited\r\n",
        "32.95|Blue-striped beach towel|Luna Vista Limited\r\n",
        "12.95|Flip-flop|Quiet Beach Industries\r\n",
        "34.95|Open-toed sandal|Quiet Beach Industries\r\n"
       ]
      }
     ],
     "prompt_number": 14
    },
    {
     "cell_type": "markdown",
     "metadata": {},
     "source": [
      "-----\n",
      "\n",
      "This query may seem complex, due primarily to its length. But by\n",
      "breaking it down line by line you can easily follow what's happening.\n",
      "First, you select two columns from the myProducts table and one column\n",
      "from the myVendors table and use an AS clause to name these columns for\n",
      "subsequent usage (in this case they are displayed by the `sqlite3`\n",
      "client tool. Because the query joins these two tables (by using an\n",
      "implicit inner join), you can select columns from both tables. In the\n",
      "FROM clause, you list both tables and provide aliases for them to\n",
      "simplify the full SQL statement. In the WHERE clause, you provide the\n",
      "logic for joining the two tables, by explicitly instructing the SQLite\n",
      "database to only select rows from the two tables that have matching\n",
      "values in their respective itemNumber columns. In processing this query,\n",
      "SQLite first pulls all rows out of the first (left) table in the query\n",
      "(myProducts) and finds the row with a matching value in the itemNumber\n",
      "column in the second (right) table in the query (myVendors).\n",
      "\n",
      "-----"
     ]
    },
    {
     "cell_type": "markdown",
     "metadata": {},
     "source": [
      "### DISTINCT\n",
      "\n",
      "By default, when data is selected by using an SQL query, all rows that\n",
      "satisfy the WHERE clause are extracted from the database. In some cases,\n",
      "this may result in rows that have identical column values being\n",
      "returned. If you need to restrict your query so that only unique row\n",
      "values are returned, you can use the DISTINCT qualifier, as shown in the\n",
      "following two code cells.\n",
      "\n",
      "-----"
     ]
    },
    {
     "cell_type": "code",
     "collapsed": false,
     "input": [
      "!sqlite3 test \"SELECT DISTINCT vendorNumber AS 'Vendor #' FROM myVendors ;\""
     ],
     "language": "python",
     "metadata": {},
     "outputs": [
      {
       "output_type": "stream",
       "stream": "stdout",
       "text": [
        "1\r\n",
        "2\r\n",
        "3\r\n"
       ]
      }
     ],
     "prompt_number": 14
    },
    {
     "cell_type": "code",
     "collapsed": false,
     "input": [
      "!sqlite3 test \"SELECT DISTINCT vendorNumber AS 'Vendor #', itemNumber as 'Item #' FROM myVendors WHERE itemNumber > 5 ;\""
     ],
     "language": "python",
     "metadata": {},
     "outputs": [
      {
       "output_type": "stream",
       "stream": "stdout",
       "text": [
        "1|6\r\n",
        "1|7\r\n",
        "1|8\r\n",
        "3|9\r\n",
        "3|10\r\n"
       ]
      }
     ],
     "prompt_number": 15
    },
    {
     "cell_type": "markdown",
     "metadata": {},
     "source": [
      "----\n",
      "\n",
      "If you want to use the DISTINCT qualifier, it must be the first item\n",
      "listed in the SELECT clause, as shown in Listing 1, and you can have\n",
      "only one DISTINCT qualifier per SELECT clause. If the selected rows\n",
      "contain a column with NULL values, multiple NULL values are considered\n",
      "duplicates when identifying unique rows.\n",
      "\n",
      "The first query in this listing uses the DISTINCT qualifier to restrict\n",
      "the output of the query to only distinct, or unique, values of the\n",
      "vendorNumber column, which is the only column listed in the SELECT\n",
      "clause. In the example schema that these articles use, there are only\n",
      "three vendors (with vendorNumber being restricted to 1, 2, or 3). Thus,\n",
      "when the DISTINCT qualifier is used in the query, only three rows are\n",
      "selected.\n",
      "\n",
      "The DISTINCT qualifier, however, applies to the entire list of selected\n",
      "columns, so if multiple columns are listed following a DISTINCT keyword,\n",
      "only unique combinations of all the columns are selected. This is\n",
      "demonstrated in the second example, where both vendorNumber and\n",
      "itemNumber are listed in the SELECT clause. Because every item has a\n",
      "unique itemNumber, every combination of these two columns is unique, and\n",
      "all rows that satisfy the WHERE clause are selected; in other words, the\n",
      "DISTINCT qualifier has no effect on the results.\n",
      "\n",
      "One remaining point that you may have noticed from the two previous\n",
      "examples is that the selected rows were not in the same order. If the\n",
      "order of selected rows is important, you can easily control it by using\n",
      "an ORDER BY clause in your query.\n",
      "\n",
      "### ORDER BY\n",
      "\n",
      "In general, you can't assume that SQLite, or any database, will return\n",
      "rows from a query in a specific order. If the order is important, you\n",
      "can use the ORDER BY clause to have SQLite order the data that are\n",
      "returned by your query in a particular manner. Generally, you do so by\n",
      "specifying a column that should be used to provide the ordinal values\n",
      "for comparison as shown in the next two code cells.\n",
      "\n",
      "-----"
     ]
    },
    {
     "cell_type": "code",
     "collapsed": false,
     "input": [
      "%%writefile orderby.sql\n",
      "\n",
      "SELECT v.vendorNumber AS \"Vendor #\", vendorName as \"Vendor\",\n",
      "    p.price AS \"Price\", p.itemNumber AS \"Item #\"\n",
      "    FROM myProducts AS p, myVendors AS v\n",
      "    WHERE p.itemNumber = v.itemNumber AND p.price > 20.0\n",
      "    ORDER by v.vendorNumber ;\n",
      "     \n",
      "SELECT v.vendorNumber AS \"Vendor #\", vendorName as \"Vendor\",\n",
      "    p.price AS \"Price\", p.itemNumber AS \"Item #\"\n",
      "    FROM myProducts AS p, myVendors AS v\n",
      "    WHERE p.itemNumber = v.itemNumber AND p.price > 20.0\n",
      "    ORDER BY v.vendorNumber ASC, p.price DESC ;"
     ],
     "language": "python",
     "metadata": {},
     "outputs": [
      {
       "output_type": "stream",
       "stream": "stdout",
       "text": [
        "Overwriting orderby.sql\n"
       ]
      }
     ],
     "prompt_number": 16
    },
    {
     "cell_type": "code",
     "collapsed": false,
     "input": [
      "!sqlite3 test < orderby.sql"
     ],
     "language": "python",
     "metadata": {},
     "outputs": [
      {
       "output_type": "stream",
       "stream": "stdout",
       "text": [
        "1|Luna Vista Limited|99.99|2\r\n",
        "1|Luna Vista Limited|24.95|7\r\n",
        "1|Luna Vista Limited|32.95|8\r\n",
        "2|Mikal Arroyo Incorporated|29.95|4\r\n",
        "2|Mikal Arroyo Incorporated|49.95|5\r\n",
        "3|Quiet Beach Industries|34.95|10\r\n",
        "1|Luna Vista Limited|99.99|2\r\n",
        "1|Luna Vista Limited|32.95|8\r\n",
        "1|Luna Vista Limited|24.95|7\r\n",
        "2|Mikal Arroyo Incorporated|49.95|5\r\n",
        "2|Mikal Arroyo Incorporated|29.95|4\r\n",
        "3|Quiet Beach Industries|34.95|10\r\n"
       ]
      }
     ],
     "prompt_number": 17
    },
    {
     "cell_type": "markdown",
     "metadata": {},
     "source": [
      "-----\n",
      "\n",
      "In the previous example, the first query uses the ORDER BY clause to\n",
      "list a subset of all the rows in the table that results from joining the\n",
      "myVendors table to the myProducts table. The rows are ordered by\n",
      "vendorNumber (the subset is constructed by applying the WHERE clause).\n",
      "An ORDER BY clause can take either a column name, as in this example, or\n",
      "a column number, which is taken from the order in which the columns are\n",
      "listed after the SELECT keyword.\n",
      "\n",
      "You can also specify multiple columns to use during the sorting process\n",
      "and even specify ASC for ascending order, which is the default, or DESC\n",
      "for descending order. For example, if you used the ORDER BY 1 DESC, 4\n",
      "DESC clause in the first query, the query would return the same rows,\n",
      "but they would be ordered by using the vendorNumber column as the\n",
      "primary sort column in descending order followed by the itemNumber\n",
      "column as the secondary sort column in descending order.\n",
      "\n",
      "Although using column numbers may seem like a handy shortcut, it\n",
      "generally isn't a good idea. To see why, consider what happens if you\n",
      "modify the columns listed in a SELECT clause or just modify their order.\n",
      "If you forget to modify the numbers used in the ORDER BY clause, the\n",
      "query will break-or worse, return bad data. In general, it's a _best\n",
      "practice_ to always be explicit and specify the column names directly,\n",
      "even if doing so means more typing.\n",
      "\n",
      "### Query Math\n",
      "\n",
      "Selecting columns from a database provides a number of useful benefits,\n",
      "but being able to compute and select quantities based on data in a table\n",
      "opens up even more possibilities. SQLite,as does any SQL database,\n",
      "provides several mathematical operators, the most common of which are\n",
      "listed in the following table, that you can use in either a SELECT clause\n",
      "or a WHERE clause.\n",
      "\n",
      "|Operator | Example | Description |\n",
      "| --- | --- | ---- |\n",
      "| unary + | +1.0 | A noop, or no operation, as +4 = 4 |\n",
      "| unary - | -p.price | Changes the sign of the value to which it's applied |\n",
      "|+ | p.itemNumber + 10 | Adds the second value to the first value |\n",
      "| - | p.itemNumber - 10 | Subtracts the second value from the first value |\n",
      "| * | p.price * 1.0825 | Multiplies the first value by the second value |\n",
      "| / | p.price / 100.0 | Divides the first value by the second value |\n",
      "\n",
      "Using these operators is straightforward because they generally behave\n",
      "exactly as you expect. For example, if the sales tax is 8.25%, you can\n",
      "return the price for an item both before and after sales tax has been\n",
      "applied by using `SELECT price, price * 1.0825 FROM myProducts ;`. As\n",
      "another example, if you have a column called `numberItems` that tracks\n",
      "the number of items purchased and another column called `price` that\n",
      "contains the price at which they're purchased, you can return the total\n",
      "amount paid for those items at a given price by using \n",
      "`numberItems * price`. Several of the queries shown in this \n",
      "IPython Notebook provide additional examples of how to use these \n",
      "operators.\n",
      "\n",
      "The only concern when using these operators arises from complications\n",
      "that result from using different data types, such as integer or\n",
      "floating-point, in a mathematical operation. If both operands are the\n",
      "same data type, the result type will be the same. If you're performing\n",
      "division, this can result in truncation (for example, if you're using\n",
      "two integer values), which might cause unexpected problems. On the other\n",
      "hand, if the two operands are different data types, the result type is\n",
      "promoted to the more complex type.\n",
      "\n",
      "### SQL Functions\n",
      "\n",
      "SQL is a powerful and expressive language that can be used to perform a\n",
      "wide range of actions. Part of the SQL language's power comes from its\n",
      "ability to directly interact with a variety of data types. Some of the\n",
      "greatest power of a relational database arises from the inherent\n",
      "functions that it provides and from the extensibility enabled by\n",
      "allowing users to create new functions. SQLite provides functions (see\n",
      "the following [SQLite tutorial][1] for more information) in three\n",
      "different categories:\n",
      "\n",
      "1. [Core functions](https://www.sqlite.org/lang_corefunc.html)\n",
      "2. [Aggregate functions](https://www.sqlite.org/lang_aggfunc.html)\n",
      "3. [Date and Time functions](https://www.sqlite.org/lang_datefunc.html)\n",
      "\n",
      "Of these built-in functions, we will most likely use the aggregate\n",
      "functions, which operate on multiple rows. Aggregate functions-also\n",
      "known as set functions in SQL-92 or, more informally, as column\n",
      "functions-return a computed quantity from a column over a number of\n",
      "rows. SQLite supports the following five aggregate functions (a sixth\n",
      "function, `group_concat`, is not listed).\n",
      "\n",
      "| Function | Example | Description |\n",
      "| --- | --- | --- |\n",
      "| AVG | AVG(p.price) | Returns the average value of a column from all rows that satisfy an expression. Can only be used with built-in numeric data types. The precision of the returned value is defined by the precision of the column being evaluated. |\n",
      "| COUNT | COUNT(p.price) | Returns the number of rows that satisfy an expression, such as a query. Can be used with any data type. |\n",
      "| MAX | MAX(p.price) | Returns the maximum value of a column from all rows that satisfy an expression. Can only be used with built-in data types. |\n",
      "| MIN | MIN(p.price) | Returns the minimum value of a column from all rows that satisfy an expression. Can only be used with built-in data types. |\n",
      "| SUM | SUM(p.price) | Returns the sum of a column over all rows that satisfy an expression. Can only be used with built-in numeric data types. |\n",
      "\n",
      "These aggregate functions can often be used to quickly find useful\n",
      "information that might otherwise be difficult to identify, as shown in\n",
      "Listing 4.\n",
      "```\n",
      "SELECT COUNT(p.itemNumber) AS Number, \n",
      "        AVG(p.price) AS Average,\n",
      "        MIN(p.stockDate) AS \"First Date\", MAX(p.stockDate) AS \"Last Date\"\n",
      "    FROM myProducts AS p ;\n",
      "```\n",
      "Listing 4 uses four of the five aggregate functions to get summary\n",
      "information about the data in the myProducts table. The COUNT function\n",
      "indicates that the table includes ten rows (because the query didn't use\n",
      "a WHERE clause to restrict the rows selected from the table). The AVG\n",
      "function calculates the average price of all items in the myProducts\n",
      "table. Finally, the MIN and MAX functions extract the minimum and\n",
      "maximum dates from the myProducts table.\n",
      "\n",
      "-----\n",
      "[1]: http://zetcode.com/db/sqlite/sqlitefunctions/"
     ]
    },
    {
     "cell_type": "markdown",
     "metadata": {},
     "source": [
      "### DELETE\n",
      "\n",
      "To delete data in a SQLite database, you use the SQL DELETE statement,\n",
      "which can delete either all rows in a table or a specific subset of\n",
      "rows. The formal syntax for the SQL DELETE statement is remarkably\n",
      "simple:\n",
      "\n",
      "```\n",
      "DELETE FROM tableName\n",
      "    [WHERE clause]\n",
      "```\n",
      "\n",
      "The DELETE statement deletes all rows from the specified table that\n",
      "satisfy an optional WHERE clause. If no WHERE clause is included, all\n",
      "rows in the table are deleted. To demonstrate this use of the DELETE\n",
      "statement, we can create a temporary table, insert several rows, and\n",
      "delete them all.\n",
      "\n",
      "-----"
     ]
    },
    {
     "cell_type": "code",
     "collapsed": false,
     "input": [
      "%%writefile delete.sql\n",
      "\n",
      "-- First create the temporary table\n",
      "CREATE TABLE temp (aValue INT) ;\n",
      "\n",
      "-- Insert fake data\n",
      "INSERT INTO temp VALUES(0), (1), (2), (3) ;\n",
      "\n",
      "-- Count rows in the table\n",
      "SELECT COUNT(*) AS COUNT FROM temp ; \n",
      "\n",
      "-- Delete all rows\n",
      "DELETE FROM temp ;\n",
      "\n",
      "-- Count all rows in the table\n",
      "SELECT COUNT(*) AS COUNT FROM temp ; \n",
      "\n",
      "-- Now drop the temporary table\n",
      "\n",
      "DROP TABLE temp ;"
     ],
     "language": "python",
     "metadata": {},
     "outputs": [
      {
       "output_type": "stream",
       "stream": "stdout",
       "text": [
        "Writing delete.sql\n"
       ]
      }
     ],
     "prompt_number": 18
    },
    {
     "cell_type": "code",
     "collapsed": false,
     "input": [
      "!sqlite3 test < delete.sql"
     ],
     "language": "python",
     "metadata": {},
     "outputs": [
      {
       "output_type": "stream",
       "stream": "stdout",
       "text": [
        "4\r\n",
        "0\r\n"
       ]
      }
     ],
     "prompt_number": 19
    },
    {
     "cell_type": "markdown",
     "metadata": {},
     "source": [
      "-----\n",
      "\n",
      "The previous example created a single-column temporary table to hold a\n",
      "single integer value. Next we inserted four rows into the database and\n",
      "issued a SELECT statement to verify that the new table contained four\n",
      "rows. By using an unconstrained DELETE statement, we delete all four\n",
      "rows from the temporary table, which is verified by the second SELECT\n",
      "statement, which indicates that the temporary table contains zero rows.\n",
      "Finally, the DROP TABLE statement deletes the empty table from the\n",
      "schema.\n",
      "\n",
      "In general, however, you don't want to delete all rows from a table;\n",
      "instead, you'll selectively delete rows. To do this, you create an\n",
      "appropriate WHERE clause that identifies all rows of interest. The\n",
      "syntax for the WHERE clause that you can use with a DELETE statement is\n",
      "identical to that discussed previously when we presented the full SQL\n",
      "SELECT statement syntax. The basic building blocks for constructing a\n",
      "Boolean expression within a WHERE clause were presented in an earlier\n",
      "table. The following example demonstrates using a WHERE clause in a\n",
      "DELETE statement, where we delete all rows that satisfy at least one of\n",
      "two conditions.\n",
      "\n",
      "-----"
     ]
    },
    {
     "cell_type": "code",
     "collapsed": false,
     "input": [
      "%%writefile delete2.sql\n",
      "\n",
      "-- First display data\n",
      "SELECT itemNumber, description FROM myProducts ;\n",
      "\n",
      "-- Selectively delete rows\n",
      "DELETE FROM myProducts \n",
      "    WHERE description LIKE '%towel%' OR itemNumber <= 3 ;\n",
      "\n",
      "-- Confirm the proper deletion\n",
      "SELECT itemNumber, description FROM myProducts ;"
     ],
     "language": "python",
     "metadata": {},
     "outputs": [
      {
       "output_type": "stream",
       "stream": "stdout",
       "text": [
        "Writing delete2.sql\n"
       ]
      }
     ],
     "prompt_number": 18
    },
    {
     "cell_type": "code",
     "collapsed": false,
     "input": [
      "!sqlite3 test < delete2.sql"
     ],
     "language": "python",
     "metadata": {},
     "outputs": [
      {
       "output_type": "stream",
       "stream": "stdout",
       "text": [
        "1|Hooded sweatshirt\r\n",
        "2|Beach umbrella\r\n",
        "3|\r\n",
        "4|Male bathing suit, blue\r\n",
        "5|Female bathing suit, one piece, aqua\r\n",
        "6|Child sand toy set\r\n",
        "7|White beach towel\r\n",
        "8|Blue-striped beach towel\r\n",
        "9|Flip-flop\r\n",
        "10|Open-toed sandal\r\n",
        "4|Male bathing suit, blue\r\n",
        "5|Female bathing suit, one piece, aqua\r\n",
        "6|Child sand toy set\r\n",
        "9|Flip-flop\r\n",
        "10|Open-toed sandal\r\n"
       ]
      }
     ],
     "prompt_number": 19
    },
    {
     "cell_type": "markdown",
     "metadata": {},
     "source": [
      "-----\n",
      "\n",
      "In this example, the DELETE statement includes a WHERE clause that\n",
      "identifies five rows. The WHERE clause contains two expressions that are\n",
      "joined by the OR operator, which means that if either expression\n",
      "evaluates as TRUE for a specific row, that row will be deleted.\n",
      "\n",
      "The first expression finds all rows that contain the word \"towel\" in the\n",
      "product description. If you recall, there are two towels in the\n",
      "myProducts table, with itemNumber column values of 7 and 8. The other\n",
      "expression selects all rows with an itemNumber column value less than or\n",
      "equal to 3. The contents of the myProducts table are finally displayed\n",
      "with a simple SELECT statement, demonstrating that only five of the\n",
      "original ten rows remain in the table.\n",
      "\n",
      "Although this example doesn't explicitly demonstrate their use, you can\n",
      "also include the SQL functions to gain more control over the selection\n",
      "of rows for deletion. These same functions and other operators that can\n",
      "be used in the WHERE clause of the DELETE statement also can be used\n",
      "with the UPDATE statement to selectively modify the values of rows in a\n",
      "table, as described in the next section.\n",
      "\n",
      "### UPDATE\n",
      "\n",
      "The last SQL task for dealing with data that you need to address is\n",
      "updating specific column values for selected rows in a table. At some\n",
      "level, the SQL UPDATE statement is the union of the SQL INSERT and\n",
      "DELETE statements, because you must select rows to modify as well as\n",
      "specify how to modify them. Formally, the UPDATE statement syntax is\n",
      "straightforward, because you must specify the new column values for the\n",
      "set of rows to be updated:\n",
      "\n",
      "```\n",
      "UPDATE tableName\n",
      "    SET columnName = Value\n",
      "    [ , columnName = Value} ]*\n",
      "    [WHERE clause]\n",
      "```\n",
      "\n",
      "As shown in this SQL syntax, an SQL UPDATE statement must have, at a\n",
      "minimum, one SET component to update one column, along with one or more\n",
      "SET components and a WHERE clause, both of which are optional. If the\n",
      "WHERE clause isn't included, the UPDATE statement modifies the indicated\n",
      "columns for all rows in the table.\n",
      "\n",
      "Issuing an UPDATE statement is fairly easy, as shown in the following\n",
      "code example, where we modify two columns of a single row.\n",
      "\n",
      "-----"
     ]
    },
    {
     "cell_type": "code",
     "collapsed": false,
     "input": [
      "%%writefile update.sql\n",
      "\n",
      "-- Extract the test row\n",
      "SELECT itemNumber, price, stockDate FROM myProducts WHERE itemNumber = 6 ;\n",
      "\n",
      "-- Update the row\n",
      "UPDATE myProducts SET price = price * 1.25, stockDate = date('now')  WHERE itemNumber = 6 ;\n",
      "\n",
      "-- Show the new result\n",
      "SELECT itemNumber, price, stockDate FROM myProducts WHERE itemNumber = 6 ;"
     ],
     "language": "python",
     "metadata": {},
     "outputs": [
      {
       "output_type": "stream",
       "stream": "stdout",
       "text": [
        "Writing update.sql\n"
       ]
      }
     ],
     "prompt_number": 22
    },
    {
     "cell_type": "code",
     "collapsed": false,
     "input": [
      "!sqlite3 test < update.sql"
     ],
     "language": "python",
     "metadata": {},
     "outputs": [
      {
       "output_type": "stream",
       "stream": "stdout",
       "text": [
        "6|9.95|2015-01-15\r\n",
        "6|12.4375|2015-02-24\r\n"
       ]
      }
     ],
     "prompt_number": 23
    },
    {
     "cell_type": "markdown",
     "metadata": {},
     "source": [
      "-----\n",
      "\n",
      "This example wraps a single UPDATE statement with SELECT statements to\n",
      "demonstrate the change to the target row. The SELECT statements both\n",
      "select three columns from the myProducts table for a single row\n",
      "(the row with the value 6 in the itemNumber column). The UPDATE\n",
      "statement modifies both the price and the stockDate columns for this\n",
      "specific row. The value in the price column is increased by 25% (for\n",
      "example, perhaps due to the item's popularity), and the stockDate column\n",
      "is modified to hold the current date, which can be obtained easily with\n",
      "SQLite by using the built-in `date` function with an argument of `now`\n",
      "in an SQL query.\n",
      "\n",
      "The previous example demonstrated how to modify multiple column values\n",
      "for a specific row in a single table. However, sometimes the logic to\n",
      "select rows to update is more complex. For example, suppose you need to\n",
      "modify the price of all objects in the myProducts table that you obtain\n",
      "from Quiet Beach Industries, which has a value of 3 in the vendorNumber\n",
      "column in the myVendors table. To do this, you need to use an embedded\n",
      "query:\n",
      "\n",
      "-----"
     ]
    },
    {
     "cell_type": "code",
     "collapsed": false,
     "input": [
      "%%writefile update2.sql\n",
      "\n",
      "-- Update the table\n",
      "UPDATE myProducts\n",
      "    SET price = price * 1.10, description = 'NEW: ' || description\n",
      "    WHERE itemNumber IN \n",
      "        ( SELECT v.itemNumber \n",
      "          FROM myProducts as p, myVendors as v \n",
      "          WHERE p.itemNumber = v.itemNumber AND v.vendorNumber = 3 ) ;\n",
      "\n",
      "-- Show new results\n",
      "SELECT * FROM myProducts ;"
     ],
     "language": "python",
     "metadata": {},
     "outputs": [
      {
       "output_type": "stream",
       "stream": "stdout",
       "text": [
        "Writing update2.sql\n"
       ]
      }
     ],
     "prompt_number": 24
    },
    {
     "cell_type": "code",
     "collapsed": false,
     "input": [
      "!sqlite3 test < update2.sql"
     ],
     "language": "python",
     "metadata": {},
     "outputs": [
      {
       "output_type": "stream",
       "stream": "stdout",
       "text": [
        "4|29.95|2015-02-10|Male bathing suit, blue\r\n",
        "5|49.95|2015-02-20|Female bathing suit, one piece, aqua\r\n",
        "6|12.4375|2015-02-24|Child sand toy set\r\n",
        "9|14.245|2015-03-12|NEW: Flip-flop\r\n",
        "10|38.445|2015-01-24|NEW: Open-toed sandal\r\n"
       ]
      }
     ],
     "prompt_number": 25
    },
    {
     "cell_type": "markdown",
     "metadata": {},
     "source": [
      "-----\n",
      "\n",
      "In this example, the UPDATE statement modifies the price and description\n",
      "columns for all products that are obtained from the vendor with a value\n",
      "of 3 in the vendorNumber column in the myVendors table. Because you\n",
      "can't do a simple join within an UPDATE statement, you must include a\n",
      "subquery in the WHERE clause to extract the itemNumber rows that\n",
      "correspond to products from Quiet Beach Industries. The WHERE clause in\n",
      "the UPDATE statement uses the IN operator to select those rows that have\n",
      "an itemNumber column in the set of values selected by the embedded query.\n",
      "\n",
      "Two types of queries can be used in the WHERE clause of an UPDATE\n",
      "statement: a scalar subquery and a table subquery. A scalar subquery is\n",
      "an embedded query that returns a single row that contains a single\n",
      "column-essentially, a single value, which is known as a scalar. You can\n",
      "use a scalar subquery to select a specific value that will be used in\n",
      "the expression of the WHERE clause. For example, \n",
      "`itemNumber = (Scalar Subquery)` updates any rows that have a \n",
      "value in the itemNumber column that matches the result of the \n",
      "scalar subquery.\n",
      "\n",
      "A table subquery, on the other hand, can return multiple rows that\n",
      "generally only have one column. In certain instances, a table subquery\n",
      "can contain multiple columns. To use a table subquery, you need to use\n",
      "an SQL operator to combine the embedded query with a Boolean expression.\n",
      "For example, this was shown in the previous code listing, where the IN\n",
      "operator selected all rows from the myProducts table that were produced\n",
      "by Quiet Beach Industries. \n",
      "\n",
      "### ALTER TABLE\n",
      "\n",
      "The previous section discussed modifying the data that already exists in\n",
      "a table. The other possibility is modifying the structure, or schema, of\n",
      "a database table. This can take the form of adding a column, changing\n",
      "the data type for a column, adding a constraint, or even deleting a\n",
      "column. This process isn't easy, which is one reason to be careful when\n",
      "you initially design your schema. If you do need to modify the structure\n",
      "of a table, you should use a temporary table.\n",
      "\n",
      "-----"
     ]
    },
    {
     "cell_type": "code",
     "collapsed": false,
     "input": [
      "%%writefile rename.sql\n",
      "\n",
      "-- Create New table with extra column\n",
      "\n",
      "CREATE TABLE newProducts (\n",
      "    itemNumber INT NOT NULL,\n",
      "    price REAL,\n",
      "    stockDate TEXT,\n",
      "    count INT NOT NULL DEFAULT 0,\n",
      "    description TEXT\n",
      ") ;\n",
      "\n",
      "-- New copy old table into new table\n",
      "\n",
      "INSERT INTO newProducts(itemNumber, price, stockDate, description) \n",
      "    SELECT itemNumber, price, stockDate, description FROM myProducts ;\n",
      "\n",
      "-- Drop old table\n",
      "DROP TABLE myProducts ;\n",
      "\n",
      "-- Now Rename new table to old table name\n",
      "ALTER TABLE newProducts RENAME TO myProducts ;\n",
      "\n",
      "-- Show the results\n",
      "SELECT * FROM myProducts ;"
     ],
     "language": "python",
     "metadata": {},
     "outputs": [
      {
       "output_type": "stream",
       "stream": "stdout",
       "text": [
        "Writing rename.sql\n"
       ]
      }
     ],
     "prompt_number": 26
    },
    {
     "cell_type": "code",
     "collapsed": false,
     "input": [
      "# Execute SQL Script\n",
      "\n",
      "!sqlite3 test < rename.sql"
     ],
     "language": "python",
     "metadata": {},
     "outputs": [
      {
       "output_type": "stream",
       "stream": "stdout",
       "text": [
        "4|29.95|2015-02-10|0|Male bathing suit, blue\r\n",
        "5|49.95|2015-02-20|0|Female bathing suit, one piece, aqua\r\n",
        "6|12.4375|2015-02-24|0|Child sand toy set\r\n",
        "9|14.245|2015-03-12|0|NEW: Flip-flop\r\n",
        "10|38.445|2015-01-24|0|NEW: Open-toed sandal\r\n"
       ]
      }
     ],
     "prompt_number": 27
    },
    {
     "cell_type": "markdown",
     "metadata": {},
     "source": [
      "-----\n",
      "\n",
      "As this example shows, to modify a table-in this case, to add a new\n",
      "`count` column to the `myProducts` table-you first create a table that\n",
      "has the exact schema you require. This example requires that it always\n",
      "have a valid value by including the column constraint NOT NULL and\n",
      "assigns a default value of 0 to the count column by using the column\n",
      "constraint DEFAULT 0. Notice how you can combine multiple column\n",
      "constraints by listing them sequentially.\n",
      "\n",
      "The next step is to copy the existing data from the original table to\n",
      "the new table. You can do so by using an SQL INSERT statement that uses\n",
      "a subquery to get the values to insert. This is a powerful technique\n",
      "that lets you easily copy all or part of an existing table into a second\n",
      "table.\n",
      "\n",
      "After you've created the new table and copied the appropriate data, you\n",
      "drop the old table by using an SQL DROP TABLE statement and rename the\n",
      "new table to the original name by using an SQL RENAME TABLE statement.\n",
      "The rename operation is straightforward: Rename the oldTableName to the\n",
      "newTableName, but don't supply a schema name for the new table name\n",
      "because the RENAME operation can't move a table between different\n",
      "database schemas. This example concludes by issuing a SELECT statement\n",
      "to display the schema and contents of the new myProducts table. As\n",
      "you can see, the new table has five columns, and the count column is\n",
      "always zero. At this point, a real application would modify the count\n",
      "column appropriately by issuing the necessary SQL UPDATE statements.\n",
      "\n",
      "-----"
     ]
    },
    {
     "cell_type": "markdown",
     "metadata": {},
     "source": [
      "### CREATE INDEX\n",
      "\n",
      "Relational databases support the concept of an index to speed up\n",
      "queries. An index is often used when a particular column (or columns) is\n",
      "frequently involved in either a WHERE clause or a table join. The syntax\n",
      "for creating an index is rather simple:\n",
      "\n",
      "```\n",
      "CREATE [UNIQUE] INDEX idx_name ON table_name(column [column]*)\n",
      "[WHERE]\n",
      "```\n",
      "\n",
      "In this format, we create an index on one or more columns in a given\n",
      "table. If UNIQUE is present in the index creation, only non-duplicate\n",
      "entries are allowed in the index. The columns can also be followed by\n",
      "either ASC or DESC to indicate the column sort order for the index.\n",
      "Finally, if a WHERE clause is included the index is only a partial index\n",
      "since it does not cover the entire table.\n",
      "\n",
      "As an example, we can create an index on the myProducts table by using\n",
      "the itemNumber column:\n",
      "\n",
      "    CREATE INDEX itn ON myProducts(itemNumber) ;\n",
      "\n",
      "-----"
     ]
    },
    {
     "cell_type": "markdown",
     "metadata": {},
     "source": [
      "### Advanced Features\n",
      "\n",
      "Of course we have only scratched the surface of SQL, despite the length\n",
      "of this IPython Notebook. We have not discussed\n",
      "[views](https://www.sqlite.org/lang_createview.html), which effectively\n",
      "turns a SQL query into a new, read-only table, or\n",
      "[triggers](https://www.sqlite.org/lang_createtrigger.html), which are\n",
      "database operations that are automatically performed when a specific\n",
      "event occurs. \n",
      "\n",
      "Another useful feature that we will use in the third lesson is the LIMIT\n",
      "clause. We can use this to restrict the number of rows returned by a\n",
      "particular query. For example, `SELECT * FROM myProducts LIMIT 5 ;` will\n",
      "only return five rows.\n",
      "\n",
      "-----"
     ]
    },
    {
     "cell_type": "markdown",
     "metadata": {},
     "source": [
      "### Additional References\n",
      "\n",
      "Several sites exist that allow you to try out SQL commands online.\n",
      "\n",
      "1. [W3 Schools SQL][1], a general SQL demo site.\n",
      "2. [SQLZoo][2], allows you to specify the Relational Database to target.\n",
      "-----\n",
      "\n",
      "[1]: http://www.w3schools.com/SQL/\n",
      "[2]: http://sqlzoo.net/wiki/SELECT_basics"
     ]
    },
    {
     "cell_type": "markdown",
     "metadata": {},
     "source": [
      "### Return to the [Week 10 Index](index.ipynb).\n",
      "\n",
      "-----"
     ]
    }
   ],
   "metadata": {}
  }
 ]
}