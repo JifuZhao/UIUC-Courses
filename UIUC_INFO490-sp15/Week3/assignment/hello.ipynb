{
 "metadata": {
  "name": ""
 },
 "nbformat": 3,
 "nbformat_minor": 0,
 "worksheets": [
  {
   "cells": [
    {
     "cell_type": "heading",
     "level": 2,
     "metadata": {},
     "source": [
      "Problem 3.1. The obligatory \"hello world\" problem."
     ]
    },
    {
     "cell_type": "markdown",
     "metadata": {},
     "source": [
      "Write a very simple program that asks the user to enter his or her name,\n",
      " and prints out a welcome message that is customized to the user's name.\n",
      " For example, the program should wait for the user's input after printing out\n",
      "```console\n",
      "Enter your name: \n",
      "```\n",
      "When you enter your name,\n",
      "```console\n",
      "Enter your name: world\n",
      "```\n",
      "the output on the next line should be\n",
      "```console\n",
      "Hello, world!\n",
      "```"
     ]
    },
    {
     "cell_type": "markdown",
     "metadata": {},
     "source": [
      "First, define a function named `welcome()`."
     ]
    },
    {
     "cell_type": "code",
     "collapsed": false,
     "input": [
      "def welcome():\n",
      "    '''\n",
      "    Ask user for name and print a welcome message customized to the person's name.\n",
      "    \n",
      "    Examples:\n",
      "    >>> welcome()\n",
      "    Enter your name: World\n",
      "    Hello, World!\n",
      "    '''\n",
      "    \n",
      "    # your code goes here.\n",
      "    \n",
      "    return None"
     ],
     "language": "python",
     "metadata": {},
     "outputs": [],
     "prompt_number": 1
    },
    {
     "cell_type": "markdown",
     "metadata": {},
     "source": [
      "If you have finished writing the function `welcome()`, run the cell below to check your answer."
     ]
    },
    {
     "cell_type": "code",
     "collapsed": false,
     "input": [
      "welcome()"
     ],
     "language": "python",
     "metadata": {},
     "outputs": [],
     "prompt_number": 2
    },
    {
     "cell_type": "code",
     "collapsed": false,
     "input": [],
     "language": "python",
     "metadata": {},
     "outputs": [],
     "prompt_number": 2
    }
   ],
   "metadata": {}
  }
 ]
}