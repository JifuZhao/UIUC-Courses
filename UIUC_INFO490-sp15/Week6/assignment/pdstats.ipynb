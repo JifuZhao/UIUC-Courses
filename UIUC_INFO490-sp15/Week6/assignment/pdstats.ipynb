{
 "metadata": {
  "name": "",
  "signature": "sha256:5e96576dcd0cbd9122814de36bb1b103e37725bc937c777ad41ef5be46fcfeca"
 },
 "nbformat": 3,
 "nbformat_minor": 0,
 "worksheets": [
  {
   "cells": [
    {
     "cell_type": "markdown",
     "metadata": {},
     "source": [
      "## Problem 6.1. Simple Statistics Using Pandas.\n",
      "\n",
      "In the previous weeks, we have seen different ways to read selected columns from the census CSV file\n",
      "  and calculate basic statistics. In this problem, we will see how easy it is to perform the same task\n",
      "  using Pandas. In particular, we will rewrite `get_stats()` function from\n",
      "  [Problem 4.1](https://github.com/INFO490/spring2015/blob/master/week04/p1.md)\n",
      "  and `get_column()` function from\n",
      "  [Problem 4.2](https://github.com/INFO490/spring2015/blob/master/week04/p2.md).\n",
      "  Remember, the purpose of this problem is to let you experience how easy it is to make\n",
      "  a data table using Pandas. Don't overthink it."
     ]
    },
    {
     "cell_type": "code",
     "collapsed": false,
     "input": [
      "import pandas as pd"
     ],
     "language": "python",
     "metadata": {},
     "outputs": []
    },
    {
     "cell_type": "markdown",
     "metadata": {},
     "source": [
      "First, write a function named `get_column()` that takes a filename (string) and a column name (string),\n",
      "  and returns a `pandas.DataFrame`. Remember that `encoding='latin-1'`.\n",
      "\n",
      "Another useful tip: if you try\n",
      "  to read the entire file, it will take a long time. Read in only one column by specifying the column\n",
      "  you wish to read with the\n",
      "  [`usecols`](http://pandas.pydata.org/pandas-docs/stable/io.html#io-read-csv-table) option.\n",
      "  Therefore, the `get_column` function should return a DataFrame with only **one** column.\n",
      "\n",
      "With Pandas, the `get_column()` function can be written in one line."
     ]
    },
    {
     "cell_type": "code",
     "collapsed": false,
     "input": [
      "def get_column(filename, column):\n",
      "    '''\n",
      "    Reads the specified column of airline on-time performance CSV file,\n",
      "    which is in 'latin-1' encoding.\n",
      "    Returns a Pandas DataFrame with only one column.\n",
      "    \n",
      "    Parameters\n",
      "    ----------\n",
      "    filename(str): The file name.\n",
      "    column(str): The column header.\n",
      "    \n",
      "    Returns\n",
      "    -------\n",
      "    A pandas.DataFrame object that has only column.\n",
      "    \n",
      "    Examples\n",
      "    --------\n",
      "    arr_delay = get_column('/data/airline/2001.csv', 'ArrDelay')\n",
      "    '''\n",
      "    \n",
      "    # your code goes here\n",
      "    \n",
      "    return df"
     ],
     "language": "python",
     "metadata": {},
     "outputs": []
    },
    {
     "cell_type": "markdown",
     "metadata": {},
     "source": [
      "Next, write a function named `get_stats()` that takes a `pandas.DataFrame` and a column name (string),\n",
      "  and return the minimum, maximum, mean, and median (all floats) of the column."
     ]
    },
    {
     "cell_type": "code",
     "collapsed": false,
     "input": [
      "def get_stats(df, column):\n",
      "    '''\n",
      "    Calculates the mininum, maximum, mean, and median values\n",
      "    of a column from a Pandas DataFrame object.\n",
      "    \n",
      "    Parameters\n",
      "    ----------\n",
      "    df(pandas.DataFrame): A Pandas DataFrame.\n",
      "    column(str): The column header.\n",
      "    \n",
      "    Returns\n",
      "    -------\n",
      "    minimum(float)\n",
      "    maximum(float)\n",
      "    mean(float)\n",
      "    median(float)\n",
      "    '''\n",
      "    \n",
      "    # your code goes here\n",
      "    \n",
      "    return minimum, maximum, mean, median"
     ],
     "language": "python",
     "metadata": {},
     "outputs": []
    },
    {
     "cell_type": "markdown",
     "metadata": {},
     "source": [
      "We will use the same function from\n",
      "  [Problem 4.1](https://github.com/INFO490/spring2015/blob/master/week04/p1.md)\n",
      "  to print out the statistics in a nicley formatted manner."
     ]
    },
    {
     "cell_type": "code",
     "collapsed": false,
     "input": [
      "def print_stats(df, column, title=None):\n",
      "    '''\n",
      "    Computes minimum, maximum, mean, and median using get_stats function from\n",
      "      pdstats module, and prints them out in a nice format.\n",
      "\n",
      "    Parameters:\n",
      "      df(pandas.DataFrame): a Pandas DataFrame\n",
      "      column(str): The column header.\n",
      "      title(str): Optional. If given, title is printed out before the stats.\n",
      "    '''\n",
      "    if title is not None:\n",
      "        print(title)\n",
      "        \n",
      "    minimum, maximum, mean, median = get_stats(df, column)\n",
      "    print('Minimum: {0:.0f}\\n'\n",
      "          'Maximum: {1:.0f}\\n'\n",
      "          'Mean: {2:.2f}\\n'\n",
      "          'Median: {3:.2f}'.format(minimum, maximum, mean, median))\n",
      "    return None"
     ],
     "language": "python",
     "metadata": {},
     "outputs": []
    },
    {
     "cell_type": "markdown",
     "metadata": {},
     "source": [
      "When you run the following cell, you should get\n",
      "\n",
      "    Arrival delay, in minutes.\n",
      "    Minimum: -1116\n",
      "    Maximum: 1688\n",
      "    Mean: 5.53\n",
      "    Median: -2.00"
     ]
    },
    {
     "cell_type": "code",
     "collapsed": false,
     "input": [
      "arr_delay = get_column('/data/airline/2001.csv', 'ArrDelay')\n",
      "print_stats(arr_delay, 'ArrDelay', 'Arrival delay, in minutes.')"
     ],
     "language": "python",
     "metadata": {},
     "outputs": []
    },
    {
     "cell_type": "markdown",
     "metadata": {},
     "source": [
      "When you run the following cell, you should get\n",
      "\n",
      "    Departure delay, in minutes.\n",
      "    Minimum: -204\n",
      "    Maximum: 1692\n",
      "    Mean: 8.15\n",
      "    Median: 0.00"
     ]
    },
    {
     "cell_type": "code",
     "collapsed": false,
     "input": [
      "dep_delay = get_column('/data/airline/2001.csv', 'DepDelay')\n",
      "print_stats(dep_delay, 'DepDelay', 'Departure delay, in minutes.')"
     ],
     "language": "python",
     "metadata": {},
     "outputs": []
    },
    {
     "cell_type": "markdown",
     "metadata": {},
     "source": [
      "When you run the following cell, you should get\n",
      "\n",
      "    Distance, in miles.\n",
      "    Minimum: 21\n",
      "    Maximum: 4962\n",
      "    Mean: 733.03\n",
      "    Median: 571.00"
     ]
    },
    {
     "cell_type": "code",
     "collapsed": false,
     "input": [
      "distance = get_column('/data/airline/2001.csv', 'Distance')\n",
      "print_stats(distance, 'Distance', 'Distance, in miles.')"
     ],
     "language": "python",
     "metadata": {},
     "outputs": []
    },
    {
     "cell_type": "markdown",
     "metadata": {},
     "source": [
      "When you are done, run the following cell, which produces `pdstats.py`.\n",
      "Rename and submit this `.py` file along with your `.ipynb` file."
     ]
    },
    {
     "cell_type": "code",
     "collapsed": false,
     "input": [
      "%%bash\n",
      "ipython3 nbconvert --to python pdstats.ipynb"
     ],
     "language": "python",
     "metadata": {},
     "outputs": []
    },
    {
     "cell_type": "code",
     "collapsed": false,
     "input": [],
     "language": "python",
     "metadata": {},
     "outputs": []
    }
   ],
   "metadata": {}
  }
 ]
}